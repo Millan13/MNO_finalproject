{
 "cells": [
  {
   "cell_type": "markdown",
   "metadata": {
    "colab_type": "text",
    "id": "t3Nmb5isbvMF"
   },
   "source": [
    "# Solver de Markowitz\n",
    "\n",
    "**Responsable:**\n",
    "César Zamora Martínez\n",
    "\n",
    "**Infraestructura usada:** Google Colab, para pruebas\n",
    "0. Importamos librerias necesarias\n",
    "\n",
    "**Fuente:*** código desarrollada en etapas previas\n",
    "\n",
    "# Objetivo:\n",
    "\n",
    "Implementar un solver que permite dar solución al problema de minimización de riesgo en el áreas de finanzas del siguiente tenor: \n",
    "\n",
    "* 1. Para un retorno $r$ esperado por un inversionista sobre un portafolio de activos, con un vector $mu$ de rendimiento promedio de cada uno de tales activos en cierto periodo histórico\n",
    "2. Encontrar los pesos $w$ asociados a los activos del portafolio, que permitan obtener el portafolio con el retorno $r$ y a su vez con mínima varianza.\n",
    "\n",
    "En términos matemáticos ello equivale a resolver \n",
    "\n",
    "$$\\min_{w}  \\frac{1}{2} w^t \\Sigma w$$\n",
    "\n",
    "tal que \n",
    "\n",
    "$$ w^t \\mu= r$$\n",
    "\n",
    "$$ w^t 1_{m}= 1$$\n",
    "\n",
    "En donde $\\Sigma$ es la matriz de covarianzas asociadas a los rendimientos de los activos en el periodo de interés.\n",
    "\n",
    "Cabe destacar que el procedimiento descrito se basa en las siguientes premisas:\n",
    "\n",
    "* Se hace uso de la herramienta *Cupy* de Python para aprovechar el hardware GPU de los equipos disponibles,\n",
    "* Aprovechar que el problema planteado tiene una solución cerrada empleando la expresión de los puntos críticos del Lagrangiano asociado a este problema (para mayor detalle, por favor véase el *Readme.md* del proyecto\n",
    "* Los datos de portafolios se tomarán del framework de Python existente para *Yahoo Finance*\n"
   ]
  },
  {
   "cell_type": "markdown",
   "metadata": {
    "colab_type": "text",
    "id": "QYLbLJ-ZgAl_"
   },
   "source": [
    "# 0. Importamos librerias necesarias"
   ]
  },
  {
   "cell_type": "code",
   "execution_count": 2,
   "metadata": {
    "colab": {
     "base_uri": "https://localhost:8080/",
     "height": 49
    },
    "colab_type": "code",
    "id": "8aKfh0BOWM5P",
    "outputId": "a26d8b05-c0b4-415a-8058-120484c5ce29"
   },
   "outputs": [
    {
     "name": "stderr",
     "output_type": "stream",
     "text": [
      "/usr/local/lib/python3.6/dist-packages/statsmodels/tools/_testing.py:19: FutureWarning: pandas.util.testing is deprecated. Use the functions in the public API at pandas.testing instead.\n",
      "  import pandas.util.testing as tm\n"
     ]
    }
   ],
   "source": [
    "import cupy as cp\n",
    "import numpy as np\n",
    "import pandas as pd\n",
    "import yfinance as yf\n",
    "import datetime\n",
    "import matplotlib.pyplot as plt\n",
    "import seaborn as sns\n",
    "import time"
   ]
  },
  {
   "cell_type": "markdown",
   "metadata": {
    "colab_type": "text",
    "id": "tUxGRk7JhQU4"
   },
   "source": [
    "# 1. Portafolios a emplear\n",
    "\n",
    "A continuación creamos un arreglo con abreviaturas de los portafolios a probar en esta implementación, las abreviaturas corresponden a los nombres con que en el framework de Python para Yahoo Finance se identifican a los activos de nuestro interés:"
   ]
  },
  {
   "cell_type": "code",
   "execution_count": 0,
   "metadata": {
    "colab": {},
    "colab_type": "code",
    "id": "KaCF-TxqSMKa"
   },
   "outputs": [],
   "source": [
    "stocks = ['COP','AMT','LIN','LMT','AMZN','WMT','JNJ','VTI','MSFT','GOOG','XOM','CCI','BHP.AX','UNP',\n",
    "'BABA','NSRGY','RHHBY','VOO','AAPL','FB','CVX','PLD','RIO.L','HON','HD','PG','UNH','BRK-A','V','0700.HK',\n",
    "'RDSA.AS','0688.HK','AI.PA','RTX','MC.PA','KO','PFE','JPM','005930.KS','VZ','RELIANCE.NS','DLR','2010.SR',\n",
    "'UPS','7203.T','PEP','MRK','1398.HK','MA','T']"
   ]
  },
  {
   "cell_type": "code",
   "execution_count": 0,
   "metadata": {
    "colab": {},
    "colab_type": "code",
    "id": "WsKa6VmZSMMt"
   },
   "outputs": [],
   "source": [
    "def extraer_datos_yahoo(stocks, start='2015-01-01', end='2020-04-30'):\n",
    "    '''\n",
    "    Descarga la información de precios de acciones al cierre para un periodo determinado\n",
    "    Inputs:\n",
    "        stocks - lista de acciones a descargar, las 50 especificadas previamente\n",
    "        'COP','AMT','LIN','LMT','AMZN','WMT','JNJ','VTI','MSFT','GOOG','XOM','CCI','BHP.AX','UNP',\n",
    "        'BABA','NSRGY','RHHBY','VOO','AAPL','FB','CVX','PLD','RIO.L','HON','HD','PG','UNH','BRK-A','V','0700.HK',\n",
    "        'RDSA.AS','0688.HK','AI.PA','RTX','MC.PA','KO','PFE','JPM','005930.KS','VZ','RELIANCE.NS','DLR','2010.SR',\n",
    "        'UPS','7203.T','PEP','MRK','1398.HK','MA','T'\n",
    "        start - fecha inicio a partir de la cual se requieren los precios de las acciones, formato 'YYYY-MM-DD'\n",
    "        end - fecha final hasta donde se requieren los precios de las acciones, formato 'YYYY-MM-DD'\n",
    "    Output:\n",
    "        datos - dataframe con 50 columnas, una por acción, tantos renglones como días hábiles del periodo\n",
    "        solicitado (1340 en el caso de las fechas default), cada celda es el precio de una acción al cierre, \n",
    "        de un día específico\n",
    "    '''\n",
    "    df_c = yf.download(stocks, start, end).Close\n",
    "    base = df_c['AAPL'].dropna().to_frame()\n",
    "    for i in range(0,50):\n",
    "        base = base.join(df_c.iloc[:,i].to_frame(), lsuffix='_caller', rsuffix='_other')\n",
    "    base = base.drop(columns=['AAPL_caller'])\n",
    "    base = base.rename(columns={\"AAPL_other\": \"AAPL\"})\n",
    "    base = base.fillna(method='ffill')\n",
    "    base = base.fillna(method='bfill')\n",
    "    return base"
   ]
  },
  {
   "cell_type": "code",
   "execution_count": 6,
   "metadata": {
    "colab": {
     "base_uri": "https://localhost:8080/",
     "height": 32
    },
    "colab_type": "code",
    "id": "UCbwccJfSMOw",
    "outputId": "a28d0486-25e5-452d-f28d-68e7c5dd8f25"
   },
   "outputs": [
    {
     "name": "stdout",
     "output_type": "stream",
     "text": [
      "[*********************100%***********************]  50 of 50 downloaded\n"
     ]
    }
   ],
   "source": [
    "datos = extraer_datos_yahoo(stocks)"
   ]
  },
  {
   "cell_type": "markdown",
   "metadata": {
    "colab_type": "text",
    "id": "OHhBF3vvin1C"
   },
   "source": [
    "Ahora examinamos los datos recién descargados:"
   ]
  },
  {
   "cell_type": "code",
   "execution_count": 7,
   "metadata": {
    "colab": {
     "base_uri": "https://localhost:8080/",
     "height": 627
    },
    "colab_type": "code",
    "id": "CMh8fmQaSMQ0",
    "outputId": "ac2c110f-3913-48ae-e4ff-a73ebbf93428"
   },
   "outputs": [
    {
     "data": {
      "text/html": [
       "<div>\n",
       "<style scoped>\n",
       "    .dataframe tbody tr th:only-of-type {\n",
       "        vertical-align: middle;\n",
       "    }\n",
       "\n",
       "    .dataframe tbody tr th {\n",
       "        vertical-align: top;\n",
       "    }\n",
       "\n",
       "    .dataframe thead th {\n",
       "        text-align: right;\n",
       "    }\n",
       "</style>\n",
       "<table border=\"1\" class=\"dataframe\">\n",
       "  <thead>\n",
       "    <tr style=\"text-align: right;\">\n",
       "      <th></th>\n",
       "      <th>005930.KS</th>\n",
       "      <th>0688.HK</th>\n",
       "      <th>0700.HK</th>\n",
       "      <th>1398.HK</th>\n",
       "      <th>2010.SR</th>\n",
       "      <th>7203.T</th>\n",
       "      <th>AAPL</th>\n",
       "      <th>AI.PA</th>\n",
       "      <th>AMT</th>\n",
       "      <th>AMZN</th>\n",
       "      <th>BABA</th>\n",
       "      <th>BHP.AX</th>\n",
       "      <th>BRK-A</th>\n",
       "      <th>CCI</th>\n",
       "      <th>COP</th>\n",
       "      <th>CVX</th>\n",
       "      <th>DLR</th>\n",
       "      <th>FB</th>\n",
       "      <th>GOOG</th>\n",
       "      <th>HD</th>\n",
       "      <th>HON</th>\n",
       "      <th>JNJ</th>\n",
       "      <th>JPM</th>\n",
       "      <th>KO</th>\n",
       "      <th>LIN</th>\n",
       "      <th>LMT</th>\n",
       "      <th>MA</th>\n",
       "      <th>MC.PA</th>\n",
       "      <th>MRK</th>\n",
       "      <th>MSFT</th>\n",
       "      <th>NSRGY</th>\n",
       "      <th>PEP</th>\n",
       "      <th>PFE</th>\n",
       "      <th>PG</th>\n",
       "      <th>PLD</th>\n",
       "      <th>RDSA.AS</th>\n",
       "      <th>RELIANCE.NS</th>\n",
       "      <th>RHHBY</th>\n",
       "      <th>RIO.L</th>\n",
       "      <th>RTX</th>\n",
       "      <th>T</th>\n",
       "      <th>UNH</th>\n",
       "      <th>UNP</th>\n",
       "      <th>UPS</th>\n",
       "      <th>V</th>\n",
       "      <th>VOO</th>\n",
       "      <th>VTI</th>\n",
       "      <th>VZ</th>\n",
       "      <th>WMT</th>\n",
       "      <th>XOM</th>\n",
       "    </tr>\n",
       "    <tr>\n",
       "      <th>Date</th>\n",
       "      <th></th>\n",
       "      <th></th>\n",
       "      <th></th>\n",
       "      <th></th>\n",
       "      <th></th>\n",
       "      <th></th>\n",
       "      <th></th>\n",
       "      <th></th>\n",
       "      <th></th>\n",
       "      <th></th>\n",
       "      <th></th>\n",
       "      <th></th>\n",
       "      <th></th>\n",
       "      <th></th>\n",
       "      <th></th>\n",
       "      <th></th>\n",
       "      <th></th>\n",
       "      <th></th>\n",
       "      <th></th>\n",
       "      <th></th>\n",
       "      <th></th>\n",
       "      <th></th>\n",
       "      <th></th>\n",
       "      <th></th>\n",
       "      <th></th>\n",
       "      <th></th>\n",
       "      <th></th>\n",
       "      <th></th>\n",
       "      <th></th>\n",
       "      <th></th>\n",
       "      <th></th>\n",
       "      <th></th>\n",
       "      <th></th>\n",
       "      <th></th>\n",
       "      <th></th>\n",
       "      <th></th>\n",
       "      <th></th>\n",
       "      <th></th>\n",
       "      <th></th>\n",
       "      <th></th>\n",
       "      <th></th>\n",
       "      <th></th>\n",
       "      <th></th>\n",
       "      <th></th>\n",
       "      <th></th>\n",
       "      <th></th>\n",
       "      <th></th>\n",
       "      <th></th>\n",
       "      <th></th>\n",
       "      <th></th>\n",
       "    </tr>\n",
       "  </thead>\n",
       "  <tbody>\n",
       "    <tr>\n",
       "      <th>2015-01-02</th>\n",
       "      <td>26600.0</td>\n",
       "      <td>24.704800</td>\n",
       "      <td>112.800003</td>\n",
       "      <td>5.77</td>\n",
       "      <td>79.500000</td>\n",
       "      <td>7507.0</td>\n",
       "      <td>109.330002</td>\n",
       "      <td>89.786400</td>\n",
       "      <td>99.669998</td>\n",
       "      <td>308.519989</td>\n",
       "      <td>103.599998</td>\n",
       "      <td>27.603399</td>\n",
       "      <td>223600.0</td>\n",
       "      <td>79.510002</td>\n",
       "      <td>68.919998</td>\n",
       "      <td>112.580002</td>\n",
       "      <td>66.410004</td>\n",
       "      <td>78.449997</td>\n",
       "      <td>523.373108</td>\n",
       "      <td>103.430000</td>\n",
       "      <td>95.556229</td>\n",
       "      <td>104.519997</td>\n",
       "      <td>62.490002</td>\n",
       "      <td>42.139999</td>\n",
       "      <td>129.949997</td>\n",
       "      <td>193.309998</td>\n",
       "      <td>85.680000</td>\n",
       "      <td>130.850006</td>\n",
       "      <td>57.189999</td>\n",
       "      <td>46.759998</td>\n",
       "      <td>72.650002</td>\n",
       "      <td>94.440002</td>\n",
       "      <td>31.330000</td>\n",
       "      <td>90.440002</td>\n",
       "      <td>43.430000</td>\n",
       "      <td>27.750000</td>\n",
       "      <td>442.774994</td>\n",
       "      <td>33.910000</td>\n",
       "      <td>2970.0</td>\n",
       "      <td>72.397736</td>\n",
       "      <td>33.869999</td>\n",
       "      <td>100.779999</td>\n",
       "      <td>118.610001</td>\n",
       "      <td>110.379997</td>\n",
       "      <td>66.254997</td>\n",
       "      <td>188.399994</td>\n",
       "      <td>105.919998</td>\n",
       "      <td>46.959999</td>\n",
       "      <td>85.900002</td>\n",
       "      <td>92.830002</td>\n",
       "    </tr>\n",
       "    <tr>\n",
       "      <th>2015-01-05</th>\n",
       "      <td>26660.0</td>\n",
       "      <td>24.951799</td>\n",
       "      <td>113.500000</td>\n",
       "      <td>5.80</td>\n",
       "      <td>79.500000</td>\n",
       "      <td>7507.0</td>\n",
       "      <td>106.250000</td>\n",
       "      <td>87.005997</td>\n",
       "      <td>98.230003</td>\n",
       "      <td>302.190002</td>\n",
       "      <td>101.000000</td>\n",
       "      <td>27.547300</td>\n",
       "      <td>220980.0</td>\n",
       "      <td>79.000000</td>\n",
       "      <td>65.639999</td>\n",
       "      <td>108.080002</td>\n",
       "      <td>67.690002</td>\n",
       "      <td>77.190002</td>\n",
       "      <td>512.463013</td>\n",
       "      <td>101.260002</td>\n",
       "      <td>93.735291</td>\n",
       "      <td>103.790001</td>\n",
       "      <td>60.549999</td>\n",
       "      <td>42.139999</td>\n",
       "      <td>126.519997</td>\n",
       "      <td>189.289993</td>\n",
       "      <td>83.269997</td>\n",
       "      <td>127.050003</td>\n",
       "      <td>58.040001</td>\n",
       "      <td>46.330002</td>\n",
       "      <td>70.959999</td>\n",
       "      <td>93.730003</td>\n",
       "      <td>31.160000</td>\n",
       "      <td>90.010002</td>\n",
       "      <td>43.400002</td>\n",
       "      <td>26.615000</td>\n",
       "      <td>437.924988</td>\n",
       "      <td>34.029999</td>\n",
       "      <td>2883.5</td>\n",
       "      <td>71.189430</td>\n",
       "      <td>33.549999</td>\n",
       "      <td>99.120003</td>\n",
       "      <td>114.599998</td>\n",
       "      <td>108.169998</td>\n",
       "      <td>64.792503</td>\n",
       "      <td>185.089996</td>\n",
       "      <td>104.099998</td>\n",
       "      <td>46.570000</td>\n",
       "      <td>85.650002</td>\n",
       "      <td>90.290001</td>\n",
       "    </tr>\n",
       "    <tr>\n",
       "      <th>2015-01-06</th>\n",
       "      <td>25900.0</td>\n",
       "      <td>24.605900</td>\n",
       "      <td>120.000000</td>\n",
       "      <td>5.71</td>\n",
       "      <td>77.000000</td>\n",
       "      <td>7300.0</td>\n",
       "      <td>106.260002</td>\n",
       "      <td>86.279999</td>\n",
       "      <td>97.970001</td>\n",
       "      <td>295.290009</td>\n",
       "      <td>103.320000</td>\n",
       "      <td>26.267099</td>\n",
       "      <td>220450.0</td>\n",
       "      <td>78.849998</td>\n",
       "      <td>62.930000</td>\n",
       "      <td>108.029999</td>\n",
       "      <td>67.480003</td>\n",
       "      <td>76.150002</td>\n",
       "      <td>500.585632</td>\n",
       "      <td>100.949997</td>\n",
       "      <td>93.516014</td>\n",
       "      <td>103.279999</td>\n",
       "      <td>58.980000</td>\n",
       "      <td>42.459999</td>\n",
       "      <td>124.900002</td>\n",
       "      <td>188.399994</td>\n",
       "      <td>83.089996</td>\n",
       "      <td>125.599998</td>\n",
       "      <td>60.320000</td>\n",
       "      <td>45.650002</td>\n",
       "      <td>70.610001</td>\n",
       "      <td>93.019997</td>\n",
       "      <td>31.420000</td>\n",
       "      <td>89.599998</td>\n",
       "      <td>43.549999</td>\n",
       "      <td>26.514999</td>\n",
       "      <td>418.049988</td>\n",
       "      <td>33.900002</td>\n",
       "      <td>2944.5</td>\n",
       "      <td>70.182503</td>\n",
       "      <td>33.599998</td>\n",
       "      <td>98.919998</td>\n",
       "      <td>112.230003</td>\n",
       "      <td>107.459999</td>\n",
       "      <td>64.375000</td>\n",
       "      <td>183.270004</td>\n",
       "      <td>103.080002</td>\n",
       "      <td>47.040001</td>\n",
       "      <td>86.309998</td>\n",
       "      <td>89.809998</td>\n",
       "    </tr>\n",
       "    <tr>\n",
       "      <th>2015-01-07</th>\n",
       "      <td>26140.0</td>\n",
       "      <td>24.507099</td>\n",
       "      <td>124.400002</td>\n",
       "      <td>5.75</td>\n",
       "      <td>78.250000</td>\n",
       "      <td>7407.0</td>\n",
       "      <td>107.750000</td>\n",
       "      <td>86.669601</td>\n",
       "      <td>99.000000</td>\n",
       "      <td>298.420013</td>\n",
       "      <td>102.129997</td>\n",
       "      <td>26.267099</td>\n",
       "      <td>223480.0</td>\n",
       "      <td>80.500000</td>\n",
       "      <td>63.349998</td>\n",
       "      <td>107.940002</td>\n",
       "      <td>68.019997</td>\n",
       "      <td>76.150002</td>\n",
       "      <td>499.727997</td>\n",
       "      <td>104.410004</td>\n",
       "      <td>94.192909</td>\n",
       "      <td>105.559998</td>\n",
       "      <td>59.070000</td>\n",
       "      <td>42.990002</td>\n",
       "      <td>126.300003</td>\n",
       "      <td>190.830002</td>\n",
       "      <td>84.220001</td>\n",
       "      <td>125.699997</td>\n",
       "      <td>61.610001</td>\n",
       "      <td>46.230000</td>\n",
       "      <td>70.750000</td>\n",
       "      <td>95.739998</td>\n",
       "      <td>31.850000</td>\n",
       "      <td>90.070000</td>\n",
       "      <td>44.209999</td>\n",
       "      <td>26.870001</td>\n",
       "      <td>427.149994</td>\n",
       "      <td>33.990002</td>\n",
       "      <td>2962.5</td>\n",
       "      <td>70.943993</td>\n",
       "      <td>33.169998</td>\n",
       "      <td>99.930000</td>\n",
       "      <td>112.849998</td>\n",
       "      <td>108.459999</td>\n",
       "      <td>65.237503</td>\n",
       "      <td>185.559998</td>\n",
       "      <td>104.309998</td>\n",
       "      <td>46.189999</td>\n",
       "      <td>88.599998</td>\n",
       "      <td>90.720001</td>\n",
       "    </tr>\n",
       "    <tr>\n",
       "      <th>2015-01-08</th>\n",
       "      <td>26280.0</td>\n",
       "      <td>23.864799</td>\n",
       "      <td>127.300003</td>\n",
       "      <td>5.72</td>\n",
       "      <td>79.250000</td>\n",
       "      <td>7554.0</td>\n",
       "      <td>111.889999</td>\n",
       "      <td>90.317703</td>\n",
       "      <td>99.919998</td>\n",
       "      <td>300.459991</td>\n",
       "      <td>105.029999</td>\n",
       "      <td>26.519400</td>\n",
       "      <td>226680.0</td>\n",
       "      <td>81.769997</td>\n",
       "      <td>64.930000</td>\n",
       "      <td>110.410004</td>\n",
       "      <td>68.910004</td>\n",
       "      <td>78.180000</td>\n",
       "      <td>501.303680</td>\n",
       "      <td>106.720001</td>\n",
       "      <td>95.908974</td>\n",
       "      <td>106.389999</td>\n",
       "      <td>60.389999</td>\n",
       "      <td>43.509998</td>\n",
       "      <td>128.380005</td>\n",
       "      <td>195.130005</td>\n",
       "      <td>85.529999</td>\n",
       "      <td>129.649994</td>\n",
       "      <td>62.849998</td>\n",
       "      <td>47.590000</td>\n",
       "      <td>71.459999</td>\n",
       "      <td>97.480003</td>\n",
       "      <td>32.500000</td>\n",
       "      <td>91.099998</td>\n",
       "      <td>44.220001</td>\n",
       "      <td>27.495001</td>\n",
       "      <td>421.024994</td>\n",
       "      <td>34.279999</td>\n",
       "      <td>3027.5</td>\n",
       "      <td>72.152298</td>\n",
       "      <td>33.500000</td>\n",
       "      <td>104.699997</td>\n",
       "      <td>117.080002</td>\n",
       "      <td>110.410004</td>\n",
       "      <td>66.112503</td>\n",
       "      <td>188.820007</td>\n",
       "      <td>106.150002</td>\n",
       "      <td>47.180000</td>\n",
       "      <td>90.470001</td>\n",
       "      <td>92.230003</td>\n",
       "    </tr>\n",
       "    <tr>\n",
       "      <th>...</th>\n",
       "      <td>...</td>\n",
       "      <td>...</td>\n",
       "      <td>...</td>\n",
       "      <td>...</td>\n",
       "      <td>...</td>\n",
       "      <td>...</td>\n",
       "      <td>...</td>\n",
       "      <td>...</td>\n",
       "      <td>...</td>\n",
       "      <td>...</td>\n",
       "      <td>...</td>\n",
       "      <td>...</td>\n",
       "      <td>...</td>\n",
       "      <td>...</td>\n",
       "      <td>...</td>\n",
       "      <td>...</td>\n",
       "      <td>...</td>\n",
       "      <td>...</td>\n",
       "      <td>...</td>\n",
       "      <td>...</td>\n",
       "      <td>...</td>\n",
       "      <td>...</td>\n",
       "      <td>...</td>\n",
       "      <td>...</td>\n",
       "      <td>...</td>\n",
       "      <td>...</td>\n",
       "      <td>...</td>\n",
       "      <td>...</td>\n",
       "      <td>...</td>\n",
       "      <td>...</td>\n",
       "      <td>...</td>\n",
       "      <td>...</td>\n",
       "      <td>...</td>\n",
       "      <td>...</td>\n",
       "      <td>...</td>\n",
       "      <td>...</td>\n",
       "      <td>...</td>\n",
       "      <td>...</td>\n",
       "      <td>...</td>\n",
       "      <td>...</td>\n",
       "      <td>...</td>\n",
       "      <td>...</td>\n",
       "      <td>...</td>\n",
       "      <td>...</td>\n",
       "      <td>...</td>\n",
       "      <td>...</td>\n",
       "      <td>...</td>\n",
       "      <td>...</td>\n",
       "      <td>...</td>\n",
       "      <td>...</td>\n",
       "    </tr>\n",
       "    <tr>\n",
       "      <th>2020-04-23</th>\n",
       "      <td>52100.0</td>\n",
       "      <td>26.200001</td>\n",
       "      <td>411.600006</td>\n",
       "      <td>5.06</td>\n",
       "      <td>70.300003</td>\n",
       "      <td>6570.0</td>\n",
       "      <td>275.029999</td>\n",
       "      <td>117.599998</td>\n",
       "      <td>248.600006</td>\n",
       "      <td>2399.449951</td>\n",
       "      <td>205.240005</td>\n",
       "      <td>29.750000</td>\n",
       "      <td>278750.0</td>\n",
       "      <td>160.550003</td>\n",
       "      <td>36.180000</td>\n",
       "      <td>86.800003</td>\n",
       "      <td>148.529999</td>\n",
       "      <td>185.130005</td>\n",
       "      <td>1276.310059</td>\n",
       "      <td>202.320007</td>\n",
       "      <td>134.679993</td>\n",
       "      <td>155.509995</td>\n",
       "      <td>89.389999</td>\n",
       "      <td>45.070000</td>\n",
       "      <td>181.300003</td>\n",
       "      <td>376.730011</td>\n",
       "      <td>255.860001</td>\n",
       "      <td>348.649994</td>\n",
       "      <td>80.879997</td>\n",
       "      <td>171.419998</td>\n",
       "      <td>106.000000</td>\n",
       "      <td>130.259995</td>\n",
       "      <td>36.689999</td>\n",
       "      <td>119.400002</td>\n",
       "      <td>86.750000</td>\n",
       "      <td>16.521999</td>\n",
       "      <td>1370.900024</td>\n",
       "      <td>44.180000</td>\n",
       "      <td>3783.0</td>\n",
       "      <td>63.290001</td>\n",
       "      <td>29.500000</td>\n",
       "      <td>285.329987</td>\n",
       "      <td>152.289993</td>\n",
       "      <td>99.449997</td>\n",
       "      <td>166.380005</td>\n",
       "      <td>256.420013</td>\n",
       "      <td>139.550003</td>\n",
       "      <td>57.590000</td>\n",
       "      <td>128.529999</td>\n",
       "      <td>43.450001</td>\n",
       "    </tr>\n",
       "    <tr>\n",
       "      <th>2020-04-24</th>\n",
       "      <td>52100.0</td>\n",
       "      <td>26.100000</td>\n",
       "      <td>406.399994</td>\n",
       "      <td>5.06</td>\n",
       "      <td>70.300003</td>\n",
       "      <td>6543.0</td>\n",
       "      <td>282.970001</td>\n",
       "      <td>115.300003</td>\n",
       "      <td>244.610001</td>\n",
       "      <td>2410.219971</td>\n",
       "      <td>204.360001</td>\n",
       "      <td>30.540001</td>\n",
       "      <td>279460.0</td>\n",
       "      <td>161.610001</td>\n",
       "      <td>36.090000</td>\n",
       "      <td>87.010002</td>\n",
       "      <td>150.029999</td>\n",
       "      <td>190.070007</td>\n",
       "      <td>1279.310059</td>\n",
       "      <td>212.179993</td>\n",
       "      <td>135.520004</td>\n",
       "      <td>154.860001</td>\n",
       "      <td>90.709999</td>\n",
       "      <td>45.430000</td>\n",
       "      <td>181.470001</td>\n",
       "      <td>381.769989</td>\n",
       "      <td>258.760010</td>\n",
       "      <td>340.850006</td>\n",
       "      <td>81.430000</td>\n",
       "      <td>174.550003</td>\n",
       "      <td>109.220001</td>\n",
       "      <td>134.360001</td>\n",
       "      <td>37.380001</td>\n",
       "      <td>118.779999</td>\n",
       "      <td>89.040001</td>\n",
       "      <td>15.978000</td>\n",
       "      <td>1417.000000</td>\n",
       "      <td>45.060001</td>\n",
       "      <td>3750.0</td>\n",
       "      <td>63.430000</td>\n",
       "      <td>29.709999</td>\n",
       "      <td>291.290009</td>\n",
       "      <td>156.089996</td>\n",
       "      <td>100.180000</td>\n",
       "      <td>167.320007</td>\n",
       "      <td>260.140015</td>\n",
       "      <td>141.630005</td>\n",
       "      <td>57.930000</td>\n",
       "      <td>129.440002</td>\n",
       "      <td>43.730000</td>\n",
       "    </tr>\n",
       "    <tr>\n",
       "      <th>2020-04-27</th>\n",
       "      <td>52100.0</td>\n",
       "      <td>26.950001</td>\n",
       "      <td>413.000000</td>\n",
       "      <td>5.18</td>\n",
       "      <td>71.400002</td>\n",
       "      <td>6659.0</td>\n",
       "      <td>283.170013</td>\n",
       "      <td>117.699997</td>\n",
       "      <td>250.220001</td>\n",
       "      <td>2376.000000</td>\n",
       "      <td>203.690002</td>\n",
       "      <td>30.500000</td>\n",
       "      <td>281264.0</td>\n",
       "      <td>163.800003</td>\n",
       "      <td>37.150002</td>\n",
       "      <td>89.709999</td>\n",
       "      <td>154.229996</td>\n",
       "      <td>187.500000</td>\n",
       "      <td>1275.880005</td>\n",
       "      <td>217.759995</td>\n",
       "      <td>139.880005</td>\n",
       "      <td>154.289993</td>\n",
       "      <td>94.620003</td>\n",
       "      <td>46.779999</td>\n",
       "      <td>184.580002</td>\n",
       "      <td>378.570007</td>\n",
       "      <td>265.119995</td>\n",
       "      <td>350.950012</td>\n",
       "      <td>83.980003</td>\n",
       "      <td>174.050003</td>\n",
       "      <td>107.040001</td>\n",
       "      <td>134.460007</td>\n",
       "      <td>38.330002</td>\n",
       "      <td>117.449997</td>\n",
       "      <td>91.839996</td>\n",
       "      <td>16.250000</td>\n",
       "      <td>1429.750000</td>\n",
       "      <td>44.889999</td>\n",
       "      <td>3760.5</td>\n",
       "      <td>65.070000</td>\n",
       "      <td>30.540001</td>\n",
       "      <td>293.980011</td>\n",
       "      <td>158.960007</td>\n",
       "      <td>102.550003</td>\n",
       "      <td>171.759995</td>\n",
       "      <td>263.899994</td>\n",
       "      <td>144.139999</td>\n",
       "      <td>57.810001</td>\n",
       "      <td>128.300003</td>\n",
       "      <td>43.939999</td>\n",
       "    </tr>\n",
       "    <tr>\n",
       "      <th>2020-04-28</th>\n",
       "      <td>52100.0</td>\n",
       "      <td>27.900000</td>\n",
       "      <td>417.200012</td>\n",
       "      <td>5.25</td>\n",
       "      <td>71.300003</td>\n",
       "      <td>6685.0</td>\n",
       "      <td>278.579987</td>\n",
       "      <td>119.599998</td>\n",
       "      <td>243.529999</td>\n",
       "      <td>2314.080078</td>\n",
       "      <td>201.149994</td>\n",
       "      <td>30.490000</td>\n",
       "      <td>280600.0</td>\n",
       "      <td>161.259995</td>\n",
       "      <td>38.480000</td>\n",
       "      <td>89.910004</td>\n",
       "      <td>154.149994</td>\n",
       "      <td>182.910004</td>\n",
       "      <td>1233.670044</td>\n",
       "      <td>217.630005</td>\n",
       "      <td>142.759995</td>\n",
       "      <td>151.389999</td>\n",
       "      <td>95.290001</td>\n",
       "      <td>46.740002</td>\n",
       "      <td>186.880005</td>\n",
       "      <td>384.730011</td>\n",
       "      <td>264.600006</td>\n",
       "      <td>357.000000</td>\n",
       "      <td>81.180000</td>\n",
       "      <td>169.809998</td>\n",
       "      <td>106.459999</td>\n",
       "      <td>136.320007</td>\n",
       "      <td>37.910000</td>\n",
       "      <td>116.889999</td>\n",
       "      <td>89.589996</td>\n",
       "      <td>16.672001</td>\n",
       "      <td>1428.150024</td>\n",
       "      <td>45.279999</td>\n",
       "      <td>3772.0</td>\n",
       "      <td>65.389999</td>\n",
       "      <td>30.650000</td>\n",
       "      <td>288.359985</td>\n",
       "      <td>161.360001</td>\n",
       "      <td>96.430000</td>\n",
       "      <td>171.250000</td>\n",
       "      <td>262.679993</td>\n",
       "      <td>143.690002</td>\n",
       "      <td>57.830002</td>\n",
       "      <td>128.000000</td>\n",
       "      <td>44.970001</td>\n",
       "    </tr>\n",
       "    <tr>\n",
       "      <th>2020-04-29</th>\n",
       "      <td>52100.0</td>\n",
       "      <td>28.450001</td>\n",
       "      <td>417.000000</td>\n",
       "      <td>5.27</td>\n",
       "      <td>71.800003</td>\n",
       "      <td>6685.0</td>\n",
       "      <td>287.730011</td>\n",
       "      <td>120.150002</td>\n",
       "      <td>236.809998</td>\n",
       "      <td>2372.709961</td>\n",
       "      <td>206.699997</td>\n",
       "      <td>31.120001</td>\n",
       "      <td>284749.0</td>\n",
       "      <td>155.440002</td>\n",
       "      <td>42.209999</td>\n",
       "      <td>94.620003</td>\n",
       "      <td>148.610001</td>\n",
       "      <td>194.190002</td>\n",
       "      <td>1341.479980</td>\n",
       "      <td>221.809998</td>\n",
       "      <td>146.160004</td>\n",
       "      <td>150.240005</td>\n",
       "      <td>97.860001</td>\n",
       "      <td>47.119999</td>\n",
       "      <td>188.690002</td>\n",
       "      <td>387.910004</td>\n",
       "      <td>283.690002</td>\n",
       "      <td>359.799988</td>\n",
       "      <td>80.769997</td>\n",
       "      <td>177.429993</td>\n",
       "      <td>105.510002</td>\n",
       "      <td>133.360001</td>\n",
       "      <td>38.119999</td>\n",
       "      <td>117.080002</td>\n",
       "      <td>90.160004</td>\n",
       "      <td>17.280001</td>\n",
       "      <td>1426.949951</td>\n",
       "      <td>43.779999</td>\n",
       "      <td>3943.0</td>\n",
       "      <td>67.900002</td>\n",
       "      <td>31.430000</td>\n",
       "      <td>287.649994</td>\n",
       "      <td>163.050003</td>\n",
       "      <td>96.110001</td>\n",
       "      <td>181.789993</td>\n",
       "      <td>269.450012</td>\n",
       "      <td>147.759995</td>\n",
       "      <td>58.119999</td>\n",
       "      <td>123.599998</td>\n",
       "      <td>47.459999</td>\n",
       "    </tr>\n",
       "  </tbody>\n",
       "</table>\n",
       "<p>1340 rows × 50 columns</p>\n",
       "</div>"
      ],
      "text/plain": [
       "            005930.KS    0688.HK     0700.HK  ...         VZ         WMT        XOM\n",
       "Date                                          ...                                  \n",
       "2015-01-02    26600.0  24.704800  112.800003  ...  46.959999   85.900002  92.830002\n",
       "2015-01-05    26660.0  24.951799  113.500000  ...  46.570000   85.650002  90.290001\n",
       "2015-01-06    25900.0  24.605900  120.000000  ...  47.040001   86.309998  89.809998\n",
       "2015-01-07    26140.0  24.507099  124.400002  ...  46.189999   88.599998  90.720001\n",
       "2015-01-08    26280.0  23.864799  127.300003  ...  47.180000   90.470001  92.230003\n",
       "...               ...        ...         ...  ...        ...         ...        ...\n",
       "2020-04-23    52100.0  26.200001  411.600006  ...  57.590000  128.529999  43.450001\n",
       "2020-04-24    52100.0  26.100000  406.399994  ...  57.930000  129.440002  43.730000\n",
       "2020-04-27    52100.0  26.950001  413.000000  ...  57.810001  128.300003  43.939999\n",
       "2020-04-28    52100.0  27.900000  417.200012  ...  57.830002  128.000000  44.970001\n",
       "2020-04-29    52100.0  28.450001  417.000000  ...  58.119999  123.599998  47.459999\n",
       "\n",
       "[1340 rows x 50 columns]"
      ]
     },
     "execution_count": 7,
     "metadata": {
      "tags": []
     },
     "output_type": "execute_result"
    }
   ],
   "source": [
    "datos"
   ]
  },
  {
   "cell_type": "markdown",
   "metadata": {
    "colab_type": "text",
    "id": "7CI8UYlOis9h"
   },
   "source": [
    "# 2. Funciones auxiliares\n",
    "\n",
    "Ahora definimos funcionas auxiliares para el cálculo de los rendimientos de los activos, así como de la matriz de covarianza de ellos:"
   ]
  },
  {
   "cell_type": "code",
   "execution_count": 0,
   "metadata": {
    "colab": {},
    "colab_type": "code",
    "id": "dHMeTducYURe"
   },
   "outputs": [],
   "source": [
    "def calcular_rendimiento_vector(x):\n",
    "  \"\"\"\n",
    "  Función para calcular el rendimiento esperado\n",
    "\n",
    "  params:\n",
    "      x     vector de precios\n",
    "  \n",
    "  return:\n",
    "      r_est rendimiento esperado diario\n",
    "  \"\"\"\n",
    "\n",
    "  # Definimos precios iniciales y finales como arreglo alojado en la gpu\n",
    "  x_o = cp.asarray(x)\n",
    "  x_f = x_o[1:]\n",
    "\n",
    "  # Calculamos los rendimientos diarios\n",
    "  r = cp.log(x_f/x_o[:-1])\n",
    "\n",
    "  return r"
   ]
  },
  {
   "cell_type": "code",
   "execution_count": 0,
   "metadata": {
    "colab": {},
    "colab_type": "code",
    "id": "TNqlvmKUYZmg"
   },
   "outputs": [],
   "source": [
    "def calcular_rendimiento(X):\n",
    "  \"\"\"\n",
    "  Función para calcular el rendimiento esperado para un conjunto de acciones\n",
    "\n",
    "  params:\n",
    "      X      matriz mxn de precios, donde:\n",
    "             m es el número de observaciones y\n",
    "             n el número de acciones\n",
    "  \n",
    "  return:\n",
    "      r_est rvector de rendimientos esperados\n",
    "  \"\"\"\n",
    "  m,n = X.shape\n",
    "  r_est = cp.zeros(n)\n",
    "  X = cp.asarray(X)\n",
    "\n",
    "  for i in range(n):\n",
    "    r_est[i] = calcular_rendimiento_vector(X[:,i]).mean()\n",
    "\n",
    "  return 264*r_est"
   ]
  },
  {
   "cell_type": "code",
   "execution_count": 0,
   "metadata": {
    "colab": {},
    "colab_type": "code",
    "id": "gIHYPvp9SMS1"
   },
   "outputs": [],
   "source": [
    "def calcular_varianza(X):\n",
    "\n",
    "  \"\"\"\n",
    "  Función para calcular el la matriz de varianzas y covarianzas para un conjunto de acciones\n",
    "\n",
    "  params:\n",
    "      X      matriz mxn de precios, donde:\n",
    "             m es el número de observaciones y\n",
    "               n el número de acciones\n",
    "  \n",
    "  return:\n",
    "      S  matriz de varianzas y covarianzas\n",
    "  \"\"\"\n",
    "  m,n=X.shape\n",
    "  X = cp.asarray(X)\n",
    "\n",
    "  X_m = cp.zeros((m-1,n))\n",
    "\n",
    "  for i in range(n):\n",
    "    X_m[:,i] = calcular_rendimiento_vector(X[:,i]) - calcular_rendimiento_vector(X[:,i]).mean()\n",
    "\n",
    "  S = (cp.transpose(X_m)@X_m)/(m-2)\n",
    "\n",
    "  return S"
   ]
  },
  {
   "cell_type": "markdown",
   "metadata": {
    "colab_type": "text",
    "id": "9aJyxuSmi7pY"
   },
   "source": [
    "# 3. Matriz de covarianza, vector de rendimiento promedio y rendimiento (con base al máximo observado)\n",
    "\n",
    "Con los datos recién conseguidos y las funciones previamente presentadas, ahora estamos en condiciones de construir las matrices y vectores que se usarán en el problema en comento.\n",
    "\n",
    "**Matriz de covarianza**"
   ]
  },
  {
   "cell_type": "code",
   "execution_count": 0,
   "metadata": {
    "colab": {},
    "colab_type": "code",
    "id": "WzL27K3cSMVR"
   },
   "outputs": [],
   "source": [
    "Sigma = calcular_varianza(datos)"
   ]
  },
  {
   "cell_type": "markdown",
   "metadata": {
    "colab_type": "text",
    "id": "TYAL3xE8jeKz"
   },
   "source": [
    "**Vector de rendimientos promedio**"
   ]
  },
  {
   "cell_type": "code",
   "execution_count": 0,
   "metadata": {
    "colab": {},
    "colab_type": "code",
    "id": "xKqYqPcVSMXf"
   },
   "outputs": [],
   "source": [
    "mu = calcular_rendimiento(datos)"
   ]
  },
  {
   "cell_type": "code",
   "execution_count": 0,
   "metadata": {
    "colab": {},
    "colab_type": "code",
    "id": "Ov2aS-WJtF6v"
   },
   "outputs": [],
   "source": [
    "mu = cp.array(mu)"
   ]
  },
  {
   "cell_type": "markdown",
   "metadata": {
    "colab_type": "text",
    "id": "sAuDKPSpjjzG"
   },
   "source": [
    "**Rendimiento**\n",
    "\n",
    "Solo con fines ilustrativos, calcularemos cual fue el rendimiento máximo obtenido (de entre las medias de los datos históricos):"
   ]
  },
  {
   "cell_type": "code",
   "execution_count": 0,
   "metadata": {
    "colab": {},
    "colab_type": "code",
    "id": "83Ev_Jb_SMZd"
   },
   "outputs": [],
   "source": [
    "r=max(mu)"
   ]
  },
  {
   "cell_type": "markdown",
   "metadata": {
    "colab_type": "text",
    "id": "tzBLHh7EjyhM"
   },
   "source": [
    "# 4. Solución del modelo de Markowitz\n",
    "\n",
    "Ahora definimos las funciones que nos permitirán resolver el problema de encontrar el portafolio de interés:"
   ]
  },
  {
   "cell_type": "code",
   "execution_count": 0,
   "metadata": {
    "colab": {},
    "colab_type": "code",
    "id": "7LMw-kV3buFo"
   },
   "outputs": [],
   "source": [
    "def formar_vectores(mu, Sigma):\n",
    "  '''\n",
    "  Calcula las cantidades u = \\Sigma^{-1}  \\mu y v := \\Sigma^{-1} \\cdot 1 del problema de Markowitz\n",
    "\n",
    "  Args:\n",
    "    mu (cupy array, vector): valores medios esperados de activos (dimension n)\n",
    "    Sigma (cupy array, matriz): matriz de covarianzas asociada a activos (dimension n x n)\n",
    "\n",
    "  Return:\n",
    "    u (cupy array, escalar): vector dado por \\cdot Sigma^-1 \\cdot mu (dimension n)\n",
    "    v (cupy array, escalar): vector dado por Sigma^-1 \\cdot 1 (dimension n)\n",
    "  '''\n",
    "\n",
    "  # Vector auxiliar con entradas igual a 1\n",
    "  n = Sigma.shape[0]\n",
    "  ones_vector = cp.ones(n)\n",
    "\n",
    "  # Formamos vector \\cdot Sigma^-1 mu y Sigm^-1 1\n",
    "  # Nota: \n",
    "  #   1) u= Sigma^-1 \\cdot mu se obtiene resolviendo  Sigma u = mu\n",
    "  #   2) v= Sigma^-1 \\cdot 1 se obtiene resolviendo  Sigma v = 1\n",
    "\n",
    "  # Obtiene vectores de interes\n",
    "  u = cp.linalg.solve(Sigma, mu)\n",
    "  u = u.transpose() # correcion de expresion de array\n",
    "  v = cp.linalg.solve(Sigma, ones_vector)\n",
    "\n",
    "  return u , v"
   ]
  },
  {
   "cell_type": "code",
   "execution_count": 0,
   "metadata": {
    "colab": {},
    "colab_type": "code",
    "id": "MlP474P8buHn"
   },
   "outputs": [],
   "source": [
    "def formar_abc(mu, Sigma):\n",
    "  '''\n",
    "  Calcula las cantidades A, B y C del diagrama de flujo del problema de Markowitz\n",
    "\n",
    "  Args:\n",
    "    mu (cupy array, vector): valores medios esperados de activos (dimension n)\n",
    "    Sigma (cupy array, matriz): matriz de covarianzas asociada a activos (dimension n x n)\n",
    "\n",
    "  Return:\n",
    "    A (cupy array, escalar): escalar dado por mu^t \\cdot Sigma^-1 \\cdot mu\n",
    "    B (cupy array, escalar): escalar dado por 1^t \\cdot Sigma^-1 \\cdot 1\n",
    "    C (cupy array, escalar): escalar dado por 1^t \\cdot Sigma^-1 \\cdot mu\n",
    "  '''\n",
    "\n",
    "  # Vector auxiliar con entradas igual a 1\n",
    "  n = Sigma.shape[0]\n",
    "  ones_vector = cp.ones(n)\n",
    "\n",
    "  # Formamos vector \\cdot Sigma^-1 mu y Sigm^-1 1\n",
    "  # Nota: \n",
    "  #   1) u= Sigma^-1 \\cdot mu se obtiene resolviendo  Sigma u = mu\n",
    "  #   2) v= Sigma^-1 \\cdot 1 se obtiene resolviendo  Sigma v = 1\n",
    "\n",
    "  u, v = formar_vectores(mu, Sigma)\n",
    "\n",
    "  # Obtiene escalares de interes\n",
    "  A = mu.transpose()@u\n",
    "  B = ones_vector.transpose()@v\n",
    "  C = ones_vector.transpose()@u\n",
    "\n",
    "  return A, B, C"
   ]
  },
  {
   "cell_type": "code",
   "execution_count": 0,
   "metadata": {
    "colab": {},
    "colab_type": "code",
    "id": "wYI0tnCQbvas"
   },
   "outputs": [],
   "source": [
    "def delta(A,B,C):\n",
    "  '''\n",
    "  Calcula las cantidad Delta = AB-C^2 del diagrama de flujo del problema de Markowitz\n",
    "\n",
    "  Args:\n",
    "    A (cupy array, escalar): escalar dado por mu^t \\cdot Sigma^-1 \\cdot mu\n",
    "    B (cupy array, escalar): escalar dado por 1^t \\cdot Sigma^-1 \\cdot 1\n",
    "    C (cupy array, escalar): escalar dado por 1^t \\cdot Sigma^-1 \\cdot mu\n",
    "\n",
    "  Return:\n",
    "    Delta (cupy array, escalar): escalar dado \\mu^t \\cdot \\Sigma^{-1} \\cdot \\mu\n",
    "  '''\n",
    "  Delta = A*B-C**2\n",
    "\n",
    "  return Delta"
   ]
  },
  {
   "cell_type": "code",
   "execution_count": 0,
   "metadata": {
    "colab": {},
    "colab_type": "code",
    "id": "jqJe_K5Dbvei"
   },
   "outputs": [],
   "source": [
    "def formar_omegas(r, mu, Sigma):\n",
    "  '''\n",
    "  Calcula las cantidades w_o y w_ del problema de Markowitz\n",
    "\n",
    "  Args:\n",
    "    mu (cupy array, vector): valores medios esperados de activos (dimension n)\n",
    "    Sigma (cupy array, matriz): matriz de covarianzas asociada a activos (dimension n x n)\n",
    "\n",
    "  Return:\n",
    "    w_0 (cupy array, matriz): matriz dada por \n",
    "          w_0 = \\frac{1}{\\Delta} (B \\Sigma^{-1} \\hat{\\mu}- C\\Sigma^{-1} 1) \n",
    "    w_1 (cupy array, vector): vector dado por \n",
    "         w_1 = \\frac{1}{\\Delta} (C \\Sigma^{-1} \\hat{\\mu}- A\\Sigma^{-1} 1)\n",
    "  '''\n",
    "  # Obtenemos u = Sigma^{-1} \\hat{\\mu}, v = \\Sigma^{-1} 1\n",
    "  u, v = formar_vectores(mu, Sigma)\n",
    "  # Escalares relevantes\n",
    "  A, B, C = formar_abc(mu, Sigma)\n",
    "  Delta = delta(A,B,C)\n",
    "  # Formamos w_0 y w_1\n",
    "  w_0 = (1/Delta)*(r*B-C)\n",
    "  w_1 = (1/Delta)*(A-C*r)\n",
    "\n",
    "  return w_0, w_1"
   ]
  },
  {
   "cell_type": "code",
   "execution_count": 0,
   "metadata": {
    "colab": {},
    "colab_type": "code",
    "id": "_quTZIRdbviJ"
   },
   "outputs": [],
   "source": [
    "def markowitz(r, mu, Sigma):\n",
    "  '''\n",
    "  Calcula las cantidades w_o y w_ del problema de Markowitz\n",
    "\n",
    "  Args:\n",
    "    mu (cupy array, vector): valores medios esperados de activos (dimension n)\n",
    "    Sigma (cupy array, matriz): matriz de covarianzas asociada a activos (dimension n x n)\n",
    "\n",
    "  Return:\n",
    "    w_0 (cupy array, matriz): matriz dada por \n",
    "          w_0 = \\frac{1}{\\Delta} (B \\Sigma^{-1} \\hat{\\mu}- C\\Sigma^{-1} 1) \n",
    "    w_1 (cupy array, vector): vector dado por \n",
    "         w_1 = \\frac{1}{\\Delta} (C \\Sigma^{-1} \\hat{\\mu}- A\\Sigma^{-1} 1)\n",
    "  '''\n",
    "  # Obtenemos u = Sigma^{-1} \\hat{\\mu}, v = \\Sigma^{-1} 1\n",
    "  u, v = formar_vectores(mu, Sigma)\n",
    "\n",
    "  # Formamos w_0 y w_1\n",
    "  w_0, w_1 = formar_omegas(r, mu, Sigma)\n",
    "\n",
    "  return w_0*u+w_1*v"
   ]
  },
  {
   "cell_type": "markdown",
   "metadata": {
    "colab_type": "text",
    "id": "NUbpn8YdkKKq"
   },
   "source": [
    "# 6. Solver\n",
    "\n",
    "Con todo lo anterior, podemos probar el solver recien implementados. En concreto el vector de pesos se obtiene en este caso como:"
   ]
  },
  {
   "cell_type": "code",
   "execution_count": 0,
   "metadata": {
    "colab": {},
    "colab_type": "code",
    "id": "fjgd7gXIbvlz"
   },
   "outputs": [],
   "source": [
    "w=markowitz(r,mu,Sigma)"
   ]
  },
  {
   "cell_type": "code",
   "execution_count": 23,
   "metadata": {
    "colab": {
     "base_uri": "https://localhost:8080/",
     "height": 230
    },
    "colab_type": "code",
    "id": "CtpQs_lplopY",
    "outputId": "1cf9f529-cc1a-422b-ab3a-5f8590d75825"
   },
   "outputs": [
    {
     "data": {
      "text/plain": [
       "array([ 1.58450459e-01, -2.08710279e-02,  1.58051613e-01, -9.28970852e-02,\n",
       "        3.17093838e-02,  5.10824537e-02,  8.71800626e-02,  1.26389547e-02,\n",
       "        3.72861469e-02,  2.86000507e-01, -5.98810147e-03,  2.24206232e-03,\n",
       "        2.03075836e-01,  9.46030741e-02,  2.28766788e-02,  1.49919976e-02,\n",
       "        7.60706433e-03,  2.96676402e-02,  5.76521006e-02,  1.98109863e-01,\n",
       "        1.19928144e-01,  1.27869501e-01,  1.41300419e-01,  1.36285005e-02,\n",
       "        8.83904753e-02,  1.50479914e-01,  1.69293512e-01,  7.72037012e-02,\n",
       "        8.09121352e-02,  8.24658724e-02,  1.92197879e-01, -2.40095431e-02,\n",
       "        2.64375219e-02,  7.69647088e-02,  2.20741648e-02, -1.08207562e-01,\n",
       "        1.64032748e-01,  1.77020932e-02,  6.16398087e-02, -1.08210745e-01,\n",
       "       -5.03462807e-02,  1.38834320e-01,  1.03567400e-01, -4.28198353e-02,\n",
       "        1.06872745e-02, -2.33314798e+00,  1.89811544e-01,  2.63296457e-01,\n",
       "        1.20089773e-01, -1.05535600e-01])"
      ]
     },
     "execution_count": 23,
     "metadata": {
      "tags": []
     },
     "output_type": "execute_result"
    }
   ],
   "source": [
    "w"
   ]
  },
  {
   "cell_type": "markdown",
   "metadata": {
    "colab_type": "text",
    "id": "kSXzl89KlrSn"
   },
   "source": [
    "**Verificamos w^t 1 = 1**"
   ]
  },
  {
   "cell_type": "code",
   "execution_count": 24,
   "metadata": {
    "colab": {
     "base_uri": "https://localhost:8080/",
     "height": 32
    },
    "colab_type": "code",
    "id": "9gVwSshTbuKF",
    "outputId": "415a4da1-3fd3-4e32-b299-91333e75fc67"
   },
   "outputs": [
    {
     "data": {
      "text/plain": [
       "array(1.)"
      ]
     },
     "execution_count": 24,
     "metadata": {
      "tags": []
     },
     "output_type": "execute_result"
    }
   ],
   "source": [
    "sum(w)"
   ]
  },
  {
   "cell_type": "markdown",
   "metadata": {
    "colab_type": "text",
    "id": "ZpOo3I3Al3EE"
   },
   "source": [
    "**Verificamos que $w^t \\mu = r$**"
   ]
  },
  {
   "cell_type": "code",
   "execution_count": 25,
   "metadata": {
    "colab": {
     "base_uri": "https://localhost:8080/",
     "height": 32
    },
    "colab_type": "code",
    "id": "OIwFM3p_l_OK",
    "outputId": "e9b29d31-bdc1-4d19-fdcf-837863fb831a"
   },
   "outputs": [
    {
     "data": {
      "text/plain": [
       "array(0.40221088)"
      ]
     },
     "execution_count": 25,
     "metadata": {
      "tags": []
     },
     "output_type": "execute_result"
    }
   ],
   "source": [
    "r"
   ]
  },
  {
   "cell_type": "code",
   "execution_count": 26,
   "metadata": {
    "colab": {
     "base_uri": "https://localhost:8080/",
     "height": 32
    },
    "colab_type": "code",
    "id": "Z_cU37Oel_Us",
    "outputId": "d45d5999-7625-48c7-8db7-7647734d24dc"
   },
   "outputs": [
    {
     "data": {
      "text/plain": [
       "array(0.40221088)"
      ]
     },
     "execution_count": 26,
     "metadata": {
      "tags": []
     },
     "output_type": "execute_result"
    }
   ],
   "source": [
    "w@mu"
   ]
  },
  {
   "cell_type": "markdown",
   "metadata": {
    "colab_type": "text",
    "id": "C0gfu-UXmFr4"
   },
   "source": [
    "**Calculamos la varianza del portafolio**"
   ]
  },
  {
   "cell_type": "code",
   "execution_count": 27,
   "metadata": {
    "colab": {
     "base_uri": "https://localhost:8080/",
     "height": 32
    },
    "colab_type": "code",
    "id": "l2N-ShZMtmIs",
    "outputId": "0363a398-5e65-4f7a-ef43-16d512fd58a5"
   },
   "outputs": [
    {
     "data": {
      "text/plain": [
       "array(9.45979246e-05)"
      ]
     },
     "execution_count": 27,
     "metadata": {
      "tags": []
     },
     "output_type": "execute_result"
    }
   ],
   "source": [
    "w.transpose()@Sigma@w"
   ]
  }
 ],
 "metadata": {
  "accelerator": "GPU",
  "colab": {
   "collapsed_sections": [],
   "name": "4_Solver.ipynb",
   "provenance": []
  },
  "kernelspec": {
   "display_name": "Python 3",
   "language": "python",
   "name": "python3"
  },
  "language_info": {
   "codemirror_mode": {
    "name": "ipython",
    "version": 3
   },
   "file_extension": ".py",
   "mimetype": "text/x-python",
   "name": "python",
   "nbconvert_exporter": "python",
   "pygments_lexer": "ipython3",
   "version": "3.7.2"
  }
 },
 "nbformat": 4,
 "nbformat_minor": 1
}
