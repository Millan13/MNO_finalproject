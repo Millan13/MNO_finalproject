{
 "cells": [
  {
   "cell_type": "markdown",
   "metadata": {
    "colab_type": "text",
    "id": "CR_0ozT5af_B"
   },
   "source": [
    "# Metodo de Newton para solucionar el problema de Markowitz\n",
    "\n",
    "**Responsable:**\n",
    "Itzel Muñoz\n",
    "\n",
    "**Infraestructura usada:** instancia en AWS, con imagen de Docker\n",
    "\n",
    "**Fuente:** código desarrollada en etapas previas\n",
    "\n",
    "## Objetivo:\n",
    "\n",
    "Utilizar el método de Newton visto en clase, utilizando tanto diferenciación aproximada y funciones simbólicas, para dar solución al problema de minimización de riesgo en una cartera de inversión. \n",
    "\n",
    "Recordemos que el problema se puede plantear como: \n",
    "\n",
    "$$\\min_{w}  \\frac{1}{2} w^t \\Sigma w$$\n",
    "\n",
    "sujeto a:\n",
    "\n",
    "$$ w^t \\mu= r$$\n",
    "\n",
    "$$ w^t 1_{m}= 1$$\n",
    "\n",
    "En donde $\\Sigma$ es la matriz de covarianzas asociadas a los rendimientos de los activos en el periodo de interés.\n",
    "\n",
    "## Importación de librerías\n",
    "\n",
    "Las librerías son en su mayoría las construidas para el proyecto, así como numpy y cupy."
   ]
  },
  {
   "cell_type": "code",
   "execution_count": 27,
   "metadata": {
    "colab": {},
    "colab_type": "code",
    "id": "K_JYq30eaf_G"
   },
   "outputs": [],
   "source": [
    "import numpy as np\n",
    "import cupy as cp\n",
    "import solver.extraer_datos_yahoo as extrae\n",
    "import solver.funciones_auxiliares as aux\n",
    "import solver.line_search as line\n",
    "import solver.modelo_markowitz as mkv\n",
    "import solver.utils as utils\n",
    "import solver.optimizacion_numerica as opt\n",
    "#from utils import inc_index, dec_index, compute_error, norm_residual, condicion_cupy\n",
    "#from line_search import line_search_by_backtracking, line_search_for_residual_by_backtracking"
   ]
  },
  {
   "cell_type": "markdown",
   "metadata": {
    "colab_type": "text",
    "id": "CJwReJ2Hb_3W"
   },
   "source": [
    "## Cargamos la información y calculamos los parámetros"
   ]
  },
  {
   "cell_type": "markdown",
   "metadata": {
    "colab_type": "text",
    "id": "whzX6_S1m4AH"
   },
   "source": [
    "Primero cargamos los precios de las acciones que se han elegido para esta implementación"
   ]
  },
  {
   "cell_type": "code",
   "execution_count": 3,
   "metadata": {
    "colab": {},
    "colab_type": "code",
    "id": "ucXkk3tYagAq"
   },
   "outputs": [],
   "source": [
    "stocks = ['COP','AMT','LIN','LMT','AMZN','WMT','JNJ','VTI','MSFT','GOOG','XOM','CCI','BHP.AX','UNP',\n",
    "'BABA','NSRGY','RHHBY','VOO','AAPL','FB','CVX','PLD','RIO.L','HON','HD','PG','UNH','BRK-A','V','0700.HK',\n",
    "'RDSA.AS','0688.HK','AI.PA','RTX','MC.PA','KO','PFE','JPM','005930.KS','VZ','RELIANCE.NS','DLR','2010.SR',\n",
    "'UPS','7203.T','PEP','MRK','1398.HK','MA','T']"
   ]
  },
  {
   "cell_type": "code",
   "execution_count": 4,
   "metadata": {
    "colab": {
     "base_uri": "https://localhost:8080/",
     "height": 35
    },
    "colab_type": "code",
    "id": "FliMniOJcGcb",
    "outputId": "a9b17d22-77a3-4167-e77b-4adcfb610204"
   },
   "outputs": [
    {
     "name": "stdout",
     "output_type": "stream",
     "text": [
      "[*********************100%***********************]  50 of 50 completed\n"
     ]
    }
   ],
   "source": [
    "datos = extrae.extraer_datos_yahoo(stocks)"
   ]
  },
  {
   "cell_type": "markdown",
   "metadata": {
    "colab_type": "text",
    "id": "lpSFVStdnaeK"
   },
   "source": [
    "Usando las funciones auxiliares definidas previamente calculamos los rendimientos esperados y la matriz de varianza y covarianza para las acciones"
   ]
  },
  {
   "cell_type": "code",
   "execution_count": 5,
   "metadata": {
    "colab": {},
    "colab_type": "code",
    "id": "PcAFYk2EcLsE"
   },
   "outputs": [],
   "source": [
    "mu = aux.calcular_rendimiento(datos)"
   ]
  },
  {
   "cell_type": "code",
   "execution_count": 6,
   "metadata": {
    "colab": {},
    "colab_type": "code",
    "id": "2N6YUd_kchNf"
   },
   "outputs": [],
   "source": [
    "S = aux.calcular_varianza(datos)"
   ]
  },
  {
   "cell_type": "markdown",
   "metadata": {
    "colab_type": "text",
    "id": "YMKdfMWrnvAb"
   },
   "source": [
    "Calcularemos cuál fue el rendimiento máximo obtenido (de entre las medias de los datos históricos) y lo usaremos como el rendimiento deseado en el problema de optimización"
   ]
  },
  {
   "cell_type": "code",
   "execution_count": 7,
   "metadata": {
    "colab": {
     "base_uri": "https://localhost:8080/",
     "height": 35
    },
    "colab_type": "code",
    "id": "XKy8ibRXcpGW",
    "outputId": "70e4de41-d07e-494a-9348-88d76ae4f670"
   },
   "outputs": [
    {
     "data": {
      "text/plain": [
       "0.40221087876214845"
      ]
     },
     "execution_count": 7,
     "metadata": {},
     "output_type": "execute_result"
    }
   ],
   "source": [
    "r=max(mu).item()\n",
    "r"
   ]
  },
  {
   "cell_type": "markdown",
   "metadata": {
    "colab_type": "text",
    "id": "TD58_-9MdMt3"
   },
   "source": [
    "## Resolvemos con el Método de Newton usando diferencias finitas"
   ]
  },
  {
   "cell_type": "markdown",
   "metadata": {
    "colab_type": "text",
    "id": "oRczMBOQoAkN"
   },
   "source": [
    "La función a optimizar será la siguiente:"
   ]
  },
  {
   "cell_type": "code",
   "execution_count": 8,
   "metadata": {
    "colab": {},
    "colab_type": "code",
    "id": "Rr4oJagsdSk8"
   },
   "outputs": [],
   "source": [
    "fo = lambda w: w@S@w"
   ]
  },
  {
   "cell_type": "markdown",
   "metadata": {
    "colab_type": "text",
    "id": "ivNBKB_OoYWh"
   },
   "source": [
    "Usamos la solución analítica desarrollada en la fase 1 del proyecto, para tener la solución con la cual comparar."
   ]
  },
  {
   "cell_type": "code",
   "execution_count": 9,
   "metadata": {
    "colab": {},
    "colab_type": "code",
    "id": "CjLONnwPdnNm"
   },
   "outputs": [],
   "source": [
    "w_ast = mkv.markowitz(r,mu,S)"
   ]
  },
  {
   "cell_type": "markdown",
   "metadata": {
    "colab_type": "text",
    "id": "FL88sHCnokeA"
   },
   "source": [
    "La matriz $A$ de restricciones está dada por:"
   ]
  },
  {
   "cell_type": "code",
   "execution_count": 10,
   "metadata": {
    "colab": {
     "base_uri": "https://localhost:8080/",
     "height": 377
    },
    "colab_type": "code",
    "id": "q0HjUqEthOli",
    "outputId": "8412f429-946a-4b63-dc0f-8553266b641b"
   },
   "outputs": [
    {
     "data": {
      "text/plain": [
       "array([[ 0.13254293,  0.02782955,  0.25778345, -0.01787111, -0.02008539,\n",
       "        -0.02286483,  0.19078421,  0.05743478,  0.17062275,  0.40221088,\n",
       "         0.13618597,  0.02364206,  0.0476638 ,  0.13217291, -0.09666644,\n",
       "        -0.03426582,  0.15880965,  0.17870289,  0.18557566,  0.15042008,\n",
       "         0.08379133,  0.07154137,  0.08843336,  0.02202303,  0.07353272,\n",
       "         0.13731909,  0.23605478,  0.19942876,  0.06806558,  0.26292508,\n",
       "         0.07357149,  0.06803816,  0.03867589,  0.05090149,  0.14401416,\n",
       "        -0.09339292,  0.23072551,  0.05036842,  0.05587177, -0.01264577,\n",
       "        -0.01474117,  0.20678446,  0.06274015, -0.02729424,  0.1990038 ,\n",
       "         0.07054765,  0.06563628,  0.04203765,  0.07174071, -0.13227261],\n",
       "       [ 1.        ,  1.        ,  1.        ,  1.        ,  1.        ,\n",
       "         1.        ,  1.        ,  1.        ,  1.        ,  1.        ,\n",
       "         1.        ,  1.        ,  1.        ,  1.        ,  1.        ,\n",
       "         1.        ,  1.        ,  1.        ,  1.        ,  1.        ,\n",
       "         1.        ,  1.        ,  1.        ,  1.        ,  1.        ,\n",
       "         1.        ,  1.        ,  1.        ,  1.        ,  1.        ,\n",
       "         1.        ,  1.        ,  1.        ,  1.        ,  1.        ,\n",
       "         1.        ,  1.        ,  1.        ,  1.        ,  1.        ,\n",
       "         1.        ,  1.        ,  1.        ,  1.        ,  1.        ,\n",
       "         1.        ,  1.        ,  1.        ,  1.        ,  1.        ]])"
      ]
     },
     "execution_count": 10,
     "metadata": {},
     "output_type": "execute_result"
    }
   ],
   "source": [
    "n = mu.shape[0]\n",
    "A = cp.concatenate((mu,cp.ones(n))).reshape(2,n)\n",
    "A"
   ]
  },
  {
   "cell_type": "markdown",
   "metadata": {
    "colab_type": "text",
    "id": "_3zd0VcForG0"
   },
   "source": [
    "Por otro lado el vector $b$ está dado por:"
   ]
  },
  {
   "cell_type": "code",
   "execution_count": 11,
   "metadata": {
    "colab": {
     "base_uri": "https://localhost:8080/",
     "height": 35
    },
    "colab_type": "code",
    "id": "tH7IUvaZlfFw",
    "outputId": "ef5c2c2d-f46f-4438-dd13-53a444ae2800"
   },
   "outputs": [
    {
     "data": {
      "text/plain": [
       "array([0.40221088, 1.        ])"
      ]
     },
     "execution_count": 11,
     "metadata": {},
     "output_type": "execute_result"
    }
   ],
   "source": [
    "b = cp.array([r,1])\n",
    "b"
   ]
  },
  {
   "cell_type": "markdown",
   "metadata": {
    "colab_type": "text",
    "id": "S_WUqA-EoQC8"
   },
   "source": [
    "Definimos el punto inicial con la función definida anteriormente:"
   ]
  },
  {
   "cell_type": "code",
   "execution_count": 12,
   "metadata": {
    "colab": {},
    "colab_type": "code",
    "id": "VHj1CODfpuon"
   },
   "outputs": [],
   "source": [
    "w_0 = utils.feasible_markowitz(r,mu)"
   ]
  },
  {
   "cell_type": "markdown",
   "metadata": {
    "colab_type": "text",
    "id": "tIPrjt1lpS0a"
   },
   "source": [
    "Definimos los parámetros para el método de Newton de la siguiente manera:"
   ]
  },
  {
   "cell_type": "code",
   "execution_count": 14,
   "metadata": {},
   "outputs": [],
   "source": [
    "tol=1e-8\n",
    "tol_backtracking=1e-14\n",
    "p_ast=fo(w_ast)\n",
    "maxiter=50"
   ]
  },
  {
   "cell_type": "markdown",
   "metadata": {},
   "source": [
    "Ejecutamos el método de newton:"
   ]
  },
  {
   "cell_type": "code",
   "execution_count": 15,
   "metadata": {
    "colab": {
     "base_uri": "https://localhost:8080/",
     "height": 341
    },
    "colab_type": "code",
    "id": "y1aGbI5DsB75",
    "outputId": "4aad98eb-12f9-47b9-f127-7f21fdebc046"
   },
   "outputs": [
    {
     "name": "stdout",
     "output_type": "stream",
     "text": [
      "I\tNormgf \tNewton Decrement\tError x_ast\tError p_ast\tline search\tCondHf\n",
      "0\t0.0014\t0.0007\t1.0802\t3.7098\t---\t\t9792.2972\n",
      "1\t0.0014\t0.0\t0.062\t0.0002\t1\t9792.2972\n",
      "2\t0.0014\t0.0\t0.0014\t0.0\t1\t9792.2972\n",
      "Error of x with respect to x_ast: 0.0013645454843084779\n",
      "Approximate solution: [ 1.58451472e-01 -2.08715680e-02  1.58049916e-01 -9.28741024e-02\n",
      "  3.17119956e-02  5.10796562e-02  8.71482821e-02  1.26558868e-02\n",
      "  3.72546328e-02  2.86008401e-01 -5.99170671e-03  2.23685830e-03\n",
      "  2.03058504e-01  9.46156284e-02  2.28692346e-02  1.49747220e-02\n",
      "  7.59212363e-03  2.96653985e-02  5.76128693e-02  1.98112969e-01\n",
      "  1.19939351e-01  1.27836405e-01  1.41264175e-01  1.36407079e-02\n",
      "  8.83738046e-02  1.50456411e-01  1.69247166e-01  7.71830489e-02\n",
      "  8.08890475e-02  8.24456605e-02  1.92202159e-01 -2.40766179e-02\n",
      "  2.64525535e-02  7.69707517e-02  2.20854988e-02 -1.08195183e-01\n",
      "  1.64041534e-01  1.77232693e-02  6.16431612e-02 -1.08211841e-01\n",
      " -5.03241268e-02  1.38816492e-01  1.03596602e-01 -4.28402611e-02\n",
      "  1.07684600e-02 -2.33063166e+00  1.87582962e-01  2.63266188e-01\n",
      "  1.20059552e-01 -1.05566446e-01]\n"
     ]
    }
   ],
   "source": [
    "[w,total_of_iterations,Err_plot,x_plot]=opt.Newtons_method_feasible_init_point(fo,A, w_0,tol, tol_backtracking, w_ast, p_ast, maxiter)\n",
    "\n"
   ]
  },
  {
   "cell_type": "markdown",
   "metadata": {
    "colab_type": "text",
    "id": "KN_Pe_Tgt1PM"
   },
   "source": [
    "La solución dada por el Método de Newton usando las diferenciación numérica es muy similar a la del método cerrado. Siendo el error de:"
   ]
  },
  {
   "cell_type": "code",
   "execution_count": 16,
   "metadata": {
    "colab": {
     "base_uri": "https://localhost:8080/",
     "height": 35
    },
    "colab_type": "code",
    "id": "XQNM7g6avFvt",
    "outputId": "f4994922-6c0b-4658-bcb2-d5dad87b4a17"
   },
   "outputs": [
    {
     "data": {
      "text/plain": [
       "7.794891865124757e-08"
      ]
     },
     "execution_count": 16,
     "metadata": {},
     "output_type": "execute_result"
    }
   ],
   "source": [
    "Err_plot[-1]"
   ]
  },
  {
   "cell_type": "code",
   "execution_count": 17,
   "metadata": {
    "colab": {
     "base_uri": "https://localhost:8080/",
     "height": 251
    },
    "colab_type": "code",
    "id": "wNm78ZHv0Isd",
    "outputId": "defec92f-4d6c-4235-a9a8-90e442af0da2"
   },
   "outputs": [
    {
     "data": {
      "text/plain": [
       "array([ 1.58451472e-01, -2.08715680e-02,  1.58049916e-01, -9.28741024e-02,\n",
       "        3.17119956e-02,  5.10796562e-02,  8.71482821e-02,  1.26558868e-02,\n",
       "        3.72546328e-02,  2.86008401e-01, -5.99170671e-03,  2.23685830e-03,\n",
       "        2.03058504e-01,  9.46156284e-02,  2.28692346e-02,  1.49747220e-02,\n",
       "        7.59212363e-03,  2.96653985e-02,  5.76128693e-02,  1.98112969e-01,\n",
       "        1.19939351e-01,  1.27836405e-01,  1.41264175e-01,  1.36407079e-02,\n",
       "        8.83738046e-02,  1.50456411e-01,  1.69247166e-01,  7.71830489e-02,\n",
       "        8.08890475e-02,  8.24456605e-02,  1.92202159e-01, -2.40766179e-02,\n",
       "        2.64525535e-02,  7.69707517e-02,  2.20854988e-02, -1.08195183e-01,\n",
       "        1.64041534e-01,  1.77232693e-02,  6.16431612e-02, -1.08211841e-01,\n",
       "       -5.03241268e-02,  1.38816492e-01,  1.03596602e-01, -4.28402611e-02,\n",
       "        1.07684600e-02, -2.33063166e+00,  1.87582962e-01,  2.63266188e-01,\n",
       "        1.20059552e-01, -1.05566446e-01])"
      ]
     },
     "execution_count": 17,
     "metadata": {},
     "output_type": "execute_result"
    }
   ],
   "source": [
    "w"
   ]
  },
  {
   "cell_type": "code",
   "execution_count": 18,
   "metadata": {
    "colab": {
     "base_uri": "https://localhost:8080/",
     "height": 251
    },
    "colab_type": "code",
    "id": "rM0pIafAwVMK",
    "outputId": "8be8e84b-bc5a-473c-d2e6-a6695a8b5cf1"
   },
   "outputs": [
    {
     "data": {
      "text/plain": [
       "array([ 1.58450467e-01, -2.08710167e-02,  1.58051608e-01, -9.28971234e-02,\n",
       "        3.17093854e-02,  5.10824568e-02,  8.71800652e-02,  1.26389401e-02,\n",
       "        3.72861663e-02,  2.86000502e-01, -5.98809816e-03,  2.24204759e-03,\n",
       "        2.03075862e-01,  9.46031116e-02,  2.28767051e-02,  1.49919971e-02,\n",
       "        7.60705871e-03,  2.96676614e-02,  5.76521210e-02,  1.98109871e-01,\n",
       "        1.19928211e-01,  1.27869506e-01,  1.41300443e-01,  1.36285373e-02,\n",
       "        8.83904595e-02,  1.50479883e-01,  1.69293473e-01,  7.72036844e-02,\n",
       "        8.09120869e-02,  8.24658797e-02,  1.92197926e-01, -2.40096192e-02,\n",
       "        2.64375674e-02,  7.69647345e-02,  2.20741569e-02, -1.08207563e-01,\n",
       "        1.64032735e-01,  1.77020958e-02,  6.16398189e-02, -1.08210792e-01,\n",
       "       -5.03462779e-02,  1.38834333e-01,  1.03567407e-01, -4.28198239e-02,\n",
       "        1.06872828e-02, -2.33314837e+00,  1.89811818e-01,  2.63296460e-01,\n",
       "        1.20089776e-01, -1.05535620e-01])"
      ]
     },
     "execution_count": 18,
     "metadata": {},
     "output_type": "execute_result"
    }
   ],
   "source": [
    "w_ast"
   ]
  },
  {
   "cell_type": "markdown",
   "metadata": {
    "colab_type": "text",
    "id": "z68kyH4CvhTg"
   },
   "source": [
    "La varianza entre ambos métodos también es muy similar"
   ]
  },
  {
   "cell_type": "code",
   "execution_count": 19,
   "metadata": {
    "colab": {
     "base_uri": "https://localhost:8080/",
     "height": 35
    },
    "colab_type": "code",
    "id": "zh3Zh0dQxZ4P",
    "outputId": "ee9444eb-d7c6-47be-95f4-81b10ba31da3"
   },
   "outputs": [
    {
     "data": {
      "text/plain": [
       "array(9.45979293e-05)"
      ]
     },
     "execution_count": 19,
     "metadata": {},
     "output_type": "execute_result"
    }
   ],
   "source": [
    "w@S@w"
   ]
  },
  {
   "cell_type": "code",
   "execution_count": 20,
   "metadata": {
    "colab": {
     "base_uri": "https://localhost:8080/",
     "height": 35
    },
    "colab_type": "code",
    "id": "lIYyOg5vxh1Z",
    "outputId": "e92cf209-1163-4ad9-db46-6a03ee180576"
   },
   "outputs": [
    {
     "data": {
      "text/plain": [
       "array(9.45979219e-05)"
      ]
     },
     "execution_count": 20,
     "metadata": {},
     "output_type": "execute_result"
    }
   ],
   "source": [
    "w_ast@S@w_ast"
   ]
  },
  {
   "cell_type": "code",
   "execution_count": 21,
   "metadata": {
    "colab": {
     "base_uri": "https://localhost:8080/",
     "height": 35
    },
    "colab_type": "code",
    "id": "nqswCsRHvn1y",
    "outputId": "3c491b91-de45-4cec-c455-ff663f399fc4"
   },
   "outputs": [
    {
     "data": {
      "text/plain": [
       "array(7.79489126e-08)"
      ]
     },
     "execution_count": 21,
     "metadata": {},
     "output_type": "execute_result"
    }
   ],
   "source": [
    "utils.compute_error(w@S@w,w_ast@S@w_ast)"
   ]
  },
  {
   "cell_type": "markdown",
   "metadata": {
    "colab_type": "text",
    "id": "D6OoqUzfv5Nt"
   },
   "source": [
    "Además cumple con la restricción del rendimiento y la suma de pesos igual a 1"
   ]
  },
  {
   "cell_type": "code",
   "execution_count": 22,
   "metadata": {
    "colab": {
     "base_uri": "https://localhost:8080/",
     "height": 35
    },
    "colab_type": "code",
    "id": "u1XPCyGqxobv",
    "outputId": "756cb007-6324-45ec-92ad-f8a7e4d7edc1"
   },
   "outputs": [
    {
     "data": {
      "text/plain": [
       "array(0.40221088)"
      ]
     },
     "execution_count": 22,
     "metadata": {},
     "output_type": "execute_result"
    }
   ],
   "source": [
    "w@mu"
   ]
  },
  {
   "cell_type": "code",
   "execution_count": 23,
   "metadata": {
    "colab": {
     "base_uri": "https://localhost:8080/",
     "height": 35
    },
    "colab_type": "code",
    "id": "boNNhrOMxspd",
    "outputId": "31b483a5-e257-49f7-f4cc-4aeeeea239af"
   },
   "outputs": [
    {
     "data": {
      "text/plain": [
       "array(1.38015042e-16)"
      ]
     },
     "execution_count": 23,
     "metadata": {},
     "output_type": "execute_result"
    }
   ],
   "source": [
    "utils.compute_error(w@mu, r)"
   ]
  },
  {
   "cell_type": "code",
   "execution_count": 25,
   "metadata": {
    "colab": {
     "base_uri": "https://localhost:8080/",
     "height": 35
    },
    "colab_type": "code",
    "id": "GDPfjh3nx_A7",
    "outputId": "11fcfae7-9655-45cb-a344-7b02019bce80"
   },
   "outputs": [
    {
     "data": {
      "text/plain": [
       "array(1.)"
      ]
     },
     "execution_count": 25,
     "metadata": {},
     "output_type": "execute_result"
    }
   ],
   "source": [
    "sum(w)"
   ]
  },
  {
   "cell_type": "markdown",
   "metadata": {
    "colab_type": "text",
    "id": "zc0lRzlWae3M"
   },
   "source": [
    "## Resolvemos con el Método de Newton usando funciones simbólicas"
   ]
  },
  {
   "cell_type": "markdown",
   "metadata": {
    "colab_type": "text",
    "id": "UKPHc42kwTGP"
   },
   "source": [
    "Ahora utilizaremos de nuevo el método de Newton usando las funciones simbólicas:"
   ]
  },
  {
   "cell_type": "code",
   "execution_count": 26,
   "metadata": {
    "colab": {},
    "colab_type": "code",
    "id": "VoH-fJkLw_I0"
   },
   "outputs": [],
   "source": [
    "import inspect"
   ]
  },
  {
   "cell_type": "code",
   "execution_count": 28,
   "metadata": {
    "colab": {
     "base_uri": "https://localhost:8080/",
     "height": 107
    },
    "colab_type": "code",
    "id": "NE12b5T9wheO",
    "outputId": "4d32ddce-0f84-41d4-c15b-ae1bb64343c8"
   },
   "outputs": [
    {
     "name": "stdout",
     "output_type": "stream",
     "text": [
      "def gfo_cp_mark(Sigma,x):\n",
      "    '''\n",
      "    gradiente de la función objetivo 1/2*x.t*Sigma*x\n",
      "    input: matriz Sigma y vector x\n",
      "    output: producto matriz-vector Sigma*x\n",
      "    '''\n",
      "    first_block = Sigma@x\n",
      "    return first_block\n",
      "\n"
     ]
    }
   ],
   "source": [
    "lines = inspect.getsource(opt.gfo_cp_mark)\n",
    "print(lines)"
   ]
  },
  {
   "cell_type": "code",
   "execution_count": 29,
   "metadata": {
    "colab": {
     "base_uri": "https://localhost:8080/",
     "height": 89
    },
    "colab_type": "code",
    "id": "ZcBoIuEeyDzr",
    "outputId": "32407ece-f846-4222-a244-c4f7a1ff450b"
   },
   "outputs": [
    {
     "name": "stdout",
     "output_type": "stream",
     "text": [
      "def gfo_cp_mark(Sigma,x):\n",
      "    '''\n",
      "    gradiente de la función objetivo 1/2*x.t*Sigma*x\n",
      "    input: matriz Sigma y vector x\n",
      "    output: producto matriz-vector Sigma*x\n",
      "    '''\n",
      "    first_block = Sigma@x\n",
      "    return first_block\n",
      "\n"
     ]
    }
   ],
   "source": [
    "lines = inspect.getsource(opt.Hfo_cp_mark)\n",
    "print(lines)"
   ]
  },
  {
   "cell_type": "markdown",
   "metadata": {},
   "source": [
    "Ejecutamos el método de newton con las funciones simbólicas:"
   ]
  },
  {
   "cell_type": "code",
   "execution_count": 30,
   "metadata": {
    "colab": {
     "base_uri": "https://localhost:8080/",
     "height": 323
    },
    "colab_type": "code",
    "id": "vphzuSu_dnhZ",
    "outputId": "d4c7a511-3627-4e35-838a-9a4dd3b92bd2"
   },
   "outputs": [
    {
     "name": "stdout",
     "output_type": "stream",
     "text": [
      "I\tNormgf \tNewton Decrement\tError x_ast\tError p_ast\tline search\tCondHf\n",
      "0\t0.0007\t0.0004\t1.0802\t3.7098\t---\t\t10080.8013\n",
      "1\t0.0007\t-0.0\t0.0\t0.0\t1\t10080.8013\n",
      "Error of x with respect to x_ast: 2.889517336037216e-12\n",
      "Approximate solution: [ 1.58450467e-01 -2.08710167e-02  1.58051608e-01 -9.28971234e-02\n",
      "  3.17093854e-02  5.10824568e-02  8.71800652e-02  1.26389401e-02\n",
      "  3.72861663e-02  2.86000502e-01 -5.98809816e-03  2.24204759e-03\n",
      "  2.03075862e-01  9.46031116e-02  2.28767051e-02  1.49919971e-02\n",
      "  7.60705871e-03  2.96676614e-02  5.76521210e-02  1.98109871e-01\n",
      "  1.19928211e-01  1.27869506e-01  1.41300443e-01  1.36285373e-02\n",
      "  8.83904595e-02  1.50479883e-01  1.69293473e-01  7.72036844e-02\n",
      "  8.09120869e-02  8.24658797e-02  1.92197926e-01 -2.40096192e-02\n",
      "  2.64375674e-02  7.69647345e-02  2.20741569e-02 -1.08207563e-01\n",
      "  1.64032735e-01  1.77020958e-02  6.16398189e-02 -1.08210792e-01\n",
      " -5.03462779e-02  1.38834333e-01  1.03567407e-01 -4.28198239e-02\n",
      "  1.06872828e-02 -2.33314837e+00  1.89811818e-01  2.63296460e-01\n",
      "  1.20089776e-01 -1.05535620e-01]\n"
     ]
    }
   ],
   "source": [
    "[w,total_of_iterations,Err_plot,x_plot]=opt.Newtons_method_feasible_init_point(fo,A, w_0,tol, tol_backtracking, w_ast, p_ast, maxiter, opt.gfo_cp_mark, opt.Hfo_cp_mark,S)"
   ]
  },
  {
   "cell_type": "markdown",
   "metadata": {
    "colab_type": "text",
    "id": "IrwNq_ZaydLj"
   },
   "source": [
    "La solución dada por el Método de Newton usando las funciones simbólicas es prácticamente igual al método cerrado, siendo el error de:"
   ]
  },
  {
   "cell_type": "code",
   "execution_count": 31,
   "metadata": {
    "colab": {
     "base_uri": "https://localhost:8080/",
     "height": 35
    },
    "colab_type": "code",
    "id": "F3HktHpNydLs",
    "outputId": "54cd344e-aeb0-4240-8a47-5f545b8464f1"
   },
   "outputs": [
    {
     "data": {
      "text/plain": [
       "2.1489680023952056e-15"
      ]
     },
     "execution_count": 31,
     "metadata": {},
     "output_type": "execute_result"
    }
   ],
   "source": [
    "Err_plot[-1]"
   ]
  },
  {
   "cell_type": "code",
   "execution_count": 32,
   "metadata": {
    "colab": {
     "base_uri": "https://localhost:8080/",
     "height": 251
    },
    "colab_type": "code",
    "id": "VAYgDwXiydLz",
    "outputId": "cbe73421-5cb6-4019-c07f-54c86a913b8f"
   },
   "outputs": [
    {
     "data": {
      "text/plain": [
       "array([ 1.58450467e-01, -2.08710167e-02,  1.58051608e-01, -9.28971234e-02,\n",
       "        3.17093854e-02,  5.10824568e-02,  8.71800652e-02,  1.26389401e-02,\n",
       "        3.72861663e-02,  2.86000502e-01, -5.98809816e-03,  2.24204759e-03,\n",
       "        2.03075862e-01,  9.46031116e-02,  2.28767051e-02,  1.49919971e-02,\n",
       "        7.60705871e-03,  2.96676614e-02,  5.76521210e-02,  1.98109871e-01,\n",
       "        1.19928211e-01,  1.27869506e-01,  1.41300443e-01,  1.36285373e-02,\n",
       "        8.83904595e-02,  1.50479883e-01,  1.69293473e-01,  7.72036844e-02,\n",
       "        8.09120869e-02,  8.24658797e-02,  1.92197926e-01, -2.40096192e-02,\n",
       "        2.64375674e-02,  7.69647345e-02,  2.20741569e-02, -1.08207563e-01,\n",
       "        1.64032735e-01,  1.77020958e-02,  6.16398189e-02, -1.08210792e-01,\n",
       "       -5.03462779e-02,  1.38834333e-01,  1.03567407e-01, -4.28198239e-02,\n",
       "        1.06872828e-02, -2.33314837e+00,  1.89811818e-01,  2.63296460e-01,\n",
       "        1.20089776e-01, -1.05535620e-01])"
      ]
     },
     "execution_count": 32,
     "metadata": {},
     "output_type": "execute_result"
    }
   ],
   "source": [
    "w"
   ]
  },
  {
   "cell_type": "code",
   "execution_count": 33,
   "metadata": {
    "colab": {
     "base_uri": "https://localhost:8080/",
     "height": 251
    },
    "colab_type": "code",
    "id": "mBp3Ru0Jg55N",
    "outputId": "40f331c4-36b4-4c76-9010-4b1ffd21a5e9"
   },
   "outputs": [
    {
     "data": {
      "text/plain": [
       "array([ 1.58450467e-01, -2.08710167e-02,  1.58051608e-01, -9.28971234e-02,\n",
       "        3.17093854e-02,  5.10824568e-02,  8.71800652e-02,  1.26389401e-02,\n",
       "        3.72861663e-02,  2.86000502e-01, -5.98809816e-03,  2.24204759e-03,\n",
       "        2.03075862e-01,  9.46031116e-02,  2.28767051e-02,  1.49919971e-02,\n",
       "        7.60705871e-03,  2.96676614e-02,  5.76521210e-02,  1.98109871e-01,\n",
       "        1.19928211e-01,  1.27869506e-01,  1.41300443e-01,  1.36285373e-02,\n",
       "        8.83904595e-02,  1.50479883e-01,  1.69293473e-01,  7.72036844e-02,\n",
       "        8.09120869e-02,  8.24658797e-02,  1.92197926e-01, -2.40096192e-02,\n",
       "        2.64375674e-02,  7.69647345e-02,  2.20741569e-02, -1.08207563e-01,\n",
       "        1.64032735e-01,  1.77020958e-02,  6.16398189e-02, -1.08210792e-01,\n",
       "       -5.03462779e-02,  1.38834333e-01,  1.03567407e-01, -4.28198239e-02,\n",
       "        1.06872828e-02, -2.33314837e+00,  1.89811818e-01,  2.63296460e-01,\n",
       "        1.20089776e-01, -1.05535620e-01])"
      ]
     },
     "execution_count": 33,
     "metadata": {},
     "output_type": "execute_result"
    }
   ],
   "source": [
    "w_ast"
   ]
  },
  {
   "cell_type": "markdown",
   "metadata": {
    "colab_type": "text",
    "id": "XyB7r1WdyxI4"
   },
   "source": [
    "La varianza entre ambos métodos también es prácticamente la misma"
   ]
  },
  {
   "cell_type": "code",
   "execution_count": 34,
   "metadata": {
    "colab": {
     "base_uri": "https://localhost:8080/",
     "height": 35
    },
    "colab_type": "code",
    "id": "jqBO82WJyxI8",
    "outputId": "4fc3c20e-4474-48f0-ac7a-44fe90187f24"
   },
   "outputs": [
    {
     "data": {
      "text/plain": [
       "array(9.45979219e-05)"
      ]
     },
     "execution_count": 34,
     "metadata": {},
     "output_type": "execute_result"
    }
   ],
   "source": [
    "w@S@w"
   ]
  },
  {
   "cell_type": "code",
   "execution_count": 35,
   "metadata": {
    "colab": {
     "base_uri": "https://localhost:8080/",
     "height": 35
    },
    "colab_type": "code",
    "id": "Amnyah_XyxJD",
    "outputId": "c98b0c72-dc01-4369-d24f-8ffbc69866e7"
   },
   "outputs": [
    {
     "data": {
      "text/plain": [
       "array(9.45979219e-05)"
      ]
     },
     "execution_count": 35,
     "metadata": {},
     "output_type": "execute_result"
    }
   ],
   "source": [
    "w_ast@S@w_ast"
   ]
  },
  {
   "cell_type": "code",
   "execution_count": 36,
   "metadata": {
    "colab": {
     "base_uri": "https://localhost:8080/",
     "height": 35
    },
    "colab_type": "code",
    "id": "wIipQXztyxJH",
    "outputId": "ed6b7e18-8121-4f08-e2e4-24fc701ab9c4"
   },
   "outputs": [
    {
     "data": {
      "text/plain": [
       "array(2.148968e-15)"
      ]
     },
     "execution_count": 36,
     "metadata": {},
     "output_type": "execute_result"
    }
   ],
   "source": [
    "utils.compute_error(w@S@w,w_ast@S@w_ast)"
   ]
  },
  {
   "cell_type": "markdown",
   "metadata": {
    "colab_type": "text",
    "id": "rQrHVp6_yxJK"
   },
   "source": [
    "Y de igual manera cumple con la restricción del rendimiento y la suma de pesos igual a 1"
   ]
  },
  {
   "cell_type": "code",
   "execution_count": 37,
   "metadata": {
    "colab": {
     "base_uri": "https://localhost:8080/",
     "height": 35
    },
    "colab_type": "code",
    "id": "VBWE_2coyxJM",
    "outputId": "f33a58b5-c42f-44d3-b29c-946d0e4e726e"
   },
   "outputs": [
    {
     "data": {
      "text/plain": [
       "array(0.40221088)"
      ]
     },
     "execution_count": 37,
     "metadata": {},
     "output_type": "execute_result"
    }
   ],
   "source": [
    "w@mu"
   ]
  },
  {
   "cell_type": "code",
   "execution_count": 38,
   "metadata": {
    "colab": {
     "base_uri": "https://localhost:8080/",
     "height": 35
    },
    "colab_type": "code",
    "id": "HldF_BmByxJQ",
    "outputId": "4f8e5036-5ccb-4283-d1e3-0526f364babf"
   },
   "outputs": [
    {
     "data": {
      "text/plain": [
       "array(5.52060167e-16)"
      ]
     },
     "execution_count": 38,
     "metadata": {},
     "output_type": "execute_result"
    }
   ],
   "source": [
    "utils.compute_error(w@mu, r)"
   ]
  },
  {
   "cell_type": "code",
   "execution_count": 39,
   "metadata": {
    "colab": {
     "base_uri": "https://localhost:8080/",
     "height": 35
    },
    "colab_type": "code",
    "id": "43LZRtzeyxJU",
    "outputId": "56c94770-9789-4190-eb77-87525b38b917"
   },
   "outputs": [
    {
     "data": {
      "text/plain": [
       "array(1.)"
      ]
     },
     "execution_count": 39,
     "metadata": {},
     "output_type": "execute_result"
    }
   ],
   "source": [
    "sum(w)"
   ]
  },
  {
   "cell_type": "markdown",
   "metadata": {
    "colab": {},
    "colab_type": "code",
    "id": "YTnj2zvey_Le"
   },
   "source": [
    "## Conclusiones\n",
    "\n",
    "Aunque con ambas variabes se obtienen resultados bastante acertados, como es de esperarse al usar función simbólica, el resultado tiene mayor precisión."
   ]
  },
  {
   "cell_type": "code",
   "execution_count": null,
   "metadata": {},
   "outputs": [],
   "source": []
  }
 ],
 "metadata": {
  "accelerator": "GPU",
  "colab": {
   "collapsed_sections": [],
   "name": "f2_Sistema_iterativo.ipynb",
   "provenance": [],
   "toc_visible": true
  },
  "kernelspec": {
   "display_name": "Python 3",
   "language": "python",
   "name": "python3"
  },
  "language_info": {
   "codemirror_mode": {
    "name": "ipython",
    "version": 3
   },
   "file_extension": ".py",
   "mimetype": "text/x-python",
   "name": "python",
   "nbconvert_exporter": "python",
   "pygments_lexer": "ipython3",
   "version": "3.6.9"
  }
 },
 "nbformat": 4,
 "nbformat_minor": 4
}
