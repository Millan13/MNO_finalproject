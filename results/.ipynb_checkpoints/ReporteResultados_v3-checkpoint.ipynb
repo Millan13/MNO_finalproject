{
 "cells": [
  {
   "cell_type": "markdown",
   "metadata": {
    "colab_type": "text",
    "id": "_Coc-bTo49Wr"
   },
   "source": [
    "## **Solución al modelo de Markowitz del portafolio de mínima varianza dada un rendimiento esperado** \n"
   ]
  },
  {
   "cell_type": "markdown",
   "metadata": {
    "colab_type": "text",
    "id": "-QQkB_0t5kGH"
   },
   "source": [
    "## 1. Introducción \n",
    "En el contexto de finanzas, un problema relevante es definir estrategias que permitan a los inversionista diversificar sus inversiones con el objetivo de minimizar el riesgo de su capital. Típicamente, esto corresponde con que un inversionista tiene interés en un conjunto definido de activos, denominado *portafolio*, sobre  el cual la decisión de inversión es la siguiente: saber en que acciones de dicho portafolio invertir y saber que proporción de dinero invertir en dichos activos, considerando que el inversionista es racional y desea obtener un determinado rendimiento $r > 0$.\n",
    "\n",
    "Sin embargo, es deseable que la elección considere reducir el riesgo inherente al mercado de inversiones, los que se traduce en obtener el portafolio de *mínima varianza*, que en otras palabras significa obtener el portafolio de menor riesgo para inversionistas aversos al riesgo, donde se espera obtener las ponderaciones o proporciones que el inversionista debe invertir en las acciones evaluadas en un vector de todo el conjunto de acciones.\n",
    "\n",
    "Dentro de la teoría financiera este problema tuvo particular interés en los años 90, siendo estudiado por el economista Harry Markowitz. Su formulación matemática es denominada *Modelo de Markowitz*, misma que se enfoca en los inversionistas aversos al riesgo, buscando la integración del portafolio de mínima varianza (o menor riesgo), en donde el riesgo esta determinado por la desviación estandar de los activos o acciones. Con ello en mente, el objetivo del modelo es encontrar la proporción de dinero que cierto inversionista debe invertir en un conjunto de acciones. A estas proporciones se les denota como $w_i$ y son conocidas como *pesos*, mismos que indican el porcentaje a destinar o invertir en las acciones de una acción de cierta empresa.\n",
    "\n",
    "Esencialmente, la solución de este problema busca la frontera de posibilidades de alocación para invertir y se enfoca en la parte superior de esta frontera porque justamente en esa parte los rendimientos son positivos. Dicha frontera es representada por un función concava horizontal y el punto mínimo de esta función representa la varianza más baja posible que se puede lograr para un rendimiento esperado de una cartera determinada. Dados los datos de entrada para los retornos, variaciones y covarianzas esperados, podemos calcular la cartera de variación mínima para cualquier rendimiento esperado.\n",
    "\n",
    "Considerando todo lo anterior, el presente reporte tiene por objetivos mostrar los resultados obtenidos en este proyecto para dar solución al *Modelo de Markowitz* a través de los siguientes métodos:<br>\n",
    "\n",
    "1) Un solver basado en multiplicadores de Lagrage del problema de optimización con restricciones.<br>\n",
    "2) El método de Newton con restricciones de igualdad a partir de un punto factible.<br>\n",
    "\n"
   ]
  },
  {
   "cell_type": "markdown",
   "metadata": {
    "colab_type": "text",
    "id": "zahYn_YXY8bX"
   },
   "source": [
    "## 2. Consideraciones metodológicas"
   ]
  },
  {
   "cell_type": "markdown",
   "metadata": {
    "colab_type": "text",
    "id": "eOe9i7TG5kJF"
   },
   "source": [
    "### 2.1 Definición del problema\n",
    "\n",
    "Dentro de la teoría financiería, el *Modelo de Markowitz* corresponde con  el problema minimizar la siguiente función objetivo junto con una serie de restricciones de tipo lineal: <br>\n",
    "\n",
    "$$\\min_{w}  \\frac{1}{2} w^t \\Sigma w$$ <br>\n",
    "\n",
    "* Donde $w$ es el vector de pesos de las acciones que puede ser inicializado de forma aleatoria.<br>\n",
    "* $\\Sigma$ es la matriz de varianzas y covarianzas asociada a los rendimientos de los activos en un periodo de interés.\n",
    "\n",
    "Este es un problema con restricciones y son las siguientes:\n",
    "* La integración del portafolio en términos de sus pesos otorgue un nivel de retorno esperado $r>0$ al inversionista, que es prefijado de antemano:\n",
    "\n",
    "<br>$$ w^t \\mu= r$$<br>\n",
    "\n",
    "* Además, se debe agotar todo el presupuesto disponible para diversificar en las acciones del portafolio, lo que en términos de la expresiones de sus pesos redudan, si $w$ denota a la forma vectorial de los pesos $w_i$ de portafolio, entonces la suma de los mismos es igual a 1, lo que puede escribirse como:\n",
    "\n",
    "<br>$$ w^t 1= 1$$<br>\n",
    "\n",
    "### 2.2 Portafolio de activos\n",
    "\n",
    "La revisión de información para emplear el *Modelo de Markowitz* en una aplicación práctica abarcó la revisión de fuentes públicas y privadas. A efecto de garantizar la replicabilidad de los cálculos, se estimó pertinente apegarse a los siguientes principios:\n",
    "\n",
    "  * Considerar empresas que cotizaran en bolsa -a saber, en NYSE, Bolsa de Nueva York, NASDAQ-Bolsa de Valores Nasdaq, LSE-London Stock Group y \n",
    "SEHK- Bolsa de valores de Hong Kong) y cuya información se pueda consultar públicamente a través de una API o framework ya implementado (se decidio emplear la libreria de Python que extrae información de la plataforma Yahoo Finance),\n",
    "  * Emplear precios históricos en un periodo de tiempo amplio, para capturar la variabilidad inherente a la fluctuación de precios de acciones a lo largo del tiempo. En concreto, para considerar el comportamiento histórico de las acciones de dichas empresas, se consideró la información financiera de los últimos 5 años para hacer el análisis (esto es, desde el 1 de enero de 2015 al 30 de abril de 2020).\n",
    "  * Enfocarse en empresas de diversos sectores de la economía, como haría un inversionista experimentado o fondo de inversión en la realidad para diversificar sus inversiones.\n",
    "  * Considerar únicamente empresas destacados, en este caso bajo el criterio de selección de aquellas que cuentan con mayor participación en el mercado (al momento de realizar este proyecto). \n",
    "  \n",
    "En concreto, se consideraron 50 empresas, cuya información se resume en el siguiente cuadro:\n",
    "\n",
    "|Código Bursátil| Nombre de la empresa                           | Industria               |\n",
    "| --------- | ------------------------------------------------| ----------------------- |\n",
    "| XOM       | Exxon Mobil Corporation                         | Energía                 |\n",
    "| CVX       | Chevron Corporation                             | Energía                 |\n",
    "|RDSA.AS    | Royal Dutch Shell                               | Energía                 |\n",
    "|RELIANCE.NS| Reliance Industries Limited                      | Energía                 |\n",
    "| COP       | Conoco Phillips                                  | Energía                 |\n",
    "| AMT       | American Tower Corporation                      | Inmobiliaria            |\n",
    "| CCI       | Crown Castle International Corp                 | Inmobiliaria            |\n",
    "| PLD       | Prologis, Inc                                   | Inmobiliaria            |\n",
    "| DLR       | Digital Realty Trust, Inc                       | Inmobiliaria            |\n",
    "| 0688.HK   | China Overseas Land & Investment Limited        | Inmobiliaria            |\n",
    "| LIN       | Linde plc                                       | Materiales              |\n",
    "| BHP.AX    | BHP Group                                       | Materiales              |\n",
    "| RIO.L     | Rio tinto Group                                 | Materiales              |\n",
    "| AI.PA     | L'Air Liquide S.A                               | Materiales              |\n",
    "| 2010.SR   | Saudi Basic Industries                          | Materiales              |\n",
    "| LMT       | Lockhedd Martin Corporation                     | Materiales Industriales |\n",
    "| HON       | Honeywell International Inc                     | Materiales Industriales |\n",
    "| UPS       | United Parcel Service. Inc                      | Materiales Industriales |\n",
    "| UNP       | Union Pacific Corporation                       | Materiales Industriales |\n",
    "| RTX       | Raytheon Technologies Corporation               | Materiales Industriales |\n",
    "| AMZN      | Amazon.com, Inc                                 | Consumo Discrecional    |\n",
    "| BABA      | Alibaba Group Holding Limited                   | Consumo Discrecional    |\n",
    "| HD        | The Home Depot, Inc                             | Consumo Discrecional    |\n",
    "| MC.PA     | LVMH Louis Vuitton, Société Europèenne          | Consumo Discrecional    |\n",
    "| 7203.T    | Toyota Motor Corporation                        | Consumo Discrecional    |\n",
    "| WMT       | Walmart Inc                                     | Retail                  |\n",
    "| PG        | The Procter & Gamble Company                   | Retail                  |\n",
    "| KO        | The Coco-Cola Company                           | Retail                  |\n",
    "| PEP       | PesiCo Inc                                      | Retail                  |\n",
    "| NSRGY     | Nestlé S.A                                      | Retail                  |\n",
    "| JNJ       | Johnson & Johnson                                | Cuidado Personal        |\n",
    "| UNH       | UnitedHealth Group Incorporated                 | Cuidado Personal        |\n",
    "| PFE       | Pfizer Inc                                      | Cuidado Personal        |\n",
    "| MRK       | Merk & Co., Inc                                 | Cuidado Personal        |\n",
    "| RHHBY     | Roche Holding AG                                | Cuidado Personal        |\n",
    "| VTI       | Vanguard Total Stock Market ETF                  | Financiera              |\n",
    "| VOO       | Vanguard S&P 500 ETF                            | Financiera              |\n",
    "| BRK-A     | Bekshire Hathaway Inc                           | Financiera              |\n",
    "| 1398.HK   | Industrial and Commercial Bank of China Limited | Financiera              |\n",
    "| JPM       | JPMorgan Chase & Co                             | Financiera              |\n",
    "| MSFT      | Microsoft Corporation                           | Tecnología              |\n",
    "| AAPL      | Apple Inc                                       | Tecnología              |\n",
    "| V         | Visa Inc                                        | Tecnología              |\n",
    "| 005930.KS | Samsung Electronics                             | Tecnología              |\n",
    "| MA        | Mastercard Incorporated                         | Tecnología              |\n",
    "| GOOG      | Alphabet Inc                                    | Comunicación            |\n",
    "| FB        | Facebook, Inc                                   | Comunicación            |\n",
    "| 0700.HK   | Tencent Holdings Limited                        | Comunicación            |\n",
    "| VZ        | Verizon Communications Inc                      | Comunicación            |\n",
    "| T         | AT&T Inc                                        | Comunicación            |\n",
    "\n",
    "A este respecto, se puede ilustrar el comportamiento de tales activos a los largo del periodo comprendido del 1 de enero de 2015 al 30 de abril de 2020, como se muestra en las imágenes:"
   ]
  },
  {
   "cell_type": "markdown",
   "metadata": {
    "colab_type": "text",
    "id": "OAe91DAWeLCi"
   },
   "source": [
    "![Serie de tiempo sector retail](https://github.com/czammar/MNO_finalproject/blob/graficas/images/st_rendimiento_retail.png?raw=True)\n",
    "\n",
    "Se puede observar que en la industria de retail las acciones presentan variaciones a lo largo del tiempo por lo que se esperaría que en un portafolio los pesos no sean altos debido a que se espera una menor variabilidad en los rendimientos.\n",
    "\n",
    "\n",
    "![Serie de tiempo sector comunicación](https://github.com/czammar/MNO_finalproject/blob/graficas/images/st_rendimiento_comunicacion.png?raw=True)\n",
    "\n",
    "Observando la gráfica de rendimientos de la industria de comunicación se puede obervar que a diferencia de la indutria de retail no existe tanta fluctuación a través del tiempo. Se puede ver que las acciones de GOOG presentan una tendencia a la alza y también se puede observar que existen picos a lo largo del tiempo por lo que se podría deber a un efecto estacional en los datos."
   ]
  },
  {
   "cell_type": "markdown",
   "metadata": {
    "colab_type": "text",
    "id": "axQNcV95eLKu"
   },
   "source": [
    "### 2.3 Cálculo de rendimientos del portafolio de activos\n",
    "\n",
    "En complemento a lo anterior, se realizarion las siguientes consideraciones metodológicas en torno a los rendimientos del portafolio de activos seleccionado:\n",
    "\n",
    "* Para el cálculo de los rendimientos esperados de cada una de las empresas, se estímó pertinente evaluarlo a través de los precios de cierre diarios a partir de la fórmula del *rendimiento instantáneo* en escala logarítimica:\n",
    "\n",
    "$$rendimiento = log\\tfrac{P_t}{P_{t-1}}$$\n",
    "\n",
    "Ello para evitar problemas numéricos debidos a la escala de los rendimientos.\n",
    "\n",
    "* En lo tocante a como se debe determinar el vector de pesos asociado al portafolio de activos $W$, se consideró relevante pensarlos como una proporción, lo que equivale a que la suma de la entradas sea igual a 1.\n",
    "\n",
    "* Por otro lado, el rendimiento esperado del portafolio se obtiene haciendo el producto punto del vector de rendimientos medios de los activos en el periodo en cuestión y los pesos del portafolio elegido, cumpliendo los portafolios factibles la restricción $$r=w^t$$. \n",
    "\n",
    "* Es relevante apuntar que en un entorno de inversión, los pesos pueden ser negativos porque existen las ventas en corto (*short sale*), que implican que los inversores podrían tener una ganancia si tienen algún contrato de préstamo de títulos accionarios, los cuales deben devolver a una fecha futura y podrían devolverlos a un precio menor.\n",
    "\n",
    "* Finalmente, la matriz de varianzas y covarianzas de los portafolios se calcula como las correspondientes matrices de varianzas y covarianzas rendimientos de las acciones en el periodo de los últimos 5 años para hacer el análisis (es decir, 1 de enero de 2015 al 30 de abril de 2020).\n",
    "\n",
    "* Cabe destacar que en razón de que la series de tiempo no incluyen fines de semana, puesto que, como regla general del mercado, en tales dias no se cotiza en las bolsas."
   ]
  },
  {
   "cell_type": "markdown",
   "metadata": {
    "colab_type": "text",
    "id": "IYIR0Fw8eLSq"
   },
   "source": [
    "### 2.4 Metodologías para encontrar la solución del Modelo de Markowitz\n",
    "\n",
    "A continuación se procederá a describir las dos metodología abordadas en este proyecto para dar solución al Modelo de Markowitz.\n",
    "\n",
    "#### 2.4.1 Solver basado en multiplicadores de Lagrage \n",
    "En este caso, el problema de minimización se aborda calculando la solución analítica del problema de optimización recién descrito, empleando la expresión del Lagrangiano del problema de optimización considerando las respectivas restricciones, aprovechando que la matriz de covarianzas es simétrica y definida positiva.\n",
    "\n",
    "**Solución:** Aplicar el método de multiplicadores de Lagrange al problema de optimización convexa (minimización) sujeto a restricciones lineales del Modelo de Markowitz:\n",
    "\n",
    "- Definimos el Lagrangiano del problema:\n",
    "\n",
    "$$L(w,\\lambda_{1}, \\lambda_{2}) = \\frac{1}{2}w^T\\Sigma w +  \\lambda_{1}(r-w^T\\mu) + \\lambda_{2}(1-w^T1_{n})$$\n",
    "\n",
    "- En consecuencia, las condiciones de primer orden que debe satisfacer el punto factible del problema, quedan en función de lo siguiente:\n",
    "\n",
    " $$\\frac{\\delta L}{\\delta w} = 0_{n} = \\Sigma w - \\lambda_{1}\\mu - \\lambda_{2}1_{n}$$\n",
    "\n",
    " $$\\frac{\\delta L}{\\delta \\lambda_{1}} = 0 = r -w^T\\mu$$\n",
    "\n",
    "$$\\frac{\\delta L}{\\delta \\lambda{2}} = 0 = 1 -w^T1_{n}$$\n",
    "\n",
    "- Resolviendo para **w** en términos de $\\lambda_{1}, \\lambda_{2}$\n",
    "\n",
    "$$w_0 = \\lambda_1 \\Sigma^{-1} \\mu + \\lambda_2 \\Sigma^{-1} 1_n$$\n",
    "\n",
    "\n",
    "- Por otro lado, resolviendo para $\\lambda_{1}, \\lambda_{2}$ y sustituyendo para **w** se sigue:\n",
    "\n",
    "  $$r = w^T 1_{n} = \\lambda_{1}(\\mu^T\\Sigma^{-1} \\mu ) + \\lambda_{2}(\\mu^T\\Sigma^{-1}1_{n})$$\n",
    "  $$ 1 = w^T 1_{n} = \\lambda_{1}(\\mu^T\\Sigma^{-1}1_{n}) + \\lambda_{2}(1^T_{n}\\Sigma^{-1}1_{n})$$\n",
    "\n",
    "Tras una serie de manipulaciones algebráicas se puede ver que las ecuaciones previas pueden ser resueltas de manera analítica el resolver el sistema lineal:\n",
    "\n",
    "$$ \\begin{bmatrix} r\\\\ 1 \\end{bmatrix} = \\begin{bmatrix} a & b \\\\ b & c  \\end{bmatrix} \\begin{bmatrix} \\lambda_{1}\\\\ \\lambda_{2} \\end{bmatrix} $$\n",
    "\n",
    "En donde:\n",
    "\n",
    "* $a =\\mu\\Sigma^{-1} 1_n$,\n",
    "* $b =\\mu\\Sigma_{-1}1_{n}$,\n",
    "* $c = 1^T_{n}\\Sigma^{-1}1_{n}$\n",
    "\n",
    "De lo anterior y tras un poco de álgebra, se puede ver que la solución del sistema de Markowitz se puede encontrar como sigue:\n",
    "\n",
    "Formamos al vector $$w^{*}=w_{0}\\cdot (\\Sigma^{-1}\\cdot \\mu)+w_{1}\\cdot (\\Sigma^{-1}\\cdot 1)$$\n",
    "  * Donde los vectores involucrados tienen las siguientes expresiones:\n",
    "\n",
    "$$w_{0}=\\frac{1}{\\Delta }(\\hat{r}\\cdot B-C)]$$\n",
    "\n",
    "$$ w_{1}=\\frac{1}{\\Delta }(A-C\\cdot \\hat{r})$$\n",
    "\n",
    "* Donde :<br />\n",
    "   $$\\Delta =A\\cdot B-C^2$$\n",
    "  $$A=\\mu^t\\cdot \\Sigma^{-1}\\cdot \\mu$$\n",
    "   $$ B= 1^t\\cdot \\Sigma^{-1}\\cdot 1$$\n",
    "   $$C= 1^t\\cdot \\Sigma^{-1}\\cdot \\mu$$\n",
    "\n",
    "  De todo lo anterior se desprende, que se puede estimar la solución analítica del *Modelo de Markowitz* a través de las ecuaciones recién descritas.\n",
    "\n",
    "  Tales hechos fueron aprovechados en la implementación en la librería Cupy de Python realizada para resolver el *Modelo de Markowitz*.\n"
   ]
  },
  {
   "cell_type": "markdown",
   "metadata": {
    "colab_type": "text",
    "id": "81LDxd5meLay"
   },
   "source": [
    "#### 2.4.2  Solver basado en el método de Newton con restricciones de igualdad\n",
    "\n",
    "Es relevante destacar que en la teoría de optimización es posible aproximar las soluciones de un problema de optimización sujeto a restricciones lineales, si se cumplen ciertos supuestos:\n",
    "\n",
    "* La función objetivo es convexa y dos veces continuamente diferenciables,\n",
    "* El número de restricciones es menor al número de variables y tales restricciones son idenpendientes,\n",
    "\n",
    "En tal caso, es posible probar que por condiciones necesarias y suficientes de Karush-Kuhn-Tucker (también conocidas como las condiciones KKT o Kuhn-Tucker), es posible observar que la solución del problema de minimización equivale a resolver un problema denominado \"dual\". Concretamente se sabe que, existe una equivalencia lógica entre las siguientes proposiciones:\n",
    "\n",
    "* $x^* \\in dom(f)$ es óptimo\n",
    "* $\\exists \\nu^* \\in \\mathbb{R}^p (Ax^*=b, \\nabla f(x^*)+ A^T \\nu^*=0)$\n",
    "\n",
    "Nota: típicamente las ecuaciones involucradas se denominan a través de la siguiente terminología:\n",
    "\n",
    "* Ecuaciones de factibilidad primal: $$A x^* =b$$\n",
    "* Ecuaciones de factibilidad dual: $$\\nabla f(x^*)+ A^T \\nu^*=0$$\n",
    "\n",
    "Aprovechando lo anterior, se puede extender el método de Newton para resolver las ecuaciones de KKT, de manera que pueda aproximarse la solución del problema de optimización original; ello se basa en los siguientes hechos:\n",
    "\n",
    "* El punto inicial debe ser factible, es decir debe estar en el dominio de la función objetivo y satisfacer las restricciones lineales.\n",
    "* El paso de Newton se debe modificar para que satisfaga las conducentes restricciones.\n",
    "* Lo anterior se puede lograr aproximando la función objetivo, considerando su expansión derivada del teorema de Taylor hasta el término de segundo orden, $\\hat{f}(x+ \\nu^*)$, de modo que puede considerarse un nuevo problema de optimización dado por: $$\\min \\hat{f}(x+ \\nu^*)$$\n",
    "* El paso de Newton en un punto $x$, se define como la solución única al problema de minimización cuadrática previo con matriz KKT no singular; el cual se denota específicamente como $$\\Delta {x_n}_t$$ y se encuentra en términos de las ecuaciones matriciales:\n",
    "\n",
    "\n",
    "$$ \\begin{bmatrix} \\nabla^2 f(x) & A^T \\\\ A & 0  \\end{bmatrix} \\begin{bmatrix} \\Delta x_t  \\\\ W  \\end{bmatrix}  = \\begin{bmatrix} -\\nabla f(x)  \\\\ 0  \\end{bmatrix} $$\n",
    "\n",
    "* En este último caso *w* es la variable óptima dual asociada.\n",
    "\n",
    "**Notas:** En este caso, las implementaciones típicamente echan mano de una cantidad conocida como *decremento de Newton* $\\lambda(x)=(\\Delta {x_n}t^T \\nabla^2 f(x) \\Delta {xn}t)^{1/2}$, la cual guarda información útil en las búsquedas de direcciones factibles, como las búsquedas de línea y que puede emplearse como criterio de paro en procesos iterativos, como en el que nos ocupa.\n",
    "\n",
    "Con todos los elementos anteriores, nos encontramos en condiciones de describir el Algortimo del método de Newton para un problema de optimización con restricciones de igualdad:\n",
    "\n",
    "**Algortimo del método de Newton para un problema de optimización con restricciones de igualdad**\n",
    "\n",
    "* Repetir hasta alcanzar convergencia:\n",
    "  1. Calcular el paso y decremento de Newton, $${x_n}_t^T, \\lambda(x)$$\n",
    "  2. *Revisar criterio de paro:* terminar método si $$\\frac{ \\lambda(x)}{2} \\leq \\epsilon$$\n",
    "  3. *Búsqueda de línea:* elegir el método de paso por backtracking line search,\n",
    "  4. *Actualizar:* $x+t \\Delta {x_n}_t$\n",
    "\n",
    "**Método de Newton para Modelo de Markowitz**\n",
    "\n",
    "Para el problema de optimización derivado del modelo en comento, se cumplen las hipótesis que permiten aplicar el solver previamente descrito. Cabe destacar que las restricciones lineales se pueden representar por $Aw = b$ en donde, si $\\mu$ es el vector de rendimientos medios \n",
    "\n",
    "$$ A = \\begin{bmatrix} \\mu^T \\\\ 1_n^T  \\end{bmatrix} \\mbox{ y }  b = \\begin{bmatrix} r \\\\ 1  \\end{bmatrix} $$\n",
    "\n",
    "De manera particular, ello implica que se puede obtener un punto factible para tales restricciones lineales, resolviendo las ecuaciones normales del sistema inducido por estas, es decir, encontrando la solución de\n",
    "\n",
    "$$ A^T A w=  A^Tb$$\n",
    "\n",
    "Tales hechos fueron aprovechados en la implementación en la librería Cupy de Python realizada para resolver el *Modelo de Markowitz*\n",
    "\n",
    "#### 2.4.3 Implementaciones\n",
    "\n",
    "El detalle de las implementaciones realizadas se puede conocer a través de los siguientes vínculos:\n",
    "\n",
    "[WIP: añadir referencias cruzadas a las implementaciones]\n"
   ]
  },
  {
   "cell_type": "markdown",
   "metadata": {
    "colab_type": "text",
    "id": "V1pTrWnmeLsw"
   },
   "source": [
    "## 3. Resultados\n",
    "\n",
    "En esta sección se abordan los resultados obtenidos para el portafolio de activos descrito previamente, empleando las implementaciones que permiten encontrar la solución del modelo\n"
   ]
  },
  {
   "cell_type": "markdown",
   "metadata": {
    "colab_type": "text",
    "id": "dCqho7-IeMdF"
   },
   "source": [
    "### 3.1 Comparativo de solver basado en multiplicadores de Lagrange y método de Newton\n",
    "\n",
    "Para comparar el desempeño de ambos solvers, se decidió variar el valor del rendimiento $r$ en un rango de [WIP: espeficificar rango]. Al respecto, los resultados obtenidos se resumen en la siguiente tabla:\n",
    "\n",
    "[WIP: añadir tabla que compare la norma de la diferencia y el valor absoluto entre ambos]\n",
    "\n",
    "De lo anterior, se desprenden los siguientes hallazgos:\n",
    "\n",
    "* [WIP: hallazgo 1]\n",
    "* [WIP: hallazgo 2]\n",
    "* [WIP: hallazgo 3]\n",
    "\n"
   ]
  },
  {
   "cell_type": "markdown",
   "metadata": {
    "colab_type": "text",
    "id": "CTJ3ysi8eMY1"
   },
   "source": [
    "### 3.2 Comparativo de varianza obtenida con diferentes retornos\n",
    "\n",
    "Dados los resultados mostrados en el comparativo anterior, en este caso se decidió emplear el solver basado en multiplicadores de Lagrange. Por otra parte, para este experimento el interés reside en mostrar el comportamiento de la expresión de varianza $$w^T\\Sigma w$$ al modificar el valor del rendimiento $r$ en un rango de (-1,1). \n",
    "\n",
    "Al respecto, los resultados obtenidos se resumen mediante la siguiente gráfica:<br> \n",
    "\n",
    "\n",
    "![](https://github.com/czammar/MNO_finalproject/blob/master/images/grafica12.png?raw=true)\n",
    "\n",
    "De lo anterior, se desprenden los siguientes hallazgos:\n",
    "\n",
    "* Se cumple la premisa financiera que señala : *\"a mayor riesgo mayor rendimiento\"*, ya que al aumentar el rendimiento en un rango (-1,1) se obtuvó que conforme éste va incrementando el riesgo es mayor sobre el porfalio de activos, que básicamente se conoce como *trade-off*.\n",
    "* Los puntos eficientes en la frontera son aquellos que estan en la curva roja, se podría decir que en esos puntos el inversionista agota su presupuesto, pero en nuestro problema de optimización se busca agotar el presupuesto y del mismo modo minimizar el riesgo/varianza de los activos.\n",
    "* Todas las carteras que se encuentran por arriba de la frontera de varianza mínima (a partir de los portafolios color naranja) proporcionan las mejores combinaciones de riesgo-rendimiento y, por lo tanto, son candidatos a portafolio óptimo."
   ]
  },
  {
   "cell_type": "markdown",
   "metadata": {
    "colab_type": "text",
    "id": "rsGMPxufeMKk"
   },
   "source": [
    "### 3.3 Comparativo de valores de pesos del portafolio obtenida con diferentes retornos\n",
    "\n",
    "En este caso nuevamente se decidió emplear el solver basado en multiplicadores de Lagrange. Aquí, el interés reside en mostrar el comportamiento de los pesos a los largo del portafolio al modificar el valor del rendimiento $r$ en un rango de (0,.6)\n",
    "\n",
    "Al respecto, los resultados obtenidos se resumen mediante las siguientes gráficas:\n",
    "\n",
    "![](https://github.com/czammar/MNO_finalproject/blob/master/images/grafica4.png?raw=true)\n",
    "\n",
    "![](https://github.com/czammar/MNO_finalproject/blob/master/images/grafica5.png?raw=true)\n",
    "\n",
    "\n",
    "De lo anterior, se desprenden los siguientes hallazgos:\n",
    "\n",
    "* En la gráfica 4, se obtienen los pesos del portafolio evaluado con un rendimiento referencia de 40%, y se observa que los activos que requieren mayor asignación de inversión son GOOG (Alphabet Inc) y 1398.HK (Industrial and Commercial Bank of China Limited) en 0.28454 y 0.26264 respectivamente. Y el modelo recomienda que el inversionista tome una posición corta en las acciones de PEP (PesiCo Inc) en -2.32468, debido a que en el modelo se asume que existen *ventas en corto*, esto implicaría que se recomienda comprar acciones PEP para cubrir una deuda de títulos a un precio menor. \n",
    "* Del mismo modo, cuando se incrementa el rendimiento a 60% (Gráfica 5) las acciones de GOOG y 1398.HK se mantienen como las mayores proporciones, ya que se acomplan con tener un riesgo moderado para el modelo.\n",
    "* Otro dato importante a señalar es que estos rendimientos del portafolio 40% y 60% respectivamente, si se compararan con una tasa de libre riesgo rf = 5.7% por ejemplo de Cetes a a 28 días, se puede concluir que son comparables porque justamente ambas opciones de inversión son de bajo riesgo y no ofrecen una prima de riesgo. Es por eso que este modelo es para inversionistas conservadores, los cuales desean tener certeza de sus flujos futuros."
   ]
  },
  {
   "cell_type": "markdown",
   "metadata": {
    "colab_type": "text",
    "id": "nYG9sFL_eMHb"
   },
   "source": [
    "### 3.4 Comparativo de valores de pesos de determinado activo del portafolio obtenida con diferentes retornos\n",
    "\n",
    "Nuevamente se decidió emplear el solver basado en multiplicadores de Lagrange. En este experimento el interés reside en mostrar el comportamiento de los pesos del portafolio que se localizan en un activo específico al modificar el valor del rendimiento $r$ en un rango de [0.01,1]. \n",
    "\n",
    "En concreto, los activos elegidos fueron GOOG y KO.\n",
    "\n",
    "Al respecto, los resultados obtenidos se resumen mediante las siguientes gráficas:\n",
    "\n",
    "![](https://github.com/czammar/MNO_finalproject/blob/graficas/images/retorno_esperado_vs_peso.jpeg?raw=True)\n",
    "\n",
    "\n",
    "De lo anterior, se desprenden los siguientes hallazgos:\n",
    "\n",
    "* Las acciones de GOOG presentaban un crecimiento a lo largo del tiempo en los datos, además de no presentar fluctuaciones extremas en los datos. Se puede observar que conforme se aumenta el rendimiento esperado el peso de la acción aumenta.\n",
    "* En el caso contrario, en las acciones de KO no mostraban un crecimiento a lo largo del tiempo, además de presentar fluctuaciones en los últimos periodos; debido a esto confrome aumenta el rendiminto esperado el peso de la acción dismunye.\n",
    "* Se puede obervar que la relación rendimiento esperado y peso sigue es lineal y concuerda las gráficas 4 y 5."
   ]
  },
  {
   "cell_type": "markdown",
   "metadata": {
    "colab_type": "text",
    "id": "yPnr21RbeL_O"
   },
   "source": [
    "### 3.5 Otro Comparativo\n",
    "\n",
    "En este caso nuevamente se decidió emplear el solver basado en multiplicadores de Lagrange. Aquí, el interés reside en [WIP: espeficificar premisas del comparativo y porque es relevante]. \n",
    "\n",
    "Al respecto, los resultados obtenidos se resumen mediante las siguientes gráficas:\n",
    "\n",
    "[WIP: añadir gráfico relevante 1]\n",
    "\n",
    "[WIP: añadir gráfico relevante 2]\n",
    "\n",
    "\n",
    "De lo anterior, se desprenden los siguientes hallazgos:\n",
    "\n",
    "* [WIP: hallazgo 1]\n",
    "* [WIP: hallazgo 2]\n",
    "* [WIP: hallazgo 3]"
   ]
  },
  {
   "cell_type": "markdown",
   "metadata": {
    "colab_type": "text",
    "id": "Eo-7HUWVeL3V"
   },
   "source": [
    "## 4. Conclusiones\n",
    "\n",
    "* Este proyecto se encargó de realizar dos implementaciones que permiten resolver el **Modelo de Markowitz** a través en la librería CuPy del lenguaje Python empleando dos métodos: 1) uno basado en multiplicadores de Lagrange y 2) otro basado en el método de Newton para aproximar numéricamente la solución de un problema de optimización con restricciones linealeales de igualdad,\n",
    "\n",
    "* El **método de multiplicadores de Lagrange** puede ser útil para resolver problemas de optimización que surgen en diferentes contextos como el área de finanzas,\n",
    "\n",
    "* El **método de Newton** se puede extender para aproximar numéricamente la solución de un problema de optimización con restricciones linealeales de igualdad, junto con las condiciones KKT, así como con técnicas clásicas de otros métodos iterativos, tales como el backtraking y la búsqueda de línea.\n",
    "\n",
    "* Cupy es un framework sumamente útil de Python que nos permite aprovechar las capacidades de tarjetas GPU para resolver problemas de cómputo científico, con una curva de aprendizaje muy pequeña si ya se conocen herramientas como Numpy,\n",
    "\n",
    "* Las herramientas de cómputo en la nube (AWS) y los entornos de virtualización (Docker) se pueden aprovechar en nuestro benefinicio para resolver problemas complejos, con soluciones que pueden ser compartidas y replicadas fácilmente a través de estos medios.\n",
    "\n",
    "* Sin perjuicio de lo anterior, también se considera relevante destacar una serie de experiencias y aprendizajes obtenidas en el desarrollo de este proyecto:,\n",
    "\n",
    "**Sobre teoría e implementación**\n",
    "\n",
    "* Aunque la teoría puede tener resultados sólidos sobre temas de métodos numéricos, se requiere tiempo y discusión para aterrizar el proceso creativo en código realista. Sin embargo, una buena base teórica y visión para el proceso de programación son claves para el éxito de los proyectos\n",
    "* El diseño de un buen método para implementar un algoritmo es crucial,\n",
    "* Sin embargo, siempre hay más de una solución posible para un problema que puede arrojar resultados confiables,\n",
    "* No se puede pensar solo en el diseño de la implementación, sin tener en cuenta la infraestructura necesaria para lograrlo. AWS y Docker son alternativas formidables para usar GPU's sin tanto dolor!!\n",
    "* Se requiere aprender estrategias y herramientas de software/hardware para bajar tiempos, mejorar pruebas y demás que aseguren el éxito de los proyectos,\n",
    "* Siempre es necesario correr pruebas sobre el código, aunque se piense que la implementación funciona bien,\n",
    "\n",
    "**Sobre trabajo en equipo y Github**\n",
    "* Github puede ser una gran herramienta para el desarrollo colaborativo,\n",
    "* El fácil asignar tareas y resolver conflictos usando flujos basados en branches de Github,\n",
    "* Se pueden obtener parámetros del desempeño de todos el proyecto y de los individuos que participan a través de las interfaces de Github,,\n",
    "* Aún con lo anterior, pueden ocurrir errores si las personas no se comunican con claridad y si no se tiene claridad de los objetivos del proyecto\n",
    "* El trabajo en equipo necesita compromiso y tiempo de los integrantes, además de que el project manager tenga suficiente visión para organizar al equipo en harás de conseguir las metas del proyecto."
   ]
  }
 ],
 "metadata": {
  "accelerator": "GPU",
  "colab": {
   "collapsed_sections": [],
   "name": "ReporteResultados_v3.ipynb",
   "provenance": []
  },
  "kernelspec": {
   "display_name": "Python 3",
   "language": "python",
   "name": "python3"
  },
  "language_info": {
   "codemirror_mode": {
    "name": "ipython",
    "version": 3
   },
   "file_extension": ".py",
   "mimetype": "text/x-python",
   "name": "python",
   "nbconvert_exporter": "python",
   "pygments_lexer": "ipython3",
   "version": "3.7.4"
  }
 },
 "nbformat": 4,
 "nbformat_minor": 4
}
