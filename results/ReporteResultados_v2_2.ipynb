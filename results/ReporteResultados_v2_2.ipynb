{
  "nbformat": 4,
  "nbformat_minor": 0,
  "metadata": {
    "accelerator": "GPU",
    "colab": {
      "name": "ReporteResultados_v2.2.ipynb",
      "provenance": [],
      "collapsed_sections": []
    },
    "kernelspec": {
      "display_name": "Python 3",
      "language": "python",
      "name": "python3"
    },
    "language_info": {
      "codemirror_mode": {
        "name": "ipython",
        "version": 3
      },
      "file_extension": ".py",
      "mimetype": "text/x-python",
      "name": "python",
      "nbconvert_exporter": "python",
      "pygments_lexer": "ipython3",
      "version": "3.7.3"
    }
  },
  "cells": [
    {
      "cell_type": "markdown",
      "metadata": {
        "colab_type": "text",
        "id": "_Coc-bTo49Wr"
      },
      "source": [
        "## **Solución del portafolio de mínima varianza con el método de Marcowitz** \n"
      ]
    },
    {
      "cell_type": "markdown",
      "metadata": {
        "colab_type": "text",
        "id": "-QQkB_0t5kGH"
      },
      "source": [
        "\n",
        "\n",
        "**Infraestructura de ejecución**:En este notebook se utilizó colab para la ejecución del algoritmo, pero se tiene una instancia en AWS con un Docker file configurado para la ejecución del algoritmo con GPU's."
      ]
    },
    {
      "cell_type": "markdown",
      "metadata": {
        "colab_type": "text",
        "id": "eOe9i7TG5kJF"
      },
      "source": [
        "**Definición del problema:**<br>\n",
        "Se busca implementar un algoritmo (en paralelo) con la herramienta de *cupy* del lenguaje de pyhton para encontrar la proporción de dinero que cierto inversionista debe invertir en un conjunto de acciones. A estas proporciones las denotaremos $wi$ o pesos, que finalmente será una tabla que indique el nombre de la acción evaluada y el porcentaje a destinar o invertir en dicha empresa.<br>\n",
        "\n",
        "Este algoritmo se basa en el modelo de **Markovitz**, en el cual se busca la frontera de posibilidades de alocación para invertir y se enfoca en la parte superior de esta frontera porque justamente en esa parte los rendimientos son positivos.\n",
        "Esta frontera es representada por un función concava horizontal y el punto mínimo de esta función representa la varianza más baja posible que se puede lograr para un rendimiento esperado de una cartera determinada. Dados los datos de entrada para los retornos, variaciones y covarianzas esperados, podemos calcular la cartera de variación mínima para cualquier rendimiento esperado.\n",
        "\n",
        "En términos matemáticos el algoritmo desarrolado debe minimizar la siguiente función objetivo: <br>\n",
        "\n",
        "$$\\min_{w}  \\frac{1}{2} w^t \\Sigma w$$ <br>\n",
        "\n",
        "* Donde $w$ es el vector de pesos de las acciones que puede ser inicializado de forma aleatoria.<br>\n",
        "* $\\Sigma$ es la matriz de varianzas y covarianzas.<br>\n",
        "\n",
        "Este es un problema con restricciones y son las siguientes:<br>\n",
        "$$ w^t \\mu= r$$<br>\n",
        "* En esta primera restricción se define el retorno esperado del portafolio de acciones<br>\n",
        "\n",
        "$$ w^t 1= 1$$<br>\n",
        "* Con esta restricción se cumple que el vector de pesos $wi$ es igual a 1, es decir que se agota el presupuesto destinado a la inversión. \n",
        "\n",
        "\n",
        "En terminos financieros este modelo se enfoca en los inversionistas aversos al riesgo, es por eso que buscamos el portafolio de mínima varianza (o menor riesgo), en donde el riesgo esta determinado por la desviación estandar de los activos o acciones. <br>\n",
        "\n",
        "El algoritmo tiene 3 etapas para su solución:<br>\n",
        "\n",
        "* Etapa I- consiste en la extracción de los datos históricos(precios) de ciertas empresas a evaluar.\n",
        "* Etapa II - se enfoca en encontrar funciones que nos ayuden a determinar el retornos esperado de las acciones y la matriz de varianzas-covarianzas de los rendimientos.\n",
        "* Etapa III- se obtienen funciones auxiliares para finalmente optimizar la función objetivo para determinar el vector de pesos $wi$ de las acciones"
      ]
    },
    {
      "cell_type": "code",
      "metadata": {
        "colab_type": "code",
        "id": "cxpL8jTj6Nb5",
        "outputId": "ccbfd815-e17a-44fa-f753-415e3f571928",
        "colab": {
          "base_uri": "https://localhost:8080/",
          "height": 221
        }
      },
      "source": [
        "#Para el uso de cupy con GPU en google colab\n",
        "!curl https://colab.chainer.org/install | sh -"
      ],
      "execution_count": 1,
      "outputs": [
        {
          "output_type": "stream",
          "text": [
            "  % Total    % Received % Xferd  Average Speed   Time    Time     Time  Current\n",
            "                                 Dload  Upload   Total   Spent    Left  Speed\n",
            "\r  0     0    0     0    0     0      0      0 --:--:-- --:--:-- --:--:--     0\r100  1580  100  1580    0     0   3590      0 --:--:-- --:--:-- --:--:--  3599\n",
            "+ apt -y -q install cuda-libraries-dev-10-0\n",
            "Reading package lists...\n",
            "Building dependency tree...\n",
            "Reading state information...\n",
            "cuda-libraries-dev-10-0 is already the newest version (10.0.130-1).\n",
            "0 upgraded, 0 newly installed, 0 to remove and 31 not upgraded.\n",
            "+ pip install -q cupy-cuda100  chainer \n",
            "+ set +ex\n",
            "Installation succeeded!\n"
          ],
          "name": "stdout"
        }
      ]
    },
    {
      "cell_type": "markdown",
      "metadata": {
        "colab_type": "text",
        "id": "PA2hk6EC5kME"
      },
      "source": [
        "**Etapa I - Extracción, limpieza y transformación**<br>\n"
      ]
    },
    {
      "cell_type": "code",
      "metadata": {
        "colab_type": "code",
        "id": "6Xx5tQMJ6rsb",
        "colab": {}
      },
      "source": [
        "#Importamos el modulo creado para la solución del algoritmo\n",
        "import extraer_datos_yahoo\n",
        "import funciones_auxiliares\n",
        "import modelo_markowitz\n",
        "import punto_factible\n",
        "import pandas as pd\n",
        "import cupy as cp\n",
        "import pprint"
      ],
      "execution_count": 0,
      "outputs": []
    },
    {
      "cell_type": "markdown",
      "metadata": {
        "colab_type": "text",
        "id": "8IvkxuTw79Rs"
      },
      "source": [
        "Para la extracción de la base de datos de precios históricos, se utilizó una librería ya implementada en Pyhton *fix_yahoo_finance* con la cual es posible descargar los precios históricos de las acciones que se quieran evaluar, sólo es necesario proporcionar el código bursátil de las acciones .<br>\n",
        "\n",
        "En este caso propuesimos la evaluación de 50 empresas que cotizan en bolsa de cada una de las industrias más importantes del mercado, por ejemplo: la industría de tecnología, industria del retail, etc. <br>\n",
        "\n",
        "Se escogieron la empresas que tienen mayor participación de mercado (*market share*) en esa industria a la que pertenece. El precio para determinar los rendimientos es el precio de cierre (*closed price*) de los últimos 5 años para hacer el análisis, pero este puede ser modificable a más años atrás."
      ]
    },
    {
      "cell_type": "code",
      "metadata": {
        "colab_type": "code",
        "id": "rAxsIDY56r3U",
        "outputId": "4f39771a-7608-446f-ecd1-0bedfcbb9fa5",
        "colab": {
          "base_uri": "https://localhost:8080/",
          "height": 34
        }
      },
      "source": [
        "# Códigos bursátiles de las acciones a evaluar\n",
        "stocks = ['COP','AMT','LIN','LMT','AMZN','WMT','JNJ','VTI','MSFT','GOOG','XOM','CCI','BHP.AX','UNP',\n",
        "'BABA','NSRGY','RHHBY','VOO','AAPL','FB','CVX','PLD','RIO.L','HON','HD','PG','UNH','BRK-A','V','0700.HK',\n",
        "'RDSA.AS','0688.HK','AI.PA','RTX','MC.PA','KO','PFE','JPM','005930.KS','VZ','RELIANCE.NS','DLR','2010.SR',\n",
        "'UPS','7203.T','PEP','MRK','1398.HK','MA','T']\n",
        "\n",
        "# Utilizamos la función que extrae los datos\n",
        "datos = extraer_datos_yahoo.extraer_datos_yahoo(stocks)"
      ],
      "execution_count": 3,
      "outputs": [
        {
          "output_type": "stream",
          "text": [
            "[*********************100%***********************]  50 of 50 downloaded\n"
          ],
          "name": "stdout"
        }
      ]
    },
    {
      "cell_type": "markdown",
      "metadata": {
        "colab_type": "text",
        "id": "8sbpZB_lC8jZ"
      },
      "source": [
        "Se puede consultar la infromación de la funcion *extraer_datos_yahoo* en la documentación de la función, pero recibe como argumento el código bursátil las acciones a descargar y tiene un rango de fechas (que puede cambiarse) para obtener el precio de las acciones, de igual manera se indica en esa función que el precio deseado para el análsis es el *precio de cierre* de la bolsa.<br>\n",
        "\n",
        "Ahora examinamos los datos recién descargados:"
      ]
    },
    {
      "cell_type": "code",
      "metadata": {
        "colab_type": "code",
        "id": "iyGbsD3k6r1K",
        "outputId": "9e8de09e-e9ad-4690-a2c8-0d0a2e970620",
        "colab": {
          "base_uri": "https://localhost:8080/",
          "height": 640
        }
      },
      "source": [
        "datos"
      ],
      "execution_count": 4,
      "outputs": [
        {
          "output_type": "execute_result",
          "data": {
            "text/html": [
              "<div>\n",
              "<style scoped>\n",
              "    .dataframe tbody tr th:only-of-type {\n",
              "        vertical-align: middle;\n",
              "    }\n",
              "\n",
              "    .dataframe tbody tr th {\n",
              "        vertical-align: top;\n",
              "    }\n",
              "\n",
              "    .dataframe thead th {\n",
              "        text-align: right;\n",
              "    }\n",
              "</style>\n",
              "<table border=\"1\" class=\"dataframe\">\n",
              "  <thead>\n",
              "    <tr style=\"text-align: right;\">\n",
              "      <th></th>\n",
              "      <th>005930.KS</th>\n",
              "      <th>0688.HK</th>\n",
              "      <th>0700.HK</th>\n",
              "      <th>1398.HK</th>\n",
              "      <th>2010.SR</th>\n",
              "      <th>7203.T</th>\n",
              "      <th>AAPL</th>\n",
              "      <th>AI.PA</th>\n",
              "      <th>AMT</th>\n",
              "      <th>AMZN</th>\n",
              "      <th>BABA</th>\n",
              "      <th>BHP.AX</th>\n",
              "      <th>BRK-A</th>\n",
              "      <th>CCI</th>\n",
              "      <th>COP</th>\n",
              "      <th>CVX</th>\n",
              "      <th>DLR</th>\n",
              "      <th>FB</th>\n",
              "      <th>GOOG</th>\n",
              "      <th>HD</th>\n",
              "      <th>HON</th>\n",
              "      <th>JNJ</th>\n",
              "      <th>JPM</th>\n",
              "      <th>KO</th>\n",
              "      <th>LIN</th>\n",
              "      <th>LMT</th>\n",
              "      <th>MA</th>\n",
              "      <th>MC.PA</th>\n",
              "      <th>MRK</th>\n",
              "      <th>MSFT</th>\n",
              "      <th>NSRGY</th>\n",
              "      <th>PEP</th>\n",
              "      <th>PFE</th>\n",
              "      <th>PG</th>\n",
              "      <th>PLD</th>\n",
              "      <th>RDSA.AS</th>\n",
              "      <th>RELIANCE.NS</th>\n",
              "      <th>RHHBY</th>\n",
              "      <th>RIO.L</th>\n",
              "      <th>RTX</th>\n",
              "      <th>T</th>\n",
              "      <th>UNH</th>\n",
              "      <th>UNP</th>\n",
              "      <th>UPS</th>\n",
              "      <th>V</th>\n",
              "      <th>VOO</th>\n",
              "      <th>VTI</th>\n",
              "      <th>VZ</th>\n",
              "      <th>WMT</th>\n",
              "      <th>XOM</th>\n",
              "    </tr>\n",
              "    <tr>\n",
              "      <th>Date</th>\n",
              "      <th></th>\n",
              "      <th></th>\n",
              "      <th></th>\n",
              "      <th></th>\n",
              "      <th></th>\n",
              "      <th></th>\n",
              "      <th></th>\n",
              "      <th></th>\n",
              "      <th></th>\n",
              "      <th></th>\n",
              "      <th></th>\n",
              "      <th></th>\n",
              "      <th></th>\n",
              "      <th></th>\n",
              "      <th></th>\n",
              "      <th></th>\n",
              "      <th></th>\n",
              "      <th></th>\n",
              "      <th></th>\n",
              "      <th></th>\n",
              "      <th></th>\n",
              "      <th></th>\n",
              "      <th></th>\n",
              "      <th></th>\n",
              "      <th></th>\n",
              "      <th></th>\n",
              "      <th></th>\n",
              "      <th></th>\n",
              "      <th></th>\n",
              "      <th></th>\n",
              "      <th></th>\n",
              "      <th></th>\n",
              "      <th></th>\n",
              "      <th></th>\n",
              "      <th></th>\n",
              "      <th></th>\n",
              "      <th></th>\n",
              "      <th></th>\n",
              "      <th></th>\n",
              "      <th></th>\n",
              "      <th></th>\n",
              "      <th></th>\n",
              "      <th></th>\n",
              "      <th></th>\n",
              "      <th></th>\n",
              "      <th></th>\n",
              "      <th></th>\n",
              "      <th></th>\n",
              "      <th></th>\n",
              "      <th></th>\n",
              "    </tr>\n",
              "  </thead>\n",
              "  <tbody>\n",
              "    <tr>\n",
              "      <th>2015-01-02</th>\n",
              "      <td>26600.0</td>\n",
              "      <td>24.704800</td>\n",
              "      <td>112.800003</td>\n",
              "      <td>5.77</td>\n",
              "      <td>79.500000</td>\n",
              "      <td>7507.0</td>\n",
              "      <td>109.330002</td>\n",
              "      <td>89.786400</td>\n",
              "      <td>99.669998</td>\n",
              "      <td>308.519989</td>\n",
              "      <td>103.599998</td>\n",
              "      <td>27.603399</td>\n",
              "      <td>223600.0</td>\n",
              "      <td>79.510002</td>\n",
              "      <td>68.919998</td>\n",
              "      <td>112.580002</td>\n",
              "      <td>66.410004</td>\n",
              "      <td>78.449997</td>\n",
              "      <td>523.373108</td>\n",
              "      <td>103.430000</td>\n",
              "      <td>95.556229</td>\n",
              "      <td>104.519997</td>\n",
              "      <td>62.490002</td>\n",
              "      <td>42.139999</td>\n",
              "      <td>129.949997</td>\n",
              "      <td>193.309998</td>\n",
              "      <td>85.680000</td>\n",
              "      <td>130.850006</td>\n",
              "      <td>57.189999</td>\n",
              "      <td>46.759998</td>\n",
              "      <td>72.650002</td>\n",
              "      <td>94.440002</td>\n",
              "      <td>31.330000</td>\n",
              "      <td>90.440002</td>\n",
              "      <td>43.430000</td>\n",
              "      <td>27.750000</td>\n",
              "      <td>442.774994</td>\n",
              "      <td>33.910000</td>\n",
              "      <td>2970.0</td>\n",
              "      <td>72.397736</td>\n",
              "      <td>33.869999</td>\n",
              "      <td>100.779999</td>\n",
              "      <td>118.610001</td>\n",
              "      <td>110.379997</td>\n",
              "      <td>66.254997</td>\n",
              "      <td>188.399994</td>\n",
              "      <td>105.919998</td>\n",
              "      <td>46.959999</td>\n",
              "      <td>85.900002</td>\n",
              "      <td>92.830002</td>\n",
              "    </tr>\n",
              "    <tr>\n",
              "      <th>2015-01-05</th>\n",
              "      <td>26660.0</td>\n",
              "      <td>24.951799</td>\n",
              "      <td>113.500000</td>\n",
              "      <td>5.80</td>\n",
              "      <td>79.500000</td>\n",
              "      <td>7507.0</td>\n",
              "      <td>106.250000</td>\n",
              "      <td>87.005997</td>\n",
              "      <td>98.230003</td>\n",
              "      <td>302.190002</td>\n",
              "      <td>101.000000</td>\n",
              "      <td>27.547300</td>\n",
              "      <td>220980.0</td>\n",
              "      <td>79.000000</td>\n",
              "      <td>65.639999</td>\n",
              "      <td>108.080002</td>\n",
              "      <td>67.690002</td>\n",
              "      <td>77.190002</td>\n",
              "      <td>512.463013</td>\n",
              "      <td>101.260002</td>\n",
              "      <td>93.735291</td>\n",
              "      <td>103.790001</td>\n",
              "      <td>60.549999</td>\n",
              "      <td>42.139999</td>\n",
              "      <td>126.519997</td>\n",
              "      <td>189.289993</td>\n",
              "      <td>83.269997</td>\n",
              "      <td>127.050003</td>\n",
              "      <td>58.040001</td>\n",
              "      <td>46.330002</td>\n",
              "      <td>70.959999</td>\n",
              "      <td>93.730003</td>\n",
              "      <td>31.160000</td>\n",
              "      <td>90.010002</td>\n",
              "      <td>43.400002</td>\n",
              "      <td>26.615000</td>\n",
              "      <td>437.924988</td>\n",
              "      <td>34.029999</td>\n",
              "      <td>2883.5</td>\n",
              "      <td>71.189430</td>\n",
              "      <td>33.549999</td>\n",
              "      <td>99.120003</td>\n",
              "      <td>114.599998</td>\n",
              "      <td>108.169998</td>\n",
              "      <td>64.792503</td>\n",
              "      <td>185.089996</td>\n",
              "      <td>104.099998</td>\n",
              "      <td>46.570000</td>\n",
              "      <td>85.650002</td>\n",
              "      <td>90.290001</td>\n",
              "    </tr>\n",
              "    <tr>\n",
              "      <th>2015-01-06</th>\n",
              "      <td>25900.0</td>\n",
              "      <td>24.605900</td>\n",
              "      <td>120.000000</td>\n",
              "      <td>5.71</td>\n",
              "      <td>77.000000</td>\n",
              "      <td>7300.0</td>\n",
              "      <td>106.260002</td>\n",
              "      <td>86.279999</td>\n",
              "      <td>97.970001</td>\n",
              "      <td>295.290009</td>\n",
              "      <td>103.320000</td>\n",
              "      <td>26.267099</td>\n",
              "      <td>220450.0</td>\n",
              "      <td>78.849998</td>\n",
              "      <td>62.930000</td>\n",
              "      <td>108.029999</td>\n",
              "      <td>67.480003</td>\n",
              "      <td>76.150002</td>\n",
              "      <td>500.585632</td>\n",
              "      <td>100.949997</td>\n",
              "      <td>93.516014</td>\n",
              "      <td>103.279999</td>\n",
              "      <td>58.980000</td>\n",
              "      <td>42.459999</td>\n",
              "      <td>124.900002</td>\n",
              "      <td>188.399994</td>\n",
              "      <td>83.089996</td>\n",
              "      <td>125.599998</td>\n",
              "      <td>60.320000</td>\n",
              "      <td>45.650002</td>\n",
              "      <td>70.610001</td>\n",
              "      <td>93.019997</td>\n",
              "      <td>31.420000</td>\n",
              "      <td>89.599998</td>\n",
              "      <td>43.549999</td>\n",
              "      <td>26.514999</td>\n",
              "      <td>418.049988</td>\n",
              "      <td>33.900002</td>\n",
              "      <td>2944.5</td>\n",
              "      <td>70.182503</td>\n",
              "      <td>33.599998</td>\n",
              "      <td>98.919998</td>\n",
              "      <td>112.230003</td>\n",
              "      <td>107.459999</td>\n",
              "      <td>64.375000</td>\n",
              "      <td>183.270004</td>\n",
              "      <td>103.080002</td>\n",
              "      <td>47.040001</td>\n",
              "      <td>86.309998</td>\n",
              "      <td>89.809998</td>\n",
              "    </tr>\n",
              "    <tr>\n",
              "      <th>2015-01-07</th>\n",
              "      <td>26140.0</td>\n",
              "      <td>24.507099</td>\n",
              "      <td>124.400002</td>\n",
              "      <td>5.75</td>\n",
              "      <td>78.250000</td>\n",
              "      <td>7407.0</td>\n",
              "      <td>107.750000</td>\n",
              "      <td>86.669601</td>\n",
              "      <td>99.000000</td>\n",
              "      <td>298.420013</td>\n",
              "      <td>102.129997</td>\n",
              "      <td>26.267099</td>\n",
              "      <td>223480.0</td>\n",
              "      <td>80.500000</td>\n",
              "      <td>63.349998</td>\n",
              "      <td>107.940002</td>\n",
              "      <td>68.019997</td>\n",
              "      <td>76.150002</td>\n",
              "      <td>499.727997</td>\n",
              "      <td>104.410004</td>\n",
              "      <td>94.192909</td>\n",
              "      <td>105.559998</td>\n",
              "      <td>59.070000</td>\n",
              "      <td>42.990002</td>\n",
              "      <td>126.300003</td>\n",
              "      <td>190.830002</td>\n",
              "      <td>84.220001</td>\n",
              "      <td>125.699997</td>\n",
              "      <td>61.610001</td>\n",
              "      <td>46.230000</td>\n",
              "      <td>70.750000</td>\n",
              "      <td>95.739998</td>\n",
              "      <td>31.850000</td>\n",
              "      <td>90.070000</td>\n",
              "      <td>44.209999</td>\n",
              "      <td>26.870001</td>\n",
              "      <td>427.149994</td>\n",
              "      <td>33.990002</td>\n",
              "      <td>2962.5</td>\n",
              "      <td>70.943993</td>\n",
              "      <td>33.169998</td>\n",
              "      <td>99.930000</td>\n",
              "      <td>112.849998</td>\n",
              "      <td>108.459999</td>\n",
              "      <td>65.237503</td>\n",
              "      <td>185.559998</td>\n",
              "      <td>104.309998</td>\n",
              "      <td>46.189999</td>\n",
              "      <td>88.599998</td>\n",
              "      <td>90.720001</td>\n",
              "    </tr>\n",
              "    <tr>\n",
              "      <th>2015-01-08</th>\n",
              "      <td>26280.0</td>\n",
              "      <td>23.864799</td>\n",
              "      <td>127.300003</td>\n",
              "      <td>5.72</td>\n",
              "      <td>79.250000</td>\n",
              "      <td>7554.0</td>\n",
              "      <td>111.889999</td>\n",
              "      <td>90.317703</td>\n",
              "      <td>99.919998</td>\n",
              "      <td>300.459991</td>\n",
              "      <td>105.029999</td>\n",
              "      <td>26.519400</td>\n",
              "      <td>226680.0</td>\n",
              "      <td>81.769997</td>\n",
              "      <td>64.930000</td>\n",
              "      <td>110.410004</td>\n",
              "      <td>68.910004</td>\n",
              "      <td>78.180000</td>\n",
              "      <td>501.303680</td>\n",
              "      <td>106.720001</td>\n",
              "      <td>95.908974</td>\n",
              "      <td>106.389999</td>\n",
              "      <td>60.389999</td>\n",
              "      <td>43.509998</td>\n",
              "      <td>128.380005</td>\n",
              "      <td>195.130005</td>\n",
              "      <td>85.529999</td>\n",
              "      <td>129.649994</td>\n",
              "      <td>62.849998</td>\n",
              "      <td>47.590000</td>\n",
              "      <td>71.459999</td>\n",
              "      <td>97.480003</td>\n",
              "      <td>32.500000</td>\n",
              "      <td>91.099998</td>\n",
              "      <td>44.220001</td>\n",
              "      <td>27.495001</td>\n",
              "      <td>421.024994</td>\n",
              "      <td>34.279999</td>\n",
              "      <td>3027.5</td>\n",
              "      <td>72.152298</td>\n",
              "      <td>33.500000</td>\n",
              "      <td>104.699997</td>\n",
              "      <td>117.080002</td>\n",
              "      <td>110.410004</td>\n",
              "      <td>66.112503</td>\n",
              "      <td>188.820007</td>\n",
              "      <td>106.150002</td>\n",
              "      <td>47.180000</td>\n",
              "      <td>90.470001</td>\n",
              "      <td>92.230003</td>\n",
              "    </tr>\n",
              "    <tr>\n",
              "      <th>...</th>\n",
              "      <td>...</td>\n",
              "      <td>...</td>\n",
              "      <td>...</td>\n",
              "      <td>...</td>\n",
              "      <td>...</td>\n",
              "      <td>...</td>\n",
              "      <td>...</td>\n",
              "      <td>...</td>\n",
              "      <td>...</td>\n",
              "      <td>...</td>\n",
              "      <td>...</td>\n",
              "      <td>...</td>\n",
              "      <td>...</td>\n",
              "      <td>...</td>\n",
              "      <td>...</td>\n",
              "      <td>...</td>\n",
              "      <td>...</td>\n",
              "      <td>...</td>\n",
              "      <td>...</td>\n",
              "      <td>...</td>\n",
              "      <td>...</td>\n",
              "      <td>...</td>\n",
              "      <td>...</td>\n",
              "      <td>...</td>\n",
              "      <td>...</td>\n",
              "      <td>...</td>\n",
              "      <td>...</td>\n",
              "      <td>...</td>\n",
              "      <td>...</td>\n",
              "      <td>...</td>\n",
              "      <td>...</td>\n",
              "      <td>...</td>\n",
              "      <td>...</td>\n",
              "      <td>...</td>\n",
              "      <td>...</td>\n",
              "      <td>...</td>\n",
              "      <td>...</td>\n",
              "      <td>...</td>\n",
              "      <td>...</td>\n",
              "      <td>...</td>\n",
              "      <td>...</td>\n",
              "      <td>...</td>\n",
              "      <td>...</td>\n",
              "      <td>...</td>\n",
              "      <td>...</td>\n",
              "      <td>...</td>\n",
              "      <td>...</td>\n",
              "      <td>...</td>\n",
              "      <td>...</td>\n",
              "      <td>...</td>\n",
              "    </tr>\n",
              "    <tr>\n",
              "      <th>2020-04-23</th>\n",
              "      <td>52100.0</td>\n",
              "      <td>26.200001</td>\n",
              "      <td>411.600006</td>\n",
              "      <td>5.06</td>\n",
              "      <td>70.300003</td>\n",
              "      <td>6570.0</td>\n",
              "      <td>275.029999</td>\n",
              "      <td>117.599998</td>\n",
              "      <td>248.600006</td>\n",
              "      <td>2399.449951</td>\n",
              "      <td>205.240005</td>\n",
              "      <td>29.750000</td>\n",
              "      <td>278750.0</td>\n",
              "      <td>160.550003</td>\n",
              "      <td>36.180000</td>\n",
              "      <td>86.800003</td>\n",
              "      <td>148.529999</td>\n",
              "      <td>185.130005</td>\n",
              "      <td>1276.310059</td>\n",
              "      <td>202.320007</td>\n",
              "      <td>134.679993</td>\n",
              "      <td>155.509995</td>\n",
              "      <td>89.389999</td>\n",
              "      <td>45.070000</td>\n",
              "      <td>181.300003</td>\n",
              "      <td>376.730011</td>\n",
              "      <td>255.860001</td>\n",
              "      <td>348.649994</td>\n",
              "      <td>80.879997</td>\n",
              "      <td>171.419998</td>\n",
              "      <td>106.000000</td>\n",
              "      <td>130.259995</td>\n",
              "      <td>36.689999</td>\n",
              "      <td>119.400002</td>\n",
              "      <td>86.750000</td>\n",
              "      <td>16.521999</td>\n",
              "      <td>1370.900024</td>\n",
              "      <td>44.180000</td>\n",
              "      <td>3783.0</td>\n",
              "      <td>63.290001</td>\n",
              "      <td>29.500000</td>\n",
              "      <td>285.329987</td>\n",
              "      <td>152.289993</td>\n",
              "      <td>99.449997</td>\n",
              "      <td>166.380005</td>\n",
              "      <td>256.420013</td>\n",
              "      <td>139.550003</td>\n",
              "      <td>57.590000</td>\n",
              "      <td>128.529999</td>\n",
              "      <td>43.450001</td>\n",
              "    </tr>\n",
              "    <tr>\n",
              "      <th>2020-04-24</th>\n",
              "      <td>52100.0</td>\n",
              "      <td>26.100000</td>\n",
              "      <td>406.399994</td>\n",
              "      <td>5.06</td>\n",
              "      <td>70.300003</td>\n",
              "      <td>6543.0</td>\n",
              "      <td>282.970001</td>\n",
              "      <td>115.300003</td>\n",
              "      <td>244.610001</td>\n",
              "      <td>2410.219971</td>\n",
              "      <td>204.360001</td>\n",
              "      <td>30.540001</td>\n",
              "      <td>279460.0</td>\n",
              "      <td>161.610001</td>\n",
              "      <td>36.090000</td>\n",
              "      <td>87.010002</td>\n",
              "      <td>150.029999</td>\n",
              "      <td>190.070007</td>\n",
              "      <td>1279.310059</td>\n",
              "      <td>212.179993</td>\n",
              "      <td>135.520004</td>\n",
              "      <td>154.860001</td>\n",
              "      <td>90.709999</td>\n",
              "      <td>45.430000</td>\n",
              "      <td>181.470001</td>\n",
              "      <td>381.769989</td>\n",
              "      <td>258.760010</td>\n",
              "      <td>340.850006</td>\n",
              "      <td>81.430000</td>\n",
              "      <td>174.550003</td>\n",
              "      <td>109.220001</td>\n",
              "      <td>134.360001</td>\n",
              "      <td>37.380001</td>\n",
              "      <td>118.779999</td>\n",
              "      <td>89.040001</td>\n",
              "      <td>15.978000</td>\n",
              "      <td>1417.000000</td>\n",
              "      <td>45.060001</td>\n",
              "      <td>3750.0</td>\n",
              "      <td>63.430000</td>\n",
              "      <td>29.709999</td>\n",
              "      <td>291.290009</td>\n",
              "      <td>156.089996</td>\n",
              "      <td>100.180000</td>\n",
              "      <td>167.320007</td>\n",
              "      <td>260.140015</td>\n",
              "      <td>141.630005</td>\n",
              "      <td>57.930000</td>\n",
              "      <td>129.440002</td>\n",
              "      <td>43.730000</td>\n",
              "    </tr>\n",
              "    <tr>\n",
              "      <th>2020-04-27</th>\n",
              "      <td>52100.0</td>\n",
              "      <td>26.950001</td>\n",
              "      <td>413.000000</td>\n",
              "      <td>5.18</td>\n",
              "      <td>71.400002</td>\n",
              "      <td>6659.0</td>\n",
              "      <td>283.170013</td>\n",
              "      <td>117.699997</td>\n",
              "      <td>250.220001</td>\n",
              "      <td>2376.000000</td>\n",
              "      <td>203.690002</td>\n",
              "      <td>30.500000</td>\n",
              "      <td>281264.0</td>\n",
              "      <td>163.800003</td>\n",
              "      <td>37.150002</td>\n",
              "      <td>89.709999</td>\n",
              "      <td>154.229996</td>\n",
              "      <td>187.500000</td>\n",
              "      <td>1275.880005</td>\n",
              "      <td>217.759995</td>\n",
              "      <td>139.880005</td>\n",
              "      <td>154.289993</td>\n",
              "      <td>94.620003</td>\n",
              "      <td>46.779999</td>\n",
              "      <td>184.580002</td>\n",
              "      <td>378.570007</td>\n",
              "      <td>265.119995</td>\n",
              "      <td>350.950012</td>\n",
              "      <td>83.980003</td>\n",
              "      <td>174.050003</td>\n",
              "      <td>107.040001</td>\n",
              "      <td>134.460007</td>\n",
              "      <td>38.330002</td>\n",
              "      <td>117.449997</td>\n",
              "      <td>91.839996</td>\n",
              "      <td>16.250000</td>\n",
              "      <td>1429.750000</td>\n",
              "      <td>44.889999</td>\n",
              "      <td>3760.5</td>\n",
              "      <td>65.070000</td>\n",
              "      <td>30.540001</td>\n",
              "      <td>293.980011</td>\n",
              "      <td>158.960007</td>\n",
              "      <td>102.550003</td>\n",
              "      <td>171.759995</td>\n",
              "      <td>263.899994</td>\n",
              "      <td>144.139999</td>\n",
              "      <td>57.810001</td>\n",
              "      <td>128.300003</td>\n",
              "      <td>43.939999</td>\n",
              "    </tr>\n",
              "    <tr>\n",
              "      <th>2020-04-28</th>\n",
              "      <td>52100.0</td>\n",
              "      <td>27.900000</td>\n",
              "      <td>417.200012</td>\n",
              "      <td>5.25</td>\n",
              "      <td>71.300003</td>\n",
              "      <td>6685.0</td>\n",
              "      <td>278.579987</td>\n",
              "      <td>119.599998</td>\n",
              "      <td>243.529999</td>\n",
              "      <td>2314.080078</td>\n",
              "      <td>201.149994</td>\n",
              "      <td>30.490000</td>\n",
              "      <td>280600.0</td>\n",
              "      <td>161.259995</td>\n",
              "      <td>38.480000</td>\n",
              "      <td>89.910004</td>\n",
              "      <td>154.149994</td>\n",
              "      <td>182.910004</td>\n",
              "      <td>1233.670044</td>\n",
              "      <td>217.630005</td>\n",
              "      <td>142.759995</td>\n",
              "      <td>151.389999</td>\n",
              "      <td>95.290001</td>\n",
              "      <td>46.740002</td>\n",
              "      <td>186.880005</td>\n",
              "      <td>384.730011</td>\n",
              "      <td>264.600006</td>\n",
              "      <td>357.000000</td>\n",
              "      <td>81.180000</td>\n",
              "      <td>169.809998</td>\n",
              "      <td>106.459999</td>\n",
              "      <td>136.320007</td>\n",
              "      <td>37.910000</td>\n",
              "      <td>116.889999</td>\n",
              "      <td>89.589996</td>\n",
              "      <td>16.672001</td>\n",
              "      <td>1428.150024</td>\n",
              "      <td>45.279999</td>\n",
              "      <td>3772.0</td>\n",
              "      <td>65.389999</td>\n",
              "      <td>30.650000</td>\n",
              "      <td>288.359985</td>\n",
              "      <td>161.360001</td>\n",
              "      <td>96.430000</td>\n",
              "      <td>171.250000</td>\n",
              "      <td>262.679993</td>\n",
              "      <td>143.690002</td>\n",
              "      <td>57.830002</td>\n",
              "      <td>128.000000</td>\n",
              "      <td>44.970001</td>\n",
              "    </tr>\n",
              "    <tr>\n",
              "      <th>2020-04-29</th>\n",
              "      <td>52100.0</td>\n",
              "      <td>28.450001</td>\n",
              "      <td>417.000000</td>\n",
              "      <td>5.27</td>\n",
              "      <td>71.800003</td>\n",
              "      <td>6685.0</td>\n",
              "      <td>287.730011</td>\n",
              "      <td>120.150002</td>\n",
              "      <td>236.809998</td>\n",
              "      <td>2372.709961</td>\n",
              "      <td>206.699997</td>\n",
              "      <td>31.120001</td>\n",
              "      <td>284749.0</td>\n",
              "      <td>155.440002</td>\n",
              "      <td>42.209999</td>\n",
              "      <td>94.620003</td>\n",
              "      <td>148.610001</td>\n",
              "      <td>194.190002</td>\n",
              "      <td>1341.479980</td>\n",
              "      <td>221.809998</td>\n",
              "      <td>146.160004</td>\n",
              "      <td>150.240005</td>\n",
              "      <td>97.860001</td>\n",
              "      <td>47.119999</td>\n",
              "      <td>188.690002</td>\n",
              "      <td>387.910004</td>\n",
              "      <td>283.690002</td>\n",
              "      <td>359.799988</td>\n",
              "      <td>80.769997</td>\n",
              "      <td>177.429993</td>\n",
              "      <td>105.510002</td>\n",
              "      <td>133.360001</td>\n",
              "      <td>38.119999</td>\n",
              "      <td>117.080002</td>\n",
              "      <td>90.160004</td>\n",
              "      <td>17.280001</td>\n",
              "      <td>1426.949951</td>\n",
              "      <td>43.779999</td>\n",
              "      <td>3943.0</td>\n",
              "      <td>67.900002</td>\n",
              "      <td>31.430000</td>\n",
              "      <td>287.649994</td>\n",
              "      <td>163.050003</td>\n",
              "      <td>96.110001</td>\n",
              "      <td>181.789993</td>\n",
              "      <td>269.450012</td>\n",
              "      <td>147.759995</td>\n",
              "      <td>58.119999</td>\n",
              "      <td>123.599998</td>\n",
              "      <td>47.459999</td>\n",
              "    </tr>\n",
              "  </tbody>\n",
              "</table>\n",
              "<p>1340 rows × 50 columns</p>\n",
              "</div>"
            ],
            "text/plain": [
              "            005930.KS    0688.HK     0700.HK  ...         VZ         WMT        XOM\n",
              "Date                                          ...                                  \n",
              "2015-01-02    26600.0  24.704800  112.800003  ...  46.959999   85.900002  92.830002\n",
              "2015-01-05    26660.0  24.951799  113.500000  ...  46.570000   85.650002  90.290001\n",
              "2015-01-06    25900.0  24.605900  120.000000  ...  47.040001   86.309998  89.809998\n",
              "2015-01-07    26140.0  24.507099  124.400002  ...  46.189999   88.599998  90.720001\n",
              "2015-01-08    26280.0  23.864799  127.300003  ...  47.180000   90.470001  92.230003\n",
              "...               ...        ...         ...  ...        ...         ...        ...\n",
              "2020-04-23    52100.0  26.200001  411.600006  ...  57.590000  128.529999  43.450001\n",
              "2020-04-24    52100.0  26.100000  406.399994  ...  57.930000  129.440002  43.730000\n",
              "2020-04-27    52100.0  26.950001  413.000000  ...  57.810001  128.300003  43.939999\n",
              "2020-04-28    52100.0  27.900000  417.200012  ...  57.830002  128.000000  44.970001\n",
              "2020-04-29    52100.0  28.450001  417.000000  ...  58.119999  123.599998  47.459999\n",
              "\n",
              "[1340 rows x 50 columns]"
            ]
          },
          "metadata": {
            "tags": []
          },
          "execution_count": 4
        }
      ]
    },
    {
      "cell_type": "markdown",
      "metadata": {
        "colab_type": "text",
        "id": "9QDeBUTeDsvN"
      },
      "source": [
        "Se obtiene un dataframe de 1340 columnas que son los días cotizados en cada hábiles desde el 1ro de Enero del 2015, de igual manera se realizó la imputación sobre las empresas que no cotizaron algún día de los 1340 por alguna razón para de esta manera tener la serie de tiempo de los precios para todas la empresas en la misma frecuencia de tiempo y asi obtener los rendimientos de esos precios.<br>\n",
        "\n",
        "Para la imputación a los *missing data*, se decidió que si algún día hábil no tenía cotización se pusiera como dato el precio del día anterior, ya que el promedio de los precios para esa empresa en 5 años tiene mucha variabilidad."
      ]
    },
    {
      "cell_type": "markdown",
      "metadata": {
        "colab_type": "text",
        "id": "5QdqU6-J5kRA"
      },
      "source": [
        "**Etapa II - Calculamos el retorno esperado del portafolio y la matriz de varianzas-covarianzas de los rendimientos**<br>"
      ]
    },
    {
      "cell_type": "code",
      "metadata": {
        "colab_type": "code",
        "id": "5kEqgwHTHV1D",
        "outputId": "4dc0f0be-c664-41d8-acb2-36bb6261563d",
        "colab": {
          "base_uri": "https://localhost:8080/",
          "height": 439
        }
      },
      "source": [
        "#Aplicamos la función para obtener los rendimientos de las acciones\n",
        "rendimientos = funciones_auxiliares.calcular_rendimiento_vector(datos)\n",
        "rendimiento_df=pd.DataFrame(rendimientos)\n",
        "rendimiento_df.columns=['005930.KS','0688.HK','0700.HK','1398.HK','2010.SR','7203.T','AAPL',\n",
        "'AI.PA','AMT','AMZN','BABA','BHP.AX','BRK-A','CCI','COP','CVX','DLR','FB','GOOG','HD','HON',\n",
        "'JNJ','JPM','KO','LIN','LMT','MA','MC.PA','MRK','MSFT','NSRGY','PEP','PFE','PG','PLD','RDSA.AS',\n",
        "'RELIANCE.NS','RHHBY','RIO.L','RTX','T','UNH','UNP','UPS','V','VOO','VTI','VZ','WMT','XOM']\n",
        "rendimiento_df"
      ],
      "execution_count": 5,
      "outputs": [
        {
          "output_type": "execute_result",
          "data": {
            "text/html": [
              "<div>\n",
              "<style scoped>\n",
              "    .dataframe tbody tr th:only-of-type {\n",
              "        vertical-align: middle;\n",
              "    }\n",
              "\n",
              "    .dataframe tbody tr th {\n",
              "        vertical-align: top;\n",
              "    }\n",
              "\n",
              "    .dataframe thead th {\n",
              "        text-align: right;\n",
              "    }\n",
              "</style>\n",
              "<table border=\"1\" class=\"dataframe\">\n",
              "  <thead>\n",
              "    <tr style=\"text-align: right;\">\n",
              "      <th></th>\n",
              "      <th>005930.KS</th>\n",
              "      <th>0688.HK</th>\n",
              "      <th>0700.HK</th>\n",
              "      <th>1398.HK</th>\n",
              "      <th>2010.SR</th>\n",
              "      <th>7203.T</th>\n",
              "      <th>AAPL</th>\n",
              "      <th>AI.PA</th>\n",
              "      <th>AMT</th>\n",
              "      <th>AMZN</th>\n",
              "      <th>BABA</th>\n",
              "      <th>BHP.AX</th>\n",
              "      <th>BRK-A</th>\n",
              "      <th>CCI</th>\n",
              "      <th>COP</th>\n",
              "      <th>CVX</th>\n",
              "      <th>DLR</th>\n",
              "      <th>FB</th>\n",
              "      <th>GOOG</th>\n",
              "      <th>HD</th>\n",
              "      <th>HON</th>\n",
              "      <th>JNJ</th>\n",
              "      <th>JPM</th>\n",
              "      <th>KO</th>\n",
              "      <th>LIN</th>\n",
              "      <th>LMT</th>\n",
              "      <th>MA</th>\n",
              "      <th>MC.PA</th>\n",
              "      <th>MRK</th>\n",
              "      <th>MSFT</th>\n",
              "      <th>NSRGY</th>\n",
              "      <th>PEP</th>\n",
              "      <th>PFE</th>\n",
              "      <th>PG</th>\n",
              "      <th>PLD</th>\n",
              "      <th>RDSA.AS</th>\n",
              "      <th>RELIANCE.NS</th>\n",
              "      <th>RHHBY</th>\n",
              "      <th>RIO.L</th>\n",
              "      <th>RTX</th>\n",
              "      <th>T</th>\n",
              "      <th>UNH</th>\n",
              "      <th>UNP</th>\n",
              "      <th>UPS</th>\n",
              "      <th>V</th>\n",
              "      <th>VOO</th>\n",
              "      <th>VTI</th>\n",
              "      <th>VZ</th>\n",
              "      <th>WMT</th>\n",
              "      <th>XOM</th>\n",
              "    </tr>\n",
              "  </thead>\n",
              "  <tbody>\n",
              "    <tr>\n",
              "      <th>0</th>\n",
              "      <td>0.002253098962909259</td>\n",
              "      <td>0.00994836706883783</td>\n",
              "      <td>0.006186471261754438</td>\n",
              "      <td>0.0051858370323654155</td>\n",
              "      <td>0.0</td>\n",
              "      <td>0.0</td>\n",
              "      <td>-0.02857604193510772</td>\n",
              "      <td>-0.03145646886389706</td>\n",
              "      <td>-0.014553010685800262</td>\n",
              "      <td>-0.020730670170655243</td>\n",
              "      <td>-0.02541679367910377</td>\n",
              "      <td>-0.0020343901479210396</td>\n",
              "      <td>-0.011786541595915133</td>\n",
              "      <td>-0.006434972600438926</td>\n",
              "      <td>-0.04876113165329865</td>\n",
              "      <td>-0.04079238564427063</td>\n",
              "      <td>0.019090780282464418</td>\n",
              "      <td>-0.016191500066268846</td>\n",
              "      <td>-0.021066070681864047</td>\n",
              "      <td>-0.021203569096813677</td>\n",
              "      <td>-0.019240103019862665</td>\n",
              "      <td>-0.007008775337733556</td>\n",
              "      <td>-0.03153712246228616</td>\n",
              "      <td>0.0</td>\n",
              "      <td>-0.026749363275915036</td>\n",
              "      <td>-0.02101491394969156</td>\n",
              "      <td>-0.028531121919146828</td>\n",
              "      <td>-0.02947094145126143</td>\n",
              "      <td>0.014753404803833602</td>\n",
              "      <td>-0.00923835123513766</td>\n",
              "      <td>-0.023537093636663904</td>\n",
              "      <td>-0.00754639262955717</td>\n",
              "      <td>-0.005440883961552829</td>\n",
              "      <td>-0.004765872035130767</td>\n",
              "      <td>-0.0006909593574231074</td>\n",
              "      <td>-0.04176087356772283</td>\n",
              "      <td>-0.011014091356037143</td>\n",
              "      <td>0.0035325029894307165</td>\n",
              "      <td>-0.029557118741277973</td>\n",
              "      <td>-0.01683067584329173</td>\n",
              "      <td>-0.009492803693595791</td>\n",
              "      <td>-0.016608645742617976</td>\n",
              "      <td>-0.034393021643544644</td>\n",
              "      <td>-0.02022488567973501</td>\n",
              "      <td>-0.022320986216330895</td>\n",
              "      <td>-0.01772515863761147</td>\n",
              "      <td>-0.017332116897895447</td>\n",
              "      <td>-0.008339597230835973</td>\n",
              "      <td>-0.002914604152121422</td>\n",
              "      <td>-0.02774316156178879</td>\n",
              "    </tr>\n",
              "    <tr>\n",
              "      <th>1</th>\n",
              "      <td>-0.028921346045070545</td>\n",
              "      <td>-0.013959672226260903</td>\n",
              "      <td>0.05568890586058863</td>\n",
              "      <td>-0.015638893884454778</td>\n",
              "      <td>-0.03195159980660236</td>\n",
              "      <td>-0.027961570436519863</td>\n",
              "      <td>9.413204002870386e-05</td>\n",
              "      <td>-0.008379237382647743</td>\n",
              "      <td>-0.002650378663588673</td>\n",
              "      <td>-0.023098010453310284</td>\n",
              "      <td>0.022710451386380313</td>\n",
              "      <td>-0.04758735971535761</td>\n",
              "      <td>-0.0024012878810822777</td>\n",
              "      <td>-0.0019005644225908096</td>\n",
              "      <td>-0.04216225344843483</td>\n",
              "      <td>-0.0004627550845489362</td>\n",
              "      <td>-0.0031071859315941327</td>\n",
              "      <td>-0.013564835266731039</td>\n",
              "      <td>-0.02344986162445733</td>\n",
              "      <td>-0.0030661712517346326</td>\n",
              "      <td>-0.002342062184640283</td>\n",
              "      <td>-0.004925899756066904</td>\n",
              "      <td>-0.02627105009669437</td>\n",
              "      <td>0.0075650480779115336</td>\n",
              "      <td>-0.012886941581439566</td>\n",
              "      <td>-0.004712863342704226</td>\n",
              "      <td>-0.002163994684028167</td>\n",
              "      <td>-0.01147849526839249</td>\n",
              "      <td>0.03853127845421664</td>\n",
              "      <td>-0.014786091744542793</td>\n",
              "      <td>-0.004944532218322163</td>\n",
              "      <td>-0.00760384922040038</td>\n",
              "      <td>0.008309411824927695</td>\n",
              "      <td>-0.004565499829291085</td>\n",
              "      <td>0.0034501931470914686</td>\n",
              "      <td>-0.003764393750129313</td>\n",
              "      <td>-0.04644662154439208</td>\n",
              "      <td>-0.003827385743524768</td>\n",
              "      <td>0.0209341893291581</td>\n",
              "      <td>-0.014245317390388154</td>\n",
              "      <td>0.001489173833916184</td>\n",
              "      <td>-0.0020198451523734604</td>\n",
              "      <td>-0.020897423069647363</td>\n",
              "      <td>-0.006585369157895983</td>\n",
              "      <td>-0.006464543236765771</td>\n",
              "      <td>-0.009881674502010267</td>\n",
              "      <td>-0.009846551222057064</td>\n",
              "      <td>0.01004176785458895</td>\n",
              "      <td>0.007676194938304775</td>\n",
              "      <td>-0.005330417981188443</td>\n",
              "    </tr>\n",
              "    <tr>\n",
              "      <th>2</th>\n",
              "      <td>0.009223739490583761</td>\n",
              "      <td>-0.004023420898480203</td>\n",
              "      <td>0.03601045360020337</td>\n",
              "      <td>0.006980831141340141</td>\n",
              "      <td>0.016103407566578673</td>\n",
              "      <td>0.014551150876806699</td>\n",
              "      <td>0.013924789139302327</td>\n",
              "      <td>0.004505389535783031</td>\n",
              "      <td>0.010458530570832786</td>\n",
              "      <td>0.01054397898729664</td>\n",
              "      <td>-0.011584486011959307</td>\n",
              "      <td>0.0</td>\n",
              "      <td>0.013651012787001442</td>\n",
              "      <td>0.020709896380087075</td>\n",
              "      <td>0.006651877657666021</td>\n",
              "      <td>-0.0008334213528966246</td>\n",
              "      <td>0.007970433338989816</td>\n",
              "      <td>0.0</td>\n",
              "      <td>-0.001714732630405109</td>\n",
              "      <td>0.033700179571360823</td>\n",
              "      <td>0.007212208384028969</td>\n",
              "      <td>0.021835755832582182</td>\n",
              "      <td>0.0015247779320136992</td>\n",
              "      <td>0.012405144307104533</td>\n",
              "      <td>0.011146619965072211</td>\n",
              "      <td>0.01281565954422652</td>\n",
              "      <td>0.013508125071127575</td>\n",
              "      <td>0.0007958536193215966</td>\n",
              "      <td>0.021160487557909956</td>\n",
              "      <td>0.012625287147547296</td>\n",
              "      <td>0.001980744832791766</td>\n",
              "      <td>0.028821671529630936</td>\n",
              "      <td>0.013592749190697317</td>\n",
              "      <td>0.005231848136195444</td>\n",
              "      <td>0.0150413048824356</td>\n",
              "      <td>0.013299886969034138</td>\n",
              "      <td>0.021534211659673817</td>\n",
              "      <td>0.0026513491654055745</td>\n",
              "      <td>0.00609448305876121</td>\n",
              "      <td>0.010791699813703688</td>\n",
              "      <td>-0.012880214781835682</td>\n",
              "      <td>0.010158518438841238</td>\n",
              "      <td>0.005509121781919183</td>\n",
              "      <td>0.009262756198038541</td>\n",
              "      <td>0.013309143971451439</td>\n",
              "      <td>0.012417771949851305</td>\n",
              "      <td>0.011861810327692304</td>\n",
              "      <td>-0.018235022056068702</td>\n",
              "      <td>0.026186391978391572</td>\n",
              "      <td>0.010081545588746644</td>\n",
              "    </tr>\n",
              "    <tr>\n",
              "      <th>3</th>\n",
              "      <td>0.005341485420333782</td>\n",
              "      <td>-0.026558302635292675</td>\n",
              "      <td>0.023044332747489845</td>\n",
              "      <td>-0.005231049417552556</td>\n",
              "      <td>0.012698583337127343</td>\n",
              "      <td>0.019651725259113018</td>\n",
              "      <td>0.03770250789842336</td>\n",
              "      <td>0.04123028825339465</td>\n",
              "      <td>0.009249995666719281</td>\n",
              "      <td>0.006812669905168322</td>\n",
              "      <td>0.027999531897914466</td>\n",
              "      <td>0.009559373176203903</td>\n",
              "      <td>0.014217406710470382</td>\n",
              "      <td>0.01565320706109565</td>\n",
              "      <td>0.024634891323887187</td>\n",
              "      <td>0.022625209960338538</td>\n",
              "      <td>0.012999627941469102</td>\n",
              "      <td>0.02630875475968567</td>\n",
              "      <td>0.0031481207588969174</td>\n",
              "      <td>0.02188309692510341</td>\n",
              "      <td>0.018054651413263505</td>\n",
              "      <td>0.007832085440342583</td>\n",
              "      <td>0.02210033044163278</td>\n",
              "      <td>0.012023173735506773</td>\n",
              "      <td>0.01633460172109365</td>\n",
              "      <td>0.022283038891495188</td>\n",
              "      <td>0.015434745293440433</td>\n",
              "      <td>0.030940373976377396</td>\n",
              "      <td>0.019926691956847487</td>\n",
              "      <td>0.028993717132885122</td>\n",
              "      <td>0.009985302078073768</td>\n",
              "      <td>0.018011096458096103</td>\n",
              "      <td>0.02020270731751947</td>\n",
              "      <td>0.011370636516364082</td>\n",
              "      <td>0.0002262128246671936</td>\n",
              "      <td>0.02299374648640099</td>\n",
              "      <td>-0.014443025459857031</td>\n",
              "      <td>0.008495642009191427</td>\n",
              "      <td>0.021703689983860734</td>\n",
              "      <td>0.016888400259996574</td>\n",
              "      <td>0.00989964616750919</td>\n",
              "      <td>0.04662914834949756</td>\n",
              "      <td>0.036797993365117965</td>\n",
              "      <td>0.0178193134867219</td>\n",
              "      <td>0.013323378813943663</td>\n",
              "      <td>0.017415948271355827</td>\n",
              "      <td>0.017485991476264954</td>\n",
              "      <td>0.02120677118672298</td>\n",
              "      <td>0.020886480053366345</td>\n",
              "      <td>0.016507638772634618</td>\n",
              "    </tr>\n",
              "    <tr>\n",
              "      <th>4</th>\n",
              "      <td>0.0</td>\n",
              "      <td>0.01439011485343183</td>\n",
              "      <td>-0.0007859018086234315</td>\n",
              "      <td>0.0017467253349418002</td>\n",
              "      <td>0.0</td>\n",
              "      <td>0.007254532904120517</td>\n",
              "      <td>0.0010719339969159937</td>\n",
              "      <td>-0.022706625480159587</td>\n",
              "      <td>-0.005117093339855558</td>\n",
              "      <td>-0.01181820646708593</td>\n",
              "      <td>-0.019322899096715113</td>\n",
              "      <td>0.027114629914307457</td>\n",
              "      <td>-0.00888441775698141</td>\n",
              "      <td>-0.001836024752257255</td>\n",
              "      <td>-0.0001540546811528733</td>\n",
              "      <td>-0.020126971337380332</td>\n",
              "      <td>-0.010650096706085377</td>\n",
              "      <td>-0.0056439606675136615</td>\n",
              "      <td>-0.013035197340867246</td>\n",
              "      <td>-0.017296419097913178</td>\n",
              "      <td>-0.016739706031406672</td>\n",
              "      <td>-0.013722800811819768</td>\n",
              "      <td>-0.017539896898100867</td>\n",
              "      <td>-0.011093227155235412</td>\n",
              "      <td>-0.01356726259127225</td>\n",
              "      <td>-0.0005638908131604247</td>\n",
              "      <td>-0.01282593323530942</td>\n",
              "      <td>-0.015154726160297687</td>\n",
              "      <td>-0.004624790992747718</td>\n",
              "      <td>-0.008440670585653464</td>\n",
              "      <td>0.004885875669530618</td>\n",
              "      <td>-0.006793675021000467</td>\n",
              "      <td>0.0046048276424890885</td>\n",
              "      <td>-0.009374185099025266</td>\n",
              "      <td>-0.0015842256934205379</td>\n",
              "      <td>-0.015208758285952362</td>\n",
              "      <td>0.021441771027551876</td>\n",
              "      <td>0.004946961929193362</td>\n",
              "      <td>-0.014137449600544808</td>\n",
              "      <td>-0.00551015475570151</td>\n",
              "      <td>-0.002989478968128219</td>\n",
              "      <td>-0.00940411891139</td>\n",
              "      <td>-0.018099252619383208</td>\n",
              "      <td>-0.007363389413907649</td>\n",
              "      <td>-0.014934225178737966</td>\n",
              "      <td>-0.008456431126750426</td>\n",
              "      <td>-0.008324757225441884</td>\n",
              "      <td>-0.008941980147262002</td>\n",
              "      <td>-0.012457095869484866</td>\n",
              "      <td>-0.0014105682292698165</td>\n",
              "    </tr>\n",
              "    <tr>\n",
              "      <th>...</th>\n",
              "      <td>...</td>\n",
              "      <td>...</td>\n",
              "      <td>...</td>\n",
              "      <td>...</td>\n",
              "      <td>...</td>\n",
              "      <td>...</td>\n",
              "      <td>...</td>\n",
              "      <td>...</td>\n",
              "      <td>...</td>\n",
              "      <td>...</td>\n",
              "      <td>...</td>\n",
              "      <td>...</td>\n",
              "      <td>...</td>\n",
              "      <td>...</td>\n",
              "      <td>...</td>\n",
              "      <td>...</td>\n",
              "      <td>...</td>\n",
              "      <td>...</td>\n",
              "      <td>...</td>\n",
              "      <td>...</td>\n",
              "      <td>...</td>\n",
              "      <td>...</td>\n",
              "      <td>...</td>\n",
              "      <td>...</td>\n",
              "      <td>...</td>\n",
              "      <td>...</td>\n",
              "      <td>...</td>\n",
              "      <td>...</td>\n",
              "      <td>...</td>\n",
              "      <td>...</td>\n",
              "      <td>...</td>\n",
              "      <td>...</td>\n",
              "      <td>...</td>\n",
              "      <td>...</td>\n",
              "      <td>...</td>\n",
              "      <td>...</td>\n",
              "      <td>...</td>\n",
              "      <td>...</td>\n",
              "      <td>...</td>\n",
              "      <td>...</td>\n",
              "      <td>...</td>\n",
              "      <td>...</td>\n",
              "      <td>...</td>\n",
              "      <td>...</td>\n",
              "      <td>...</td>\n",
              "      <td>...</td>\n",
              "      <td>...</td>\n",
              "      <td>...</td>\n",
              "      <td>...</td>\n",
              "      <td>...</td>\n",
              "    </tr>\n",
              "    <tr>\n",
              "      <th>1334</th>\n",
              "      <td>0.0</td>\n",
              "      <td>0.005741719123330141</td>\n",
              "      <td>0.005359359965558478</td>\n",
              "      <td>0.0019782400121057205</td>\n",
              "      <td>0.0014235731941498106</td>\n",
              "      <td>0.01071165559492781</td>\n",
              "      <td>-0.0038829616776504495</td>\n",
              "      <td>0.0012763328955864332</td>\n",
              "      <td>-0.017465215196101683</td>\n",
              "      <td>0.015100188005349171</td>\n",
              "      <td>-0.02273701928829554</td>\n",
              "      <td>0.026568354728847842</td>\n",
              "      <td>-0.003259256838376059</td>\n",
              "      <td>-0.016187150624533384</td>\n",
              "      <td>0.033730010376693216</td>\n",
              "      <td>0.02756540956293908</td>\n",
              "      <td>-0.0043666322950412255</td>\n",
              "      <td>0.01551434709951676</td>\n",
              "      <td>0.010317078894281706</td>\n",
              "      <td>-0.009102333391985039</td>\n",
              "      <td>0.01232688313910746</td>\n",
              "      <td>0.016337413619810934</td>\n",
              "      <td>0.0005595367616341799</td>\n",
              "      <td>-0.013443728645197892</td>\n",
              "      <td>-0.001653364898875305</td>\n",
              "      <td>-0.009694535202750905</td>\n",
              "      <td>-0.0040954207826374295</td>\n",
              "      <td>-0.01367353011023248</td>\n",
              "      <td>0.011189896692178203</td>\n",
              "      <td>-0.012176215767229817</td>\n",
              "      <td>-0.02965040823060334</td>\n",
              "      <td>-0.017955443505530827</td>\n",
              "      <td>0.012064829811123536</td>\n",
              "      <td>0.0</td>\n",
              "      <td>-0.01282806482212776</td>\n",
              "      <td>0.0331045437087538</td>\n",
              "      <td>0.005339232285323396</td>\n",
              "      <td>-0.010358097679650373</td>\n",
              "      <td>0.004105694132378633</td>\n",
              "      <td>-0.002524855333339558</td>\n",
              "      <td>0.001017500528984447</td>\n",
              "      <td>0.02955669356249535</td>\n",
              "      <td>0.034673883502692716</td>\n",
              "      <td>0.018675017702342613</td>\n",
              "      <td>-0.001261321003149855</td>\n",
              "      <td>-0.00019492678271667795</td>\n",
              "      <td>0.00014335674280417936</td>\n",
              "      <td>-0.00692167485847263</td>\n",
              "      <td>-0.023528665422846273</td>\n",
              "      <td>0.030850774999380652</td>\n",
              "    </tr>\n",
              "    <tr>\n",
              "      <th>1335</th>\n",
              "      <td>0.0</td>\n",
              "      <td>-0.0038241346063416152</td>\n",
              "      <td>-0.012714137036661499</td>\n",
              "      <td>0.0</td>\n",
              "      <td>0.0</td>\n",
              "      <td>-0.004118056608917486</td>\n",
              "      <td>0.02846070950118214</td>\n",
              "      <td>-0.019751565163629956</td>\n",
              "      <td>-0.016180093631838078</td>\n",
              "      <td>0.004478493607986</td>\n",
              "      <td>-0.00429690107956379</td>\n",
              "      <td>0.02620820054278951</td>\n",
              "      <td>0.002543846877973298</td>\n",
              "      <td>0.006580592326997551</td>\n",
              "      <td>-0.002490661312451808</td>\n",
              "      <td>0.0024164213352805557</td>\n",
              "      <td>0.010048316124793642</td>\n",
              "      <td>0.02633415418214918</td>\n",
              "      <td>0.0023477678524076993</td>\n",
              "      <td>0.047584301079903614</td>\n",
              "      <td>0.006217718101862138</td>\n",
              "      <td>-0.00418851666494958</td>\n",
              "      <td>0.014658785689882166</td>\n",
              "      <td>0.007955843068755028</td>\n",
              "      <td>0.0009372219895206895</td>\n",
              "      <td>0.013289524525437002</td>\n",
              "      <td>0.011270606024357217</td>\n",
              "      <td>-0.022626021045938565</td>\n",
              "      <td>0.006777217858812806</td>\n",
              "      <td>0.01809457693461072</td>\n",
              "      <td>0.029925111767772693</td>\n",
              "      <td>0.03099035745329738</td>\n",
              "      <td>0.01863161766788303</td>\n",
              "      <td>-0.005206183540131929</td>\n",
              "      <td>0.026055299371228205</td>\n",
              "      <td>-0.03347998955510125</td>\n",
              "      <td>0.033074484742078525</td>\n",
              "      <td>0.019722759204758977</td>\n",
              "      <td>-0.008761505668572719</td>\n",
              "      <td>0.0022095810583073836</td>\n",
              "      <td>0.0070933924700408236</td>\n",
              "      <td>0.020673005801480383</td>\n",
              "      <td>0.0246461864454171</td>\n",
              "      <td>0.007313592795402668</td>\n",
              "      <td>0.005633829502569554</td>\n",
              "      <td>0.014403229474225707</td>\n",
              "      <td>0.014795077049557443</td>\n",
              "      <td>0.005886443589951757</td>\n",
              "      <td>0.0070551364196000275</td>\n",
              "      <td>0.006423490698468566</td>\n",
              "    </tr>\n",
              "    <tr>\n",
              "      <th>1336</th>\n",
              "      <td>0.0</td>\n",
              "      <td>0.032048020132109</td>\n",
              "      <td>0.016109711460540223</td>\n",
              "      <td>0.023438572972017596</td>\n",
              "      <td>0.01552605586587117</td>\n",
              "      <td>0.01757354724088364</td>\n",
              "      <td>0.0007065814228825747</td>\n",
              "      <td>0.02060153548360682</td>\n",
              "      <td>0.022675425305807597</td>\n",
              "      <td>-0.014299616110780925</td>\n",
              "      <td>-0.0032839093110314313</td>\n",
              "      <td>-0.0013106489210622273</td>\n",
              "      <td>0.006434560405233458</td>\n",
              "      <td>0.013460158185699178</td>\n",
              "      <td>0.028948006344870332</td>\n",
              "      <td>0.030559156860366178</td>\n",
              "      <td>0.0276097013666428</td>\n",
              "      <td>-0.013613616780816944</td>\n",
              "      <td>-0.0026847756717987923</td>\n",
              "      <td>0.025958577901829618</td>\n",
              "      <td>0.03166568752041641</td>\n",
              "      <td>-0.0036875863301997253</td>\n",
              "      <td>0.04220130830606217</td>\n",
              "      <td>0.029283060008064125</td>\n",
              "      <td>0.01699262837535549</td>\n",
              "      <td>-0.008417289397485917</td>\n",
              "      <td>0.024281504997234814</td>\n",
              "      <td>0.029201281957489576</td>\n",
              "      <td>0.0308349554997976</td>\n",
              "      <td>-0.002868619244223249</td>\n",
              "      <td>-0.02016160015761952</td>\n",
              "      <td>0.0007440369141982152</td>\n",
              "      <td>0.02509710279122239</td>\n",
              "      <td>-0.011260348606651085</td>\n",
              "      <td>0.030962170819051577</td>\n",
              "      <td>0.01688013271589626</td>\n",
              "      <td>0.008957643104745203</td>\n",
              "      <td>-0.0037799266795660413</td>\n",
              "      <td>0.002796087302001188</td>\n",
              "      <td>0.02552667786108686</td>\n",
              "      <td>0.02755367671861335</td>\n",
              "      <td>0.009192409828748908</td>\n",
              "      <td>0.018219903935715973</td>\n",
              "      <td>0.023381945842940913</td>\n",
              "      <td>0.026189936050139</td>\n",
              "      <td>0.01435021547654085</td>\n",
              "      <td>0.017566984029036035</td>\n",
              "      <td>-0.0020735967161028468</td>\n",
              "      <td>-0.008846173757068417</td>\n",
              "      <td>0.004790678773327861</td>\n",
              "    </tr>\n",
              "    <tr>\n",
              "      <th>1337</th>\n",
              "      <td>0.0</td>\n",
              "      <td>0.03464335436656298</td>\n",
              "      <td>0.010118158928767402</td>\n",
              "      <td>0.01342302033214077</td>\n",
              "      <td>-0.0014015278607570237</td>\n",
              "      <td>0.003896887425421157</td>\n",
              "      <td>-0.01634224531912616</td>\n",
              "      <td>0.016013836016422745</td>\n",
              "      <td>-0.02710040077284313</td>\n",
              "      <td>-0.026406167450414436</td>\n",
              "      <td>-0.012548371477580863</td>\n",
              "      <td>-0.00032792261320256644</td>\n",
              "      <td>-0.002363562389174584</td>\n",
              "      <td>-0.015628251482940756</td>\n",
              "      <td>0.035174800797938055</td>\n",
              "      <td>0.00222698006145129</td>\n",
              "      <td>-0.0005188533911994195</td>\n",
              "      <td>-0.02478459495395269</td>\n",
              "      <td>-0.03364263816127304</td>\n",
              "      <td>-0.0005971198413486537</td>\n",
              "      <td>0.02037991565804395</td>\n",
              "      <td>-0.018974621067492033</td>\n",
              "      <td>0.007055981945605557</td>\n",
              "      <td>-0.0008553678787633122</td>\n",
              "      <td>0.012383741722158252</td>\n",
              "      <td>0.01614080332943476</td>\n",
              "      <td>-0.001963260462276197</td>\n",
              "      <td>0.01709198441030418</td>\n",
              "      <td>-0.03390979956808597</td>\n",
              "      <td>-0.02466247831353378</td>\n",
              "      <td>-0.005433287370808332</td>\n",
              "      <td>0.013738305329787977</td>\n",
              "      <td>-0.011018002042669277</td>\n",
              "      <td>-0.004779372497510067</td>\n",
              "      <td>-0.024804227055602434</td>\n",
              "      <td>0.025637816776014358</td>\n",
              "      <td>-0.0011196865906581718</td>\n",
              "      <td>0.008650381292957376</td>\n",
              "      <td>0.003053437486890248</td>\n",
              "      <td>0.004905712773433768</td>\n",
              "      <td>0.0035953298477921294</td>\n",
              "      <td>-0.019302127713286238</td>\n",
              "      <td>0.014985257563483031</td>\n",
              "      <td>-0.06153315725011858</td>\n",
              "      <td>-0.002973647317803956</td>\n",
              "      <td>-0.004633686099015192</td>\n",
              "      <td>-0.003126827398627277</td>\n",
              "      <td>0.0003459183618224017</td>\n",
              "      <td>-0.002341031084670094</td>\n",
              "      <td>0.023170578821505625</td>\n",
              "    </tr>\n",
              "    <tr>\n",
              "      <th>1338</th>\n",
              "      <td>0.0</td>\n",
              "      <td>0.019521506894404274</td>\n",
              "      <td>-0.0004795300909986747</td>\n",
              "      <td>0.0038022859497384787</td>\n",
              "      <td>0.006988148340921819</td>\n",
              "      <td>0.0</td>\n",
              "      <td>0.03231735404360053</td>\n",
              "      <td>0.004588154034213868</td>\n",
              "      <td>-0.027982010710552754</td>\n",
              "      <td>0.02502051132340797</td>\n",
              "      <td>0.027217583606623803</td>\n",
              "      <td>0.020451970443703227</td>\n",
              "      <td>0.014677922800262137</td>\n",
              "      <td>-0.036758120315160965</td>\n",
              "      <td>0.09251851030583283</td>\n",
              "      <td>0.051059687423158064</td>\n",
              "      <td>-0.036600683909531424</td>\n",
              "      <td>0.059842821068207076</td>\n",
              "      <td>0.08377996480855301</td>\n",
              "      <td>0.01902475444522284</td>\n",
              "      <td>0.023537075838876886</td>\n",
              "      <td>-0.00762523327829379</td>\n",
              "      <td>0.026613012225279686</td>\n",
              "      <td>0.008097146220307603</td>\n",
              "      <td>0.009638741004019347</td>\n",
              "      <td>0.00823154611246311</td>\n",
              "      <td>0.06966282538498071</td>\n",
              "      <td>0.00781250638493094</td>\n",
              "      <td>-0.00506333909905087</td>\n",
              "      <td>0.04389597230296852</td>\n",
              "      <td>-0.008963564241862135</td>\n",
              "      <td>-0.021952868489730666</td>\n",
              "      <td>0.00552412302480896</td>\n",
              "      <td>0.0016241658413947957</td>\n",
              "      <td>0.006342252135446358</td>\n",
              "      <td>0.035819095694517515</td>\n",
              "      <td>-0.000840652223167014</td>\n",
              "      <td>-0.03368834255688514</td>\n",
              "      <td>0.04433649012427903</td>\n",
              "      <td>0.03766673773940477</td>\n",
              "      <td>0.025130188427255826</td>\n",
              "      <td>-0.002465205067446302</td>\n",
              "      <td>0.010419020791312794</td>\n",
              "      <td>-0.0033239772823556095</td>\n",
              "      <td>0.059727659081666364</td>\n",
              "      <td>0.025446354240290858</td>\n",
              "      <td>0.0279310868923585</td>\n",
              "      <td>0.0050021147420486155</td>\n",
              "      <td>-0.03497973507725668</td>\n",
              "      <td>0.05389160691757933</td>\n",
              "    </tr>\n",
              "  </tbody>\n",
              "</table>\n",
              "<p>1339 rows × 50 columns</p>\n",
              "</div>"
            ],
            "text/plain": [
              "                  005930.KS  ...                     XOM\n",
              "0      0.002253098962909259  ...    -0.02774316156178879\n",
              "1     -0.028921346045070545  ...   -0.005330417981188443\n",
              "2      0.009223739490583761  ...    0.010081545588746644\n",
              "3      0.005341485420333782  ...    0.016507638772634618\n",
              "4                       0.0  ...  -0.0014105682292698165\n",
              "...                     ...  ...                     ...\n",
              "1334                    0.0  ...    0.030850774999380652\n",
              "1335                    0.0  ...    0.006423490698468566\n",
              "1336                    0.0  ...    0.004790678773327861\n",
              "1337                    0.0  ...    0.023170578821505625\n",
              "1338                    0.0  ...     0.05389160691757933\n",
              "\n",
              "[1339 rows x 50 columns]"
            ]
          },
          "metadata": {
            "tags": []
          },
          "execution_count": 5
        }
      ]
    },
    {
      "cell_type": "markdown",
      "metadata": {
        "colab_type": "text",
        "id": "-tsBAEu583B8"
      },
      "source": [
        "El rendimiento diario de las acciones se obtiene de la siguiente forma:<br>\n",
        "$$\\ r= log( \\frac{Pt}{Pt_1})$$ <br>\n",
        "\n",
        "Para cada uno de los códigos bursátiles, en este caso se pierde un registro por el mecanismo de la fórmula, por lo que tenemos rendimientos de 1339 dias.<br>\n",
        "\n",
        "Posteriormente calculamos el promedio de los rendimientos diarios y convertimos esos rendimientos a  anuales, para tener un mejor análisis en la obtención del portafolio. Para la conversión del promedio de los rendimientos a tasa anual se hizo lo siguiente:<br>\n",
        "\n",
        "$$\\ r_{anual}= r_{diario}*264$$ <br>\n",
        "\n",
        "La razón de multiplicar por 264 los rendimientos diarios es porque son los días que usualmeten las bolsas del mundo cotizan acciones al año.\n",
        "\n"
      ]
    },
    {
      "cell_type": "markdown",
      "metadata": {
        "colab_type": "text",
        "id": "4M9GTL-qE6IV"
      },
      "source": [
        "**Vector del promedio de los rendimientos diarios**"
      ]
    },
    {
      "cell_type": "code",
      "metadata": {
        "colab_type": "code",
        "id": "HCP-y2MU6ryc",
        "outputId": "7d180c4f-50a4-4bdc-f73b-5b16832386f4",
        "colab": {
          "base_uri": "https://localhost:8080/",
          "height": 34
        }
      },
      "source": [
        "#Obtenemos el vector de rendimientos promedio de las acciones\n",
        "mu = funciones_auxiliares.calcular_rendimiento(datos)\n",
        "mu = cp.array(mu)\n",
        "\n",
        "#Se obtiene un array de tamaño 50 que son las acciones evaluadas\n",
        "mu.shape"
      ],
      "execution_count": 6,
      "outputs": [
        {
          "output_type": "execute_result",
          "data": {
            "text/plain": [
              "(50,)"
            ]
          },
          "metadata": {
            "tags": []
          },
          "execution_count": 6
        }
      ]
    },
    {
      "cell_type": "markdown",
      "metadata": {
        "colab_type": "text",
        "id": "PXSLqPHZFBo2"
      },
      "source": [
        "**Matriz de varianza y covarianza de los rendimientos**"
      ]
    },
    {
      "cell_type": "code",
      "metadata": {
        "colab_type": "code",
        "id": "OPvQ6DZIHu-X",
        "outputId": "9bc5de98-c581-44e6-dc21-1145002b5ca4",
        "colab": {
          "base_uri": "https://localhost:8080/",
          "height": 34
        }
      },
      "source": [
        "#Obtenemos la matriz de var-cov\n",
        "Sigma = funciones_auxiliares.calcular_varianza(datos)\n",
        "\n",
        "Sigma.shape"
      ],
      "execution_count": 7,
      "outputs": [
        {
          "output_type": "execute_result",
          "data": {
            "text/plain": [
              "(50, 50)"
            ]
          },
          "metadata": {
            "tags": []
          },
          "execution_count": 7
        }
      ]
    },
    {
      "cell_type": "markdown",
      "metadata": {
        "colab_type": "text",
        "id": "rPJraJkqLZSC"
      },
      "source": [
        "**Rendimiento máximo de los rendimientos promedios**<br>\n",
        "\n",
        "PAra resovler el problema suponemos que el retorno máximo del promedio de los rendimientos obtenidos es lo que espera recibir el inversionista y a partir de este rendimiento se buscaran los pesos $wi$ que se debe destinar a las empresas.\n",
        "\n"
      ]
    },
    {
      "cell_type": "code",
      "metadata": {
        "colab_type": "code",
        "id": "MbwMygncHvIB",
        "outputId": "ba54fc1f-f7cf-448b-a29d-0bdf71bf7f31",
        "colab": {
          "base_uri": "https://localhost:8080/",
          "height": 34
        }
      },
      "source": [
        "#Rendimiento máximo del vector de rendimientos\n",
        "r=max(mu)\n",
        "r"
      ],
      "execution_count": 8,
      "outputs": [
        {
          "output_type": "execute_result",
          "data": {
            "text/plain": [
              "array(0.40221088)"
            ]
          },
          "metadata": {
            "tags": []
          },
          "execution_count": 8
        }
      ]
    },
    {
      "cell_type": "markdown",
      "metadata": {
        "colab_type": "text",
        "id": "T_1QNAlvMYeb"
      },
      "source": [
        "**Etapa III - Solución de la función objetivo a minimizar- Solver de Marcowitz**<br>"
      ]
    },
    {
      "cell_type": "markdown",
      "metadata": {
        "colab_type": "text",
        "id": "tbjsZfF5HVSN"
      },
      "source": [
        "Para la solución del problema de minimización del portafolio de mínimia varianza se utiliza el método numérico de multiplicadores de lagrange con restricciones. La solución a este problema de optimización se aborda con restricciones através de las ecuaciones inducidas donde se involucra la matriz de covarianzas de los rendimientos de las acciones, el rendimiento medio y el retorno esperado del portafolio, como explica a continuación.<br>\n",
        "\n",
        "Definición del **lagrangiano**:\n",
        "\n",
        "$$L(w,\\lambda_{1}, \\lambda_{2}) = \\frac{1}{2}w^T\\Sigma w +  \\lambda_{1}(r-w^T\\mu) + \\lambda_{2}(1-w^T1_{n})$$\n",
        "\n",
        "Donde el primer termino es la función a optimizar y los siguientes dos terminos son las restricciones.\n",
        "\n",
        "Se derivan las Condiciones de primer orden\n",
        "\n",
        "$\\frac{\\delta L}{\\delta w} = 0_{n} = \\Sigma w - \\lambda_{1}\\mu - \\lambda_{2}1_{n}$\n",
        "\n",
        "$\\frac{\\delta L}{\\delta \\lambda_{1}} = 0 = r -w^T\\mu$\n",
        "\n",
        "$\\frac{\\delta L}{\\delta \\lambda{2}} = 0 = 1 -w^T1_{n}$\n",
        "\n",
        "Resolver para w en términos de $\\lambda_{1}$ y $\\lambda_{2}$\n",
        "\n",
        "$w_{0} = \\lambda_{1}\\Sigma^{-1}\\mu \\oplus \\lambda_{2}\\Sigma^{-1}1_{n}$\n",
        "\n",
        "Resolver para $\\lambda_{1}$ y $\\lambda_{2}$ sustituyendo w\n",
        "\n",
        "$r = w^T_{0}\\mu = \\lambda_{1}(\\mu^T\\Sigma^{-1}\\mu) + \\lambda_{2}(\\mu^T\\Sigma^{-1}1_{n}))$\n",
        "\n",
        "$1 = w^T 1_{n} = \\lambda_{1}(\\mu^T\\Sigma^{-1}1_{n}) + \\lambda_{2}(1^T_{n}\\Sigma^{-1}1_{n})$ \n",
        "\n",
        "\n",
        "$$\n",
        "\\begin{bmatrix}\n",
        "    r \\\\\n",
        "    1 \n",
        "  \\end{bmatrix}\n",
        "=\n",
        "\\begin{bmatrix}\n",
        "     A & C  \\\\\n",
        "     C & B\n",
        "  \\end{bmatrix}\n",
        "=\n",
        "\\begin{bmatrix}\n",
        "    \\lambda_{1}\\\\\n",
        "   \\lambda_{2} \n",
        "  \\end{bmatrix}\n",
        "$$\n",
        "\n",
        "$A =(\\mu^T\\Sigma^{-1}\\mu), B = (1^T_{n}\\Sigma^{-1}1_{n}), C =(1_{n}^T\\Sigma_{-1}\\mu) $\n"
      ]
    },
    {
      "cell_type": "markdown",
      "metadata": {
        "colab_type": "text",
        "id": "6oheZ_lgWb9d"
      },
      "source": [
        "**Funciones auxiliares** <br>\n",
        "\n",
        "$$w_{0}=\\frac{1}{\\Delta }(\\hat{r}\\cdot B-C)$$ <br>\n",
        "$$w_{1}=\\frac{1}{\\Delta }(A-C\\cdot \\hat{r})$$<br>\n",
        "\n",
        "Donde: <br>\n",
        "$$\\Delta =A\\cdot B-C^2$$ \n",
        "$$A=\\mu^t\\cdot \\Sigma^{-1}\\cdot \\mu$$\n",
        "$$B=1^t\\cdot \\Sigma^{-1}\\cdot 1$$ \n",
        "$$C=1^t\\cdot \\Sigma^{-1}\\cdot \\mu$$"
      ]
    },
    {
      "cell_type": "code",
      "metadata": {
        "colab_type": "code",
        "id": "zgfAk85lHvFY",
        "outputId": "348d9b27-aa11-4a48-d03a-ec10b30118a7",
        "colab": {
          "base_uri": "https://localhost:8080/",
          "height": 34
        }
      },
      "source": [
        "#Obtenemos los vectores auxiliares u y v\n",
        "u, v =modelo_markowitz.formar_vectores(mu, Sigma)\n",
        "\n",
        "#Se obtienen los valores A,B,C con ayuda de los vectores auxiliares\n",
        "A, B, C = modelo_markowitz.formar_abc(mu, Sigma)\n",
        "\n",
        "#Definimos Delta = AB-C^2\n",
        "Delta=modelo_markowitz.delta(A,B,C)\n",
        "Delta"
      ],
      "execution_count": 9,
      "outputs": [
        {
          "output_type": "execute_result",
          "data": {
            "text/plain": [
              "array(63932058.96057558)"
            ]
          },
          "metadata": {
            "tags": []
          },
          "execution_count": 9
        }
      ]
    },
    {
      "cell_type": "code",
      "metadata": {
        "colab_type": "code",
        "id": "jiHjx3x9HEYt",
        "colab": {}
      },
      "source": [
        "#Para la determinación de w_0 y w_1 aplicamos la funcion \"formar_omegas\"\n",
        "w_0, w_1= modelo_markowitz.formar_omegas(r, mu, Sigma)"
      ],
      "execution_count": 0,
      "outputs": []
    },
    {
      "cell_type": "markdown",
      "metadata": {
        "colab_type": "text",
        "id": "asyEyj-oKrXp"
      },
      "source": [
        "Justamente en la determinación de las omegas w_0 y w_1 se utilizan todas las funciones auxiliares generadas anteriormente."
      ]
    },
    {
      "cell_type": "code",
      "metadata": {
        "colab_type": "code",
        "id": "0bzFO4KHHc4J",
        "outputId": "c8d12038-7fbc-4436-cd4d-a1755be91630",
        "colab": {
          "base_uri": "https://localhost:8080/",
          "height": 34
        }
      },
      "source": [
        "#Matriz w_0\n",
        "w_0"
      ],
      "execution_count": 11,
      "outputs": [
        {
          "output_type": "execute_result",
          "data": {
            "text/plain": [
              "array(0.00014092)"
            ]
          },
          "metadata": {
            "tags": []
          },
          "execution_count": 11
        }
      ]
    },
    {
      "cell_type": "code",
      "metadata": {
        "colab_type": "code",
        "id": "pUjJ79c9KoQU",
        "outputId": "ee51c252-7106-4160-d9f0-54a2ee7d5323",
        "colab": {
          "base_uri": "https://localhost:8080/",
          "height": 34
        }
      },
      "source": [
        "#Matriz w_1\n",
        "w_1"
      ],
      "execution_count": 12,
      "outputs": [
        {
          "output_type": "execute_result",
          "data": {
            "text/plain": [
              "array(3.791824e-05)"
            ]
          },
          "metadata": {
            "tags": []
          },
          "execution_count": 12
        }
      ]
    },
    {
      "cell_type": "code",
      "metadata": {
        "colab_type": "code",
        "id": "DX4WMx_rLIdT",
        "outputId": "88f3e70a-9384-41cc-a910-cc26d3ab460b",
        "colab": {
          "base_uri": "https://localhost:8080/",
          "height": 1000
        }
      },
      "source": [
        "#Solución de Marcowitz\n",
        "w=modelo_markowitz.markowitz(r, mu, Sigma)\n",
        "\n",
        "#Desplegamos el vector de pesos\n",
        "#w\n",
        "w_df=modelo_markowitz.markowitz_df(r, mu, Sigma,stocks)\n",
        "w_df"
      ],
      "execution_count": 13,
      "outputs": [
        {
          "output_type": "execute_result",
          "data": {
            "text/html": [
              "<div>\n",
              "<style scoped>\n",
              "    .dataframe tbody tr th:only-of-type {\n",
              "        vertical-align: middle;\n",
              "    }\n",
              "\n",
              "    .dataframe tbody tr th {\n",
              "        vertical-align: top;\n",
              "    }\n",
              "\n",
              "    .dataframe thead th {\n",
              "        text-align: right;\n",
              "    }\n",
              "</style>\n",
              "<table border=\"1\" class=\"dataframe\">\n",
              "  <thead>\n",
              "    <tr style=\"text-align: right;\">\n",
              "      <th></th>\n",
              "      <th>pesos</th>\n",
              "      <th>stocks</th>\n",
              "    </tr>\n",
              "  </thead>\n",
              "  <tbody>\n",
              "    <tr>\n",
              "      <th>9</th>\n",
              "      <td>0.286001</td>\n",
              "      <td>GOOG</td>\n",
              "    </tr>\n",
              "    <tr>\n",
              "      <th>47</th>\n",
              "      <td>0.263296</td>\n",
              "      <td>1398.HK</td>\n",
              "    </tr>\n",
              "    <tr>\n",
              "      <th>12</th>\n",
              "      <td>0.203076</td>\n",
              "      <td>BHP.AX</td>\n",
              "    </tr>\n",
              "    <tr>\n",
              "      <th>19</th>\n",
              "      <td>0.198110</td>\n",
              "      <td>FB</td>\n",
              "    </tr>\n",
              "    <tr>\n",
              "      <th>30</th>\n",
              "      <td>0.192198</td>\n",
              "      <td>RDSA.AS</td>\n",
              "    </tr>\n",
              "    <tr>\n",
              "      <th>46</th>\n",
              "      <td>0.189812</td>\n",
              "      <td>MRK</td>\n",
              "    </tr>\n",
              "    <tr>\n",
              "      <th>26</th>\n",
              "      <td>0.169294</td>\n",
              "      <td>UNH</td>\n",
              "    </tr>\n",
              "    <tr>\n",
              "      <th>36</th>\n",
              "      <td>0.164033</td>\n",
              "      <td>PFE</td>\n",
              "    </tr>\n",
              "    <tr>\n",
              "      <th>0</th>\n",
              "      <td>0.158450</td>\n",
              "      <td>COP</td>\n",
              "    </tr>\n",
              "    <tr>\n",
              "      <th>2</th>\n",
              "      <td>0.158052</td>\n",
              "      <td>LIN</td>\n",
              "    </tr>\n",
              "    <tr>\n",
              "      <th>25</th>\n",
              "      <td>0.150480</td>\n",
              "      <td>PG</td>\n",
              "    </tr>\n",
              "    <tr>\n",
              "      <th>22</th>\n",
              "      <td>0.141300</td>\n",
              "      <td>RIO.L</td>\n",
              "    </tr>\n",
              "    <tr>\n",
              "      <th>41</th>\n",
              "      <td>0.138834</td>\n",
              "      <td>DLR</td>\n",
              "    </tr>\n",
              "    <tr>\n",
              "      <th>21</th>\n",
              "      <td>0.127870</td>\n",
              "      <td>PLD</td>\n",
              "    </tr>\n",
              "    <tr>\n",
              "      <th>48</th>\n",
              "      <td>0.120090</td>\n",
              "      <td>MA</td>\n",
              "    </tr>\n",
              "    <tr>\n",
              "      <th>20</th>\n",
              "      <td>0.119928</td>\n",
              "      <td>CVX</td>\n",
              "    </tr>\n",
              "    <tr>\n",
              "      <th>42</th>\n",
              "      <td>0.103567</td>\n",
              "      <td>2010.SR</td>\n",
              "    </tr>\n",
              "    <tr>\n",
              "      <th>13</th>\n",
              "      <td>0.094603</td>\n",
              "      <td>UNP</td>\n",
              "    </tr>\n",
              "    <tr>\n",
              "      <th>24</th>\n",
              "      <td>0.088390</td>\n",
              "      <td>HD</td>\n",
              "    </tr>\n",
              "    <tr>\n",
              "      <th>6</th>\n",
              "      <td>0.087180</td>\n",
              "      <td>JNJ</td>\n",
              "    </tr>\n",
              "    <tr>\n",
              "      <th>29</th>\n",
              "      <td>0.082466</td>\n",
              "      <td>0700.HK</td>\n",
              "    </tr>\n",
              "    <tr>\n",
              "      <th>28</th>\n",
              "      <td>0.080912</td>\n",
              "      <td>V</td>\n",
              "    </tr>\n",
              "    <tr>\n",
              "      <th>27</th>\n",
              "      <td>0.077204</td>\n",
              "      <td>BRK-A</td>\n",
              "    </tr>\n",
              "    <tr>\n",
              "      <th>33</th>\n",
              "      <td>0.076965</td>\n",
              "      <td>RTX</td>\n",
              "    </tr>\n",
              "    <tr>\n",
              "      <th>38</th>\n",
              "      <td>0.061640</td>\n",
              "      <td>005930.KS</td>\n",
              "    </tr>\n",
              "    <tr>\n",
              "      <th>18</th>\n",
              "      <td>0.057652</td>\n",
              "      <td>AAPL</td>\n",
              "    </tr>\n",
              "    <tr>\n",
              "      <th>5</th>\n",
              "      <td>0.051082</td>\n",
              "      <td>WMT</td>\n",
              "    </tr>\n",
              "    <tr>\n",
              "      <th>8</th>\n",
              "      <td>0.037286</td>\n",
              "      <td>MSFT</td>\n",
              "    </tr>\n",
              "    <tr>\n",
              "      <th>4</th>\n",
              "      <td>0.031709</td>\n",
              "      <td>AMZN</td>\n",
              "    </tr>\n",
              "    <tr>\n",
              "      <th>17</th>\n",
              "      <td>0.029668</td>\n",
              "      <td>VOO</td>\n",
              "    </tr>\n",
              "    <tr>\n",
              "      <th>32</th>\n",
              "      <td>0.026438</td>\n",
              "      <td>AI.PA</td>\n",
              "    </tr>\n",
              "    <tr>\n",
              "      <th>14</th>\n",
              "      <td>0.022877</td>\n",
              "      <td>BABA</td>\n",
              "    </tr>\n",
              "    <tr>\n",
              "      <th>34</th>\n",
              "      <td>0.022074</td>\n",
              "      <td>MC.PA</td>\n",
              "    </tr>\n",
              "    <tr>\n",
              "      <th>37</th>\n",
              "      <td>0.017702</td>\n",
              "      <td>JPM</td>\n",
              "    </tr>\n",
              "    <tr>\n",
              "      <th>15</th>\n",
              "      <td>0.014992</td>\n",
              "      <td>NSRGY</td>\n",
              "    </tr>\n",
              "    <tr>\n",
              "      <th>23</th>\n",
              "      <td>0.013629</td>\n",
              "      <td>HON</td>\n",
              "    </tr>\n",
              "    <tr>\n",
              "      <th>7</th>\n",
              "      <td>0.012639</td>\n",
              "      <td>VTI</td>\n",
              "    </tr>\n",
              "    <tr>\n",
              "      <th>44</th>\n",
              "      <td>0.010687</td>\n",
              "      <td>7203.T</td>\n",
              "    </tr>\n",
              "    <tr>\n",
              "      <th>16</th>\n",
              "      <td>0.007607</td>\n",
              "      <td>RHHBY</td>\n",
              "    </tr>\n",
              "    <tr>\n",
              "      <th>11</th>\n",
              "      <td>0.002242</td>\n",
              "      <td>CCI</td>\n",
              "    </tr>\n",
              "    <tr>\n",
              "      <th>10</th>\n",
              "      <td>-0.005988</td>\n",
              "      <td>XOM</td>\n",
              "    </tr>\n",
              "    <tr>\n",
              "      <th>1</th>\n",
              "      <td>-0.020871</td>\n",
              "      <td>AMT</td>\n",
              "    </tr>\n",
              "    <tr>\n",
              "      <th>31</th>\n",
              "      <td>-0.024010</td>\n",
              "      <td>0688.HK</td>\n",
              "    </tr>\n",
              "    <tr>\n",
              "      <th>43</th>\n",
              "      <td>-0.042820</td>\n",
              "      <td>UPS</td>\n",
              "    </tr>\n",
              "    <tr>\n",
              "      <th>40</th>\n",
              "      <td>-0.050346</td>\n",
              "      <td>RELIANCE.NS</td>\n",
              "    </tr>\n",
              "    <tr>\n",
              "      <th>3</th>\n",
              "      <td>-0.092897</td>\n",
              "      <td>LMT</td>\n",
              "    </tr>\n",
              "    <tr>\n",
              "      <th>49</th>\n",
              "      <td>-0.105536</td>\n",
              "      <td>T</td>\n",
              "    </tr>\n",
              "    <tr>\n",
              "      <th>35</th>\n",
              "      <td>-0.108208</td>\n",
              "      <td>KO</td>\n",
              "    </tr>\n",
              "    <tr>\n",
              "      <th>39</th>\n",
              "      <td>-0.108211</td>\n",
              "      <td>VZ</td>\n",
              "    </tr>\n",
              "    <tr>\n",
              "      <th>45</th>\n",
              "      <td>-2.333148</td>\n",
              "      <td>PEP</td>\n",
              "    </tr>\n",
              "  </tbody>\n",
              "</table>\n",
              "</div>"
            ],
            "text/plain": [
              "       pesos       stocks\n",
              "9   0.286001         GOOG\n",
              "47  0.263296      1398.HK\n",
              "12  0.203076       BHP.AX\n",
              "19  0.198110           FB\n",
              "30  0.192198      RDSA.AS\n",
              "46  0.189812          MRK\n",
              "26  0.169294          UNH\n",
              "36  0.164033          PFE\n",
              "0   0.158450          COP\n",
              "2   0.158052          LIN\n",
              "25  0.150480           PG\n",
              "22  0.141300        RIO.L\n",
              "41  0.138834          DLR\n",
              "21  0.127870          PLD\n",
              "48  0.120090           MA\n",
              "20  0.119928          CVX\n",
              "42  0.103567      2010.SR\n",
              "13  0.094603          UNP\n",
              "24  0.088390           HD\n",
              "6   0.087180          JNJ\n",
              "29  0.082466      0700.HK\n",
              "28  0.080912            V\n",
              "27  0.077204        BRK-A\n",
              "33  0.076965          RTX\n",
              "38  0.061640    005930.KS\n",
              "18  0.057652         AAPL\n",
              "5   0.051082          WMT\n",
              "8   0.037286         MSFT\n",
              "4   0.031709         AMZN\n",
              "17  0.029668          VOO\n",
              "32  0.026438        AI.PA\n",
              "14  0.022877         BABA\n",
              "34  0.022074        MC.PA\n",
              "37  0.017702          JPM\n",
              "15  0.014992        NSRGY\n",
              "23  0.013629          HON\n",
              "7   0.012639          VTI\n",
              "44  0.010687       7203.T\n",
              "16  0.007607        RHHBY\n",
              "11  0.002242          CCI\n",
              "10 -0.005988          XOM\n",
              "1  -0.020871          AMT\n",
              "31 -0.024010      0688.HK\n",
              "43 -0.042820          UPS\n",
              "40 -0.050346  RELIANCE.NS\n",
              "3  -0.092897          LMT\n",
              "49 -0.105536            T\n",
              "35 -0.108208           KO\n",
              "39 -0.108211           VZ\n",
              "45 -2.333148          PEP"
            ]
          },
          "metadata": {
            "tags": []
          },
          "execution_count": 13
        }
      ]
    },
    {
      "cell_type": "markdown",
      "metadata": {
        "colab_type": "text",
        "id": "h8SzA6g05izz"
      },
      "source": [
        "De esta manera obtenemos las pesos **$wi$** que un inversionista debe asignar en un portafolio que contenga este conjunto de acciones. <br>\n",
        "\n",
        "Los pesos o ponderaciones que son mas grandes indican que en ese punto se debe invertir mayor cantidad de dinero porque se tendrá un mayor rendimiento. Del mismo modo, se observa que hay pesos negativos y esto sucede porque estamos en el supuesto de que se permiten **Ventas en Corto** (*Short Sales*). Se dice que un inversionista tiene una posición corta cuando tiene algún contrato de préstamo de títulos financieros, en este caso acciones y este contrato establece que dichos títulos se devolveran en una fecha futura, por lo que el inversionista puede adquirir estas acciones a un precio menor para devolverlas a su tenedor al finalizar el contrado, de esta manera el inversionista se estaría beneficiando por la diferencia en el costo de las acciones."
      ]
    },
    {
      "cell_type": "markdown",
      "metadata": {
        "colab_type": "text",
        "id": "LfgY30BJRlha"
      },
      "source": [
        "**Comprobación de las restricciones del problema**\n",
        "\n",
        "1) Verificamos que $$ w^t 1= 1$$<br>"
      ]
    },
    {
      "cell_type": "code",
      "metadata": {
        "colab_type": "code",
        "id": "F6iPzqAsRvQN",
        "outputId": "c36ac0f8-be8f-42e6-e2f0-2cdffcd46d0c",
        "colab": {
          "base_uri": "https://localhost:8080/",
          "height": 34
        }
      },
      "source": [
        "#Sumamos el vector de pesos obtenido\n",
        "sum(w)"
      ],
      "execution_count": 14,
      "outputs": [
        {
          "output_type": "execute_result",
          "data": {
            "text/plain": [
              "array(1.)"
            ]
          },
          "metadata": {
            "tags": []
          },
          "execution_count": 14
        }
      ]
    },
    {
      "cell_type": "markdown",
      "metadata": {
        "colab_type": "text",
        "id": "bs23sqYrSI22"
      },
      "source": [
        "1) Verificamos que $$ w^t \\mu= r$$<br>"
      ]
    },
    {
      "cell_type": "code",
      "metadata": {
        "colab_type": "code",
        "id": "idjutBPXS_XT",
        "outputId": "9b1d783f-c038-482b-9de2-d28869df3c22",
        "colab": {
          "base_uri": "https://localhost:8080/",
          "height": 85
        }
      },
      "source": [
        "pprint.pprint(\"Valor r \")\n",
        "pprint.pprint(r)\n",
        "pprint.pprint(\"Valor w*mu \")\n",
        "pprint.pprint(w@mu)"
      ],
      "execution_count": 15,
      "outputs": [
        {
          "output_type": "stream",
          "text": [
            "'Valor r '\n",
            "array(0.40221088)\n",
            "'Valor w*mu '\n",
            "array(0.40221088)\n"
          ],
          "name": "stdout"
        }
      ]
    },
    {
      "cell_type": "markdown",
      "metadata": {
        "colab_type": "text",
        "id": "QApt7RfkUmKf"
      },
      "source": [
        "**Calculamos la varianza o riesgo del portafolio obtenido (óptimo)**"
      ]
    },
    {
      "cell_type": "code",
      "metadata": {
        "colab_type": "code",
        "id": "70ZhQTYBUgqn",
        "outputId": "ac16ae62-68af-463a-af03-40d9883fffab",
        "colab": {
          "base_uri": "https://localhost:8080/",
          "height": 51
        }
      },
      "source": [
        "pprint.pprint(\"El riesgo del portafolio obtenido es \")\n",
        "pprint.pprint(w.transpose()@Sigma@w)"
      ],
      "execution_count": 16,
      "outputs": [
        {
          "output_type": "stream",
          "text": [
            "'El riesgo del portafolio obtenido es '\n",
            "array(9.45979246e-05)\n"
          ],
          "name": "stdout"
        }
      ]
    },
    {
      "cell_type": "markdown",
      "metadata": {
        "colab_type": "text",
        "id": "Fsqq0q9XVERt"
      },
      "source": [
        "La siguiente parte del proyecto consistira en realizar el método de newton al problema anteriormente planteada para así dar la importancia correspondiente a las restricciones de este.\n",
        "\n",
        "\n",
        "\n",
        "\n"
      ]
    },
    {
      "cell_type": "markdown",
      "metadata": {
        "colab_type": "text",
        "id": "lc3P77h2PtWF"
      },
      "source": [
        "\n",
        "## Método de Newton con reestricciones de igualdad\n",
        "\n",
        "Consideraciones:\n",
        "\n",
        "1) El punto inicial debe ser factible, es decir: $w\\in domf$, $w^T\\mu = r$ y $w^T1_{n} = 1$ \n",
        "\n",
        "2) El paso de Newton $\\Delta w$, debe modificarse de modo que satisfaga las reestricciones.\n",
        "\n",
        "\n",
        "### Aproximación de segundo orden\n",
        "Supongase que w es un punto factible del problema y desarrollese vía el teorema de Taylor la aproximación de segundo orden con centro en el punto w para f\n",
        "\n",
        "$$f: \\hat{f}(w + v) = f(w) +\\Delta f(w)^Tv +\\frac{1}{2}v^T\\Delta^2f(w)v$$\n",
        "\n",
        "Entonces el problema que se resolvera es:\n",
        "\n",
        "min $\\hat{f}(w + v)$\n",
        "\n",
        "Sujeto a:\n",
        "\n",
        "- $(w + v)^T\\mu=r$\n",
        "- $(w + v)^T1_{n}=1$\n",
        "\n",
        "con variable $v \\in R^n$, el cual como f es convexa es un problema convexo de minimización cuadrática con reestricciones de igualdad.\n"
      ]
    },
    {
      "cell_type": "markdown",
      "metadata": {
        "id": "3BswrqJzhzId",
        "colab_type": "text"
      },
      "source": [
        "## Análisis visual"
      ]
    },
    {
      "cell_type": "code",
      "metadata": {
        "id": "fBQtzDNMRRuh",
        "colab_type": "code",
        "colab": {}
      },
      "source": [
        "import numpy as np\n",
        "retornos = np.linspace(-2, 2, num=1000)\n",
        "retornos\n",
        "riesgo = []\n",
        "for i in retornos:\n",
        "  w_star = punto_factible.feasible_markowitz(i,mu.reshape(50,1))\n",
        "  riesgo.append(1/2*(w_star.T@Sigma@w_star))\n",
        "riesgo= np.sqrt(cp.asnumpy(np.stack( riesgo)))"
      ],
      "execution_count": 0,
      "outputs": []
    },
    {
      "cell_type": "code",
      "metadata": {
        "id": "NGeo1CAUYxYd",
        "colab_type": "code",
        "colab": {}
      },
      "source": [
        "riesgo_m = []\n",
        "for i in retornos:\n",
        "  w_star = modelo_markowitz.markowitz(i,mu,Sigma)\n",
        "  riesgo_m.append(1/2*(w_star.T@Sigma@w_star))\n",
        "\n",
        "riesgo_m= np.sqrt(cp.asnumpy(np.stack( riesgo_m)))\n"
      ],
      "execution_count": 0,
      "outputs": []
    },
    {
      "cell_type": "markdown",
      "metadata": {
        "id": "BTHxcsloh5x5",
        "colab_type": "text"
      },
      "source": [
        "Seleccionando retornos del portafolio con valores entre (-1,1) y tomando algunos pesos $w$ que cumplen con las restricciones  $ w^t 1= 1$ y $ w^t \\mu= r$  se calculó la desviación estándar, es decir, $\\frac{1}{2} w^t \\Sigma w$. La siguiente gráfica muestra algunos puntos factibles para retornos del portafolio con su respectiva desviación estándar."
      ]
    },
    {
      "cell_type": "code",
      "metadata": {
        "id": "E4to4Up1SSmB",
        "colab_type": "code",
        "outputId": "f7cee46e-5eff-48b7-a8ba-c66186cc2a1b",
        "colab": {
          "base_uri": "https://localhost:8080/",
          "height": 318
        }
      },
      "source": [
        "import matplotlib.pyplot as plt\n",
        "fig = plt.figure()\n",
        "#plt.plot(riesgo, retornos, 'o', markersize=4)\n",
        "#plt.plot(riesgo_m, retornos, 'ro', markersize=5)\n",
        "plt.plot(riesgo_m, retornos , 'r-', markersize=5)\n",
        "#plt.plot(np.sqrt(np.diag(cp.asnumpy(Sigma))),cp.asnumpy(mu), 'bo', markersize=5)\n",
        "plt.xlabel('riesgo/desviación estádar',size=12)\n",
        "plt.ylabel('retornos del portafolio',size=12)\n",
        "plt.title('Gráfica 2. Frontera de alocacion de portafolios',size=15)"
      ],
      "execution_count": 19,
      "outputs": [
        {
          "output_type": "execute_result",
          "data": {
            "text/plain": [
              "Text(0.5, 1.0, 'Gráfica 2. Frontera de alocacion de portafolios')"
            ]
          },
          "metadata": {
            "tags": []
          },
          "execution_count": 19
        },
        {
          "output_type": "display_data",
          "data": {
            "image/png": "[encoded data removed]",
            "text/plain": [
              "<Figure size 432x288 with 1 Axes>"
            ]
          },
          "metadata": {
            "tags": [],
            "needs_background": "light"
          }
        }
      ]
    },
    {
      "cell_type": "markdown",
      "metadata": {
        "id": "NpxelfPwmkza",
        "colab_type": "text"
      },
      "source": [
        "\n",
        "La siguiente gráfica muestra los portafolios que serían seleccionados por el inversor, ya que tras realizar el problema de optimización de minimizar $\\frac{1}{2} w^t \\Sigma w$ se obtienen las desviaciones estándar (eje horizontal), es decir, el riesgo que el inversionista está dispuesto a tomar con respecto a diferentes retornos del portafolio entre valores (-1,1) (eje vertical)."
      ]
    },
    {
      "cell_type": "code",
      "metadata": {
        "id": "zZa8QiIwfIIq",
        "colab_type": "code",
        "outputId": "5cf6b8e5-2bef-4fe7-cd20-b5a1331c4197",
        "colab": {
          "base_uri": "https://localhost:8080/",
          "height": 318
        }
      },
      "source": [
        "fig = plt.figure()\n",
        "plt.plot(riesgo, retornos, 'o', markersize=5)\n",
        "#plt.plot(riesgo_m, retornos , 'r-', markersize=5)\n",
        "plt.plot(np.sqrt(np.diag(cp.asnumpy(Sigma))),cp.asnumpy(mu), 'o', markersize=5)\n",
        "plt.xlabel('riesgo/desviación estádar',size=12)\n",
        "plt.ylabel('retornos del portafolio',size=12)\n",
        "plt.title('Gráfica 1. Retornos del portafolio vs riesgo',size=15)"
      ],
      "execution_count": 20,
      "outputs": [
        {
          "output_type": "execute_result",
          "data": {
            "text/plain": [
              "Text(0.5, 1.0, 'Gráfica 1. Retornos del portafolio vs riesgo')"
            ]
          },
          "metadata": {
            "tags": []
          },
          "execution_count": 20
        },
        {
          "output_type": "display_data",
          "data": {
            "image/png": "[encoded data removed]",
            "text/plain": [
              "<Figure size 432x288 with 1 Axes>"
            ]
          },
          "metadata": {
            "tags": [],
            "needs_background": "light"
          }
        }
      ]
    },
    {
      "cell_type": "markdown",
      "metadata": {
        "id": "G4Wy8vjvo1fV",
        "colab_type": "text"
      },
      "source": [
        "La siguiente gráfica compara algunos puntos factibles, es decir posibles portafolios representados por los puntos azules, con los portafolios óptimos es decir los que el inversionista adverso al riesgo elegiria representados por los puntos rojos."
      ]
    },
    {
      "cell_type": "code",
      "metadata": {
        "id": "qlT8Ip8Qhh3L",
        "colab_type": "code",
        "outputId": "73b1ea29-636e-4dc8-e40a-21e6ca577619",
        "colab": {
          "base_uri": "https://localhost:8080/",
          "height": 312
        }
      },
      "source": [
        "import matplotlib.pyplot as plt\n",
        "fig = plt.figure()\n",
        "plt.plot(riesgo, retornos, 'o', markersize=5)\n",
        "plt.plot(riesgo_m, retornos, 'ro', markersize=5)\n",
        "#plt.plot(np.sqrt(np.diag(cp.asnumpy(Sigma))),cp.asnumpy(mu), 'bo', markersize=5)\n",
        "plt.xlabel('desviación estándar')\n",
        "plt.ylabel('retornos del portafolio')\n",
        "plt.title('Retornos del portafolio vs su desviación estándar')"
      ],
      "execution_count": 21,
      "outputs": [
        {
          "output_type": "execute_result",
          "data": {
            "text/plain": [
              "Text(0.5, 1.0, 'Retornos del portafolio vs su desviación estándar')"
            ]
          },
          "metadata": {
            "tags": []
          },
          "execution_count": 21
        },
        {
          "output_type": "display_data",
          "data": {
            "image/png": "[encoded data removed]",
            "text/plain": [
              "<Figure size 432x288 with 1 Axes>"
            ]
          },
          "metadata": {
            "tags": [],
            "needs_background": "light"
          }
        }
      ]
    },
    {
      "cell_type": "markdown",
      "metadata": {
        "id": "6lHsjnHvpibR",
        "colab_type": "text"
      },
      "source": [
        "Dependiendo del retorno esperado del portafolio los pesos se ajustan, a continuación se presentan los casos en que los retornos esperados del portafolio son (0, 0.5, 1)."
      ]
    },
    {
      "cell_type": "code",
      "metadata": {
        "id": "5WVrA2PVp0Ap",
        "colab_type": "code",
        "colab": {}
      },
      "source": [
        "df1 =modelo_markowitz.markowitz_df(0,mu,Sigma,stocks)"
      ],
      "execution_count": 0,
      "outputs": []
    },
    {
      "cell_type": "code",
      "metadata": {
        "id": "rsDvDWACBts8",
        "colab_type": "code",
        "colab": {}
      },
      "source": [
        "df2 =modelo_markowitz.markowitz_df(0.4,mu,Sigma,stocks)"
      ],
      "execution_count": 0,
      "outputs": []
    },
    {
      "cell_type": "code",
      "metadata": {
        "id": "IsHr3Z5pbSXn",
        "colab_type": "code",
        "colab": {}
      },
      "source": [
        "df3 =modelo_markowitz.markowitz_df(.6,mu,Sigma,stocks)"
      ],
      "execution_count": 0,
      "outputs": []
    },
    {
      "cell_type": "markdown",
      "metadata": {
        "id": "FP31yGQAc6XB",
        "colab_type": "text"
      },
      "source": [
        "La siguiente gráfica muestra el caso en que el retorno del portafilio esperado es cero, es decir no hay ninguna ganancia, donde después de la optimización para encontrar los pesos con los que se obtiene mínima varianza, se presentó el siguiente resultado:\n",
        "\n",
        "Siendo la empresa con código bursátil MRK a la que mayor peso se le tendría que dar en contraste con PP.\n"
      ]
    },
    {
      "cell_type": "code",
      "metadata": {
        "id": "Br-MG88Q5Qzj",
        "colab_type": "code",
        "outputId": "d6d1ed9e-c234-4ac7-9956-cc1291a49fb0",
        "colab": {
          "base_uri": "https://localhost:8080/",
          "height": 616
        }
      },
      "source": [
        "import seaborn as sns\n",
        "\n",
        "#ax = sns.barplot(x=df1.index, y=\"peso\", data=df1)\n",
        "sns.set(rc={'figure.figsize':(11.7,8.27)})\n",
        "ax = sns.barplot(x=\"stocks\", y=\"pesos\", data=df1,)\n",
        "#ax.set_xticklabels(rotation=30)\n",
        "#labels = [item.get_text() for item in ax.get_xticklabels()]\n",
        "ax.set_ylim(-0.9, .9, .005)\n",
        "\n",
        "ax.set_xticklabels(rotation=90,labels=df1.stocks)\n",
        "ax.set_title('Gráfica 3. Pesos del portafolio con rendimiento = 0',size=15)"
      ],
      "execution_count": 44,
      "outputs": [
        {
          "output_type": "execute_result",
          "data": {
            "text/plain": [
              "Text(0.5, 1.0, 'Gráfica 3. Pesos del portafolio con rendimiento = 0')"
            ]
          },
          "metadata": {
            "tags": []
          },
          "execution_count": 44
        },
        {
          "output_type": "display_data",
          "data": {
            "image/png": "[encoded data removed]",
            "text/plain": [
              "<Figure size 842.4x595.44 with 1 Axes>"
            ]
          },
          "metadata": {
            "tags": []
          }
        }
      ]
    },
    {
      "cell_type": "markdown",
      "metadata": {
        "id": "ZHlGGofufgUJ",
        "colab_type": "text"
      },
      "source": [
        "Las siguientes dos gráficas son los casos de retornos del portafolío esperados de 50% y 100% respectivamente, en estos casos es importante notar que al buscar retornos postivos las empresas con los siguientes códigos bursátiles destacan: GOOG, 1398.HK, FB , UNH, BHP.AX, LIN y RIO.L.\n",
        "\n",
        "Sin embargo invertir en las empresas con códigos bursátiles VZ, LMT, T y PEP sería contraprudencente."
      ]
    },
    {
      "cell_type": "code",
      "metadata": {
        "id": "J2RdIfCrbONF",
        "colab_type": "code",
        "outputId": "7279009b-ec0a-403b-9801-6edb79218d41",
        "colab": {
          "base_uri": "https://localhost:8080/",
          "height": 616
        }
      },
      "source": [
        "sns.set(rc={'figure.figsize':(11.7,8.27)})\n",
        "ax = sns.barplot(x=\"stocks\", y=\"pesos\",data=df2)\n",
        "ax.set_xticklabels(rotation=90,labels=df2.stocks)\n",
        "ax.set_ylim(-2.5, .5, .005)\n",
        "\n",
        "ax.set_title('Gráfica 4. Pesos del portafolio con rendimiento = .4',size=15)"
      ],
      "execution_count": 43,
      "outputs": [
        {
          "output_type": "execute_result",
          "data": {
            "text/plain": [
              "Text(0.5, 1.0, 'Gráfica 4. Pesos del portafolio con rendimiento = .4')"
            ]
          },
          "metadata": {
            "tags": []
          },
          "execution_count": 43
        },
        {
          "output_type": "display_data",
          "data": {
            "image/png": "[encoded data removed]",
            "text/plain": [
              "<Figure size 842.4x595.44 with 1 Axes>"
            ]
          },
          "metadata": {
            "tags": []
          }
        }
      ]
    },
    {
      "cell_type": "code",
      "metadata": {
        "id": "xbebLGuTbgLz",
        "colab_type": "code",
        "outputId": "c7ae8c20-c2bf-4a88-b2ed-9b463e05a9fc",
        "colab": {
          "base_uri": "https://localhost:8080/",
          "height": 616
        }
      },
      "source": [
        "\n",
        "sns.set(rc={'figure.figsize':(11.7,8.27)})\n",
        "ax = sns.barplot(x=\"stocks\", y=\"pesos\",data=df3)\n",
        "ax.set_xticklabels(rotation=90,labels=df3.stocks)\n",
        "ax.set_title('Gráfica 5. Pesos del portafolio con rendimiento = .6',size=15)"
      ],
      "execution_count": 70,
      "outputs": [
        {
          "output_type": "execute_result",
          "data": {
            "text/plain": [
              "Text(0.5, 1.0, 'Gráfica 5. Pesos del portafolio con rendimiento = .6')"
            ]
          },
          "metadata": {
            "tags": []
          },
          "execution_count": 70
        },
        {
          "output_type": "display_data",
          "data": {
            "image/png": "[encoded data removed]",
            "text/plain": [
              "<Figure size 842.4x595.44 with 1 Axes>"
            ]
          },
          "metadata": {
            "tags": []
          }
        }
      ]
    }
  ]
}