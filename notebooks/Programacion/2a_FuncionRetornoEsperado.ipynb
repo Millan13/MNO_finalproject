{
  "nbformat": 4,
  "nbformat_minor": 0,
  "metadata": {
    "colab": {
      "name": "2.aFuncionRetornoEsperado.ipynb",
      "provenance": []
    },
    "kernelspec": {
      "name": "python3",
      "display_name": "Python 3"
    },
    "accelerator": "GPU"
  },
  "cells": [
    {
      "cell_type": "code",
      "metadata": {
        "id": "6LPwcrojFfR2",
        "colab_type": "code",
        "colab": {}
      },
      "source": [
        "import cupy as cp\n",
        "import numpy as np\n",
        "import pandas as pd\n",
        "import fix_yahoo_finance as yf\n",
        "import datetime\n",
        "import time"
      ],
      "execution_count": 0,
      "outputs": []
    },
    {
      "cell_type": "markdown",
      "metadata": {
        "id": "P2oJOaP8EL3f",
        "colab_type": "text"
      },
      "source": [
        "#2.a Funcion para calcular el retorno esperado"
      ]
    },
    {
      "cell_type": "markdown",
      "metadata": {
        "id": "7Udbq0KvFCch",
        "colab_type": "text"
      },
      "source": [
        "Dado un vector de rendimiento esperado $\\mu$ y un vector de pesos $w$, la función para calcular el retorno esperaddo es la siguiente"
      ]
    },
    {
      "cell_type": "code",
      "metadata": {
        "id": "X8KXUTsTFAh6",
        "colab_type": "code",
        "colab": {}
      },
      "source": [
        "def calcular_retorno_esperado(m,w): \n",
        "  \"\"\"\n",
        "  Función para calcular el retorno esperado\n",
        "\n",
        "  params:\n",
        "      m     vector de rendimientos esperados para n activos\n",
        "      w     vector de presos para m activos\n",
        "  \n",
        "  return:\n",
        "      r_est rendimiento esperado diario\n",
        "  \"\"\"\n",
        "  \n",
        "  m = cp.asarray(m)\n",
        "  w = cp.asarray(w)\n",
        "\n",
        "  return m@w"
      ],
      "execution_count": 0,
      "outputs": []
    },
    {
      "cell_type": "markdown",
      "metadata": {
        "id": "vvVX-rYiGWcN",
        "colab_type": "text"
      },
      "source": [
        "Demostración:"
      ]
    },
    {
      "cell_type": "code",
      "metadata": {
        "id": "_Zm52Vq6GYL6",
        "colab_type": "code",
        "colab": {}
      },
      "source": [
        "m = np.array([20,30,35,15])\n",
        "W = np.random.rand(4)\n",
        "w = W/W.sum()"
      ],
      "execution_count": 0,
      "outputs": []
    },
    {
      "cell_type": "code",
      "metadata": {
        "id": "lyegY_BfGs9A",
        "colab_type": "code",
        "colab": {}
      },
      "source": [
        "r = calcular_retorno_esperado(m,w)"
      ],
      "execution_count": 0,
      "outputs": []
    },
    {
      "cell_type": "code",
      "metadata": {
        "id": "lxg-KPgzGyTN",
        "colab_type": "code",
        "colab": {
          "base_uri": "https://localhost:8080/",
          "height": 35
        },
        "outputId": "695faf12-d8d6-4c8d-aeb6-835e50e3a134"
      },
      "source": [
        "print(\"El retorno esperado es {}\".format(r))"
      ],
      "execution_count": 15,
      "outputs": [
        {
          "output_type": "stream",
          "text": [
            "El retorno esperado es 26.654489978456684\n"
          ],
          "name": "stdout"
        }
      ]
    },
    {
      "cell_type": "code",
      "metadata": {
        "id": "sxWOglhGHCeM",
        "colab_type": "code",
        "colab": {}
      },
      "source": [
        ""
      ],
      "execution_count": 0,
      "outputs": []
    }
  ]
}