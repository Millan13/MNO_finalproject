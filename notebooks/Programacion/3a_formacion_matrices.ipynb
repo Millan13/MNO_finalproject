{
  "nbformat": 4,
  "nbformat_minor": 0,
  "metadata": {
    "colab": {
      "name": "3a_formacion_abc.ipynb",
      "provenance": [],
      "collapsed_sections": []
    },
    "kernelspec": {
      "name": "python3",
      "display_name": "Python 3"
    },
    "accelerator": "GPU"
  },
  "cells": [
    {
      "cell_type": "markdown",
      "metadata": {
        "id": "Cuq9-5YMxZPQ",
        "colab_type": "text"
      },
      "source": [
        "# **3a. Formación de vectores con matriz de covarianzas**\n",
        "\n",
        "**Responsable:**\n",
        "\n",
        "César Zamora Martínez\n",
        "\n",
        "**Infraestructura usada:** \n",
        "Google Colab, para pruebas\n"
      ]
    },
    {
      "cell_type": "markdown",
      "metadata": {
        "id": "ZwiYf-3Ox3Bp",
        "colab_type": "text"
      },
      "source": [
        "## 0. Instalación de Cupy en Colab"
      ]
    },
    {
      "cell_type": "code",
      "metadata": {
        "id": "467T8zJzxZ4N",
        "colab_type": "code",
        "outputId": "a16f1079-ca1d-4f9b-91b7-cb73a7514fa2",
        "colab": {
          "base_uri": "https://localhost:8080/",
          "height": 214
        }
      },
      "source": [
        "!curl https://colab.chainer.org/install | sh -"
      ],
      "execution_count": 1,
      "outputs": [
        {
          "output_type": "stream",
          "text": [
            "  % Total    % Received % Xferd  Average Speed   Time    Time     Time  Current\n",
            "                                 Dload  Upload   Total   Spent    Left  Speed\n",
            "\r  0     0    0     0    0     0      0      0 --:--:-- --:--:-- --:--:--     0\r100  1580  100  1580    0     0  13057      0 --:--:-- --:--:-- --:--:-- 13057\n",
            "+ apt -y -q install cuda-libraries-dev-10-0\n",
            "Reading package lists...\n",
            "Building dependency tree...\n",
            "Reading state information...\n",
            "cuda-libraries-dev-10-0 is already the newest version (10.0.130-1).\n",
            "0 upgraded, 0 newly installed, 0 to remove and 25 not upgraded.\n",
            "+ pip install -q cupy-cuda100  chainer \n",
            "+ set +ex\n",
            "Installation succeeded!\n"
          ],
          "name": "stdout"
        }
      ]
    },
    {
      "cell_type": "markdown",
      "metadata": {
        "id": "gYi6APThyLPd",
        "colab_type": "text"
      },
      "source": [
        "## 1. Implementación\n",
        "\n",
        "**Consideraciones:**. Esta etapa supone que se conocen $\\mu$ y $\\Sigma$ asociados a los activos. El fin de este paso es obtener vectores que serán relevantes para obtener los pesos del portafolio para el inversionista.\n",
        "\n",
        "Lo cual, se lleva a cabo en concreto a través de las expresiones:\n",
        "\n",
        "$$ u := \\Sigma^{-1} \\cdot \\mu $$\n",
        "\n",
        "$$ v := \\Sigma^{-1} \\cdot 1 $$\n",
        "\n",
        "\n",
        "En así que a continuación se presenta el código correspondiente:"
      ]
    },
    {
      "cell_type": "code",
      "metadata": {
        "id": "fiWayxHhewhy",
        "colab_type": "code",
        "colab": {}
      },
      "source": [
        "import cupy as cp\n",
        "\n",
        "def formar_vectores(mu, Sigma):\n",
        "  '''\n",
        "  Calcula las cantidades u = \\Sigma^{-1}  \\mu y v := \\Sigma^{-1} \\cdot 1 del problema de Markowitz\n",
        "\n",
        "  Args:\n",
        "    mu (cupy array, vector): valores medios esperados de activos (dimension n)\n",
        "    Sigma (cupy array, matriz): matriz de covarianzas asociada a activos (dimension n x n)\n",
        "\n",
        "  Return:\n",
        "    u (cupy array, escalar): vector dado por \\cdot Sigma^-1 \\cdot mu (dimension n)\n",
        "    v (cupy array, escalar): vector dado por Sigma^-1 \\cdot 1 (dimension n)\n",
        "  '''\n",
        "\n",
        "  # Vector auxiliar con entradas igual a 1\n",
        "  n = Sigma.shape[0]\n",
        "  ones_vector = cp.ones(n)\n",
        "\n",
        "  # Formamos vector \\cdot Sigma^-1 mu y Sigm^-1 1\n",
        "  # Nota: \n",
        "  #   1) u= Sigma^-1 \\cdot mu se obtiene resolviendo  Sigma u = mu\n",
        "  #   2) v= Sigma^-1 \\cdot 1 se obtiene resolviendo  Sigma v = 1\n",
        "\n",
        "  # Obtiene vectores de interes\n",
        "  u = cp.linalg.solve(Sigma, mu)\n",
        "  v = cp.linalg.solve(Sigma, ones_vector)\n",
        "\n",
        "  return u, v"
      ],
      "execution_count": 0,
      "outputs": []
    },
    {
      "cell_type": "markdown",
      "metadata": {
        "id": "FidlJG2Ozhse",
        "colab_type": "text"
      },
      "source": [
        "## 1.1 Matrices de prueba"
      ]
    },
    {
      "cell_type": "code",
      "metadata": {
        "id": "54p9YVhfewqJ",
        "colab_type": "code",
        "colab": {}
      },
      "source": [
        "n= 10\n",
        "\n",
        "Sigma=cp.random.rand(n, n)\n",
        "mu=cp.random.rand(n, 1).transpose()[0]"
      ],
      "execution_count": 0,
      "outputs": []
    },
    {
      "cell_type": "code",
      "metadata": {
        "id": "Qa2fOGuZews9",
        "colab_type": "code",
        "outputId": "3c4e724c-efca-4a33-a9e5-eaa9973b6578",
        "colab": {
          "base_uri": "https://localhost:8080/",
          "height": 82
        }
      },
      "source": [
        "formar_vectores(mu, Sigma)"
      ],
      "execution_count": 17,
      "outputs": [
        {
          "output_type": "execute_result",
          "data": {
            "text/plain": [
              "(array([ 1.70436749, -0.82725263,  0.60542372,  0.50318876,  0.79590507,\n",
              "         1.60989746, -1.17741502, -0.24717945, -0.41655096, -0.81374065]),\n",
              " array([ 0.72241573, -0.56358909,  1.35084842,  0.30239069, -0.31384783,\n",
              "         0.69895346, -1.57373494, -0.07376877,  0.92177503,  0.69078127]))"
            ]
          },
          "metadata": {
            "tags": []
          },
          "execution_count": 17
        }
      ]
    }
  ]
}