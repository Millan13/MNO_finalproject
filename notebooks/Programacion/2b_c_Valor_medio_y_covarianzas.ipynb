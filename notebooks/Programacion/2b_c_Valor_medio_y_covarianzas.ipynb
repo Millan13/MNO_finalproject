{
  "nbformat": 4,
  "nbformat_minor": 0,
  "metadata": {
    "colab": {
      "name": "Calculo_rendimiento.ipynb",
      "provenance": [],
      "toc_visible": true
    },
    "kernelspec": {
      "name": "python3",
      "display_name": "Python 3"
    },
    "accelerator": "GPU"
  },
  "cells": [
    {
      "cell_type": "code",
      "metadata": {
        "id": "NFtWXD4LK1kK",
        "colab_type": "code",
        "outputId": "3d3c3cba-084a-4ae5-eee4-939399e94857",
        "colab": {
          "base_uri": "https://localhost:8080/",
          "height": 73
        }
      },
      "source": [
        "import cupy as cp\n",
        "import numpy as np\n",
        "import pandas as pd\n",
        "import fix_yahoo_finance as yf\n",
        "import datetime\n",
        "import matplotlib.pyplot as plt\n",
        "import seaborn as sns\n",
        "import time"
      ],
      "execution_count": 2,
      "outputs": [
        {
          "output_type": "stream",
          "text": [
            "/usr/local/lib/python3.6/dist-packages/statsmodels/tools/_testing.py:19: FutureWarning: pandas.util.testing is deprecated. Use the functions in the public API at pandas.testing instead.\n",
            "  import pandas.util.testing as tm\n"
          ],
          "name": "stderr"
        }
      ]
    },
    {
      "cell_type": "markdown",
      "metadata": {
        "id": "s8Xq9VIsBH91",
        "colab_type": "text"
      },
      "source": [
        "# 2c. Valor medio esperado de activos"
      ]
    },
    {
      "cell_type": "markdown",
      "metadata": {
        "id": "rBYTyLKW-4Pw",
        "colab_type": "text"
      },
      "source": [
        "## Desarrollo de la función"
      ]
    },
    {
      "cell_type": "markdown",
      "metadata": {
        "id": "2gitqZGvLhKg",
        "colab_type": "text"
      },
      "source": [
        "### Carga de datos\n",
        "\n",
        "Estoy bajando los datos de *yahoo finance* manualmente, pero posteriormente sería obtenerlos de la fuente deseada"
      ]
    },
    {
      "cell_type": "code",
      "metadata": {
        "id": "EQ4QBZGfLZyG",
        "colab_type": "code",
        "outputId": "b334e978-c81d-4dc8-a190-ca98c18b7c44",
        "colab": {
          "base_uri": "https://localhost:8080/",
          "height": 35
        }
      },
      "source": [
        "x = yf.download(\"AMZN\", start='2010-01-01')"
      ],
      "execution_count": 3,
      "outputs": [
        {
          "output_type": "stream",
          "text": [
            "[*********************100%***********************]  1 of 1 downloaded\n"
          ],
          "name": "stdout"
        }
      ]
    },
    {
      "cell_type": "markdown",
      "metadata": {
        "id": "FOLmKXv8MV6A",
        "colab_type": "text"
      },
      "source": [
        "Lo que se descarga es un dataframe. Éste incluye precio de apertura y de cierre, por lo que usaré estas columnas para calcular el rendimiento diario."
      ]
    },
    {
      "cell_type": "code",
      "metadata": {
        "id": "PvPzqA4-MPsq",
        "colab_type": "code",
        "outputId": "3338c24e-e830-4ba6-970d-7401c011ccb5",
        "colab": {
          "base_uri": "https://localhost:8080/",
          "height": 235
        }
      },
      "source": [
        "x.head()"
      ],
      "execution_count": 4,
      "outputs": [
        {
          "output_type": "execute_result",
          "data": {
            "text/html": [
              "<div>\n",
              "<style scoped>\n",
              "    .dataframe tbody tr th:only-of-type {\n",
              "        vertical-align: middle;\n",
              "    }\n",
              "\n",
              "    .dataframe tbody tr th {\n",
              "        vertical-align: top;\n",
              "    }\n",
              "\n",
              "    .dataframe thead th {\n",
              "        text-align: right;\n",
              "    }\n",
              "</style>\n",
              "<table border=\"1\" class=\"dataframe\">\n",
              "  <thead>\n",
              "    <tr style=\"text-align: right;\">\n",
              "      <th></th>\n",
              "      <th>Open</th>\n",
              "      <th>High</th>\n",
              "      <th>Low</th>\n",
              "      <th>Close</th>\n",
              "      <th>Adj Close</th>\n",
              "      <th>Volume</th>\n",
              "    </tr>\n",
              "    <tr>\n",
              "      <th>Date</th>\n",
              "      <th></th>\n",
              "      <th></th>\n",
              "      <th></th>\n",
              "      <th></th>\n",
              "      <th></th>\n",
              "      <th></th>\n",
              "    </tr>\n",
              "  </thead>\n",
              "  <tbody>\n",
              "    <tr>\n",
              "      <th>2010-01-04</th>\n",
              "      <td>136.250000</td>\n",
              "      <td>136.610001</td>\n",
              "      <td>133.139999</td>\n",
              "      <td>133.899994</td>\n",
              "      <td>133.899994</td>\n",
              "      <td>7599900</td>\n",
              "    </tr>\n",
              "    <tr>\n",
              "      <th>2010-01-05</th>\n",
              "      <td>133.429993</td>\n",
              "      <td>135.479996</td>\n",
              "      <td>131.809998</td>\n",
              "      <td>134.690002</td>\n",
              "      <td>134.690002</td>\n",
              "      <td>8851900</td>\n",
              "    </tr>\n",
              "    <tr>\n",
              "      <th>2010-01-06</th>\n",
              "      <td>134.600006</td>\n",
              "      <td>134.729996</td>\n",
              "      <td>131.649994</td>\n",
              "      <td>132.250000</td>\n",
              "      <td>132.250000</td>\n",
              "      <td>7178800</td>\n",
              "    </tr>\n",
              "    <tr>\n",
              "      <th>2010-01-07</th>\n",
              "      <td>132.009995</td>\n",
              "      <td>132.320007</td>\n",
              "      <td>128.800003</td>\n",
              "      <td>130.000000</td>\n",
              "      <td>130.000000</td>\n",
              "      <td>11030200</td>\n",
              "    </tr>\n",
              "    <tr>\n",
              "      <th>2010-01-08</th>\n",
              "      <td>130.559998</td>\n",
              "      <td>133.679993</td>\n",
              "      <td>129.029999</td>\n",
              "      <td>133.520004</td>\n",
              "      <td>133.520004</td>\n",
              "      <td>9830500</td>\n",
              "    </tr>\n",
              "  </tbody>\n",
              "</table>\n",
              "</div>"
            ],
            "text/plain": [
              "                  Open        High  ...   Adj Close    Volume\n",
              "Date                                ...                      \n",
              "2010-01-04  136.250000  136.610001  ...  133.899994   7599900\n",
              "2010-01-05  133.429993  135.479996  ...  134.690002   8851900\n",
              "2010-01-06  134.600006  134.729996  ...  132.250000   7178800\n",
              "2010-01-07  132.009995  132.320007  ...  130.000000  11030200\n",
              "2010-01-08  130.559998  133.679993  ...  133.520004   9830500\n",
              "\n",
              "[5 rows x 6 columns]"
            ]
          },
          "metadata": {
            "tags": []
          },
          "execution_count": 4
        }
      ]
    },
    {
      "cell_type": "code",
      "metadata": {
        "id": "adDF_jqAQuQE",
        "colab_type": "code",
        "outputId": "9ed650d1-0492-4821-889f-76eadb2ad786",
        "colab": {
          "base_uri": "https://localhost:8080/",
          "height": 287
        }
      },
      "source": [
        "x.Open.plot()\n",
        "plt.show"
      ],
      "execution_count": 5,
      "outputs": [
        {
          "output_type": "execute_result",
          "data": {
            "text/plain": [
              "<function matplotlib.pyplot.show>"
            ]
          },
          "metadata": {
            "tags": []
          },
          "execution_count": 5
        },
        {
          "output_type": "display_data",
          "data": {
            "image/png": "[encoded data removed]",
            "text/plain": [
              "<Figure size 432x288 with 1 Axes>"
            ]
          },
          "metadata": {
            "tags": [],
            "needs_background": "light"
          }
        }
      ]
    },
    {
      "cell_type": "markdown",
      "metadata": {
        "id": "3n1vo4QhPJ4p",
        "colab_type": "text"
      },
      "source": [
        "### Cálculo de rendimeinto usando *Cupy*\n",
        "Aquí mandamos los datos a *cupy*"
      ]
    },
    {
      "cell_type": "code",
      "metadata": {
        "id": "4sGF2L9PMjl9",
        "colab_type": "code",
        "colab": {}
      },
      "source": [
        "x_o = cp.asarray(x.Open)\n",
        "#x_f = cp.asarray(x.Close)\n",
        "x_f = x_o[1:]"
      ],
      "execution_count": 0,
      "outputs": []
    },
    {
      "cell_type": "markdown",
      "metadata": {
        "id": "PZ80fUweQImb",
        "colab_type": "text"
      },
      "source": [
        "El cálculo de los rendimientos diarios usando *cupy*:"
      ]
    },
    {
      "cell_type": "code",
      "metadata": {
        "id": "qNEAUphxPaoY",
        "colab_type": "code",
        "colab": {}
      },
      "source": [
        "r = cp.log(x_f/x_o[:-1])"
      ],
      "execution_count": 0,
      "outputs": []
    },
    {
      "cell_type": "code",
      "metadata": {
        "id": "qLJYX6CrQQa7",
        "colab_type": "code",
        "outputId": "5d305894-4b86-4116-b39b-5d37565ad504",
        "colab": {
          "base_uri": "https://localhost:8080/",
          "height": 279
        }
      },
      "source": [
        "sns.lineplot(x=x.index[:-1], y=cp.asnumpy(r))\n",
        "plt.show()"
      ],
      "execution_count": 8,
      "outputs": [
        {
          "output_type": "display_data",
          "data": {
            "image/png": "[encoded data removed]",
            "text/plain": [
              "<Figure size 432x288 with 1 Axes>"
            ]
          },
          "metadata": {
            "tags": [],
            "needs_background": "light"
          }
        }
      ]
    },
    {
      "cell_type": "markdown",
      "metadata": {
        "id": "tuJD2piJRQ6R",
        "colab_type": "text"
      },
      "source": [
        "El rendimiento estimado $\\hat{r}$ está dado por"
      ]
    },
    {
      "cell_type": "code",
      "metadata": {
        "id": "9uYirf6hQWr8",
        "colab_type": "code",
        "colab": {}
      },
      "source": [
        "r_est = r.mean()"
      ],
      "execution_count": 0,
      "outputs": []
    },
    {
      "cell_type": "code",
      "metadata": {
        "id": "d2UowHb_RdtL",
        "colab_type": "code",
        "outputId": "bc963f78-c618-414e-9bc6-a2419ddd59dd",
        "colab": {
          "base_uri": "https://localhost:8080/",
          "height": 35
        }
      },
      "source": [
        "r_est"
      ],
      "execution_count": 10,
      "outputs": [
        {
          "output_type": "execute_result",
          "data": {
            "text/plain": [
              "array(0.00109352)"
            ]
          },
          "metadata": {
            "tags": []
          },
          "execution_count": 10
        }
      ]
    },
    {
      "cell_type": "code",
      "metadata": {
        "id": "RQHk5nuCT6qY",
        "colab_type": "code",
        "outputId": "c32eb950-9cec-4919-d3e4-2de2bb824ec3",
        "colab": {
          "base_uri": "https://localhost:8080/",
          "height": 35
        }
      },
      "source": [
        "print('La tasa anual sería de {}'.format(np.exp(260*r_est)-1))"
      ],
      "execution_count": 11,
      "outputs": [
        {
          "output_type": "stream",
          "text": [
            "La tasa anual sería de 0.3288501047648471\n"
          ],
          "name": "stdout"
        }
      ]
    },
    {
      "cell_type": "code",
      "metadata": {
        "id": "A6assTYuDryd",
        "colab_type": "code",
        "colab": {
          "base_uri": "https://localhost:8080/",
          "height": 35
        },
        "outputId": "315caf3a-61b7-4f0d-b43b-01d47cd8ab83"
      },
      "source": [
        "0.00109352*260"
      ],
      "execution_count": 12,
      "outputs": [
        {
          "output_type": "execute_result",
          "data": {
            "text/plain": [
              "0.2843152"
            ]
          },
          "metadata": {
            "tags": []
          },
          "execution_count": 12
        }
      ]
    },
    {
      "cell_type": "markdown",
      "metadata": {
        "id": "KdAl_mncdJIV",
        "colab_type": "text"
      },
      "source": [
        "## Funciones"
      ]
    },
    {
      "cell_type": "code",
      "metadata": {
        "id": "U5_BX4owW6iA",
        "colab_type": "code",
        "colab": {}
      },
      "source": [
        "def calcular_rendimiento_vector(x):\n",
        "  \"\"\"\n",
        "  Función para calcular el rendimiento esperado\n",
        "\n",
        "  params:\n",
        "      x     vector de precios\n",
        "  \n",
        "  return:\n",
        "      r_est rendimiento esperado diario\n",
        "  \"\"\"\n",
        "\n",
        "  # Definimos precios iniciales y finales como arreglo alojado en la gpu\n",
        "  x_o = cp.asarray(x)\n",
        "  x_f = x_o[1:]\n",
        "\n",
        "  # Calculamos los rendimientos diarios\n",
        "  r = cp.log(x_f/x_o[:-1])\n",
        "\n",
        "  return r\n",
        "\n"
      ],
      "execution_count": 0,
      "outputs": []
    },
    {
      "cell_type": "code",
      "metadata": {
        "id": "2buq2bo4I2UJ",
        "colab_type": "code",
        "colab": {}
      },
      "source": [
        "def calcular_rendimiento(X):\n",
        "  \"\"\"\n",
        "  Función para calcular el rendimiento esperado para un conjunto de acciones\n",
        "\n",
        "  params:\n",
        "      X      matriz mxn de precios, donde:\n",
        "             m es el número de observaciones y\n",
        "             n el número de acciones\n",
        "  \n",
        "  return:\n",
        "      r_est rvector de rendimientos esperados\n",
        "  \"\"\"\n",
        "  m,n = X.shape\n",
        "  r_est = cp.zeros(n)\n",
        "\n",
        "  for i in range(n):\n",
        "    r_est[i] = calcular_rendimiento_vector(X[:,i]).mean()\n",
        "\n",
        "  return 264*r_est\n",
        "\n"
      ],
      "execution_count": 0,
      "outputs": []
    },
    {
      "cell_type": "markdown",
      "metadata": {
        "id": "DOaWgwqxBzHu",
        "colab_type": "text"
      },
      "source": [
        "## Implementación"
      ]
    },
    {
      "cell_type": "markdown",
      "metadata": {
        "id": "h-szFgJ7oxLR",
        "colab_type": "text"
      },
      "source": [
        "Abajo hago una pequeña prueba con las \"trending stocks\" de yahoo. La intención no es utilizar esta información, solo una pequeña prueba de la función"
      ]
    },
    {
      "cell_type": "code",
      "metadata": {
        "id": "CQdgPksug4SD",
        "colab_type": "code",
        "colab": {}
      },
      "source": [
        "acciones = ['AMZN','WDC','CLX','AAPL','SGEN','WY','INO','LRCX','AKRX','ASGN','NWL','X','RTX','XOM','^GSPC']"
      ],
      "execution_count": 0,
      "outputs": []
    },
    {
      "cell_type": "code",
      "metadata": {
        "id": "P6CZBT0KkIMF",
        "colab_type": "code",
        "outputId": "7f11ae51-0521-4c91-e466-d27b17ae7d7e",
        "colab": {
          "base_uri": "https://localhost:8080/",
          "height": 287
        }
      },
      "source": [
        "df = yf.download('AMZN', start='2010-01-01').Open\n",
        "for a in acciones[1:]:\n",
        "  x = yf.download(a, start='2010-01-01').Open\n",
        "  df = pd.concat([df,x], axis=1)\n",
        "  "
      ],
      "execution_count": 16,
      "outputs": [
        {
          "output_type": "stream",
          "text": [
            "[*********************100%***********************]  1 of 1 downloaded\n",
            "[*********************100%***********************]  1 of 1 downloaded\n",
            "[*********************100%***********************]  1 of 1 downloaded\n",
            "[*********************100%***********************]  1 of 1 downloaded\n",
            "[*********************100%***********************]  1 of 1 downloaded\n",
            "[*********************100%***********************]  1 of 1 downloaded\n",
            "[*********************100%***********************]  1 of 1 downloaded\n",
            "[*********************100%***********************]  1 of 1 downloaded\n",
            "[*********************100%***********************]  1 of 1 downloaded\n",
            "[*********************100%***********************]  1 of 1 downloaded\n",
            "[*********************100%***********************]  1 of 1 downloaded\n",
            "[*********************100%***********************]  1 of 1 downloaded\n",
            "[*********************100%***********************]  1 of 1 downloaded\n",
            "[*********************100%***********************]  1 of 1 downloaded\n",
            "[*********************100%***********************]  1 of 1 downloaded\n"
          ],
          "name": "stdout"
        }
      ]
    },
    {
      "cell_type": "code",
      "metadata": {
        "id": "y8DEmPEykKx6",
        "colab_type": "code",
        "colab": {}
      },
      "source": [
        "df.columns=acciones"
      ],
      "execution_count": 0,
      "outputs": []
    },
    {
      "cell_type": "code",
      "metadata": {
        "id": "H19v4egcnrYc",
        "colab_type": "code",
        "outputId": "25a4e7d8-3260-4b3d-a9df-16b8e707a871",
        "colab": {
          "base_uri": "https://localhost:8080/",
          "height": 340
        }
      },
      "source": [
        "df.head()"
      ],
      "execution_count": 18,
      "outputs": [
        {
          "output_type": "execute_result",
          "data": {
            "text/html": [
              "<div>\n",
              "<style scoped>\n",
              "    .dataframe tbody tr th:only-of-type {\n",
              "        vertical-align: middle;\n",
              "    }\n",
              "\n",
              "    .dataframe tbody tr th {\n",
              "        vertical-align: top;\n",
              "    }\n",
              "\n",
              "    .dataframe thead th {\n",
              "        text-align: right;\n",
              "    }\n",
              "</style>\n",
              "<table border=\"1\" class=\"dataframe\">\n",
              "  <thead>\n",
              "    <tr style=\"text-align: right;\">\n",
              "      <th></th>\n",
              "      <th>AMZN</th>\n",
              "      <th>WDC</th>\n",
              "      <th>CLX</th>\n",
              "      <th>AAPL</th>\n",
              "      <th>SGEN</th>\n",
              "      <th>WY</th>\n",
              "      <th>INO</th>\n",
              "      <th>LRCX</th>\n",
              "      <th>AKRX</th>\n",
              "      <th>ASGN</th>\n",
              "      <th>NWL</th>\n",
              "      <th>X</th>\n",
              "      <th>RTX</th>\n",
              "      <th>XOM</th>\n",
              "      <th>^GSPC</th>\n",
              "    </tr>\n",
              "    <tr>\n",
              "      <th>Date</th>\n",
              "      <th></th>\n",
              "      <th></th>\n",
              "      <th></th>\n",
              "      <th></th>\n",
              "      <th></th>\n",
              "      <th></th>\n",
              "      <th></th>\n",
              "      <th></th>\n",
              "      <th></th>\n",
              "      <th></th>\n",
              "      <th></th>\n",
              "      <th></th>\n",
              "      <th></th>\n",
              "      <th></th>\n",
              "      <th></th>\n",
              "    </tr>\n",
              "  </thead>\n",
              "  <tbody>\n",
              "    <tr>\n",
              "      <th>2010-01-04</th>\n",
              "      <td>136.250000</td>\n",
              "      <td>44.400002</td>\n",
              "      <td>61.549999</td>\n",
              "      <td>30.490000</td>\n",
              "      <td>10.24</td>\n",
              "      <td>43.889999</td>\n",
              "      <td>4.20</td>\n",
              "      <td>39.700001</td>\n",
              "      <td>1.82</td>\n",
              "      <td>7.33</td>\n",
              "      <td>15.12</td>\n",
              "      <td>56.419998</td>\n",
              "      <td>44.185020</td>\n",
              "      <td>68.720001</td>\n",
              "      <td>1116.560059</td>\n",
              "    </tr>\n",
              "    <tr>\n",
              "      <th>2010-01-05</th>\n",
              "      <td>133.429993</td>\n",
              "      <td>45.349998</td>\n",
              "      <td>61.270000</td>\n",
              "      <td>30.657143</td>\n",
              "      <td>10.55</td>\n",
              "      <td>44.290001</td>\n",
              "      <td>4.56</td>\n",
              "      <td>39.790001</td>\n",
              "      <td>1.87</td>\n",
              "      <td>7.40</td>\n",
              "      <td>15.27</td>\n",
              "      <td>58.070000</td>\n",
              "      <td>45.084961</td>\n",
              "      <td>69.190002</td>\n",
              "      <td>1132.660034</td>\n",
              "    </tr>\n",
              "    <tr>\n",
              "      <th>2010-01-06</th>\n",
              "      <td>134.600006</td>\n",
              "      <td>46.540001</td>\n",
              "      <td>61.770000</td>\n",
              "      <td>30.625713</td>\n",
              "      <td>10.56</td>\n",
              "      <td>44.320000</td>\n",
              "      <td>4.64</td>\n",
              "      <td>39.630001</td>\n",
              "      <td>1.81</td>\n",
              "      <td>7.19</td>\n",
              "      <td>15.05</td>\n",
              "      <td>57.919998</td>\n",
              "      <td>44.405285</td>\n",
              "      <td>69.449997</td>\n",
              "      <td>1135.709961</td>\n",
              "    </tr>\n",
              "    <tr>\n",
              "      <th>2010-01-07</th>\n",
              "      <td>132.009995</td>\n",
              "      <td>46.400002</td>\n",
              "      <td>61.709999</td>\n",
              "      <td>30.250000</td>\n",
              "      <td>10.85</td>\n",
              "      <td>44.540001</td>\n",
              "      <td>4.52</td>\n",
              "      <td>39.250000</td>\n",
              "      <td>1.78</td>\n",
              "      <td>7.03</td>\n",
              "      <td>15.54</td>\n",
              "      <td>60.240002</td>\n",
              "      <td>44.059158</td>\n",
              "      <td>69.900002</td>\n",
              "      <td>1136.270020</td>\n",
              "    </tr>\n",
              "    <tr>\n",
              "      <th>2010-01-08</th>\n",
              "      <td>130.559998</td>\n",
              "      <td>45.490002</td>\n",
              "      <td>61.130001</td>\n",
              "      <td>30.042856</td>\n",
              "      <td>10.75</td>\n",
              "      <td>44.250000</td>\n",
              "      <td>4.72</td>\n",
              "      <td>39.330002</td>\n",
              "      <td>1.70</td>\n",
              "      <td>7.36</td>\n",
              "      <td>15.70</td>\n",
              "      <td>60.840000</td>\n",
              "      <td>44.216488</td>\n",
              "      <td>69.690002</td>\n",
              "      <td>1140.520020</td>\n",
              "    </tr>\n",
              "  </tbody>\n",
              "</table>\n",
              "</div>"
            ],
            "text/plain": [
              "                  AMZN        WDC        CLX  ...        RTX        XOM        ^GSPC\n",
              "Date                                          ...                                   \n",
              "2010-01-04  136.250000  44.400002  61.549999  ...  44.185020  68.720001  1116.560059\n",
              "2010-01-05  133.429993  45.349998  61.270000  ...  45.084961  69.190002  1132.660034\n",
              "2010-01-06  134.600006  46.540001  61.770000  ...  44.405285  69.449997  1135.709961\n",
              "2010-01-07  132.009995  46.400002  61.709999  ...  44.059158  69.900002  1136.270020\n",
              "2010-01-08  130.559998  45.490002  61.130001  ...  44.216488  69.690002  1140.520020\n",
              "\n",
              "[5 rows x 15 columns]"
            ]
          },
          "metadata": {
            "tags": []
          },
          "execution_count": 18
        }
      ]
    },
    {
      "cell_type": "code",
      "metadata": {
        "id": "IPJ89gRIn3Na",
        "colab_type": "code",
        "colab": {}
      },
      "source": [
        "X = df.to_numpy()"
      ],
      "execution_count": 0,
      "outputs": []
    },
    {
      "cell_type": "code",
      "metadata": {
        "id": "2XKAxHS0E0iy",
        "colab_type": "code",
        "outputId": "a60e01ca-fec0-475c-ad3f-f62f5dbbe522",
        "colab": {
          "base_uri": "https://localhost:8080/",
          "height": 35
        }
      },
      "source": [
        "toc = time.time()\n",
        "R = calcular_rendimiento(X)\n",
        "tic = time.time()\n",
        "print(\"El tiempo fue de: {} segundos\".format(tic-toc))"
      ],
      "execution_count": 29,
      "outputs": [
        {
          "output_type": "stream",
          "text": [
            "El tiempo fue de: 0.007699728012084961 segundos\n"
          ],
          "name": "stdout"
        }
      ]
    },
    {
      "cell_type": "code",
      "metadata": {
        "id": "BWiKvi6pFRPh",
        "colab_type": "code",
        "outputId": "7ff34330-49fb-487e-ce79-1a5d33e6b371",
        "colab": {
          "base_uri": "https://localhost:8080/",
          "height": 71
        }
      },
      "source": [
        "R"
      ],
      "execution_count": 30,
      "outputs": [
        {
          "output_type": "execute_result",
          "data": {
            "text/plain": [
              "array([ 0.3288501 , -0.00915513,  0.1211198 ,  0.25111211,  0.2999772 ,\n",
              "       -0.07710446,  0.10110929,  0.20053181, -0.18011359,  0.21237055,\n",
              "       -0.01349351, -0.18378496,  0.03694549, -0.04013559,  0.09901085])"
            ]
          },
          "metadata": {
            "tags": []
          },
          "execution_count": 30
        }
      ]
    },
    {
      "cell_type": "markdown",
      "metadata": {
        "id": "H__JHU5OMVbl",
        "colab_type": "text"
      },
      "source": [
        "# 2b. Matriz de varianzas y covarianzas\n",
        "\n"
      ]
    },
    {
      "cell_type": "code",
      "metadata": {
        "id": "cRrgJVKtL-w_",
        "colab_type": "code",
        "colab": {}
      },
      "source": [
        "def calcular_varianza(X):\n",
        "\n",
        "  \"\"\"\n",
        "  Función para calcular el la matriz de varianzas y covarianzas para un conjunto de acciones\n",
        "\n",
        "  params:\n",
        "      X      matriz mxn de precios, donde:\n",
        "             m es el número de observaciones y\n",
        "               n el número de acciones\n",
        "  \n",
        "  return:\n",
        "      S  matriz de varianzas y covarianzas\n",
        "  \"\"\"\n",
        "  m,n=X.shape\n",
        "  X = cp.asarray(X)\n",
        "\n",
        "  X_m = cp.zeros((m-1,n))\n",
        "\n",
        "  for i in range(n):\n",
        "    X_m[:,i] = calcular_rendimiento_vector(X[:,i]) - calcular_rendimiento_vector(X[:,i]).mean()\n",
        "\n",
        "  S = (cp.transpose(X_m)@X_m)/(m-2)\n",
        "\n",
        "  return S\n",
        "\n",
        "\n"
      ],
      "execution_count": 0,
      "outputs": []
    },
    {
      "cell_type": "code",
      "metadata": {
        "id": "DACfA6DnOqHH",
        "colab_type": "code",
        "outputId": "02410068-d947-4215-e56c-3211382bf1ef",
        "colab": {
          "base_uri": "https://localhost:8080/",
          "height": 35
        }
      },
      "source": [
        "tic=time.time()\n",
        "temp = calcular_varianza(X)\n",
        "toc = time.time()\n",
        "print(\"El tiempo fue de: {} segundos\".format(toc-tic))"
      ],
      "execution_count": 32,
      "outputs": [
        {
          "output_type": "stream",
          "text": [
            "El tiempo fue de: 2.10793399810791 segundos\n"
          ],
          "name": "stdout"
        }
      ]
    },
    {
      "cell_type": "code",
      "metadata": {
        "id": "37H7DxqLOs3N",
        "colab_type": "code",
        "outputId": "ba5be423-3329-4b3c-cc90-76a1a9491625",
        "colab": {
          "base_uri": "https://localhost:8080/",
          "height": 35
        }
      },
      "source": [
        "type(temp)"
      ],
      "execution_count": 33,
      "outputs": [
        {
          "output_type": "execute_result",
          "data": {
            "text/plain": [
              "cupy.core.core.ndarray"
            ]
          },
          "metadata": {
            "tags": []
          },
          "execution_count": 33
        }
      ]
    },
    {
      "cell_type": "code",
      "metadata": {
        "id": "UiDJfEvIOtvh",
        "colab_type": "code",
        "outputId": "469d539d-04f1-411b-ee0b-3a11b607f6dd",
        "colab": {
          "base_uri": "https://localhost:8080/",
          "height": 1000
        }
      },
      "source": [
        "temp"
      ],
      "execution_count": 34,
      "outputs": [
        {
          "output_type": "execute_result",
          "data": {
            "text/plain": [
              "array([[4.12359663e-04, 1.81729879e-04, 4.13009284e-05, 1.68877325e-04,\n",
              "        1.83704222e-04, 1.06090665e-04, 1.19672300e-04, 1.70895807e-04,\n",
              "        1.22011973e-04, 1.63445244e-04, 1.37569656e-04, 2.04226429e-04,\n",
              "        1.17617159e-04, 9.22134371e-05, 8.91431260e-05],\n",
              "       [1.81729879e-04, 7.08102131e-04, 3.48825448e-05, 1.85900217e-04,\n",
              "        1.93457898e-04, 2.00037488e-04, 1.34727931e-04, 2.93985833e-04,\n",
              "        2.04203601e-04, 2.26546977e-04, 1.82564118e-04, 3.62314977e-04,\n",
              "        1.83944808e-04, 1.45858168e-04, 1.16636565e-04],\n",
              "       [4.13009284e-05, 3.48825448e-05, 1.30230541e-04, 3.73429153e-05,\n",
              "        4.50188993e-05, 5.41233591e-05, 6.22039764e-06, 3.51684928e-05,\n",
              "        2.02790451e-05, 4.56505648e-05, 5.73091762e-05, 5.14664745e-05,\n",
              "        3.88638111e-05, 3.43763865e-05, 2.77547622e-05],\n",
              "       [1.68877325e-04, 1.85900217e-04, 3.73429153e-05, 3.27799077e-04,\n",
              "        1.46228378e-04, 1.24556975e-04, 1.07910343e-04, 1.70875477e-04,\n",
              "        1.23551781e-04, 1.42815763e-04, 1.22528939e-04, 2.16130413e-04,\n",
              "        1.20189186e-04, 9.21276498e-05, 8.01139985e-05],\n",
              "       [1.83704222e-04, 1.93457898e-04, 4.50188993e-05, 1.46228378e-04,\n",
              "        7.79580974e-04, 1.35451671e-04, 2.61108224e-04, 1.89259416e-04,\n",
              "        2.69434460e-04, 2.04118246e-04, 1.38431038e-04, 2.40974860e-04,\n",
              "        1.36455777e-04, 9.46860555e-05, 9.23790912e-05],\n",
              "       [1.06090665e-04, 2.00037488e-04, 5.41233591e-05, 1.24556975e-04,\n",
              "        1.35451671e-04, 6.36348975e-04, 1.27775911e-04, 1.51762057e-04,\n",
              "        1.53167116e-04, 1.81139796e-04, 1.50510802e-04, 2.48613601e-04,\n",
              "        1.44879557e-04, 1.12236584e-04, 9.17413973e-05],\n",
              "       [1.19672300e-04, 1.34727931e-04, 6.22039764e-06, 1.07910343e-04,\n",
              "        2.61108224e-04, 1.27775911e-04, 3.15115616e-03, 1.59792559e-04,\n",
              "        2.38857639e-04, 1.85592683e-04, 8.59696150e-05, 1.38659612e-04,\n",
              "        4.08249777e-05, 2.65722627e-05, 7.96560173e-05],\n",
              "       [1.70895807e-04, 2.93985833e-04, 3.51684928e-05, 1.70875477e-04,\n",
              "        1.89259416e-04, 1.51762057e-04, 1.59792559e-04, 4.33364505e-04,\n",
              "        1.71081030e-04, 1.91056931e-04, 1.58533274e-04, 2.70327725e-04,\n",
              "        1.54157870e-04, 1.10261585e-04, 1.06629002e-04],\n",
              "       [1.22011973e-04, 2.04203601e-04, 2.02790451e-05, 1.23551781e-04,\n",
              "        2.69434460e-04, 1.53167116e-04, 2.38857639e-04, 1.71081030e-04,\n",
              "        2.13311258e-03, 1.84207319e-04, 1.38318124e-04, 1.62261095e-04,\n",
              "        1.32200714e-04, 7.56536886e-05, 8.92299815e-05],\n",
              "       [1.63445244e-04, 2.26546977e-04, 4.56505648e-05, 1.42815763e-04,\n",
              "        2.04118246e-04, 1.81139796e-04, 1.85592683e-04, 1.91056931e-04,\n",
              "        1.84207319e-04, 6.63691739e-04, 1.67347338e-04, 2.67991909e-04,\n",
              "        1.55883973e-04, 1.15065595e-04, 1.09858813e-04],\n",
              "       [1.37569656e-04, 1.82564118e-04, 5.73091762e-05, 1.22528939e-04,\n",
              "        1.38431038e-04, 1.50510802e-04, 8.59696150e-05, 1.58533274e-04,\n",
              "        1.38318124e-04, 1.67347338e-04, 4.18283381e-04, 2.29367272e-04,\n",
              "        1.30654561e-04, 1.06428267e-04, 8.78438228e-05],\n",
              "       [2.04226429e-04, 3.62314977e-04, 5.14664745e-05, 2.16130413e-04,\n",
              "        2.40974860e-04, 2.48613601e-04, 1.38659612e-04, 2.70327725e-04,\n",
              "        1.62261095e-04, 2.67991909e-04, 2.29367272e-04, 1.24590743e-03,\n",
              "        2.07995059e-04, 2.05460374e-04, 1.25769599e-04],\n",
              "       [1.17617159e-04, 1.83944808e-04, 3.88638111e-05, 1.20189186e-04,\n",
              "        1.36455777e-04, 1.44879557e-04, 4.08249777e-05, 1.54157870e-04,\n",
              "        1.32200714e-04, 1.55883973e-04, 1.30654561e-04, 2.07995059e-04,\n",
              "        2.42731642e-04, 1.11285925e-04, 8.63053999e-05],\n",
              "       [9.22134371e-05, 1.45858168e-04, 3.43763865e-05, 9.21276498e-05,\n",
              "        9.46860555e-05, 1.12236584e-04, 2.65722627e-05, 1.10261585e-04,\n",
              "        7.56536886e-05, 1.15065595e-04, 1.06428267e-04, 2.05460374e-04,\n",
              "        1.11285925e-04, 1.83049065e-04, 6.54085033e-05],\n",
              "       [8.91431260e-05, 1.16636565e-04, 2.77547622e-05, 8.01139985e-05,\n",
              "        9.23790912e-05, 9.17413973e-05, 7.96560173e-05, 1.06629002e-04,\n",
              "        8.92299815e-05, 1.09858813e-04, 8.78438228e-05, 1.25769599e-04,\n",
              "        8.63053999e-05, 6.54085033e-05, 9.02234573e-05]])"
            ]
          },
          "metadata": {
            "tags": []
          },
          "execution_count": 34
        }
      ]
    },
    {
      "cell_type": "code",
      "metadata": {
        "id": "26qyEEsEPiaE",
        "colab_type": "code",
        "colab": {}
      },
      "source": [
        "m,n =X.shape"
      ],
      "execution_count": 0,
      "outputs": []
    },
    {
      "cell_type": "code",
      "metadata": {
        "id": "tRSIxfN7iSzf",
        "colab_type": "code",
        "outputId": "71a3e056-140d-4641-a905-6a162d92fde5",
        "colab": {
          "base_uri": "https://localhost:8080/",
          "height": 35
        }
      },
      "source": [
        "tic=time.time()\n",
        "temp = cp.zeros((m-1,n))\n",
        "\n",
        "for i in range(n):\n",
        "  temp[:,i] = calcular_rendimiento_vector(X[:,i])\n",
        "\n",
        "temp=np.cov(temp, rowvar=False)\n",
        "toc = time.time()\n",
        "print(\"El tiempo fue de: {} segundos\".format(toc-tic))"
      ],
      "execution_count": 38,
      "outputs": [
        {
          "output_type": "stream",
          "text": [
            "El tiempo fue de: 0.7314815521240234 segundos\n"
          ],
          "name": "stdout"
        }
      ]
    },
    {
      "cell_type": "code",
      "metadata": {
        "id": "PTEJUAStky0s",
        "colab_type": "code",
        "outputId": "2fb52122-dd16-4154-91bf-f7eabeb1b010",
        "colab": {
          "base_uri": "https://localhost:8080/",
          "height": 1000
        }
      },
      "source": [
        "temp"
      ],
      "execution_count": 39,
      "outputs": [
        {
          "output_type": "execute_result",
          "data": {
            "text/plain": [
              "array([[4.12359663e-04, 1.81729879e-04, 4.13009284e-05, 1.68877325e-04,\n",
              "        1.83704222e-04, 1.06090665e-04, 1.19672300e-04, 1.70895807e-04,\n",
              "        1.22011973e-04, 1.63445244e-04, 1.37569656e-04, 2.04226429e-04,\n",
              "        1.17617159e-04, 9.22134371e-05, 8.91431260e-05],\n",
              "       [1.81729879e-04, 7.08102131e-04, 3.48825448e-05, 1.85900217e-04,\n",
              "        1.93457898e-04, 2.00037488e-04, 1.34727931e-04, 2.93985833e-04,\n",
              "        2.04203601e-04, 2.26546977e-04, 1.82564118e-04, 3.62314977e-04,\n",
              "        1.83944808e-04, 1.45858168e-04, 1.16636565e-04],\n",
              "       [4.13009284e-05, 3.48825448e-05, 1.30230541e-04, 3.73429153e-05,\n",
              "        4.50188993e-05, 5.41233591e-05, 6.22039764e-06, 3.51684928e-05,\n",
              "        2.02790451e-05, 4.56505648e-05, 5.73091762e-05, 5.14664745e-05,\n",
              "        3.88638111e-05, 3.43763865e-05, 2.77547622e-05],\n",
              "       [1.68877325e-04, 1.85900217e-04, 3.73429153e-05, 3.27799077e-04,\n",
              "        1.46228378e-04, 1.24556975e-04, 1.07910343e-04, 1.70875477e-04,\n",
              "        1.23551781e-04, 1.42815763e-04, 1.22528939e-04, 2.16130413e-04,\n",
              "        1.20189186e-04, 9.21276498e-05, 8.01139985e-05],\n",
              "       [1.83704222e-04, 1.93457898e-04, 4.50188993e-05, 1.46228378e-04,\n",
              "        7.79580974e-04, 1.35451671e-04, 2.61108224e-04, 1.89259416e-04,\n",
              "        2.69434460e-04, 2.04118246e-04, 1.38431038e-04, 2.40974860e-04,\n",
              "        1.36455777e-04, 9.46860555e-05, 9.23790912e-05],\n",
              "       [1.06090665e-04, 2.00037488e-04, 5.41233591e-05, 1.24556975e-04,\n",
              "        1.35451671e-04, 6.36348975e-04, 1.27775911e-04, 1.51762057e-04,\n",
              "        1.53167116e-04, 1.81139796e-04, 1.50510802e-04, 2.48613601e-04,\n",
              "        1.44879557e-04, 1.12236584e-04, 9.17413973e-05],\n",
              "       [1.19672300e-04, 1.34727931e-04, 6.22039764e-06, 1.07910343e-04,\n",
              "        2.61108224e-04, 1.27775911e-04, 3.15115616e-03, 1.59792559e-04,\n",
              "        2.38857639e-04, 1.85592683e-04, 8.59696150e-05, 1.38659612e-04,\n",
              "        4.08249777e-05, 2.65722627e-05, 7.96560173e-05],\n",
              "       [1.70895807e-04, 2.93985833e-04, 3.51684928e-05, 1.70875477e-04,\n",
              "        1.89259416e-04, 1.51762057e-04, 1.59792559e-04, 4.33364505e-04,\n",
              "        1.71081030e-04, 1.91056931e-04, 1.58533274e-04, 2.70327725e-04,\n",
              "        1.54157870e-04, 1.10261585e-04, 1.06629002e-04],\n",
              "       [1.22011973e-04, 2.04203601e-04, 2.02790451e-05, 1.23551781e-04,\n",
              "        2.69434460e-04, 1.53167116e-04, 2.38857639e-04, 1.71081030e-04,\n",
              "        2.13311258e-03, 1.84207319e-04, 1.38318124e-04, 1.62261095e-04,\n",
              "        1.32200714e-04, 7.56536886e-05, 8.92299815e-05],\n",
              "       [1.63445244e-04, 2.26546977e-04, 4.56505648e-05, 1.42815763e-04,\n",
              "        2.04118246e-04, 1.81139796e-04, 1.85592683e-04, 1.91056931e-04,\n",
              "        1.84207319e-04, 6.63691739e-04, 1.67347338e-04, 2.67991909e-04,\n",
              "        1.55883973e-04, 1.15065595e-04, 1.09858813e-04],\n",
              "       [1.37569656e-04, 1.82564118e-04, 5.73091762e-05, 1.22528939e-04,\n",
              "        1.38431038e-04, 1.50510802e-04, 8.59696150e-05, 1.58533274e-04,\n",
              "        1.38318124e-04, 1.67347338e-04, 4.18283381e-04, 2.29367272e-04,\n",
              "        1.30654561e-04, 1.06428267e-04, 8.78438228e-05],\n",
              "       [2.04226429e-04, 3.62314977e-04, 5.14664745e-05, 2.16130413e-04,\n",
              "        2.40974860e-04, 2.48613601e-04, 1.38659612e-04, 2.70327725e-04,\n",
              "        1.62261095e-04, 2.67991909e-04, 2.29367272e-04, 1.24590743e-03,\n",
              "        2.07995059e-04, 2.05460374e-04, 1.25769599e-04],\n",
              "       [1.17617159e-04, 1.83944808e-04, 3.88638111e-05, 1.20189186e-04,\n",
              "        1.36455777e-04, 1.44879557e-04, 4.08249777e-05, 1.54157870e-04,\n",
              "        1.32200714e-04, 1.55883973e-04, 1.30654561e-04, 2.07995059e-04,\n",
              "        2.42731642e-04, 1.11285925e-04, 8.63053999e-05],\n",
              "       [9.22134371e-05, 1.45858168e-04, 3.43763865e-05, 9.21276498e-05,\n",
              "        9.46860555e-05, 1.12236584e-04, 2.65722627e-05, 1.10261585e-04,\n",
              "        7.56536886e-05, 1.15065595e-04, 1.06428267e-04, 2.05460374e-04,\n",
              "        1.11285925e-04, 1.83049065e-04, 6.54085033e-05],\n",
              "       [8.91431260e-05, 1.16636565e-04, 2.77547622e-05, 8.01139985e-05,\n",
              "        9.23790912e-05, 9.17413973e-05, 7.96560173e-05, 1.06629002e-04,\n",
              "        8.92299815e-05, 1.09858813e-04, 8.78438228e-05, 1.25769599e-04,\n",
              "        8.63053999e-05, 6.54085033e-05, 9.02234573e-05]])"
            ]
          },
          "metadata": {
            "tags": []
          },
          "execution_count": 39
        }
      ]
    },
    {
      "cell_type": "code",
      "metadata": {
        "id": "2XnFv6xUtCwG",
        "colab_type": "code",
        "colab": {}
      },
      "source": [
        ""
      ],
      "execution_count": 0,
      "outputs": []
    }
  ]
}