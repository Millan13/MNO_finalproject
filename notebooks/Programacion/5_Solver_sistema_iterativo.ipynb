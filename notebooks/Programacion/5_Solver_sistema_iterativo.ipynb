{
  "nbformat": 4,
  "nbformat_minor": 0,
  "metadata": {
    "accelerator": "GPU",
    "colab": {
      "name": "5_Solver_sistema_iterativo.ipynb",
      "provenance": [],
      "collapsed_sections": []
    },
    "kernelspec": {
      "display_name": "Python 3",
      "language": "python",
      "name": "python3"
    },
    "language_info": {
      "codemirror_mode": {
        "name": "ipython",
        "version": 3
      },
      "file_extension": ".py",
      "mimetype": "text/x-python",
      "name": "python",
      "nbconvert_exporter": "python",
      "pygments_lexer": "ipython3",
      "version": "3.7.4"
    }
  },
  "cells": [
    {
      "cell_type": "markdown",
      "metadata": {
        "colab_type": "text",
        "id": "CR_0ozT5af_B"
      },
      "source": [
        "# Metodo de Newton para solucionar el problema de Markovitz\n",
        "\n",
        "**Responsable:**\n",
        "Bruno César González\n",
        "\n",
        "**Infraestructura usada:** Google Colab, para pruebas\n",
        "\n",
        "**Fuente:** código desarrollada en etapas previas\n",
        "\n",
        "## Objetivo:\n",
        "\n",
        "Utilizar el método de Newton visto en clase, utilizando tanto diferenciación aproximada y funciones simbólicas, para dar solución al problema de minimización de riesgo en una cartera de inversión. \n",
        "\n",
        "Recordemos que el problema se puede plantear como: \n",
        "\n",
        "$$\\min_{w}  \\frac{1}{2} w^t \\Sigma w$$\n",
        "\n",
        "sujeto a:\n",
        "\n",
        "$$ w^t \\mu= r$$\n",
        "\n",
        "$$ w^t 1_{m}= 1$$\n",
        "\n",
        "En donde $\\Sigma$ es la matriz de covarianzas asociadas a los rendimientos de los activos en el periodo de interés.\n",
        "\n",
        "## Importación de librerías\n",
        "\n",
        "Las librerías son en su mayoría las construidas para el proyecto, así como numpy y cupy."
      ]
    },
    {
      "cell_type": "code",
      "metadata": {
        "colab_type": "code",
        "id": "K_JYq30eaf_G",
        "colab": {}
      },
      "source": [
        "import numpy as np\n",
        "import cupy as cp\n",
        "import solver.extraer_datos_yahoo as extrae\n",
        "import solver.funciones_auxiliares as aux\n",
        "import solver.line_search as line\n",
        "import solver.modelo_markowitz as mkv\n",
        "import solver.utils as utils\n",
        "import solver.optimizacion_numerica as opt\n",
        "#from utils import inc_index, dec_index, compute_error, norm_residual, condicion_cupy\n",
        "#from line_search import line_search_by_backtracking, line_search_for_residual_by_backtracking"
      ],
      "execution_count": 0,
      "outputs": []
    },
    {
      "cell_type": "markdown",
      "metadata": {
        "colab_type": "text",
        "id": "CJwReJ2Hb_3W"
      },
      "source": [
        "## Cargamos la información y calculamos los parámetros"
      ]
    },
    {
      "cell_type": "markdown",
      "metadata": {
        "colab_type": "text",
        "id": "whzX6_S1m4AH"
      },
      "source": [
        "Primero cargamos los precios de las acciones que se han escogido para esta implementación"
      ]
    },
    {
      "cell_type": "code",
      "metadata": {
        "colab_type": "code",
        "id": "ucXkk3tYagAq",
        "colab": {}
      },
      "source": [
        "stocks = ['COP','AMT','LIN','LMT','AMZN','WMT','JNJ','VTI','MSFT','GOOG','XOM','CCI','BHP.AX','UNP',\n",
        "'BABA','NSRGY','RHHBY','VOO','AAPL','FB','CVX','PLD','RIO.L','HON','HD','PG','UNH','BRK-A','V','0700.HK',\n",
        "'RDSA.AS','0688.HK','AI.PA','RTX','MC.PA','KO','PFE','JPM','005930.KS','VZ','RELIANCE.NS','DLR','2010.SR',\n",
        "'UPS','7203.T','PEP','MRK','1398.HK','MA','T']"
      ],
      "execution_count": 0,
      "outputs": []
    },
    {
      "cell_type": "code",
      "metadata": {
        "colab_type": "code",
        "id": "FliMniOJcGcb",
        "outputId": "a9b17d22-77a3-4167-e77b-4adcfb610204",
        "colab": {
          "base_uri": "https://localhost:8080/",
          "height": 35
        }
      },
      "source": [
        "datos = extrae.extraer_datos_yahoo(stocks)"
      ],
      "execution_count": 0,
      "outputs": [
        {
          "output_type": "stream",
          "text": [
            "[*********************100%***********************]  50 of 50 downloaded\n"
          ],
          "name": "stdout"
        }
      ]
    },
    {
      "cell_type": "markdown",
      "metadata": {
        "colab_type": "text",
        "id": "lpSFVStdnaeK"
      },
      "source": [
        "Usando las fucniones auxiliares definidas previamente calculamos los rendimientos esperados y la matriz de varianza y covarianza para las acciones"
      ]
    },
    {
      "cell_type": "code",
      "metadata": {
        "colab_type": "code",
        "id": "PcAFYk2EcLsE",
        "colab": {}
      },
      "source": [
        "mu = aux.calcular_rendimiento(datos)"
      ],
      "execution_count": 0,
      "outputs": []
    },
    {
      "cell_type": "code",
      "metadata": {
        "colab_type": "code",
        "id": "2N6YUd_kchNf",
        "colab": {}
      },
      "source": [
        "S = aux.calcular_varianza(datos)"
      ],
      "execution_count": 0,
      "outputs": []
    },
    {
      "cell_type": "markdown",
      "metadata": {
        "colab_type": "text",
        "id": "YMKdfMWrnvAb"
      },
      "source": [
        "Calcularemos cuál fue el rendimiento máximo obtenido (de entre las medias de los datos históricos) y lo usaremos como el rendimiento deseado en el problema de optimización"
      ]
    },
    {
      "cell_type": "code",
      "metadata": {
        "colab_type": "code",
        "id": "XKy8ibRXcpGW",
        "outputId": "70e4de41-d07e-494a-9348-88d76ae4f670",
        "colab": {
          "base_uri": "https://localhost:8080/",
          "height": 35
        }
      },
      "source": [
        "r=max(mu).item()\n",
        "r"
      ],
      "execution_count": 0,
      "outputs": [
        {
          "output_type": "execute_result",
          "data": {
            "text/plain": [
              "0.4022108787760788"
            ]
          },
          "metadata": {
            "tags": []
          },
          "execution_count": 6
        }
      ]
    },
    {
      "cell_type": "markdown",
      "metadata": {
        "colab_type": "text",
        "id": "TD58_-9MdMt3"
      },
      "source": [
        "## Resolvemos con el Método de Newton usando diferencias finitas"
      ]
    },
    {
      "cell_type": "markdown",
      "metadata": {
        "colab_type": "text",
        "id": "oRczMBOQoAkN"
      },
      "source": [
        "La función a optimizar será la siguiente:"
      ]
    },
    {
      "cell_type": "code",
      "metadata": {
        "colab_type": "code",
        "id": "Rr4oJagsdSk8",
        "colab": {}
      },
      "source": [
        "fo = lambda w: w@S@w"
      ],
      "execution_count": 0,
      "outputs": []
    },
    {
      "cell_type": "markdown",
      "metadata": {
        "colab_type": "text",
        "id": "ivNBKB_OoYWh"
      },
      "source": [
        "Usamos la solución analítica para tener la solución con la cual comparar."
      ]
    },
    {
      "cell_type": "code",
      "metadata": {
        "colab_type": "code",
        "id": "CjLONnwPdnNm",
        "colab": {}
      },
      "source": [
        "w_ast = mkv.markowitz(r,mu,S)"
      ],
      "execution_count": 0,
      "outputs": []
    },
    {
      "cell_type": "markdown",
      "metadata": {
        "colab_type": "text",
        "id": "FL88sHCnokeA"
      },
      "source": [
        "La matriz $A$ de restricciones está dada por:"
      ]
    },
    {
      "cell_type": "code",
      "metadata": {
        "colab_type": "code",
        "id": "q0HjUqEthOli",
        "outputId": "8412f429-946a-4b63-dc0f-8553266b641b",
        "colab": {
          "base_uri": "https://localhost:8080/",
          "height": 377
        }
      },
      "source": [
        "n = mu.shape[0]\n",
        "A = cp.concatenate((mu,cp.ones(n))).reshape(2,n)\n",
        "A"
      ],
      "execution_count": 0,
      "outputs": [
        {
          "output_type": "execute_result",
          "data": {
            "text/plain": [
              "array([[ 0.13254293,  0.02782955,  0.25778345, -0.01787111, -0.02008539,\n",
              "        -0.02286483,  0.19078421,  0.05743478,  0.17062275,  0.40221088,\n",
              "         0.13618598,  0.02364206,  0.0476638 ,  0.13217291, -0.09666644,\n",
              "        -0.03426582,  0.15880965,  0.17870289,  0.18557566,  0.15042008,\n",
              "         0.08379133,  0.07154137,  0.08843336,  0.02202303,  0.07353272,\n",
              "         0.13731909,  0.23605478,  0.19942876,  0.06806557,  0.26292508,\n",
              "         0.07357148,  0.06803817,  0.03867589,  0.05090149,  0.14401416,\n",
              "        -0.09339291,  0.23072551,  0.05036842,  0.05587177, -0.01264577,\n",
              "        -0.01474117,  0.20678446,  0.06274014, -0.02729424,  0.1990038 ,\n",
              "         0.07054765,  0.06563628,  0.04203765,  0.0717407 , -0.13227261],\n",
              "       [ 1.        ,  1.        ,  1.        ,  1.        ,  1.        ,\n",
              "         1.        ,  1.        ,  1.        ,  1.        ,  1.        ,\n",
              "         1.        ,  1.        ,  1.        ,  1.        ,  1.        ,\n",
              "         1.        ,  1.        ,  1.        ,  1.        ,  1.        ,\n",
              "         1.        ,  1.        ,  1.        ,  1.        ,  1.        ,\n",
              "         1.        ,  1.        ,  1.        ,  1.        ,  1.        ,\n",
              "         1.        ,  1.        ,  1.        ,  1.        ,  1.        ,\n",
              "         1.        ,  1.        ,  1.        ,  1.        ,  1.        ,\n",
              "         1.        ,  1.        ,  1.        ,  1.        ,  1.        ,\n",
              "         1.        ,  1.        ,  1.        ,  1.        ,  1.        ]])"
            ]
          },
          "metadata": {
            "tags": []
          },
          "execution_count": 9
        }
      ]
    },
    {
      "cell_type": "markdown",
      "metadata": {
        "colab_type": "text",
        "id": "_3zd0VcForG0"
      },
      "source": [
        "Por otro lado el vector $b$ está dado por:"
      ]
    },
    {
      "cell_type": "code",
      "metadata": {
        "colab_type": "code",
        "id": "tH7IUvaZlfFw",
        "outputId": "ef5c2c2d-f46f-4438-dd13-53a444ae2800",
        "colab": {
          "base_uri": "https://localhost:8080/",
          "height": 35
        }
      },
      "source": [
        "b = cp.array([r,1])\n",
        "b"
      ],
      "execution_count": 0,
      "outputs": [
        {
          "output_type": "execute_result",
          "data": {
            "text/plain": [
              "array([0.40221088, 1.        ])"
            ]
          },
          "metadata": {
            "tags": []
          },
          "execution_count": 10
        }
      ]
    },
    {
      "cell_type": "markdown",
      "metadata": {
        "colab_type": "text",
        "id": "S_WUqA-EoQC8"
      },
      "source": [
        "Definimos el punto inicial con la función definida anteriormente:"
      ]
    },
    {
      "cell_type": "code",
      "metadata": {
        "colab_type": "code",
        "id": "VHj1CODfpuon",
        "colab": {}
      },
      "source": [
        "w_0 = utils.feasible_markowitz(r,mu)"
      ],
      "execution_count": 0,
      "outputs": []
    },
    {
      "cell_type": "markdown",
      "metadata": {
        "colab_type": "text",
        "id": "tIPrjt1lpS0a"
      },
      "source": [
        "Definimos los parámetros para el método de Newton de la siguiente manera:"
      ]
    },
    {
      "cell_type": "code",
      "metadata": {
        "colab_type": "code",
        "id": "w54V7Yuzqr4B",
        "colab": {}
      },
      "source": [
        "tol=1e-8\n",
        "tol_backtracking=1e-14\n",
        "p_ast=fo(w_ast)\n",
        "maxiter=50"
      ],
      "execution_count": 0,
      "outputs": []
    },
    {
      "cell_type": "code",
      "metadata": {
        "colab_type": "code",
        "id": "y1aGbI5DsB75",
        "outputId": "4aad98eb-12f9-47b9-f127-7f21fdebc046",
        "colab": {
          "base_uri": "https://localhost:8080/",
          "height": 341
        }
      },
      "source": [
        "[w,total_of_iterations,Err_plot,x_plot]=opt.Newtons_method_feasible_init_point(fo,A, w_0,tol, tol_backtracking, w_ast, p_ast, maxiter)\n",
        "\n"
      ],
      "execution_count": 0,
      "outputs": [
        {
          "output_type": "stream",
          "text": [
            "I\tNormgf \tNewton Decrement\tError x_ast\tError p_ast\tline search\tCondHf\n",
            "0\t0.0019\t0.0009\t1.1003\t4.6964\t---\t\t10050.1996\n",
            "1\t0.0019\t0.0\t0.0424\t0.0002\t1\t10050.1996\n",
            "2\t0.0019\t0.0\t0.003\t0.0\t1\t10050.1996\n",
            "Error of x with respect to x_ast: 0.003025598335118704\n",
            "Approximate solution: [ 1.58428546e-01 -2.08616309e-02  1.58020949e-01 -9.28935082e-02\n",
            "  3.16991935e-02  5.10945480e-02  8.72922956e-02  1.26346166e-02\n",
            "  3.73103284e-02  2.86016263e-01 -5.94665541e-03  2.23126418e-03\n",
            "  2.03110573e-01  9.45805956e-02  2.28799709e-02  1.50331910e-02\n",
            "  7.62589108e-03  2.97057955e-02  5.77183696e-02  1.98175883e-01\n",
            "  1.19874923e-01  1.27950342e-01  1.41431816e-01  1.36290060e-02\n",
            "  8.84466664e-02  1.50547999e-01  1.69210858e-01  7.72068032e-02\n",
            "  8.09578029e-02  8.25608723e-02  1.92191572e-01 -2.38661332e-02\n",
            "  2.64704653e-02  7.70401324e-02  2.20865617e-02 -1.08224222e-01\n",
            "  1.64026211e-01  1.77103658e-02  6.16445527e-02 -1.08192451e-01\n",
            " -5.03004393e-02  1.38878495e-01  1.03603985e-01 -4.27834232e-02\n",
            "  1.08153614e-02 -2.33911126e+00  1.94282246e-01  2.63290259e-01\n",
            "  1.20150533e-01 -1.05386379e-01]\n"
          ],
          "name": "stdout"
        }
      ]
    },
    {
      "cell_type": "markdown",
      "metadata": {
        "colab_type": "text",
        "id": "KN_Pe_Tgt1PM"
      },
      "source": [
        "La solución dada por el Método de Newton usando las diferenciación numérica es muy similar a la del método cerrado. Siendo el error de:"
      ]
    },
    {
      "cell_type": "code",
      "metadata": {
        "colab_type": "code",
        "id": "XQNM7g6avFvt",
        "outputId": "f4994922-6c0b-4658-bcb2-d5dad87b4a17",
        "colab": {
          "base_uri": "https://localhost:8080/",
          "height": 35
        }
      },
      "source": [
        "Err_plot[-1]"
      ],
      "execution_count": 0,
      "outputs": [
        {
          "output_type": "execute_result",
          "data": {
            "text/plain": [
              "3.520979637982383e-07"
            ]
          },
          "metadata": {
            "tags": []
          },
          "execution_count": 16
        }
      ]
    },
    {
      "cell_type": "code",
      "metadata": {
        "colab_type": "code",
        "id": "wNm78ZHv0Isd",
        "outputId": "defec92f-4d6c-4235-a9a8-90e442af0da2",
        "colab": {
          "base_uri": "https://localhost:8080/",
          "height": 251
        }
      },
      "source": [
        "w"
      ],
      "execution_count": 0,
      "outputs": [
        {
          "output_type": "execute_result",
          "data": {
            "text/plain": [
              "array([ 1.58428546e-01, -2.08616309e-02,  1.58020949e-01, -9.28935082e-02,\n",
              "        3.16991935e-02,  5.10945480e-02,  8.72922956e-02,  1.26346166e-02,\n",
              "        3.73103284e-02,  2.86016263e-01, -5.94665541e-03,  2.23126418e-03,\n",
              "        2.03110573e-01,  9.45805956e-02,  2.28799709e-02,  1.50331910e-02,\n",
              "        7.62589108e-03,  2.97057955e-02,  5.77183696e-02,  1.98175883e-01,\n",
              "        1.19874923e-01,  1.27950342e-01,  1.41431816e-01,  1.36290060e-02,\n",
              "        8.84466664e-02,  1.50547999e-01,  1.69210858e-01,  7.72068032e-02,\n",
              "        8.09578029e-02,  8.25608723e-02,  1.92191572e-01, -2.38661332e-02,\n",
              "        2.64704653e-02,  7.70401324e-02,  2.20865617e-02, -1.08224222e-01,\n",
              "        1.64026211e-01,  1.77103658e-02,  6.16445527e-02, -1.08192451e-01,\n",
              "       -5.03004393e-02,  1.38878495e-01,  1.03603985e-01, -4.27834232e-02,\n",
              "        1.08153614e-02, -2.33911126e+00,  1.94282246e-01,  2.63290259e-01,\n",
              "        1.20150533e-01, -1.05386379e-01])"
            ]
          },
          "metadata": {
            "tags": []
          },
          "execution_count": 15
        }
      ]
    },
    {
      "cell_type": "code",
      "metadata": {
        "colab_type": "code",
        "id": "rM0pIafAwVMK",
        "outputId": "8be8e84b-bc5a-473c-d2e6-a6695a8b5cf1",
        "colab": {
          "base_uri": "https://localhost:8080/",
          "height": 251
        }
      },
      "source": [
        "w_ast"
      ],
      "execution_count": 0,
      "outputs": [
        {
          "output_type": "execute_result",
          "data": {
            "text/plain": [
              "array([ 1.58450459e-01, -2.08710279e-02,  1.58051613e-01, -9.28970852e-02,\n",
              "        3.17093838e-02,  5.10824537e-02,  8.71800626e-02,  1.26389547e-02,\n",
              "        3.72861469e-02,  2.86000507e-01, -5.98810147e-03,  2.24206232e-03,\n",
              "        2.03075836e-01,  9.46030741e-02,  2.28766788e-02,  1.49919976e-02,\n",
              "        7.60706433e-03,  2.96676402e-02,  5.76521006e-02,  1.98109863e-01,\n",
              "        1.19928144e-01,  1.27869501e-01,  1.41300419e-01,  1.36285005e-02,\n",
              "        8.83904753e-02,  1.50479914e-01,  1.69293512e-01,  7.72037012e-02,\n",
              "        8.09121352e-02,  8.24658724e-02,  1.92197879e-01, -2.40095431e-02,\n",
              "        2.64375219e-02,  7.69647088e-02,  2.20741648e-02, -1.08207562e-01,\n",
              "        1.64032748e-01,  1.77020932e-02,  6.16398087e-02, -1.08210745e-01,\n",
              "       -5.03462807e-02,  1.38834320e-01,  1.03567400e-01, -4.28198353e-02,\n",
              "        1.06872745e-02, -2.33314798e+00,  1.89811544e-01,  2.63296457e-01,\n",
              "        1.20089773e-01, -1.05535600e-01])"
            ]
          },
          "metadata": {
            "tags": []
          },
          "execution_count": 16
        }
      ]
    },
    {
      "cell_type": "markdown",
      "metadata": {
        "colab_type": "text",
        "id": "z68kyH4CvhTg"
      },
      "source": [
        "La varianza entre ambos métodos también es muy similar"
      ]
    },
    {
      "cell_type": "code",
      "metadata": {
        "colab_type": "code",
        "id": "zh3Zh0dQxZ4P",
        "outputId": "ee9444eb-d7c6-47be-95f4-81b10ba31da3",
        "colab": {
          "base_uri": "https://localhost:8080/",
          "height": 35
        }
      },
      "source": [
        "w@S@w"
      ],
      "execution_count": 0,
      "outputs": [
        {
          "output_type": "execute_result",
          "data": {
            "text/plain": [
              "array(9.45979579e-05)"
            ]
          },
          "metadata": {
            "tags": []
          },
          "execution_count": 19
        }
      ]
    },
    {
      "cell_type": "code",
      "metadata": {
        "colab_type": "code",
        "id": "lIYyOg5vxh1Z",
        "outputId": "e92cf209-1163-4ad9-db46-6a03ee180576",
        "colab": {
          "base_uri": "https://localhost:8080/",
          "height": 35
        }
      },
      "source": [
        "w_ast@S@w_ast"
      ],
      "execution_count": 0,
      "outputs": [
        {
          "output_type": "execute_result",
          "data": {
            "text/plain": [
              "array(9.45979246e-05)"
            ]
          },
          "metadata": {
            "tags": []
          },
          "execution_count": 20
        }
      ]
    },
    {
      "cell_type": "code",
      "metadata": {
        "colab_type": "code",
        "id": "nqswCsRHvn1y",
        "outputId": "3c491b91-de45-4cec-c455-ff663f399fc4",
        "colab": {
          "base_uri": "https://localhost:8080/",
          "height": 35
        }
      },
      "source": [
        "utils.compute_error(w@S@w,w_ast@S@w_ast)"
      ],
      "execution_count": 0,
      "outputs": [
        {
          "output_type": "execute_result",
          "data": {
            "text/plain": [
              "array(3.5209784e-07)"
            ]
          },
          "metadata": {
            "tags": []
          },
          "execution_count": 21
        }
      ]
    },
    {
      "cell_type": "markdown",
      "metadata": {
        "colab_type": "text",
        "id": "D6OoqUzfv5Nt"
      },
      "source": [
        "Además cumple con la restricción del rendimiento y la suma de pesos igual a 1"
      ]
    },
    {
      "cell_type": "code",
      "metadata": {
        "colab_type": "code",
        "id": "u1XPCyGqxobv",
        "outputId": "756cb007-6324-45ec-92ad-f8a7e4d7edc1",
        "colab": {
          "base_uri": "https://localhost:8080/",
          "height": 35
        }
      },
      "source": [
        "w@mu"
      ],
      "execution_count": 0,
      "outputs": [
        {
          "output_type": "execute_result",
          "data": {
            "text/plain": [
              "array(0.40221088)"
            ]
          },
          "metadata": {
            "tags": []
          },
          "execution_count": 24
        }
      ]
    },
    {
      "cell_type": "code",
      "metadata": {
        "colab_type": "code",
        "id": "boNNhrOMxspd",
        "outputId": "31b483a5-e257-49f7-f4cc-4aeeeea239af",
        "colab": {
          "base_uri": "https://localhost:8080/",
          "height": 35
        }
      },
      "source": [
        "utils.compute_error(w@mu, r)"
      ],
      "execution_count": 0,
      "outputs": [
        {
          "output_type": "execute_result",
          "data": {
            "text/plain": [
              "array(1.38015042e-16)"
            ]
          },
          "metadata": {
            "tags": []
          },
          "execution_count": 25
        }
      ]
    },
    {
      "cell_type": "code",
      "metadata": {
        "colab_type": "code",
        "id": "GDPfjh3nx_A7",
        "outputId": "11fcfae7-9655-45cb-a344-7b02019bce80",
        "colab": {
          "base_uri": "https://localhost:8080/",
          "height": 35
        }
      },
      "source": [
        "sum(x)"
      ],
      "execution_count": 0,
      "outputs": [
        {
          "output_type": "execute_result",
          "data": {
            "text/plain": [
              "array(1.)"
            ]
          },
          "metadata": {
            "tags": []
          },
          "execution_count": 26
        }
      ]
    },
    {
      "cell_type": "markdown",
      "metadata": {
        "colab_type": "text",
        "id": "zc0lRzlWae3M"
      },
      "source": [
        "## Resolvemos con el Método de Newton usando funciones simbólicas"
      ]
    },
    {
      "cell_type": "markdown",
      "metadata": {
        "colab_type": "text",
        "id": "UKPHc42kwTGP"
      },
      "source": [
        "Ahora utilizaremos de nuevo el método de Newton usando las funciones simbólicas:"
      ]
    },
    {
      "cell_type": "code",
      "metadata": {
        "colab_type": "code",
        "id": "VoH-fJkLw_I0",
        "colab": {}
      },
      "source": [
        "import inspect"
      ],
      "execution_count": 0,
      "outputs": []
    },
    {
      "cell_type": "code",
      "metadata": {
        "colab_type": "code",
        "id": "NE12b5T9wheO",
        "outputId": "f87b1f31-809b-4832-aab7-bce03afeca75",
        "colab": {
          "base_uri": "https://localhost:8080/",
          "height": 170
        }
      },
      "source": [
        "lines = inspect.getsource(opt.gfo_cp_mark)\n",
        "print(lines)"
      ],
      "execution_count": 5,
      "outputs": [
        {
          "output_type": "stream",
          "text": [
            "def gfo_cp_mark(Sigma,x):\n",
            "    '''\n",
            "    gradiente de la función objetivo 1/2*x.t*Sigma*x\n",
            "    input: matriz Sigma y vector x\n",
            "    output: producto matriz-vector Sigma*x\n",
            "    '''\n",
            "    first_block = Sigma@x\n",
            "    return first_block\n",
            "\n"
          ],
          "name": "stdout"
        }
      ]
    },
    {
      "cell_type": "code",
      "metadata": {
        "colab_type": "code",
        "id": "ZcBoIuEeyDzr",
        "outputId": "1bc90968-77b0-4dd5-fa32-12b83f3dfc48",
        "colab": {
          "base_uri": "https://localhost:8080/",
          "height": 170
        }
      },
      "source": [
        "lines = inspect.getsource(opt.Hfo_cp_mark)\n",
        "print(lines)"
      ],
      "execution_count": 6,
      "outputs": [
        {
          "output_type": "stream",
          "text": [
            "def Hfo_cp_mark(Sigma):\n",
            "    '''\n",
            "    Hessiana de la función objetivo 1/2*x.t*Sigma*x\n",
            "    input: matriz Sigma\n",
            "    output: matriz Sigma\n",
            "    '''\n",
            "    first_block = Sigma \n",
            "    return first_block\n",
            "\n"
          ],
          "name": "stdout"
        }
      ]
    },
    {
      "cell_type": "code",
      "metadata": {
        "colab_type": "code",
        "id": "vphzuSu_dnhZ",
        "outputId": "d4c7a511-3627-4e35-838a-9a4dd3b92bd2",
        "colab": {
          "base_uri": "https://localhost:8080/",
          "height": 323
        }
      },
      "source": [
        "[w,total_of_iterations,Err_plot,x_plot]=opt.Newtons_method_feasible_init_point(fo,A, w_0,tol, tol_backtracking, w_ast, p_ast, maxiter, opt.gfo_cp_mark, opt.Hfo_cp_mark,S)"
      ],
      "execution_count": 0,
      "outputs": [
        {
          "output_type": "stream",
          "text": [
            "I\tNormgf \tNewton Decrement\tError x_ast\tError p_ast\tline search\tCondHf\n",
            "0\t0.001\t0.0004\t1.1003\t4.6964\t---\t\t10080.7985\n",
            "1\t0.001\t0.0\t0.0\t0.0\t1\t10080.7985\n",
            "Error of x with respect to x_ast: 6.406978892882662e-12\n",
            "Approximate solution: [ 1.58450459e-01 -2.08710279e-02  1.58051613e-01 -9.28970852e-02\n",
            "  3.17093838e-02  5.10824537e-02  8.71800626e-02  1.26389547e-02\n",
            "  3.72861469e-02  2.86000507e-01 -5.98810147e-03  2.24206232e-03\n",
            "  2.03075836e-01  9.46030741e-02  2.28766788e-02  1.49919976e-02\n",
            "  7.60706433e-03  2.96676402e-02  5.76521006e-02  1.98109863e-01\n",
            "  1.19928144e-01  1.27869501e-01  1.41300419e-01  1.36285005e-02\n",
            "  8.83904753e-02  1.50479914e-01  1.69293512e-01  7.72037012e-02\n",
            "  8.09121352e-02  8.24658724e-02  1.92197879e-01 -2.40095431e-02\n",
            "  2.64375219e-02  7.69647088e-02  2.20741648e-02 -1.08207562e-01\n",
            "  1.64032748e-01  1.77020932e-02  6.16398087e-02 -1.08210745e-01\n",
            " -5.03462807e-02  1.38834320e-01  1.03567400e-01 -4.28198353e-02\n",
            "  1.06872745e-02 -2.33314798e+00  1.89811544e-01  2.63296457e-01\n",
            "  1.20089773e-01 -1.05535600e-01]\n"
          ],
          "name": "stdout"
        }
      ]
    },
    {
      "cell_type": "markdown",
      "metadata": {
        "colab_type": "text",
        "id": "IrwNq_ZaydLj"
      },
      "source": [
        "La solución dada por el Método de Newton usando las funciones simbólicas es prácticamente igual al método cerrado método cerrado. Siendo el error de:"
      ]
    },
    {
      "cell_type": "code",
      "metadata": {
        "colab_type": "code",
        "id": "F3HktHpNydLs",
        "outputId": "54cd344e-aeb0-4240-8a47-5f545b8464f1",
        "colab": {
          "base_uri": "https://localhost:8080/",
          "height": 35
        }
      },
      "source": [
        "Err_plot[-1]"
      ],
      "execution_count": 0,
      "outputs": [
        {
          "output_type": "execute_result",
          "data": {
            "text/plain": [
              "4.011406825379125e-15"
            ]
          },
          "metadata": {
            "tags": []
          },
          "execution_count": 33
        }
      ]
    },
    {
      "cell_type": "code",
      "metadata": {
        "colab_type": "code",
        "id": "VAYgDwXiydLz",
        "outputId": "cbe73421-5cb6-4019-c07f-54c86a913b8f",
        "colab": {
          "base_uri": "https://localhost:8080/",
          "height": 251
        }
      },
      "source": [
        "w"
      ],
      "execution_count": 0,
      "outputs": [
        {
          "output_type": "execute_result",
          "data": {
            "text/plain": [
              "array([ 1.58450459e-01, -2.08710279e-02,  1.58051613e-01, -9.28970852e-02,\n",
              "        3.17093838e-02,  5.10824537e-02,  8.71800626e-02,  1.26389547e-02,\n",
              "        3.72861469e-02,  2.86000507e-01, -5.98810147e-03,  2.24206232e-03,\n",
              "        2.03075836e-01,  9.46030741e-02,  2.28766788e-02,  1.49919976e-02,\n",
              "        7.60706433e-03,  2.96676402e-02,  5.76521006e-02,  1.98109863e-01,\n",
              "        1.19928144e-01,  1.27869501e-01,  1.41300419e-01,  1.36285005e-02,\n",
              "        8.83904753e-02,  1.50479914e-01,  1.69293512e-01,  7.72037012e-02,\n",
              "        8.09121352e-02,  8.24658724e-02,  1.92197879e-01, -2.40095431e-02,\n",
              "        2.64375219e-02,  7.69647088e-02,  2.20741648e-02, -1.08207562e-01,\n",
              "        1.64032748e-01,  1.77020932e-02,  6.16398087e-02, -1.08210745e-01,\n",
              "       -5.03462807e-02,  1.38834320e-01,  1.03567400e-01, -4.28198353e-02,\n",
              "        1.06872745e-02, -2.33314798e+00,  1.89811544e-01,  2.63296457e-01,\n",
              "        1.20089773e-01, -1.05535600e-01])"
            ]
          },
          "metadata": {
            "tags": []
          },
          "execution_count": 34
        }
      ]
    },
    {
      "cell_type": "code",
      "metadata": {
        "colab_type": "code",
        "id": "mBp3Ru0Jg55N",
        "outputId": "40f331c4-36b4-4c76-9010-4b1ffd21a5e9",
        "colab": {
          "base_uri": "https://localhost:8080/",
          "height": 251
        }
      },
      "source": [
        "w_ast"
      ],
      "execution_count": 0,
      "outputs": [
        {
          "output_type": "execute_result",
          "data": {
            "text/plain": [
              "array([ 1.58450459e-01, -2.08710279e-02,  1.58051613e-01, -9.28970852e-02,\n",
              "        3.17093838e-02,  5.10824537e-02,  8.71800626e-02,  1.26389547e-02,\n",
              "        3.72861469e-02,  2.86000507e-01, -5.98810147e-03,  2.24206232e-03,\n",
              "        2.03075836e-01,  9.46030741e-02,  2.28766788e-02,  1.49919976e-02,\n",
              "        7.60706433e-03,  2.96676402e-02,  5.76521006e-02,  1.98109863e-01,\n",
              "        1.19928144e-01,  1.27869501e-01,  1.41300419e-01,  1.36285005e-02,\n",
              "        8.83904753e-02,  1.50479914e-01,  1.69293512e-01,  7.72037012e-02,\n",
              "        8.09121352e-02,  8.24658724e-02,  1.92197879e-01, -2.40095431e-02,\n",
              "        2.64375219e-02,  7.69647088e-02,  2.20741648e-02, -1.08207562e-01,\n",
              "        1.64032748e-01,  1.77020932e-02,  6.16398087e-02, -1.08210745e-01,\n",
              "       -5.03462807e-02,  1.38834320e-01,  1.03567400e-01, -4.28198353e-02,\n",
              "        1.06872745e-02, -2.33314798e+00,  1.89811544e-01,  2.63296457e-01,\n",
              "        1.20089773e-01, -1.05535600e-01])"
            ]
          },
          "metadata": {
            "tags": []
          },
          "execution_count": 35
        }
      ]
    },
    {
      "cell_type": "markdown",
      "metadata": {
        "colab_type": "text",
        "id": "XyB7r1WdyxI4"
      },
      "source": [
        "La varianza entre ambos métodos también es prácticamente la misma"
      ]
    },
    {
      "cell_type": "code",
      "metadata": {
        "colab_type": "code",
        "id": "jqBO82WJyxI8",
        "outputId": "4fc3c20e-4474-48f0-ac7a-44fe90187f24",
        "colab": {
          "base_uri": "https://localhost:8080/",
          "height": 35
        }
      },
      "source": [
        "w@S@w"
      ],
      "execution_count": 0,
      "outputs": [
        {
          "output_type": "execute_result",
          "data": {
            "text/plain": [
              "array(9.45979246e-05)"
            ]
          },
          "metadata": {
            "tags": []
          },
          "execution_count": 36
        }
      ]
    },
    {
      "cell_type": "code",
      "metadata": {
        "colab_type": "code",
        "id": "Amnyah_XyxJD",
        "outputId": "c98b0c72-dc01-4369-d24f-8ffbc69866e7",
        "colab": {
          "base_uri": "https://localhost:8080/",
          "height": 35
        }
      },
      "source": [
        "w_ast@S@w_ast"
      ],
      "execution_count": 0,
      "outputs": [
        {
          "output_type": "execute_result",
          "data": {
            "text/plain": [
              "array(9.45979246e-05)"
            ]
          },
          "metadata": {
            "tags": []
          },
          "execution_count": 37
        }
      ]
    },
    {
      "cell_type": "code",
      "metadata": {
        "colab_type": "code",
        "id": "wIipQXztyxJH",
        "outputId": "ed6b7e18-8121-4f08-e2e4-24fc701ab9c4",
        "colab": {
          "base_uri": "https://localhost:8080/",
          "height": 35
        }
      },
      "source": [
        "utils.compute_error(w@S@w,w_ast@S@w_ast)"
      ],
      "execution_count": 0,
      "outputs": [
        {
          "output_type": "execute_result",
          "data": {
            "text/plain": [
              "array(4.01140683e-15)"
            ]
          },
          "metadata": {
            "tags": []
          },
          "execution_count": 38
        }
      ]
    },
    {
      "cell_type": "markdown",
      "metadata": {
        "colab_type": "text",
        "id": "rQrHVp6_yxJK"
      },
      "source": [
        "Y de igual manera cumple con la restricción del rendimiento y la suma de pesos igual a 1"
      ]
    },
    {
      "cell_type": "code",
      "metadata": {
        "colab_type": "code",
        "id": "VBWE_2coyxJM",
        "outputId": "f33a58b5-c42f-44d3-b29c-946d0e4e726e",
        "colab": {
          "base_uri": "https://localhost:8080/",
          "height": 35
        }
      },
      "source": [
        "w@mu"
      ],
      "execution_count": 0,
      "outputs": [
        {
          "output_type": "execute_result",
          "data": {
            "text/plain": [
              "array(0.40221088)"
            ]
          },
          "metadata": {
            "tags": []
          },
          "execution_count": 39
        }
      ]
    },
    {
      "cell_type": "code",
      "metadata": {
        "colab_type": "code",
        "id": "HldF_BmByxJQ",
        "outputId": "4f8e5036-5ccb-4283-d1e3-0526f364babf",
        "colab": {
          "base_uri": "https://localhost:8080/",
          "height": 35
        }
      },
      "source": [
        "utils.compute_error(w@mu, r)"
      ],
      "execution_count": 0,
      "outputs": [
        {
          "output_type": "execute_result",
          "data": {
            "text/plain": [
              "array(0.)"
            ]
          },
          "metadata": {
            "tags": []
          },
          "execution_count": 40
        }
      ]
    },
    {
      "cell_type": "code",
      "metadata": {
        "colab_type": "code",
        "id": "43LZRtzeyxJU",
        "outputId": "56c94770-9789-4190-eb77-87525b38b917",
        "colab": {
          "base_uri": "https://localhost:8080/",
          "height": 35
        }
      },
      "source": [
        "sum(x)"
      ],
      "execution_count": 0,
      "outputs": [
        {
          "output_type": "execute_result",
          "data": {
            "text/plain": [
              "array(1.)"
            ]
          },
          "metadata": {
            "tags": []
          },
          "execution_count": 41
        }
      ]
    },
    {
      "cell_type": "code",
      "metadata": {
        "colab_type": "code",
        "id": "YTnj2zvey_Le",
        "colab": {}
      },
      "source": [
        "## Conclusiones\n",
        "\n",
        "Aunque con ambas variabes se obtienen resultados bastante ascertados, como es de esperarce al usar diferenciación analítica, el resultado tiene mayor precisión."
      ],
      "execution_count": 0,
      "outputs": []
    },
    {
      "cell_type": "code",
      "metadata": {
        "id": "_swCGQv4aRHy",
        "colab_type": "code",
        "colab": {}
      },
      "source": [
        ""
      ],
      "execution_count": 0,
      "outputs": []
    }
  ]
}