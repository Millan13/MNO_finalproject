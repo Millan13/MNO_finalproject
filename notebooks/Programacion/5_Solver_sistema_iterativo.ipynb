{
  "nbformat": 4,
  "nbformat_minor": 0,
  "metadata": {
    "kernelspec": {
      "display_name": "Python 3",
      "language": "python",
      "name": "python3"
    },
    "language_info": {
      "codemirror_mode": {
        "name": "ipython",
        "version": 3
      },
      "file_extension": ".py",
      "mimetype": "text/x-python",
      "name": "python",
      "nbconvert_exporter": "python",
      "pygments_lexer": "ipython3",
      "version": "3.7.4"
    },
    "colab": {
      "name": "f2_Sistema_iterativo.ipynb",
      "provenance": [],
      "collapsed_sections": []
    },
    "accelerator": "GPU"
  },
  "cells": [
    {
      "cell_type": "markdown",
      "metadata": {
        "id": "CR_0ozT5af_B",
        "colab_type": "text"
      },
      "source": [
        "# Metodo de Newton para solucionar el Solver de Markovitz"
      ]
    },
    {
      "cell_type": "code",
      "metadata": {
        "id": "K_JYq30eaf_G",
        "colab_type": "code",
        "colab": {}
      },
      "source": [
        "import numpy as np\n",
        "import cupy as cp\n",
        "import solver.extraer_datos_yahoo as extrae\n",
        "import solver.funciones_auxiliares as aux\n",
        "import solver.line_search as line\n",
        "import solver.modelo_markowitz as mkv\n",
        "import solver.utils as utils\n",
        "import solver.optimizacion_numerica as opt\n",
        "#from utils import inc_index, dec_index, compute_error, norm_residual, condicion_cupy\n",
        "#from line_search import line_search_by_backtracking, line_search_for_residual_by_backtracking"
      ],
      "execution_count": 0,
      "outputs": []
    },
    {
      "cell_type": "code",
      "metadata": {
        "id": "gCFWgC9magAh",
        "colab_type": "code",
        "colab": {}
      },
      "source": [
        "import solver\n",
        "\n",
        "def Newtons_method_feasible_init_point(f, A, x_0, tol, \n",
        "                                       tol_backtracking, x_ast=None, p_ast=None, maxiter=30,\n",
        "                                       gf_symbolic = None,\n",
        "                                       Hf_symbolic = None,\n",
        "                                       Sigma = None):\n",
        "    '''\n",
        "    Newton's method to numerically approximate solution of min f subject to Ax = b.\n",
        "    IMPORTANT: this implementation requires that initial point x_0, satisfies: Ax_0 = b\n",
        "    Args:\n",
        "        f (fun): definition of function f as lambda expression or function definition.\n",
        "        A (numpy ndarray): 2d numpy array of shape (m,n) defines system of constraints Ax=b.\n",
        "        x_0 (numpy ndarray): initial point for Newton's method. Must satisfy: Ax_0 = b\n",
        "        tol (float): tolerance that will halt method. Controls stopping criteria.\n",
        "        tol_backtracking (float): tolerance that will halt method. Controls value of line search by backtracking.\n",
        "        x_ast (numpy ndarray): solution of min f, now it's required that user knows the solution...\n",
        "        p_ast (float): value of f(x_ast), now it's required that user knows the solution...\n",
        "        maxiter (int): maximum number of iterations\n",
        "        gf_symbolic (fun): definition of gradient of f. If given, no approximation is\n",
        "                                     performed via finite differences.\n",
        "        Hf_symbolic (fun): definition of Hessian of f. If given, no approximation is\n",
        "                                     performed via fi\n",
        "                                     nite differences.\n",
        "    Returns:\n",
        "        x (numpy ndarray): numpy array, approximation of x_ast.\n",
        "        iteration (int): number of iterations.\n",
        "        Err_plot (numpy ndarray): numpy array of absolute error between p_ast and f(x) with x approximation\n",
        "                          of x_ast. Useful for plotting.\n",
        "        x_plot (numpy ndarray): numpy array that containts in columns vector of approximations. Last column\n",
        "                        contains x, approximation of solution. Useful for plotting.\n",
        "    '''\n",
        "    iteration = 0\n",
        "        \n",
        "    x = x_0\n",
        "    \n",
        "    feval = f(x)\n",
        "    \n",
        "    if gf_symbolic:\n",
        "        Sigma = Sigma\n",
        "        gfeval = gf_symbolic(x)\n",
        "    else:\n",
        "        gfeval = solver.diferenciacion_numerica.gradient_approximation(f,x)\n",
        "\n",
        "    if Hf_symbolic:\n",
        "        Sigma=Sigma\n",
        "        Hfeval = Hf_symbolic(x)\n",
        "    else:\n",
        "        Hfeval = solver.diferenciacion_numerica.Hessian_approximation(f,x)\n",
        "    \n",
        "    normgf = np.linalg.norm(gfeval)\n",
        "    condHf= solver.utils.condicion_cupy(Hfeval)\n",
        "    \n",
        "    Err_plot_aux = np.zeros(maxiter)\n",
        "    Err_plot_aux[iteration]= solver.utils.compute_error(p_ast,feval)\n",
        "    \n",
        "    Err = solver.utils.compute_error(x_ast,x)\n",
        "    \n",
        "        \n",
        "    if(A.ndim == 1):\n",
        "        p = 1\n",
        "        n = x.size\n",
        "        zero_matrix = cp.zeros(p)\n",
        "        first_stack = cp.column_stack((Hfeval, A.T))\n",
        "        second_stack = cp.row_stack((A.reshape(1,n).T,zero_matrix)).reshape(1,n+1)[0]\n",
        "    else:\n",
        "        p,n = A.shape\n",
        "        zero_matrix = cp.zeros((p,p))\n",
        "        first_stack = np.column_stack((Hfeval, A.T))\n",
        "        second_stack = np.column_stack((A,zero_matrix))\n",
        "        \n",
        "    x_plot = cp.zeros((n,maxiter))\n",
        "    x_plot[:,iteration] = x\n",
        "    \n",
        "    system_matrix = np.row_stack((first_stack,second_stack))\n",
        "    zero_vector = cp.zeros(p)\n",
        "    rhs = np.row_stack((gfeval.reshape(n,1), zero_vector.reshape(p,1))).T[0]\n",
        "\n",
        "    #Newton's direction and Newton's decrement\n",
        "    dir_desc = cp.linalg.solve(system_matrix, -rhs)\n",
        "    dir_Newton = dir_desc[0:n]\n",
        "    dec_Newton = -gfeval.dot(dir_Newton)\n",
        "    w_dual_variable_estimation = dir_desc[n:(n+p)]\n",
        "\n",
        "\n",
        "    print('I\\tNormgf \\tNewton Decrement\\tError x_ast\\tError p_ast\\tline search\\tCondHf')\n",
        "    print('{}\\t{}\\t{}\\t{}\\t{}\\t{}\\t\\t{}'.format(iteration,\n",
        "                                                normgf,\n",
        "                                                dec_Newton,\n",
        "                                                Err,\n",
        "                                                Err_plot_aux[iteration],\"---\",\n",
        "                                                condHf))\n",
        "    stopping_criteria = dec_Newton/2\n",
        "    iteration+=1\n",
        "    while(stopping_criteria>tol and iteration < maxiter):\n",
        "        der_direct = -dec_Newton\n",
        "        t = solver.line_search.line_search_by_backtracking(f,dir_Newton,x,der_direct)\n",
        "        x = x + t*dir_Newton\n",
        "        feval = f(x)\n",
        "        \n",
        "        \n",
        "        if gf_symbolic:\n",
        "            Sigma = Sigma\n",
        "            gfeval = gf_symbolic(x)\n",
        "        else:\n",
        "            gfeval = solver.diferenciacion_numerica.gradient_approximation(f,x)\n",
        "        \n",
        "        if Hf_symbolic:\n",
        "            Sigma = Sigma\n",
        "            Hfeval = Hf_symbolic(x)\n",
        "        else:\n",
        "            Hfeval = solver.diferenciacion_numerica.Hessian_approximation(f,x)\n",
        "        if(A.ndim == 1):\n",
        "            first_stack = cp.column_stack((Hfeval, A.T))\n",
        "        else:\n",
        "            first_stack = cp.column_stack((Hfeval, A.T))\n",
        "\n",
        "        system_matrix = np.row_stack((first_stack,second_stack))\n",
        "        rhs = np.row_stack((gfeval.reshape(n,1), zero_vector.reshape(p,1))).T[0]\n",
        "        #Newton's direction and Newton's decrement\n",
        "        dir_desc = cp.linalg.solve(system_matrix, -rhs)\n",
        "        dir_Newton = dir_desc[0:n]\n",
        "        dec_Newton = -gfeval.dot(dir_Newton)\n",
        "        w_dual_variable_estimation = dir_desc[n:(n+p)]\n",
        "        \n",
        "        Err_plot_aux[iteration]= solver.utils.compute_error(p_ast,feval)\n",
        "        x_plot[:,iteration] = x\n",
        "        Err = solver.utils.compute_error(x_ast,x)\n",
        "        print('{}\\t{}\\t{}\\t{}\\t{}\\t{}\\t{}'.format(iteration,\n",
        "                                                  normgf,\n",
        "                                                  dec_Newton,Err,\n",
        "                                                  Err_plot_aux[iteration],t,\n",
        "                                                  cp.asarray(condHf)))\n",
        "        stopping_criteria = dec_Newton/2\n",
        "        if t<tol_backtracking: #if t is less than tol_backtracking then we need to check the reason\n",
        "            iter_salida=iteration\n",
        "            iteration = maxiter - 1\n",
        "        iteration+=1\n",
        "    print('{} {}'.format(\"Error of x with respect to x_ast:\",Err))\n",
        "    print('{} {}'.format(\"Approximate solution:\", x))\n",
        "    cond = Err_plot_aux > np.finfo(float).eps*10**(-2)\n",
        "    Err_plot = Err_plot_aux[cond]\n",
        "    \n",
        "    if iteration == maxiter and t < tol_backtracking:\n",
        "        print(\"Backtracking value less than tol_backtracking, check approximation\")\n",
        "        iteration=iter_salida\n",
        "    else:\n",
        "        if iteration == maxiter:\n",
        "            print(\"Reached maximum of iterations, check approximation\")\n",
        "    x_plot = x_plot[:,:iteration]\n",
        "    return [x,iteration,Err_plot,x_plot]"
      ],
      "execution_count": 0,
      "outputs": []
    },
    {
      "cell_type": "markdown",
      "metadata": {
        "id": "CJwReJ2Hb_3W",
        "colab_type": "text"
      },
      "source": [
        "## Cargamos la información y calculamos los parámetros"
      ]
    },
    {
      "cell_type": "code",
      "metadata": {
        "id": "ucXkk3tYagAq",
        "colab_type": "code",
        "colab": {}
      },
      "source": [
        "stocks = ['COP','AMT','LIN','LMT','AMZN','WMT','JNJ','VTI','MSFT','GOOG','XOM','CCI','BHP.AX','UNP',\n",
        "'BABA','NSRGY','RHHBY','VOO','AAPL','FB','CVX','PLD','RIO.L','HON','HD','PG','UNH','BRK-A','V','0700.HK',\n",
        "'RDSA.AS','0688.HK','AI.PA','RTX','MC.PA','KO','PFE','JPM','005930.KS','VZ','RELIANCE.NS','DLR','2010.SR',\n",
        "'UPS','7203.T','PEP','MRK','1398.HK','MA','T']"
      ],
      "execution_count": 0,
      "outputs": []
    },
    {
      "cell_type": "code",
      "metadata": {
        "id": "FliMniOJcGcb",
        "colab_type": "code",
        "outputId": "bf7e2264-a571-479c-e581-a864d1534da0",
        "colab": {
          "base_uri": "https://localhost:8080/",
          "height": 35
        }
      },
      "source": [
        "datos = extrae.extraer_datos_yahoo(stocks)"
      ],
      "execution_count": 3,
      "outputs": [
        {
          "output_type": "stream",
          "text": [
            "[*********************100%***********************]  50 of 50 downloaded\n"
          ],
          "name": "stdout"
        }
      ]
    },
    {
      "cell_type": "code",
      "metadata": {
        "id": "PcAFYk2EcLsE",
        "colab_type": "code",
        "colab": {}
      },
      "source": [
        "mu = aux.calcular_rendimiento(datos)"
      ],
      "execution_count": 0,
      "outputs": []
    },
    {
      "cell_type": "code",
      "metadata": {
        "id": "2N6YUd_kchNf",
        "colab_type": "code",
        "colab": {}
      },
      "source": [
        "S = aux.calcular_varianza(datos)"
      ],
      "execution_count": 0,
      "outputs": []
    },
    {
      "cell_type": "code",
      "metadata": {
        "id": "XKy8ibRXcpGW",
        "colab_type": "code",
        "outputId": "760cc0fc-695b-4046-f7b2-9ef0388fcbd3",
        "colab": {
          "base_uri": "https://localhost:8080/",
          "height": 35
        }
      },
      "source": [
        "r=max(mu).item()\n",
        "r"
      ],
      "execution_count": 6,
      "outputs": [
        {
          "output_type": "execute_result",
          "data": {
            "text/plain": [
              "0.4022108787760788"
            ]
          },
          "metadata": {
            "tags": []
          },
          "execution_count": 6
        }
      ]
    },
    {
      "cell_type": "markdown",
      "metadata": {
        "id": "TD58_-9MdMt3",
        "colab_type": "text"
      },
      "source": [
        "## Resolvemos con el Método de Newton usando diferencias finitas"
      ]
    },
    {
      "cell_type": "code",
      "metadata": {
        "id": "Rr4oJagsdSk8",
        "colab_type": "code",
        "colab": {}
      },
      "source": [
        "fo = lambda w: w@S@w"
      ],
      "execution_count": 0,
      "outputs": []
    },
    {
      "cell_type": "code",
      "metadata": {
        "id": "CjLONnwPdnNm",
        "colab_type": "code",
        "colab": {}
      },
      "source": [
        "w_ast = mkv.markowitz(r,mu,S, df=False)"
      ],
      "execution_count": 0,
      "outputs": []
    },
    {
      "cell_type": "code",
      "metadata": {
        "id": "q0HjUqEthOli",
        "colab_type": "code",
        "outputId": "4bc8c430-b3f7-4fb6-8436-618594258da9",
        "colab": {
          "base_uri": "https://localhost:8080/",
          "height": 377
        }
      },
      "source": [
        "n = mu.shape[0]\n",
        "A = cp.concatenate((mu,cp.ones(n))).reshape(2,n)\n",
        "A"
      ],
      "execution_count": 9,
      "outputs": [
        {
          "output_type": "execute_result",
          "data": {
            "text/plain": [
              "array([[ 0.13254293,  0.02782955,  0.25778345, -0.01787111, -0.02008539,\n",
              "        -0.02286483,  0.19078421,  0.05743478,  0.17062275,  0.40221088,\n",
              "         0.13618598,  0.02364206,  0.0476638 ,  0.13217291, -0.09666644,\n",
              "        -0.03426582,  0.15880965,  0.17870289,  0.18557566,  0.15042008,\n",
              "         0.08379133,  0.07154137,  0.08843336,  0.02202303,  0.07353272,\n",
              "         0.13731909,  0.23605478,  0.19942876,  0.06806557,  0.26292508,\n",
              "         0.07357148,  0.06803817,  0.03867589,  0.05090149,  0.14401416,\n",
              "        -0.09339291,  0.23072551,  0.05036842,  0.05587177, -0.01264577,\n",
              "        -0.01474117,  0.20678446,  0.06274014, -0.02729424,  0.1990038 ,\n",
              "         0.07054765,  0.06563628,  0.04203765,  0.0717407 , -0.13227261],\n",
              "       [ 1.        ,  1.        ,  1.        ,  1.        ,  1.        ,\n",
              "         1.        ,  1.        ,  1.        ,  1.        ,  1.        ,\n",
              "         1.        ,  1.        ,  1.        ,  1.        ,  1.        ,\n",
              "         1.        ,  1.        ,  1.        ,  1.        ,  1.        ,\n",
              "         1.        ,  1.        ,  1.        ,  1.        ,  1.        ,\n",
              "         1.        ,  1.        ,  1.        ,  1.        ,  1.        ,\n",
              "         1.        ,  1.        ,  1.        ,  1.        ,  1.        ,\n",
              "         1.        ,  1.        ,  1.        ,  1.        ,  1.        ,\n",
              "         1.        ,  1.        ,  1.        ,  1.        ,  1.        ,\n",
              "         1.        ,  1.        ,  1.        ,  1.        ,  1.        ]])"
            ]
          },
          "metadata": {
            "tags": []
          },
          "execution_count": 9
        }
      ]
    },
    {
      "cell_type": "code",
      "metadata": {
        "id": "tH7IUvaZlfFw",
        "colab_type": "code",
        "outputId": "211bebc1-5bef-4dfa-9d78-00d8b05de791",
        "colab": {
          "base_uri": "https://localhost:8080/",
          "height": 35
        }
      },
      "source": [
        "b = cp.array([r,1])\n",
        "b"
      ],
      "execution_count": 10,
      "outputs": [
        {
          "output_type": "execute_result",
          "data": {
            "text/plain": [
              "array([0.40221088, 1.        ])"
            ]
          },
          "metadata": {
            "tags": []
          },
          "execution_count": 10
        }
      ]
    },
    {
      "cell_type": "markdown",
      "metadata": {
        "id": "S_WUqA-EoQC8",
        "colab_type": "text"
      },
      "source": [
        "Definimos el punto inicial como:"
      ]
    },
    {
      "cell_type": "code",
      "metadata": {
        "id": "UN7T8_3J5ete",
        "colab_type": "code",
        "colab": {}
      },
      "source": [
        "M = cp.ones((2,mu.shape[0]))"
      ],
      "execution_count": 0,
      "outputs": []
    },
    {
      "cell_type": "code",
      "metadata": {
        "id": "VHj1CODfpuon",
        "colab_type": "code",
        "colab": {}
      },
      "source": [
        "w_0 = utils.feasible_markowitz(r,mu)"
      ],
      "execution_count": 0,
      "outputs": []
    },
    {
      "cell_type": "code",
      "metadata": {
        "id": "w54V7Yuzqr4B",
        "colab_type": "code",
        "colab": {}
      },
      "source": [
        "tol=1e-8\n",
        "tol_backtracking=1e-14\n",
        "p_ast=fo(w_ast)\n",
        "maxiter=50"
      ],
      "execution_count": 0,
      "outputs": []
    },
    {
      "cell_type": "code",
      "metadata": {
        "id": "y1aGbI5DsB75",
        "colab_type": "code",
        "outputId": "22cb3183-c75e-438d-8a22-76e8fba5d20a",
        "colab": {
          "base_uri": "https://localhost:8080/",
          "height": 361
        }
      },
      "source": [
        "[x,total_of_iterations,Err_plot,x_plot]=opt.Newtons_method_feasible_init_point(fo,A, w_0,tol, tol_backtracking, w_ast, p_ast, maxiter)\n",
        "\n"
      ],
      "execution_count": 14,
      "outputs": [
        {
          "output_type": "stream",
          "text": [
            "I\tNormgf \tNewton Decrement\tError x_ast\tError p_ast\tline search\tCondHf\n",
            "0\t0.0019178915263183885\t0.000887556410867015\t1.1002919607342356\t4.696439257807226\t---\t\t10050.199593921367\n",
            "1\t0.0019178915263183885\t3.760062932545962e-08\t0.04238267306445035\t0.00019325422894986887\t1\t10050.199593921367\n",
            "2\t0.0019178915263183885\t6.474617300015255e-11\t0.003025598335118704\t3.520979637982383e-07\t1\t10050.199593921367\n",
            "Error of x with respect to x_ast: 0.003025598335118704\n",
            "Approximate solution: [ 1.58428546e-01 -2.08616309e-02  1.58020949e-01 -9.28935082e-02\n",
            "  3.16991935e-02  5.10945480e-02  8.72922956e-02  1.26346166e-02\n",
            "  3.73103284e-02  2.86016263e-01 -5.94665541e-03  2.23126418e-03\n",
            "  2.03110573e-01  9.45805956e-02  2.28799709e-02  1.50331910e-02\n",
            "  7.62589108e-03  2.97057955e-02  5.77183696e-02  1.98175883e-01\n",
            "  1.19874923e-01  1.27950342e-01  1.41431816e-01  1.36290060e-02\n",
            "  8.84466664e-02  1.50547999e-01  1.69210858e-01  7.72068032e-02\n",
            "  8.09578029e-02  8.25608723e-02  1.92191572e-01 -2.38661332e-02\n",
            "  2.64704653e-02  7.70401324e-02  2.20865617e-02 -1.08224222e-01\n",
            "  1.64026211e-01  1.77103658e-02  6.16445527e-02 -1.08192451e-01\n",
            " -5.03004393e-02  1.38878495e-01  1.03603985e-01 -4.27834232e-02\n",
            "  1.08153614e-02 -2.33911126e+00  1.94282246e-01  2.63290259e-01\n",
            "  1.20150533e-01 -1.05386379e-01]\n"
          ],
          "name": "stdout"
        }
      ]
    },
    {
      "cell_type": "code",
      "metadata": {
        "id": "wNm78ZHv0Isd",
        "colab_type": "code",
        "outputId": "65720c37-056e-4ef6-945d-712009e11d5d",
        "colab": {
          "base_uri": "https://localhost:8080/",
          "height": 251
        }
      },
      "source": [
        "x"
      ],
      "execution_count": 15,
      "outputs": [
        {
          "output_type": "execute_result",
          "data": {
            "text/plain": [
              "array([ 1.58428546e-01, -2.08616309e-02,  1.58020949e-01, -9.28935082e-02,\n",
              "        3.16991935e-02,  5.10945480e-02,  8.72922956e-02,  1.26346166e-02,\n",
              "        3.73103284e-02,  2.86016263e-01, -5.94665541e-03,  2.23126418e-03,\n",
              "        2.03110573e-01,  9.45805956e-02,  2.28799709e-02,  1.50331910e-02,\n",
              "        7.62589108e-03,  2.97057955e-02,  5.77183696e-02,  1.98175883e-01,\n",
              "        1.19874923e-01,  1.27950342e-01,  1.41431816e-01,  1.36290060e-02,\n",
              "        8.84466664e-02,  1.50547999e-01,  1.69210858e-01,  7.72068032e-02,\n",
              "        8.09578029e-02,  8.25608723e-02,  1.92191572e-01, -2.38661332e-02,\n",
              "        2.64704653e-02,  7.70401324e-02,  2.20865617e-02, -1.08224222e-01,\n",
              "        1.64026211e-01,  1.77103658e-02,  6.16445527e-02, -1.08192451e-01,\n",
              "       -5.03004393e-02,  1.38878495e-01,  1.03603985e-01, -4.27834232e-02,\n",
              "        1.08153614e-02, -2.33911126e+00,  1.94282246e-01,  2.63290259e-01,\n",
              "        1.20150533e-01, -1.05386379e-01])"
            ]
          },
          "metadata": {
            "tags": []
          },
          "execution_count": 15
        }
      ]
    },
    {
      "cell_type": "code",
      "metadata": {
        "id": "rM0pIafAwVMK",
        "colab_type": "code",
        "outputId": "9eacc5a2-4973-4ca1-caa7-c21c2acaeba1",
        "colab": {
          "base_uri": "https://localhost:8080/",
          "height": 251
        }
      },
      "source": [
        "w_ast"
      ],
      "execution_count": 16,
      "outputs": [
        {
          "output_type": "execute_result",
          "data": {
            "text/plain": [
              "array([ 1.58450459e-01, -2.08710279e-02,  1.58051613e-01, -9.28970852e-02,\n",
              "        3.17093838e-02,  5.10824537e-02,  8.71800626e-02,  1.26389547e-02,\n",
              "        3.72861469e-02,  2.86000507e-01, -5.98810147e-03,  2.24206232e-03,\n",
              "        2.03075836e-01,  9.46030741e-02,  2.28766788e-02,  1.49919976e-02,\n",
              "        7.60706433e-03,  2.96676402e-02,  5.76521006e-02,  1.98109863e-01,\n",
              "        1.19928144e-01,  1.27869501e-01,  1.41300419e-01,  1.36285005e-02,\n",
              "        8.83904753e-02,  1.50479914e-01,  1.69293512e-01,  7.72037012e-02,\n",
              "        8.09121352e-02,  8.24658724e-02,  1.92197879e-01, -2.40095431e-02,\n",
              "        2.64375219e-02,  7.69647088e-02,  2.20741648e-02, -1.08207562e-01,\n",
              "        1.64032748e-01,  1.77020932e-02,  6.16398087e-02, -1.08210745e-01,\n",
              "       -5.03462807e-02,  1.38834320e-01,  1.03567400e-01, -4.28198353e-02,\n",
              "        1.06872745e-02, -2.33314798e+00,  1.89811544e-01,  2.63296457e-01,\n",
              "        1.20089773e-01, -1.05535600e-01])"
            ]
          },
          "metadata": {
            "tags": []
          },
          "execution_count": 16
        }
      ]
    },
    {
      "cell_type": "code",
      "metadata": {
        "id": "zh3Zh0dQxZ4P",
        "colab_type": "code",
        "outputId": "4402f58a-7e03-4e6b-c701-5953ba0e4220",
        "colab": {
          "base_uri": "https://localhost:8080/",
          "height": 35
        }
      },
      "source": [
        "x@S@x"
      ],
      "execution_count": 17,
      "outputs": [
        {
          "output_type": "execute_result",
          "data": {
            "text/plain": [
              "array(9.45979579e-05)"
            ]
          },
          "metadata": {
            "tags": []
          },
          "execution_count": 17
        }
      ]
    },
    {
      "cell_type": "code",
      "metadata": {
        "id": "lIYyOg5vxh1Z",
        "colab_type": "code",
        "outputId": "adb129a8-bfd2-4b88-8c01-7b799d09edd2",
        "colab": {
          "base_uri": "https://localhost:8080/",
          "height": 35
        }
      },
      "source": [
        "w_ast@S@w_ast"
      ],
      "execution_count": 18,
      "outputs": [
        {
          "output_type": "execute_result",
          "data": {
            "text/plain": [
              "array(9.45979246e-05)"
            ]
          },
          "metadata": {
            "tags": []
          },
          "execution_count": 18
        }
      ]
    },
    {
      "cell_type": "code",
      "metadata": {
        "id": "u1XPCyGqxobv",
        "colab_type": "code",
        "outputId": "bef258fc-2934-48d0-b9c2-3e8dc812cf0b",
        "colab": {
          "base_uri": "https://localhost:8080/",
          "height": 35
        }
      },
      "source": [
        "x@mu"
      ],
      "execution_count": 19,
      "outputs": [
        {
          "output_type": "execute_result",
          "data": {
            "text/plain": [
              "array(0.40221088)"
            ]
          },
          "metadata": {
            "tags": []
          },
          "execution_count": 19
        }
      ]
    },
    {
      "cell_type": "code",
      "metadata": {
        "id": "boNNhrOMxspd",
        "colab_type": "code",
        "outputId": "4b85f069-f4fe-4377-bc96-2877165ee44d",
        "colab": {
          "base_uri": "https://localhost:8080/",
          "height": 35
        }
      },
      "source": [
        "w_ast@mu"
      ],
      "execution_count": 20,
      "outputs": [
        {
          "output_type": "execute_result",
          "data": {
            "text/plain": [
              "array(0.40221088)"
            ]
          },
          "metadata": {
            "tags": []
          },
          "execution_count": 20
        }
      ]
    },
    {
      "cell_type": "code",
      "metadata": {
        "id": "GDPfjh3nx_A7",
        "colab_type": "code",
        "outputId": "5a2ec844-bc0a-4533-e93a-d93e6370d72c",
        "colab": {
          "base_uri": "https://localhost:8080/",
          "height": 35
        }
      },
      "source": [
        "sum(x)"
      ],
      "execution_count": 21,
      "outputs": [
        {
          "output_type": "execute_result",
          "data": {
            "text/plain": [
              "array(1.)"
            ]
          },
          "metadata": {
            "tags": []
          },
          "execution_count": 21
        }
      ]
    },
    {
      "cell_type": "markdown",
      "metadata": {
        "id": "zc0lRzlWae3M",
        "colab_type": "text"
      },
      "source": [
        "## Resolvemos con el Método de Newton usando funciones simbólicas"
      ]
    },
    {
      "cell_type": "code",
      "metadata": {
        "id": "vphzuSu_dnhZ",
        "colab_type": "code",
        "colab": {}
      },
      "source": [
        ""
      ],
      "execution_count": 0,
      "outputs": []
    }
  ]
}