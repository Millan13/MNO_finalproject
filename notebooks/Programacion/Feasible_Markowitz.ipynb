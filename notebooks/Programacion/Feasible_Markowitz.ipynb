{
  "nbformat": 4,
  "nbformat_minor": 0,
  "metadata": {
    "colab": {
      "name": "Feasible_Markowitz.ipynb",
      "provenance": [],
      "collapsed_sections": []
    },
    "kernelspec": {
      "name": "python3",
      "display_name": "Python 3"
    },
    "accelerator": "GPU"
  },
  "cells": [
    {
      "cell_type": "markdown",
      "metadata": {
        "id": "WoKgIfduMq5D",
        "colab_type": "text"
      },
      "source": [
        "# **Función que proporciona un punto factible para el problema de Markowitz**\n",
        "\n",
        "**Responsable:** César Zamora Martínez\n",
        "\n",
        "**Idea:** Dado un vector de rendimientos medios $\\mu \\in \\mathbb{R}^n$ del portafolio de activos  así como un valor de redimiento $r>0$, se quiere construir un vector de pesos de tales portafolios tal que:\n",
        "\n",
        "1) $\\mu^t \\cdot w = r$\n",
        "\n",
        "2)  $w^t \\cdot 1 = 1$\n",
        "\n",
        "Para obtener un punto que cumpla ambas propiedades, se solucionan las ecuaciones normales asociadas al sistema 1 y 2\n",
        "\n",
        "## 0. Importamos librerias necesarias"
      ]
    },
    {
      "cell_type": "code",
      "metadata": {
        "id": "NsR0OS3rMrRq",
        "colab_type": "code",
        "colab": {
          "base_uri": "https://localhost:8080/",
          "height": 225
        },
        "outputId": "034853f9-6708-4874-a51b-99d69bfd1e69"
      },
      "source": [
        "!curl https://colab.chainer.org/install | sh -"
      ],
      "execution_count": 36,
      "outputs": [
        {
          "output_type": "stream",
          "text": [
            "  % Total    % Received % Xferd  Average Speed   Time    Time     Time  Current\n",
            "                                 Dload  Upload   Total   Spent    Left  Speed\n",
            "\r  0     0    0     0    0     0      0      0 --:--:-- --:--:-- --:--:--     0\r  0     0    0     0    0     0      0      0 --:--:-- --:--:-- --:--:--     0\r100  1580  100  1580    0     0  17555      0 --:--:-- --:--:-- --:--:-- 17362\n",
            "+ apt -y -q install cuda-libraries-dev-10-0\n",
            "Reading package lists...\n",
            "Building dependency tree...\n",
            "Reading state information...\n",
            "cuda-libraries-dev-10-0 is already the newest version (10.0.130-1).\n",
            "0 upgraded, 0 newly installed, 0 to remove and 29 not upgraded.\n",
            "+ pip install -q cupy-cuda100  chainer \n",
            "+ set +ex\n",
            "Installation succeeded!\n"
          ],
          "name": "stdout"
        }
      ]
    },
    {
      "cell_type": "code",
      "metadata": {
        "id": "Ulg_geHtMsHA",
        "colab_type": "code",
        "colab": {}
      },
      "source": [
        "import cupy as cp"
      ],
      "execution_count": 0,
      "outputs": []
    },
    {
      "cell_type": "markdown",
      "metadata": {
        "id": "SsAuZ2BLSXkL",
        "colab_type": "text"
      },
      "source": [
        "## 1. Definimos la función que resuelve las ecuaciones normales asociadas"
      ]
    },
    {
      "cell_type": "code",
      "metadata": {
        "id": "k-zQRH6AShL4",
        "colab_type": "code",
        "colab": {}
      },
      "source": [
        "def feasible_markowitz(r,mu):\n",
        "  '''\n",
        "  Funcion que devuelve un punto factible del problema de Markowitz, resolviendo\n",
        "  las ecuaciones normales asociadas\n",
        "  Args:\n",
        "     r (float): real positivo, que modela rendimiento esperado por inversionista\n",
        "     mu (aray): array de cupy que contiene los valores medios de los rendimientos\n",
        "          de los activos en el portafolio\n",
        "  Return:\n",
        "     w_star (float): punto feasible del problema de Markowitz\n",
        "  '''\n",
        "  # matriz del sistema para ecuaciones normales\n",
        "  M = cp.ones((2,mu.shape[0]))\n",
        "\n",
        "  for i in range(mu.shape[0]):\n",
        "    M[0,i]=mu[i,0]\n",
        "\n",
        "  # lado derecho de sistema\n",
        "  b= cp.array([r,1])\n",
        "\n",
        "  # Resuelve ecuaciones normales\n",
        "  w_star = cp.linalg.solve(M.transpose()@M,M.transpose()@b)\n",
        "  \n",
        "  return w_star"
      ],
      "execution_count": 0,
      "outputs": []
    },
    {
      "cell_type": "markdown",
      "metadata": {
        "id": "Wwjry87tUxML",
        "colab_type": "text"
      },
      "source": [
        "**Valores de prueba**"
      ]
    },
    {
      "cell_type": "code",
      "metadata": {
        "id": "Ka-eQdtfUScP",
        "colab_type": "code",
        "colab": {}
      },
      "source": [
        "n=10\n",
        "mu=cp.random.rand(n, 1)\n",
        "r= 2"
      ],
      "execution_count": 0,
      "outputs": []
    },
    {
      "cell_type": "markdown",
      "metadata": {
        "id": "2hSImAEOUiXJ",
        "colab_type": "text"
      },
      "source": [
        "**Calculamos punto feasible**"
      ]
    },
    {
      "cell_type": "code",
      "metadata": {
        "id": "7z9XE9ZLUhlS",
        "colab_type": "code",
        "colab": {}
      },
      "source": [
        "w0 = feasible_markowitz(r,mu)"
      ],
      "execution_count": 0,
      "outputs": []
    },
    {
      "cell_type": "markdown",
      "metadata": {
        "id": "XThw2a7qUce-",
        "colab_type": "text"
      },
      "source": [
        "**Verificamos que cumpla ecuacion 1)**\n",
        "\n"
      ]
    },
    {
      "cell_type": "code",
      "metadata": {
        "id": "iB6yQ-jmUczO",
        "colab_type": "code",
        "colab": {
          "base_uri": "https://localhost:8080/",
          "height": 34
        },
        "outputId": "65794388-25fe-482d-808c-0fbc953f0d83"
      },
      "source": [
        "mu.transpose()@w0"
      ],
      "execution_count": 66,
      "outputs": [
        {
          "output_type": "execute_result",
          "data": {
            "text/plain": [
              "array([2.])"
            ]
          },
          "metadata": {
            "tags": []
          },
          "execution_count": 66
        }
      ]
    },
    {
      "cell_type": "markdown",
      "metadata": {
        "id": "cjMo2JrLUVgK",
        "colab_type": "text"
      },
      "source": [
        "**Verificamos que cumpla ecuacion 2)**"
      ]
    },
    {
      "cell_type": "code",
      "metadata": {
        "id": "v1kiGGsEUIBk",
        "colab_type": "code",
        "colab": {
          "base_uri": "https://localhost:8080/",
          "height": 34
        },
        "outputId": "f03c8a05-39e6-4e89-c69c-eb01bac86961"
      },
      "source": [
        "sum(w0)"
      ],
      "execution_count": 67,
      "outputs": [
        {
          "output_type": "execute_result",
          "data": {
            "text/plain": [
              "array(1.)"
            ]
          },
          "metadata": {
            "tags": []
          },
          "execution_count": 67
        }
      ]
    }
  ]
}