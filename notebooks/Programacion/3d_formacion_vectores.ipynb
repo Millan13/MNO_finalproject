{
  "nbformat": 4,
  "nbformat_minor": 0,
  "metadata": {
    "colab": {
      "name": "3d_formacion_vectores.ipynb",
      "provenance": [],
      "collapsed_sections": []
    },
    "kernelspec": {
      "name": "python3",
      "display_name": "Python 3"
    },
    "accelerator": "GPU"
  },
  "cells": [
    {
      "cell_type": "markdown",
      "metadata": {
        "id": "Cuq9-5YMxZPQ",
        "colab_type": "text"
      },
      "source": [
        "# **3.d Vectores auxiliares**\n",
        "\n",
        "**Responsable:**\n",
        "\n",
        "César Zamora Martínez\n",
        "\n",
        "**Infraestructura usada:** \n",
        "Google Colab, para pruebas\n"
      ]
    },
    {
      "cell_type": "markdown",
      "metadata": {
        "id": "ZwiYf-3Ox3Bp",
        "colab_type": "text"
      },
      "source": [
        "## 0. Importamos librerias necesarias\n",
        "\n",
        "**Fuente:** 3c_formacion_matrices.ipynb, 3c_formacion_abc.ipynb, 3c_formacion_delta.ipynb"
      ]
    },
    {
      "cell_type": "code",
      "metadata": {
        "id": "c4OD-7E_jci0",
        "colab_type": "code",
        "outputId": "7a1b225a-778b-4b0c-d2e7-40a29fbac846",
        "colab": {
          "base_uri": "https://localhost:8080/",
          "height": 243
        }
      },
      "source": [
        "!curl https://colab.chainer.org/install | sh -"
      ],
      "execution_count": 1,
      "outputs": [
        {
          "output_type": "stream",
          "text": [
            "  % Total    % Received % Xferd  Average Speed   Time    Time     Time  Current\n",
            "                                 Dload  Upload   Total   Spent    Left  Speed\n",
            "100  1580  100  1580    0     0   5467      0 --:--:-- --:--:-- --:--:--  5448\n",
            "+ apt -y -q install cuda-libraries-dev-10-0\n",
            "Reading package lists...\n",
            "Building dependency tree...\n",
            "Reading state information...\n",
            "cuda-libraries-dev-10-0 is already the newest version (10.0.130-1).\n",
            "0 upgraded, 0 newly installed, 0 to remove and 25 not upgraded.\n",
            "+ pip install -q cupy-cuda100  chainer \n",
            "\u001b[K     |████████████████████████████████| 335.2MB 49kB/s \n",
            "\u001b[?25h+ set +ex\n",
            "Installation succeeded!\n"
          ],
          "name": "stdout"
        }
      ]
    },
    {
      "cell_type": "code",
      "metadata": {
        "id": "hM68phy00DcQ",
        "colab_type": "code",
        "colab": {}
      },
      "source": [
        "import cupy as cp\n",
        "\n",
        "def formar_vectores(mu, Sigma):\n",
        "  '''\n",
        "  Calcula las cantidades u = \\Sigma^{-1}  \\mu y v := \\Sigma^{-1} \\cdot 1 del problema de Markowitz\n",
        "\n",
        "  Args:\n",
        "    mu (cupy array, vector): valores medios esperados de activos (dimension n)\n",
        "    Sigma (cupy array, matriz): matriz de covarianzas asociada a activos (dimension n x n)\n",
        "\n",
        "  Return:\n",
        "    u (cupy array, escalar): vector dado por \\cdot Sigma^-1 \\cdot mu (dimension n)\n",
        "    v (cupy array, escalar): vector dado por Sigma^-1 \\cdot 1 (dimension n)\n",
        "  '''\n",
        "\n",
        "  # Vector auxiliar con entradas igual a 1\n",
        "  n = Sigma.shape[0]\n",
        "  ones_vector = cp.ones(n)\n",
        "\n",
        "  # Formamos vector \\cdot Sigma^-1 mu y Sigm^-1 1\n",
        "  # Nota: \n",
        "  #   1) u= Sigma^-1 \\cdot mu se obtiene resolviendo  Sigma u = mu\n",
        "  #   2) v= Sigma^-1 \\cdot 1 se obtiene resolviendo  Sigma v = 1\n",
        "\n",
        "  # Obtiene vectores de interes\n",
        "  u = cp.linalg.solve(Sigma, mu)\n",
        "  u = u.transpose()[0] # correcion de expresion de array\n",
        "  v = cp.linalg.solve(Sigma, ones_vector)\n",
        "\n",
        "  return u , v"
      ],
      "execution_count": 0,
      "outputs": []
    },
    {
      "cell_type": "code",
      "metadata": {
        "id": "i37lNnsu0Dp9",
        "colab_type": "code",
        "colab": {}
      },
      "source": [
        "def formar_abc(mu, Sigma):\n",
        "  '''\n",
        "  Calcula las cantidades A, B y C del diagrama de flujo del problema de Markowitz\n",
        "\n",
        "  Args:\n",
        "    mu (cupy array, vector): valores medios esperados de activos (dimension n)\n",
        "    Sigma (cupy array, matriz): matriz de covarianzas asociada a activos (dimension n x n)\n",
        "\n",
        "  Return:\n",
        "    A (cupy array, escalar): escalar dado por mu^t \\cdot Sigma^-1 \\cdot mu\n",
        "    B (cupy array, escalar): escalar dado por 1^t \\cdot Sigma^-1 \\cdot 1\n",
        "    C (cupy array, escalar): escalar dado por 1^t \\cdot Sigma^-1 \\cdot mu\n",
        "  '''\n",
        "\n",
        "  # Vector auxiliar con entradas igual a 1\n",
        "  n = Sigma.shape[0]\n",
        "  ones_vector = cp.ones(n)\n",
        "\n",
        "  # Formamos vector \\cdot Sigma^-1 mu y Sigm^-1 1\n",
        "  # Nota: \n",
        "  #   1) u= Sigma^-1 \\cdot mu se obtiene resolviendo  Sigma u = mu\n",
        "  #   2) v= Sigma^-1 \\cdot 1 se obtiene resolviendo  Sigma v = 1\n",
        "\n",
        "  u, v = formar_vectores(mu, Sigma)\n",
        "\n",
        "  # Obtiene escalares de interes\n",
        "  A = mu.transpose()@u\n",
        "  B = ones_vector.transpose()@v\n",
        "  C = ones_vector.transpose()@u\n",
        "\n",
        "  return A, B, C"
      ],
      "execution_count": 0,
      "outputs": []
    },
    {
      "cell_type": "code",
      "metadata": {
        "id": "kX7BTsS80Dty",
        "colab_type": "code",
        "colab": {}
      },
      "source": [
        "def delta(A,B,C):\n",
        "  '''\n",
        "  Calcula las cantidad Delta = AB-C^2 del diagrama de flujo del problema de Markowitz\n",
        "\n",
        "  Args:\n",
        "    A (cupy array, escalar): escalar dado por mu^t \\cdot Sigma^-1 \\cdot mu\n",
        "    B (cupy array, escalar): escalar dado por 1^t \\cdot Sigma^-1 \\cdot 1\n",
        "    C (cupy array, escalar): escalar dado por 1^t \\cdot Sigma^-1 \\cdot mu\n",
        "\n",
        "  Return:\n",
        "    Delta (cupy array, escalar): escalar dado \\mu^t \\cdot \\Sigma^{-1} \\cdot \\mu\n",
        "  '''\n",
        "  Delta = A*B-C**2\n",
        "\n",
        "  return Delta"
      ],
      "execution_count": 0,
      "outputs": []
    },
    {
      "cell_type": "markdown",
      "metadata": {
        "id": "gYi6APThyLPd",
        "colab_type": "text"
      },
      "source": [
        "## 1. Implementación\n",
        "\n",
        "**Consideraciones:**. Esta etapa supone que se conocen $\\bar{r}$, $\\mu$ y $\\Sigma$ asociados a los activos, ello con el objeto de es obtener valores escalares que serán relevantes para obtener los pesos del portafolio para el inversionista. Hasta este punto se asume que ya conocemos todos los términos presentes en las expresiones:\n",
        "\n",
        "$$A = \\mu^t \\cdot \\Sigma^{-1} \\cdot \\mu $$\n",
        "\n",
        "$$B = 1^t \\cdot \\Sigma^{-1} \\cdot 1 $$\n",
        "\n",
        "$$C = 1^t \\cdot \\Sigma^{-1} \\cdot \\mu = \\mu^t \\cdot \\Sigma^{-1} \\cdot 1 $$\n",
        "\n",
        "Para con ello poder estimar los multiplicadores de Lagrange asociados al problema:\n",
        "\n",
        "$$ w_0 = \\frac{1}{\\Delta} ( \\hat{r} \\cdot B - C ) $$\n",
        "\n",
        "$$ w_1 = \\frac{1}{\\Delta} (A - C \\cdot \\hat{r}) $$\n",
        "\n",
        "Con los que se forma la solución del sistema dada por\n",
        "\n",
        "$$w = w_0 \\cdot (\\Sigma^{-1} \\mu) + w_1 \\cdot (\\Sigma^{-1} 1) $$\n",
        "\n",
        "En seguida se presenta el código correspondiente:"
      ]
    },
    {
      "cell_type": "code",
      "metadata": {
        "id": "fiWayxHhewhy",
        "colab_type": "code",
        "colab": {}
      },
      "source": [
        "def formar_omegas(r, mu, Sigma):\n",
        "  '''\n",
        "  Calcula las cantidades w_o y w_ del problema de Markowitz\n",
        "\n",
        "  Args:\n",
        "    mu (cupy array, vector): valores medios esperados de activos (dimension n)\n",
        "    Sigma (cupy array, matriz): matriz de covarianzas asociada a activos (dimension n x n)\n",
        "\n",
        "  Return:\n",
        "    w_0 (cupy array, matriz): matriz dada por \n",
        "          w_0 = \\frac{1}{\\Delta} (B \\Sigma^{-1} \\hat{\\mu}- C\\Sigma^{-1} 1) \n",
        "    w_1 (cupy array, vector): vector dado por \n",
        "         w_1 = \\frac{1}{\\Delta} (C \\Sigma^{-1} \\hat{\\mu}- A\\Sigma^{-1} 1)\n",
        "  '''\n",
        "  # Obtenemos u = Sigma^{-1} \\hat{\\mu}, v = \\Sigma^{-1} 1\n",
        "  u, v = formar_vectores(mu, Sigma)\n",
        "  # Escalares relevantes\n",
        "  A, B, C = formar_abc(mu, Sigma)\n",
        "  Delta = delta(A,B,C)\n",
        "  # Formamos w_0 y w_1\n",
        "  w_0 = (1/Delta)*(r*B-C)\n",
        "  w_1 = (1/Delta)*(A-C*r)\n",
        "\n",
        "  return w_0, w_1"
      ],
      "execution_count": 0,
      "outputs": []
    },
    {
      "cell_type": "markdown",
      "metadata": {
        "id": "FidlJG2Ozhse",
        "colab_type": "text"
      },
      "source": [
        "## 1.1 Valores de prueba"
      ]
    },
    {
      "cell_type": "code",
      "metadata": {
        "id": "54p9YVhfewqJ",
        "colab_type": "code",
        "outputId": "83a80c27-6c71-4220-da94-026f6acc2d4e",
        "colab": {
          "base_uri": "https://localhost:8080/",
          "height": 34
        }
      },
      "source": [
        "n= 10\n",
        "\n",
        "# r y mu\n",
        "r= 10\n",
        "mu=cp.random.rand(n, 1)\n",
        "\n",
        "# Sigma\n",
        "S=cp.random.rand(n, n)\n",
        "Sigma=S@S\n",
        "\n",
        "# multiplicadores de lagrande\n",
        "formar_omegas(r,mu,Sigma)"
      ],
      "execution_count": 6,
      "outputs": [
        {
          "output_type": "execute_result",
          "data": {
            "text/plain": [
              "(array([-0.47434621]), array([3.37222863]))"
            ]
          },
          "metadata": {
            "tags": []
          },
          "execution_count": 6
        }
      ]
    }
  ]
}