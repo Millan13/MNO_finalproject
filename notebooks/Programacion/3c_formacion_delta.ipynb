{
  "nbformat": 4,
  "nbformat_minor": 0,
  "metadata": {
    "colab": {
      "name": "3c_formacion_delta.ipynb",
      "provenance": [],
      "collapsed_sections": []
    },
    "kernelspec": {
      "name": "python3",
      "display_name": "Python 3"
    },
    "accelerator": "GPU"
  },
  "cells": [
    {
      "cell_type": "markdown",
      "metadata": {
        "id": "Cuq9-5YMxZPQ",
        "colab_type": "text"
      },
      "source": [
        "# **3.c Formación de matriz delta**\n",
        "\n",
        "**Responsable:**\n",
        "\n",
        "César Zamora Martínez\n",
        "\n",
        "**Infraestructura usada:** \n",
        "Google Colab, para pruebas\n"
      ]
    },
    {
      "cell_type": "markdown",
      "metadata": {
        "id": "ZwiYf-3Ox3Bp",
        "colab_type": "text"
      },
      "source": [
        "## 0. Importamos librerias necesarias\n",
        "\n",
        "**Fuente:** 3b_formacion_abc.ipynb"
      ]
    },
    {
      "cell_type": "code",
      "metadata": {
        "id": "c4OD-7E_jci0",
        "colab_type": "code",
        "outputId": "01a1f7be-fe8c-48f3-d5cc-5aab516e06aa",
        "colab": {
          "base_uri": "https://localhost:8080/",
          "height": 214
        }
      },
      "source": [
        "!curl https://colab.chainer.org/install | sh -"
      ],
      "execution_count": 14,
      "outputs": [
        {
          "output_type": "stream",
          "text": [
            "  % Total    % Received % Xferd  Average Speed   Time    Time     Time  Current\n",
            "                                 Dload  Upload   Total   Spent    Left  Speed\n",
            "\r  0     0    0     0    0     0      0      0 --:--:-- --:--:-- --:--:--     0\r100  1580  100  1580    0     0   8061      0 --:--:-- --:--:-- --:--:--  8061\n",
            "+ apt -y -q install cuda-libraries-dev-10-0\n",
            "Reading package lists...\n",
            "Building dependency tree...\n",
            "Reading state information...\n",
            "cuda-libraries-dev-10-0 is already the newest version (10.0.130-1).\n",
            "0 upgraded, 0 newly installed, 0 to remove and 25 not upgraded.\n",
            "+ pip install -q cupy-cuda100  chainer \n",
            "+ set +ex\n",
            "Installation succeeded!\n"
          ],
          "name": "stdout"
        }
      ]
    },
    {
      "cell_type": "markdown",
      "metadata": {
        "id": "gYi6APThyLPd",
        "colab_type": "text"
      },
      "source": [
        "## 1. Implementación\n",
        "\n",
        "**Consideraciones:**. Esta etapa supone que se conocen $\\mu$ y $\\Sigma$ asociados a los activos, ello con el objeto de es obtener valores escalares que serán relevantes para obtener los pesos del portafolio para el inversionista. Has este punto se asume que ya conocemos el valor de las expresiones:\n",
        "\n",
        "$$A = \\mu^t \\cdot \\Sigma^{-1} \\cdot \\mu $$\n",
        "\n",
        "$$B = 1^t \\cdot \\Sigma^{-1} \\cdot 1 $$\n",
        "\n",
        "$$C = 1^t \\cdot \\Sigma^{-1} \\cdot \\mu $$\n",
        "\n",
        "Para con ello poder estimar \n",
        "\n",
        "$$ \\Delta = AB - C^2$$\n",
        "\n",
        "En seguida se presenta el código correspondiente:"
      ]
    },
    {
      "cell_type": "code",
      "metadata": {
        "id": "fiWayxHhewhy",
        "colab_type": "code",
        "colab": {}
      },
      "source": [
        "import cupy as cp\n",
        "\n",
        "def delta(A,B,C):\n",
        "  '''\n",
        "  Calcula las cantidad Delta = AB-C^2 del diagrama de flujo del problema de Markowitz\n",
        "\n",
        "  Args:\n",
        "    A (cupy array, escalar): escalar dado por mu^t \\cdot Sigma^-1 \\cdot mu\n",
        "    B (cupy array, escalar): escalar dado por 1^t \\cdot Sigma^-1 \\cdot 1\n",
        "    C (cupy array, escalar): escalar dado por 1^t \\cdot Sigma^-1 \\cdot mu\n",
        "\n",
        "  Return:\n",
        "    Delta (cupy array, escalar): escalar dado \\mu^t \\cdot \\Sigma^{-1} \\cdot \\mu\n",
        "  '''\n",
        "  Delta = A*B*C\n",
        "\n",
        "  return Delta"
      ],
      "execution_count": 0,
      "outputs": []
    },
    {
      "cell_type": "markdown",
      "metadata": {
        "id": "FidlJG2Ozhse",
        "colab_type": "text"
      },
      "source": [
        "## 1.1 Valores de prueba"
      ]
    },
    {
      "cell_type": "code",
      "metadata": {
        "id": "54p9YVhfewqJ",
        "colab_type": "code",
        "colab": {
          "base_uri": "https://localhost:8080/",
          "height": 32
        },
        "outputId": "cf89a627-f438-4c96-84e8-a165874485f1"
      },
      "source": [
        "# Valores ilustrativos, se uniran en el pipeline posterioremente\n",
        "A = cp.array([5.220])\n",
        "B = cp.array([999^2])\n",
        "C = cp.array([12])\n",
        "delta(A,B,C)"
      ],
      "execution_count": 16,
      "outputs": [
        {
          "output_type": "execute_result",
          "data": {
            "text/plain": [
              "array([62452.08])"
            ]
          },
          "metadata": {
            "tags": []
          },
          "execution_count": 16
        }
      ]
    }
  ]
}