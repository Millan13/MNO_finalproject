{
  "nbformat": 4,
  "nbformat_minor": 0,
  "metadata": {
    "colab": {
      "name": "symbolic_gradient_Hessian.ipynb",
      "provenance": [],
      "collapsed_sections": []
    },
    "kernelspec": {
      "name": "python3",
      "display_name": "Python 3"
    },
    "accelerator": "GPU"
  },
  "cells": [
    {
      "cell_type": "code",
      "metadata": {
        "id": "WJ68IWttW2yM",
        "colab_type": "code",
        "colab": {}
      },
      "source": [
        ""
      ],
      "execution_count": 0,
      "outputs": []
    },
    {
      "cell_type": "code",
      "metadata": {
        "id": "7Ed9C33vXAd7",
        "colab_type": "code",
        "outputId": "2bd3392d-a05e-4483-d916-453ed900ee59",
        "colab": {
          "base_uri": "https://localhost:8080/",
          "height": 1000
        }
      },
      "source": [
        "!pip3 install --user cupy-cuda102"
      ],
      "execution_count": 1,
      "outputs": [
        {
          "output_type": "stream",
          "text": [
            "Collecting cupy-cuda102\n",
            "\u001b[?25l  Downloading https://files.pythonhosted.org/packages/96/cb/b7731d08a8564ac6d84540a6077f3e1d79a5e63c9bb6c9667c185cf3f0e9/cupy_cuda102-7.4.0-cp36-cp36m-manylinux1_x86_64.whl (380.4MB)\n",
            "\u001b[K     |█████                           | 60.4MB 34.5MB/s eta 0:00:10\u001b[31mERROR: Exception:\n",
            "Traceback (most recent call last):\n",
            "  File \"/usr/local/lib/python3.6/dist-packages/pip/_vendor/urllib3/response.py\", line 425, in _error_catcher\n",
            "    yield\n",
            "  File \"/usr/local/lib/python3.6/dist-packages/pip/_vendor/urllib3/response.py\", line 507, in read\n",
            "    data = self._fp.read(amt) if not fp_closed else b\"\"\n",
            "  File \"/usr/local/lib/python3.6/dist-packages/pip/_vendor/cachecontrol/filewrapper.py\", line 62, in read\n",
            "    data = self.__fp.read(amt)\n",
            "  File \"/usr/lib/python3.6/http/client.py\", line 459, in read\n",
            "    n = self.readinto(b)\n",
            "  File \"/usr/lib/python3.6/http/client.py\", line 503, in readinto\n",
            "    n = self.fp.readinto(b)\n",
            "  File \"/usr/lib/python3.6/socket.py\", line 586, in readinto\n",
            "    return self._sock.recv_into(b)\n",
            "  File \"/usr/lib/python3.6/ssl.py\", line 1012, in recv_into\n",
            "    return self.read(nbytes, buffer)\n",
            "  File \"/usr/lib/python3.6/ssl.py\", line 874, in read\n",
            "    return self._sslobj.read(len, buffer)\n",
            "  File \"/usr/lib/python3.6/ssl.py\", line 631, in read\n",
            "    v = self._sslobj.read(len, buffer)\n",
            "ConnectionResetError: [Errno 104] Connection reset by peer\n",
            "\n",
            "During handling of the above exception, another exception occurred:\n",
            "\n",
            "Traceback (most recent call last):\n",
            "  File \"/usr/local/lib/python3.6/dist-packages/pip/_internal/cli/base_command.py\", line 153, in _main\n",
            "    status = self.run(options, args)\n",
            "  File \"/usr/local/lib/python3.6/dist-packages/pip/_internal/commands/install.py\", line 382, in run\n",
            "    resolver.resolve(requirement_set)\n",
            "  File \"/usr/local/lib/python3.6/dist-packages/pip/_internal/legacy_resolve.py\", line 201, in resolve\n",
            "    self._resolve_one(requirement_set, req)\n",
            "  File \"/usr/local/lib/python3.6/dist-packages/pip/_internal/legacy_resolve.py\", line 365, in _resolve_one\n",
            "    abstract_dist = self._get_abstract_dist_for(req_to_install)\n",
            "  File \"/usr/local/lib/python3.6/dist-packages/pip/_internal/legacy_resolve.py\", line 313, in _get_abstract_dist_for\n",
            "    req, self.session, self.finder, self.require_hashes\n",
            "  File \"/usr/local/lib/python3.6/dist-packages/pip/_internal/operations/prepare.py\", line 194, in prepare_linked_requirement\n",
            "    progress_bar=self.progress_bar\n",
            "  File \"/usr/local/lib/python3.6/dist-packages/pip/_internal/download.py\", line 465, in unpack_url\n",
            "    progress_bar=progress_bar\n",
            "  File \"/usr/local/lib/python3.6/dist-packages/pip/_internal/download.py\", line 316, in unpack_http_url\n",
            "    progress_bar)\n",
            "  File \"/usr/local/lib/python3.6/dist-packages/pip/_internal/download.py\", line 551, in _download_http_url\n",
            "    _download_url(resp, link, content_file, hashes, progress_bar)\n",
            "  File \"/usr/local/lib/python3.6/dist-packages/pip/_internal/download.py\", line 253, in _download_url\n",
            "    hashes.check_against_chunks(downloaded_chunks)\n",
            "  File \"/usr/local/lib/python3.6/dist-packages/pip/_internal/utils/hashes.py\", line 80, in check_against_chunks\n",
            "    for chunk in chunks:\n",
            "  File \"/usr/local/lib/python3.6/dist-packages/pip/_internal/download.py\", line 223, in written_chunks\n",
            "    for chunk in chunks:\n",
            "  File \"/usr/local/lib/python3.6/dist-packages/pip/_internal/utils/ui.py\", line 160, in iter\n",
            "    for x in it:\n",
            "  File \"/usr/local/lib/python3.6/dist-packages/pip/_internal/download.py\", line 212, in resp_read\n",
            "    decode_content=False):\n",
            "  File \"/usr/local/lib/python3.6/dist-packages/pip/_vendor/urllib3/response.py\", line 564, in stream\n",
            "    data = self.read(amt=amt, decode_content=decode_content)\n",
            "  File \"/usr/local/lib/python3.6/dist-packages/pip/_vendor/urllib3/response.py\", line 529, in read\n",
            "    raise IncompleteRead(self._fp_bytes_read, self.length_remaining)\n",
            "  File \"/usr/lib/python3.6/contextlib.py\", line 99, in __exit__\n",
            "    self.gen.throw(type, value, traceback)\n",
            "  File \"/usr/local/lib/python3.6/dist-packages/pip/_vendor/urllib3/response.py\", line 443, in _error_catcher\n",
            "    raise ProtocolError(\"Connection broken: %r\" % e, e)\n",
            "pip._vendor.urllib3.exceptions.ProtocolError: (\"Connection broken: ConnectionResetError(104, 'Connection reset by peer')\", ConnectionResetError(104, 'Connection reset by peer'))\u001b[0m\n"
          ],
          "name": "stdout"
        }
      ]
    },
    {
      "cell_type": "code",
      "metadata": {
        "id": "iKfcVWNQXAgW",
        "colab_type": "code",
        "colab": {}
      },
      "source": [
        "import cupy as cp\n",
        "import numpy as np"
      ],
      "execution_count": 0,
      "outputs": []
    },
    {
      "cell_type": "code",
      "metadata": {
        "id": "iC647SzWYv7a",
        "colab_type": "code",
        "colab": {}
      },
      "source": [
        ""
      ],
      "execution_count": 0,
      "outputs": []
    },
    {
      "cell_type": "markdown",
      "metadata": {
        "id": "ThRdBreMMzhM",
        "colab_type": "text"
      },
      "source": [
        "Función gradiente:"
      ]
    },
    {
      "cell_type": "code",
      "metadata": {
        "id": "W_Jlxei9ycEk",
        "colab_type": "code",
        "colab": {}
      },
      "source": [
        "def gfo_cp_mark(x):\n",
        "    v = x[0:(x.size-2)]\n",
        "    value1 = x[x.size-2]\n",
        "    value2 = x[x.size-1]\n",
        "    #m,n=Sigma.shape\n",
        "    first_block = Sigma@v -1/2*value1*mu -1/2*value2*unos\n",
        "    second_block = -1/2*(v.dot(mu)-r)\n",
        "    third_block = -1/2*(v.dot(unos)-1)\n",
        "    first_block_np = cp.asnumpy(first_block)\n",
        "    second_block_np = cp.asnumpy(second_block)\n",
        "    third_block_np = cp.asnumpy(third_block)\n",
        "    #es necesario pasar los bloques a numpy para poder hacerles concatenate \n",
        "    return cp.asarray(np.concatenate((first_block_np,np.array([second_block_np]),np.array([third_block_np]))))"
      ],
      "execution_count": 0,
      "outputs": []
    },
    {
      "cell_type": "code",
      "metadata": {
        "id": "zWPq2V3HzH6C",
        "colab_type": "code",
        "outputId": "6c25789d-4340-4f7f-8269-624e19d2e167",
        "colab": {
          "base_uri": "https://localhost:8080/",
          "height": 68
        }
      },
      "source": [
        "Sigma=cp.array([[1, 1, 1],\n",
        "              [1, 1, 2],\n",
        "              [1, 2, 1]],dtype=float)\n",
        "Sigma"
      ],
      "execution_count": 0,
      "outputs": [
        {
          "output_type": "execute_result",
          "data": {
            "text/plain": [
              "array([[1., 1., 1.],\n",
              "       [1., 1., 2.],\n",
              "       [1., 2., 1.]])"
            ]
          },
          "metadata": {
            "tags": []
          },
          "execution_count": 5
        }
      ]
    },
    {
      "cell_type": "code",
      "metadata": {
        "id": "90D2GhlizH9E",
        "colab_type": "code",
        "colab": {}
      },
      "source": [
        "x = cp.array([1,1,1,1,1]) #vector de n+3\n",
        "mu = cp.array([2,2,2]) #vector de n\n",
        "unos = cp.array([1,1,1]) #vector de n y puros 1's\n",
        "r = 2 #escalar"
      ],
      "execution_count": 0,
      "outputs": []
    },
    {
      "cell_type": "code",
      "metadata": {
        "id": "RohDHZGEzv8Z",
        "colab_type": "code",
        "outputId": "ee29ef62-0386-423a-af68-e603e03c7a0e",
        "colab": {
          "base_uri": "https://localhost:8080/",
          "height": 34
        }
      },
      "source": [
        "gfo_cp_mark(x)"
      ],
      "execution_count": 0,
      "outputs": [
        {
          "output_type": "execute_result",
          "data": {
            "text/plain": [
              "array([ 1.5,  2.5,  2.5, -2. , -1. ])"
            ]
          },
          "metadata": {
            "tags": []
          },
          "execution_count": 7
        }
      ]
    },
    {
      "cell_type": "markdown",
      "metadata": {
        "id": "mtJOSSsg0ilw",
        "colab_type": "text"
      },
      "source": [
        "Función Hessiana:"
      ]
    },
    {
      "cell_type": "code",
      "metadata": {
        "id": "u1GseL4gxhDr",
        "colab_type": "code",
        "colab": {}
      },
      "source": [
        "def Hfo_cp_mark(x):\n",
        "    v = x[0:(x.size-2)]\n",
        "    value1 = x[x.size-2]\n",
        "    value2 = x[x.size-1]\n",
        "    m,n=Sigma.shape\n",
        "    first_block = Sigma \n",
        "    second_block = -1/2*mu\n",
        "    third_block = -1/2*unos\n",
        "    fs_block = cp.column_stack((first_block, second_block, third_block))\n",
        "    fourth_block = -1/2*mu\n",
        "    fifth_block = -1/2*unos\n",
        "    sixth_block = cp.zeros((2,2))\n",
        "    #es necesario pasar los bloques a numpy para poder hacerles concatenate y row_stack\n",
        "    tf_block = np.column_stack(( np.row_stack((cp.asnumpy(fourth_block),cp.asnumpy(fifth_block))),cp.asnumpy(sixth_block)))\n",
        "    return cp.asarray(np.row_stack((cp.asnumpy(fs_block), tf_block)))"
      ],
      "execution_count": 0,
      "outputs": []
    },
    {
      "cell_type": "code",
      "metadata": {
        "id": "iR271ZR1IXxf",
        "colab_type": "code",
        "outputId": "a05927ed-bf35-419d-f8be-f49a9540b2c7",
        "colab": {
          "base_uri": "https://localhost:8080/",
          "height": 102
        }
      },
      "source": [
        "Hfo_cp_mark(x)"
      ],
      "execution_count": 0,
      "outputs": [
        {
          "output_type": "execute_result",
          "data": {
            "text/plain": [
              "array([[ 1. ,  1. ,  1. , -1. , -0.5],\n",
              "       [ 1. ,  1. ,  2. , -1. , -0.5],\n",
              "       [ 1. ,  2. ,  1. , -1. , -0.5],\n",
              "       [-1. , -1. , -1. ,  0. ,  0. ],\n",
              "       [-0.5, -0.5, -0.5,  0. ,  0. ]])"
            ]
          },
          "metadata": {
            "tags": []
          },
          "execution_count": 9
        }
      ]
    },
    {
      "cell_type": "code",
      "metadata": {
        "id": "Hdh44Ij7-fUA",
        "colab_type": "code",
        "colab": {
          "base_uri": "https://localhost:8080/",
          "height": 71
        },
        "outputId": "da01ed1a-e40d-4694-bab6-0f383ec46b12"
      },
      "source": [
        "import pandas as pd\n",
        "import fix_yahoo_finance as yf\n",
        "import datetime\n",
        "import matplotlib.pyplot as plt\n",
        "import seaborn as sns\n",
        "import time"
      ],
      "execution_count": 5,
      "outputs": [
        {
          "output_type": "stream",
          "text": [
            "/usr/local/lib/python3.6/dist-packages/statsmodels/tools/_testing.py:19: FutureWarning: pandas.util.testing is deprecated. Use the functions in the public API at pandas.testing instead.\n",
            "  import pandas.util.testing as tm\n"
          ],
          "name": "stderr"
        }
      ]
    },
    {
      "cell_type": "code",
      "metadata": {
        "id": "sWg7RR8Kaevq",
        "colab_type": "code",
        "colab": {}
      },
      "source": [
        "stocks = ['COP','AMT','LIN','LMT','AMZN','WMT','JNJ','VTI','MSFT','GOOG','XOM','CCI','BHP.AX','UNP',\n",
        "'BABA','NSRGY','RHHBY','VOO','AAPL','FB','CVX','PLD','RIO.L','HON','HD','PG','UNH','BRK-A','V','0700.HK',\n",
        "'RDSA.AS','0688.HK','AI.PA','RTX','MC.PA','KO','PFE','JPM','005930.KS','VZ','RELIANCE.NS','DLR','2010.SR',\n",
        "'UPS','7203.T','PEP','MRK','1398.HK','MA','T']"
      ],
      "execution_count": 0,
      "outputs": []
    },
    {
      "cell_type": "code",
      "metadata": {
        "id": "hxDtPdJOai1r",
        "colab_type": "code",
        "colab": {}
      },
      "source": [
        "\n",
        "def extraer_datos_yahoo(stocks, start='2015-01-01', end='2020-04-30'):\n",
        "    '''\n",
        "    Descarga la información de precios de acciones al cierre para un periodo determinado\n",
        "    Inputs:\n",
        "        stocks - lista de acciones a descargar, las 50 especificadas previamente\n",
        "        'COP','AMT','LIN','LMT','AMZN','WMT','JNJ','VTI','MSFT','GOOG','XOM','CCI','BHP.AX','UNP',\n",
        "        'BABA','NSRGY','RHHBY','VOO','AAPL','FB','CVX','PLD','RIO.L','HON','HD','PG','UNH','BRK-A','V','0700.HK',\n",
        "        'RDSA.AS','0688.HK','AI.PA','RTX','MC.PA','KO','PFE','JPM','005930.KS','VZ','RELIANCE.NS','DLR','2010.SR',\n",
        "        'UPS','7203.T','PEP','MRK','1398.HK','MA','T'\n",
        "        start - fecha inicio a partir de la cual se requieren los precios de las acciones, formato 'YYYY-MM-DD'\n",
        "        end - fecha final hasta donde se requieren los precios de las acciones, formato 'YYYY-MM-DD'\n",
        "    Output:\n",
        "        datos - dataframe con 50 columnas, una por acción, tantos renglones como días hábiles del periodo\n",
        "        solicitado (1340 en el caso de las fechas default), cada celda es el precio de una acción al cierre, \n",
        "        de un día específico\n",
        "    '''\n",
        "    df_c = yf.download(stocks, start, end).Close\n",
        "    base = df_c['AAPL'].dropna().to_frame()\n",
        "    for i in range(0,50):\n",
        "        base = base.join(df_c.iloc[:,i].to_frame(), lsuffix='_caller', rsuffix='_other')\n",
        "    base = base.drop(columns=['AAPL_caller'])\n",
        "    base = base.rename(columns={\"AAPL_other\": \"AAPL\"})\n",
        "    base = base.fillna(method='ffill')\n",
        "    base = base.fillna(method='bfill')\n",
        "    return base"
      ],
      "execution_count": 0,
      "outputs": []
    },
    {
      "cell_type": "code",
      "metadata": {
        "id": "bw3bZoG7alIA",
        "colab_type": "code",
        "colab": {
          "base_uri": "https://localhost:8080/",
          "height": 34
        },
        "outputId": "adec567d-4a57-442a-c4a7-394977443bc6"
      },
      "source": [
        "datos = extraer_datos_yahoo(stocks)"
      ],
      "execution_count": 9,
      "outputs": [
        {
          "output_type": "stream",
          "text": [
            "[*********************100%***********************]  50 of 50 downloaded\n"
          ],
          "name": "stdout"
        }
      ]
    },
    {
      "cell_type": "code",
      "metadata": {
        "id": "e75za7raaxUj",
        "colab_type": "code",
        "colab": {}
      },
      "source": [
        "def calcular_rendimiento_vector(x):\n",
        "  \"\"\"\n",
        "  Función para calcular el rendimiento esperado\n",
        "\n",
        "  params:\n",
        "      x     vector de precios\n",
        "  \n",
        "  return:\n",
        "      r_est rendimiento esperado diario\n",
        "  \"\"\"\n",
        "\n",
        "  # Definimos precios iniciales y finales como arreglo alojado en la gpu\n",
        "  x_o = cp.asarray(x)\n",
        "  x_f = x_o[1:]\n",
        "\n",
        "  # Calculamos los rendimientos diarios\n",
        "  r = cp.log(x_f/x_o[:-1])\n",
        "\n",
        "  return r"
      ],
      "execution_count": 0,
      "outputs": []
    },
    {
      "cell_type": "code",
      "metadata": {
        "id": "pnNK41Z2a0oz",
        "colab_type": "code",
        "colab": {}
      },
      "source": [
        "def calcular_rendimiento(X):\n",
        "  \"\"\"\n",
        "  Función para calcular el rendimiento esperado para un conjunto de acciones\n",
        "\n",
        "  params:\n",
        "      X      matriz mxn de precios, donde:\n",
        "             m es el número de observaciones y\n",
        "             n el número de acciones\n",
        "  \n",
        "  return:\n",
        "      r_est rvector de rendimientos esperados\n",
        "  \"\"\"\n",
        "  m,n = X.shape\n",
        "  r_est = cp.zeros(n)\n",
        "  X = cp.asarray(X)\n",
        "\n",
        "  for i in range(n):\n",
        "    r_est[i] = calcular_rendimiento_vector(X[:,i]).mean()\n",
        "\n",
        "  return 264*r_est"
      ],
      "execution_count": 0,
      "outputs": []
    },
    {
      "cell_type": "code",
      "metadata": {
        "id": "nlpYSeCGa2jv",
        "colab_type": "code",
        "colab": {}
      },
      "source": [
        "def calcular_varianza(X):\n",
        "\n",
        "  \"\"\"\n",
        "  Función para calcular el la matriz de varianzas y covarianzas para un conjunto de acciones\n",
        "\n",
        "  params:\n",
        "      X      matriz mxn de precios, donde:\n",
        "             m es el número de observaciones y\n",
        "               n el número de acciones\n",
        "  \n",
        "  return:\n",
        "      S  matriz de varianzas y covarianzas\n",
        "  \"\"\"\n",
        "  m,n=X.shape\n",
        "  X = cp.asarray(X)\n",
        "\n",
        "  X_m = cp.zeros((m-1,n))\n",
        "\n",
        "  for i in range(n):\n",
        "    X_m[:,i] = calcular_rendimiento_vector(X[:,i]) - calcular_rendimiento_vector(X[:,i]).mean()\n",
        "\n",
        "  S = (cp.transpose(X_m)@X_m)/(m-2)\n",
        "\n",
        "  return S"
      ],
      "execution_count": 0,
      "outputs": []
    },
    {
      "cell_type": "code",
      "metadata": {
        "id": "ObdBEkyCa4JS",
        "colab_type": "code",
        "colab": {}
      },
      "source": [
        "Sigma = calcular_varianza(datos)\n",
        "Sigma.shape"
      ],
      "execution_count": 0,
      "outputs": []
    },
    {
      "cell_type": "code",
      "metadata": {
        "id": "D7xujMsNa6mt",
        "colab_type": "code",
        "colab": {}
      },
      "source": [
        "mu = calcular_rendimiento(datos)"
      ],
      "execution_count": 0,
      "outputs": []
    },
    {
      "cell_type": "code",
      "metadata": {
        "id": "iwBIJyx9a82F",
        "colab_type": "code",
        "colab": {
          "base_uri": "https://localhost:8080/",
          "height": 34
        },
        "outputId": "9a360a60-bb27-446b-f758-92853db58e63"
      },
      "source": [
        "mu = cp.array(mu)\n",
        "mu.shape"
      ],
      "execution_count": 18,
      "outputs": [
        {
          "output_type": "execute_result",
          "data": {
            "text/plain": [
              "(50,)"
            ]
          },
          "metadata": {
            "tags": []
          },
          "execution_count": 18
        }
      ]
    },
    {
      "cell_type": "code",
      "metadata": {
        "id": "FYHafisNa-ZK",
        "colab_type": "code",
        "colab": {
          "base_uri": "https://localhost:8080/",
          "height": 34
        },
        "outputId": "295494ce-1581-4250-bed2-978928629f3d"
      },
      "source": [
        "r=max(mu)\n",
        "r=0.40221088\n",
        "r"
      ],
      "execution_count": 25,
      "outputs": [
        {
          "output_type": "execute_result",
          "data": {
            "text/plain": [
              "0.40221088"
            ]
          },
          "metadata": {
            "tags": []
          },
          "execution_count": 25
        }
      ]
    },
    {
      "cell_type": "code",
      "metadata": {
        "id": "Wyohysmfa_7A",
        "colab_type": "code",
        "colab": {
          "base_uri": "https://localhost:8080/",
          "height": 34
        },
        "outputId": "33fd5ae7-9386-4758-f458-b33175d8bbeb"
      },
      "source": [
        "unos = cp.ones(50)\n",
        "unos.shape"
      ],
      "execution_count": 27,
      "outputs": [
        {
          "output_type": "execute_result",
          "data": {
            "text/plain": [
              "(50,)"
            ]
          },
          "metadata": {
            "tags": []
          },
          "execution_count": 27
        }
      ]
    },
    {
      "cell_type": "code",
      "metadata": {
        "id": "ERGC9v6BbrVg",
        "colab_type": "code",
        "colab": {
          "base_uri": "https://localhost:8080/",
          "height": 34
        },
        "outputId": "83407199-ae2a-40a6-cc16-f69ad984641c"
      },
      "source": [
        "x = cp.ones(52)\n",
        "x.shape"
      ],
      "execution_count": 29,
      "outputs": [
        {
          "output_type": "execute_result",
          "data": {
            "text/plain": [
              "(52,)"
            ]
          },
          "metadata": {
            "tags": []
          },
          "execution_count": 29
        }
      ]
    },
    {
      "cell_type": "code",
      "metadata": {
        "id": "ngIxkU-abBzl",
        "colab_type": "code",
        "colab": {
          "base_uri": "https://localhost:8080/",
          "height": 238
        },
        "outputId": "25041508-dce8-46e5-c792-e2c159782cfc"
      },
      "source": [
        "gfo_cp_mark(x)"
      ],
      "execution_count": 30,
      "outputs": [
        {
          "output_type": "execute_result",
          "data": {
            "text/plain": [
              "array([ -0.56489031,  -0.51094653,  -0.62568983,  -0.48869763,\n",
              "        -0.48725189,  -0.48645027,  -0.58909593,  -0.52489344,\n",
              "        -0.58032885,  -0.69596113,  -0.56266628,  -0.50822487,\n",
              "        -0.51901312,  -0.56150438,  -0.44357667,  -0.47575399,\n",
              "        -0.57480599,  -0.58346318,  -0.58707119,  -0.56936279,\n",
              "        -0.53612875,  -0.53183594,  -0.53730344,  -0.50715988,\n",
              "        -0.53145131,  -0.56398567,  -0.6112259 ,  -0.59477978,\n",
              "        -0.52978029,  -0.62486999,  -0.53381256,  -0.52965459,\n",
              "        -0.51519646,  -0.52165578,  -0.56635966,  -0.44782214,\n",
              "        -0.61232527,  -0.5214163 ,  -0.52280191,  -0.48755955,\n",
              "        -0.48839179,  -0.59750302,  -0.52535259,  -0.48178293,\n",
              "        -0.59311914,  -0.52973298,  -0.52731279,  -0.51792737,\n",
              "        -0.53262563,  -0.4281568 ,  -2.02592154, -24.5       ])"
            ]
          },
          "metadata": {
            "tags": []
          },
          "execution_count": 30
        }
      ]
    },
    {
      "cell_type": "code",
      "metadata": {
        "id": "X9d15YPsbv6S",
        "colab_type": "code",
        "colab": {
          "base_uri": "https://localhost:8080/",
          "height": 238
        },
        "outputId": "62f73c3b-7646-4339-ffc6-7606db69d0e1"
      },
      "source": [
        "Hfo_cp_mark(x)"
      ],
      "execution_count": 31,
      "outputs": [
        {
          "output_type": "execute_result",
          "data": {
            "text/plain": [
              "array([[ 2.54562313e-04,  7.81068998e-05,  8.97849434e-05, ...,\n",
              "         1.78522132e-05, -6.62714658e-02, -5.00000000e-01],\n",
              "       [ 7.81068998e-05,  3.88083420e-04,  1.95027419e-04, ...,\n",
              "         5.17689344e-05, -1.39147755e-02, -5.00000000e-01],\n",
              "       [ 8.97849434e-05,  1.95027419e-04,  3.30223638e-04, ...,\n",
              "         5.41562303e-05, -1.28891726e-01, -5.00000000e-01],\n",
              "       ...,\n",
              "       [ 1.78522132e-05,  5.17689344e-05,  5.41562303e-05, ...,\n",
              "         2.47012209e-04,  6.61363036e-02, -5.00000000e-01],\n",
              "       [-6.62714658e-02, -1.39147755e-02, -1.28891726e-01, ...,\n",
              "         6.61363036e-02,  0.00000000e+00,  0.00000000e+00],\n",
              "       [-5.00000000e-01, -5.00000000e-01, -5.00000000e-01, ...,\n",
              "        -5.00000000e-01,  0.00000000e+00,  0.00000000e+00]])"
            ]
          },
          "metadata": {
            "tags": []
          },
          "execution_count": 31
        }
      ]
    },
    {
      "cell_type": "code",
      "metadata": {
        "id": "7U5GCl3Qb2d1",
        "colab_type": "code",
        "colab": {}
      },
      "source": [
        ""
      ],
      "execution_count": 0,
      "outputs": []
    }
  ]
}