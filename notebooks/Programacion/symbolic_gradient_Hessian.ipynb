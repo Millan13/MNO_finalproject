{
  "nbformat": 4,
  "nbformat_minor": 0,
  "metadata": {
    "colab": {
      "name": "symbolic_gradient_Hessian.ipynb",
      "provenance": [],
      "collapsed_sections": []
    },
    "kernelspec": {
      "name": "python3",
      "display_name": "Python 3"
    },
    "accelerator": "GPU"
  },
  "cells": [
    {
      "cell_type": "code",
      "metadata": {
        "id": "WJ68IWttW2yM",
        "colab_type": "code",
        "colab": {}
      },
      "source": [
        ""
      ],
      "execution_count": 0,
      "outputs": []
    },
    {
      "cell_type": "code",
      "metadata": {
        "id": "7Ed9C33vXAd7",
        "colab_type": "code",
        "colab": {
          "base_uri": "https://localhost:8080/",
          "height": 173
        },
        "outputId": "967ee163-9055-4b77-adfa-4f4ebd281fe6"
      },
      "source": [
        "!pip3 install --user cupy-cuda102"
      ],
      "execution_count": 1,
      "outputs": [
        {
          "output_type": "stream",
          "text": [
            "Collecting cupy-cuda102\n",
            "\u001b[?25l  Downloading https://files.pythonhosted.org/packages/96/cb/b7731d08a8564ac6d84540a6077f3e1d79a5e63c9bb6c9667c185cf3f0e9/cupy_cuda102-7.4.0-cp36-cp36m-manylinux1_x86_64.whl (380.4MB)\n",
            "\u001b[K     |████████████████████████████████| 380.4MB 40kB/s \n",
            "\u001b[?25hRequirement already satisfied: fastrlock>=0.3 in /usr/local/lib/python3.6/dist-packages (from cupy-cuda102) (0.4)\n",
            "Requirement already satisfied: numpy>=1.9.0 in /usr/local/lib/python3.6/dist-packages (from cupy-cuda102) (1.18.4)\n",
            "Requirement already satisfied: six>=1.9.0 in /usr/local/lib/python3.6/dist-packages (from cupy-cuda102) (1.12.0)\n",
            "Installing collected packages: cupy-cuda102\n",
            "Successfully installed cupy-cuda102-7.4.0\n"
          ],
          "name": "stdout"
        }
      ]
    },
    {
      "cell_type": "code",
      "metadata": {
        "id": "iKfcVWNQXAgW",
        "colab_type": "code",
        "colab": {}
      },
      "source": [
        "import cupy as cp\n",
        "import numpy as np"
      ],
      "execution_count": 0,
      "outputs": []
    },
    {
      "cell_type": "code",
      "metadata": {
        "id": "iC647SzWYv7a",
        "colab_type": "code",
        "colab": {}
      },
      "source": [
        ""
      ],
      "execution_count": 0,
      "outputs": []
    },
    {
      "cell_type": "markdown",
      "metadata": {
        "id": "ThRdBreMMzhM",
        "colab_type": "text"
      },
      "source": [
        "Función gradiente:"
      ]
    },
    {
      "cell_type": "code",
      "metadata": {
        "id": "W_Jlxei9ycEk",
        "colab_type": "code",
        "colab": {}
      },
      "source": [
        "def gfo_cp_mark(x):\n",
        "    v = x[0:(x.size-2)]\n",
        "    value1 = x[x.size-2]\n",
        "    value2 = x[x.size-1]\n",
        "    #m,n=Sigma.shape\n",
        "    first_block = Sigma@v -1/2*value1*mu -1/2*value2*unos\n",
        "    second_block = -1/2*(v.dot(mu)-r)\n",
        "    third_block = -1/2*(v.dot(unos)-1)\n",
        "    first_block_np = cp.asnumpy(first_block)\n",
        "    second_block_np = cp.asnumpy(second_block)\n",
        "    third_block_np = cp.asnumpy(third_block)\n",
        "    #es necesario pasar los bloques a numpy para poder hacerles concatenate \n",
        "    return cp.asarray(np.concatenate((first_block_np,np.array([second_block_np]),np.array([third_block_np]))))"
      ],
      "execution_count": 0,
      "outputs": []
    },
    {
      "cell_type": "code",
      "metadata": {
        "id": "zWPq2V3HzH6C",
        "colab_type": "code",
        "colab": {
          "base_uri": "https://localhost:8080/",
          "height": 68
        },
        "outputId": "6c25789d-4340-4f7f-8269-624e19d2e167"
      },
      "source": [
        "Sigma=cp.array([[1, 1, 1],\n",
        "              [1, 1, 2],\n",
        "              [1, 2, 1]],dtype=float)\n",
        "Sigma"
      ],
      "execution_count": 5,
      "outputs": [
        {
          "output_type": "execute_result",
          "data": {
            "text/plain": [
              "array([[1., 1., 1.],\n",
              "       [1., 1., 2.],\n",
              "       [1., 2., 1.]])"
            ]
          },
          "metadata": {
            "tags": []
          },
          "execution_count": 5
        }
      ]
    },
    {
      "cell_type": "code",
      "metadata": {
        "id": "90D2GhlizH9E",
        "colab_type": "code",
        "colab": {}
      },
      "source": [
        "x = cp.array([1,1,1,1,1]) #vector de n+3\n",
        "mu = cp.array([2,2,2]) #vector de n\n",
        "unos = cp.array([1,1,1]) #vector de n y puros 1's\n",
        "r = 2 #escalar"
      ],
      "execution_count": 0,
      "outputs": []
    },
    {
      "cell_type": "code",
      "metadata": {
        "id": "RohDHZGEzv8Z",
        "colab_type": "code",
        "colab": {
          "base_uri": "https://localhost:8080/",
          "height": 34
        },
        "outputId": "ee29ef62-0386-423a-af68-e603e03c7a0e"
      },
      "source": [
        "gfo_cp_mark(x)"
      ],
      "execution_count": 7,
      "outputs": [
        {
          "output_type": "execute_result",
          "data": {
            "text/plain": [
              "array([ 1.5,  2.5,  2.5, -2. , -1. ])"
            ]
          },
          "metadata": {
            "tags": []
          },
          "execution_count": 7
        }
      ]
    },
    {
      "cell_type": "markdown",
      "metadata": {
        "id": "mtJOSSsg0ilw",
        "colab_type": "text"
      },
      "source": [
        "Función Hessiana:"
      ]
    },
    {
      "cell_type": "code",
      "metadata": {
        "id": "u1GseL4gxhDr",
        "colab_type": "code",
        "colab": {}
      },
      "source": [
        "def Hfo_cp_mark(x):\n",
        "    v = x[0:(x.size-2)]\n",
        "    value1 = x[x.size-2]\n",
        "    value2 = x[x.size-1]\n",
        "    m,n=Sigma.shape\n",
        "    first_block = Sigma \n",
        "    second_block = -1/2*mu\n",
        "    third_block = -1/2*unos\n",
        "    fs_block = cp.column_stack((first_block, second_block, third_block))\n",
        "    fourth_block = -1/2*mu\n",
        "    fifth_block = -1/2*unos\n",
        "    sixth_block = cp.zeros((2,2))\n",
        "    #es necesario pasar los bloques a numpy para poder hacerles concatenate y row_stack\n",
        "    tf_block = np.column_stack(( np.row_stack((cp.asnumpy(fourth_block),cp.asnumpy(fifth_block))),cp.asnumpy(sixth_block)))\n",
        "    return cp.asarray(np.row_stack((cp.asnumpy(fs_block), tf_block)))"
      ],
      "execution_count": 0,
      "outputs": []
    },
    {
      "cell_type": "code",
      "metadata": {
        "id": "iR271ZR1IXxf",
        "colab_type": "code",
        "colab": {
          "base_uri": "https://localhost:8080/",
          "height": 102
        },
        "outputId": "a05927ed-bf35-419d-f8be-f49a9540b2c7"
      },
      "source": [
        "Hfo_cp_mark(x)"
      ],
      "execution_count": 9,
      "outputs": [
        {
          "output_type": "execute_result",
          "data": {
            "text/plain": [
              "array([[ 1. ,  1. ,  1. , -1. , -0.5],\n",
              "       [ 1. ,  1. ,  2. , -1. , -0.5],\n",
              "       [ 1. ,  2. ,  1. , -1. , -0.5],\n",
              "       [-1. , -1. , -1. ,  0. ,  0. ],\n",
              "       [-0.5, -0.5, -0.5,  0. ,  0. ]])"
            ]
          },
          "metadata": {
            "tags": []
          },
          "execution_count": 9
        }
      ]
    },
    {
      "cell_type": "code",
      "metadata": {
        "id": "Hdh44Ij7-fUA",
        "colab_type": "code",
        "colab": {}
      },
      "source": [
        ""
      ],
      "execution_count": 0,
      "outputs": []
    }
  ]
}