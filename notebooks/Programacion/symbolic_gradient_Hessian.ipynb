{
 "cells": [
  {
   "cell_type": "code",
   "execution_count": 0,
   "metadata": {
    "colab": {},
    "colab_type": "code",
    "id": "WJ68IWttW2yM"
   },
   "outputs": [],
   "source": []
  },
  {
   "cell_type": "code",
   "execution_count": 1,
   "metadata": {
    "colab": {
     "base_uri": "https://localhost:8080/",
     "height": 1000
    },
    "colab_type": "code",
    "id": "7Ed9C33vXAd7",
    "outputId": "2bd3392d-a05e-4483-d916-453ed900ee59"
   },
   "outputs": [],
   "source": [
    "#!pip3 install --user cupy-cuda102"
   ]
  },
  {
   "cell_type": "code",
   "execution_count": 0,
   "metadata": {
    "colab": {},
    "colab_type": "code",
    "id": "iKfcVWNQXAgW"
   },
   "outputs": [],
   "source": [
    "import cupy as cp\n",
    "import numpy as np"
   ]
  },
  {
   "cell_type": "markdown",
   "metadata": {
    "colab_type": "text",
    "id": "ThRdBreMMzhM"
   },
   "source": [
    "Función gradiente:"
   ]
  },
  {
   "cell_type": "code",
   "execution_count": 0,
   "metadata": {
    "colab": {},
    "colab_type": "code",
    "id": "W_Jlxei9ycEk"
   },
   "outputs": [],
   "source": [
    "def gfo_cp_mark(Sigma,x):\n",
    "    '''\n",
    "    gradiente de la función objetivo 1/2*x.t*Sigma*x\n",
    "    input: matriz Sigma y vector x\n",
    "    output: producto matriz-vector Sigma*x\n",
    "    '''\n",
    "    first_block = Sigma@x\n",
    "    return first_block"
   ]
  },
  {
   "cell_type": "markdown",
   "metadata": {
    "colab_type": "text",
    "id": "mtJOSSsg0ilw"
   },
   "source": [
    "Función Hessiana:"
   ]
  },
  {
   "cell_type": "code",
   "execution_count": 0,
   "metadata": {
    "colab": {},
    "colab_type": "code",
    "id": "u1GseL4gxhDr"
   },
   "outputs": [],
   "source": [
    "def Hfo_cp_mark(Sigma):\n",
    "    '''\n",
    "    Hessiana de la función objetivo 1/2*x.t*Sigma*x\n",
    "    input: matriz Sigma\n",
    "    output: matriz Sigma\n",
    "    '''\n",
    "    first_block = Sigma \n",
    "    return first_block"
   ]
  },
  {
   "cell_type": "code",
   "execution_count": 5,
   "metadata": {
    "colab": {
     "base_uri": "https://localhost:8080/",
     "height": 71
    },
    "colab_type": "code",
    "id": "Hdh44Ij7-fUA",
    "outputId": "da01ed1a-e40d-4694-bab6-0f383ec46b12"
   },
   "outputs": [
    {
     "name": "stderr",
     "output_type": "stream",
     "text": [
      "/usr/local/lib/python3.6/dist-packages/statsmodels/tools/_testing.py:19: FutureWarning: pandas.util.testing is deprecated. Use the functions in the public API at pandas.testing instead.\n",
      "  import pandas.util.testing as tm\n"
     ]
    }
   ],
   "source": [
    "import pandas as pd\n",
    "import fix_yahoo_finance as yf\n",
    "import datetime\n",
    "import matplotlib.pyplot as plt\n",
    "import seaborn as sns\n",
    "import time"
   ]
  },
  {
   "cell_type": "code",
   "execution_count": 0,
   "metadata": {
    "colab": {},
    "colab_type": "code",
    "id": "sWg7RR8Kaevq"
   },
   "outputs": [],
   "source": [
    "stocks = ['COP','AMT','LIN','LMT','AMZN','WMT','JNJ','VTI','MSFT','GOOG','XOM','CCI','BHP.AX','UNP',\n",
    "'BABA','NSRGY','RHHBY','VOO','AAPL','FB','CVX','PLD','RIO.L','HON','HD','PG','UNH','BRK-A','V','0700.HK',\n",
    "'RDSA.AS','0688.HK','AI.PA','RTX','MC.PA','KO','PFE','JPM','005930.KS','VZ','RELIANCE.NS','DLR','2010.SR',\n",
    "'UPS','7203.T','PEP','MRK','1398.HK','MA','T']"
   ]
  },
  {
   "cell_type": "code",
   "execution_count": 0,
   "metadata": {
    "colab": {},
    "colab_type": "code",
    "id": "hxDtPdJOai1r"
   },
   "outputs": [],
   "source": [
    "\n",
    "def extraer_datos_yahoo(stocks, start='2015-01-01', end='2020-04-30'):\n",
    "    '''\n",
    "    Descarga la información de precios de acciones al cierre para un periodo determinado\n",
    "    Inputs:\n",
    "        stocks - lista de acciones a descargar, las 50 especificadas previamente\n",
    "        'COP','AMT','LIN','LMT','AMZN','WMT','JNJ','VTI','MSFT','GOOG','XOM','CCI','BHP.AX','UNP',\n",
    "        'BABA','NSRGY','RHHBY','VOO','AAPL','FB','CVX','PLD','RIO.L','HON','HD','PG','UNH','BRK-A','V','0700.HK',\n",
    "        'RDSA.AS','0688.HK','AI.PA','RTX','MC.PA','KO','PFE','JPM','005930.KS','VZ','RELIANCE.NS','DLR','2010.SR',\n",
    "        'UPS','7203.T','PEP','MRK','1398.HK','MA','T'\n",
    "        start - fecha inicio a partir de la cual se requieren los precios de las acciones, formato 'YYYY-MM-DD'\n",
    "        end - fecha final hasta donde se requieren los precios de las acciones, formato 'YYYY-MM-DD'\n",
    "    Output:\n",
    "        datos - dataframe con 50 columnas, una por acción, tantos renglones como días hábiles del periodo\n",
    "        solicitado (1340 en el caso de las fechas default), cada celda es el precio de una acción al cierre, \n",
    "        de un día específico\n",
    "    '''\n",
    "    df_c = yf.download(stocks, start, end).Close\n",
    "    base = df_c['AAPL'].dropna().to_frame()\n",
    "    for i in range(0,50):\n",
    "        base = base.join(df_c.iloc[:,i].to_frame(), lsuffix='_caller', rsuffix='_other')\n",
    "    base = base.drop(columns=['AAPL_caller'])\n",
    "    base = base.rename(columns={\"AAPL_other\": \"AAPL\"})\n",
    "    base = base.fillna(method='ffill')\n",
    "    base = base.fillna(method='bfill')\n",
    "    return base"
   ]
  },
  {
   "cell_type": "code",
   "execution_count": 9,
   "metadata": {
    "colab": {
     "base_uri": "https://localhost:8080/",
     "height": 34
    },
    "colab_type": "code",
    "id": "bw3bZoG7alIA",
    "outputId": "adec567d-4a57-442a-c4a7-394977443bc6"
   },
   "outputs": [
    {
     "name": "stdout",
     "output_type": "stream",
     "text": [
      "[*********************100%***********************]  50 of 50 downloaded\n"
     ]
    }
   ],
   "source": [
    "datos = extraer_datos_yahoo(stocks)"
   ]
  },
  {
   "cell_type": "code",
   "execution_count": 0,
   "metadata": {
    "colab": {},
    "colab_type": "code",
    "id": "e75za7raaxUj"
   },
   "outputs": [],
   "source": [
    "def calcular_rendimiento_vector(x):\n",
    "  \"\"\"\n",
    "  Función para calcular el rendimiento esperado\n",
    "\n",
    "  params:\n",
    "      x     vector de precios\n",
    "  \n",
    "  return:\n",
    "      r_est rendimiento esperado diario\n",
    "  \"\"\"\n",
    "\n",
    "  # Definimos precios iniciales y finales como arreglo alojado en la gpu\n",
    "  x_o = cp.asarray(x)\n",
    "  x_f = x_o[1:]\n",
    "\n",
    "  # Calculamos los rendimientos diarios\n",
    "  r = cp.log(x_f/x_o[:-1])\n",
    "\n",
    "  return r"
   ]
  },
  {
   "cell_type": "code",
   "execution_count": 0,
   "metadata": {
    "colab": {},
    "colab_type": "code",
    "id": "pnNK41Z2a0oz"
   },
   "outputs": [],
   "source": [
    "def calcular_rendimiento(X):\n",
    "  \"\"\"\n",
    "  Función para calcular el rendimiento esperado para un conjunto de acciones\n",
    "\n",
    "  params:\n",
    "      X      matriz mxn de precios, donde:\n",
    "             m es el número de observaciones y\n",
    "             n el número de acciones\n",
    "  \n",
    "  return:\n",
    "      r_est rvector de rendimientos esperados\n",
    "  \"\"\"\n",
    "  m,n = X.shape\n",
    "  r_est = cp.zeros(n)\n",
    "  X = cp.asarray(X)\n",
    "\n",
    "  for i in range(n):\n",
    "    r_est[i] = calcular_rendimiento_vector(X[:,i]).mean()\n",
    "\n",
    "  return 264*r_est"
   ]
  },
  {
   "cell_type": "code",
   "execution_count": 0,
   "metadata": {
    "colab": {},
    "colab_type": "code",
    "id": "nlpYSeCGa2jv"
   },
   "outputs": [],
   "source": [
    "def calcular_varianza(X):\n",
    "\n",
    "  \"\"\"\n",
    "  Función para calcular el la matriz de varianzas y covarianzas para un conjunto de acciones\n",
    "\n",
    "  params:\n",
    "      X      matriz mxn de precios, donde:\n",
    "             m es el número de observaciones y\n",
    "               n el número de acciones\n",
    "  \n",
    "  return:\n",
    "      S  matriz de varianzas y covarianzas\n",
    "  \"\"\"\n",
    "  m,n=X.shape\n",
    "  X = cp.asarray(X)\n",
    "\n",
    "  X_m = cp.zeros((m-1,n))\n",
    "\n",
    "  for i in range(n):\n",
    "    X_m[:,i] = calcular_rendimiento_vector(X[:,i]) - calcular_rendimiento_vector(X[:,i]).mean()\n",
    "\n",
    "  S = (cp.transpose(X_m)@X_m)/(m-2)\n",
    "\n",
    "  return S"
   ]
  },
  {
   "cell_type": "code",
   "execution_count": 0,
   "metadata": {
    "colab": {},
    "colab_type": "code",
    "id": "ObdBEkyCa4JS"
   },
   "outputs": [],
   "source": [
    "Sigma = calcular_varianza(datos)"
   ]
  },
  {
   "cell_type": "code",
   "execution_count": null,
   "metadata": {},
   "outputs": [],
   "source": [
    "x = cp.ones(50)"
   ]
  },
  {
   "cell_type": "code",
   "execution_count": null,
   "metadata": {
    "colab": {
     "base_uri": "https://localhost:8080/",
     "height": 238
    },
    "colab_type": "code",
    "id": "ngIxkU-abBzl",
    "outputId": "25041508-dce8-46e5-c792-e2c159782cfc"
   },
   "outputs": [],
   "source": [
    "gfo_cp_mark(Sigma,x)"
   ]
  },
  {
   "cell_type": "code",
   "execution_count": null,
   "metadata": {
    "colab": {
     "base_uri": "https://localhost:8080/",
     "height": 238
    },
    "colab_type": "code",
    "id": "X9d15YPsbv6S",
    "outputId": "62f73c3b-7646-4339-ffc6-7606db69d0e1"
   },
   "outputs": [],
   "source": [
    "Hfo_cp_mark(Sigma)"
   ]
  },
  {
   "cell_type": "code",
   "execution_count": 0,
   "metadata": {
    "colab": {},
    "colab_type": "code",
    "id": "7U5GCl3Qb2d1"
   },
   "outputs": [],
   "source": []
  }
 ],
 "metadata": {
  "accelerator": "GPU",
  "colab": {
   "collapsed_sections": [],
   "name": "symbolic_gradient_Hessian.ipynb",
   "provenance": []
  },
  "kernelspec": {
   "display_name": "Python 3",
   "language": "python",
   "name": "python3"
  },
  "language_info": {
   "codemirror_mode": {
    "name": "ipython",
    "version": 3
   },
   "file_extension": ".py",
   "mimetype": "text/x-python",
   "name": "python",
   "nbconvert_exporter": "python",
   "pygments_lexer": "ipython3",
   "version": "3.7.2"
  }
 },
 "nbformat": 4,
 "nbformat_minor": 1
}
