{
  "nbformat": 4,
  "nbformat_minor": 0,
  "metadata": {
    "kernelspec": {
      "display_name": "Python 3",
      "language": "python",
      "name": "python3"
    },
    "language_info": {
      "codemirror_mode": {
        "name": "ipython",
        "version": 3
      },
      "file_extension": ".py",
      "mimetype": "text/x-python",
      "name": "python",
      "nbconvert_exporter": "python",
      "pygments_lexer": "ipython3",
      "version": "3.7.4"
    },
    "colab": {
      "name": "f2_Sistema_iterativo.ipynb",
      "provenance": [],
      "collapsed_sections": [],
      "toc_visible": true
    },
    "accelerator": "GPU"
  },
  "cells": [
    {
      "cell_type": "markdown",
      "metadata": {
        "id": "CR_0ozT5af_B",
        "colab_type": "text"
      },
      "source": [
        "# Metodo de Newton para solucionar el Solver de Markovitz"
      ]
    },
    {
      "cell_type": "code",
      "metadata": {
        "id": "K_JYq30eaf_G",
        "colab_type": "code",
        "colab": {}
      },
      "source": [
        "import numpy as np\n",
        "import cupy as cp\n",
        "import solver_2 as mkv"
      ],
      "execution_count": 0,
      "outputs": []
    },
    {
      "cell_type": "markdown",
      "metadata": {
        "id": "7oQC-D3jb8nb",
        "colab_type": "text"
      },
      "source": [
        "## Definimos funciones"
      ]
    },
    {
      "cell_type": "code",
      "metadata": {
        "id": "LcFENkj8af_W",
        "colab_type": "code",
        "colab": {}
      },
      "source": [
        "def inc_index(vec,index,h):\n",
        "    '''\n",
        "    Auxiliary function for gradient and Hessian computation.\n",
        "    Args:\n",
        "        vec (array): numpy array.\n",
        "        index (int): index.\n",
        "        h (float):   quantity that vec[index] will be increased.\n",
        "    Returns:\n",
        "        vec (array): numpy array vec with vec[index] increased by h.\n",
        "    '''\n",
        "    vec[index] +=h\n",
        "    return vec"
      ],
      "execution_count": 0,
      "outputs": []
    },
    {
      "cell_type": "code",
      "metadata": {
        "id": "jx6lqJ-Taf_m",
        "colab_type": "code",
        "colab": {}
      },
      "source": [
        "def dec_index(vec,index,h=1):\n",
        "    '''\n",
        "    Auxiliary function for gradient and Hessian computation.\n",
        "    Args:\n",
        "        vec (array): numpy array.\n",
        "        index (int): index.\n",
        "        h (float):   quantity that vec[index] will be decreased.\n",
        "    Returns:\n",
        "        vec (array): numpy array vec with vec[index] decreased by h.\n",
        "    '''\n",
        "    vec[index] -=h\n",
        "    return vec"
      ],
      "execution_count": 0,
      "outputs": []
    },
    {
      "cell_type": "code",
      "metadata": {
        "id": "N0ozBdyjaf_v",
        "colab_type": "code",
        "colab": {}
      },
      "source": [
        "def compute_error(x_obj,x_approx):\n",
        "    '''\n",
        "    Relative or absolute error between x_obj and x_approx.\n",
        "    '''\n",
        "    if np.linalg.norm(x_obj) > np.nextafter(0,1):\n",
        "        Err=np.linalg.norm(x_obj-x_approx)/np.linalg.norm(x_obj)\n",
        "    else:\n",
        "        Err=np.linalg.norm(x_obj-x_approx)\n",
        "    return Err"
      ],
      "execution_count": 0,
      "outputs": []
    },
    {
      "cell_type": "code",
      "metadata": {
        "id": "8ydnbgD5af_4",
        "colab_type": "code",
        "colab": {}
      },
      "source": [
        "def norm_residual(feas_primal, feas_dual):\n",
        "    '''\n",
        "    Computes norm of residual for Newtons infeasible initial point method\n",
        "    '''\n",
        "    return np.sqrt(np.linalg.norm(feas_primal)**2 +\\\n",
        "                   np.linalg.norm(feas_dual)**2\n",
        "                  )"
      ],
      "execution_count": 0,
      "outputs": []
    },
    {
      "cell_type": "code",
      "metadata": {
        "id": "R56KP_jTagAD",
        "colab_type": "code",
        "colab": {}
      },
      "source": [
        "def gradient_approximation(f,x,h=1e-8):\n",
        "    '''\n",
        "    Numerical approximation of gradient for function f using forward differences.\n",
        "    Args:\n",
        "        f (lambda expression): definition of function f.\n",
        "        x (array): numpy array that holds values where gradient will be computed.\n",
        "        h (float): step size for forward differences, tipically h=1e-8\n",
        "    Returns:\n",
        "        gf (array): numerical approximation to gradient of f.\n",
        "    '''\n",
        "    n = x.size\n",
        "    gf = np.zeros(n)\n",
        "    f_x = f(x)\n",
        "    for i in np.arange(n):\n",
        "        inc_index(x,i,h)\n",
        "        gf[i] = f(x) - f_x\n",
        "        dec_index(x,i,h)\n",
        "    return gf/h"
      ],
      "execution_count": 0,
      "outputs": []
    },
    {
      "cell_type": "code",
      "metadata": {
        "id": "ZcSzgSotagAL",
        "colab_type": "code",
        "colab": {}
      },
      "source": [
        "def Hessian_approximation(f,x,h=1e-6):\n",
        "    '''\n",
        "    Numerical approximation of Hessian for function f using forward differences.\n",
        "    Args:\n",
        "        f (lambda expression): definition of function f.\n",
        "        x (array): numpy array that holds values where Hessian will be computed.\n",
        "        h (float): step size for forward differences, tipically h=1e-6\n",
        "    Returns:\n",
        "        Hf (array): numerical approximation to Hessian of f.\n",
        "    '''\n",
        "    n = x.size\n",
        "    Hf = np.zeros((n,n))\n",
        "    f_x = f(x)\n",
        "    for i in np.arange(n):\n",
        "        inc_index(x,i,h)\n",
        "        f_x_inc_in_i = f(x)\n",
        "        for j in np.arange(i,n):\n",
        "            inc_index(x,j,h)\n",
        "            f_x_inc_in_i_j = f(x)\n",
        "            dec_index(x,i,h)\n",
        "            f_x_inc_in_j = f(x)\n",
        "            dif = f_x_inc_in_i_j-f_x_inc_in_i-f_x_inc_in_j+f_x\n",
        "            Hf[i,j] = dif\n",
        "            if j != i:\n",
        "                Hf[j,i] = dif\n",
        "            dec_index(x,j,h)\n",
        "            inc_index(x,i,h)\n",
        "        dec_index(x,i,h)\n",
        "    return Hf/h**2"
      ],
      "execution_count": 0,
      "outputs": []
    },
    {
      "cell_type": "code",
      "metadata": {
        "id": "os3BoHofagAT",
        "colab_type": "code",
        "colab": {}
      },
      "source": [
        "def line_search_by_backtracking(f,dir_desc,x,\n",
        "                                der_direct, alpha=.15, beta=.5):\n",
        "    '''\n",
        "    Line search that sufficiently decreases f restricted to a ray in the direction dir_desc.\n",
        "    Args:\n",
        "        alpha (float): parameter in line search with backtracking, tipically .15\n",
        "        beta (float): parameter in line search with backtracking, tipically .5\n",
        "        f (lambda expression): definition of function f.\n",
        "        dir_desc (array): descent direction.\n",
        "        x (array): numpy array that holds values where line search will be performed.\n",
        "        der_direct (float): directional derivative of f.\n",
        "    Returns:\n",
        "        t (float): positive number for stepsize along dir_desc that sufficiently decreases f.\n",
        "    '''\n",
        "    t=1\n",
        "    if alpha > 1/2:\n",
        "        print('alpha must be less than or equal to 1/2')\n",
        "        t=-1\n",
        "    if beta>1:\n",
        "        print('beta must be less than 1')\n",
        "        t=-1;   \n",
        "    if t!=-1:\n",
        "        eval1 = f(x+t*dir_desc)\n",
        "        eval2 = f(x) + alpha*t*der_direct\n",
        "        while eval1 > eval2:\n",
        "            t=beta*t\n",
        "            eval1=f(x+t*dir_desc)\n",
        "            eval2=f(x)+alpha*t*der_direct\n",
        "    else:\n",
        "        t=-1\n",
        "    return t"
      ],
      "execution_count": 0,
      "outputs": []
    },
    {
      "cell_type": "code",
      "metadata": {
        "id": "5MkhEHuxagAY",
        "colab_type": "code",
        "colab": {}
      },
      "source": [
        "def line_search_for_residual_by_backtracking(r_primal, r_dual,dir_desc_primal,dir_desc_dual,x, nu,\n",
        "                                             norm_residual_eval,\n",
        "                                             alpha=.15, beta=.5):\n",
        "    '''\n",
        "    Line search that sufficiently decreases residual for Newtons infeasible initial point method\n",
        "    restricted to a ray in the direction dir_desc.\n",
        "    Args:\n",
        "        r_primal (fun): definition of primal residual as function definition or lambda expression.\n",
        "        r_dual (fun): definition of dual residual as function definition or lambda expression.\n",
        "        dir_desc_primal (array): descent direction for primal variable.\n",
        "        dir_desc_dual (array): descent direction for dual variable.\n",
        "        x (array): numpy array that holds values where line search will be performed.\n",
        "        nu (array): numpy array that holds values where line search will be performed.\n",
        "        norm_residual_eval (float): norm of residual that has both r_primal and r_dual evaluations in\n",
        "                                    x and nu\n",
        "        alpha (float): parameter in line search with backtracking, tipically .15\n",
        "        beta (float): parameter in line search with backtracking, tipically .5\n",
        "        \n",
        "    Returns:\n",
        "        t (float): positive number for stepsize along dir_desc that sufficiently decreases f.\n",
        "    '''\n",
        "    t=1\n",
        "    if alpha > 1/2:\n",
        "        print('alpha must be less than or equal to 1/2')\n",
        "        t=-1\n",
        "    if beta>1:\n",
        "        print('beta must be less than 1')\n",
        "        t=-1;   \n",
        "    if t!=-1:\n",
        "        feas_primal = r_primal(x + t*dir_desc_primal)\n",
        "        feas_dual = r_dual(nu + t*dir_desc_dual )\n",
        "        eval1 = norm_residual(feas_primal, feas_dual)\n",
        "        eval2 = (1-alpha*t)*norm_residual_eval\n",
        "        while eval1 > eval2:\n",
        "            t=beta*t\n",
        "            feas_primal = r_primal(x + t*dir_desc_primal)\n",
        "            feas_dual = r_dual(nu + t*dir_desc_dual )\n",
        "            eval1 = norm_residual(feas_primal, feas_dual)\n",
        "            eval2 = (1-alpha*t)*norm_residual_eval\n",
        "    return t"
      ],
      "execution_count": 0,
      "outputs": []
    },
    {
      "cell_type": "code",
      "metadata": {
        "id": "gCFWgC9magAh",
        "colab_type": "code",
        "colab": {}
      },
      "source": [
        "def Newtons_method_feasible_init_point(f, A, x_0, tol, \n",
        "                                       tol_backtracking, x_ast=None, p_ast=None, maxiter=30,\n",
        "                                       gf_symbolic = None,\n",
        "                                       Hf_symbolic = None):\n",
        "    '''\n",
        "    Newton's method to numerically approximate solution of min f subject to Ax = b.\n",
        "    IMPORTANT: this implementation requires that initial point x_0, satisfies: Ax_0 = b\n",
        "    Args:\n",
        "        f (fun): definition of function f as lambda expression or function definition.\n",
        "        A (numpy ndarray): 2d numpy array of shape (m,n) defines system of constraints Ax=b.\n",
        "        x_0 (numpy ndarray): initial point for Newton's method. Must satisfy: Ax_0 = b\n",
        "        tol (float): tolerance that will halt method. Controls stopping criteria.\n",
        "        tol_backtracking (float): tolerance that will halt method. Controls value of line search by backtracking.\n",
        "        x_ast (numpy ndarray): solution of min f, now it's required that user knows the solution...\n",
        "        p_ast (float): value of f(x_ast), now it's required that user knows the solution...\n",
        "        maxiter (int): maximum number of iterations\n",
        "        gf_symbolic (fun): definition of gradient of f. If given, no approximation is\n",
        "                                     performed via finite differences.\n",
        "        Hf_symbolic (fun): definition of Hessian of f. If given, no approximation is\n",
        "                                     performed via finite differences.\n",
        "    Returns:\n",
        "        x (numpy ndarray): numpy array, approximation of x_ast.\n",
        "        iteration (int): number of iterations.\n",
        "        Err_plot (numpy ndarray): numpy array of absolute error between p_ast and f(x) with x approximation\n",
        "                          of x_ast. Useful for plotting.\n",
        "        x_plot (numpy ndarray): numpy array that containts in columns vector of approximations. Last column\n",
        "                        contains x, approximation of solution. Useful for plotting.\n",
        "    '''\n",
        "    iteration = 0\n",
        "        \n",
        "    x = x_0\n",
        "    \n",
        "    feval = f(x)\n",
        "    \n",
        "    if gf_symbolic:\n",
        "        gfeval = gf_symbolic(x)\n",
        "    else:\n",
        "        gfeval = gradient_approximation(f,x)\n",
        "\n",
        "    if Hf_symbolic:\n",
        "        Hfeval = Hf_symbolic(x)\n",
        "    else:\n",
        "        Hfeval = Hessian_approximation(f,x)\n",
        "    \n",
        "    normgf = np.linalg.norm(gfeval)\n",
        "    condHf= np.linalg.cond(Hfeval)\n",
        "    \n",
        "    Err_plot_aux = np.zeros(maxiter)\n",
        "    Err_plot_aux[iteration]=compute_error(p_ast,feval)\n",
        "    \n",
        "    Err = compute_error(x_ast,x)\n",
        "    \n",
        "        \n",
        "    if(A.ndim == 1):\n",
        "        p = 1\n",
        "        n = x.size\n",
        "        zero_matrix = np.zeros(p)\n",
        "        first_stack = np.column_stack((Hfeval, A.T))\n",
        "        second_stack = np.row_stack((A.reshape(1,n).T,zero_matrix)).reshape(1,n+1)[0]\n",
        "    else:\n",
        "        p,n = A.shape\n",
        "        zero_matrix = np.zeros((p,p))\n",
        "        first_stack = np.column_stack((Hfeval, A.T))\n",
        "        second_stack = np.column_stack((A,zero_matrix))\n",
        "        \n",
        "    x_plot = np.zeros((n,maxiter))\n",
        "    x_plot[:,iteration] = x\n",
        "    \n",
        "    system_matrix = np.row_stack((first_stack,second_stack))\n",
        "    zero_vector = np.zeros(p)\n",
        "    rhs = np.row_stack((gfeval.reshape(n,1), zero_vector.reshape(p,1))).T[0]\n",
        "\n",
        "    #Newton's direction and Newton's decrement\n",
        "    dir_desc = np.linalg.solve(system_matrix, -rhs)\n",
        "    dir_Newton = dir_desc[0:n]\n",
        "    dec_Newton = -gfeval.dot(dir_Newton)\n",
        "    w_dual_variable_estimation = dir_desc[n:(n+p)]\n",
        "\n",
        "\n",
        "    print('I\\tNormgf \\tNewton Decrement\\tError x_ast\\tError p_ast\\tline search\\tCondHf')\n",
        "    print('{}\\t{:0.2e}\\t{:0.2e}\\t{:0.2e}\\t{:0.2e}\\t{}\\t\\t{:0.2e}'.format(iteration,normgf,\n",
        "                                                                         dec_Newton,Err,\n",
        "                                                                         Err_plot_aux[iteration],\"---\",\n",
        "                                                                         condHf))\n",
        "    \n",
        "    stopping_criteria = dec_Newton/2\n",
        "    iteration+=1\n",
        "    while(stopping_criteria>tol and iteration < maxiter):\n",
        "        der_direct = -dec_Newton\n",
        "        t = line_search_by_backtracking(f,dir_Newton,x,der_direct)\n",
        "        x = x + t*dir_Newton\n",
        "        feval = f(x)\n",
        "        \n",
        "        \n",
        "        if gf_symbolic:\n",
        "            gfeval = gf_symbolic(x)\n",
        "        else:\n",
        "            gfeval = gradient_approximation(f,x)\n",
        "        \n",
        "        if Hf_symbolic:\n",
        "            Hfeval = Hf_symbolic(x)\n",
        "        else:\n",
        "            Hfeval = Hessian_approximation(f,x)\n",
        "        if(A.ndim == 1):\n",
        "            first_stack = np.column_stack((Hfeval, A.T))\n",
        "        else:\n",
        "            first_stack = np.column_stack((Hfeval, A.T))\n",
        "\n",
        "        system_matrix = np.row_stack((first_stack,second_stack))\n",
        "        rhs = np.row_stack((gfeval.reshape(n,1), zero_vector.reshape(p,1))).T[0]\n",
        "        #Newton's direction and Newton's decrement\n",
        "        dir_desc = np.linalg.solve(system_matrix, -rhs)\n",
        "        dir_Newton = dir_desc[0:n]\n",
        "        dec_Newton = -gfeval.dot(dir_Newton)\n",
        "        w_dual_variable_estimation = dir_desc[n:(n+p)]\n",
        "        \n",
        "        Err_plot_aux[iteration]=compute_error(p_ast,feval)\n",
        "        x_plot[:,iteration] = x\n",
        "        Err = compute_error(x_ast,x)\n",
        "        print('{}\\t{:0.2e}\\t{:0.2e}\\t{:0.2e}\\t{:0.2e}\\t{:0.2e}\\t{:0.2e}'.format(iteration,normgf,\n",
        "                                                                                dec_Newton,Err,\n",
        "                                                                                Err_plot_aux[iteration],t,\n",
        "                                                                                condHf))\n",
        "        stopping_criteria = dec_Newton/2\n",
        "        if t<tol_backtracking: #if t is less than tol_backtracking then we need to check the reason\n",
        "            iter_salida=iteration\n",
        "            iteration = maxiter - 1\n",
        "        iteration+=1\n",
        "    print('{} {:0.2e}'.format(\"Error of x with respect to x_ast:\",Err))\n",
        "    print('{} {}'.format(\"Approximate solution:\", x))\n",
        "    cond = Err_plot_aux > np.finfo(float).eps*10**(-2)\n",
        "    Err_plot = Err_plot_aux[cond]\n",
        "    \n",
        "    if iteration == maxiter and t < tol_backtracking:\n",
        "        print(\"Backtracking value less than tol_backtracking, check approximation\")\n",
        "        iteration=iter_salida\n",
        "    else:\n",
        "        if iteration == maxiter:\n",
        "            print(\"Reached maximum of iterations, check approximation\")\n",
        "    x_plot = x_plot[:,:iteration]\n",
        "    return [x,iteration,Err_plot,x_plot]"
      ],
      "execution_count": 0,
      "outputs": []
    },
    {
      "cell_type": "markdown",
      "metadata": {
        "id": "CJwReJ2Hb_3W",
        "colab_type": "text"
      },
      "source": [
        "## Cargamos la información y calculamos los parámetros"
      ]
    },
    {
      "cell_type": "code",
      "metadata": {
        "id": "ucXkk3tYagAq",
        "colab_type": "code",
        "colab": {}
      },
      "source": [
        "stocks = ['COP','AMT','LIN','LMT','AMZN','WMT','JNJ','VTI','MSFT','GOOG','XOM','CCI','BHP.AX','UNP',\n",
        "'BABA','NSRGY','RHHBY','VOO','AAPL','FB','CVX','PLD','RIO.L','HON','HD','PG','UNH','BRK-A','V','0700.HK',\n",
        "'RDSA.AS','0688.HK','AI.PA','RTX','MC.PA','KO','PFE','JPM','005930.KS','VZ','RELIANCE.NS','DLR','2010.SR',\n",
        "'UPS','7203.T','PEP','MRK','1398.HK','MA','T']"
      ],
      "execution_count": 0,
      "outputs": []
    },
    {
      "cell_type": "code",
      "metadata": {
        "id": "FliMniOJcGcb",
        "colab_type": "code",
        "colab": {
          "base_uri": "https://localhost:8080/",
          "height": 35
        },
        "outputId": "3ebe214b-23a2-4ddd-b490-cc409fd8e681"
      },
      "source": [
        "datos = mkv.extraer_datos_yahoo(stocks)"
      ],
      "execution_count": 14,
      "outputs": [
        {
          "output_type": "stream",
          "text": [
            "[*********************100%***********************]  50 of 50 downloaded\n"
          ],
          "name": "stdout"
        }
      ]
    },
    {
      "cell_type": "code",
      "metadata": {
        "id": "PcAFYk2EcLsE",
        "colab_type": "code",
        "colab": {}
      },
      "source": [
        "mu = mkv.calcular_rendimiento(datos)"
      ],
      "execution_count": 0,
      "outputs": []
    },
    {
      "cell_type": "code",
      "metadata": {
        "id": "2N6YUd_kchNf",
        "colab_type": "code",
        "colab": {}
      },
      "source": [
        "S = mkv.calcular_varianza(datos)"
      ],
      "execution_count": 0,
      "outputs": []
    },
    {
      "cell_type": "code",
      "metadata": {
        "id": "XKy8ibRXcpGW",
        "colab_type": "code",
        "colab": {
          "base_uri": "https://localhost:8080/",
          "height": 35
        },
        "outputId": "a0940f8c-db10-427e-b3d4-ec16b2b87ccb"
      },
      "source": [
        "r=max(mu)\n",
        "r"
      ],
      "execution_count": 102,
      "outputs": [
        {
          "output_type": "execute_result",
          "data": {
            "text/plain": [
              "array(0.40221088)"
            ]
          },
          "metadata": {
            "tags": []
          },
          "execution_count": 102
        }
      ]
    },
    {
      "cell_type": "markdown",
      "metadata": {
        "id": "TD58_-9MdMt3",
        "colab_type": "text"
      },
      "source": [
        "## Resolvemos con el Método de Newton"
      ]
    },
    {
      "cell_type": "code",
      "metadata": {
        "id": "Rr4oJagsdSk8",
        "colab_type": "code",
        "colab": {}
      },
      "source": [
        "fo = lambda w: w@S@w"
      ],
      "execution_count": 0,
      "outputs": []
    },
    {
      "cell_type": "code",
      "metadata": {
        "id": "CjLONnwPdnNm",
        "colab_type": "code",
        "colab": {
          "base_uri": "https://localhost:8080/",
          "height": 256
        },
        "outputId": "7ea18eb4-551d-4280-ca63-1899bc169993"
      },
      "source": [
        "w_ast = mkv.markowitz(r,mu,S)\n",
        "w_ast"
      ],
      "execution_count": 104,
      "outputs": [
        {
          "output_type": "execute_result",
          "data": {
            "text/plain": [
              "array([ 1.58450459e-01, -2.08710279e-02,  1.58051613e-01, -9.28970852e-02,\n",
              "        3.17093838e-02,  5.10824537e-02,  8.71800626e-02,  1.26389547e-02,\n",
              "        3.72861469e-02,  2.86000507e-01, -5.98810147e-03,  2.24206232e-03,\n",
              "        2.03075836e-01,  9.46030741e-02,  2.28766788e-02,  1.49919976e-02,\n",
              "        7.60706433e-03,  2.96676402e-02,  5.76521006e-02,  1.98109863e-01,\n",
              "        1.19928144e-01,  1.27869501e-01,  1.41300419e-01,  1.36285005e-02,\n",
              "        8.83904753e-02,  1.50479914e-01,  1.69293512e-01,  7.72037012e-02,\n",
              "        8.09121352e-02,  8.24658724e-02,  1.92197879e-01, -2.40095431e-02,\n",
              "        2.64375219e-02,  7.69647088e-02,  2.20741648e-02, -1.08207562e-01,\n",
              "        1.64032748e-01,  1.77020932e-02,  6.16398087e-02, -1.08210745e-01,\n",
              "       -5.03462807e-02,  1.38834320e-01,  1.03567400e-01, -4.28198353e-02,\n",
              "        1.06872745e-02, -2.33314798e+00,  1.89811544e-01,  2.63296457e-01,\n",
              "        1.20089773e-01, -1.05535600e-01])"
            ]
          },
          "metadata": {
            "tags": []
          },
          "execution_count": 104
        }
      ]
    },
    {
      "cell_type": "code",
      "metadata": {
        "id": "q0HjUqEthOli",
        "colab_type": "code",
        "colab": {
          "base_uri": "https://localhost:8080/",
          "height": 384
        },
        "outputId": "2bdc8815-1dc4-4496-f5ae-30d8e23ad5b6"
      },
      "source": [
        "n = mu.shape[0]\n",
        "A = cp.concatenate((mu,cp.ones(n))).reshape(2,n)\n",
        "A"
      ],
      "execution_count": 105,
      "outputs": [
        {
          "output_type": "execute_result",
          "data": {
            "text/plain": [
              "array([[ 0.13254293,  0.02782955,  0.25778345, -0.01787111, -0.02008539,\n",
              "        -0.02286483,  0.19078421,  0.05743478,  0.17062275,  0.40221088,\n",
              "         0.13618598,  0.02364206,  0.0476638 ,  0.13217291, -0.09666644,\n",
              "        -0.03426582,  0.15880965,  0.17870289,  0.18557566,  0.15042008,\n",
              "         0.08379133,  0.07154137,  0.08843336,  0.02202303,  0.07353272,\n",
              "         0.13731909,  0.23605478,  0.19942876,  0.06806557,  0.26292508,\n",
              "         0.07357148,  0.06803817,  0.03867589,  0.05090149,  0.14401416,\n",
              "        -0.09339291,  0.23072551,  0.05036842,  0.05587177, -0.01264577,\n",
              "        -0.01474117,  0.20678446,  0.06274014, -0.02729424,  0.1990038 ,\n",
              "         0.07054765,  0.06563628,  0.04203765,  0.0717407 , -0.13227261],\n",
              "       [ 1.        ,  1.        ,  1.        ,  1.        ,  1.        ,\n",
              "         1.        ,  1.        ,  1.        ,  1.        ,  1.        ,\n",
              "         1.        ,  1.        ,  1.        ,  1.        ,  1.        ,\n",
              "         1.        ,  1.        ,  1.        ,  1.        ,  1.        ,\n",
              "         1.        ,  1.        ,  1.        ,  1.        ,  1.        ,\n",
              "         1.        ,  1.        ,  1.        ,  1.        ,  1.        ,\n",
              "         1.        ,  1.        ,  1.        ,  1.        ,  1.        ,\n",
              "         1.        ,  1.        ,  1.        ,  1.        ,  1.        ,\n",
              "         1.        ,  1.        ,  1.        ,  1.        ,  1.        ,\n",
              "         1.        ,  1.        ,  1.        ,  1.        ,  1.        ]])"
            ]
          },
          "metadata": {
            "tags": []
          },
          "execution_count": 105
        }
      ]
    },
    {
      "cell_type": "code",
      "metadata": {
        "id": "tH7IUvaZlfFw",
        "colab_type": "code",
        "colab": {
          "base_uri": "https://localhost:8080/",
          "height": 35
        },
        "outputId": "b9b6ee9b-8dd4-4672-d956-faf38c0753b9"
      },
      "source": [
        "b = cp.array([r.item(),1])\n",
        "b"
      ],
      "execution_count": 106,
      "outputs": [
        {
          "output_type": "execute_result",
          "data": {
            "text/plain": [
              "array([0.40221088, 1.        ])"
            ]
          },
          "metadata": {
            "tags": []
          },
          "execution_count": 106
        }
      ]
    },
    {
      "cell_type": "markdown",
      "metadata": {
        "id": "S_WUqA-EoQC8",
        "colab_type": "text"
      },
      "source": [
        "Definimos el punto inicial como:"
      ]
    },
    {
      "cell_type": "code",
      "metadata": {
        "id": "VHj1CODfpuon",
        "colab_type": "code",
        "colab": {
          "base_uri": "https://localhost:8080/",
          "height": 72
        },
        "outputId": "dd60c93b-88a6-41e2-c859-fcbf769bad65"
      },
      "source": [
        "w_0 = cp.zeros(n)\n",
        "w_0[0] = 1\n",
        "w_0"
      ],
      "execution_count": 107,
      "outputs": [
        {
          "output_type": "execute_result",
          "data": {
            "text/plain": [
              "array([1., 0., 0., 0., 0., 0., 0., 0., 0., 0., 0., 0., 0., 0., 0., 0., 0.,\n",
              "       0., 0., 0., 0., 0., 0., 0., 0., 0., 0., 0., 0., 0., 0., 0., 0., 0.,\n",
              "       0., 0., 0., 0., 0., 0., 0., 0., 0., 0., 0., 0., 0., 0., 0., 0.])"
            ]
          },
          "metadata": {
            "tags": []
          },
          "execution_count": 107
        }
      ]
    },
    {
      "cell_type": "code",
      "metadata": {
        "id": "w54V7Yuzqr4B",
        "colab_type": "code",
        "colab": {}
      },
      "source": [
        "tol=1e-8\n",
        "tol_backtracking=1e-14\n",
        "p_ast=fo(w_ast)\n",
        "maxiter=50"
      ],
      "execution_count": 0,
      "outputs": []
    },
    {
      "cell_type": "code",
      "metadata": {
        "id": "YFv1TXgiuf5c",
        "colab_type": "code",
        "colab": {}
      },
      "source": [
        "## Este bloque es temporal\n",
        "A = cp.asnumpy(A)\n",
        "w_0 = cp.asnumpy(w_0)\n",
        "w_ast = cp.asnumpy(w_ast)\n",
        "p_ast = cp.asnumpy(p_ast)\n",
        "mu = cp.asnumpy(mu)\n",
        "S = cp.asnumpy(S)\n",
        "fo = lambda w: w@S@w"
      ],
      "execution_count": 0,
      "outputs": []
    },
    {
      "cell_type": "code",
      "metadata": {
        "id": "y1aGbI5DsB75",
        "colab_type": "code",
        "colab": {
          "base_uri": "https://localhost:8080/",
          "height": 256
        },
        "outputId": "84a19bef-48fe-4ba4-fcdd-7007748a8518"
      },
      "source": [
        "[x,total_of_iterations,Err_plot,x_plot]=Newtons_method_feasible_init_point(fo,A, w_0,tol, tol_backtracking, w_ast, p_ast, maxiter)\n",
        "\n"
      ],
      "execution_count": 110,
      "outputs": [
        {
          "output_type": "stream",
          "text": [
            "I\tNormgf \tNewton Decrement\tError x_ast\tError p_ast\tline search\tCondHf\n",
            "0\t6.58e-04\t4.17e-04\t1.05e+00\t1.69e+00\t---\t\t9.52e+03\n",
            "1\t6.58e-04\t4.37e-10\t4.92e-01\t5.15e-01\t1.00e+00\t9.52e+03\n",
            "Error of x with respect to x_ast: 4.92e-01\n",
            "Approximate solution: [ 0.11020792 -0.00181225  0.03226334  0.03682051  0.06270992  0.08126923\n",
            "  0.02139943  0.07009044 -0.02162838  0.10847652  0.00476652 -0.00236751\n",
            "  0.17026441  0.08068742 -0.02897799  0.00344072  0.00445215  0.03330976\n",
            "  0.03845186  0.07399891  0.02339894  0.07876919 -0.0278804   0.07535552\n",
            "  0.04259247  0.05794904  0.02488739 -0.01496674  0.02098573 -0.02318579\n",
            "  0.17491674 -0.05645838  0.05508702  0.06523369 -0.04426473 -0.0440297\n",
            "  0.09055173  0.03463329  0.02737469 -0.0349971  -0.03933259  0.02130088\n",
            "  0.04398815  0.01553946  0.00244568 -1.29941471  0.56057215  0.18295137\n",
            "  0.09398698  0.01418713]\n"
          ],
          "name": "stdout"
        }
      ]
    },
    {
      "cell_type": "code",
      "metadata": {
        "id": "rM0pIafAwVMK",
        "colab_type": "code",
        "colab": {
          "base_uri": "https://localhost:8080/",
          "height": 256
        },
        "outputId": "20c6f427-18e8-412d-e703-ffb998e51bc2"
      },
      "source": [
        "w_ast"
      ],
      "execution_count": 111,
      "outputs": [
        {
          "output_type": "execute_result",
          "data": {
            "text/plain": [
              "array([ 1.58450459e-01, -2.08710279e-02,  1.58051613e-01, -9.28970852e-02,\n",
              "        3.17093838e-02,  5.10824537e-02,  8.71800626e-02,  1.26389547e-02,\n",
              "        3.72861469e-02,  2.86000507e-01, -5.98810147e-03,  2.24206232e-03,\n",
              "        2.03075836e-01,  9.46030741e-02,  2.28766788e-02,  1.49919976e-02,\n",
              "        7.60706433e-03,  2.96676402e-02,  5.76521006e-02,  1.98109863e-01,\n",
              "        1.19928144e-01,  1.27869501e-01,  1.41300419e-01,  1.36285005e-02,\n",
              "        8.83904753e-02,  1.50479914e-01,  1.69293512e-01,  7.72037012e-02,\n",
              "        8.09121352e-02,  8.24658724e-02,  1.92197879e-01, -2.40095431e-02,\n",
              "        2.64375219e-02,  7.69647088e-02,  2.20741648e-02, -1.08207562e-01,\n",
              "        1.64032748e-01,  1.77020932e-02,  6.16398087e-02, -1.08210745e-01,\n",
              "       -5.03462807e-02,  1.38834320e-01,  1.03567400e-01, -4.28198353e-02,\n",
              "        1.06872745e-02, -2.33314798e+00,  1.89811544e-01,  2.63296457e-01,\n",
              "        1.20089773e-01, -1.05535600e-01])"
            ]
          },
          "metadata": {
            "tags": []
          },
          "execution_count": 111
        }
      ]
    },
    {
      "cell_type": "code",
      "metadata": {
        "id": "zh3Zh0dQxZ4P",
        "colab_type": "code",
        "colab": {
          "base_uri": "https://localhost:8080/",
          "height": 35
        },
        "outputId": "e0ff5497-9730-4202-f0ea-adf9cd1d12f4"
      },
      "source": [
        "x@S@x"
      ],
      "execution_count": 114,
      "outputs": [
        {
          "output_type": "execute_result",
          "data": {
            "text/plain": [
              "4.5884983038880295e-05"
            ]
          },
          "metadata": {
            "tags": []
          },
          "execution_count": 114
        }
      ]
    },
    {
      "cell_type": "code",
      "metadata": {
        "id": "lIYyOg5vxh1Z",
        "colab_type": "code",
        "colab": {
          "base_uri": "https://localhost:8080/",
          "height": 35
        },
        "outputId": "e97d227d-660e-40ec-a5f5-2698144332e5"
      },
      "source": [
        "w_ast@S@w_ast"
      ],
      "execution_count": 115,
      "outputs": [
        {
          "output_type": "execute_result",
          "data": {
            "text/plain": [
              "9.459792459072343e-05"
            ]
          },
          "metadata": {
            "tags": []
          },
          "execution_count": 115
        }
      ]
    },
    {
      "cell_type": "code",
      "metadata": {
        "id": "u1XPCyGqxobv",
        "colab_type": "code",
        "colab": {
          "base_uri": "https://localhost:8080/",
          "height": 35
        },
        "outputId": "d8c40f32-3757-420a-9bf6-ab5373e303a0"
      },
      "source": [
        "x@mu"
      ],
      "execution_count": 116,
      "outputs": [
        {
          "output_type": "execute_result",
          "data": {
            "text/plain": [
              "0.13254293166879796"
            ]
          },
          "metadata": {
            "tags": []
          },
          "execution_count": 116
        }
      ]
    },
    {
      "cell_type": "code",
      "metadata": {
        "id": "boNNhrOMxspd",
        "colab_type": "code",
        "colab": {
          "base_uri": "https://localhost:8080/",
          "height": 35
        },
        "outputId": "b041b01d-15a3-4c35-a6aa-4254f1ffdfa5"
      },
      "source": [
        "w_ast@mu"
      ],
      "execution_count": 117,
      "outputs": [
        {
          "output_type": "execute_result",
          "data": {
            "text/plain": [
              "0.4022108787760793"
            ]
          },
          "metadata": {
            "tags": []
          },
          "execution_count": 117
        }
      ]
    },
    {
      "cell_type": "code",
      "metadata": {
        "id": "GDPfjh3nx_A7",
        "colab_type": "code",
        "colab": {
          "base_uri": "https://localhost:8080/",
          "height": 35
        },
        "outputId": "e124d3ed-1131-4ce0-e6c8-326f7762f49e"
      },
      "source": [
        "sum(x)"
      ],
      "execution_count": 118,
      "outputs": [
        {
          "output_type": "execute_result",
          "data": {
            "text/plain": [
              "1.0"
            ]
          },
          "metadata": {
            "tags": []
          },
          "execution_count": 118
        }
      ]
    },
    {
      "cell_type": "code",
      "metadata": {
        "id": "tBULagVkyEN0",
        "colab_type": "code",
        "colab": {}
      },
      "source": [
        ""
      ],
      "execution_count": 0,
      "outputs": []
    }
  ]
}