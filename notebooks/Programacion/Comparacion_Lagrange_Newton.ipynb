{
  "nbformat": 4,
  "nbformat_minor": 0,
  "metadata": {
    "colab": {
      "name": "Comparacion_Lagrange_Newton.ipynb",
      "provenance": [],
      "collapsed_sections": [],
      "toc_visible": true
    },
    "kernelspec": {
      "name": "python3",
      "display_name": "Python 3"
    },
    "accelerator": "GPU"
  },
  "cells": [
    {
      "cell_type": "markdown",
      "metadata": {
        "id": "gFESaUmfsU2e",
        "colab_type": "text"
      },
      "source": [
        "#  Comparativo de solver basado en multiplicadores de Lagrange y método de Newton\n",
        "\n",
        "Para comparar el desempeño de ambos solvers, se decidió variar el valor del rendimiento $r$ en un rango de 0.4 a 1. Al respecto, los resultados obtenidos se resumen en la siguiente tabla:\n",
        "\n",
        "[WIP: añadir tabla que compare la norma de la diferencia y el valor absoluto entre ambos]\n",
        "\n",
        "De lo anterior, se desprenden los siguientes hallazgos:\n",
        "\n",
        "* La diferencia entre las soluciones aumenta conforme aumenta el rendimiento deseado.\n",
        "\n",
        "* A pesar del aumento en la diferencia, ambas soluciones cumplen con las restricciones deseadas.\n",
        "\n",
        "* El riesgo con el solver usando los multiplicadores de Lagrange siempre es igual o menor que el del solver con el método de Newton. \n",
        "\n",
        "* La solución es mejor usando el solver basado en los multiplicadores de Lagrange. \n",
        "\n",
        "\n"
      ]
    },
    {
      "cell_type": "markdown",
      "metadata": {
        "id": "1eGeVGReslSw",
        "colab_type": "text"
      },
      "source": [
        "## Librerías"
      ]
    },
    {
      "cell_type": "code",
      "metadata": {
        "id": "gPFf_6gCrTt6",
        "colab_type": "code",
        "colab": {}
      },
      "source": [
        "import numpy as np\n",
        "import pandas as pd\n",
        "import cupy as cp\n",
        "import solver.extraer_datos_yahoo as extrae\n",
        "import solver.funciones_auxiliares as aux\n",
        "import solver.line_search as line\n",
        "import solver.modelo_markowitz as mkv\n",
        "import solver.utils as utils\n",
        "import solver.optimizacion_numerica as opt"
      ],
      "execution_count": 0,
      "outputs": []
    },
    {
      "cell_type": "code",
      "metadata": {
        "id": "nOVH0NHyr3R-",
        "colab_type": "code",
        "colab": {}
      },
      "source": [
        "stocks = ['COP','AMT','LIN','LMT','AMZN','WMT','JNJ','VTI','MSFT','GOOG','XOM','CCI','BHP.AX','UNP',\n",
        "'BABA','NSRGY','RHHBY','VOO','AAPL','FB','CVX','PLD','RIO.L','HON','HD','PG','UNH','BRK-A','V','0700.HK',\n",
        "'RDSA.AS','0688.HK','AI.PA','RTX','MC.PA','KO','PFE','JPM','005930.KS','VZ','RELIANCE.NS','DLR','2010.SR',\n",
        "'UPS','7203.T','PEP','MRK','1398.HK','MA','T']"
      ],
      "execution_count": 0,
      "outputs": []
    },
    {
      "cell_type": "code",
      "metadata": {
        "id": "qeR9KIaLt9Hl",
        "colab_type": "code",
        "outputId": "bdd96c19-430e-4535-e89e-81d94dbbae10",
        "colab": {
          "base_uri": "https://localhost:8080/",
          "height": 35
        }
      },
      "source": [
        "datos = extrae.extraer_datos_yahoo(stocks)"
      ],
      "execution_count": 4,
      "outputs": [
        {
          "output_type": "stream",
          "text": [
            "[*********************100%***********************]  50 of 50 downloaded\n"
          ],
          "name": "stdout"
        }
      ]
    },
    {
      "cell_type": "code",
      "metadata": {
        "id": "IcPJNRvmuLV2",
        "colab_type": "code",
        "outputId": "1693d5cd-5a23-4dc2-e1ff-9e3008bcc9b0",
        "colab": {
          "base_uri": "https://localhost:8080/",
          "height": 258
        }
      },
      "source": [
        "datos.head()"
      ],
      "execution_count": 5,
      "outputs": [
        {
          "output_type": "execute_result",
          "data": {
            "text/html": [
              "<div>\n",
              "<style scoped>\n",
              "    .dataframe tbody tr th:only-of-type {\n",
              "        vertical-align: middle;\n",
              "    }\n",
              "\n",
              "    .dataframe tbody tr th {\n",
              "        vertical-align: top;\n",
              "    }\n",
              "\n",
              "    .dataframe thead th {\n",
              "        text-align: right;\n",
              "    }\n",
              "</style>\n",
              "<table border=\"1\" class=\"dataframe\">\n",
              "  <thead>\n",
              "    <tr style=\"text-align: right;\">\n",
              "      <th></th>\n",
              "      <th>005930.KS</th>\n",
              "      <th>0688.HK</th>\n",
              "      <th>0700.HK</th>\n",
              "      <th>1398.HK</th>\n",
              "      <th>2010.SR</th>\n",
              "      <th>7203.T</th>\n",
              "      <th>AAPL</th>\n",
              "      <th>AI.PA</th>\n",
              "      <th>AMT</th>\n",
              "      <th>AMZN</th>\n",
              "      <th>BABA</th>\n",
              "      <th>BHP.AX</th>\n",
              "      <th>BRK-A</th>\n",
              "      <th>CCI</th>\n",
              "      <th>COP</th>\n",
              "      <th>CVX</th>\n",
              "      <th>DLR</th>\n",
              "      <th>FB</th>\n",
              "      <th>GOOG</th>\n",
              "      <th>HD</th>\n",
              "      <th>HON</th>\n",
              "      <th>JNJ</th>\n",
              "      <th>JPM</th>\n",
              "      <th>KO</th>\n",
              "      <th>LIN</th>\n",
              "      <th>LMT</th>\n",
              "      <th>MA</th>\n",
              "      <th>MC.PA</th>\n",
              "      <th>MRK</th>\n",
              "      <th>MSFT</th>\n",
              "      <th>NSRGY</th>\n",
              "      <th>PEP</th>\n",
              "      <th>PFE</th>\n",
              "      <th>PG</th>\n",
              "      <th>PLD</th>\n",
              "      <th>RDSA.AS</th>\n",
              "      <th>RELIANCE.NS</th>\n",
              "      <th>RHHBY</th>\n",
              "      <th>RIO.L</th>\n",
              "      <th>RTX</th>\n",
              "      <th>T</th>\n",
              "      <th>UNH</th>\n",
              "      <th>UNP</th>\n",
              "      <th>UPS</th>\n",
              "      <th>V</th>\n",
              "      <th>VOO</th>\n",
              "      <th>VTI</th>\n",
              "      <th>VZ</th>\n",
              "      <th>WMT</th>\n",
              "      <th>XOM</th>\n",
              "    </tr>\n",
              "    <tr>\n",
              "      <th>Date</th>\n",
              "      <th></th>\n",
              "      <th></th>\n",
              "      <th></th>\n",
              "      <th></th>\n",
              "      <th></th>\n",
              "      <th></th>\n",
              "      <th></th>\n",
              "      <th></th>\n",
              "      <th></th>\n",
              "      <th></th>\n",
              "      <th></th>\n",
              "      <th></th>\n",
              "      <th></th>\n",
              "      <th></th>\n",
              "      <th></th>\n",
              "      <th></th>\n",
              "      <th></th>\n",
              "      <th></th>\n",
              "      <th></th>\n",
              "      <th></th>\n",
              "      <th></th>\n",
              "      <th></th>\n",
              "      <th></th>\n",
              "      <th></th>\n",
              "      <th></th>\n",
              "      <th></th>\n",
              "      <th></th>\n",
              "      <th></th>\n",
              "      <th></th>\n",
              "      <th></th>\n",
              "      <th></th>\n",
              "      <th></th>\n",
              "      <th></th>\n",
              "      <th></th>\n",
              "      <th></th>\n",
              "      <th></th>\n",
              "      <th></th>\n",
              "      <th></th>\n",
              "      <th></th>\n",
              "      <th></th>\n",
              "      <th></th>\n",
              "      <th></th>\n",
              "      <th></th>\n",
              "      <th></th>\n",
              "      <th></th>\n",
              "      <th></th>\n",
              "      <th></th>\n",
              "      <th></th>\n",
              "      <th></th>\n",
              "      <th></th>\n",
              "    </tr>\n",
              "  </thead>\n",
              "  <tbody>\n",
              "    <tr>\n",
              "      <th>2015-01-02</th>\n",
              "      <td>26600.0</td>\n",
              "      <td>24.704800</td>\n",
              "      <td>112.800003</td>\n",
              "      <td>5.77</td>\n",
              "      <td>79.50</td>\n",
              "      <td>7507.0</td>\n",
              "      <td>109.330002</td>\n",
              "      <td>89.786400</td>\n",
              "      <td>99.669998</td>\n",
              "      <td>308.519989</td>\n",
              "      <td>103.599998</td>\n",
              "      <td>27.603399</td>\n",
              "      <td>223600.0</td>\n",
              "      <td>79.510002</td>\n",
              "      <td>68.919998</td>\n",
              "      <td>112.580002</td>\n",
              "      <td>66.410004</td>\n",
              "      <td>78.449997</td>\n",
              "      <td>523.373108</td>\n",
              "      <td>103.430000</td>\n",
              "      <td>95.556229</td>\n",
              "      <td>104.519997</td>\n",
              "      <td>62.490002</td>\n",
              "      <td>42.139999</td>\n",
              "      <td>129.949997</td>\n",
              "      <td>193.309998</td>\n",
              "      <td>85.680000</td>\n",
              "      <td>130.850006</td>\n",
              "      <td>57.189999</td>\n",
              "      <td>46.759998</td>\n",
              "      <td>72.650002</td>\n",
              "      <td>94.440002</td>\n",
              "      <td>31.33</td>\n",
              "      <td>90.440002</td>\n",
              "      <td>43.430000</td>\n",
              "      <td>27.750000</td>\n",
              "      <td>442.774994</td>\n",
              "      <td>33.910000</td>\n",
              "      <td>2970.0</td>\n",
              "      <td>72.397736</td>\n",
              "      <td>33.869999</td>\n",
              "      <td>100.779999</td>\n",
              "      <td>118.610001</td>\n",
              "      <td>110.379997</td>\n",
              "      <td>66.254997</td>\n",
              "      <td>188.399994</td>\n",
              "      <td>105.919998</td>\n",
              "      <td>46.959999</td>\n",
              "      <td>85.900002</td>\n",
              "      <td>92.830002</td>\n",
              "    </tr>\n",
              "    <tr>\n",
              "      <th>2015-01-05</th>\n",
              "      <td>26660.0</td>\n",
              "      <td>24.951799</td>\n",
              "      <td>113.500000</td>\n",
              "      <td>5.80</td>\n",
              "      <td>79.50</td>\n",
              "      <td>7507.0</td>\n",
              "      <td>106.250000</td>\n",
              "      <td>87.005997</td>\n",
              "      <td>98.230003</td>\n",
              "      <td>302.190002</td>\n",
              "      <td>101.000000</td>\n",
              "      <td>27.547300</td>\n",
              "      <td>220980.0</td>\n",
              "      <td>79.000000</td>\n",
              "      <td>65.639999</td>\n",
              "      <td>108.080002</td>\n",
              "      <td>67.690002</td>\n",
              "      <td>77.190002</td>\n",
              "      <td>512.463013</td>\n",
              "      <td>101.260002</td>\n",
              "      <td>93.735291</td>\n",
              "      <td>103.790001</td>\n",
              "      <td>60.549999</td>\n",
              "      <td>42.139999</td>\n",
              "      <td>126.519997</td>\n",
              "      <td>189.289993</td>\n",
              "      <td>83.269997</td>\n",
              "      <td>127.050003</td>\n",
              "      <td>58.040001</td>\n",
              "      <td>46.330002</td>\n",
              "      <td>70.959999</td>\n",
              "      <td>93.730003</td>\n",
              "      <td>31.16</td>\n",
              "      <td>90.010002</td>\n",
              "      <td>43.400002</td>\n",
              "      <td>26.615000</td>\n",
              "      <td>437.924988</td>\n",
              "      <td>34.029999</td>\n",
              "      <td>2883.5</td>\n",
              "      <td>71.189430</td>\n",
              "      <td>33.549999</td>\n",
              "      <td>99.120003</td>\n",
              "      <td>114.599998</td>\n",
              "      <td>108.169998</td>\n",
              "      <td>64.792503</td>\n",
              "      <td>185.089996</td>\n",
              "      <td>104.099998</td>\n",
              "      <td>46.570000</td>\n",
              "      <td>85.650002</td>\n",
              "      <td>90.290001</td>\n",
              "    </tr>\n",
              "    <tr>\n",
              "      <th>2015-01-06</th>\n",
              "      <td>25900.0</td>\n",
              "      <td>24.605900</td>\n",
              "      <td>120.000000</td>\n",
              "      <td>5.71</td>\n",
              "      <td>77.00</td>\n",
              "      <td>7300.0</td>\n",
              "      <td>106.260002</td>\n",
              "      <td>86.279999</td>\n",
              "      <td>97.970001</td>\n",
              "      <td>295.290009</td>\n",
              "      <td>103.320000</td>\n",
              "      <td>26.267099</td>\n",
              "      <td>220450.0</td>\n",
              "      <td>78.849998</td>\n",
              "      <td>62.930000</td>\n",
              "      <td>108.029999</td>\n",
              "      <td>67.480003</td>\n",
              "      <td>76.150002</td>\n",
              "      <td>500.585632</td>\n",
              "      <td>100.949997</td>\n",
              "      <td>93.516014</td>\n",
              "      <td>103.279999</td>\n",
              "      <td>58.980000</td>\n",
              "      <td>42.459999</td>\n",
              "      <td>124.900002</td>\n",
              "      <td>188.399994</td>\n",
              "      <td>83.089996</td>\n",
              "      <td>125.599998</td>\n",
              "      <td>60.320000</td>\n",
              "      <td>45.650002</td>\n",
              "      <td>70.610001</td>\n",
              "      <td>93.019997</td>\n",
              "      <td>31.42</td>\n",
              "      <td>89.599998</td>\n",
              "      <td>43.549999</td>\n",
              "      <td>26.514999</td>\n",
              "      <td>418.049988</td>\n",
              "      <td>33.900002</td>\n",
              "      <td>2944.5</td>\n",
              "      <td>70.182503</td>\n",
              "      <td>33.599998</td>\n",
              "      <td>98.919998</td>\n",
              "      <td>112.230003</td>\n",
              "      <td>107.459999</td>\n",
              "      <td>64.375000</td>\n",
              "      <td>183.270004</td>\n",
              "      <td>103.080002</td>\n",
              "      <td>47.040001</td>\n",
              "      <td>86.309998</td>\n",
              "      <td>89.809998</td>\n",
              "    </tr>\n",
              "    <tr>\n",
              "      <th>2015-01-07</th>\n",
              "      <td>26140.0</td>\n",
              "      <td>24.507099</td>\n",
              "      <td>124.400002</td>\n",
              "      <td>5.75</td>\n",
              "      <td>78.25</td>\n",
              "      <td>7407.0</td>\n",
              "      <td>107.750000</td>\n",
              "      <td>86.669601</td>\n",
              "      <td>99.000000</td>\n",
              "      <td>298.420013</td>\n",
              "      <td>102.129997</td>\n",
              "      <td>26.267099</td>\n",
              "      <td>223480.0</td>\n",
              "      <td>80.500000</td>\n",
              "      <td>63.349998</td>\n",
              "      <td>107.940002</td>\n",
              "      <td>68.019997</td>\n",
              "      <td>76.150002</td>\n",
              "      <td>499.727997</td>\n",
              "      <td>104.410004</td>\n",
              "      <td>94.192909</td>\n",
              "      <td>105.559998</td>\n",
              "      <td>59.070000</td>\n",
              "      <td>42.990002</td>\n",
              "      <td>126.300003</td>\n",
              "      <td>190.830002</td>\n",
              "      <td>84.220001</td>\n",
              "      <td>125.699997</td>\n",
              "      <td>61.610001</td>\n",
              "      <td>46.230000</td>\n",
              "      <td>70.750000</td>\n",
              "      <td>95.739998</td>\n",
              "      <td>31.85</td>\n",
              "      <td>90.070000</td>\n",
              "      <td>44.209999</td>\n",
              "      <td>26.870001</td>\n",
              "      <td>427.149994</td>\n",
              "      <td>33.990002</td>\n",
              "      <td>2962.5</td>\n",
              "      <td>70.943993</td>\n",
              "      <td>33.169998</td>\n",
              "      <td>99.930000</td>\n",
              "      <td>112.849998</td>\n",
              "      <td>108.459999</td>\n",
              "      <td>65.237503</td>\n",
              "      <td>185.559998</td>\n",
              "      <td>104.309998</td>\n",
              "      <td>46.189999</td>\n",
              "      <td>88.599998</td>\n",
              "      <td>90.720001</td>\n",
              "    </tr>\n",
              "    <tr>\n",
              "      <th>2015-01-08</th>\n",
              "      <td>26280.0</td>\n",
              "      <td>23.864799</td>\n",
              "      <td>127.300003</td>\n",
              "      <td>5.72</td>\n",
              "      <td>79.25</td>\n",
              "      <td>7554.0</td>\n",
              "      <td>111.889999</td>\n",
              "      <td>90.317703</td>\n",
              "      <td>99.919998</td>\n",
              "      <td>300.459991</td>\n",
              "      <td>105.029999</td>\n",
              "      <td>26.519400</td>\n",
              "      <td>226680.0</td>\n",
              "      <td>81.769997</td>\n",
              "      <td>64.930000</td>\n",
              "      <td>110.410004</td>\n",
              "      <td>68.910004</td>\n",
              "      <td>78.180000</td>\n",
              "      <td>501.303680</td>\n",
              "      <td>106.720001</td>\n",
              "      <td>95.908974</td>\n",
              "      <td>106.389999</td>\n",
              "      <td>60.389999</td>\n",
              "      <td>43.509998</td>\n",
              "      <td>128.380005</td>\n",
              "      <td>195.130005</td>\n",
              "      <td>85.529999</td>\n",
              "      <td>129.649994</td>\n",
              "      <td>62.849998</td>\n",
              "      <td>47.590000</td>\n",
              "      <td>71.459999</td>\n",
              "      <td>97.480003</td>\n",
              "      <td>32.50</td>\n",
              "      <td>91.099998</td>\n",
              "      <td>44.220001</td>\n",
              "      <td>27.495001</td>\n",
              "      <td>421.024994</td>\n",
              "      <td>34.279999</td>\n",
              "      <td>3027.5</td>\n",
              "      <td>72.152298</td>\n",
              "      <td>33.500000</td>\n",
              "      <td>104.699997</td>\n",
              "      <td>117.080002</td>\n",
              "      <td>110.410004</td>\n",
              "      <td>66.112503</td>\n",
              "      <td>188.820007</td>\n",
              "      <td>106.150002</td>\n",
              "      <td>47.180000</td>\n",
              "      <td>90.470001</td>\n",
              "      <td>92.230003</td>\n",
              "    </tr>\n",
              "  </tbody>\n",
              "</table>\n",
              "</div>"
            ],
            "text/plain": [
              "            005930.KS    0688.HK     0700.HK  ...         VZ        WMT        XOM\n",
              "Date                                          ...                                 \n",
              "2015-01-02    26600.0  24.704800  112.800003  ...  46.959999  85.900002  92.830002\n",
              "2015-01-05    26660.0  24.951799  113.500000  ...  46.570000  85.650002  90.290001\n",
              "2015-01-06    25900.0  24.605900  120.000000  ...  47.040001  86.309998  89.809998\n",
              "2015-01-07    26140.0  24.507099  124.400002  ...  46.189999  88.599998  90.720001\n",
              "2015-01-08    26280.0  23.864799  127.300003  ...  47.180000  90.470001  92.230003\n",
              "\n",
              "[5 rows x 50 columns]"
            ]
          },
          "metadata": {
            "tags": []
          },
          "execution_count": 5
        }
      ]
    },
    {
      "cell_type": "code",
      "metadata": {
        "id": "-Tust9YTuobb",
        "colab_type": "code",
        "colab": {}
      },
      "source": [
        "mu = aux.calcular_rendimiento(datos)"
      ],
      "execution_count": 0,
      "outputs": []
    },
    {
      "cell_type": "code",
      "metadata": {
        "id": "s7T8PDeAuzIZ",
        "colab_type": "code",
        "colab": {}
      },
      "source": [
        "S = aux.calcular_varianza(datos)"
      ],
      "execution_count": 0,
      "outputs": []
    },
    {
      "cell_type": "code",
      "metadata": {
        "id": "1ayPXeajxSHx",
        "colab_type": "code",
        "outputId": "dff7196b-33aa-4f8a-be27-8ac5ea07322c",
        "colab": {
          "base_uri": "https://localhost:8080/",
          "height": 35
        }
      },
      "source": [
        "max(mu)"
      ],
      "execution_count": 8,
      "outputs": [
        {
          "output_type": "execute_result",
          "data": {
            "text/plain": [
              "array(0.40221088)"
            ]
          },
          "metadata": {
            "tags": []
          },
          "execution_count": 8
        }
      ]
    },
    {
      "cell_type": "code",
      "metadata": {
        "id": "ZcaZtpzXxUPt",
        "colab_type": "code",
        "colab": {}
      },
      "source": [
        "rango =np.arange(0.4,1.1,0.1)"
      ],
      "execution_count": 0,
      "outputs": []
    },
    {
      "cell_type": "code",
      "metadata": {
        "id": "h3bde4vdxdWC",
        "colab_type": "code",
        "outputId": "31019897-d20e-463e-9256-91a96579f00b",
        "colab": {
          "base_uri": "https://localhost:8080/",
          "height": 35
        }
      },
      "source": [
        "rango"
      ],
      "execution_count": 10,
      "outputs": [
        {
          "output_type": "execute_result",
          "data": {
            "text/plain": [
              "array([0.4, 0.5, 0.6, 0.7, 0.8, 0.9, 1. ])"
            ]
          },
          "metadata": {
            "tags": []
          },
          "execution_count": 10
        }
      ]
    },
    {
      "cell_type": "code",
      "metadata": {
        "id": "b9wkFjOVxeRk",
        "colab_type": "code",
        "colab": {}
      },
      "source": [
        "res_sol1 = [mkv.markowitz(r,mu,S) for r in rango]"
      ],
      "execution_count": 0,
      "outputs": []
    },
    {
      "cell_type": "code",
      "metadata": {
        "id": "BEChECSjzoAe",
        "colab_type": "code",
        "colab": {}
      },
      "source": [
        "fo = lambda w: w@S@w\n",
        "#w_ast = mkv.markowitz(r,mu,S)\n",
        "n = mu.shape[0]\n",
        "A = cp.concatenate((mu,cp.ones(n))).reshape(2,n)\n",
        "#b = cp.array([r,1])\n",
        "M = cp.ones((2,mu.shape[0]))\n",
        "tol=1e-8\n",
        "tol_backtracking=1e-14\n",
        "#p_ast=fo(w_ast)"
      ],
      "execution_count": 0,
      "outputs": []
    },
    {
      "cell_type": "code",
      "metadata": {
        "id": "Sej1ekuhyvQ6",
        "colab_type": "code",
        "outputId": "63bd66e3-1ca8-4b9e-f4ca-17b2fadd70a8",
        "colab": {
          "base_uri": "https://localhost:8080/",
          "height": 1000
        }
      },
      "source": [
        "res_sol2 = [opt.Newtons_method_feasible_init_point(fo,\n",
        "                                                   A,\n",
        "                                                   utils.feasible_markowitz(r,mu),\n",
        "                                                   tol,\n",
        "                                                   tol_backtracking,\n",
        "                                                   mkv.markowitz(r,mu,S),\n",
        "                                                   fo(mkv.markowitz(r,mu,S)),\n",
        "                                                   maxiter=50)[0] for r in rango]"
      ],
      "execution_count": 13,
      "outputs": [
        {
          "output_type": "stream",
          "text": [
            "I\tNormgf \tNewton Decrement\tError x_ast\tError p_ast\tline search\tCondHf\n",
            "0\t0.023\t0.1226\t4.9546\t658.4719\t---\t\t1831.1723\n",
            "1\t0.023\t0.0015\t3.8955\t7.8723\t1\t1831.1723\n",
            "2\t0.023\t0.0\t1.1442\t0.0507\t1\t1831.1723\n",
            "3\t0.023\t0.0\t0.0262\t0.0\t1\t1831.1723\n",
            "Error of x with respect to x_ast: 0.026243401335918255\n",
            "Approximate solution: [ 1.57795928e-01 -2.02691361e-02  1.56601997e-01 -9.18329212e-02\n",
            "  3.19026593e-02  5.13753473e-02  8.69304413e-02  1.28914429e-02\n",
            "  3.63069050e-02  2.84384982e-01 -5.23613218e-03  1.92382125e-03\n",
            "  2.03108810e-01  9.41380756e-02  2.27258877e-02  1.48042182e-02\n",
            "  8.15114814e-03  2.98341506e-02  5.79705178e-02  1.97287027e-01\n",
            "  1.18301471e-01  1.27611328e-01  1.41376727e-01  1.36021595e-02\n",
            "  8.77568968e-02  1.50457156e-01  1.67974885e-01  7.64946857e-02\n",
            "  8.06725810e-02  8.28349470e-02  1.92517780e-01 -2.10512800e-02\n",
            "  2.68907133e-02  7.70233469e-02  2.15614978e-02 -1.07745970e-01\n",
            "  1.63347669e-01  1.72158174e-02  6.15006827e-02 -1.07599981e-01\n",
            " -5.03858517e-02  1.38527534e-01  1.03196577e-01 -4.18226273e-02\n",
            "  1.09550675e-02 -2.37477771e+00  2.33235584e-01  2.62667288e-01\n",
            "  1.20696513e-01 -1.03830657e-01]\n",
            "I\tNormgf \tNewton Decrement\tError x_ast\tError p_ast\tline search\tCondHf\n",
            "0\t0.0243\t0.1349\t4.626\t531.3532\t---\t\t1555.0013\n",
            "1\t0.0243\t0.0031\t4.6626\t11.8848\t1\t1555.0013\n",
            "2\t0.0243\t0.0\t0.7726\t0.0974\t1\t1555.0013\n",
            "3\t0.0243\t0.0\t0.0259\t0.0\t1\t1555.0013\n",
            "Error of x with respect to x_ast: 0.025941433546209196\n",
            "Approximate solution: [ 0.17595182 -0.02787151  0.20431747 -0.14047404  0.02060581  0.04000196\n",
            "  0.10966992 -0.00802567  0.05805312  0.350546   -0.01047101  0.00400955\n",
            "  0.21418109  0.09950828  0.04152173  0.01892752  0.00883288  0.0279424\n",
            "  0.06372369  0.2413873   0.15525973  0.14488534  0.20196523 -0.00955478\n",
            "  0.10393508  0.18298418  0.22162615  0.11018322  0.10211952  0.11942407\n",
            "  0.19980965 -0.01255953  0.01550935  0.07990785  0.04617746 -0.13127646\n",
            "  0.19086578  0.01101433  0.07413438 -0.13519201 -0.05419428  0.18063884\n",
            "  0.12464073 -0.06462941  0.01350841 -2.64640123  0.01261964  0.29193732\n",
            "  0.1291398  -0.15081666]\n",
            "I\tNormgf \tNewton Decrement\tError x_ast\tError p_ast\tline search\tCondHf\n",
            "0\t0.024\t0.1285\t3.9002\t387.3436\t---\t\t3373.2857\n",
            "1\t0.024\t0.0042\t2.7898\t12.8669\t1\t3373.2857\n",
            "2\t0.024\t0.0\t0.1988\t0.015\t1\t3373.2857\n",
            "3\t0.024\t0.0\t0.012\t0.0\t1\t3373.2857\n",
            "Error of x with respect to x_ast: 0.01196286723723026\n",
            "Approximate solution: [ 1.93690603e-01 -3.48667376e-02  2.50246671e-01 -1.88009308e-01\n",
            "  9.00136042e-03  2.90046564e-02  1.35919819e-01 -2.92093011e-02\n",
            "  8.05747081e-02  4.16439997e-01 -1.36840462e-02  5.58601540e-03\n",
            "  2.27043719e-01  1.04834250e-01  6.09750707e-02  2.41349130e-02\n",
            "  9.79718090e-03  2.72375904e-02  7.21249426e-02  2.89336730e-01\n",
            "  1.90091462e-01  1.64407845e-01  2.66292525e-01 -3.21643737e-02\n",
            "  1.21946107e-01  2.18377841e-01  2.75809364e-01  1.44704778e-01\n",
            "  1.25314600e-01  1.60364314e-01  2.04882298e-01  1.59025712e-03\n",
            "  5.69701355e-03  8.60322343e-02  7.08676987e-02 -1.55311004e-01\n",
            "  2.18004796e-01  5.28690925e-03  8.67260024e-02 -1.61366777e-01\n",
            " -5.80604659e-02  2.25273639e-01  1.47322997e-01 -8.49583500e-02\n",
            "  1.64169169e-02 -3.12190084e+00 -6.01969159e-02  3.21819408e-01\n",
            "  1.39499362e-01 -1.92948481e-01]\n",
            "I\tNormgf \tNewton Decrement\tError x_ast\tError p_ast\tline search\tCondHf\n",
            "0\t0.0169\t0.0658\t2.367\t151.8599\t---\t\t95530.0728\n",
            "1\t0.0169\t0.0195\t9.3654\t18.1862\t1\t95530.0728\n",
            "2\t0.0169\t0.006\t3.5729\t12.8259\t0.125\t95530.0728\n",
            "3\t0.0169\t-0.0006\t6.4092\t2.154\t1\t95530.0728\n",
            "Error of x with respect to x_ast: 6.409225905959219\n",
            "Approximate solution: [ 2.10412897e-01 -2.30741268e-02  3.65143480e-01 -4.23582225e-01\n",
            " -5.10338146e-02  1.11131788e-01 -5.00385382e-02 -2.49577419e-01\n",
            " -4.00247533e-02  6.08647604e-01 -8.53121780e-02 -1.11457666e-01\n",
            " -3.43689455e-01  5.47295168e-02 -1.91515977e-01  4.53815838e-01\n",
            "  1.05167861e-01 -1.84450852e-01  6.35927055e-02 -7.48027895e-02\n",
            " -4.19053022e-01  1.95539928e-01  2.66428116e-01 -5.03082864e-01\n",
            "  1.40716906e-01  4.36291061e-01  2.37558491e-01  3.98048606e-01\n",
            "  1.31908579e-01  3.73461040e-01  1.65662889e-01  7.30219520e-01\n",
            "  2.20264395e-02  3.69421982e-01  7.55528216e-03 -2.69748717e-01\n",
            "  3.10584638e-01 -2.82050654e-02  1.28735390e-01 -2.17861415e-01\n",
            " -1.69520813e-01  2.98010354e-01  1.82736185e-01 -1.86350012e-01\n",
            "  3.15444678e-02 -1.94373055e+01  1.73389032e+01  3.13624743e-01\n",
            "  1.78970551e-01 -1.70902819e-01]\n",
            "I\tNormgf \tNewton Decrement\tError x_ast\tError p_ast\tline search\tCondHf\n",
            "0\t0.0305\t0.2144\t3.9728\t379.2032\t---\t\t1839.8492\n",
            "1\t0.0305\t0.0198\t4.5549\t34.5106\t1\t1839.8492\n",
            "2\t0.0305\t0.0012\t7.9048\t4.6757\t1\t1839.8492\n",
            "3\t0.0305\t-0.0026\t7.3267\t2.166\t1\t1839.8492\n",
            "Error of x with respect to x_ast: 7.326652475780871\n",
            "Approximate solution: [ 1.96723595e-01 -8.84125119e-02  3.02679278e-01 -2.69326920e-01\n",
            " -5.72907196e-02 -6.49391185e-02  4.92526591e-01 -1.30082249e-01\n",
            "  1.83188228e-01  5.80305041e-01 -5.89159928e-03  3.97635440e-02\n",
            " -2.50840079e-01  7.24231075e-02  2.78302042e-02  2.66638225e-01\n",
            "  3.98731516e-02 -1.16306091e-02  2.84466030e-01  2.93011692e-01\n",
            "  1.34687042e-01  6.26226148e-01  7.54186726e-01 -1.30838190e-01\n",
            "  1.17148200e-01  4.20610203e-01 -1.08622048e-01  3.34166844e-01\n",
            "  1.19348754e-01  1.17453065e-01  1.79617519e-01  7.40826403e-01\n",
            " -1.70758046e-01  3.30411419e-01 -4.49000454e-02 -3.28482519e-01\n",
            "  2.58103100e-01 -2.77822383e-01  1.05005836e-01 -4.04484968e-01\n",
            " -3.82172290e-01  4.02608063e-01  4.37818814e-02 -8.76388294e-02\n",
            "  7.03758486e-01 -2.57584708e+01  2.05809785e+01  6.25902225e-01\n",
            "  3.13881342e-01 -1.15526595e-01]\n",
            "I\tNormgf \tNewton Decrement\tError x_ast\tError p_ast\tline search\tCondHf\n",
            "0\t0.0307\t0.2197\t3.8377\t325.1201\t---\t\t3285.7037\n",
            "1\t0.0307\t0.0097\t3.4197\t15.7469\t1\t3285.7037\n",
            "2\t0.0307\t0.0005\t3.792\t1.2991\t1\t3285.7037\n",
            "3\t0.0307\t-0.0004\t5.2082\t1.0609\t1\t3285.7037\n",
            "Error of x with respect to x_ast: 5.208227888988947\n",
            "Approximate solution: [ 2.01037926e-01 -3.50383415e-02  3.66138096e-01 -3.90744359e-01\n",
            " -8.78591097e-02 -1.02663068e-02  3.01903684e-01 -1.80791710e-01\n",
            "  1.17803845e-01  6.14487559e-01 -4.24972338e-02  3.08443200e-02\n",
            "  1.62879797e-01  2.59154566e-01 -6.40846982e-03  2.82832302e-01\n",
            " -4.70751321e-03  3.84781117e-02  1.57482757e-01  3.47738618e-01\n",
            "  1.43264724e-01  5.29990454e-01  5.50075615e-01 -2.36706241e-01\n",
            "  1.74481298e-01  5.23629653e-01  4.49459403e-01  3.40617858e-01\n",
            "  1.62222677e-01  4.06613108e-01  1.99050340e-01  4.13039694e-01\n",
            " -1.27118385e-01  2.75754416e-01  5.60601082e-02 -2.99888375e-01\n",
            "  2.92692774e-01 -1.28654657e-01  9.55660731e-02 -4.21967447e-01\n",
            " -1.65631026e-01  4.03498173e-01  1.55155082e-01 -1.80111903e-01\n",
            " -1.12401449e-01 -2.12448055e+01  1.61813573e+01  4.49665875e-01\n",
            "  2.44375874e-01 -2.51754038e-01]\n",
            "I\tNormgf \tNewton Decrement\tError x_ast\tError p_ast\tline search\tCondHf\n",
            "0\t0.0401\t0.3873\t4.3636\t449.6758\t---\t\t2270.4623\n",
            "1\t0.0401\t0.1753\t5.3085\t195.9264\t0.5\t2270.4623\n",
            "2\t0.0401\t0.0508\t6.3454\t60.397\t1\t2270.4623\n",
            "3\t0.0401\t0.0028\t6.9862\t7.8323\t1\t2270.4623\n",
            "4\t0.0401\t0.0021\t6.6227\t7.2324\t0.25\t2270.4623\n",
            "5\t0.0401\t-0.0031\t7.1347\t6.7953\t0.25\t2270.4623\n",
            "Error of x with respect to x_ast: 7.134660640110037\n",
            "Approximate solution: [ 1.44602390e-01 -7.25171581e-02 -1.10382550e-01  6.45288378e-01\n",
            " -1.17131494e-01  3.03192264e-01  7.98132846e-01  1.05599277e+00\n",
            " -4.91359438e-01  6.76023981e-01  1.73702304e-01  9.77724896e-03\n",
            "  3.40129342e+00  6.32861787e-01  7.01584757e-01  9.44599820e-02\n",
            "  1.33082954e-01  7.99699325e-01  1.31029049e-02  1.94326199e+00\n",
            "  1.88601086e+00  3.46299122e-01  4.18101375e-01 -7.43758803e-01\n",
            "  2.65190542e-01  5.36856139e-01 -5.66628989e-01 -9.27030152e-04\n",
            "  4.77734624e-01  1.37135150e+00  2.23084512e-01 -5.69196781e-01\n",
            "  6.64193610e-01  3.57082673e-01  1.34985010e+00 -3.04241850e-01\n",
            "  1.48640279e-02  2.07917896e-01  1.03561519e-01 -1.50252253e-01\n",
            "  1.00181598e-01  1.88735833e-01  5.40939092e-01  5.01338787e-01\n",
            "  1.49120755e+00  1.26256307e+01 -3.15258028e+01  3.04196782e-01\n",
            " -1.04889118e-01  2.56700125e-01]\n"
          ],
          "name": "stdout"
        }
      ]
    },
    {
      "cell_type": "markdown",
      "metadata": {
        "id": "GCXvBiP4wBFW",
        "colab_type": "text"
      },
      "source": [
        "La norma 2 está dada por"
      ]
    },
    {
      "cell_type": "code",
      "metadata": {
        "id": "a1QGZk333g6d",
        "colab_type": "code",
        "colab": {
          "base_uri": "https://localhost:8080/",
          "height": 146
        },
        "outputId": "e99c7769-9f78-437c-9f22-1c99260bd6d5"
      },
      "source": [
        "norm2 = np.zeros(7)\n",
        "for i in range(7):\n",
        "  norm2[i] = np.linalg.norm(res_sol1[i]-res_sol2[i], ord=2)\n",
        "  print(np.linalg.norm(res_sol1[i]-res_sol2[i]))"
      ],
      "execution_count": 55,
      "outputs": [
        {
          "output_type": "stream",
          "text": [
            "0.06450578493633026\n",
            "0.07434608399478973\n",
            "0.03929472027534662\n",
            "23.782816189824405\n",
            "30.344634651869278\n",
            "23.83392552330698\n",
            "35.76872170331559\n"
          ],
          "name": "stdout"
        }
      ]
    },
    {
      "cell_type": "markdown",
      "metadata": {
        "id": "1pC3O9LJwF5n",
        "colab_type": "text"
      },
      "source": [
        "La norma 1 está dada por"
      ]
    },
    {
      "cell_type": "code",
      "metadata": {
        "id": "5xEl1vIygXGP",
        "colab_type": "code",
        "colab": {
          "base_uri": "https://localhost:8080/",
          "height": 146
        },
        "outputId": "7ff307bb-ba9c-4154-a03c-d5de74ced723"
      },
      "source": [
        "norm1 = np.zeros(7)\n",
        "for i in range(7):\n",
        "  norm1[i] = np.linalg.norm(res_sol1[i]-res_sol2[i], ord=1)\n",
        "  print(np.linalg.norm(res_sol1[i]-res_sol2[i], ord=1))"
      ],
      "execution_count": 57,
      "outputs": [
        {
          "output_type": "stream",
          "text": [
            "0.1102295806504027\n",
            "0.12964678800100682\n",
            "0.06660254290270241\n",
            "40.5029000351\n",
            "50.478340548902594\n",
            "37.8330048982469\n",
            "72.23070236034027\n"
          ],
          "name": "stdout"
        }
      ]
    },
    {
      "cell_type": "markdown",
      "metadata": {
        "id": "s-qiKh8QwJJr",
        "colab_type": "text"
      },
      "source": [
        "La restricción del rendimiento del primer solver es:"
      ]
    },
    {
      "cell_type": "code",
      "metadata": {
        "id": "CT1F5ZI_5zMG",
        "colab_type": "code",
        "colab": {
          "base_uri": "https://localhost:8080/",
          "height": 146
        },
        "outputId": "2f03c32e-20d7-4f47-a35a-95df4657efc4"
      },
      "source": [
        "mu1 = np.zeros(7)\n",
        "for i in range(7):\n",
        "  mu1[i] = sum(res_sol1[i]*mu)\n",
        "  print(sum(res_sol1[i]*mu))"
      ],
      "execution_count": 60,
      "outputs": [
        {
          "output_type": "stream",
          "text": [
            "0.4000000000000006\n",
            "0.5000000000000006\n",
            "0.6000000000000003\n",
            "0.7000000000000005\n",
            "0.8000000000000003\n",
            "0.9000000000000001\n",
            "0.9999999999999998\n"
          ],
          "name": "stdout"
        }
      ]
    },
    {
      "cell_type": "markdown",
      "metadata": {
        "id": "u5OGMFh2wOv0",
        "colab_type": "text"
      },
      "source": [
        "La restricción de rendimiento para el segundo solver es:"
      ]
    },
    {
      "cell_type": "code",
      "metadata": {
        "id": "4OGRonJOiECC",
        "colab_type": "code",
        "colab": {
          "base_uri": "https://localhost:8080/",
          "height": 146
        },
        "outputId": "0abed6f3-6dd8-443d-9279-ec988d2a4eab"
      },
      "source": [
        "mu2 = np.zeros(7)\n",
        "for i in range(7):\n",
        "  mu2[i] = sum(res_sol2[i]*mu)\n",
        "  print(sum(res_sol2[i]*mu))"
      ],
      "execution_count": 61,
      "outputs": [
        {
          "output_type": "stream",
          "text": [
            "0.3999999999999993\n",
            "0.49999999999999856\n",
            "0.5999999999999992\n",
            "0.7000000000000005\n",
            "0.7999999999999976\n",
            "0.8999999999999967\n",
            "0.9999999999999964\n"
          ],
          "name": "stdout"
        }
      ]
    },
    {
      "cell_type": "markdown",
      "metadata": {
        "id": "5AQWvYn5wSj5",
        "colab_type": "text"
      },
      "source": [
        "La restricción de unicidad para el primer solver es:"
      ]
    },
    {
      "cell_type": "code",
      "metadata": {
        "id": "ZGJJyzsz6Klv",
        "colab_type": "code",
        "colab": {
          "base_uri": "https://localhost:8080/",
          "height": 146
        },
        "outputId": "433adf1a-22bf-4083-bce8-80859b02c95a"
      },
      "source": [
        "u1 = np.zeros(7)\n",
        "for i in range(7):\n",
        "  u1[i] = sum(res_sol1[i])\n",
        "  print(sum(res_sol1[i]))"
      ],
      "execution_count": 62,
      "outputs": [
        {
          "output_type": "stream",
          "text": [
            "1.0000000000000004\n",
            "0.9999999999999991\n",
            "1.0\n",
            "0.9999999999999989\n",
            "1.0000000000000022\n",
            "0.9999999999999996\n",
            "1.000000000000001\n"
          ],
          "name": "stdout"
        }
      ]
    },
    {
      "cell_type": "markdown",
      "metadata": {
        "id": "krJhi6zjwa2z",
        "colab_type": "text"
      },
      "source": [
        "La restricción de unicidad para el segundo solver es:"
      ]
    },
    {
      "cell_type": "code",
      "metadata": {
        "id": "XOPNxlFW6POW",
        "colab_type": "code",
        "colab": {
          "base_uri": "https://localhost:8080/",
          "height": 146
        },
        "outputId": "ea0fec63-a960-4cfb-c9ae-b198336f7d0d"
      },
      "source": [
        "u2 = np.zeros(7)\n",
        "for i in range(7):\n",
        "  u2[i] = sum(res_sol2[i])\n",
        "  print(sum(res_sol2[i]))"
      ],
      "execution_count": 63,
      "outputs": [
        {
          "output_type": "stream",
          "text": [
            "0.9999999999999996\n",
            "0.999999999999999\n",
            "1.000000000000003\n",
            "0.9999999999999987\n",
            "1.0000000000000049\n",
            "0.9999999999999998\n",
            "0.9999999999999908\n"
          ],
          "name": "stdout"
        }
      ]
    },
    {
      "cell_type": "markdown",
      "metadata": {
        "id": "BTl_Tzy6wd_Q",
        "colab_type": "text"
      },
      "source": [
        "La solución a la función objetivo para el primer solver es:"
      ]
    },
    {
      "cell_type": "code",
      "metadata": {
        "id": "7lyFg-mdldak",
        "colab_type": "code",
        "colab": {
          "base_uri": "https://localhost:8080/",
          "height": 146
        },
        "outputId": "940a39b1-380e-4820-b7d3-bf057bb63da0"
      },
      "source": [
        "s1 = np.zeros(7)\n",
        "for i in range(7):\n",
        "  s1[i] = res_sol1[i]@S@res_sol1[i]\n",
        "  print(res_sol1[i]@S@res_sol1[i])"
      ],
      "execution_count": 64,
      "outputs": [
        {
          "output_type": "stream",
          "text": [
            "9.397691724105942e-05\n",
            "0.00012574768623457936\n",
            "0.00016502392138388028\n",
            "0.0002118056226889634\n",
            "0.0002660927901498277\n",
            "0.00032788542376647404\n",
            "0.00039718352353889904\n"
          ],
          "name": "stdout"
        }
      ]
    },
    {
      "cell_type": "markdown",
      "metadata": {
        "id": "EuL8586pwl00",
        "colab_type": "text"
      },
      "source": [
        "La solución a la funcióón objetivo para el segundo solver es:"
      ]
    },
    {
      "cell_type": "code",
      "metadata": {
        "id": "tAcQLW24mFYh",
        "colab_type": "code",
        "colab": {
          "base_uri": "https://localhost:8080/",
          "height": 146
        },
        "outputId": "2f63f4d6-53c3-441a-c239-ca165911e859"
      },
      "source": [
        "s2 = np.zeros(7)\n",
        "for i in range(7):\n",
        "  s2[i] = res_sol2[i]@S@res_sol2[i]\n",
        "  print(res_sol2[i]@S@res_sol2[i])"
      ],
      "execution_count": 65,
      "outputs": [
        {
          "output_type": "stream",
          "text": [
            "9.397988967700636e-05\n",
            "0.00012575162219927977\n",
            "0.00016502491199219758\n",
            "0.0006680283861108914\n",
            "0.0008424468977042823\n",
            "0.0006757518970911845\n",
            "0.0030961683015238864\n"
          ],
          "name": "stdout"
        }
      ]
    },
    {
      "cell_type": "code",
      "metadata": {
        "id": "5zfdbCwOmXYR",
        "colab_type": "code",
        "colab": {}
      },
      "source": [
        "tabla = pd.DataFrame({'||Dif||': norm2,\n",
        "                     '|Dif|': norm1,\n",
        "                     'w1*mu': mu1,\n",
        "                     'w2*mu': mu2,\n",
        "                     'Sigma1': s1,\n",
        "                     'Sigma2': s2})"
      ],
      "execution_count": 0,
      "outputs": []
    },
    {
      "cell_type": "code",
      "metadata": {
        "id": "4GmOWXdUoicT",
        "colab_type": "code",
        "colab": {
          "base_uri": "https://localhost:8080/",
          "height": 269
        },
        "outputId": "7ee1852a-e077-4aab-8445-1ef614469715"
      },
      "source": [
        "tabla"
      ],
      "execution_count": 70,
      "outputs": [
        {
          "output_type": "execute_result",
          "data": {
            "text/html": [
              "<div>\n",
              "<style scoped>\n",
              "    .dataframe tbody tr th:only-of-type {\n",
              "        vertical-align: middle;\n",
              "    }\n",
              "\n",
              "    .dataframe tbody tr th {\n",
              "        vertical-align: top;\n",
              "    }\n",
              "\n",
              "    .dataframe thead th {\n",
              "        text-align: right;\n",
              "    }\n",
              "</style>\n",
              "<table border=\"1\" class=\"dataframe\">\n",
              "  <thead>\n",
              "    <tr style=\"text-align: right;\">\n",
              "      <th></th>\n",
              "      <th>||Dif||</th>\n",
              "      <th>|Dif|</th>\n",
              "      <th>w1*mu</th>\n",
              "      <th>w2*mu</th>\n",
              "      <th>Sigma1</th>\n",
              "      <th>Sigma2</th>\n",
              "    </tr>\n",
              "  </thead>\n",
              "  <tbody>\n",
              "    <tr>\n",
              "      <th>0</th>\n",
              "      <td>0.064506</td>\n",
              "      <td>0.110230</td>\n",
              "      <td>0.4</td>\n",
              "      <td>0.4</td>\n",
              "      <td>0.000094</td>\n",
              "      <td>0.000094</td>\n",
              "    </tr>\n",
              "    <tr>\n",
              "      <th>1</th>\n",
              "      <td>0.074346</td>\n",
              "      <td>0.129647</td>\n",
              "      <td>0.5</td>\n",
              "      <td>0.5</td>\n",
              "      <td>0.000126</td>\n",
              "      <td>0.000126</td>\n",
              "    </tr>\n",
              "    <tr>\n",
              "      <th>2</th>\n",
              "      <td>0.039295</td>\n",
              "      <td>0.066603</td>\n",
              "      <td>0.6</td>\n",
              "      <td>0.6</td>\n",
              "      <td>0.000165</td>\n",
              "      <td>0.000165</td>\n",
              "    </tr>\n",
              "    <tr>\n",
              "      <th>3</th>\n",
              "      <td>23.782816</td>\n",
              "      <td>40.502900</td>\n",
              "      <td>0.7</td>\n",
              "      <td>0.7</td>\n",
              "      <td>0.000212</td>\n",
              "      <td>0.000668</td>\n",
              "    </tr>\n",
              "    <tr>\n",
              "      <th>4</th>\n",
              "      <td>30.344635</td>\n",
              "      <td>50.478341</td>\n",
              "      <td>0.8</td>\n",
              "      <td>0.8</td>\n",
              "      <td>0.000266</td>\n",
              "      <td>0.000842</td>\n",
              "    </tr>\n",
              "    <tr>\n",
              "      <th>5</th>\n",
              "      <td>23.833926</td>\n",
              "      <td>37.833005</td>\n",
              "      <td>0.9</td>\n",
              "      <td>0.9</td>\n",
              "      <td>0.000328</td>\n",
              "      <td>0.000676</td>\n",
              "    </tr>\n",
              "    <tr>\n",
              "      <th>6</th>\n",
              "      <td>35.768722</td>\n",
              "      <td>72.230702</td>\n",
              "      <td>1.0</td>\n",
              "      <td>1.0</td>\n",
              "      <td>0.000397</td>\n",
              "      <td>0.003096</td>\n",
              "    </tr>\n",
              "  </tbody>\n",
              "</table>\n",
              "</div>"
            ],
            "text/plain": [
              "     ||Dif||      |Dif|  w1*mu  w2*mu    Sigma1    Sigma2\n",
              "0   0.064506   0.110230    0.4    0.4  0.000094  0.000094\n",
              "1   0.074346   0.129647    0.5    0.5  0.000126  0.000126\n",
              "2   0.039295   0.066603    0.6    0.6  0.000165  0.000165\n",
              "3  23.782816  40.502900    0.7    0.7  0.000212  0.000668\n",
              "4  30.344635  50.478341    0.8    0.8  0.000266  0.000842\n",
              "5  23.833926  37.833005    0.9    0.9  0.000328  0.000676\n",
              "6  35.768722  72.230702    1.0    1.0  0.000397  0.003096"
            ]
          },
          "metadata": {
            "tags": []
          },
          "execution_count": 70
        }
      ]
    },
    {
      "cell_type": "code",
      "metadata": {
        "id": "beU-0KGDojQ0",
        "colab_type": "code",
        "colab": {
          "base_uri": "https://localhost:8080/",
          "height": 35
        },
        "outputId": "1905dee6-a4aa-4dd0-a806-939179839372"
      },
      "source": [
        "mu2"
      ],
      "execution_count": 67,
      "outputs": [
        {
          "output_type": "execute_result",
          "data": {
            "text/plain": [
              "array([0.4, 0.5, 0.6, 0.7, 0.8, 0.9, 1. ])"
            ]
          },
          "metadata": {
            "tags": []
          },
          "execution_count": 67
        }
      ]
    },
    {
      "cell_type": "code",
      "metadata": {
        "id": "fakNcLiCpH2o",
        "colab_type": "code",
        "colab": {}
      },
      "source": [
        ""
      ],
      "execution_count": 0,
      "outputs": []
    }
  ]
}