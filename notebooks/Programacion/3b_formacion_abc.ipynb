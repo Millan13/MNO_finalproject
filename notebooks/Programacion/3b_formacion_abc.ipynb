{
  "nbformat": 4,
  "nbformat_minor": 0,
  "metadata": {
    "colab": {
      "name": "3b_formacion_acb.ipynb",
      "provenance": [],
      "collapsed_sections": []
    },
    "kernelspec": {
      "name": "python3",
      "display_name": "Python 3"
    },
    "accelerator": "GPU"
  },
  "cells": [
    {
      "cell_type": "markdown",
      "metadata": {
        "id": "Cuq9-5YMxZPQ",
        "colab_type": "text"
      },
      "source": [
        "# **3.b Formación de valores A, B y C**\n",
        "\n",
        "**Responsable:**\n",
        "\n",
        "César Zamora Martínez\n",
        "\n",
        "**Infraestructura usada:** \n",
        "Google Colab, para pruebas\n"
      ]
    },
    {
      "cell_type": "markdown",
      "metadata": {
        "id": "ZwiYf-3Ox3Bp",
        "colab_type": "text"
      },
      "source": [
        "## 0. Instalación de Cupy en Colab"
      ]
    },
    {
      "cell_type": "code",
      "metadata": {
        "id": "467T8zJzxZ4N",
        "colab_type": "code",
        "colab": {
          "base_uri": "https://localhost:8080/",
          "height": 214
        },
        "outputId": "a709f381-9549-4157-b99e-6cd206c2c818"
      },
      "source": [
        "!curl https://colab.chainer.org/install | sh -"
      ],
      "execution_count": 4,
      "outputs": [
        {
          "output_type": "stream",
          "text": [
            "  % Total    % Received % Xferd  Average Speed   Time    Time     Time  Current\n",
            "                                 Dload  Upload   Total   Spent    Left  Speed\n",
            "100  1580  100  1580    0     0   2573      0 --:--:-- --:--:-- --:--:--  2569\n",
            "+ apt -y -q install cuda-libraries-dev-10-0\n",
            "Reading package lists...\n",
            "Building dependency tree...\n",
            "Reading state information...\n",
            "cuda-libraries-dev-10-0 is already the newest version (10.0.130-1).\n",
            "0 upgraded, 0 newly installed, 0 to remove and 25 not upgraded.\n",
            "+ pip install -q cupy-cuda100  chainer \n",
            "+ set +ex\n",
            "Installation succeeded!\n"
          ],
          "name": "stdout"
        }
      ]
    },
    {
      "cell_type": "markdown",
      "metadata": {
        "id": "gYi6APThyLPd",
        "colab_type": "text"
      },
      "source": [
        "## 1. Implementación\n",
        "\n",
        "**Consideraciones:**. Esta etapa supone que se conocen $\\mu$ y $\\Sigma$ asociados a los activos. El fin de este paso es obtener valores escalares que serán relevantes para obtener los pesos del portafolio para el inversionista.\n",
        "\n",
        "Lo cual, se lleva a cabo en concreto a través de las expresiones:\n",
        "\n",
        "$$A = \\mu^t \\cdot \\Sigma^{-1} \\cdot \\mu $$\n",
        "\n",
        "$$B = 1^t \\cdot \\Sigma^{-1} \\cdot 1 $$\n",
        "\n",
        "$$C = 1^t \\cdot \\Sigma^{-1} \\cdot \\mu $$\n",
        "\n",
        "\n",
        "En este tenor a continución se presenta el código correspondiente:\n",
        "\n"
      ]
    },
    {
      "cell_type": "code",
      "metadata": {
        "id": "fiWayxHhewhy",
        "colab_type": "code",
        "colab": {}
      },
      "source": [
        "import cupy as cp\n",
        "\n",
        "def formar_abc(mu, Sigma):\n",
        "  '''\n",
        "  Calcula las cantidades A, B y C del diagrama de flujo del problema de Markowitz\n",
        "\n",
        "  Args:\n",
        "    mu (cupy array, vector): valores medios esperados de activos (dimension n)\n",
        "    Sigma (cupy array, matriz): matriz de covarianzas asociada a activos (dimension n x n)\n",
        "\n",
        "  Return:\n",
        "    A (cupy array, escalar): escalar dado por mu^t \\cdot Sigma^-1 \\cdot mu\n",
        "    B (cupy array, escalar): escalar dado por 1^t \\cdot Sigma^-1 \\cdot 1\n",
        "    C (cupy array, escalar): escalar dado por 1^t \\cdot Sigma^-1 \\cdot mu\n",
        "  '''\n",
        "\n",
        "  # Vector auxiliar con entradas igual a 1\n",
        "  n = Sigma.shape[0]\n",
        "  ones_vector = cp.ones(n)\n",
        "\n",
        "  # Formamos vector \\cdot Sigma^-1 mu y Sigm^-1 1\n",
        "  # Nota: \n",
        "  #   1) u= Sigma^-1 \\cdot mu se obtiene resolviendo  Sigma u = mu\n",
        "  #   2) v= Sigma^-1 \\cdot 1 se obtiene resolviendo  Sigma v = 1\n",
        "\n",
        "  u = cp.linalg.solve(Sigma, mu)\n",
        "  v = cp.linalg.solve(Sigma, ones_vector)\n",
        "\n",
        "  # Obtiene escalares de interes\n",
        "  A = mu.transpose()@u\n",
        "  B = ones_vector.transpose()@v\n",
        "  C = ones_vector.transpose()@u\n",
        "\n",
        "  return A, B, C"
      ],
      "execution_count": 0,
      "outputs": []
    },
    {
      "cell_type": "markdown",
      "metadata": {
        "id": "FidlJG2Ozhse",
        "colab_type": "text"
      },
      "source": [
        "## 1.1 Matrices de prueba"
      ]
    },
    {
      "cell_type": "code",
      "metadata": {
        "id": "54p9YVhfewqJ",
        "colab_type": "code",
        "colab": {}
      },
      "source": [
        "n= 10**4\n",
        "\n",
        "Sigma=cp.random.rand(n, n)\n",
        "mu=cp.random.rand(n, 1)"
      ],
      "execution_count": 0,
      "outputs": []
    },
    {
      "cell_type": "code",
      "metadata": {
        "id": "Qa2fOGuZews9",
        "colab_type": "code",
        "colab": {
          "base_uri": "https://localhost:8080/",
          "height": 32
        },
        "outputId": "8641dbfd-aed9-4daf-d86e-6680aef0b276"
      },
      "source": [
        "formar_abc(mu, Sigma)"
      ],
      "execution_count": 7,
      "outputs": [
        {
          "output_type": "execute_result",
          "data": {
            "text/plain": [
              "(array([[154.42787347]]), array(1.78220947), array([-12.51604798]))"
            ]
          },
          "metadata": {
            "tags": []
          },
          "execution_count": 7
        }
      ]
    }
  ]
}
