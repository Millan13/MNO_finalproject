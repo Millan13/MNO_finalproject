{
  "nbformat": 4,
  "nbformat_minor": 0,
  "metadata": {
    "colab": {
      "name": "2Revision_Symbolic_GH.ipynb",
      "provenance": [],
      "collapsed_sections": [],
      "toc_visible": true
    },
    "kernelspec": {
      "name": "python3",
      "display_name": "Python 3"
    },
    "accelerator": "GPU"
  },
  "cells": [
    {
      "cell_type": "markdown",
      "metadata": {
        "id": "jssg0ZAKTHPm",
        "colab_type": "text"
      },
      "source": [
        "## **Revisión de funciones de gradiente y hessiana para sistema agrandado**"
      ]
    },
    {
      "cell_type": "markdown",
      "metadata": {
        "id": "aqm82l2kTMSq",
        "colab_type": "text"
      },
      "source": [
        "**Responsable:** Yalidt Díaz Vázquez\n",
        "\n",
        "**Infraestructura utilizada:** La implementación de la revisión se llevó a cabo en google colab.\n",
        "\n",
        "**Objetivo** : Implementar el código ya desarollado en *numpy* a *cupy* para poder utilizarlo en paralelo y resolver el portafolio de **Marcowitz** con el método de Netwton."
      ]
    },
    {
      "cell_type": "code",
      "metadata": {
        "id": "BeXTIjpfTBWF",
        "colab_type": "code",
        "colab": {
          "base_uri": "https://localhost:8080/",
          "height": 173
        },
        "outputId": "314d7b5d-8278-42eb-b911-b030bdff7b36"
      },
      "source": [
        "!pip3 install --user cupy-cuda102"
      ],
      "execution_count": 1,
      "outputs": [
        {
          "output_type": "stream",
          "text": [
            "Collecting cupy-cuda102\n",
            "\u001b[?25l  Downloading https://files.pythonhosted.org/packages/96/cb/b7731d08a8564ac6d84540a6077f3e1d79a5e63c9bb6c9667c185cf3f0e9/cupy_cuda102-7.4.0-cp36-cp36m-manylinux1_x86_64.whl (380.4MB)\n",
            "\u001b[K     |████████████████████████████████| 380.4MB 38kB/s \n",
            "\u001b[?25hRequirement already satisfied: fastrlock>=0.3 in /usr/local/lib/python3.6/dist-packages (from cupy-cuda102) (0.4)\n",
            "Requirement already satisfied: numpy>=1.9.0 in /usr/local/lib/python3.6/dist-packages (from cupy-cuda102) (1.18.4)\n",
            "Requirement already satisfied: six>=1.9.0 in /usr/local/lib/python3.6/dist-packages (from cupy-cuda102) (1.12.0)\n",
            "Installing collected packages: cupy-cuda102\n",
            "Successfully installed cupy-cuda102-7.4.0\n"
          ],
          "name": "stdout"
        }
      ]
    },
    {
      "cell_type": "code",
      "metadata": {
        "id": "vmTrqV4hTio3",
        "colab_type": "code",
        "colab": {
          "base_uri": "https://localhost:8080/",
          "height": 71
        },
        "outputId": "6227ea46-5761-46b2-fb26-dd78227ff4a5"
      },
      "source": [
        "#Librerías utilizadas\n",
        "import cupy as cp\n",
        "import numpy as np\n",
        "import pandas as pd\n",
        "import fix_yahoo_finance as yf\n",
        "import datetime\n",
        "import matplotlib.pyplot as plt\n",
        "import seaborn as sns\n",
        "import time\n",
        "import funciones_auxiliares"
      ],
      "execution_count": 2,
      "outputs": [
        {
          "output_type": "stream",
          "text": [
            "/usr/local/lib/python3.6/dist-packages/statsmodels/tools/_testing.py:19: FutureWarning: pandas.util.testing is deprecated. Use the functions in the public API at pandas.testing instead.\n",
            "  import pandas.util.testing as tm\n"
          ],
          "name": "stderr"
        }
      ]
    },
    {
      "cell_type": "markdown",
      "metadata": {
        "id": "zLjs92YVY0OG",
        "colab_type": "text"
      },
      "source": [
        "Test 1 : matriz de maxímo 10**2"
      ]
    },
    {
      "cell_type": "code",
      "metadata": {
        "id": "x5zLtWibTlqI",
        "colab_type": "code",
        "colab": {}
      },
      "source": [
        "np.random.seed(141394) #Implementamos una semilla\n",
        "n=10**2\n",
        "#Generamos un vector con entradas aleatorias para simlular el precio de las acciones\n",
        "#X_test=np.random.uniform(1,n,size=(55,55))\n",
        "X_test=cp.random.rand(n, n)\n",
        "#Calcularmos la varianza de los datos simulados\n",
        "Sigma=funciones_auxiliares.calcular_varianza(X_test)\n",
        "mu=funciones_auxiliares.calcular_rendimiento(X_test)\n",
        "\n",
        "#Definimos el retorno máximo\n",
        "r=max(mu)"
      ],
      "execution_count": 0,
      "outputs": []
    },
    {
      "cell_type": "code",
      "metadata": {
        "id": "n0oz2j6dTrbE",
        "colab_type": "code",
        "colab": {
          "base_uri": "https://localhost:8080/",
          "height": 34
        },
        "outputId": "183078db-6f5c-4c17-8900-a4ecf7571b75"
      },
      "source": [
        "Sigma.shape"
      ],
      "execution_count": 77,
      "outputs": [
        {
          "output_type": "execute_result",
          "data": {
            "text/plain": [
              "(100, 100)"
            ]
          },
          "metadata": {
            "tags": []
          },
          "execution_count": 77
        }
      ]
    },
    {
      "cell_type": "code",
      "metadata": {
        "id": "NUAp60UhTtmT",
        "colab_type": "code",
        "colab": {
          "base_uri": "https://localhost:8080/",
          "height": 34
        },
        "outputId": "3c5c75a9-d56d-4830-9918-47e0d3dd4c21"
      },
      "source": [
        "mu.shape"
      ],
      "execution_count": 78,
      "outputs": [
        {
          "output_type": "execute_result",
          "data": {
            "text/plain": [
              "(100,)"
            ]
          },
          "metadata": {
            "tags": []
          },
          "execution_count": 78
        }
      ]
    },
    {
      "cell_type": "markdown",
      "metadata": {
        "id": "T_sz922STyS0",
        "colab_type": "text"
      },
      "source": [
        "Calculamos el gradiente simbólico"
      ]
    },
    {
      "cell_type": "code",
      "metadata": {
        "id": "_75eFYpiTwDI",
        "colab_type": "code",
        "colab": {}
      },
      "source": [
        "#Se define la función para el calculo del gradiente\n",
        "def gfo_cp_mark(x):\n",
        "    v = x[0:(x.size-2)]\n",
        "    value1 = x[x.size-2]\n",
        "    value2 = x[x.size-1]\n",
        "    #m,n=Sigma.shape\n",
        "    first_block = Sigma@v -1/2*value1*mu -1/2*value2*unos\n",
        "    second_block = -1/2*(v.dot(mu)-r)\n",
        "    third_block = -1/2*(v.dot(unos)-1)\n",
        "    first_block_np = cp.asnumpy(first_block)\n",
        "    second_block_np = cp.asnumpy(second_block)\n",
        "    third_block_np = cp.asnumpy(third_block)\n",
        "    #es necesario pasar los bloques a numpy para poder hacerles concatenate \n",
        "    return cp.asarray(np.concatenate((first_block_np,np.array([second_block_np]),np.array([third_block_np]))))"
      ],
      "execution_count": 0,
      "outputs": []
    },
    {
      "cell_type": "code",
      "metadata": {
        "id": "8EQLIKiDT8QK",
        "colab_type": "code",
        "colab": {
          "base_uri": "https://localhost:8080/",
          "height": 34
        },
        "outputId": "809e8190-db35-4f91-b431-1599c23defe2"
      },
      "source": [
        "#Generamos los vectores auxiliares y verificamos tenga la dimensión correcta\n",
        "unos = cp.ones(n)\n",
        "unos.shape"
      ],
      "execution_count": 80,
      "outputs": [
        {
          "output_type": "execute_result",
          "data": {
            "text/plain": [
              "(100,)"
            ]
          },
          "metadata": {
            "tags": []
          },
          "execution_count": 80
        }
      ]
    },
    {
      "cell_type": "code",
      "metadata": {
        "id": "9k2J3UH6UN6b",
        "colab_type": "code",
        "colab": {
          "base_uri": "https://localhost:8080/",
          "height": 34
        },
        "outputId": "8eb3b8a1-5d22-4daa-8f8c-ab203e76c530"
      },
      "source": [
        "x = cp.ones(n+2)\n",
        "x.shape"
      ],
      "execution_count": 81,
      "outputs": [
        {
          "output_type": "execute_result",
          "data": {
            "text/plain": [
              "(102,)"
            ]
          },
          "metadata": {
            "tags": []
          },
          "execution_count": 81
        }
      ]
    },
    {
      "cell_type": "code",
      "metadata": {
        "id": "X-ZTpbkyUKei",
        "colab_type": "code",
        "colab": {
          "base_uri": "https://localhost:8080/",
          "height": 459
        },
        "outputId": "442d3ae9-f17a-4e72-b799-8d339207f2f5"
      },
      "source": [
        "gradiente=gfo_cp_mark(x)\n",
        "gradiente"
      ],
      "execution_count": 82,
      "outputs": [
        {
          "output_type": "execute_result",
          "data": {
            "text/plain": [
              "array([  5.59389083,   4.16298669,   1.16173511,  -0.80452193,\n",
              "         8.06850161,   4.3992134 ,  -4.37988936,  -3.47449534,\n",
              "         3.08104278,   0.27422126,   1.50603361,  -1.75408277,\n",
              "         5.65452205,   0.10250282,   0.77642265,   0.63016518,\n",
              "         0.17076949,   4.54840769,   2.90662153,   7.27628177,\n",
              "        -1.06703195,  -0.27907012,   2.26378022,   3.10674916,\n",
              "         4.49429706,   0.64247775,   5.64809942,  -1.01016255,\n",
              "         2.32326918,  -5.3998149 ,   3.95431778,   2.72399494,\n",
              "         0.4537366 ,  -0.63625346,  -0.06449992,  -0.43771631,\n",
              "         2.26618511,   4.90680216,   5.12511457,  -1.218305  ,\n",
              "        -3.67054273,   0.64530235,  -0.6721487 ,  -0.77244143,\n",
              "        -4.30119408,   5.47597868,   1.97266713,   1.9916272 ,\n",
              "         0.47649751,  -1.22048931,  -2.74664156,  -4.52301709,\n",
              "         2.53909588,   8.68880158,   4.18834463,   4.94865022,\n",
              "         1.12245783,  -3.51087556,  -3.17834954,  -0.69359037,\n",
              "         3.85684406,   2.48662992,  -0.93311724,   1.85913197,\n",
              "         5.57398706,   3.92397497,   4.03262031,   1.324559  ,\n",
              "         3.24104075,   3.58547222,   2.83582247,   0.58422696,\n",
              "         2.75452044,  -2.29249702,   2.51774237,   8.00828329,\n",
              "        -1.86317158,   9.13598674,   1.77033478,   1.02565438,\n",
              "         0.63530677,   2.27374716,   2.68502808,   0.28440716,\n",
              "         6.01198458,   6.76717781,   2.6967336 ,  10.17287613,\n",
              "         0.51635581,   2.17771571,  -0.06083534,  -1.52262801,\n",
              "        -3.22076551,  -0.11280605,   6.04190238,   1.13013818,\n",
              "         2.48021396,   0.21487882,   4.40864392,   1.40410919,\n",
              "        10.03306694, -49.5       ])"
            ]
          },
          "metadata": {
            "tags": []
          },
          "execution_count": 82
        }
      ]
    },
    {
      "cell_type": "markdown",
      "metadata": {
        "id": "vunvNnDCWBFz",
        "colab_type": "text"
      },
      "source": [
        "Calculamos el hessiana simbólica"
      ]
    },
    {
      "cell_type": "code",
      "metadata": {
        "id": "8XI6hfZ6V-YX",
        "colab_type": "code",
        "colab": {}
      },
      "source": [
        "def Hfo_cp_mark(x):\n",
        "    v = x[0:(x.size-2)]\n",
        "    value1 = x[x.size-2]\n",
        "    value2 = x[x.size-1]\n",
        "    m,n=Sigma.shape\n",
        "    first_block = Sigma \n",
        "    second_block = -1/2*mu\n",
        "    third_block = -1/2*unos\n",
        "    fs_block = cp.column_stack((first_block, second_block, third_block))\n",
        "    fourth_block = -1/2*mu\n",
        "    fifth_block = -1/2*unos\n",
        "    sixth_block = cp.zeros((2,2))\n",
        "    #es necesario pasar los bloques a numpy para poder hacerles concatenate y row_stack\n",
        "    tf_block = np.column_stack(( np.row_stack((cp.asnumpy(fourth_block),cp.asnumpy(fifth_block))),cp.asnumpy(sixth_block)))\n",
        "    return cp.asarray(np.row_stack((cp.asnumpy(fs_block), tf_block)))"
      ],
      "execution_count": 0,
      "outputs": []
    },
    {
      "cell_type": "code",
      "metadata": {
        "id": "SAdN6ca8VFCC",
        "colab_type": "code",
        "colab": {
          "base_uri": "https://localhost:8080/",
          "height": 238
        },
        "outputId": "45f1dc8c-b291-47a7-8ebe-868f97639de5"
      },
      "source": [
        "hessiana=Hfo_cp_mark(x)\n",
        "hessiana"
      ],
      "execution_count": 84,
      "outputs": [
        {
          "output_type": "execute_result",
          "data": {
            "text/plain": [
              "array([[ 1.8450889 , -0.13067072,  0.45438903, ..., -0.10268936,\n",
              "         0.28316019, -0.5       ],\n",
              "       [-0.13067072,  1.95291512,  0.05686187, ..., -0.01609178,\n",
              "         1.578899  , -0.5       ],\n",
              "       [ 0.45438903,  0.05686187,  1.27961467, ..., -0.3432405 ,\n",
              "        -0.00612039, -0.5       ],\n",
              "       ...,\n",
              "       [-0.10268936, -0.01609178, -0.3432405 , ...,  2.45811277,\n",
              "         2.7469915 , -0.5       ],\n",
              "       [ 0.28316019,  1.578899  , -0.00612039, ...,  2.7469915 ,\n",
              "         0.        ,  0.        ],\n",
              "       [-0.5       , -0.5       , -0.5       , ..., -0.5       ,\n",
              "         0.        ,  0.        ]])"
            ]
          },
          "metadata": {
            "tags": []
          },
          "execution_count": 84
        }
      ]
    },
    {
      "cell_type": "markdown",
      "metadata": {
        "id": "eiJmvF1SZ5T5",
        "colab_type": "text"
      },
      "source": [
        "Test 2 : matriz de maxímo 10**3"
      ]
    },
    {
      "cell_type": "code",
      "metadata": {
        "id": "HF9yHJWqYsW3",
        "colab_type": "code",
        "colab": {}
      },
      "source": [
        "np.random.seed(141394) #Implementamos una semilla\n",
        "n=10**3\n",
        "#Generamos un vector con entradas aleatorias para simlular el precio de las acciones\n",
        "#X_test=np.random.uniform(1,n,size=(55,55))\n",
        "X_test=cp.random.rand(n, n)\n",
        "#Calcularmos la varianza de los datos simulados\n",
        "Sigma=funciones_auxiliares.calcular_varianza(X_test)\n",
        "mu=funciones_auxiliares.calcular_rendimiento(X_test)\n",
        "\n",
        "#Definimos el retorno máximo\n",
        "r=max(mu)\n",
        "\n",
        "#Vectores auxiliares\n",
        "unos = cp.ones(n)\n",
        "x = cp.ones(n+2)"
      ],
      "execution_count": 0,
      "outputs": []
    },
    {
      "cell_type": "code",
      "metadata": {
        "id": "QsFks7UZaUBP",
        "colab_type": "code",
        "colab": {
          "base_uri": "https://localhost:8080/",
          "height": 51
        },
        "outputId": "9b340dd0-07bc-478b-d589-67d0107f46ca"
      },
      "source": [
        "gradiente=gfo_cp_mark(x)\n",
        "gradiente"
      ],
      "execution_count": 88,
      "outputs": [
        {
          "output_type": "execute_result",
          "data": {
            "text/plain": [
              "array([  -1.23443998,    1.35120825,    1.08749611, ...,    2.09910078,\n",
              "         10.3089411 , -499.5       ])"
            ]
          },
          "metadata": {
            "tags": []
          },
          "execution_count": 88
        }
      ]
    },
    {
      "cell_type": "code",
      "metadata": {
        "id": "Hskp2IjuageN",
        "colab_type": "code",
        "colab": {
          "base_uri": "https://localhost:8080/",
          "height": 238
        },
        "outputId": "a84b87fb-643c-4171-fe2b-2164e7ec8cd6"
      },
      "source": [
        "hessiana=Hfo_cp_mark(x)\n",
        "hessiana"
      ],
      "execution_count": 89,
      "outputs": [
        {
          "output_type": "execute_result",
          "data": {
            "text/plain": [
              "array([[ 1.7765566 , -0.00853804, -0.11948184, ...,  0.05922019,\n",
              "        -0.01188587, -0.5       ],\n",
              "       [-0.00853804,  2.04182097, -0.05446197, ...,  0.02523144,\n",
              "         0.02635109, -0.5       ],\n",
              "       [-0.11948184, -0.05446197,  2.33995493, ...,  0.03759729,\n",
              "        -0.04627767, -0.5       ],\n",
              "       ...,\n",
              "       [ 0.05922019,  0.02523144,  0.03759729, ...,  2.06444492,\n",
              "        -0.05266467, -0.5       ],\n",
              "       [-0.01188587,  0.02635109, -0.04627767, ..., -0.05266467,\n",
              "         0.        ,  0.        ],\n",
              "       [-0.5       , -0.5       , -0.5       , ..., -0.5       ,\n",
              "         0.        ,  0.        ]])"
            ]
          },
          "metadata": {
            "tags": []
          },
          "execution_count": 89
        }
      ]
    },
    {
      "cell_type": "markdown",
      "metadata": {
        "id": "vxZHOfi7aqh9",
        "colab_type": "text"
      },
      "source": [
        "Test 3 : matriz de maxímo 10**4"
      ]
    },
    {
      "cell_type": "code",
      "metadata": {
        "id": "iQ-fIPChamuM",
        "colab_type": "code",
        "colab": {}
      },
      "source": [
        "np.random.seed(141394) #Implementamos una semilla\n",
        "n=10**4\n",
        "#Generamos un vector con entradas aleatorias para simlular el precio de las acciones\n",
        "#X_test=np.random.uniform(1,n,size=(55,55))\n",
        "X_test=cp.random.rand(n, n)\n",
        "#Calcularmos la varianza de los datos simulados\n",
        "Sigma=funciones_auxiliares.calcular_varianza(X_test)\n",
        "mu=funciones_auxiliares.calcular_rendimiento(X_test)\n",
        "\n",
        "#Definimos el retorno máximo\n",
        "r=max(mu)\n",
        "\n",
        "#Vectores auxiliares\n",
        "unos = cp.ones(n)\n",
        "x = cp.ones(n+2)"
      ],
      "execution_count": 0,
      "outputs": []
    },
    {
      "cell_type": "code",
      "metadata": {
        "id": "3a7fpGH9awrI",
        "colab_type": "code",
        "colab": {
          "base_uri": "https://localhost:8080/",
          "height": 51
        },
        "outputId": "c9d28e3e-6488-43fb-b4cb-d631cfe035ae"
      },
      "source": [
        "gradiente=gfo_cp_mark(x)\n",
        "gradiente"
      ],
      "execution_count": 91,
      "outputs": [
        {
          "output_type": "execute_result",
          "data": {
            "text/plain": [
              "array([ 8.72898925e-01,  1.22191553e+00,  5.50440683e-01, ...,\n",
              "        5.70651989e+00,  8.13396989e-01, -4.99950000e+03])"
            ]
          },
          "metadata": {
            "tags": []
          },
          "execution_count": 91
        }
      ]
    },
    {
      "cell_type": "code",
      "metadata": {
        "id": "-mY6WjBna2aW",
        "colab_type": "code",
        "colab": {
          "base_uri": "https://localhost:8080/",
          "height": 238
        },
        "outputId": "0e779f45-0e0f-4628-8501-5e9ecc3bb49f"
      },
      "source": [
        "hessiana=Hfo_cp_mark(x)\n",
        "hessiana"
      ],
      "execution_count": 92,
      "outputs": [
        {
          "output_type": "execute_result",
          "data": {
            "text/plain": [
              "array([[ 1.98746995e+00, -1.69016294e-02, -1.57471409e-02, ...,\n",
              "        -3.73195157e-03,  4.86941944e-03, -5.00000000e-01],\n",
              "       [-1.69016294e-02,  2.09082863e+00,  4.43902497e-03, ...,\n",
              "         2.08907771e-02, -3.54055846e-04, -5.00000000e-01],\n",
              "       [-1.57471409e-02,  4.43902497e-03,  2.06073635e+00, ...,\n",
              "         1.34622766e-02,  2.94406209e-02, -5.00000000e-01],\n",
              "       ...,\n",
              "       [-3.73195157e-03,  2.08907771e-02,  1.34622766e-02, ...,\n",
              "         2.08580717e+00,  3.14277675e-03, -5.00000000e-01],\n",
              "       [ 4.86941944e-03, -3.54055846e-04,  2.94406209e-02, ...,\n",
              "         3.14277675e-03,  0.00000000e+00,  0.00000000e+00],\n",
              "       [-5.00000000e-01, -5.00000000e-01, -5.00000000e-01, ...,\n",
              "        -5.00000000e-01,  0.00000000e+00,  0.00000000e+00]])"
            ]
          },
          "metadata": {
            "tags": []
          },
          "execution_count": 92
        }
      ]
    },
    {
      "cell_type": "markdown",
      "metadata": {
        "id": "EabsBJXCWqlQ",
        "colab_type": "text"
      },
      "source": [
        "**Hallazgos**\n",
        "\n",
        "1)Funciona bien para dimensiones grandes de matrices, incluso con 10**4\n",
        "\n",
        "**Mejoras**\n",
        "\n",
        "1) Falta documentación de ambas funciones <br>\n",
        "2) Meter como parámetros a ambas funcioones : Sigma, r, mu e incluso la dimension de los vectores de *unos* para que estos esten definidos dentro de la función y solo reciban como parámetos la dimensión."
      ]
    }
  ]
}