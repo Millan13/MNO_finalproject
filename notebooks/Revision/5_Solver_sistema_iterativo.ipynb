{
  "nbformat": 4,
  "nbformat_minor": 0,
  "metadata": {
    "colab": {
      "name": "5_Solver_sistema_iterativo",
      "provenance": [],
      "collapsed_sections": [
        "_jXzC354QsEC",
        "MKZRTVHQQvuM",
        "FpZFj9q6Q022",
        "3lwwOvMtQ-r_",
        "g794nWiDRD3I",
        "behXLDpARJ-d",
        "4wowIcmFRPiE",
        "6sqgkmd0Rb3n"
      ]
    },
    "kernelspec": {
      "name": "python3",
      "display_name": "Python 3"
    },
    "accelerator": "GPU"
  },
  "cells": [
    {
      "cell_type": "code",
      "metadata": {
        "id": "jp1-0qDTI5If",
        "colab_type": "code",
        "outputId": "d3fd4883-15cf-4b4c-ce01-8866f5f88a25",
        "colab": {
          "base_uri": "https://localhost:8080/",
          "height": 237
        }
      },
      "source": [
        "#Librerias necesarias\n",
        "!curl https://colab.chainer.org/install | sh -"
      ],
      "execution_count": 1,
      "outputs": [
        {
          "output_type": "stream",
          "text": [
            "  % Total    % Received % Xferd  Average Speed   Time    Time     Time  Current\n",
            "                                 Dload  Upload   Total   Spent    Left  Speed\n",
            "\r  0     0    0     0    0     0      0      0 --:--:-- --:--:-- --:--:--     0\r100  1580  100  1580    0     0   8449      0 --:--:-- --:--:-- --:--:--  8449\n",
            "+ apt -y -q install cuda-libraries-dev-10-0\n",
            "Reading package lists...\n",
            "Building dependency tree...\n",
            "Reading state information...\n",
            "cuda-libraries-dev-10-0 is already the newest version (10.0.130-1).\n",
            "0 upgraded, 0 newly installed, 0 to remove and 31 not upgraded.\n",
            "+ pip install -q cupy-cuda100  chainer \n",
            "+ set +ex\n",
            "Installation succeeded!\n"
          ],
          "name": "stdout"
        }
      ]
    },
    {
      "cell_type": "markdown",
      "metadata": {
        "id": "QF-1O51iOPBG",
        "colab_type": "text"
      },
      "source": [
        "# Código revisado"
      ]
    },
    {
      "cell_type": "code",
      "metadata": {
        "id": "ztDFMD8tJDn4",
        "colab_type": "code",
        "colab": {}
      },
      "source": [
        "import numpy as np\n",
        "import cupy as cp\n",
        "import solver.extraer_datos_yahoo as extrae\n",
        "import solver.funciones_auxiliares as aux\n",
        "import solver.line_search as line\n",
        "import solver.modelo_markowitz as mkv\n",
        "import solver.utils as utils\n",
        "import solver.optimizacion_numerica as opt\n",
        "#from utils import inc_index, dec_index, compute_error, norm_residual, condicion_cupy\n",
        "#from line_search import line_search_by_backtracking, line_search_for_residual_by_backtracking"
      ],
      "execution_count": 0,
      "outputs": []
    },
    {
      "cell_type": "markdown",
      "metadata": {
        "id": "_jXzC354QsEC",
        "colab_type": "text"
      },
      "source": [
        "## Código módulos"
      ]
    },
    {
      "cell_type": "markdown",
      "metadata": {
        "id": "MKZRTVHQQvuM",
        "colab_type": "text"
      },
      "source": [
        "### Extraer datos\n"
      ]
    },
    {
      "cell_type": "code",
      "metadata": {
        "id": "0cMh2o_KQ3CC",
        "colab_type": "code",
        "colab": {}
      },
      "source": [
        "import fix_yahoo_finance as yf\n",
        "\n",
        "def extraer_datos_yahoo(stocks, start='2015-01-01', end='2020-04-30'):\n",
        "  '''\n",
        "  Funcion para extraer precios al cierre de las acciones mediante yahoo finance de 2015-01-01 a 2020-04-30\n",
        "\n",
        "  params: stocks    lista de acciones de las cuales se desea obtener el precio\n",
        "          start     fecha inicial\n",
        "          end       fecha final\n",
        "\n",
        "  return: base      Dataframe de precios por acción (columnas) y día (filas)\n",
        "  '''\n",
        "  df_c = yf.download(stocks, start=start, end=end).Close\n",
        "  base = df_c['AAPL'].dropna().to_frame()\n",
        "  for i in range(0,50):\n",
        "      base = base.join(df_c.iloc[:,i].to_frame(), lsuffix='_caller', rsuffix='_other')\n",
        "  base = base.drop(columns=['AAPL_caller'])\n",
        "  base = base.rename(columns={\"AAPL_other\": \"AAPL\"})\n",
        "  base = base.fillna(method='ffill')\n",
        "  base = base.fillna(method='bfill')\n",
        "  return base\n"
      ],
      "execution_count": 0,
      "outputs": []
    },
    {
      "cell_type": "markdown",
      "metadata": {
        "id": "FpZFj9q6Q022",
        "colab_type": "text"
      },
      "source": [
        "### Funciones auxiliares"
      ]
    },
    {
      "cell_type": "code",
      "metadata": {
        "id": "ORD4GT5VQ90K",
        "colab_type": "code",
        "colab": {}
      },
      "source": [
        "import cupy as cp\n",
        "\n",
        "def calcular_rendimiento_vector(x):\n",
        "  \"\"\"\n",
        "  Función para calcular el rendimiento esperado\n",
        "\n",
        "  params:\n",
        "      x     vector de precios\n",
        "  \n",
        "  return:\n",
        "      r_est rendimiento esperado diario\n",
        "  \"\"\"\n",
        "\n",
        "  # Definimos precios iniciales y finales como arreglo alojado en la gpu\n",
        "  x_o = cp.asarray(x)\n",
        "  x_f = x_o[1:]\n",
        "\n",
        "  # Calculamos los rendimientos diarios\n",
        "  r = cp.log(x_f/x_o[:-1])\n",
        "\n",
        "  return r\n",
        "\n",
        "def calcular_rendimiento(X):\n",
        "  \"\"\"\n",
        "  Función para calcular el rendimiento esperado para un conjunto de acciones\n",
        "\n",
        "  params:\n",
        "      X      matriz mxn de precios, donde:\n",
        "             m es el número de observaciones y\n",
        "             n el número de acciones\n",
        "  \n",
        "  return:\n",
        "      r_est rvector de rendimientos esperados\n",
        "  \"\"\"\n",
        "  m,n = X.shape\n",
        "  r_est = cp.zeros(n)\n",
        "  X = cp.asarray(X)\n",
        "\n",
        "  for i in range(n):\n",
        "    r_est[i] = calcular_rendimiento_vector(X[:,i]).mean()\n",
        "\n",
        "  return 264*r_est\n",
        "\n",
        "def calcular_varianza(X):\n",
        "\n",
        "  \"\"\"\n",
        "  Función para calcular el la matriz de varianzas y covarianzas para un conjunto de acciones\n",
        "\n",
        "  params:\n",
        "      X      matriz mxn de precios, donde:\n",
        "             m es el número de observaciones y\n",
        "               n el número de acciones\n",
        "  \n",
        "  return:\n",
        "      S  matriz de varianzas y covarianzas\n",
        "  \"\"\"\n",
        "  m,n=X.shape\n",
        "  X = cp.asarray(X)\n",
        "\n",
        "  X_m = cp.zeros((m-1,n))\n",
        "\n",
        "  for i in range(n):\n",
        "    X_m[:,i] = calcular_rendimiento_vector(X[:,i]) - calcular_rendimiento_vector(X[:,i]).mean()\n",
        "\n",
        "  S = (cp.transpose(X_m)@X_m)/(m-2)\n",
        "\n",
        "  return S\n",
        "\n",
        "\n"
      ],
      "execution_count": 0,
      "outputs": []
    },
    {
      "cell_type": "markdown",
      "metadata": {
        "id": "3lwwOvMtQ-r_",
        "colab_type": "text"
      },
      "source": [
        "### Modelo Markovitz"
      ]
    },
    {
      "cell_type": "code",
      "metadata": {
        "id": "yC6kWejYRBet",
        "colab_type": "code",
        "colab": {}
      },
      "source": [
        "import cupy as cp\n",
        "import pandas as pd\n",
        "\n",
        "def formar_vectores(mu, Sigma):\n",
        "  '''\n",
        "  Calcula las cantidades u = \\Sigma^{-1}  \\mu y v := \\Sigma^{-1} \\cdot 1 del problema de Markowitz\n",
        "\n",
        "  Args:\n",
        "    mu (cupy array, vector): valores medios esperados de activos (dimension n)\n",
        "    Sigma (cupy array, matriz): matriz de covarianzas asociada a activos (dimension n x n)\n",
        "\n",
        "  Return:\n",
        "    u (cupy array, escalar): vector dado por \\cdot Sigma^-1 \\cdot mu (dimension n)\n",
        "    v (cupy array, escalar): vector dado por Sigma^-1 \\cdot 1 (dimension n)\n",
        "  '''\n",
        "\n",
        "  # Vector auxiliar con entradas igual a 1\n",
        "  n = Sigma.shape[0]\n",
        "  ones_vector = cp.ones(n)\n",
        "\n",
        "  # Formamos vector \\cdot Sigma^-1 mu y Sigm^-1 1\n",
        "  # Nota: \n",
        "  #   1) u= Sigma^-1 \\cdot mu se obtiene resolviendo  Sigma u = mu\n",
        "  #   2) v= Sigma^-1 \\cdot 1 se obtiene resolviendo  Sigma v = 1\n",
        "\n",
        "  # Obtiene vectores de interes\n",
        "  u = cp.linalg.solve(Sigma, mu)\n",
        "  u = u.transpose() # correcion de expresion de array\n",
        "  v = cp.linalg.solve(Sigma, ones_vector)\n",
        "\n",
        "  return u , v\n",
        "\n",
        "def formar_abc(mu, Sigma):\n",
        "  '''\n",
        "  Calcula las cantidades A, B y C del diagrama de flujo del problema de Markowitz\n",
        "\n",
        "  Args:\n",
        "    mu (cupy array, vector): valores medios esperados de activos (dimension n)\n",
        "    Sigma (cupy array, matriz): matriz de covarianzas asociada a activos (dimension n x n)\n",
        "\n",
        "  Return:\n",
        "    A (cupy array, escalar): escalar dado por mu^t \\cdot Sigma^-1 \\cdot mu\n",
        "    B (cupy array, escalar): escalar dado por 1^t \\cdot Sigma^-1 \\cdot 1\n",
        "    C (cupy array, escalar): escalar dado por 1^t \\cdot Sigma^-1 \\cdot mu\n",
        "  '''\n",
        "\n",
        "  # Vector auxiliar con entradas igual a 1\n",
        "  n = Sigma.shape[0]\n",
        "  ones_vector = cp.ones(n)\n",
        "\n",
        "  # Formamos vector \\cdot Sigma^-1 mu y Sigm^-1 1\n",
        "  # Nota: \n",
        "  #   1) u= Sigma^-1 \\cdot mu se obtiene resolviendo  Sigma u = mu\n",
        "  #   2) v= Sigma^-1 \\cdot 1 se obtiene resolviendo  Sigma v = 1\n",
        "\n",
        "  u, v = formar_vectores(mu, Sigma)\n",
        "\n",
        "  # Obtiene escalares de interes\n",
        "  A = mu.transpose()@u\n",
        "  B = ones_vector.transpose()@v\n",
        "  C = ones_vector.transpose()@u\n",
        "\n",
        "  return A, B, C\n",
        "\n",
        "\n",
        "def delta(A,B,C):\n",
        "  '''\n",
        "  Calcula las cantidad Delta = AB-C^2 del diagrama de flujo del problema de Markowitz\n",
        "\n",
        "  Args:\n",
        "    A (cupy array, escalar): escalar dado por mu^t \\cdot Sigma^-1 \\cdot mu\n",
        "    B (cupy array, escalar): escalar dado por 1^t \\cdot Sigma^-1 \\cdot 1\n",
        "    C (cupy array, escalar): escalar dado por 1^t \\cdot Sigma^-1 \\cdot mu\n",
        "\n",
        "  Return:\n",
        "    Delta (cupy array, escalar): escalar dado \\mu^t \\cdot \\Sigma^{-1} \\cdot \\mu\n",
        "  '''\n",
        "  Delta = A*B-C**2\n",
        "\n",
        "  return Delta\n",
        "\n",
        "\n",
        "def formar_omegas(r, mu, Sigma):\n",
        "  '''\n",
        "  Calcula las cantidades w_o y w_ del problema de Markowitz\n",
        "\n",
        "  Args:\n",
        "    r (escalar) : retorno esperado por el inversionista\n",
        "    mu (cupy array, vector): valores medios esperados de activos (dimension n)\n",
        "    Sigma (cupy array, matriz): matriz de covarianzas asociada a activos (dimension n x n)\n",
        "\n",
        "  Return:\n",
        "    w_0 (cupy escalar, matriz): escalar dado por \n",
        "          w_0 = \\frac{1}{\\Delta} (B \\Sigma^{-1} \\hat{\\mu}- C\\Sigma^{-1} 1) \n",
        "    w_1 (cupy escalar, vector): escalar dado por \n",
        "         w_1 = \\frac{1}{\\Delta} (C \\Sigma^{-1} \\hat{\\mu}- A\\Sigma^{-1} 1)\n",
        "  '''\n",
        "  # Obtenemos u = Sigma^{-1} \\hat{\\mu}, v = \\Sigma^{-1} 1\n",
        "  u, v = formar_vectores(mu, Sigma)\n",
        "  # Escalares relevantes\n",
        "  A, B, C = formar_abc(mu, Sigma)\n",
        "  Delta = delta(A,B,C)\n",
        "  # Formamos w_0 y w_1\n",
        "  w_0 = (1/Delta)*(r*B-C)\n",
        "  w_1 = (1/Delta)*(A-C*r)\n",
        "\n",
        "  return w_0, w_1\n",
        "\n",
        "def markowitz(r, mu, Sigma):\n",
        "  '''\n",
        "  Calcula las cantidades w_o y w_ del problema de Markowitz\n",
        "\n",
        "  Args:\n",
        "    r (escalar) : retorno esperado por el inversionista\n",
        "    mu (cupy array, vector): valores medios esperados de activos (dimension n)\n",
        "    Sigma (cupy array, matriz): matriz de covarianzas asociada a activos (dimension n x n)\n",
        "\n",
        "  Return:\n",
        "    w (cupy array, vector): vector de pesos que minimizan la varianza del portfolio\n",
        "  '''\n",
        "  # Obtenemos u = Sigma^{-1} \\hat{\\mu}, v = \\Sigma^{-1} 1\n",
        "  u, v = formar_vectores(mu, Sigma)\n",
        "\n",
        "  # Formamos w_0 y w_1\n",
        "  w_0, w_1 = formar_omegas(r, mu, Sigma)\n",
        "\n",
        "  return w_0*u+w_1*v\n",
        "\n",
        "def markowitz_df(r, mu, Sigma, stocks):\n",
        "  '''\n",
        "  Crea data frame de la función markowitz relacionando los pesos con las acciones\n",
        "\n",
        "  Args:\n",
        "    r (escalar) : retorno esperado por el inversionista\n",
        "    mu (cupy array, vector): valores medios esperados de activos (dimension n)\n",
        "    Sigma (cupy array, matriz): matriz de covarianzas asociada a activos (dimension n x n)\n",
        "    stocks (lista): Códigos bursátiles de las acciones a evaluar\n",
        "\n",
        "  Return:\n",
        "    df (DataFrame): Data Frame con acciones como índices y los pesos ordenados correspondientes\n",
        "  '''\n",
        "\n",
        "  aux = markowitz(r, mu, Sigma)\n",
        "  df =pd.DataFrame( cp.asnumpy(aux), columns = ['pesos'])\n",
        "  df[\"stocks\"]=stocks\n",
        "  df = df.sort_values(by=['pesos'], ascending=False)\n",
        "  return df\n",
        "\n",
        "\n"
      ],
      "execution_count": 0,
      "outputs": []
    },
    {
      "cell_type": "markdown",
      "metadata": {
        "id": "g794nWiDRD3I",
        "colab_type": "text"
      },
      "source": [
        "### Optimización numérica"
      ]
    },
    {
      "cell_type": "code",
      "metadata": {
        "id": "WYA2tt0zRIAi",
        "colab_type": "code",
        "colab": {}
      },
      "source": [
        "import cupy as cp\n",
        "import numpy as np\n",
        "from solver.utils import inc_index\n",
        "from solver.utils import dec_index\n",
        "\n",
        "\n",
        "def gfo_cp_mark(Sigma,x):\n",
        "    '''\n",
        "    gradiente de la función objetivo 1/2*x.t*Sigma*x\n",
        "    input: matriz Sigma y vector x\n",
        "    output: producto matriz-vector Sigma*x\n",
        "    '''\n",
        "    first_block = Sigma@x\n",
        "    return first_block\n",
        "\n",
        "\n",
        "def Hfo_cp_mark(Sigma):\n",
        "    '''\n",
        "    Hessiana de la función objetivo 1/2*x.t*Sigma*x\n",
        "    input: matriz Sigma\n",
        "    output: matriz Sigma\n",
        "    '''\n",
        "    first_block = Sigma \n",
        "    return first_block\n",
        "\n",
        "\n",
        "def gradient_approximation(f,x,h=1e-8):\n",
        "    '''\n",
        "    Numerical approximation of gradient for function f using forward differences.\n",
        "    Args:\n",
        "        f (lambda expression): definition of function f.\n",
        "        x (array): numpy array that holds values where gradient will be computed.\n",
        "        h (float): step size for forward differences, tipically h=1e-8\n",
        "    Returns:\n",
        "        gf (array): numerical approximation to gradient of f.\n",
        "    '''\n",
        "    n = x.size\n",
        "    gf = cp.zeros(n)\n",
        "    f_x = f(x)\n",
        "    for i in np.arange(n):\n",
        "        inc_index(x,i,h)\n",
        "        gf[i] = f(x) - f_x\n",
        "        dec_index(x,i,h)\n",
        "    return gf/h\n",
        "\n",
        "\n",
        "\n",
        "def Hessian_approximation(f,x,h=1e-6):\n",
        "    '''\n",
        "    Numerical approximation of Hessian for function f using forward differences.\n",
        "    Args:\n",
        "        f (lambda expression): definition of function f.\n",
        "        x (array): numpy array that holds values where Hessian will be computed.\n",
        "        h (float): step size for forward differences, tipically h=1e-6\n",
        "    Returns:\n",
        "        Hf (array): numerical approximation to Hessian of f.\n",
        "    '''\n",
        "    n = x.size\n",
        "    Hf = cp.zeros((n,n))\n",
        "    f_x = f(x)\n",
        "    for i in np.arange(n):\n",
        "        inc_index(x,i,h)\n",
        "        f_x_inc_in_i = f(x)\n",
        "        for j in np.arange(i,n):\n",
        "            inc_index(x,j,h)\n",
        "            f_x_inc_in_i_j = f(x)\n",
        "            dec_index(x,i,h)\n",
        "            f_x_inc_in_j = f(x)\n",
        "            dif = f_x_inc_in_i_j-f_x_inc_in_i-f_x_inc_in_j+f_x\n",
        "            Hf[i,j] = dif\n",
        "            if j != i:\n",
        "                Hf[j,i] = dif\n",
        "            dec_index(x,j,h)\n",
        "            inc_index(x,i,h)\n",
        "        dec_index(x,i,h)\n",
        "    return Hf/h**2\n",
        "\n",
        "import solver\n",
        "\n",
        "\n",
        "\n",
        "def Newtons_method_feasible_init_point(f, A, x_0, tol, \n",
        "                                       tol_backtracking, x_ast=None, p_ast=None, maxiter=30,\n",
        "                                       gf_symbolic = None,\n",
        "                                       Hf_symbolic = None,\n",
        "                                       Sigma = None):\n",
        "    '''\n",
        "    Newton's method to numerically approximate solution of min f subject to Ax = b.\n",
        "    IMPORTANT: this implementation requires that initial point x_0, satisfies: Ax_0 = b\n",
        "    Args:\n",
        "        f (fun): definition of function f as lambda expression or function definition.\n",
        "        A (numpy ndarray): 2d numpy array of shape (m,n) defines system of constraints Ax=b.\n",
        "        x_0 (numpy ndarray): initial point for Newton's method. Must satisfy: Ax_0 = b\n",
        "        tol (float): tolerance that will halt method. Controls stopping criteria.\n",
        "        tol_backtracking (float): tolerance that will halt method. Controls value of line search by backtracking.\n",
        "        x_ast (numpy ndarray): solution of min f, now it's required that user knows the solution...\n",
        "        p_ast (float): value of f(x_ast), now it's required that user knows the solution...\n",
        "        maxiter (int): maximum number of iterations\n",
        "        gf_symbolic (fun): definition of gradient of f. If given, no approximation is\n",
        "                                     performed via finite differences.\n",
        "        Hf_symbolic (fun): definition of Hessian of f. If given, no approximation is\n",
        "                                     performed via fi\n",
        "                                     nite differences.\n",
        "    Returns:\n",
        "        x (numpy ndarray): numpy array, approximation of x_ast.\n",
        "        iteration (int): number of iterations.\n",
        "        Err_plot (numpy ndarray): numpy array of absolute error between p_ast and f(x) with x approximation\n",
        "                          of x_ast. Useful for plotting.\n",
        "        x_plot (numpy ndarray): numpy array that containts in columns vector of approximations. Last column\n",
        "                        contains x, approximation of solution. Useful for plotting.\n",
        "    '''\n",
        "    iteration = 0\n",
        "        \n",
        "    x = x_0\n",
        "    \n",
        "    feval = f(x)\n",
        "    \n",
        "    if gf_symbolic:\n",
        "        gfeval = gf_symbolic(x,Sigma)\n",
        "    else:\n",
        "        gfeval = gradient_approximation(f,x)\n",
        "\n",
        "    if Hf_symbolic:\n",
        "        Hfeval = Hf_symbolic(x,Sigma)\n",
        "    else:\n",
        "        Hfeval = Hessian_approximation(f,x)\n",
        "    \n",
        "    normgf = np.linalg.norm(gfeval)\n",
        "    condHf= solver.utils.condicion_cupy(Hfeval)\n",
        "    \n",
        "    Err_plot_aux = np.zeros(maxiter)\n",
        "    Err_plot_aux[iteration]= solver.utils.compute_error(p_ast,feval)\n",
        "    \n",
        "    Err = solver.utils.compute_error(x_ast,x)\n",
        "    \n",
        "        \n",
        "    if(A.ndim == 1):\n",
        "        p = 1\n",
        "        n = x.size\n",
        "        zero_matrix = cp.zeros(p)\n",
        "        first_stack = cp.column_stack((Hfeval, A.T))\n",
        "        second_stack = cp.row_stack((A.reshape(1,n).T,zero_matrix)).reshape(1,n+1)[0]\n",
        "    else:\n",
        "        p,n = A.shape\n",
        "        zero_matrix = cp.zeros((p,p))\n",
        "        first_stack = np.column_stack((Hfeval, A.T))\n",
        "        second_stack = np.column_stack((A,zero_matrix))\n",
        "        \n",
        "    x_plot = cp.zeros((n,maxiter))\n",
        "    x_plot[:,iteration] = x\n",
        "    \n",
        "    system_matrix = cp.vstack((first_stack,second_stack))\n",
        "    zero_vector = cp.zeros(p)\n",
        "    rhs = cp.vstack((gfeval.reshape(n,1), zero_vector.reshape(p,1))).T[0]\n",
        "\n",
        "    #Newton's direction and Newton's decrement\n",
        "    dir_desc = cp.linalg.solve(system_matrix, -rhs)\n",
        "    dir_Newton = dir_desc[0:n]\n",
        "    dec_Newton = -gfeval.dot(dir_Newton)\n",
        "    w_dual_variable_estimation = dir_desc[n:(n+p)]\n",
        "\n",
        "\n",
        "    print('I\\tNormgf \\tNewton Decrement\\tError x_ast\\tError p_ast\\tline search\\tCondHf')\n",
        "    print('{}\\t{}\\t{}\\t{}\\t{}\\t{}\\t\\t{}'.format(iteration,\n",
        "                                                cp.around(normgf,4),\n",
        "                                                cp.around(dec_Newton,4),\n",
        "                                                cp.around(Err,4),\n",
        "                                                cp.around(Err_plot_aux[iteration],4),\n",
        "                                                \"---\",\n",
        "                                                cp.around(condHf,4)))\n",
        "    stopping_criteria = dec_Newton/2\n",
        "    iteration+=1\n",
        "    while(stopping_criteria>tol and iteration < maxiter):\n",
        "        der_direct = -dec_Newton\n",
        "        t = solver.line_search.line_search_by_backtracking(f,dir_Newton,x,der_direct)\n",
        "        x = x + t*dir_Newton\n",
        "        feval = f(x)\n",
        "        \n",
        "        \n",
        "        if gf_symbolic:\n",
        "            gfeval = gf_symbolic(x,Sigma)\n",
        "        else:\n",
        "            gfeval = gradient_approximation(f,x)\n",
        "        \n",
        "        if Hf_symbolic: \n",
        "            Hfeval = Hf_symbolic(x,Sigma)\n",
        "        else:\n",
        "            Hfeval = Hessian_approximation(f,x)\n",
        "        if(A.ndim == 1):\n",
        "            first_stack = cp.column_stack((Hfeval, A.T))\n",
        "        else:\n",
        "            first_stack = cp.column_stack((Hfeval, A.T))\n",
        "\n",
        "        system_matrix = cp.vstack((first_stack,second_stack))\n",
        "        rhs = cp.vstack((gfeval.reshape(n,1), zero_vector.reshape(p,1))).T[0]\n",
        "        #Newton's direction and Newton's decrement\n",
        "        dir_desc = cp.linalg.solve(system_matrix, -rhs)\n",
        "        dir_Newton = dir_desc[0:n]\n",
        "        dec_Newton = -gfeval.dot(dir_Newton)\n",
        "        w_dual_variable_estimation = dir_desc[n:(n+p)]\n",
        "        \n",
        "        Err_plot_aux[iteration]= solver.utils.compute_error(p_ast,feval)\n",
        "        x_plot[:,iteration] = x\n",
        "        Err = solver.utils.compute_error(x_ast,x)\n",
        "        print('{}\\t{}\\t{}\\t{}\\t{}\\t{}\\t{}'.format(iteration,\n",
        "                                                  cp.around(normgf,4),\n",
        "                                                  cp.around(dec_Newton,4),\n",
        "                                                  cp.around(Err,4),\n",
        "                                                  cp.around(Err_plot_aux[iteration],4),\n",
        "                                                  cp.around(t,4),\n",
        "                                                  cp.around(condHf,4)))\n",
        "        stopping_criteria = dec_Newton/2\n",
        "        if t<tol_backtracking: #if t is less than tol_backtracking then we need to check the reason\n",
        "            iter_salida=iteration\n",
        "            iteration = maxiter - 1\n",
        "        iteration+=1\n",
        "    print('{} {}'.format(\"Error of x with respect to x_ast:\",Err))\n",
        "    print('{} {}'.format(\"Approximate solution:\", x))\n",
        "    cond = Err_plot_aux > np.finfo(float).eps*10**(-2)\n",
        "    Err_plot = Err_plot_aux[cond]\n",
        "    \n",
        "    if iteration == maxiter and t < tol_backtracking:\n",
        "        print(\"Backtracking value less than tol_backtracking, check approximation\")\n",
        "        iteration=iter_salida\n",
        "    else:\n",
        "        if iteration == maxiter:\n",
        "            print(\"Reached maximum of iterations, check approximation\")\n",
        "    x_plot = x_plot[:,:iteration]\n",
        "    return [x,iteration,Err_plot,x_plot]\n"
      ],
      "execution_count": 0,
      "outputs": []
    },
    {
      "cell_type": "markdown",
      "metadata": {
        "id": "behXLDpARJ-d",
        "colab_type": "text"
      },
      "source": [
        "### Utils"
      ]
    },
    {
      "cell_type": "code",
      "metadata": {
        "id": "24iSwQbMRPNz",
        "colab_type": "code",
        "colab": {}
      },
      "source": [
        "import cupy as cp\n",
        "\n",
        "def inc_index(vec,index,h):\n",
        "    '''\n",
        "    Funcion auxiliar para calculo gradiente y hessiano.\n",
        "    Args:\n",
        "        vec (array): array de cupy.\n",
        "        index (int): indice.\n",
        "        h (float):   cantidad del vec[index] que sera incrementada.\n",
        "    Returns:\n",
        "        vec (array): array vec de cupy con vec[index] incrementado con h.\n",
        "    '''\n",
        "    vec[index] +=h\n",
        "    return vec\n",
        "\n",
        "def dec_index(vec,index,h=1):\n",
        "    '''\n",
        "    Funcion auxiliar para calculo gradiente y hessiano.\n",
        "    Args:\n",
        "        vec (array): array de cupy.\n",
        "        index (int): indice.\n",
        "        h (float):   antidad del vec[index] que sera disminuida.\n",
        "    Returns:\n",
        "        vec (array): array vec de cupy con vec[index] disminuida con h.\n",
        "    '''\n",
        "    vec[index] -=h\n",
        "    return vec\n",
        "\n",
        "def compute_error(x_obj,x_approx):\n",
        "    '''\n",
        "    Error absoluto o relativo entre x_obj y x_approx.\n",
        "    '''\n",
        "    if cp.linalg.norm(x_obj) > cp.nextafter(0,1):\n",
        "        Err=cp.linalg.norm(x_obj-x_approx)/cp.linalg.norm(x_obj)\n",
        "    else:\n",
        "        Err=cp.linalg.norm(x_obj-x_approx)\n",
        "    return Err\n",
        "\n",
        "def norm_residual(feas_primal, feas_dual):\n",
        "    '''\n",
        "    Calcula la norma de residuos para el método de punto inicial no factible de Newton\n",
        "    '''\n",
        "    return cp.sqrt(cp.linalg.norm(feas_primal)**2 +\\\n",
        "                   cp.linalg.norm(feas_dual)**2\n",
        "                   )\n",
        "\n",
        "def condicion_cupy(A):\n",
        "    '''\n",
        "    Función que calcula la condición de una matriz para matrices en Cupy\n",
        "    Args:\n",
        "      A:  Matriz de cupy\n",
        "    Return:\n",
        "      c: Condición de una matriz\n",
        "    '''\n",
        "    A_inv = cp.linalg.inv(A)\n",
        "    NAi = cp.linalg.norm(A_inv)\n",
        "    NA = cp.linalg.norm(A)\n",
        "    return NAi*NA\n",
        "\n",
        "def feasible_markowitz(r,mu):\n",
        "  '''\n",
        "  Funcion que devuelve un punto factible del problema de Markowitz, resolviendo\n",
        "  las ecuaciones normales asociadas\n",
        "  Args:\n",
        "     r (float): real positivo, que modela rendimiento esperado por inversionista\n",
        "     mu (aray): array de cupy que contiene los valores medios de los rendimientos\n",
        "          de los activos en el portafolio\n",
        "  Return:\n",
        "     w_star (float): punto feasible del problema de Markowitz\n",
        "  '''\n",
        "  # matriz del sistema para ecuaciones normales\n",
        "  M = cp.ones((2,mu.shape[0]))\n",
        "\n",
        "  for i in range(mu.shape[0]):\n",
        "    M[0,i]=mu[i]\n",
        "\n",
        "  # lado derecho de sistema\n",
        "  b= cp.array([r,1])\n",
        "\n",
        "  # Resuelve ecuaciones normales\n",
        "  w_star = cp.linalg.solve(M.transpose()@M,M.transpose()@b)\n",
        "  \n",
        "  return w_star"
      ],
      "execution_count": 0,
      "outputs": []
    },
    {
      "cell_type": "markdown",
      "metadata": {
        "id": "4wowIcmFRPiE",
        "colab_type": "text"
      },
      "source": [
        "### Punto factible"
      ]
    },
    {
      "cell_type": "code",
      "metadata": {
        "id": "ImZRcSydRbuw",
        "colab_type": "code",
        "colab": {}
      },
      "source": [
        "import cupy as cp\n",
        "def feasible_markowitz(r,mu):\n",
        "  '''\n",
        "  Funcion que devuelve un punto factible del problema de Markowitz, resolviendo\n",
        "  las ecuaciones normales asociadas\n",
        "  Args:\n",
        "     r (float): real positivo, que modela rendimiento esperado por inversionista\n",
        "     mu (aray): array de cupy que contiene los valores medios de los rendimientos\n",
        "          de los activos en el portafolio\n",
        "  Return:\n",
        "     w_star (float): punto feasible del problema de Markowitz\n",
        "  '''\n",
        "  # matriz del sistema para ecuaciones normales\n",
        "  M = cp.ones((2,mu.shape[0]))\n",
        "\n",
        "  for i in range(mu.shape[0]):\n",
        "    M[0,i]=mu[i,0]\n",
        "\n",
        "  # lado derecho de sistema\n",
        "  b= cp.array([r,1])\n",
        "\n",
        "  # Resuelve ecuaciones normales\n",
        "  w_star = cp.linalg.solve(M.transpose()@M,M.transpose()@b)\n",
        "  \n",
        "  return w_star"
      ],
      "execution_count": 0,
      "outputs": []
    },
    {
      "cell_type": "markdown",
      "metadata": {
        "id": "6sqgkmd0Rb3n",
        "colab_type": "text"
      },
      "source": [
        "### Line search"
      ]
    },
    {
      "cell_type": "code",
      "metadata": {
        "id": "dOUYu0tqRgYN",
        "colab_type": "code",
        "colab": {}
      },
      "source": [
        "from solver.utils import norm_residual\n",
        "\n",
        "def line_search_by_backtracking(f,dir_desc,x,\n",
        "                                der_direct, alpha=.15, beta=.5):\n",
        "    '''\n",
        "    Busqueda de linea que disminuye suficientemente f restringida a un rayo en\n",
        "    la dirección dir_desc.\n",
        "    Args:\n",
        "        alpha (float): parametro en busqueda de linea con backtracking, tipicamente .15\n",
        "        beta (float): parametro en busqueda de linea con backtracking, tipicamente .5\n",
        "        f (lambda expression): definicion de funcion f.\n",
        "        dir_desc (array): direccion de descenso.\n",
        "        x (array): array de cupy que contiene valores donde se realizara la busqueda de linea\n",
        "        der_direct (float): derivada direccional de f.\n",
        "    Returns:\n",
        "        t (float): numero positivo para el tamano de pasos a lo largo de dir_desc que\n",
        "                   disminuye suficientemente f.\n",
        "    '''\n",
        "    t=1\n",
        "    if alpha > 1/2:\n",
        "        print('alpha menor o igual que 1/2')\n",
        "        t=-1\n",
        "    if beta>1:\n",
        "        print('beta debe ser menor a 1')\n",
        "        t=-1;\n",
        "    if t!=-1:\n",
        "        eval1 = f(x+t*dir_desc)\n",
        "        eval2 = f(x) + alpha*t*der_direct\n",
        "        while eval1 > eval2:\n",
        "            t=beta*t\n",
        "            eval1=f(x+t*dir_desc)\n",
        "            eval2=f(x)+alpha*t*der_direct\n",
        "    else:\n",
        "        t=-1\n",
        "    return t\n",
        "\n",
        "def line_search_for_residual_by_backtracking(r_primal, r_dual,dir_desc_primal,dir_desc_dual,x, nu,\n",
        "                                             norm_residual_eval,\n",
        "                                             alpha=.15, beta=.5):\n",
        "    '''\n",
        "    Busqueda de linea que disminuye suficientemente el residual para el metodo\n",
        "    de punto inicial inviable de Newton restringido a un rayo en la direccion dir_desc.\n",
        "    Args:\n",
        "        r_primal (fun): definicion de residual primal como funcion definida o expresion lambda.\n",
        "        r_dual (fun): definicion de residual dual como funcion definida o expresion lambda.\n",
        "        dir_desc_primal (array): direccion de desceso para variable primal.\n",
        "        dir_desc_dual (array): direccion de descenso para variable dual.\n",
        "        x (array): array de cupy que contiene valores donde se realizara la busqueda de linea.\n",
        "        nu (array): array de cupy que contiene valores donde se realizara la busqueda de linea.\n",
        "        norm_residual_eval (float): norma de residuos que tiene evaluaciones r_primal y \n",
        "        r_dual en x y nu\n",
        "        alpha (float): parametro de busqueda de linea con backtracking, tipicamente .15\n",
        "        beta (float): parametro de busqueda de linea con backtracking, tipicamente .5\n",
        "\n",
        "    Returns:\n",
        "        t (float): numero positivo para el tamano de pasos a lo largo de dir_desc que \n",
        "        disminuye suficientemente f.\n",
        "    '''\n",
        "    t=1\n",
        "    if alpha > 1/2:\n",
        "        print('alpha debe ser menor o igual que 1/2')\n",
        "        t=-1\n",
        "    if beta>1:\n",
        "        print('beta debe ser menor que uno 1')\n",
        "        t=-1;\n",
        "    if t!=-1:\n",
        "        feas_primal = r_primal(x + t*dir_desc_primal)\n",
        "        feas_dual = r_dual(nu + t*dir_desc_dual )\n",
        "        eval1 = norm_residual(feas_primal, feas_dual)\n",
        "        eval2 = (1-alpha*t)*norm_residual_eval\n",
        "        while eval1 > eval2:\n",
        "            t=beta*t\n",
        "            feas_primal = r_primal(x + t*dir_desc_primal)\n",
        "            feas_dual = r_dual(nu + t*dir_desc_dual )\n",
        "            eval1 = norm_residual(feas_primal, feas_dual)\n",
        "            eval2 = (1-alpha*t)*norm_residual_eval\n",
        "    return t\n"
      ],
      "execution_count": 0,
      "outputs": []
    },
    {
      "cell_type": "markdown",
      "metadata": {
        "id": "4dTYTxEfNjAD",
        "colab_type": "text"
      },
      "source": [
        "## Cargamos la información y calculamos los parámetros\n",
        "\n",
        "Primero cargamos los precios de las acciones que se han escogido para esta implementación"
      ]
    },
    {
      "cell_type": "code",
      "metadata": {
        "id": "Gg1dxJ_ZJC2B",
        "colab_type": "code",
        "colab": {}
      },
      "source": [
        "stocks = ['COP','AMT','LIN','LMT','AMZN','WMT','JNJ','VTI','MSFT','GOOG','XOM','CCI','BHP.AX','UNP',\n",
        "'BABA','NSRGY','RHHBY','VOO','AAPL','FB','CVX','PLD','RIO.L','HON','HD','PG','UNH','BRK-A','V','0700.HK',\n",
        "'RDSA.AS','0688.HK','AI.PA','RTX','MC.PA','KO','PFE','JPM','005930.KS','VZ','RELIANCE.NS','DLR','2010.SR',\n",
        "'UPS','7203.T','PEP','MRK','1398.HK','MA','T']"
      ],
      "execution_count": 0,
      "outputs": []
    },
    {
      "cell_type": "code",
      "metadata": {
        "id": "xrSTdkefJXYJ",
        "colab_type": "code",
        "outputId": "8cddbe29-6cd9-463a-800c-6c832e465d53",
        "colab": {
          "base_uri": "https://localhost:8080/",
          "height": 35
        }
      },
      "source": [
        "datos = extrae.extraer_datos_yahoo(stocks)"
      ],
      "execution_count": 4,
      "outputs": [
        {
          "output_type": "stream",
          "text": [
            "[*********************100%***********************]  50 of 50 downloaded\n"
          ],
          "name": "stdout"
        }
      ]
    },
    {
      "cell_type": "markdown",
      "metadata": {
        "id": "rsbKQyhDNncE",
        "colab_type": "text"
      },
      "source": [
        "Usando las fucniones auxiliares definidas previamente calculamos los rendimientos esperados y la matriz de varianza y covarianza para las acciones"
      ]
    },
    {
      "cell_type": "code",
      "metadata": {
        "id": "s2KoIMbNJbaB",
        "colab_type": "code",
        "colab": {}
      },
      "source": [
        "mu = aux.calcular_rendimiento(datos)"
      ],
      "execution_count": 0,
      "outputs": []
    },
    {
      "cell_type": "code",
      "metadata": {
        "id": "346vu3o8Jdau",
        "colab_type": "code",
        "colab": {}
      },
      "source": [
        "S = aux.calcular_varianza(datos)"
      ],
      "execution_count": 0,
      "outputs": []
    },
    {
      "cell_type": "markdown",
      "metadata": {
        "id": "4aO2U2X0NqUZ",
        "colab_type": "text"
      },
      "source": [
        "Calcularemos cuál fue el rendimiento máximo obtenido (de entre las medias de los datos históricos) y lo usaremos como el rendimiento deseado en el problema de optimización"
      ]
    },
    {
      "cell_type": "code",
      "metadata": {
        "id": "Puin3DyEJfKc",
        "colab_type": "code",
        "outputId": "25044287-6b00-42cb-aec5-2519de19e107",
        "colab": {
          "base_uri": "https://localhost:8080/",
          "height": 35
        }
      },
      "source": [
        "r=max(mu).item()\n",
        "r"
      ],
      "execution_count": 7,
      "outputs": [
        {
          "output_type": "execute_result",
          "data": {
            "text/plain": [
              "0.4022108787760788"
            ]
          },
          "metadata": {
            "tags": []
          },
          "execution_count": 7
        }
      ]
    },
    {
      "cell_type": "markdown",
      "metadata": {
        "id": "IVOUC2Q7NtLM",
        "colab_type": "text"
      },
      "source": [
        "## Resolvemos con el Método de Newton usando diferencias finitas\n",
        "\n",
        "La función a optimizar será la siguiente:"
      ]
    },
    {
      "cell_type": "code",
      "metadata": {
        "id": "VggJi2rSm0iD",
        "colab_type": "code",
        "colab": {}
      },
      "source": [
        "fo = lambda w: w@S@w"
      ],
      "execution_count": 0,
      "outputs": []
    },
    {
      "cell_type": "markdown",
      "metadata": {
        "id": "dZscf5PYN5fq",
        "colab_type": "text"
      },
      "source": [
        "Usamos la solución analítica para tener la solución con la cual comparar."
      ]
    },
    {
      "cell_type": "code",
      "metadata": {
        "id": "xVZwOMzRm3WF",
        "colab_type": "code",
        "colab": {}
      },
      "source": [
        "w_ast = mkv.markowitz(r,mu,S)"
      ],
      "execution_count": 0,
      "outputs": []
    },
    {
      "cell_type": "markdown",
      "metadata": {
        "id": "cBo0obObN8ZD",
        "colab_type": "text"
      },
      "source": [
        "La matriz $A$ de restricciones está dada por:"
      ]
    },
    {
      "cell_type": "code",
      "metadata": {
        "id": "IM8UCaBsm8XP",
        "colab_type": "code",
        "outputId": "572f8b8c-ba68-4bbb-b5e7-b5ca0401ef67",
        "colab": {
          "base_uri": "https://localhost:8080/",
          "height": 384
        }
      },
      "source": [
        "n = mu.shape[0]\n",
        "A = cp.concatenate((mu,cp.ones(n))).reshape(2,n)\n",
        "A"
      ],
      "execution_count": 10,
      "outputs": [
        {
          "output_type": "execute_result",
          "data": {
            "text/plain": [
              "array([[ 0.13254293,  0.02782955,  0.25778345, -0.01787111, -0.02008539,\n",
              "        -0.02286483,  0.19078421,  0.05743478,  0.17062275,  0.40221088,\n",
              "         0.13618598,  0.02364206,  0.0476638 ,  0.13217291, -0.09666644,\n",
              "        -0.03426582,  0.15880965,  0.17870289,  0.18557566,  0.15042008,\n",
              "         0.08379133,  0.07154137,  0.08843336,  0.02202303,  0.07353272,\n",
              "         0.13731909,  0.23605478,  0.19942876,  0.06806557,  0.26292508,\n",
              "         0.07357148,  0.06803817,  0.03867589,  0.05090149,  0.14401416,\n",
              "        -0.09339291,  0.23072551,  0.05036842,  0.05587177, -0.01264577,\n",
              "        -0.01474117,  0.20678446,  0.06274014, -0.02729424,  0.1990038 ,\n",
              "         0.07054765,  0.06563628,  0.04203765,  0.0717407 , -0.13227261],\n",
              "       [ 1.        ,  1.        ,  1.        ,  1.        ,  1.        ,\n",
              "         1.        ,  1.        ,  1.        ,  1.        ,  1.        ,\n",
              "         1.        ,  1.        ,  1.        ,  1.        ,  1.        ,\n",
              "         1.        ,  1.        ,  1.        ,  1.        ,  1.        ,\n",
              "         1.        ,  1.        ,  1.        ,  1.        ,  1.        ,\n",
              "         1.        ,  1.        ,  1.        ,  1.        ,  1.        ,\n",
              "         1.        ,  1.        ,  1.        ,  1.        ,  1.        ,\n",
              "         1.        ,  1.        ,  1.        ,  1.        ,  1.        ,\n",
              "         1.        ,  1.        ,  1.        ,  1.        ,  1.        ,\n",
              "         1.        ,  1.        ,  1.        ,  1.        ,  1.        ]])"
            ]
          },
          "metadata": {
            "tags": []
          },
          "execution_count": 10
        }
      ]
    },
    {
      "cell_type": "markdown",
      "metadata": {
        "id": "h4c33TdMOCv4",
        "colab_type": "text"
      },
      "source": [
        "Por otro lado el vector $b$ está dado por:"
      ]
    },
    {
      "cell_type": "code",
      "metadata": {
        "id": "bsIQ6l9Km_Iu",
        "colab_type": "code",
        "outputId": "7940c0c8-3471-4d50-f1ba-0ea8d2e2b376",
        "colab": {
          "base_uri": "https://localhost:8080/",
          "height": 35
        }
      },
      "source": [
        "b = cp.array([r,1])\n",
        "b"
      ],
      "execution_count": 11,
      "outputs": [
        {
          "output_type": "execute_result",
          "data": {
            "text/plain": [
              "array([0.40221088, 1.        ])"
            ]
          },
          "metadata": {
            "tags": []
          },
          "execution_count": 11
        }
      ]
    },
    {
      "cell_type": "markdown",
      "metadata": {
        "id": "gBKbGf4IOE5M",
        "colab_type": "text"
      },
      "source": [
        "Definimos el punto inicial con la función definida anteriormente:"
      ]
    },
    {
      "cell_type": "code",
      "metadata": {
        "id": "6w55fwjinCYD",
        "colab_type": "code",
        "colab": {}
      },
      "source": [
        "w_0 = utils.feasible_markowitz(r,mu)"
      ],
      "execution_count": 0,
      "outputs": []
    },
    {
      "cell_type": "markdown",
      "metadata": {
        "id": "w7s6TMESOuqP",
        "colab_type": "text"
      },
      "source": [
        "Definimos los parámetros para el método de Newton de la siguiente manera:"
      ]
    },
    {
      "cell_type": "code",
      "metadata": {
        "id": "4xNCW48DnFfc",
        "colab_type": "code",
        "colab": {}
      },
      "source": [
        "tol=1e-8\n",
        "tol_backtracking=1e-14\n",
        "p_ast=fo(w_ast)\n",
        "maxiter=50"
      ],
      "execution_count": 0,
      "outputs": []
    },
    {
      "cell_type": "code",
      "metadata": {
        "id": "-ef2K8KVnId9",
        "colab_type": "code",
        "outputId": "26e8522e-345c-42cb-e5a1-daca2239f830",
        "colab": {
          "base_uri": "https://localhost:8080/",
          "height": 348
        }
      },
      "source": [
        "[w,total_of_iterations,Err_plot,x_plot]=opt.Newtons_method_feasible_init_point(fo,A, w_0,tol, tol_backtracking, w_ast, p_ast, maxiter)\n",
        "\n"
      ],
      "execution_count": 15,
      "outputs": [
        {
          "output_type": "stream",
          "text": [
            "I\tNormgf \tNewton Decrement\tError x_ast\tError p_ast\tline search\tCondHf\n",
            "0\t0.0019\t0.0009\t1.1003\t4.6964\t---\t\t11162.699\n",
            "1\t0.0019\t0.0\t0.0334\t0.0002\t1\t11162.699\n",
            "2\t0.0019\t0.0\t0.0005\t0.0\t1\t11162.699\n",
            "Error of x with respect to x_ast: 0.00047875631346943525\n",
            "Approximate solution: [ 1.58456068e-01 -2.08709832e-02  1.58048926e-01 -9.28997264e-02\n",
            "  3.17031053e-02  5.10786741e-02  8.71853168e-02  1.26296186e-02\n",
            "  3.72848119e-02  2.86001357e-01 -5.99024985e-03  2.24553601e-03\n",
            "  2.03074487e-01  9.46087178e-02  2.28786290e-02  1.49784235e-02\n",
            "  7.61265302e-03  2.96680495e-02  5.76467623e-02  1.98108419e-01\n",
            "  1.19921167e-01  1.27865977e-01  1.41309880e-01  1.36173882e-02\n",
            "  8.83887534e-02  1.50475380e-01  1.69271249e-01  7.72165387e-02\n",
            "  8.09183143e-02  8.24853959e-02  1.92195287e-01 -2.39896300e-02\n",
            "  2.64386780e-02  7.69729393e-02  2.20710514e-02 -1.08208343e-01\n",
            "  1.64030583e-01  1.76988175e-02  6.16368407e-02 -1.08217542e-01\n",
            " -5.03608169e-02  1.38841035e-01  1.03558964e-01 -4.28149790e-02\n",
            "  1.07055969e-02 -2.33399846e+00  1.90628556e-01  2.63317339e-01\n",
            "  1.20089563e-01 -1.05514115e-01]\n"
          ],
          "name": "stdout"
        }
      ]
    },
    {
      "cell_type": "markdown",
      "metadata": {
        "id": "ySRGtaC4PATK",
        "colab_type": "text"
      },
      "source": [
        "La solución dada por el Método de Newton usando las diferenciación numérica es muy similar a la del método cerrado. Siendo el error de:"
      ]
    },
    {
      "cell_type": "code",
      "metadata": {
        "id": "22a7QRkdnNr1",
        "colab_type": "code",
        "outputId": "a2c47efe-f36d-422a-acb3-e06af4620e66",
        "colab": {
          "base_uri": "https://localhost:8080/",
          "height": 35
        }
      },
      "source": [
        "Err_plot[-1]"
      ],
      "execution_count": 16,
      "outputs": [
        {
          "output_type": "execute_result",
          "data": {
            "text/plain": [
              "1.073648151492267e-08"
            ]
          },
          "metadata": {
            "tags": []
          },
          "execution_count": 16
        }
      ]
    },
    {
      "cell_type": "code",
      "metadata": {
        "id": "Zp4DHzwOnNxo",
        "colab_type": "code",
        "outputId": "88622cf8-5c05-4f80-a895-022975784535",
        "colab": {
          "base_uri": "https://localhost:8080/",
          "height": 256
        }
      },
      "source": [
        "w"
      ],
      "execution_count": 17,
      "outputs": [
        {
          "output_type": "execute_result",
          "data": {
            "text/plain": [
              "array([ 1.58456068e-01, -2.08709832e-02,  1.58048926e-01, -9.28997264e-02,\n",
              "        3.17031053e-02,  5.10786741e-02,  8.71853168e-02,  1.26296186e-02,\n",
              "        3.72848119e-02,  2.86001357e-01, -5.99024985e-03,  2.24553601e-03,\n",
              "        2.03074487e-01,  9.46087178e-02,  2.28786290e-02,  1.49784235e-02,\n",
              "        7.61265302e-03,  2.96680495e-02,  5.76467623e-02,  1.98108419e-01,\n",
              "        1.19921167e-01,  1.27865977e-01,  1.41309880e-01,  1.36173882e-02,\n",
              "        8.83887534e-02,  1.50475380e-01,  1.69271249e-01,  7.72165387e-02,\n",
              "        8.09183143e-02,  8.24853959e-02,  1.92195287e-01, -2.39896300e-02,\n",
              "        2.64386780e-02,  7.69729393e-02,  2.20710514e-02, -1.08208343e-01,\n",
              "        1.64030583e-01,  1.76988175e-02,  6.16368407e-02, -1.08217542e-01,\n",
              "       -5.03608169e-02,  1.38841035e-01,  1.03558964e-01, -4.28149790e-02,\n",
              "        1.07055969e-02, -2.33399846e+00,  1.90628556e-01,  2.63317339e-01,\n",
              "        1.20089563e-01, -1.05514115e-01])"
            ]
          },
          "metadata": {
            "tags": []
          },
          "execution_count": 17
        }
      ]
    },
    {
      "cell_type": "code",
      "metadata": {
        "id": "8WhhSfnwnVw5",
        "colab_type": "code",
        "outputId": "42d2ad16-02ec-47e9-a682-f39f3dd3c630",
        "colab": {
          "base_uri": "https://localhost:8080/",
          "height": 256
        }
      },
      "source": [
        "w_ast"
      ],
      "execution_count": 18,
      "outputs": [
        {
          "output_type": "execute_result",
          "data": {
            "text/plain": [
              "array([ 1.58450459e-01, -2.08710279e-02,  1.58051613e-01, -9.28970852e-02,\n",
              "        3.17093838e-02,  5.10824537e-02,  8.71800626e-02,  1.26389547e-02,\n",
              "        3.72861469e-02,  2.86000507e-01, -5.98810147e-03,  2.24206232e-03,\n",
              "        2.03075836e-01,  9.46030741e-02,  2.28766788e-02,  1.49919976e-02,\n",
              "        7.60706433e-03,  2.96676402e-02,  5.76521006e-02,  1.98109863e-01,\n",
              "        1.19928144e-01,  1.27869501e-01,  1.41300419e-01,  1.36285005e-02,\n",
              "        8.83904753e-02,  1.50479914e-01,  1.69293512e-01,  7.72037012e-02,\n",
              "        8.09121352e-02,  8.24658724e-02,  1.92197879e-01, -2.40095431e-02,\n",
              "        2.64375219e-02,  7.69647088e-02,  2.20741648e-02, -1.08207562e-01,\n",
              "        1.64032748e-01,  1.77020932e-02,  6.16398087e-02, -1.08210745e-01,\n",
              "       -5.03462807e-02,  1.38834320e-01,  1.03567400e-01, -4.28198353e-02,\n",
              "        1.06872745e-02, -2.33314798e+00,  1.89811544e-01,  2.63296457e-01,\n",
              "        1.20089773e-01, -1.05535600e-01])"
            ]
          },
          "metadata": {
            "tags": []
          },
          "execution_count": 18
        }
      ]
    },
    {
      "cell_type": "markdown",
      "metadata": {
        "id": "t48S1m93PEom",
        "colab_type": "text"
      },
      "source": [
        "La varianza entre ambos métodos también es muy similar"
      ]
    },
    {
      "cell_type": "code",
      "metadata": {
        "id": "4xQwZdQinZfC",
        "colab_type": "code",
        "outputId": "1d08038c-b24e-4207-88c5-d9a4a9d629e3",
        "colab": {
          "base_uri": "https://localhost:8080/",
          "height": 35
        }
      },
      "source": [
        "w@S@w"
      ],
      "execution_count": 19,
      "outputs": [
        {
          "output_type": "execute_result",
          "data": {
            "text/plain": [
              "array(9.45979256e-05)"
            ]
          },
          "metadata": {
            "tags": []
          },
          "execution_count": 19
        }
      ]
    },
    {
      "cell_type": "code",
      "metadata": {
        "id": "W6unuCjmnZ4X",
        "colab_type": "code",
        "outputId": "710a0383-301b-49c3-d892-f5d2c0d251e2",
        "colab": {
          "base_uri": "https://localhost:8080/",
          "height": 35
        }
      },
      "source": [
        "w_ast@S@w_ast"
      ],
      "execution_count": 20,
      "outputs": [
        {
          "output_type": "execute_result",
          "data": {
            "text/plain": [
              "array(9.45979246e-05)"
            ]
          },
          "metadata": {
            "tags": []
          },
          "execution_count": 20
        }
      ]
    },
    {
      "cell_type": "code",
      "metadata": {
        "id": "lhnuSMmsnaAX",
        "colab_type": "code",
        "outputId": "7ca0f149-6309-4b57-9323-4c3feb7063fa",
        "colab": {
          "base_uri": "https://localhost:8080/",
          "height": 35
        }
      },
      "source": [
        "utils.compute_error(w@S@w,w_ast@S@w_ast)"
      ],
      "execution_count": 21,
      "outputs": [
        {
          "output_type": "execute_result",
          "data": {
            "text/plain": [
              "array(1.07364814e-08)"
            ]
          },
          "metadata": {
            "tags": []
          },
          "execution_count": 21
        }
      ]
    },
    {
      "cell_type": "markdown",
      "metadata": {
        "id": "TdvVnGAKPR_G",
        "colab_type": "text"
      },
      "source": [
        "Además cumple con la restricción del rendimiento y la suma de pesos igual a 1"
      ]
    },
    {
      "cell_type": "code",
      "metadata": {
        "id": "557RYTFmnh9B",
        "colab_type": "code",
        "outputId": "41ea9b31-08b7-4ca3-ffdf-a41e2c1d0df6",
        "colab": {
          "base_uri": "https://localhost:8080/",
          "height": 35
        }
      },
      "source": [
        "w@mu"
      ],
      "execution_count": 22,
      "outputs": [
        {
          "output_type": "execute_result",
          "data": {
            "text/plain": [
              "array(0.40221088)"
            ]
          },
          "metadata": {
            "tags": []
          },
          "execution_count": 22
        }
      ]
    },
    {
      "cell_type": "code",
      "metadata": {
        "id": "z8iGFaL3niKD",
        "colab_type": "code",
        "outputId": "6e20f03e-09f9-46b7-8ec7-6c78651ca48a",
        "colab": {
          "base_uri": "https://localhost:8080/",
          "height": 35
        }
      },
      "source": [
        "utils.compute_error(w@mu, r)"
      ],
      "execution_count": 23,
      "outputs": [
        {
          "output_type": "execute_result",
          "data": {
            "text/plain": [
              "array(1.38015042e-16)"
            ]
          },
          "metadata": {
            "tags": []
          },
          "execution_count": 23
        }
      ]
    },
    {
      "cell_type": "code",
      "metadata": {
        "id": "BXd-eLFMnh07",
        "colab_type": "code",
        "outputId": "b37a73d1-0b14-47db-c564-913b1b0aa4c8",
        "colab": {
          "base_uri": "https://localhost:8080/",
          "height": 35
        }
      },
      "source": [
        "sum(w)"
      ],
      "execution_count": 24,
      "outputs": [
        {
          "output_type": "execute_result",
          "data": {
            "text/plain": [
              "array(1.)"
            ]
          },
          "metadata": {
            "tags": []
          },
          "execution_count": 24
        }
      ]
    },
    {
      "cell_type": "markdown",
      "metadata": {
        "id": "VjNydAihmMc3",
        "colab_type": "text"
      },
      "source": [
        "## Resolvemos con el Método de Newton usando funciones simbólicas"
      ]
    },
    {
      "cell_type": "markdown",
      "metadata": {
        "id": "yhslDpZXmQiE",
        "colab_type": "text"
      },
      "source": [
        "Ahora utilizaremos de nuevo el método de Newton usando las funciones simbólicas:"
      ]
    },
    {
      "cell_type": "code",
      "metadata": {
        "id": "Wr8BLJ9RmPin",
        "colab_type": "code",
        "colab": {}
      },
      "source": [
        "import inspect"
      ],
      "execution_count": 0,
      "outputs": []
    },
    {
      "cell_type": "code",
      "metadata": {
        "id": "5z2YYaLomT1v",
        "colab_type": "code",
        "outputId": "7c2ba4c6-b3c5-49bb-f544-b87357831fa5",
        "colab": {
          "base_uri": "https://localhost:8080/",
          "height": 182
        }
      },
      "source": [
        "lines = inspect.getsource(opt.gfo_cp_mark)\n",
        "print(lines)"
      ],
      "execution_count": 26,
      "outputs": [
        {
          "output_type": "stream",
          "text": [
            "def gfo_cp_mark(Sigma,x):\n",
            "    '''\n",
            "    gradiente de la función objetivo 1/2*x.t*Sigma*x\n",
            "    input: matriz Sigma y vector x\n",
            "    output: producto matriz-vector Sigma*x\n",
            "    '''\n",
            "    first_block = Sigma@x\n",
            "    return first_block\n",
            "\n"
          ],
          "name": "stdout"
        }
      ]
    },
    {
      "cell_type": "code",
      "metadata": {
        "id": "Nuk3zVTBmTu2",
        "colab_type": "code",
        "outputId": "a06b49cc-21d5-4008-d6ea-b67e6a2d6d5d",
        "colab": {
          "base_uri": "https://localhost:8080/",
          "height": 182
        }
      },
      "source": [
        "lines = inspect.getsource(opt.Hfo_cp_mark)\n",
        "print(lines)"
      ],
      "execution_count": 27,
      "outputs": [
        {
          "output_type": "stream",
          "text": [
            "def Hfo_cp_mark(Sigma):\n",
            "    '''\n",
            "    Hessiana de la función objetivo 1/2*x.t*Sigma*x\n",
            "    input: matriz Sigma\n",
            "    output: matriz Sigma\n",
            "    '''\n",
            "    first_block = Sigma \n",
            "    return first_block\n",
            "\n"
          ],
          "name": "stdout"
        }
      ]
    },
    {
      "cell_type": "code",
      "metadata": {
        "id": "_sxIHqxBmTpu",
        "colab_type": "code",
        "outputId": "9508b8e6-dc13-4c37-a187-ded681ce1d3a",
        "colab": {
          "base_uri": "https://localhost:8080/",
          "height": 329
        }
      },
      "source": [
        "[w,total_of_iterations,Err_plot,x_plot]=opt.Newtons_method_feasible_init_point(fo,A, w_0,tol, tol_backtracking, w_ast, p_ast, maxiter, opt.gfo_cp_mark, opt.Hfo_cp_mark,S)"
      ],
      "execution_count": 28,
      "outputs": [
        {
          "output_type": "stream",
          "text": [
            "I\tNormgf \tNewton Decrement\tError x_ast\tError p_ast\tline search\tCondHf\n",
            "0\t0.001\t0.0004\t1.1003\t4.6964\t---\t\t10080.7985\n",
            "1\t0.001\t0.0\t0.0\t0.0\t1\t10080.7985\n",
            "Error of x with respect to x_ast: 6.4486015181734205e-12\n",
            "Approximate solution: [ 1.58450459e-01 -2.08710279e-02  1.58051613e-01 -9.28970852e-02\n",
            "  3.17093838e-02  5.10824537e-02  8.71800626e-02  1.26389547e-02\n",
            "  3.72861469e-02  2.86000507e-01 -5.98810147e-03  2.24206232e-03\n",
            "  2.03075836e-01  9.46030741e-02  2.28766788e-02  1.49919976e-02\n",
            "  7.60706433e-03  2.96676402e-02  5.76521006e-02  1.98109863e-01\n",
            "  1.19928144e-01  1.27869501e-01  1.41300419e-01  1.36285005e-02\n",
            "  8.83904753e-02  1.50479914e-01  1.69293512e-01  7.72037012e-02\n",
            "  8.09121352e-02  8.24658724e-02  1.92197879e-01 -2.40095431e-02\n",
            "  2.64375219e-02  7.69647088e-02  2.20741648e-02 -1.08207562e-01\n",
            "  1.64032748e-01  1.77020932e-02  6.16398087e-02 -1.08210745e-01\n",
            " -5.03462807e-02  1.38834320e-01  1.03567400e-01 -4.28198353e-02\n",
            "  1.06872745e-02 -2.33314798e+00  1.89811544e-01  2.63296457e-01\n",
            "  1.20089773e-01 -1.05535600e-01]\n"
          ],
          "name": "stdout"
        }
      ]
    },
    {
      "cell_type": "markdown",
      "metadata": {
        "id": "LMlhCxA6pIhN",
        "colab_type": "text"
      },
      "source": [
        "La solución dada por el Método de Newton usando las funciones simbólicas es prácticamente igual al método cerrado método cerrado. Siendo el error de:\n"
      ]
    },
    {
      "cell_type": "code",
      "metadata": {
        "id": "-t32jUhBmTkx",
        "colab_type": "code",
        "colab": {
          "base_uri": "https://localhost:8080/",
          "height": 35
        },
        "outputId": "014ef0ee-f2b1-45c5-9ac1-9d9834209c8c"
      },
      "source": [
        "Err_plot[-1]"
      ],
      "execution_count": 29,
      "outputs": [
        {
          "output_type": "execute_result",
          "data": {
            "text/plain": [
              "2.865290589556516e-16"
            ]
          },
          "metadata": {
            "tags": []
          },
          "execution_count": 29
        }
      ]
    },
    {
      "cell_type": "code",
      "metadata": {
        "id": "ELOnoaRVmTfT",
        "colab_type": "code",
        "colab": {
          "base_uri": "https://localhost:8080/",
          "height": 256
        },
        "outputId": "d6d5762a-08ac-4fa4-9e73-2ab85e2b049b"
      },
      "source": [
        "w"
      ],
      "execution_count": 30,
      "outputs": [
        {
          "output_type": "execute_result",
          "data": {
            "text/plain": [
              "array([ 1.58450459e-01, -2.08710279e-02,  1.58051613e-01, -9.28970852e-02,\n",
              "        3.17093838e-02,  5.10824537e-02,  8.71800626e-02,  1.26389547e-02,\n",
              "        3.72861469e-02,  2.86000507e-01, -5.98810147e-03,  2.24206232e-03,\n",
              "        2.03075836e-01,  9.46030741e-02,  2.28766788e-02,  1.49919976e-02,\n",
              "        7.60706433e-03,  2.96676402e-02,  5.76521006e-02,  1.98109863e-01,\n",
              "        1.19928144e-01,  1.27869501e-01,  1.41300419e-01,  1.36285005e-02,\n",
              "        8.83904753e-02,  1.50479914e-01,  1.69293512e-01,  7.72037012e-02,\n",
              "        8.09121352e-02,  8.24658724e-02,  1.92197879e-01, -2.40095431e-02,\n",
              "        2.64375219e-02,  7.69647088e-02,  2.20741648e-02, -1.08207562e-01,\n",
              "        1.64032748e-01,  1.77020932e-02,  6.16398087e-02, -1.08210745e-01,\n",
              "       -5.03462807e-02,  1.38834320e-01,  1.03567400e-01, -4.28198353e-02,\n",
              "        1.06872745e-02, -2.33314798e+00,  1.89811544e-01,  2.63296457e-01,\n",
              "        1.20089773e-01, -1.05535600e-01])"
            ]
          },
          "metadata": {
            "tags": []
          },
          "execution_count": 30
        }
      ]
    },
    {
      "cell_type": "code",
      "metadata": {
        "id": "rvvp4x-jpM-Z",
        "colab_type": "code",
        "colab": {
          "base_uri": "https://localhost:8080/",
          "height": 256
        },
        "outputId": "9033841a-f423-4010-9506-627170933c8f"
      },
      "source": [
        "w_ast"
      ],
      "execution_count": 31,
      "outputs": [
        {
          "output_type": "execute_result",
          "data": {
            "text/plain": [
              "array([ 1.58450459e-01, -2.08710279e-02,  1.58051613e-01, -9.28970852e-02,\n",
              "        3.17093838e-02,  5.10824537e-02,  8.71800626e-02,  1.26389547e-02,\n",
              "        3.72861469e-02,  2.86000507e-01, -5.98810147e-03,  2.24206232e-03,\n",
              "        2.03075836e-01,  9.46030741e-02,  2.28766788e-02,  1.49919976e-02,\n",
              "        7.60706433e-03,  2.96676402e-02,  5.76521006e-02,  1.98109863e-01,\n",
              "        1.19928144e-01,  1.27869501e-01,  1.41300419e-01,  1.36285005e-02,\n",
              "        8.83904753e-02,  1.50479914e-01,  1.69293512e-01,  7.72037012e-02,\n",
              "        8.09121352e-02,  8.24658724e-02,  1.92197879e-01, -2.40095431e-02,\n",
              "        2.64375219e-02,  7.69647088e-02,  2.20741648e-02, -1.08207562e-01,\n",
              "        1.64032748e-01,  1.77020932e-02,  6.16398087e-02, -1.08210745e-01,\n",
              "       -5.03462807e-02,  1.38834320e-01,  1.03567400e-01, -4.28198353e-02,\n",
              "        1.06872745e-02, -2.33314798e+00,  1.89811544e-01,  2.63296457e-01,\n",
              "        1.20089773e-01, -1.05535600e-01])"
            ]
          },
          "metadata": {
            "tags": []
          },
          "execution_count": 31
        }
      ]
    },
    {
      "cell_type": "markdown",
      "metadata": {
        "id": "ACFww20QpQdp",
        "colab_type": "text"
      },
      "source": [
        "La varianza entre ambos métodos también es prácticamente la misma"
      ]
    },
    {
      "cell_type": "code",
      "metadata": {
        "id": "UcZUM7--pPur",
        "colab_type": "code",
        "colab": {
          "base_uri": "https://localhost:8080/",
          "height": 35
        },
        "outputId": "e5f6de71-1791-43fc-fe34-3d55ab15109b"
      },
      "source": [
        "w@S@w"
      ],
      "execution_count": 32,
      "outputs": [
        {
          "output_type": "execute_result",
          "data": {
            "text/plain": [
              "array(9.45979246e-05)"
            ]
          },
          "metadata": {
            "tags": []
          },
          "execution_count": 32
        }
      ]
    },
    {
      "cell_type": "code",
      "metadata": {
        "id": "QgOCQND6pTbg",
        "colab_type": "code",
        "colab": {
          "base_uri": "https://localhost:8080/",
          "height": 35
        },
        "outputId": "9724840b-f101-4a69-b2f7-e4b143fb3ab0"
      },
      "source": [
        "w_ast@S@w_ast"
      ],
      "execution_count": 33,
      "outputs": [
        {
          "output_type": "execute_result",
          "data": {
            "text/plain": [
              "array(9.45979246e-05)"
            ]
          },
          "metadata": {
            "tags": []
          },
          "execution_count": 33
        }
      ]
    },
    {
      "cell_type": "code",
      "metadata": {
        "id": "SWlEnHM5pUb0",
        "colab_type": "code",
        "colab": {
          "base_uri": "https://localhost:8080/",
          "height": 35
        },
        "outputId": "bfda4d73-06d6-4b77-a8ec-591f2037dc76"
      },
      "source": [
        "utils.compute_error(w@S@w,w_ast@S@w_ast)"
      ],
      "execution_count": 34,
      "outputs": [
        {
          "output_type": "execute_result",
          "data": {
            "text/plain": [
              "array(2.86529059e-16)"
            ]
          },
          "metadata": {
            "tags": []
          },
          "execution_count": 34
        }
      ]
    },
    {
      "cell_type": "markdown",
      "metadata": {
        "id": "fU2bbYMVpWPU",
        "colab_type": "text"
      },
      "source": [
        "Y de igual manera cumple con la restricción del rendimiento y la suma de pesos igual a 1"
      ]
    },
    {
      "cell_type": "code",
      "metadata": {
        "id": "h3InL2T4pX1h",
        "colab_type": "code",
        "colab": {
          "base_uri": "https://localhost:8080/",
          "height": 35
        },
        "outputId": "49550887-2bfc-45b9-c4cd-f8f3d0231c24"
      },
      "source": [
        "w@mu"
      ],
      "execution_count": 35,
      "outputs": [
        {
          "output_type": "execute_result",
          "data": {
            "text/plain": [
              "array(0.40221088)"
            ]
          },
          "metadata": {
            "tags": []
          },
          "execution_count": 35
        }
      ]
    },
    {
      "cell_type": "code",
      "metadata": {
        "id": "0rs8PruipZZp",
        "colab_type": "code",
        "colab": {
          "base_uri": "https://localhost:8080/",
          "height": 35
        },
        "outputId": "60397edf-6b7f-472a-c422-bc26349d927e"
      },
      "source": [
        "utils.compute_error(w@mu, r)"
      ],
      "execution_count": 36,
      "outputs": [
        {
          "output_type": "execute_result",
          "data": {
            "text/plain": [
              "array(0.)"
            ]
          },
          "metadata": {
            "tags": []
          },
          "execution_count": 36
        }
      ]
    },
    {
      "cell_type": "code",
      "metadata": {
        "id": "4sdKzSQ8pbPa",
        "colab_type": "code",
        "colab": {
          "base_uri": "https://localhost:8080/",
          "height": 35
        },
        "outputId": "536b199a-bffc-41c9-a6c5-05d07d4cfa4f"
      },
      "source": [
        "sum(w)"
      ],
      "execution_count": 37,
      "outputs": [
        {
          "output_type": "execute_result",
          "data": {
            "text/plain": [
              "array(1.)"
            ]
          },
          "metadata": {
            "tags": []
          },
          "execution_count": 37
        }
      ]
    },
    {
      "cell_type": "markdown",
      "metadata": {
        "id": "Tw-mMX-6j_fC",
        "colab_type": "text"
      },
      "source": [
        "# Resultados\n"
      ]
    },
    {
      "cell_type": "markdown",
      "metadata": {
        "id": "QH4VhQ-GPfsk",
        "colab_type": "text"
      },
      "source": [
        "\n",
        "\n",
        "**1. Documentacion**\n",
        "\n",
        "La Documentación de las funciones expresa de manera clara, consica y breve lo que hace cada una. De igual forma se explican de manera clara y concisa los argumentos de entrada y salida. La documentación es completa.\n",
        "\n",
        "\n",
        "**2. Cumplimiento de objetivos del código**\n",
        "\n",
        "Las funciones cumplen con sus objetivos.\n",
        "\n",
        "**3. Test 1**\n",
        "\n",
        "Revisaremos las función con distintas iteraciones y tolerancias.\n"
      ]
    },
    {
      "cell_type": "markdown",
      "metadata": {
        "id": "LFv8rbA_Qju9",
        "colab_type": "text"
      },
      "source": [
        "## Método de Newton usando diferencias finitas"
      ]
    },
    {
      "cell_type": "code",
      "metadata": {
        "id": "uclLNngLS4i0",
        "colab_type": "code",
        "outputId": "c5a0aeb8-582d-4b7e-aadc-41d1ead13a46",
        "colab": {
          "base_uri": "https://localhost:8080/",
          "height": 35
        }
      },
      "source": [
        "stocks = ['COP','AMT','LIN','LMT','AMZN','WMT','JNJ','VTI','MSFT','GOOG','XOM','CCI','BHP.AX','UNP',\n",
        "'BABA','NSRGY','RHHBY','VOO','AAPL','FB','CVX','PLD','RIO.L','HON','HD','PG','UNH','BRK-A','V','0700.HK',\n",
        "'RDSA.AS','0688.HK','AI.PA','RTX','MC.PA','KO','PFE','JPM','005930.KS','VZ','RELIANCE.NS','DLR','2010.SR',\n",
        "'UPS','7203.T','PEP','MRK','1398.HK','MA','T']\n",
        "\n",
        "datos = extrae.extraer_datos_yahoo(stocks)"
      ],
      "execution_count": 38,
      "outputs": [
        {
          "output_type": "stream",
          "text": [
            "[*********************100%***********************]  50 of 50 downloaded\n"
          ],
          "name": "stdout"
        }
      ]
    },
    {
      "cell_type": "code",
      "metadata": {
        "id": "RmCwWfnwS5cJ",
        "colab_type": "code",
        "outputId": "50750968-3b33-4ee5-b57c-8701c690f504",
        "colab": {
          "base_uri": "https://localhost:8080/",
          "height": 35
        }
      },
      "source": [
        "mu = aux.calcular_rendimiento(datos)\n",
        "S = aux.calcular_varianza(datos)\n",
        "r=max(mu).item()\n",
        "r"
      ],
      "execution_count": 39,
      "outputs": [
        {
          "output_type": "execute_result",
          "data": {
            "text/plain": [
              "0.4022108787760788"
            ]
          },
          "metadata": {
            "tags": []
          },
          "execution_count": 39
        }
      ]
    },
    {
      "cell_type": "code",
      "metadata": {
        "id": "3sC12lxnZHgy",
        "colab_type": "code",
        "colab": {}
      },
      "source": [
        "fo = lambda w: w@S@w"
      ],
      "execution_count": 0,
      "outputs": []
    },
    {
      "cell_type": "code",
      "metadata": {
        "id": "Oli6B4qtZJyE",
        "colab_type": "code",
        "colab": {}
      },
      "source": [
        "\n",
        "w_ast = mkv.markowitz(r,mu,S)\n",
        "n = mu.shape[0]\n",
        "#Matriz A de restricciones\n",
        "A = cp.concatenate((mu,cp.ones(n))).reshape(2,n)\n",
        "#Vector b\n",
        "b = cp.array([r,1])\n",
        "#Punto inicial\n",
        "w_0 = utils.feasible_markowitz(r,mu)"
      ],
      "execution_count": 0,
      "outputs": []
    },
    {
      "cell_type": "code",
      "metadata": {
        "id": "RaDuez2iggTN",
        "colab_type": "code",
        "colab": {}
      },
      "source": [
        "#Newton\n",
        "tol=1e-8\n",
        "tol_backtracking=1e-14\n",
        "p_ast=fo(w_ast)\n",
        "maxiter=50"
      ],
      "execution_count": 0,
      "outputs": []
    },
    {
      "cell_type": "code",
      "metadata": {
        "id": "Rmx6cKbwgiNW",
        "colab_type": "code",
        "outputId": "96906b74-e608-459c-9835-865867d777ae",
        "colab": {
          "base_uri": "https://localhost:8080/",
          "height": 366
        }
      },
      "source": [
        "[w,total_of_iterations,Err_plot,x_plot]=opt.Newtons_method_feasible_init_point(fo,A, w_0,tol, tol_backtracking, w_ast, p_ast, maxiter)\n",
        "#Error\n",
        "Err_plot[-1]"
      ],
      "execution_count": 43,
      "outputs": [
        {
          "output_type": "stream",
          "text": [
            "I\tNormgf \tNewton Decrement\tError x_ast\tError p_ast\tline search\tCondHf\n",
            "0\t0.0019\t0.0009\t1.1003\t4.6965\t---\t\t9481.6958\n",
            "1\t0.0019\t0.0\t0.1041\t0.0005\t1\t9481.6958\n",
            "2\t0.0019\t0.0\t0.0028\t0.0\t1\t9481.6958\n",
            "Error of x with respect to x_ast: 0.002754207971876388\n",
            "Approximate solution: [ 1.58429838e-01 -2.08662572e-02  1.58036015e-01 -9.28827511e-02\n",
            "  3.16796179e-02  5.10933254e-02  8.72794066e-02  1.26086124e-02\n",
            "  3.72838165e-02  2.86008955e-01 -5.95962376e-03  2.22619202e-03\n",
            "  2.03082851e-01  9.46254214e-02  2.28804878e-02  1.50239596e-02\n",
            "  7.62842663e-03  2.96944980e-02  5.76956115e-02  1.98194331e-01\n",
            "  1.19835060e-01  1.27950353e-01  1.41393016e-01  1.36763773e-02\n",
            "  8.84279656e-02  1.50534006e-01  1.69298544e-01  7.72274570e-02\n",
            "  8.09506193e-02  8.25503335e-02  1.91976304e-01 -2.40211552e-02\n",
            "  2.63716262e-02  7.70531902e-02  2.21097147e-02 -1.08218412e-01\n",
            "  1.64035238e-01  1.81197841e-02  6.16317853e-02 -1.08238877e-01\n",
            " -5.01879512e-02  1.38866800e-01  1.03606556e-01 -4.27875495e-02\n",
            "  1.06855000e-02 -2.33841636e+00  1.93915113e-01  2.63208205e-01\n",
            "  1.20133620e-01 -1.05449596e-01]\n"
          ],
          "name": "stdout"
        },
        {
          "output_type": "execute_result",
          "data": {
            "text/plain": [
              "2.8504573263784747e-07"
            ]
          },
          "metadata": {
            "tags": []
          },
          "execution_count": 43
        }
      ]
    },
    {
      "cell_type": "code",
      "metadata": {
        "id": "QUw4p0MOgj-_",
        "colab_type": "code",
        "outputId": "50b0805e-a65c-40cc-fcf4-730391757844",
        "colab": {
          "base_uri": "https://localhost:8080/",
          "height": 72
        }
      },
      "source": [
        "print('Error w: ', utils.compute_error(w@S@w,w_ast@S@w_ast))\n",
        "print('Error r: ', utils.compute_error(w@mu, r))\n",
        "print('Error suma de pesos: ', abs(((sum(w)-1)/(sum(w)))))"
      ],
      "execution_count": 44,
      "outputs": [
        {
          "output_type": "stream",
          "text": [
            "Error w:  2.8504565138680096e-07\n",
            "Error r:  1.3801504176161858e-16\n",
            "Error suma de pesos:  0.0\n"
          ],
          "name": "stdout"
        }
      ]
    },
    {
      "cell_type": "code",
      "metadata": {
        "id": "EJE1GRsugvt4",
        "colab_type": "code",
        "colab": {}
      },
      "source": [
        "#Newton\n",
        "tol=1e-8\n",
        "tol_backtracking=1e-14\n",
        "p_ast=fo(w_ast)\n",
        "maxiter=500"
      ],
      "execution_count": 0,
      "outputs": []
    },
    {
      "cell_type": "code",
      "metadata": {
        "id": "TLtDQycpgv5r",
        "colab_type": "code",
        "outputId": "2cb193b6-8d6f-4058-b743-a9a90a71e141",
        "colab": {
          "base_uri": "https://localhost:8080/",
          "height": 366
        }
      },
      "source": [
        "[w,total_of_iterations,Err_plot,x_plot]=opt.Newtons_method_feasible_init_point(fo,A, w_0,tol, tol_backtracking, w_ast, p_ast, maxiter)\n",
        "#Error\n",
        "Err_plot[-1]"
      ],
      "execution_count": 46,
      "outputs": [
        {
          "output_type": "stream",
          "text": [
            "I\tNormgf \tNewton Decrement\tError x_ast\tError p_ast\tline search\tCondHf\n",
            "0\t0.0019\t0.0009\t1.1003\t4.6965\t---\t\t9481.6958\n",
            "1\t0.0019\t0.0\t0.1041\t0.0005\t1\t9481.6958\n",
            "2\t0.0019\t0.0\t0.0028\t0.0\t1\t9481.6958\n",
            "Error of x with respect to x_ast: 0.002754207971876388\n",
            "Approximate solution: [ 1.58429838e-01 -2.08662572e-02  1.58036015e-01 -9.28827511e-02\n",
            "  3.16796179e-02  5.10933254e-02  8.72794066e-02  1.26086124e-02\n",
            "  3.72838165e-02  2.86008955e-01 -5.95962376e-03  2.22619202e-03\n",
            "  2.03082851e-01  9.46254214e-02  2.28804878e-02  1.50239596e-02\n",
            "  7.62842663e-03  2.96944980e-02  5.76956115e-02  1.98194331e-01\n",
            "  1.19835060e-01  1.27950353e-01  1.41393016e-01  1.36763773e-02\n",
            "  8.84279656e-02  1.50534006e-01  1.69298544e-01  7.72274570e-02\n",
            "  8.09506193e-02  8.25503335e-02  1.91976304e-01 -2.40211552e-02\n",
            "  2.63716262e-02  7.70531902e-02  2.21097147e-02 -1.08218412e-01\n",
            "  1.64035238e-01  1.81197841e-02  6.16317853e-02 -1.08238877e-01\n",
            " -5.01879512e-02  1.38866800e-01  1.03606556e-01 -4.27875495e-02\n",
            "  1.06855000e-02 -2.33841636e+00  1.93915113e-01  2.63208205e-01\n",
            "  1.20133620e-01 -1.05449596e-01]\n"
          ],
          "name": "stdout"
        },
        {
          "output_type": "execute_result",
          "data": {
            "text/plain": [
              "2.8504573263784747e-07"
            ]
          },
          "metadata": {
            "tags": []
          },
          "execution_count": 46
        }
      ]
    },
    {
      "cell_type": "code",
      "metadata": {
        "id": "IGUp1hN9gwAf",
        "colab_type": "code",
        "outputId": "71d81dce-7f04-4ce9-da4d-20d1ed35a1bd",
        "colab": {
          "base_uri": "https://localhost:8080/",
          "height": 72
        }
      },
      "source": [
        "print('Error w: ', utils.compute_error(w@S@w,w_ast@S@w_ast))\n",
        "print('Error r: ', utils.compute_error(w@mu, r))\n",
        "print('Error suma de pesos: ', abs(((sum(w)-1)/(sum(w)))))"
      ],
      "execution_count": 47,
      "outputs": [
        {
          "output_type": "stream",
          "text": [
            "Error w:  2.8504565138680096e-07\n",
            "Error r:  1.3801504176161858e-16\n",
            "Error suma de pesos:  0.0\n"
          ],
          "name": "stdout"
        }
      ]
    },
    {
      "cell_type": "code",
      "metadata": {
        "id": "7a1Np82Ug7I5",
        "colab_type": "code",
        "colab": {}
      },
      "source": [
        "#Newton\n",
        "tol=1e-10\n",
        "tol_backtracking=1e-14\n",
        "p_ast=fo(w_ast)\n",
        "maxiter=500"
      ],
      "execution_count": 0,
      "outputs": []
    },
    {
      "cell_type": "code",
      "metadata": {
        "id": "5E4Vc6-Vg7F8",
        "colab_type": "code",
        "outputId": "b50df337-ffcd-4ae6-cad5-a0bd1bc27130",
        "colab": {
          "base_uri": "https://localhost:8080/",
          "height": 366
        }
      },
      "source": [
        "[w,total_of_iterations,Err_plot,x_plot]=opt.Newtons_method_feasible_init_point(fo,A, w_0,tol, tol_backtracking, w_ast, p_ast, maxiter)\n",
        "#Error\n",
        "Err_plot[-1]"
      ],
      "execution_count": 49,
      "outputs": [
        {
          "output_type": "stream",
          "text": [
            "I\tNormgf \tNewton Decrement\tError x_ast\tError p_ast\tline search\tCondHf\n",
            "0\t0.0019\t0.0009\t1.1003\t4.6965\t---\t\t9481.6958\n",
            "1\t0.0019\t0.0\t0.1041\t0.0005\t1\t9481.6958\n",
            "2\t0.0019\t0.0\t0.0028\t0.0\t1\t9481.6958\n",
            "Error of x with respect to x_ast: 0.002754207971876388\n",
            "Approximate solution: [ 1.58429838e-01 -2.08662572e-02  1.58036015e-01 -9.28827511e-02\n",
            "  3.16796179e-02  5.10933254e-02  8.72794066e-02  1.26086124e-02\n",
            "  3.72838165e-02  2.86008955e-01 -5.95962376e-03  2.22619202e-03\n",
            "  2.03082851e-01  9.46254214e-02  2.28804878e-02  1.50239596e-02\n",
            "  7.62842663e-03  2.96944980e-02  5.76956115e-02  1.98194331e-01\n",
            "  1.19835060e-01  1.27950353e-01  1.41393016e-01  1.36763773e-02\n",
            "  8.84279656e-02  1.50534006e-01  1.69298544e-01  7.72274570e-02\n",
            "  8.09506193e-02  8.25503335e-02  1.91976304e-01 -2.40211552e-02\n",
            "  2.63716262e-02  7.70531902e-02  2.21097147e-02 -1.08218412e-01\n",
            "  1.64035238e-01  1.81197841e-02  6.16317853e-02 -1.08238877e-01\n",
            " -5.01879512e-02  1.38866800e-01  1.03606556e-01 -4.27875495e-02\n",
            "  1.06855000e-02 -2.33841636e+00  1.93915113e-01  2.63208205e-01\n",
            "  1.20133620e-01 -1.05449596e-01]\n"
          ],
          "name": "stdout"
        },
        {
          "output_type": "execute_result",
          "data": {
            "text/plain": [
              "2.8504573263784747e-07"
            ]
          },
          "metadata": {
            "tags": []
          },
          "execution_count": 49
        }
      ]
    },
    {
      "cell_type": "code",
      "metadata": {
        "id": "-zk4X5lIg7Cq",
        "colab_type": "code",
        "outputId": "e424107f-f1b0-474a-823a-de62d2c7ae8e",
        "colab": {
          "base_uri": "https://localhost:8080/",
          "height": 72
        }
      },
      "source": [
        "print('Error w: ', utils.compute_error(w@S@w,w_ast@S@w_ast))\n",
        "print('Error r: ', utils.compute_error(w@mu, r))\n",
        "print('Error suma de pesos: ', abs(((sum(w)-1)/(sum(w)))))"
      ],
      "execution_count": 50,
      "outputs": [
        {
          "output_type": "stream",
          "text": [
            "Error w:  2.8504565138680096e-07\n",
            "Error r:  1.3801504176161858e-16\n",
            "Error suma de pesos:  0.0\n"
          ],
          "name": "stdout"
        }
      ]
    },
    {
      "cell_type": "code",
      "metadata": {
        "id": "v_U58Xqig6_p",
        "colab_type": "code",
        "colab": {}
      },
      "source": [
        "#Newton\n",
        "tol=1e-14\n",
        "tol_backtracking=1e-14\n",
        "p_ast=fo(w_ast)\n",
        "maxiter=500"
      ],
      "execution_count": 0,
      "outputs": []
    },
    {
      "cell_type": "code",
      "metadata": {
        "id": "WNhjTkkAg68Z",
        "colab_type": "code",
        "outputId": "17062cc0-cff6-4416-dcca-706069752b6f",
        "colab": {
          "base_uri": "https://localhost:8080/",
          "height": 403
        }
      },
      "source": [
        "[w,total_of_iterations,Err_plot,x_plot]=opt.Newtons_method_feasible_init_point(fo,A, w_0,tol, tol_backtracking, w_ast, p_ast, maxiter)\n",
        "#Error\n",
        "Err_plot[-1]"
      ],
      "execution_count": 52,
      "outputs": [
        {
          "output_type": "stream",
          "text": [
            "I\tNormgf \tNewton Decrement\tError x_ast\tError p_ast\tline search\tCondHf\n",
            "0\t0.0019\t0.0009\t1.1003\t4.6965\t---\t\t9481.6958\n",
            "1\t0.0019\t0.0\t0.1041\t0.0005\t1\t9481.6958\n",
            "2\t0.0019\t0.0\t0.0028\t0.0\t1\t9481.6958\n",
            "3\t0.0019\t0.0\t0.0001\t0.0\t1\t9481.6958\n",
            "4\t0.0019\t0.0\t0.0\t0.0\t1\t9481.6958\n",
            "Error of x with respect to x_ast: 3.031132220976894e-07\n",
            "Approximate solution: [ 1.58463783e-01 -2.08636897e-02  1.58052223e-01 -9.29027893e-02\n",
            "  3.17035768e-02  5.10936720e-02  8.71909596e-02  1.26214741e-02\n",
            "  3.72847467e-02  2.86012510e-01 -5.98823128e-03  2.22637003e-03\n",
            "  2.03105163e-01  9.46038156e-02  2.28670762e-02  1.49956434e-02\n",
            "  7.60916104e-03  2.96818810e-02  5.76661702e-02  1.98159700e-01\n",
            "  1.19888060e-01  1.27852784e-01  1.41319107e-01  1.36660757e-02\n",
            "  8.83936126e-02  1.50480387e-01  1.69310059e-01  7.72153880e-02\n",
            "  8.09180898e-02  8.24856614e-02  1.91986091e-01 -2.40881569e-02\n",
            "  2.63690413e-02  7.69721820e-02  2.21228901e-02 -1.08217300e-01\n",
            "  1.64028300e-01  1.81505545e-02  6.16482773e-02 -1.08205642e-01\n",
            " -5.02027555e-02  1.38840038e-01  1.03580110e-01 -4.28042496e-02\n",
            "  1.06735022e-02 -2.33324989e+00  1.89510468e-01  2.63196305e-01\n",
            "  1.20080816e-01 -1.05503024e-01]\n"
          ],
          "name": "stdout"
        },
        {
          "output_type": "execute_result",
          "data": {
            "text/plain": [
              "4.842364082573431e-14"
            ]
          },
          "metadata": {
            "tags": []
          },
          "execution_count": 52
        }
      ]
    },
    {
      "cell_type": "code",
      "metadata": {
        "id": "MxBliXZPg65U",
        "colab_type": "code",
        "outputId": "018f181c-fefb-49cf-d870-145012baa0b0",
        "colab": {
          "base_uri": "https://localhost:8080/",
          "height": 72
        }
      },
      "source": [
        "print('Error w: ', utils.compute_error(w@S@w,w_ast@S@w_ast))\n",
        "print('Error r: ', utils.compute_error(w@mu, r))\n",
        "print('Error suma de pesos: ', abs(((sum(w)-1)/(sum(w)))))"
      ],
      "execution_count": 53,
      "outputs": [
        {
          "output_type": "stream",
          "text": [
            "Error w:  4.8423640825731965e-14\n",
            "Error r:  1.3801504176161858e-16\n",
            "Error suma de pesos:  4.440892098500624e-16\n"
          ],
          "name": "stdout"
        }
      ]
    },
    {
      "cell_type": "code",
      "metadata": {
        "id": "_p-LJym2g62O",
        "colab_type": "code",
        "colab": {}
      },
      "source": [
        "#Newton\n",
        "tol=1e-16\n",
        "tol_backtracking=1e-15\n",
        "p_ast=fo(w_ast)\n",
        "maxiter=500"
      ],
      "execution_count": 0,
      "outputs": []
    },
    {
      "cell_type": "code",
      "metadata": {
        "id": "i4VyR_Ufg6yg",
        "colab_type": "code",
        "outputId": "1128b853-5574-40d2-a46e-7e309b3cff4e",
        "colab": {
          "base_uri": "https://localhost:8080/",
          "height": 403
        }
      },
      "source": [
        "[w,total_of_iterations,Err_plot,x_plot]=opt.Newtons_method_feasible_init_point(fo,A, w_0,tol, tol_backtracking, w_ast, p_ast, maxiter)\n",
        "#Error\n",
        "Err_plot[-1]"
      ],
      "execution_count": 55,
      "outputs": [
        {
          "output_type": "stream",
          "text": [
            "I\tNormgf \tNewton Decrement\tError x_ast\tError p_ast\tline search\tCondHf\n",
            "0\t0.0019\t0.0009\t1.1003\t4.6965\t---\t\t9481.6958\n",
            "1\t0.0019\t0.0\t0.1041\t0.0005\t1\t9481.6958\n",
            "2\t0.0019\t0.0\t0.0028\t0.0\t1\t9481.6958\n",
            "3\t0.0019\t0.0\t0.0001\t0.0\t1\t9481.6958\n",
            "4\t0.0019\t0.0\t0.0\t0.0\t1\t9481.6958\n",
            "Error of x with respect to x_ast: 3.031132220976894e-07\n",
            "Approximate solution: [ 1.58463783e-01 -2.08636897e-02  1.58052223e-01 -9.29027893e-02\n",
            "  3.17035768e-02  5.10936720e-02  8.71909596e-02  1.26214741e-02\n",
            "  3.72847467e-02  2.86012510e-01 -5.98823128e-03  2.22637003e-03\n",
            "  2.03105163e-01  9.46038156e-02  2.28670762e-02  1.49956434e-02\n",
            "  7.60916104e-03  2.96818810e-02  5.76661702e-02  1.98159700e-01\n",
            "  1.19888060e-01  1.27852784e-01  1.41319107e-01  1.36660757e-02\n",
            "  8.83936126e-02  1.50480387e-01  1.69310059e-01  7.72153880e-02\n",
            "  8.09180898e-02  8.24856614e-02  1.91986091e-01 -2.40881569e-02\n",
            "  2.63690413e-02  7.69721820e-02  2.21228901e-02 -1.08217300e-01\n",
            "  1.64028300e-01  1.81505545e-02  6.16482773e-02 -1.08205642e-01\n",
            " -5.02027555e-02  1.38840038e-01  1.03580110e-01 -4.28042496e-02\n",
            "  1.06735022e-02 -2.33324989e+00  1.89510468e-01  2.63196305e-01\n",
            "  1.20080816e-01 -1.05503024e-01]\n"
          ],
          "name": "stdout"
        },
        {
          "output_type": "execute_result",
          "data": {
            "text/plain": [
              "4.842364082573431e-14"
            ]
          },
          "metadata": {
            "tags": []
          },
          "execution_count": 55
        }
      ]
    },
    {
      "cell_type": "code",
      "metadata": {
        "id": "bIvH8OY4g6u7",
        "colab_type": "code",
        "outputId": "35c12010-a3da-4a5c-801e-7ddba9d35bd4",
        "colab": {
          "base_uri": "https://localhost:8080/",
          "height": 72
        }
      },
      "source": [
        "print('Error w: ', utils.compute_error(w@S@w,w_ast@S@w_ast))\n",
        "print('Error r: ', utils.compute_error(w@mu, r))\n",
        "print('Error suma de pesos: ', abs(((sum(w)-1)/(sum(w)))))"
      ],
      "execution_count": 56,
      "outputs": [
        {
          "output_type": "stream",
          "text": [
            "Error w:  4.8423640825731965e-14\n",
            "Error r:  1.3801504176161858e-16\n",
            "Error suma de pesos:  4.440892098500624e-16\n"
          ],
          "name": "stdout"
        }
      ]
    },
    {
      "cell_type": "markdown",
      "metadata": {
        "id": "2vHSGh9ghVhJ",
        "colab_type": "text"
      },
      "source": [
        "Ahora probamos con $r=0.3$"
      ]
    },
    {
      "cell_type": "code",
      "metadata": {
        "id": "tiN1ET0yg6rM",
        "colab_type": "code",
        "colab": {}
      },
      "source": [
        "r=0.3\n",
        "w_ast = mkv.markowitz(r,mu,S)\n",
        "w_0 = utils.feasible_markowitz(r,mu)\n",
        "n = mu.shape[0]\n",
        "#Matriz A de restricciones\n",
        "A = cp.concatenate((mu,cp.ones(n))).reshape(2,n)\n",
        "#Vector b\n",
        "b = cp.array([r,1])\n",
        "#Punto inicial\n",
        "w_0 = utils.feasible_markowitz(r,mu)"
      ],
      "execution_count": 0,
      "outputs": []
    },
    {
      "cell_type": "code",
      "metadata": {
        "id": "14HlhWSTg6mL",
        "colab_type": "code",
        "colab": {}
      },
      "source": [
        "#Newton\n",
        "tol=1e-8\n",
        "tol_backtracking=1e-14\n",
        "p_ast=fo(w_ast)\n",
        "maxiter=50\n"
      ],
      "execution_count": 0,
      "outputs": []
    },
    {
      "cell_type": "code",
      "metadata": {
        "id": "yMvFmPjjg6hb",
        "colab_type": "code",
        "outputId": "48698210-b0ed-4acd-9de6-87f1db1d47f4",
        "colab": {
          "base_uri": "https://localhost:8080/",
          "height": 366
        }
      },
      "source": [
        "[w,total_of_iterations,Err_plot,x_plot]=opt.Newtons_method_feasible_init_point(fo,A, w_0,tol, tol_backtracking, w_ast, p_ast, maxiter)\n",
        "#Error\n",
        "Err_plot[-1]\n"
      ],
      "execution_count": 59,
      "outputs": [
        {
          "output_type": "stream",
          "text": [
            "I\tNormgf \tNewton Decrement\tError x_ast\tError p_ast\tline search\tCondHf\n",
            "0\t0.0025\t0.0021\t1.3834\t14.9543\t---\t\t12081.7705\n",
            "1\t0.0025\t0.0\t0.2387\t0.0022\t1\t12081.7705\n",
            "2\t0.0025\t0.0\t0.0005\t0.0\t1\t12081.7705\n",
            "Error of x with respect to x_ast: 0.0005189696439787124\n",
            "Approximate solution: [ 1.40213888e-01 -1.35552723e-02  1.10335796e-01 -4.37947478e-02\n",
            "  4.33942509e-02  6.25611789e-02  6.23249533e-02  3.43253666e-02\n",
            "  1.48844568e-02  2.18631993e-01 -1.85280422e-03  5.02111317e-04\n",
            "  1.90513241e-01  8.94316473e-02  3.20926507e-03  1.05169150e-02\n",
            "  6.46503931e-03  3.10791840e-02  5.03546798e-02  1.51305017e-01\n",
            "  8.35171724e-02  1.09255225e-01  7.70926669e-02  3.71826050e-02\n",
            "  7.11575919e-02  1.15434591e-01  1.14161600e-01  4.22929702e-02\n",
            "  5.82207571e-02  4.24453317e-02  1.85399701e-01 -3.66975667e-02\n",
            "  3.70397694e-02  7.25800932e-02 -3.11250907e-03 -8.38931299e-02\n",
            "  1.36133670e-01  2.45881010e-02  4.86685562e-02 -8.05366209e-02\n",
            " -4.61056090e-02  9.43157475e-02  8.10349278e-02 -2.07811248e-02\n",
            "  7.86659889e-03 -1.94114060e+00  3.30115987e-01  2.32901941e-01\n",
            "  1.10165128e-01 -6.01497310e-02]\n"
          ],
          "name": "stdout"
        },
        {
          "output_type": "execute_result",
          "data": {
            "text/plain": [
              "5.670447675083701e-08"
            ]
          },
          "metadata": {
            "tags": []
          },
          "execution_count": 59
        }
      ]
    },
    {
      "cell_type": "code",
      "metadata": {
        "id": "xqaDWW3viaFc",
        "colab_type": "code",
        "outputId": "b3b6fe3a-7e6e-4f5d-f100-bb09a1977a40",
        "colab": {
          "base_uri": "https://localhost:8080/",
          "height": 72
        }
      },
      "source": [
        "print('Error w: ', utils.compute_error(w@S@w,w_ast@S@w_ast))\n",
        "print('Error r: ', utils.compute_error(w@mu, r))\n",
        "print('Error suma de pesos: ', abs(((sum(w)-1)/(sum(w)))))"
      ],
      "execution_count": 60,
      "outputs": [
        {
          "output_type": "stream",
          "text": [
            "Error w:  5.6704473535439514e-08\n",
            "Error r:  0.0\n",
            "Error suma de pesos:  6.661338147750935e-16\n"
          ],
          "name": "stdout"
        }
      ]
    },
    {
      "cell_type": "code",
      "metadata": {
        "id": "S_PeK1fHice2",
        "colab_type": "code",
        "colab": {}
      },
      "source": [
        "#Newton\n",
        "tol=1e-8\n",
        "tol_backtracking=1e-14\n",
        "p_ast=fo(w_ast)\n",
        "maxiter=500"
      ],
      "execution_count": 0,
      "outputs": []
    },
    {
      "cell_type": "code",
      "metadata": {
        "id": "UwNyMkN_if2A",
        "colab_type": "code",
        "outputId": "2979ccc5-ce78-41ab-e891-58f9db64071e",
        "colab": {
          "base_uri": "https://localhost:8080/",
          "height": 366
        }
      },
      "source": [
        "[w,total_of_iterations,Err_plot,x_plot]=opt.Newtons_method_feasible_init_point(fo,A, w_0,tol, tol_backtracking, w_ast, p_ast, maxiter)\n",
        "#Error\n",
        "Err_plot[-1]"
      ],
      "execution_count": 62,
      "outputs": [
        {
          "output_type": "stream",
          "text": [
            "I\tNormgf \tNewton Decrement\tError x_ast\tError p_ast\tline search\tCondHf\n",
            "0\t0.0025\t0.0021\t1.3834\t14.9543\t---\t\t12081.7705\n",
            "1\t0.0025\t0.0\t0.2387\t0.0022\t1\t12081.7705\n",
            "2\t0.0025\t0.0\t0.0005\t0.0\t1\t12081.7705\n",
            "Error of x with respect to x_ast: 0.0005189696439787124\n",
            "Approximate solution: [ 1.40213888e-01 -1.35552723e-02  1.10335796e-01 -4.37947478e-02\n",
            "  4.33942509e-02  6.25611789e-02  6.23249533e-02  3.43253666e-02\n",
            "  1.48844568e-02  2.18631993e-01 -1.85280422e-03  5.02111317e-04\n",
            "  1.90513241e-01  8.94316473e-02  3.20926507e-03  1.05169150e-02\n",
            "  6.46503931e-03  3.10791840e-02  5.03546798e-02  1.51305017e-01\n",
            "  8.35171724e-02  1.09255225e-01  7.70926669e-02  3.71826050e-02\n",
            "  7.11575919e-02  1.15434591e-01  1.14161600e-01  4.22929702e-02\n",
            "  5.82207571e-02  4.24453317e-02  1.85399701e-01 -3.66975667e-02\n",
            "  3.70397694e-02  7.25800932e-02 -3.11250907e-03 -8.38931299e-02\n",
            "  1.36133670e-01  2.45881010e-02  4.86685562e-02 -8.05366209e-02\n",
            " -4.61056090e-02  9.43157475e-02  8.10349278e-02 -2.07811248e-02\n",
            "  7.86659889e-03 -1.94114060e+00  3.30115987e-01  2.32901941e-01\n",
            "  1.10165128e-01 -6.01497310e-02]\n"
          ],
          "name": "stdout"
        },
        {
          "output_type": "execute_result",
          "data": {
            "text/plain": [
              "5.670447675083701e-08"
            ]
          },
          "metadata": {
            "tags": []
          },
          "execution_count": 62
        }
      ]
    },
    {
      "cell_type": "code",
      "metadata": {
        "id": "oIkmvR1BigPE",
        "colab_type": "code",
        "outputId": "2772c15b-89b5-48c1-f7a3-abf78a190af1",
        "colab": {
          "base_uri": "https://localhost:8080/",
          "height": 72
        }
      },
      "source": [
        "print('Error w: ', utils.compute_error(w@S@w,w_ast@S@w_ast))\n",
        "print('Error r: ', utils.compute_error(w@mu, r))\n",
        "print('Error suma de pesos: ', abs(((sum(w)-1)/(sum(w)))))"
      ],
      "execution_count": 63,
      "outputs": [
        {
          "output_type": "stream",
          "text": [
            "Error w:  5.6704473535439514e-08\n",
            "Error r:  0.0\n",
            "Error suma de pesos:  6.661338147750935e-16\n"
          ],
          "name": "stdout"
        }
      ]
    },
    {
      "cell_type": "code",
      "metadata": {
        "id": "qVl2-RwbigLM",
        "colab_type": "code",
        "colab": {}
      },
      "source": [
        "#Newton\n",
        "tol=1e-10\n",
        "tol_backtracking=1e-14\n",
        "p_ast=fo(w_ast)\n",
        "maxiter=500"
      ],
      "execution_count": 0,
      "outputs": []
    },
    {
      "cell_type": "code",
      "metadata": {
        "id": "tMV5UWX9igHN",
        "colab_type": "code",
        "outputId": "d2bd54b5-6bdb-4c8b-d76e-67724d0bf40f",
        "colab": {
          "base_uri": "https://localhost:8080/",
          "height": 366
        }
      },
      "source": [
        "[w,total_of_iterations,Err_plot,x_plot]=opt.Newtons_method_feasible_init_point(fo,A, w_0,tol, tol_backtracking, w_ast, p_ast, maxiter)\n",
        "#Error\n",
        "Err_plot[-1]"
      ],
      "execution_count": 65,
      "outputs": [
        {
          "output_type": "stream",
          "text": [
            "I\tNormgf \tNewton Decrement\tError x_ast\tError p_ast\tline search\tCondHf\n",
            "0\t0.0025\t0.0021\t1.3834\t14.9543\t---\t\t12081.7705\n",
            "1\t0.0025\t0.0\t0.2387\t0.0022\t1\t12081.7705\n",
            "2\t0.0025\t0.0\t0.0005\t0.0\t1\t12081.7705\n",
            "Error of x with respect to x_ast: 0.0005189696439787124\n",
            "Approximate solution: [ 1.40213888e-01 -1.35552723e-02  1.10335796e-01 -4.37947478e-02\n",
            "  4.33942509e-02  6.25611789e-02  6.23249533e-02  3.43253666e-02\n",
            "  1.48844568e-02  2.18631993e-01 -1.85280422e-03  5.02111317e-04\n",
            "  1.90513241e-01  8.94316473e-02  3.20926507e-03  1.05169150e-02\n",
            "  6.46503931e-03  3.10791840e-02  5.03546798e-02  1.51305017e-01\n",
            "  8.35171724e-02  1.09255225e-01  7.70926669e-02  3.71826050e-02\n",
            "  7.11575919e-02  1.15434591e-01  1.14161600e-01  4.22929702e-02\n",
            "  5.82207571e-02  4.24453317e-02  1.85399701e-01 -3.66975667e-02\n",
            "  3.70397694e-02  7.25800932e-02 -3.11250907e-03 -8.38931299e-02\n",
            "  1.36133670e-01  2.45881010e-02  4.86685562e-02 -8.05366209e-02\n",
            " -4.61056090e-02  9.43157475e-02  8.10349278e-02 -2.07811248e-02\n",
            "  7.86659889e-03 -1.94114060e+00  3.30115987e-01  2.32901941e-01\n",
            "  1.10165128e-01 -6.01497310e-02]\n"
          ],
          "name": "stdout"
        },
        {
          "output_type": "execute_result",
          "data": {
            "text/plain": [
              "5.670447675083701e-08"
            ]
          },
          "metadata": {
            "tags": []
          },
          "execution_count": 65
        }
      ]
    },
    {
      "cell_type": "code",
      "metadata": {
        "id": "2yNWnOgdigDp",
        "colab_type": "code",
        "outputId": "71114f28-fdf5-4cbc-d668-9117183c4efd",
        "colab": {
          "base_uri": "https://localhost:8080/",
          "height": 72
        }
      },
      "source": [
        "print('Error w: ', utils.compute_error(w@S@w,w_ast@S@w_ast))\n",
        "print('Error r: ', utils.compute_error(w@mu, r))\n",
        "print('Error suma de pesos: ', abs(((sum(w)-1)/(sum(w)))))"
      ],
      "execution_count": 66,
      "outputs": [
        {
          "output_type": "stream",
          "text": [
            "Error w:  5.6704473535439514e-08\n",
            "Error r:  0.0\n",
            "Error suma de pesos:  6.661338147750935e-16\n"
          ],
          "name": "stdout"
        }
      ]
    },
    {
      "cell_type": "code",
      "metadata": {
        "id": "cB5xTG6Eiuxt",
        "colab_type": "code",
        "colab": {}
      },
      "source": [
        "#Newton\n",
        "tol=1e-14\n",
        "tol_backtracking=1e-14\n",
        "p_ast=fo(w_ast)\n",
        "maxiter=500"
      ],
      "execution_count": 0,
      "outputs": []
    },
    {
      "cell_type": "code",
      "metadata": {
        "id": "zX2pwiEliutj",
        "colab_type": "code",
        "outputId": "306cc144-38f2-4c18-f687-14187a2fcaf9",
        "colab": {
          "base_uri": "https://localhost:8080/",
          "height": 384
        }
      },
      "source": [
        "[w,total_of_iterations,Err_plot,x_plot]=opt.Newtons_method_feasible_init_point(fo,A, w_0,tol, tol_backtracking, w_ast, p_ast, maxiter)\n",
        "#Error\n",
        "Err_plot[-1]"
      ],
      "execution_count": 68,
      "outputs": [
        {
          "output_type": "stream",
          "text": [
            "I\tNormgf \tNewton Decrement\tError x_ast\tError p_ast\tline search\tCondHf\n",
            "0\t0.0025\t0.0021\t1.3834\t14.9543\t---\t\t12081.7705\n",
            "1\t0.0025\t0.0\t0.2387\t0.0022\t1\t12081.7705\n",
            "2\t0.0025\t0.0\t0.0005\t0.0\t1\t12081.7705\n",
            "3\t0.0025\t0.0\t0.0\t0.0\t1\t12081.7705\n",
            "Error of x with respect to x_ast: 1.263552029503516e-05\n",
            "Approximate solution: [ 1.40208859e-01 -1.35701313e-02  1.10344514e-01 -4.37785956e-02\n",
            "  4.34166503e-02  6.25598381e-02  6.23707859e-02  3.43354223e-02\n",
            "  1.49777360e-02  2.18651776e-01 -1.87571027e-03  5.05670061e-04\n",
            "  1.90535990e-01  8.93617177e-02  3.24189634e-03  1.05073338e-02\n",
            "  6.48600212e-03  3.10749446e-02  5.03464699e-02  1.51320391e-01\n",
            "  8.35518500e-02  1.09295292e-01  7.71218023e-02  3.72788939e-02\n",
            "  7.11653880e-02  1.15402530e-01  1.14132258e-01  4.23118550e-02\n",
            "  5.81895682e-02  4.24484140e-02  1.85352796e-01 -3.66540070e-02\n",
            "  3.70840806e-02  7.25208463e-02 -3.15163365e-03 -8.39240102e-02\n",
            "  1.36117737e-01  2.45592118e-02  4.86624727e-02 -8.05780496e-02\n",
            " -4.60675246e-02  9.43063435e-02  8.10042939e-02 -2.07737219e-02\n",
            "  7.92005750e-03 -1.94195066e+00  3.30734649e-01  2.32870300e-01\n",
            "  1.10167195e-01 -6.01197900e-02]\n"
          ],
          "name": "stdout"
        },
        {
          "output_type": "execute_result",
          "data": {
            "text/plain": [
              "6.011417837751798e-12"
            ]
          },
          "metadata": {
            "tags": []
          },
          "execution_count": 68
        }
      ]
    },
    {
      "cell_type": "code",
      "metadata": {
        "id": "D-0_y1h7iup9",
        "colab_type": "code",
        "outputId": "9070e8f4-a5c4-4f2d-e3ea-73ca7d1d7730",
        "colab": {
          "base_uri": "https://localhost:8080/",
          "height": 72
        }
      },
      "source": [
        "print('Error w: ', utils.compute_error(w@S@w,w_ast@S@w_ast))\n",
        "print('Error r: ', utils.compute_error(w@mu, r))\n",
        "print('Error suma de pesos: ', abs(((sum(w)-1)/(sum(w)))))"
      ],
      "execution_count": 69,
      "outputs": [
        {
          "output_type": "stream",
          "text": [
            "Error w:  6.011417837715662e-12\n",
            "Error r:  1.8503717077085946e-16\n",
            "Error suma de pesos:  2.2204460492503126e-16\n"
          ],
          "name": "stdout"
        }
      ]
    },
    {
      "cell_type": "code",
      "metadata": {
        "id": "FE22PVMRiulO",
        "colab_type": "code",
        "colab": {}
      },
      "source": [
        "#Newton\n",
        "tol=1e-16\n",
        "tol_backtracking=1e-15\n",
        "p_ast=fo(w_ast)\n",
        "maxiter=500"
      ],
      "execution_count": 0,
      "outputs": []
    },
    {
      "cell_type": "code",
      "metadata": {
        "id": "dxRFkyGdigAK",
        "colab_type": "code",
        "outputId": "1aeb6fc3-44e3-40e6-edf8-8cbea2ae8752",
        "colab": {
          "base_uri": "https://localhost:8080/",
          "height": 403
        }
      },
      "source": [
        "[w,total_of_iterations,Err_plot,x_plot]=opt.Newtons_method_feasible_init_point(fo,A, w_0,tol, tol_backtracking, w_ast, p_ast, maxiter)\n",
        "#Error\n",
        "Err_plot[-1]"
      ],
      "execution_count": 71,
      "outputs": [
        {
          "output_type": "stream",
          "text": [
            "I\tNormgf \tNewton Decrement\tError x_ast\tError p_ast\tline search\tCondHf\n",
            "0\t0.0025\t0.0021\t1.3834\t14.9543\t---\t\t12081.7705\n",
            "1\t0.0025\t0.0\t0.2387\t0.0022\t1\t12081.7705\n",
            "2\t0.0025\t0.0\t0.0005\t0.0\t1\t12081.7705\n",
            "3\t0.0025\t0.0\t0.0\t0.0\t1\t12081.7705\n",
            "4\t0.0025\t0.0\t0.0\t0.0\t1\t12081.7705\n",
            "Error of x with respect to x_ast: 2.8579782669796953e-07\n",
            "Approximate solution: [ 1.40208825e-01 -1.35701020e-02  1.10344444e-01 -4.37786414e-02\n",
            "  4.34166529e-02  6.25598493e-02  6.23709110e-02  3.43354765e-02\n",
            "  1.49776709e-02  2.18651802e-01 -1.87571928e-03  5.05624952e-04\n",
            "  1.90535764e-01  8.93618536e-02  3.24186281e-03  1.05075154e-02\n",
            "  6.48606675e-03  3.10748092e-02  5.03466994e-02  1.51320379e-01\n",
            "  8.35517225e-02  1.09295908e-01  7.71218759e-02  3.72785373e-02\n",
            "  7.11654032e-02  1.15402683e-01  1.14132295e-01  4.23119000e-02\n",
            "  5.81895581e-02  4.24485121e-02  1.85352719e-01 -3.66534139e-02\n",
            "  3.70838697e-02  7.25209180e-02 -3.15181695e-03 -8.39240821e-02\n",
            "  1.36117730e-01  2.45591067e-02  4.86624444e-02 -8.05782317e-02\n",
            " -4.60675163e-02  9.43064040e-02  8.10042399e-02 -2.07736846e-02\n",
            "  7.92009071e-03 -1.94196922e+00  3.30752358e-01  2.32870370e-01\n",
            "  1.10167279e-01 -6.01197032e-02]\n"
          ],
          "name": "stdout"
        },
        {
          "output_type": "execute_result",
          "data": {
            "text/plain": [
              "3.693830694909096e-14"
            ]
          },
          "metadata": {
            "tags": []
          },
          "execution_count": 71
        }
      ]
    },
    {
      "cell_type": "code",
      "metadata": {
        "id": "V3OrKN_Xif8X",
        "colab_type": "code",
        "outputId": "d0b03857-1326-4b7d-f406-a2be3276e0f4",
        "colab": {
          "base_uri": "https://localhost:8080/",
          "height": 72
        }
      },
      "source": [
        "print('Error w: ', utils.compute_error(w@S@w,w_ast@S@w_ast))\n",
        "print('Error r: ', utils.compute_error(w@mu, r))\n",
        "print('Error suma de pesos: ', abs(((sum(w)-1)/(sum(w)))))"
      ],
      "execution_count": 72,
      "outputs": [
        {
          "output_type": "stream",
          "text": [
            "Error w:  3.69383069490896e-14\n",
            "Error r:  1.8503717077085946e-16\n",
            "Error suma de pesos:  2.2204460492503136e-16\n"
          ],
          "name": "stdout"
        }
      ]
    },
    {
      "cell_type": "markdown",
      "metadata": {
        "id": "2e3yxqY7i8L_",
        "colab_type": "text"
      },
      "source": [
        "Proseguimos a probar con $r=0.5$"
      ]
    },
    {
      "cell_type": "code",
      "metadata": {
        "id": "BAMNw7bsjCB3",
        "colab_type": "code",
        "colab": {}
      },
      "source": [
        "r=0.5\n",
        "w_ast = mkv.markowitz(r,mu,S)\n",
        "w_0 = utils.feasible_markowitz(r,mu)\n",
        "n = mu.shape[0]\n",
        "#Matriz A de restricciones\n",
        "A = cp.concatenate((mu,cp.ones(n))).reshape(2,n)\n",
        "#Vector b\n",
        "b = cp.array([r,1])\n",
        "#Punto inicial\n",
        "w_0 = utils.feasible_markowitz(r,mu)\n"
      ],
      "execution_count": 0,
      "outputs": []
    },
    {
      "cell_type": "code",
      "metadata": {
        "id": "_4p--vYmjClz",
        "colab_type": "code",
        "colab": {}
      },
      "source": [
        "#Newton\n",
        "tol=1e-8\n",
        "tol_backtracking=1e-14\n",
        "p_ast=fo(w_ast)\n",
        "maxiter=50"
      ],
      "execution_count": 0,
      "outputs": []
    },
    {
      "cell_type": "code",
      "metadata": {
        "id": "x5Fem2XWjDDN",
        "colab_type": "code",
        "outputId": "6c51bfeb-f472-45a0-e375-fd2427171ef3",
        "colab": {
          "base_uri": "https://localhost:8080/",
          "height": 293
        }
      },
      "source": [
        "[w,total_of_iterations,Err_plot,x_plot]=opt.Newtons_method_feasible_init_point(fo,A, w_0,tol, tol_backtracking, w_ast, p_ast, maxiter)\n",
        "#Error\n",
        "Err_plot[-1]"
      ],
      "execution_count": 75,
      "outputs": [
        {
          "output_type": "stream",
          "text": [
            "I\tNormgf \tNewton Decrement\tError x_ast\tError p_ast\tline search\tCondHf\n",
            "0\t0.0079\t0.0319\t3.348\t126.523\t---\t\t4161.5799\n",
            "1\t0.0079\t0.0001\t0.4474\t0.2929\t1\t4161.5799\n",
            "2\t0.0079\t0.0\t0.0031\t0.0\t1\t4161.5799\n",
            "Error of x with respect to x_ast: 0.0030953417065468472\n",
            "Approximate solution: [ 0.17605737 -0.028133    0.20370441 -0.13944823  0.02040444  0.03971301\n",
            "  0.11061157 -0.00831907  0.05926363  0.35044085 -0.00999214  0.00402387\n",
            "  0.21490561  0.09919148  0.04130532  0.0192279   0.00894235  0.02825702\n",
            "  0.06442817  0.24236893  0.15382738  0.14563072  0.20289951 -0.00930442\n",
            "  0.1048669   0.18407827  0.2221503   0.11064296  0.10261619  0.12092284\n",
            "  0.19766992 -0.01251661  0.01530187  0.08173483  0.0459347  -0.13148722\n",
            "  0.1908446   0.01222174  0.07391153 -0.13464446 -0.05502942  0.1814344\n",
            "  0.12511717 -0.06424143  0.01251383 -2.71010416  0.06249577  0.29287141\n",
            "  0.12949049 -0.14880313]\n"
          ],
          "name": "stdout"
        },
        {
          "output_type": "execute_result",
          "data": {
            "text/plain": [
              "3.91196816936474e-06"
            ]
          },
          "metadata": {
            "tags": []
          },
          "execution_count": 75
        }
      ]
    },
    {
      "cell_type": "code",
      "metadata": {
        "id": "8Yp130ELjC_o",
        "colab_type": "code",
        "outputId": "bd91dfdd-bfa1-4d1e-e88d-11a3fccf9795",
        "colab": {
          "base_uri": "https://localhost:8080/",
          "height": 72
        }
      },
      "source": [
        "print('Error w: ', utils.compute_error(w@S@w,w_ast@S@w_ast))\n",
        "print('Error r: ', utils.compute_error(w@mu, r))\n",
        "print('Error suma de pesos: ', abs(((sum(w)-1)/(sum(w)))))"
      ],
      "execution_count": 76,
      "outputs": [
        {
          "output_type": "stream",
          "text": [
            "Error w:  3.911952865929649e-06\n",
            "Error r:  4.440892098500624e-16\n",
            "Error suma de pesos:  4.440892098500624e-16\n"
          ],
          "name": "stdout"
        }
      ]
    },
    {
      "cell_type": "code",
      "metadata": {
        "id": "5JBtIczzjC7D",
        "colab_type": "code",
        "colab": {}
      },
      "source": [
        "#Newton\n",
        "tol=1e-8\n",
        "tol_backtracking=1e-14\n",
        "p_ast=fo(w_ast)\n",
        "maxiter=500"
      ],
      "execution_count": 0,
      "outputs": []
    },
    {
      "cell_type": "code",
      "metadata": {
        "id": "wwPg_lzwjC2Q",
        "colab_type": "code",
        "outputId": "0a64ec19-9de1-460c-ad98-50de31331056",
        "colab": {
          "base_uri": "https://localhost:8080/",
          "height": 293
        }
      },
      "source": [
        "[w,total_of_iterations,Err_plot,x_plot]=opt.Newtons_method_feasible_init_point(fo,A, w_0,tol, tol_backtracking, w_ast, p_ast, maxiter)\n",
        "#Error\n",
        "Err_plot[-1]"
      ],
      "execution_count": 78,
      "outputs": [
        {
          "output_type": "stream",
          "text": [
            "I\tNormgf \tNewton Decrement\tError x_ast\tError p_ast\tline search\tCondHf\n",
            "0\t0.0079\t0.0319\t3.348\t126.523\t---\t\t4161.5799\n",
            "1\t0.0079\t0.0001\t0.4474\t0.2929\t1\t4161.5799\n",
            "2\t0.0079\t0.0\t0.0031\t0.0\t1\t4161.5799\n",
            "Error of x with respect to x_ast: 0.0030953417065468472\n",
            "Approximate solution: [ 0.17605737 -0.028133    0.20370441 -0.13944823  0.02040444  0.03971301\n",
            "  0.11061157 -0.00831907  0.05926363  0.35044085 -0.00999214  0.00402387\n",
            "  0.21490561  0.09919148  0.04130532  0.0192279   0.00894235  0.02825702\n",
            "  0.06442817  0.24236893  0.15382738  0.14563072  0.20289951 -0.00930442\n",
            "  0.1048669   0.18407827  0.2221503   0.11064296  0.10261619  0.12092284\n",
            "  0.19766992 -0.01251661  0.01530187  0.08173483  0.0459347  -0.13148722\n",
            "  0.1908446   0.01222174  0.07391153 -0.13464446 -0.05502942  0.1814344\n",
            "  0.12511717 -0.06424143  0.01251383 -2.71010416  0.06249577  0.29287141\n",
            "  0.12949049 -0.14880313]\n"
          ],
          "name": "stdout"
        },
        {
          "output_type": "execute_result",
          "data": {
            "text/plain": [
              "3.91196816936474e-06"
            ]
          },
          "metadata": {
            "tags": []
          },
          "execution_count": 78
        }
      ]
    },
    {
      "cell_type": "code",
      "metadata": {
        "id": "kiBwsPuVjCiF",
        "colab_type": "code",
        "outputId": "7bdcd500-daa3-490d-9deb-94b6cb8a99c5",
        "colab": {
          "base_uri": "https://localhost:8080/",
          "height": 72
        }
      },
      "source": [
        "print('Error w: ', utils.compute_error(w@S@w,w_ast@S@w_ast))\n",
        "print('Error r: ', utils.compute_error(w@mu, r))\n",
        "print('Error suma de pesos: ', abs(((sum(w)-1)/(sum(w)))))"
      ],
      "execution_count": 79,
      "outputs": [
        {
          "output_type": "stream",
          "text": [
            "Error w:  3.911952865929649e-06\n",
            "Error r:  4.440892098500624e-16\n",
            "Error suma de pesos:  4.440892098500624e-16\n"
          ],
          "name": "stdout"
        }
      ]
    },
    {
      "cell_type": "code",
      "metadata": {
        "id": "tj1nx7VNjCeV",
        "colab_type": "code",
        "colab": {}
      },
      "source": [
        "#Newton\n",
        "tol=1e-10\n",
        "tol_backtracking=1e-14\n",
        "p_ast=fo(w_ast)\n",
        "maxiter=500"
      ],
      "execution_count": 0,
      "outputs": []
    },
    {
      "cell_type": "code",
      "metadata": {
        "id": "YP76iuuvjCab",
        "colab_type": "code",
        "outputId": "d11bd527-a496-4a56-cad3-109edd9cb47c",
        "colab": {
          "base_uri": "https://localhost:8080/",
          "height": 311
        }
      },
      "source": [
        "[w,total_of_iterations,Err_plot,x_plot]=opt.Newtons_method_feasible_init_point(fo,A, w_0,tol, tol_backtracking, w_ast, p_ast, maxiter)\n",
        "#Error\n",
        "Err_plot[-1]"
      ],
      "execution_count": 81,
      "outputs": [
        {
          "output_type": "stream",
          "text": [
            "I\tNormgf \tNewton Decrement\tError x_ast\tError p_ast\tline search\tCondHf\n",
            "0\t0.0079\t0.0319\t3.348\t126.523\t---\t\t4161.5799\n",
            "1\t0.0079\t0.0001\t0.4474\t0.2929\t1\t4161.5799\n",
            "2\t0.0079\t0.0\t0.0031\t0.0\t1\t4161.5799\n",
            "3\t0.0079\t0.0\t0.0001\t0.0\t1\t4161.5799\n",
            "Error of x with respect to x_ast: 8.440252455282802e-05\n",
            "Approximate solution: [ 0.17592781 -0.02784114  0.20369593 -0.13990183  0.02049809  0.04012451\n",
            "  0.11094177 -0.00815018  0.05862599  0.3504588  -0.00992193  0.00387246\n",
            "  0.2151303   0.09961973  0.04164509  0.01929082  0.00868628  0.02835077\n",
            "  0.06467366  0.24297664  0.15465774  0.14561731  0.20274366 -0.0089252\n",
            "  0.10487644  0.1840411   0.22210071  0.11060793  0.10266521  0.12079228\n",
            "  0.19833116 -0.01205976  0.01611629  0.08122996  0.04630415 -0.13146072\n",
            "  0.19072997  0.01201844  0.07407202 -0.13463793 -0.05415703  0.18144813\n",
            "  0.12517954 -0.06387992  0.01330822 -2.70779794  0.05451904  0.2922097\n",
            "  0.12956636 -0.14892044]\n"
          ],
          "name": "stdout"
        },
        {
          "output_type": "execute_result",
          "data": {
            "text/plain": [
              "3.6350116555457286e-10"
            ]
          },
          "metadata": {
            "tags": []
          },
          "execution_count": 81
        }
      ]
    },
    {
      "cell_type": "code",
      "metadata": {
        "id": "gFxfheTyjCWe",
        "colab_type": "code",
        "outputId": "7b9e1bdc-917c-483b-e306-78a057eacba9",
        "colab": {
          "base_uri": "https://localhost:8080/",
          "height": 72
        }
      },
      "source": [
        "print('Error w: ', utils.compute_error(w@S@w,w_ast@S@w_ast))\n",
        "print('Error r: ', utils.compute_error(w@mu, r))\n",
        "print('Error suma de pesos: ', abs(((sum(w)-1)/(sum(w)))))"
      ],
      "execution_count": 82,
      "outputs": [
        {
          "output_type": "stream",
          "text": [
            "Error w:  3.6350116542243975e-10\n",
            "Error r:  6.661338147750935e-16\n",
            "Error suma de pesos:  1.1102230246251554e-15\n"
          ],
          "name": "stdout"
        }
      ]
    },
    {
      "cell_type": "code",
      "metadata": {
        "id": "vS7aKK9LjCTG",
        "colab_type": "code",
        "colab": {}
      },
      "source": [
        "#Newton\n",
        "tol=1e-14\n",
        "tol_backtracking=1e-14\n",
        "p_ast=fo(w_ast)\n",
        "maxiter=500"
      ],
      "execution_count": 0,
      "outputs": []
    },
    {
      "cell_type": "code",
      "metadata": {
        "id": "L_f-5y6kjCPz",
        "colab_type": "code",
        "outputId": "2976d3f8-0adc-47fc-dfd2-2febc9d30b00",
        "colab": {
          "base_uri": "https://localhost:8080/",
          "height": 329
        }
      },
      "source": [
        "[w,total_of_iterations,Err_plot,x_plot]=opt.Newtons_method_feasible_init_point(fo,A, w_0,tol, tol_backtracking, w_ast, p_ast, maxiter)\n",
        "#Error\n",
        "Err_plot[-1]"
      ],
      "execution_count": 84,
      "outputs": [
        {
          "output_type": "stream",
          "text": [
            "I\tNormgf \tNewton Decrement\tError x_ast\tError p_ast\tline search\tCondHf\n",
            "0\t0.0079\t0.0319\t3.348\t126.523\t---\t\t4161.5799\n",
            "1\t0.0079\t0.0001\t0.4474\t0.2929\t1\t4161.5799\n",
            "2\t0.0079\t0.0\t0.0031\t0.0\t1\t4161.5799\n",
            "3\t0.0079\t0.0\t0.0001\t0.0\t1\t4161.5799\n",
            "4\t0.0079\t0.0\t0.0\t0.0\t1\t4161.5799\n",
            "Error of x with respect to x_ast: 4.650994220985898e-07\n",
            "Approximate solution: [ 0.17592898 -0.02784175  0.2036962  -0.13990185  0.02049718  0.04012363\n",
            "  0.11093726 -0.00815301  0.0586269   0.3504591  -0.00992289  0.00387263\n",
            "  0.21513084  0.09961907  0.04164334  0.0192896   0.00868362  0.02834922\n",
            "  0.06466904  0.24297272  0.15465277  0.14560683  0.20273914 -0.00892477\n",
            "  0.10487635  0.18404044  0.22210081  0.11060885  0.10266334  0.12079067\n",
            "  0.19833255 -0.01206673  0.01611771  0.08123077  0.04630413 -0.13145965\n",
            "  0.1907314   0.01201928  0.07407236 -0.13463794 -0.05415913  0.18144706\n",
            "  0.12517924 -0.0638816   0.01330772 -2.70760142  0.05437719  0.29221037\n",
            "  0.12956553 -0.1489231 ]\n"
          ],
          "name": "stdout"
        },
        {
          "output_type": "execute_result",
          "data": {
            "text/plain": [
              "1.1165550098866728e-13"
            ]
          },
          "metadata": {
            "tags": []
          },
          "execution_count": 84
        }
      ]
    },
    {
      "cell_type": "code",
      "metadata": {
        "id": "NnE3xhkhjCMC",
        "colab_type": "code",
        "outputId": "ee22a352-a773-474c-b3f7-2140f42d2244",
        "colab": {
          "base_uri": "https://localhost:8080/",
          "height": 72
        }
      },
      "source": [
        "print('Error w: ', utils.compute_error(w@S@w,w_ast@S@w_ast))\n",
        "print('Error r: ', utils.compute_error(w@mu, r))\n",
        "print('Error suma de pesos: ', abs(((sum(w)-1)/(sum(w)))))"
      ],
      "execution_count": 85,
      "outputs": [
        {
          "output_type": "stream",
          "text": [
            "Error w:  1.1165550098865483e-13\n",
            "Error r:  4.440892098500624e-16\n",
            "Error suma de pesos:  8.881784197001244e-16\n"
          ],
          "name": "stdout"
        }
      ]
    },
    {
      "cell_type": "code",
      "metadata": {
        "id": "ByHUx0mjjfpK",
        "colab_type": "code",
        "colab": {}
      },
      "source": [
        "#Newton\n",
        "tol=1e-16\n",
        "tol_backtracking=1e-15\n",
        "p_ast=fo(w_ast)\n",
        "maxiter=500"
      ],
      "execution_count": 0,
      "outputs": []
    },
    {
      "cell_type": "code",
      "metadata": {
        "id": "KXUkabjYjf6P",
        "colab_type": "code",
        "outputId": "924b109c-a813-4fea-c398-2d7fba9e800e",
        "colab": {
          "base_uri": "https://localhost:8080/",
          "height": 329
        }
      },
      "source": [
        "[w,total_of_iterations,Err_plot,x_plot]=opt.Newtons_method_feasible_init_point(fo,A, w_0,tol, tol_backtracking, w_ast, p_ast, maxiter)\n",
        "#Error\n",
        "Err_plot[-1]"
      ],
      "execution_count": 87,
      "outputs": [
        {
          "output_type": "stream",
          "text": [
            "I\tNormgf \tNewton Decrement\tError x_ast\tError p_ast\tline search\tCondHf\n",
            "0\t0.0079\t0.0319\t3.348\t126.523\t---\t\t4161.5799\n",
            "1\t0.0079\t0.0001\t0.4474\t0.2929\t1\t4161.5799\n",
            "2\t0.0079\t0.0\t0.0031\t0.0\t1\t4161.5799\n",
            "3\t0.0079\t0.0\t0.0001\t0.0\t1\t4161.5799\n",
            "4\t0.0079\t0.0\t0.0\t0.0\t1\t4161.5799\n",
            "Error of x with respect to x_ast: 4.650994220985898e-07\n",
            "Approximate solution: [ 0.17592898 -0.02784175  0.2036962  -0.13990185  0.02049718  0.04012363\n",
            "  0.11093726 -0.00815301  0.0586269   0.3504591  -0.00992289  0.00387263\n",
            "  0.21513084  0.09961907  0.04164334  0.0192896   0.00868362  0.02834922\n",
            "  0.06466904  0.24297272  0.15465277  0.14560683  0.20273914 -0.00892477\n",
            "  0.10487635  0.18404044  0.22210081  0.11060885  0.10266334  0.12079067\n",
            "  0.19833255 -0.01206673  0.01611771  0.08123077  0.04630413 -0.13145965\n",
            "  0.1907314   0.01201928  0.07407236 -0.13463794 -0.05415913  0.18144706\n",
            "  0.12517924 -0.0638816   0.01330772 -2.70760142  0.05437719  0.29221037\n",
            "  0.12956553 -0.1489231 ]\n"
          ],
          "name": "stdout"
        },
        {
          "output_type": "execute_result",
          "data": {
            "text/plain": [
              "1.1165550098866728e-13"
            ]
          },
          "metadata": {
            "tags": []
          },
          "execution_count": 87
        }
      ]
    },
    {
      "cell_type": "code",
      "metadata": {
        "id": "AsOLYpxzjf0t",
        "colab_type": "code",
        "outputId": "c96c0688-f67a-4af8-fc86-fbc3997575ac",
        "colab": {
          "base_uri": "https://localhost:8080/",
          "height": 72
        }
      },
      "source": [
        "print('Error w: ', utils.compute_error(w@S@w,w_ast@S@w_ast))\n",
        "print('Error r: ', utils.compute_error(w@mu, r))\n",
        "print('Error suma de pesos: ', abs(((sum(w)-1)/(sum(w)))))"
      ],
      "execution_count": 88,
      "outputs": [
        {
          "output_type": "stream",
          "text": [
            "Error w:  1.1165550098865483e-13\n",
            "Error r:  4.440892098500624e-16\n",
            "Error suma de pesos:  8.881784197001244e-16\n"
          ],
          "name": "stdout"
        }
      ]
    },
    {
      "cell_type": "markdown",
      "metadata": {
        "id": "UurUwYhvl6Js",
        "colab_type": "text"
      },
      "source": [
        "## Método de Newton usando funciones simbólicas\n"
      ]
    },
    {
      "cell_type": "code",
      "metadata": {
        "id": "8UMpBUq-mF8b",
        "colab_type": "code",
        "colab": {
          "base_uri": "https://localhost:8080/",
          "height": 182
        },
        "outputId": "71f76454-cfb8-49b1-f210-62284a5c5300"
      },
      "source": [
        "lines = inspect.getsource(opt.gfo_cp_mark)\n",
        "print(lines)"
      ],
      "execution_count": 89,
      "outputs": [
        {
          "output_type": "stream",
          "text": [
            "def gfo_cp_mark(Sigma,x):\n",
            "    '''\n",
            "    gradiente de la función objetivo 1/2*x.t*Sigma*x\n",
            "    input: matriz Sigma y vector x\n",
            "    output: producto matriz-vector Sigma*x\n",
            "    '''\n",
            "    first_block = Sigma@x\n",
            "    return first_block\n",
            "\n"
          ],
          "name": "stdout"
        }
      ]
    },
    {
      "cell_type": "code",
      "metadata": {
        "id": "uV_l-5HZmF4p",
        "colab_type": "code",
        "colab": {
          "base_uri": "https://localhost:8080/",
          "height": 182
        },
        "outputId": "c458238f-4e1b-458e-d87a-7e8d6396aadd"
      },
      "source": [
        "lines = inspect.getsource(opt.Hfo_cp_mark)\n",
        "print(lines)"
      ],
      "execution_count": 90,
      "outputs": [
        {
          "output_type": "stream",
          "text": [
            "def Hfo_cp_mark(Sigma):\n",
            "    '''\n",
            "    Hessiana de la función objetivo 1/2*x.t*Sigma*x\n",
            "    input: matriz Sigma\n",
            "    output: matriz Sigma\n",
            "    '''\n",
            "    first_block = Sigma \n",
            "    return first_block\n",
            "\n"
          ],
          "name": "stdout"
        }
      ]
    },
    {
      "cell_type": "code",
      "metadata": {
        "id": "2KFtofn6mF0H",
        "colab_type": "code",
        "colab": {}
      },
      "source": [
        "r=max(mu).item()\n",
        "w_ast = mkv.markowitz(r,mu,S)\n",
        "w_0 = utils.feasible_markowitz(r,mu)\n",
        "n = mu.shape[0]\n",
        "#Matriz A de restricciones\n",
        "A = cp.concatenate((mu,cp.ones(n))).reshape(2,n)\n",
        "#Vector b\n",
        "b = cp.array([r,1])\n",
        "#Punto inicial\n",
        "w_0 = utils.feasible_markowitz(r,mu)"
      ],
      "execution_count": 0,
      "outputs": []
    },
    {
      "cell_type": "code",
      "metadata": {
        "id": "3KjicdbimFwQ",
        "colab_type": "code",
        "colab": {}
      },
      "source": [
        "#Newton\n",
        "tol=1e-8\n",
        "tol_backtracking=1e-14\n",
        "p_ast=fo(w_ast)\n",
        "maxiter=50"
      ],
      "execution_count": 0,
      "outputs": []
    },
    {
      "cell_type": "code",
      "metadata": {
        "id": "AN5ddQOGmFsO",
        "colab_type": "code",
        "colab": {
          "base_uri": "https://localhost:8080/",
          "height": 348
        },
        "outputId": "61c26aaa-735d-486d-dc4d-995f9fa91adf"
      },
      "source": [
        "[w,total_of_iterations,Err_plot,x_plot]=opt.Newtons_method_feasible_init_point(fo,A, w_0,tol, tol_backtracking, w_ast, p_ast, maxiter, opt.gfo_cp_mark, opt.Hfo_cp_mark,S)\n",
        "#Error\n",
        "Err_plot[-1]"
      ],
      "execution_count": 93,
      "outputs": [
        {
          "output_type": "stream",
          "text": [
            "I\tNormgf \tNewton Decrement\tError x_ast\tError p_ast\tline search\tCondHf\n",
            "0\t0.001\t0.0004\t1.1003\t4.6965\t---\t\t10080.7626\n",
            "1\t0.001\t0.0\t0.0\t0.0\t1\t10080.7626\n",
            "Error of x with respect to x_ast: 3.897597330727876e-12\n",
            "Approximate solution: [ 1.58463748e-01 -2.08636961e-02  1.58052232e-01 -9.29027844e-02\n",
            "  3.17035790e-02  5.10937141e-02  8.71909946e-02  1.26214911e-02\n",
            "  3.72848212e-02  2.86012499e-01 -5.98823678e-03  2.22635537e-03\n",
            "  2.03105240e-01  9.46037995e-02  2.28671081e-02  1.49956262e-02\n",
            "  7.60913712e-03  2.96819117e-02  5.76661968e-02  1.98159753e-01\n",
            "  1.19888132e-01  1.27852786e-01  1.41319157e-01  1.36660783e-02\n",
            "  8.83935972e-02  1.50480332e-01  1.69310094e-01  7.72153681e-02\n",
            "  8.09181082e-02  8.24857024e-02  1.91986129e-01 -2.40882038e-02\n",
            "  2.63691159e-02  7.69721727e-02  2.21228946e-02 -1.08217307e-01\n",
            "  1.64028304e-01  1.81505775e-02  6.16482988e-02 -1.08205644e-01\n",
            " -5.02026895e-02  1.38840045e-01  1.03580114e-01 -4.28041951e-02\n",
            "  1.06734849e-02 -2.33324982e+00  1.89509763e-01  2.63196275e-01\n",
            "  1.20080829e-01 -1.05502993e-01]\n"
          ],
          "name": "stdout"
        },
        {
          "output_type": "execute_result",
          "data": {
            "text/plain": [
              "2.1489781431538896e-15"
            ]
          },
          "metadata": {
            "tags": []
          },
          "execution_count": 93
        }
      ]
    },
    {
      "cell_type": "code",
      "metadata": {
        "id": "Xe8YR0KWmFnU",
        "colab_type": "code",
        "colab": {
          "base_uri": "https://localhost:8080/",
          "height": 72
        },
        "outputId": "00e20b5d-553c-4e13-e015-66d4726a73c0"
      },
      "source": [
        "print('Error w: ', utils.compute_error(w@S@w,w_ast@S@w_ast))\n",
        "print('Error r: ', utils.compute_error(w@mu, r))\n",
        "print('Error suma de pesos: ', abs(((sum(w)-1)/(sum(w)))))"
      ],
      "execution_count": 94,
      "outputs": [
        {
          "output_type": "stream",
          "text": [
            "Error w:  2.148978143153885e-15\n",
            "Error r:  1.380150417616186e-16\n",
            "Error suma de pesos:  4.440892098500624e-16\n"
          ],
          "name": "stdout"
        }
      ]
    },
    {
      "cell_type": "code",
      "metadata": {
        "id": "lViGEUyVmFhS",
        "colab_type": "code",
        "colab": {}
      },
      "source": [
        "#Newton\n",
        "tol=1e-8\n",
        "tol_backtracking=1e-14\n",
        "p_ast=fo(w_ast)\n",
        "maxiter=500"
      ],
      "execution_count": 0,
      "outputs": []
    },
    {
      "cell_type": "code",
      "metadata": {
        "id": "xv7mqHgJV_FJ",
        "colab_type": "code",
        "colab": {
          "base_uri": "https://localhost:8080/",
          "height": 348
        },
        "outputId": "09aa6b55-300f-4f70-e7d6-a1981d67d5d0"
      },
      "source": [
        "[w,total_of_iterations,Err_plot,x_plot]=opt.Newtons_method_feasible_init_point(fo,A, w_0,tol, tol_backtracking, w_ast, p_ast, maxiter, opt.gfo_cp_mark, opt.Hfo_cp_mark,S)\n",
        "#Error\n",
        "Err_plot[-1]"
      ],
      "execution_count": 96,
      "outputs": [
        {
          "output_type": "stream",
          "text": [
            "I\tNormgf \tNewton Decrement\tError x_ast\tError p_ast\tline search\tCondHf\n",
            "0\t0.001\t0.0004\t1.1003\t4.6965\t---\t\t10080.7626\n",
            "1\t0.001\t0.0\t0.0\t0.0\t1\t10080.7626\n",
            "Error of x with respect to x_ast: 3.897597330727876e-12\n",
            "Approximate solution: [ 1.58463748e-01 -2.08636961e-02  1.58052232e-01 -9.29027844e-02\n",
            "  3.17035790e-02  5.10937141e-02  8.71909946e-02  1.26214911e-02\n",
            "  3.72848212e-02  2.86012499e-01 -5.98823678e-03  2.22635537e-03\n",
            "  2.03105240e-01  9.46037995e-02  2.28671081e-02  1.49956262e-02\n",
            "  7.60913712e-03  2.96819117e-02  5.76661968e-02  1.98159753e-01\n",
            "  1.19888132e-01  1.27852786e-01  1.41319157e-01  1.36660783e-02\n",
            "  8.83935972e-02  1.50480332e-01  1.69310094e-01  7.72153681e-02\n",
            "  8.09181082e-02  8.24857024e-02  1.91986129e-01 -2.40882038e-02\n",
            "  2.63691159e-02  7.69721727e-02  2.21228946e-02 -1.08217307e-01\n",
            "  1.64028304e-01  1.81505775e-02  6.16482988e-02 -1.08205644e-01\n",
            " -5.02026895e-02  1.38840045e-01  1.03580114e-01 -4.28041951e-02\n",
            "  1.06734849e-02 -2.33324982e+00  1.89509763e-01  2.63196275e-01\n",
            "  1.20080829e-01 -1.05502993e-01]\n"
          ],
          "name": "stdout"
        },
        {
          "output_type": "execute_result",
          "data": {
            "text/plain": [
              "2.1489781431538896e-15"
            ]
          },
          "metadata": {
            "tags": []
          },
          "execution_count": 96
        }
      ]
    },
    {
      "cell_type": "code",
      "metadata": {
        "id": "5QUHLA_4V_LG",
        "colab_type": "code",
        "colab": {
          "base_uri": "https://localhost:8080/",
          "height": 72
        },
        "outputId": "98e5f50b-7208-45e5-8053-b57089899fdf"
      },
      "source": [
        "print('Error w: ', utils.compute_error(w@S@w,w_ast@S@w_ast))\n",
        "print('Error r: ', utils.compute_error(w@mu, r))\n",
        "print('Error suma de pesos: ', abs(((sum(w)-1)/(sum(w)))))"
      ],
      "execution_count": 97,
      "outputs": [
        {
          "output_type": "stream",
          "text": [
            "Error w:  2.148978143153885e-15\n",
            "Error r:  1.380150417616186e-16\n",
            "Error suma de pesos:  4.440892098500624e-16\n"
          ],
          "name": "stdout"
        }
      ]
    },
    {
      "cell_type": "code",
      "metadata": {
        "id": "Og8cX3GlWGBR",
        "colab_type": "code",
        "colab": {}
      },
      "source": [
        "#Newton\n",
        "tol=1e-10\n",
        "tol_backtracking=1e-14\n",
        "p_ast=fo(w_ast)\n",
        "maxiter=500"
      ],
      "execution_count": 0,
      "outputs": []
    },
    {
      "cell_type": "code",
      "metadata": {
        "id": "mlMUPKWsWGH3",
        "colab_type": "code",
        "colab": {
          "base_uri": "https://localhost:8080/",
          "height": 348
        },
        "outputId": "0ed5fb91-17d1-43dd-f62a-cb901515e94e"
      },
      "source": [
        "[w,total_of_iterations,Err_plot,x_plot]=opt.Newtons_method_feasible_init_point(fo,A, w_0,tol, tol_backtracking, w_ast, p_ast, maxiter, opt.gfo_cp_mark, opt.Hfo_cp_mark,S)\n",
        "#Error\n",
        "Err_plot[-1]"
      ],
      "execution_count": 99,
      "outputs": [
        {
          "output_type": "stream",
          "text": [
            "I\tNormgf \tNewton Decrement\tError x_ast\tError p_ast\tline search\tCondHf\n",
            "0\t0.001\t0.0004\t1.1003\t4.6965\t---\t\t10080.7626\n",
            "1\t0.001\t0.0\t0.0\t0.0\t1\t10080.7626\n",
            "Error of x with respect to x_ast: 3.897597330727876e-12\n",
            "Approximate solution: [ 1.58463748e-01 -2.08636961e-02  1.58052232e-01 -9.29027844e-02\n",
            "  3.17035790e-02  5.10937141e-02  8.71909946e-02  1.26214911e-02\n",
            "  3.72848212e-02  2.86012499e-01 -5.98823678e-03  2.22635537e-03\n",
            "  2.03105240e-01  9.46037995e-02  2.28671081e-02  1.49956262e-02\n",
            "  7.60913712e-03  2.96819117e-02  5.76661968e-02  1.98159753e-01\n",
            "  1.19888132e-01  1.27852786e-01  1.41319157e-01  1.36660783e-02\n",
            "  8.83935972e-02  1.50480332e-01  1.69310094e-01  7.72153681e-02\n",
            "  8.09181082e-02  8.24857024e-02  1.91986129e-01 -2.40882038e-02\n",
            "  2.63691159e-02  7.69721727e-02  2.21228946e-02 -1.08217307e-01\n",
            "  1.64028304e-01  1.81505775e-02  6.16482988e-02 -1.08205644e-01\n",
            " -5.02026895e-02  1.38840045e-01  1.03580114e-01 -4.28041951e-02\n",
            "  1.06734849e-02 -2.33324982e+00  1.89509763e-01  2.63196275e-01\n",
            "  1.20080829e-01 -1.05502993e-01]\n"
          ],
          "name": "stdout"
        },
        {
          "output_type": "execute_result",
          "data": {
            "text/plain": [
              "2.1489781431538896e-15"
            ]
          },
          "metadata": {
            "tags": []
          },
          "execution_count": 99
        }
      ]
    },
    {
      "cell_type": "code",
      "metadata": {
        "id": "cguhUlglWGVd",
        "colab_type": "code",
        "colab": {
          "base_uri": "https://localhost:8080/",
          "height": 72
        },
        "outputId": "8e53b94a-3612-4f7a-ef6f-90ce14dbd928"
      },
      "source": [
        "print('Error w: ', utils.compute_error(w@S@w,w_ast@S@w_ast))\n",
        "print('Error r: ', utils.compute_error(w@mu, r))\n",
        "print('Error suma de pesos: ', abs(((sum(w)-1)/(sum(w)))))"
      ],
      "execution_count": 100,
      "outputs": [
        {
          "output_type": "stream",
          "text": [
            "Error w:  2.148978143153885e-15\n",
            "Error r:  1.380150417616186e-16\n",
            "Error suma de pesos:  4.440892098500624e-16\n"
          ],
          "name": "stdout"
        }
      ]
    },
    {
      "cell_type": "code",
      "metadata": {
        "id": "MJEB_veIWWa-",
        "colab_type": "code",
        "colab": {}
      },
      "source": [
        "#Newton\n",
        "tol=1e-16\n",
        "tol_backtracking=1e-15\n",
        "p_ast=fo(w_ast)\n",
        "maxiter=500"
      ],
      "execution_count": 0,
      "outputs": []
    },
    {
      "cell_type": "code",
      "metadata": {
        "id": "--yoIUh8WWhV",
        "colab_type": "code",
        "colab": {
          "base_uri": "https://localhost:8080/",
          "height": 348
        },
        "outputId": "c33e750f-1c79-4959-e88c-339619e8b0f1"
      },
      "source": [
        "[w,total_of_iterations,Err_plot,x_plot]=opt.Newtons_method_feasible_init_point(fo,A, w_0,tol, tol_backtracking, w_ast, p_ast, maxiter, opt.gfo_cp_mark, opt.Hfo_cp_mark,S)\n",
        "#Error\n",
        "Err_plot[-1]"
      ],
      "execution_count": 102,
      "outputs": [
        {
          "output_type": "stream",
          "text": [
            "I\tNormgf \tNewton Decrement\tError x_ast\tError p_ast\tline search\tCondHf\n",
            "0\t0.001\t0.0004\t1.1003\t4.6965\t---\t\t10080.7626\n",
            "1\t0.001\t0.0\t0.0\t0.0\t1\t10080.7626\n",
            "Error of x with respect to x_ast: 3.897597330727876e-12\n",
            "Approximate solution: [ 1.58463748e-01 -2.08636961e-02  1.58052232e-01 -9.29027844e-02\n",
            "  3.17035790e-02  5.10937141e-02  8.71909946e-02  1.26214911e-02\n",
            "  3.72848212e-02  2.86012499e-01 -5.98823678e-03  2.22635537e-03\n",
            "  2.03105240e-01  9.46037995e-02  2.28671081e-02  1.49956262e-02\n",
            "  7.60913712e-03  2.96819117e-02  5.76661968e-02  1.98159753e-01\n",
            "  1.19888132e-01  1.27852786e-01  1.41319157e-01  1.36660783e-02\n",
            "  8.83935972e-02  1.50480332e-01  1.69310094e-01  7.72153681e-02\n",
            "  8.09181082e-02  8.24857024e-02  1.91986129e-01 -2.40882038e-02\n",
            "  2.63691159e-02  7.69721727e-02  2.21228946e-02 -1.08217307e-01\n",
            "  1.64028304e-01  1.81505775e-02  6.16482988e-02 -1.08205644e-01\n",
            " -5.02026895e-02  1.38840045e-01  1.03580114e-01 -4.28041951e-02\n",
            "  1.06734849e-02 -2.33324982e+00  1.89509763e-01  2.63196275e-01\n",
            "  1.20080829e-01 -1.05502993e-01]\n"
          ],
          "name": "stdout"
        },
        {
          "output_type": "execute_result",
          "data": {
            "text/plain": [
              "2.1489781431538896e-15"
            ]
          },
          "metadata": {
            "tags": []
          },
          "execution_count": 102
        }
      ]
    },
    {
      "cell_type": "code",
      "metadata": {
        "id": "vXRP2WqrWWWG",
        "colab_type": "code",
        "colab": {
          "base_uri": "https://localhost:8080/",
          "height": 72
        },
        "outputId": "f097ec7a-558d-422b-b18a-58424f75c2db"
      },
      "source": [
        "print('Error w: ', utils.compute_error(w@S@w,w_ast@S@w_ast))\n",
        "print('Error r: ', utils.compute_error(w@mu, r))\n",
        "print('Error suma de pesos: ', abs(((sum(w)-1)/(sum(w)))))"
      ],
      "execution_count": 103,
      "outputs": [
        {
          "output_type": "stream",
          "text": [
            "Error w:  2.148978143153885e-15\n",
            "Error r:  1.380150417616186e-16\n",
            "Error suma de pesos:  4.440892098500624e-16\n"
          ],
          "name": "stdout"
        }
      ]
    },
    {
      "cell_type": "markdown",
      "metadata": {
        "id": "VGqxgVs6Wu2c",
        "colab_type": "text"
      },
      "source": [
        "$r=0.3$"
      ]
    },
    {
      "cell_type": "code",
      "metadata": {
        "id": "KNaa2zOuWw-j",
        "colab_type": "code",
        "colab": {}
      },
      "source": [
        "r = 0.3\n",
        "w_ast = mkv.markowitz(r,mu,S)\n",
        "w_0 = utils.feasible_markowitz(r,mu)\n",
        "n = mu.shape[0]\n",
        "#Matriz A de restricciones\n",
        "A = cp.concatenate((mu,cp.ones(n))).reshape(2,n)\n",
        "#Vector b\n",
        "b = cp.array([r,1])\n",
        "#Punto inicial\n",
        "w_0 = utils.feasible_markowitz(r,mu)"
      ],
      "execution_count": 0,
      "outputs": []
    },
    {
      "cell_type": "code",
      "metadata": {
        "id": "LUy8tWH4WxGH",
        "colab_type": "code",
        "colab": {
          "base_uri": "https://localhost:8080/",
          "height": 329
        },
        "outputId": "9209dd06-ef62-49ac-a5b6-2db4e4dd04aa"
      },
      "source": [
        "[w,total_of_iterations,Err_plot,x_plot]=opt.Newtons_method_feasible_init_point(fo,A, w_0,tol, tol_backtracking, w_ast, p_ast, maxiter, opt.gfo_cp_mark, opt.Hfo_cp_mark,S)"
      ],
      "execution_count": 105,
      "outputs": [
        {
          "output_type": "stream",
          "text": [
            "I\tNormgf \tNewton Decrement\tError x_ast\tError p_ast\tline search\tCondHf\n",
            "0\t0.0012\t0.001\t1.3834\t10.757\t---\t\t10080.7626\n",
            "1\t0.0012\t-0.0\t0.0\t0.2631\t1\t10080.7626\n",
            "Error of x with respect to x_ast: 5.350769330348929e-12\n",
            "Approximate solution: [ 1.40208822e-01 -1.35700942e-02  1.10344420e-01 -4.37786342e-02\n",
            "  4.34166657e-02  6.25598563e-02  6.23709322e-02  3.43354423e-02\n",
            "  1.49776433e-02  2.18651815e-01 -1.87568245e-03  5.05631159e-04\n",
            "  1.90535779e-01  8.93618800e-02  3.24187501e-03  1.05075495e-02\n",
            "  6.48607041e-03  3.10748292e-02  5.03467102e-02  1.51320408e-01\n",
            "  8.35516867e-02  1.09295893e-01  7.71219290e-02  3.72785210e-02\n",
            "  7.11654751e-02  1.15402707e-01  1.14132288e-01  4.23118942e-02\n",
            "  5.81895496e-02  4.24485048e-02  1.85352738e-01 -3.66533431e-02\n",
            "  3.70839365e-02  7.25209744e-02 -3.15183482e-03 -8.39240713e-02\n",
            "  1.36117732e-01  2.45591018e-02  4.86624414e-02 -8.05782046e-02\n",
            " -4.60674991e-02  9.43064381e-02  8.10042750e-02 -2.07737144e-02\n",
            "  7.92009810e-03 -1.94196978e+00  3.30752412e-01  2.32870347e-01\n",
            "  1.10167286e-01 -6.01197046e-02]\n"
          ],
          "name": "stdout"
        }
      ]
    },
    {
      "cell_type": "code",
      "metadata": {
        "id": "rN7DDNP0WxQs",
        "colab_type": "code",
        "colab": {
          "base_uri": "https://localhost:8080/",
          "height": 72
        },
        "outputId": "14a261d5-1035-4644-d777-5b675548c771"
      },
      "source": [
        "print('Error w: ', utils.compute_error(w@S@w,w_ast@S@w_ast))\n",
        "print('Error r: ', utils.compute_error(w@mu, r))\n",
        "print('Error suma de pesos: ', abs(((sum(w)-1)/(sum(w)))))"
      ],
      "execution_count": 106,
      "outputs": [
        {
          "output_type": "stream",
          "text": [
            "Error w:  2.5273578438851775e-15\n",
            "Error r:  1.8503717077085946e-16\n",
            "Error suma de pesos:  2.2204460492503083e-15\n"
          ],
          "name": "stdout"
        }
      ]
    },
    {
      "cell_type": "code",
      "metadata": {
        "id": "NRxPlhBkWxer",
        "colab_type": "code",
        "colab": {}
      },
      "source": [
        "#Newton\n",
        "tol=1e-10\n",
        "tol_backtracking=1e-14\n",
        "p_ast=fo(w_ast)\n",
        "maxiter=500"
      ],
      "execution_count": 0,
      "outputs": []
    },
    {
      "cell_type": "code",
      "metadata": {
        "id": "ZoPxn3X6Wxta",
        "colab_type": "code",
        "colab": {
          "base_uri": "https://localhost:8080/",
          "height": 348
        },
        "outputId": "292e1d66-8eac-4cc5-e5d3-8d348a0b7d34"
      },
      "source": [
        "[w,total_of_iterations,Err_plot,x_plot]=opt.Newtons_method_feasible_init_point(fo,A, w_0,tol, tol_backtracking, w_ast, p_ast, maxiter, opt.gfo_cp_mark, opt.Hfo_cp_mark,S)\n",
        "#Error\n",
        "Err_plot[-1]"
      ],
      "execution_count": 108,
      "outputs": [
        {
          "output_type": "stream",
          "text": [
            "I\tNormgf \tNewton Decrement\tError x_ast\tError p_ast\tline search\tCondHf\n",
            "0\t0.0012\t0.001\t1.3834\t14.9543\t---\t\t10080.7626\n",
            "1\t0.0012\t-0.0\t0.0\t0.0\t1\t10080.7626\n",
            "Error of x with respect to x_ast: 5.350769330348929e-12\n",
            "Approximate solution: [ 1.40208822e-01 -1.35700942e-02  1.10344420e-01 -4.37786342e-02\n",
            "  4.34166657e-02  6.25598563e-02  6.23709322e-02  3.43354423e-02\n",
            "  1.49776433e-02  2.18651815e-01 -1.87568245e-03  5.05631159e-04\n",
            "  1.90535779e-01  8.93618800e-02  3.24187501e-03  1.05075495e-02\n",
            "  6.48607041e-03  3.10748292e-02  5.03467102e-02  1.51320408e-01\n",
            "  8.35516867e-02  1.09295893e-01  7.71219290e-02  3.72785210e-02\n",
            "  7.11654751e-02  1.15402707e-01  1.14132288e-01  4.23118942e-02\n",
            "  5.81895496e-02  4.24485048e-02  1.85352738e-01 -3.66533431e-02\n",
            "  3.70839365e-02  7.25209744e-02 -3.15183482e-03 -8.39240713e-02\n",
            "  1.36117732e-01  2.45591018e-02  4.86624414e-02 -8.05782046e-02\n",
            " -4.60674991e-02  9.43064381e-02  8.10042750e-02 -2.07737144e-02\n",
            "  7.92009810e-03 -1.94196978e+00  3.30752412e-01  2.32870347e-01\n",
            "  1.10167286e-01 -6.01197046e-02]\n"
          ],
          "name": "stdout"
        },
        {
          "output_type": "execute_result",
          "data": {
            "text/plain": [
              "2.5273578438851712e-15"
            ]
          },
          "metadata": {
            "tags": []
          },
          "execution_count": 108
        }
      ]
    },
    {
      "cell_type": "code",
      "metadata": {
        "id": "0tPyCDt-Wx5a",
        "colab_type": "code",
        "colab": {
          "base_uri": "https://localhost:8080/",
          "height": 72
        },
        "outputId": "cfe951d2-5eee-496a-fff7-df5d6c6d29f5"
      },
      "source": [
        "print('Error w: ', utils.compute_error(w@S@w,w_ast@S@w_ast))\n",
        "print('Error r: ', utils.compute_error(w@mu, r))\n",
        "print('Error suma de pesos: ', abs(((sum(w)-1)/(sum(w)))))"
      ],
      "execution_count": 109,
      "outputs": [
        {
          "output_type": "stream",
          "text": [
            "Error w:  2.5273578438851775e-15\n",
            "Error r:  1.8503717077085946e-16\n",
            "Error suma de pesos:  2.2204460492503083e-15\n"
          ],
          "name": "stdout"
        }
      ]
    },
    {
      "cell_type": "code",
      "metadata": {
        "id": "JmLVp6S3WyEY",
        "colab_type": "code",
        "colab": {}
      },
      "source": [
        "#Newton\n",
        "tol=1e-16\n",
        "tol_backtracking=1e-15\n",
        "p_ast=fo(w_ast)\n",
        "maxiter=500"
      ],
      "execution_count": 0,
      "outputs": []
    },
    {
      "cell_type": "code",
      "metadata": {
        "id": "MV-lFeqKWyUI",
        "colab_type": "code",
        "colab": {
          "base_uri": "https://localhost:8080/",
          "height": 348
        },
        "outputId": "d785ad6c-a494-419e-d9d9-ba99e66ada37"
      },
      "source": [
        "[w,total_of_iterations,Err_plot,x_plot]=opt.Newtons_method_feasible_init_point(fo,A, w_0,tol, tol_backtracking, w_ast, p_ast, maxiter, opt.gfo_cp_mark, opt.Hfo_cp_mark,S)\n",
        "#Error\n",
        "Err_plot[-1]"
      ],
      "execution_count": 111,
      "outputs": [
        {
          "output_type": "stream",
          "text": [
            "I\tNormgf \tNewton Decrement\tError x_ast\tError p_ast\tline search\tCondHf\n",
            "0\t0.0012\t0.001\t1.3834\t14.9543\t---\t\t10080.7626\n",
            "1\t0.0012\t-0.0\t0.0\t0.0\t1\t10080.7626\n",
            "Error of x with respect to x_ast: 5.350769330348929e-12\n",
            "Approximate solution: [ 1.40208822e-01 -1.35700942e-02  1.10344420e-01 -4.37786342e-02\n",
            "  4.34166657e-02  6.25598563e-02  6.23709322e-02  3.43354423e-02\n",
            "  1.49776433e-02  2.18651815e-01 -1.87568245e-03  5.05631159e-04\n",
            "  1.90535779e-01  8.93618800e-02  3.24187501e-03  1.05075495e-02\n",
            "  6.48607041e-03  3.10748292e-02  5.03467102e-02  1.51320408e-01\n",
            "  8.35516867e-02  1.09295893e-01  7.71219290e-02  3.72785210e-02\n",
            "  7.11654751e-02  1.15402707e-01  1.14132288e-01  4.23118942e-02\n",
            "  5.81895496e-02  4.24485048e-02  1.85352738e-01 -3.66533431e-02\n",
            "  3.70839365e-02  7.25209744e-02 -3.15183482e-03 -8.39240713e-02\n",
            "  1.36117732e-01  2.45591018e-02  4.86624414e-02 -8.05782046e-02\n",
            " -4.60674991e-02  9.43064381e-02  8.10042750e-02 -2.07737144e-02\n",
            "  7.92009810e-03 -1.94196978e+00  3.30752412e-01  2.32870347e-01\n",
            "  1.10167286e-01 -6.01197046e-02]\n"
          ],
          "name": "stdout"
        },
        {
          "output_type": "execute_result",
          "data": {
            "text/plain": [
              "2.5273578438851712e-15"
            ]
          },
          "metadata": {
            "tags": []
          },
          "execution_count": 111
        }
      ]
    },
    {
      "cell_type": "code",
      "metadata": {
        "id": "_KTxS07FWyi0",
        "colab_type": "code",
        "colab": {
          "base_uri": "https://localhost:8080/",
          "height": 72
        },
        "outputId": "dc78d3b9-e53e-4ce1-b9b6-4f54d80cb34d"
      },
      "source": [
        "print('Error w: ', utils.compute_error(w@S@w,w_ast@S@w_ast))\n",
        "print('Error r: ', utils.compute_error(w@mu, r))\n",
        "print('Error suma de pesos: ', abs(((sum(w)-1)/(sum(w)))))"
      ],
      "execution_count": 112,
      "outputs": [
        {
          "output_type": "stream",
          "text": [
            "Error w:  2.5273578438851775e-15\n",
            "Error r:  1.8503717077085946e-16\n",
            "Error suma de pesos:  2.2204460492503083e-15\n"
          ],
          "name": "stdout"
        }
      ]
    },
    {
      "cell_type": "markdown",
      "metadata": {
        "id": "VE3pXBCNabr5",
        "colab_type": "text"
      },
      "source": [
        "$r=0.5$"
      ]
    },
    {
      "cell_type": "code",
      "metadata": {
        "id": "S0_-fzUXaeRE",
        "colab_type": "code",
        "colab": {}
      },
      "source": [
        "r = 0.5\n",
        "w_ast = mkv.markowitz(r,mu,S)\n",
        "n = mu.shape[0]\n",
        "#Matriz A de restricciones\n",
        "A = cp.concatenate((mu,cp.ones(n))).reshape(2,n)\n",
        "#Vector b\n",
        "b = cp.array([r,1])\n",
        "#Punto inicial\n",
        "w_0 = utils.feasible_markowitz(r,mu)"
      ],
      "execution_count": 0,
      "outputs": []
    },
    {
      "cell_type": "code",
      "metadata": {
        "id": "XvsGMIOQavXb",
        "colab_type": "code",
        "colab": {}
      },
      "source": [
        "#Newton\n",
        "tol=1e-8\n",
        "tol_backtracking=1e-14\n",
        "p_ast=fo(w_ast)\n",
        "maxiter=50"
      ],
      "execution_count": 0,
      "outputs": []
    },
    {
      "cell_type": "code",
      "metadata": {
        "id": "S44b6A9Uaeo-",
        "colab_type": "code",
        "colab": {
          "base_uri": "https://localhost:8080/",
          "height": 274
        },
        "outputId": "8c1457c9-d336-40b1-a1ce-bf1b46ce7009"
      },
      "source": [
        "[w,total_of_iterations,Err_plot,x_plot]=opt.Newtons_method_feasible_init_point(fo,A, w_0,tol, tol_backtracking, w_ast, p_ast, maxiter, opt.gfo_cp_mark, opt.Hfo_cp_mark,S)\n",
        "#Error\n",
        "Err_plot[-1]"
      ],
      "execution_count": 115,
      "outputs": [
        {
          "output_type": "stream",
          "text": [
            "I\tNormgf \tNewton Decrement\tError x_ast\tError p_ast\tline search\tCondHf\n",
            "0\t0.004\t0.0159\t3.348\t126.523\t---\t\t10080.7626\n",
            "1\t0.004\t0.0\t0.0\t0.0\t1\t10080.7626\n",
            "Error of x with respect to x_ast: 3.2754229245508606e-12\n",
            "Approximate solution: [ 0.17592894 -0.02784177  0.20369615 -0.13990177  0.02049721  0.04012361\n",
            "  0.11093731 -0.00815309  0.05862697  0.35045908 -0.00992288  0.00387264\n",
            "  0.21513093  0.09961895  0.04164333  0.01928954  0.00868362  0.02834925\n",
            "  0.06466903  0.24297278  0.15465262  0.14560689  0.20273914 -0.00892486\n",
            "  0.10487641  0.18404046  0.22210085  0.11060888  0.1026634   0.12079085\n",
            "  0.19833255 -0.01206665  0.01611783  0.08123081  0.04630421 -0.13145959\n",
            "  0.19073143  0.01201929  0.07407237 -0.13463789 -0.05415899  0.18144708\n",
            "  0.1251793  -0.06388161  0.01330776 -2.70760264  0.05437743  0.29221027\n",
            "  0.1295655  -0.14892295]\n"
          ],
          "name": "stdout"
        },
        {
          "output_type": "execute_result",
          "data": {
            "text/plain": [
              "3.6643697235663006e-15"
            ]
          },
          "metadata": {
            "tags": []
          },
          "execution_count": 115
        }
      ]
    },
    {
      "cell_type": "code",
      "metadata": {
        "id": "cG5oT9UOae0R",
        "colab_type": "code",
        "colab": {
          "base_uri": "https://localhost:8080/",
          "height": 72
        },
        "outputId": "7a18df93-4695-4589-f7dc-f50ccb856c25"
      },
      "source": [
        "print('Error w: ', utils.compute_error(w@S@w,w_ast@S@w_ast))\n",
        "print('Error r: ', utils.compute_error(w@mu, r))\n",
        "print('Error suma de pesos: ', abs(((sum(w)-1)/(sum(w)))))"
      ],
      "execution_count": 116,
      "outputs": [
        {
          "output_type": "stream",
          "text": [
            "Error w:  3.664369723566287e-15\n",
            "Error r:  4.440892098500624e-16\n",
            "Error suma de pesos:  2.1094237467878018e-15\n"
          ],
          "name": "stdout"
        }
      ]
    },
    {
      "cell_type": "code",
      "metadata": {
        "id": "fM29GXEUar9s",
        "colab_type": "code",
        "colab": {}
      },
      "source": [
        "#Newton\n",
        "tol=1e-10\n",
        "tol_backtracking=1e-14\n",
        "p_ast=fo(w_ast)\n",
        "maxiter=500"
      ],
      "execution_count": 0,
      "outputs": []
    },
    {
      "cell_type": "code",
      "metadata": {
        "id": "hML1QJCdasgY",
        "colab_type": "code",
        "colab": {
          "base_uri": "https://localhost:8080/",
          "height": 274
        },
        "outputId": "c9dd2d40-5e85-4a05-9c2f-fbe62edf5ca6"
      },
      "source": [
        "[w,total_of_iterations,Err_plot,x_plot]=opt.Newtons_method_feasible_init_point(fo,A, w_0,tol, tol_backtracking, w_ast, p_ast, maxiter, opt.gfo_cp_mark, opt.Hfo_cp_mark,S)\n",
        "#Error\n",
        "Err_plot[-1]"
      ],
      "execution_count": 118,
      "outputs": [
        {
          "output_type": "stream",
          "text": [
            "I\tNormgf \tNewton Decrement\tError x_ast\tError p_ast\tline search\tCondHf\n",
            "0\t0.004\t0.0159\t3.348\t126.523\t---\t\t10080.7626\n",
            "1\t0.004\t0.0\t0.0\t0.0\t1\t10080.7626\n",
            "Error of x with respect to x_ast: 3.2754229245508606e-12\n",
            "Approximate solution: [ 0.17592894 -0.02784177  0.20369615 -0.13990177  0.02049721  0.04012361\n",
            "  0.11093731 -0.00815309  0.05862697  0.35045908 -0.00992288  0.00387264\n",
            "  0.21513093  0.09961895  0.04164333  0.01928954  0.00868362  0.02834925\n",
            "  0.06466903  0.24297278  0.15465262  0.14560689  0.20273914 -0.00892486\n",
            "  0.10487641  0.18404046  0.22210085  0.11060888  0.1026634   0.12079085\n",
            "  0.19833255 -0.01206665  0.01611783  0.08123081  0.04630421 -0.13145959\n",
            "  0.19073143  0.01201929  0.07407237 -0.13463789 -0.05415899  0.18144708\n",
            "  0.1251793  -0.06388161  0.01330776 -2.70760264  0.05437743  0.29221027\n",
            "  0.1295655  -0.14892295]\n"
          ],
          "name": "stdout"
        },
        {
          "output_type": "execute_result",
          "data": {
            "text/plain": [
              "3.6643697235663006e-15"
            ]
          },
          "metadata": {
            "tags": []
          },
          "execution_count": 118
        }
      ]
    },
    {
      "cell_type": "code",
      "metadata": {
        "id": "5LDex4O0asbp",
        "colab_type": "code",
        "colab": {
          "base_uri": "https://localhost:8080/",
          "height": 72
        },
        "outputId": "6ef620de-0235-401f-ebfa-f7dd67e804b9"
      },
      "source": [
        "print('Error w: ', utils.compute_error(w@S@w,w_ast@S@w_ast))\n",
        "print('Error r: ', utils.compute_error(w@mu, r))\n",
        "print('Error suma de pesos: ', abs(((sum(w)-1)/(sum(w)))))"
      ],
      "execution_count": 119,
      "outputs": [
        {
          "output_type": "stream",
          "text": [
            "Error w:  3.664369723566287e-15\n",
            "Error r:  4.440892098500624e-16\n",
            "Error suma de pesos:  2.1094237467878018e-15\n"
          ],
          "name": "stdout"
        }
      ]
    },
    {
      "cell_type": "code",
      "metadata": {
        "id": "46i4EfAlasXF",
        "colab_type": "code",
        "colab": {}
      },
      "source": [
        "#Newton\n",
        "tol=1e-16\n",
        "tol_backtracking=1e-15\n",
        "p_ast=fo(w_ast)\n",
        "maxiter=500"
      ],
      "execution_count": 0,
      "outputs": []
    },
    {
      "cell_type": "code",
      "metadata": {
        "id": "1sXOIX4FasSO",
        "colab_type": "code",
        "colab": {
          "base_uri": "https://localhost:8080/",
          "height": 274
        },
        "outputId": "3159c6be-1999-4a4b-d384-0e87bf041639"
      },
      "source": [
        "[w,total_of_iterations,Err_plot,x_plot]=opt.Newtons_method_feasible_init_point(fo,A, w_0,tol, tol_backtracking, w_ast, p_ast, maxiter, opt.gfo_cp_mark, opt.Hfo_cp_mark,S)\n",
        "#Error\n",
        "Err_plot[-1]"
      ],
      "execution_count": 121,
      "outputs": [
        {
          "output_type": "stream",
          "text": [
            "I\tNormgf \tNewton Decrement\tError x_ast\tError p_ast\tline search\tCondHf\n",
            "0\t0.004\t0.0159\t3.348\t126.523\t---\t\t10080.7626\n",
            "1\t0.004\t0.0\t0.0\t0.0\t1\t10080.7626\n",
            "Error of x with respect to x_ast: 3.2754229245508606e-12\n",
            "Approximate solution: [ 0.17592894 -0.02784177  0.20369615 -0.13990177  0.02049721  0.04012361\n",
            "  0.11093731 -0.00815309  0.05862697  0.35045908 -0.00992288  0.00387264\n",
            "  0.21513093  0.09961895  0.04164333  0.01928954  0.00868362  0.02834925\n",
            "  0.06466903  0.24297278  0.15465262  0.14560689  0.20273914 -0.00892486\n",
            "  0.10487641  0.18404046  0.22210085  0.11060888  0.1026634   0.12079085\n",
            "  0.19833255 -0.01206665  0.01611783  0.08123081  0.04630421 -0.13145959\n",
            "  0.19073143  0.01201929  0.07407237 -0.13463789 -0.05415899  0.18144708\n",
            "  0.1251793  -0.06388161  0.01330776 -2.70760264  0.05437743  0.29221027\n",
            "  0.1295655  -0.14892295]\n"
          ],
          "name": "stdout"
        },
        {
          "output_type": "execute_result",
          "data": {
            "text/plain": [
              "3.6643697235663006e-15"
            ]
          },
          "metadata": {
            "tags": []
          },
          "execution_count": 121
        }
      ]
    },
    {
      "cell_type": "code",
      "metadata": {
        "id": "g0lviZYuasNz",
        "colab_type": "code",
        "colab": {
          "base_uri": "https://localhost:8080/",
          "height": 72
        },
        "outputId": "e871ff8d-9c83-4332-8341-a32f0ffa8d6b"
      },
      "source": [
        "print('Error w: ', utils.compute_error(w@S@w,w_ast@S@w_ast))\n",
        "print('Error r: ', utils.compute_error(w@mu, r))\n",
        "print('Error suma de pesos: ', abs(((sum(w)-1)/(sum(w)))))"
      ],
      "execution_count": 122,
      "outputs": [
        {
          "output_type": "stream",
          "text": [
            "Error w:  3.664369723566287e-15\n",
            "Error r:  4.440892098500624e-16\n",
            "Error suma de pesos:  2.1094237467878018e-15\n"
          ],
          "name": "stdout"
        }
      ]
    },
    {
      "cell_type": "markdown",
      "metadata": {
        "id": "Vw8N7sBSjn2a",
        "colab_type": "text"
      },
      "source": [
        "# Hallazgos\n",
        "\n",
        "El código funciona de manera correcta para distintos niveles de tolerancia, iteraciones y rendimientos r.\n",
        "\n",
        "Las funciones generan unos valores con una exactitud de hasta 13 dígitos correctos en el caso de Método de Newton usando diferencias fifnitas y de hasta 15 dígotos correctos en el caso de Método de Newton usando funciones simbólicas. \n",
        "\n"
      ]
    }
  ]
}