{
  "nbformat": 4,
  "nbformat_minor": 0,
  "metadata": {
    "accelerator": "GPU",
    "colab": {
      "name": "Revisión_2a_FuncionRetornoEsperado.ipynb",
      "provenance": []
    },
    "kernelspec": {
      "display_name": "Python 3",
      "language": "python",
      "name": "python3"
    },
    "language_info": {
      "codemirror_mode": {
        "name": "ipython",
        "version": 3
      },
      "file_extension": ".py",
      "mimetype": "text/x-python",
      "name": "python",
      "nbconvert_exporter": "python",
      "pygments_lexer": "ipython3",
      "version": "3.7.4"
    }
  },
  "cells": [
    {
      "cell_type": "markdown",
      "metadata": {
        "id": "QcGeT1KyXMey",
        "colab_type": "text"
      },
      "source": [
        "# Revisión de código (Sección 2a) \n",
        "Función a revisar: **calcular_retorno_esperado** \n",
        "\n",
        "\n"
      ]
    },
    {
      "cell_type": "markdown",
      "metadata": {
        "id": "XX9fhsqfgNyz",
        "colab_type": "text"
      },
      "source": [
        "# Teoría\n",
        "\n",
        "Considere una cartera compuesta por **n** activos , sea $w_{i}$ la fracción de la cartera invertida en el activo i.\n",
        "Queremos caracterizar el retorno **r** de nuestro portafolio, el cual es una función de los n retornos ${r_{i}}, {i = 1,2,..,n}$ de los n activos y por lo tanto r es una variable aleatoria.\n",
        "\n",
        "Donde\n",
        "\n",
        "$r = \\sum_{i=1}^{n} w_{i}r_{i}$\n",
        "\n",
        "El primer momento de r es el valor esperado, el cual se denota de la siguiente manera:\n",
        "\n",
        "$\\bar{r} = \\hat{E}[r] = \\hat{E}[\\sum_{i=1}^{n}w_{i}r_{i}] =  \\sum_{i=1}^{n}w_{i}\\hat{E}[r_{i}] = \\sum_{i=1}^{n}w_{i}\\mu$"
      ]
    },
    {
      "cell_type": "code",
      "metadata": {
        "colab_type": "code",
        "id": "6LPwcrojFfR2",
        "scrolled": true,
        "colab": {}
      },
      "source": [
        "#Librerias necesarias\n",
        "import cupy as cp\n",
        "import numpy as np\n",
        "import pandas as pd\n",
        "import fix_yahoo_finance as yf\n",
        "import datetime\n",
        "import time"
      ],
      "execution_count": 0,
      "outputs": []
    },
    {
      "cell_type": "markdown",
      "metadata": {
        "id": "goNIvkleX1DY",
        "colab_type": "text"
      },
      "source": [
        "## Función a revisar\n",
        "\n",
        "Función que debe devolver el retorno esperado ($\\bar{r}$) dado un vector de rendimiento esperado $\\mu = (\\mu_{1},\\mu_{2}, .. , \\mu_{n})$ de n activos y un vector de pesos $w= (w_{1},w_{2}, .. , w_{n})$.\n",
        "\n",
        "Donde: $\\sum_{i=1}^{n}w_{i} = 1$"
      ]
    },
    {
      "cell_type": "code",
      "metadata": {
        "colab_type": "code",
        "id": "X8KXUTsTFAh6",
        "colab": {}
      },
      "source": [
        "def calcular_retorno_esperado(m,w): \n",
        "\n",
        "  \"\"\"\n",
        "  Función para calcular el retorno esperado\n",
        "\n",
        "  params:\n",
        "      m     vector de rendimientos esperados para n activos\n",
        "      w     vector de presos para m activos\n",
        "  \n",
        "  return:\n",
        "      r_est rendimiento esperado diario\n",
        "  \"\"\"\n",
        "  \n",
        "  m = cp.asarray(m)\n",
        "  w = cp.asarray(w)\n",
        "\n",
        "  return m@w"
      ],
      "execution_count": 0,
      "outputs": []
    },
    {
      "cell_type": "markdown",
      "metadata": {
        "id": "Jc0OtRFgkwOl",
        "colab_type": "text"
      },
      "source": [
        "**1. Documentación**\n",
        "\n",
        "La documentación expresa de manera concisa y breve lo que hace el código, los valores de entrada son explicados correctamente, como **sugerencia** detallar el rango del vector de pesos $w$, es decir su suma debe ser igual a 1. La documentación de salida es completa.\n",
        "\n",
        "**2. Cumplimiento de objetivos del código**\n",
        "\n",
        "La función cumple con el objetivo para el cual fue diseñada, es decir regresa el retorno esperado\n",
        "\n",
        "**3. Tests**\n",
        "\n"
      ]
    },
    {
      "cell_type": "code",
      "metadata": {
        "id": "kBP5OlYa0Lhw",
        "colab_type": "code",
        "colab": {}
      },
      "source": [
        "np.random.seed(9001)"
      ],
      "execution_count": 0,
      "outputs": []
    },
    {
      "cell_type": "markdown",
      "metadata": {
        "colab_type": "text",
        "id": "vvVX-rYiGWcN"
      },
      "source": [
        "1. $10^1$ activos con retornos esperados de tamaño $10^2$\n"
      ]
    },
    {
      "cell_type": "code",
      "metadata": {
        "colab_type": "code",
        "id": "_Zm52Vq6GYL6",
        "colab": {
          "base_uri": "https://localhost:8080/",
          "height": 34
        },
        "outputId": "755d4dce-6c38-4181-f55f-2c10d9e3b0fc"
      },
      "source": [
        "m = np.random.randint(10**2, 10**3,10**1)\n",
        "W = np.random.rand(10**1)\n",
        "w = W/W.sum()\n",
        "r = calcular_retorno_esperado(m,w)\n",
        "print(\"El retorno esperado del portafolio es {}\".format(r))"
      ],
      "execution_count": 36,
      "outputs": [
        {
          "output_type": "stream",
          "text": [
            "El retorno esperado del portafolio es 551.2882420262656\n"
          ],
          "name": "stdout"
        }
      ]
    },
    {
      "cell_type": "markdown",
      "metadata": {
        "id": "jv8XuPiEqjan",
        "colab_type": "text"
      },
      "source": [
        "2. $10^2$ activos con retornos esperados de tamaño $10^3$"
      ]
    },
    {
      "cell_type": "code",
      "metadata": {
        "colab_type": "code",
        "id": "sxWOglhGHCeM",
        "colab": {
          "base_uri": "https://localhost:8080/",
          "height": 34
        },
        "outputId": "4b2eb30a-3b25-4912-9b39-5aaf41184c56"
      },
      "source": [
        "\n",
        "m = np.random.randint(10**3, 10**4,10**2)\n",
        "W = np.random.rand(10**2)\n",
        "w = W/W.sum()\n",
        "r = calcular_retorno_esperado(m,w)\n",
        "print(\"El retorno esperado del protafolio es {}\".format(r))"
      ],
      "execution_count": 37,
      "outputs": [
        {
          "output_type": "stream",
          "text": [
            "El retorno esperado del protafolio es 5487.411016001964\n"
          ],
          "name": "stdout"
        }
      ]
    },
    {
      "cell_type": "markdown",
      "metadata": {
        "id": "C2pgIG9Oqy1G",
        "colab_type": "text"
      },
      "source": [
        "3. $10^3$ activos con retornos esperados de tamaño $10^4$"
      ]
    },
    {
      "cell_type": "code",
      "metadata": {
        "id": "q-q4kVO1q3r1",
        "colab_type": "code",
        "colab": {
          "base_uri": "https://localhost:8080/",
          "height": 34
        },
        "outputId": "ef0a8a18-9e1c-466f-8217-51fa44f7000d"
      },
      "source": [
        "m = np.random.randint(10**4, 10**5,10**3)\n",
        "W = np.random.rand(10**3)\n",
        "w = W/W.sum()\n",
        "r = calcular_retorno_esperado(m,w)\n",
        "print(\"El retorno esperado del portafolio es {}\".format(r))"
      ],
      "execution_count": 38,
      "outputs": [
        {
          "output_type": "stream",
          "text": [
            "El retorno esperado del portafolio es 55514.51171581197\n"
          ],
          "name": "stdout"
        }
      ]
    },
    {
      "cell_type": "markdown",
      "metadata": {
        "id": "QnuGboT0rF7S",
        "colab_type": "text"
      },
      "source": [
        "4. $10^4$ activos con retornos esperados de tamaño $10^5$"
      ]
    },
    {
      "cell_type": "code",
      "metadata": {
        "id": "fu8WLny_rLM_",
        "colab_type": "code",
        "colab": {
          "base_uri": "https://localhost:8080/",
          "height": 34
        },
        "outputId": "7bd5a63f-0413-4892-f81a-db01b8778926"
      },
      "source": [
        "m = np.random.randint(10**5, 10**6,10**4)\n",
        "W = np.random.rand(10**4)\n",
        "w = W/W.sum()\n",
        "r = calcular_retorno_esperado(m,w)\n",
        "print(\"El retorno esperado del portafolio es {}\".format(r))"
      ],
      "execution_count": 39,
      "outputs": [
        {
          "output_type": "stream",
          "text": [
            "El retorno esperado del portafolio es 550583.6941305047\n"
          ],
          "name": "stdout"
        }
      ]
    },
    {
      "cell_type": "markdown",
      "metadata": {
        "id": "s51lHoeQreVH",
        "colab_type": "text"
      },
      "source": [
        "5. $10^8$  activos con retornos esperados de tamaño $10^9$"
      ]
    },
    {
      "cell_type": "code",
      "metadata": {
        "id": "MQYBXyW2vcEz",
        "colab_type": "code",
        "colab": {
          "base_uri": "https://localhost:8080/",
          "height": 34
        },
        "outputId": "c4913c9c-9313-4aef-a87d-c4c2d9e92cf1"
      },
      "source": [
        "m = np.random.randint(10**9, 10**10,10**8)\n",
        "W = np.random.rand(10**8)\n",
        "w = W/W.sum()\n",
        "r = calcular_retorno_esperado(m,w)\n",
        "print(\"El retorno esperado del portafolio es {}\".format(r))"
      ],
      "execution_count": 40,
      "outputs": [
        {
          "output_type": "stream",
          "text": [
            "El retorno esperado del portafolio es 5500383653.449314\n"
          ],
          "name": "stdout"
        }
      ]
    },
    {
      "cell_type": "markdown",
      "metadata": {
        "id": "YZins9PF1lEU",
        "colab_type": "text"
      },
      "source": [
        "6. $10^9$  activos con retornos esperados de tamaño $10^1$"
      ]
    },
    {
      "cell_type": "code",
      "metadata": {
        "id": "YlSG49NmwGuh",
        "colab_type": "code",
        "colab": {}
      },
      "source": [
        "#Falla n máxima 10**8\n",
        "m = np.random.randint(10**1, 10**2,10**9)\n",
        "W = np.random.rand(10**9)\n",
        "w = W/W.sum()\n",
        "r = calcular_retorno_esperado(m,w)\n",
        "print(\"El retorno esperado del portafolio es {}\".format(r))"
      ],
      "execution_count": 0,
      "outputs": []
    },
    {
      "cell_type": "markdown",
      "metadata": {
        "id": "ohNkqoHd18mn",
        "colab_type": "text"
      },
      "source": [
        "`7. $10^8$  activos con retornos esperados de tamaño $10^{17}$`"
      ]
    },
    {
      "cell_type": "code",
      "metadata": {
        "id": "7b3GmHIWyg02",
        "colab_type": "code",
        "colab": {
          "base_uri": "https://localhost:8080/",
          "height": 34
        },
        "outputId": "8c1aa399-ff96-4250-a5be-3fae12b59ffd"
      },
      "source": [
        "#Maximo\n",
        "m = np.random.randint(10**17, 10**18,10**8)\n",
        "W = np.random.rand(10**8)\n",
        "w = W/W.sum()\n",
        "r = calcular_retorno_esperado(m,w)\n",
        "print(\"El retorno esperado del portafolio es {}\".format(r))"
      ],
      "execution_count": 41,
      "outputs": [
        {
          "output_type": "stream",
          "text": [
            "El retorno esperado del portafolio es 5.500428898685289e+17\n"
          ],
          "name": "stdout"
        }
      ]
    },
    {
      "cell_type": "markdown",
      "metadata": {
        "id": "hEH1gGHH2R0_",
        "colab_type": "text"
      },
      "source": [
        "7. $10^1$  activos con retornos esperados de tamaño $10^{18}$"
      ]
    },
    {
      "cell_type": "code",
      "metadata": {
        "id": "ZrxfnSBy2IWz",
        "colab_type": "code",
        "colab": {
          "base_uri": "https://localhost:8080/",
          "height": 300
        },
        "outputId": "4199161f-a689-4873-9810-be57388d31f3"
      },
      "source": [
        "m = np.random.randint(10**18, 10**19,10**1)\n",
        "W = np.random.rand(10**1)\n",
        "w = W/W.sum()\n",
        "r = calcular_retorno_esperado(m,w)\n",
        "print(\"El retorno esperado del portafolio es {}\".format(r))"
      ],
      "execution_count": 42,
      "outputs": [
        {
          "output_type": "error",
          "ename": "ValueError",
          "evalue": "ignored",
          "traceback": [
            "\u001b[0;31m---------------------------------------------------------------------------\u001b[0m",
            "\u001b[0;31mValueError\u001b[0m                                Traceback (most recent call last)",
            "\u001b[0;32m<ipython-input-42-410227acbe18>\u001b[0m in \u001b[0;36m<module>\u001b[0;34m()\u001b[0m\n\u001b[0;32m----> 1\u001b[0;31m \u001b[0mm\u001b[0m \u001b[0;34m=\u001b[0m \u001b[0mnp\u001b[0m\u001b[0;34m.\u001b[0m\u001b[0mrandom\u001b[0m\u001b[0;34m.\u001b[0m\u001b[0mrandint\u001b[0m\u001b[0;34m(\u001b[0m\u001b[0;36m10\u001b[0m\u001b[0;34m**\u001b[0m\u001b[0;36m18\u001b[0m\u001b[0;34m,\u001b[0m \u001b[0;36m10\u001b[0m\u001b[0;34m**\u001b[0m\u001b[0;36m19\u001b[0m\u001b[0;34m,\u001b[0m\u001b[0;36m10\u001b[0m\u001b[0;34m**\u001b[0m\u001b[0;36m1\u001b[0m\u001b[0;34m)\u001b[0m\u001b[0;34m\u001b[0m\u001b[0;34m\u001b[0m\u001b[0m\n\u001b[0m\u001b[1;32m      2\u001b[0m \u001b[0mW\u001b[0m \u001b[0;34m=\u001b[0m \u001b[0mnp\u001b[0m\u001b[0;34m.\u001b[0m\u001b[0mrandom\u001b[0m\u001b[0;34m.\u001b[0m\u001b[0mrand\u001b[0m\u001b[0;34m(\u001b[0m\u001b[0;36m10\u001b[0m\u001b[0;34m**\u001b[0m\u001b[0;36m1\u001b[0m\u001b[0;34m)\u001b[0m\u001b[0;34m\u001b[0m\u001b[0;34m\u001b[0m\u001b[0m\n\u001b[1;32m      3\u001b[0m \u001b[0mw\u001b[0m \u001b[0;34m=\u001b[0m \u001b[0mW\u001b[0m\u001b[0;34m/\u001b[0m\u001b[0mW\u001b[0m\u001b[0;34m.\u001b[0m\u001b[0msum\u001b[0m\u001b[0;34m(\u001b[0m\u001b[0;34m)\u001b[0m\u001b[0;34m\u001b[0m\u001b[0;34m\u001b[0m\u001b[0m\n\u001b[1;32m      4\u001b[0m \u001b[0mr\u001b[0m \u001b[0;34m=\u001b[0m \u001b[0mcalcular_retorno_esperado\u001b[0m\u001b[0;34m(\u001b[0m\u001b[0mm\u001b[0m\u001b[0;34m,\u001b[0m\u001b[0mw\u001b[0m\u001b[0;34m)\u001b[0m\u001b[0;34m\u001b[0m\u001b[0;34m\u001b[0m\u001b[0m\n\u001b[1;32m      5\u001b[0m \u001b[0mprint\u001b[0m\u001b[0;34m(\u001b[0m\u001b[0;34m\"El retorno esperado del portafolio es {}\"\u001b[0m\u001b[0;34m.\u001b[0m\u001b[0mformat\u001b[0m\u001b[0;34m(\u001b[0m\u001b[0mr\u001b[0m\u001b[0;34m)\u001b[0m\u001b[0;34m)\u001b[0m\u001b[0;34m\u001b[0m\u001b[0;34m\u001b[0m\u001b[0m\n",
            "\u001b[0;32mmtrand.pyx\u001b[0m in \u001b[0;36mnumpy.random.mtrand.RandomState.randint\u001b[0;34m()\u001b[0m\n",
            "\u001b[0;32m_bounded_integers.pyx\u001b[0m in \u001b[0;36mnumpy.random._bounded_integers._rand_int64\u001b[0;34m()\u001b[0m\n",
            "\u001b[0;31mValueError\u001b[0m: high is out of bounds for int64"
          ]
        }
      ]
    },
    {
      "cell_type": "markdown",
      "metadata": {
        "id": "SJr4Aa9e3X5K",
        "colab_type": "text"
      },
      "source": [
        "8. Retornos esperados negativos\n"
      ]
    },
    {
      "cell_type": "code",
      "metadata": {
        "id": "oQElKBg23bvg",
        "colab_type": "code",
        "colab": {
          "base_uri": "https://localhost:8080/",
          "height": 34
        },
        "outputId": "c026abbe-2eee-448e-83a1-b801180c50c8"
      },
      "source": [
        "m = np.random.randint(-10**17, 10**18,10**8)\n",
        "W = np.random.rand(10**8)\n",
        "w = W/W.sum()\n",
        "r = calcular_retorno_esperado(m,w)\n",
        "print(\"El retorno esperado del portafolio es {}\".format(r))"
      ],
      "execution_count": 3,
      "outputs": [
        {
          "output_type": "stream",
          "text": [
            "El retorno esperado del portafolio es 4.500593787533403e+17\n"
          ],
          "name": "stdout"
        }
      ]
    },
    {
      "cell_type": "markdown",
      "metadata": {
        "id": "JjrWpshm3mRg",
        "colab_type": "text"
      },
      "source": [
        "## Hallazgos\n",
        "\n",
        "1. El código funciona para un número de activos máximo de $10^8$, y el tamaño de retorno de estos sea menor  a $10^{18}$\n",
        "\n",
        "2. El código funciona para retornos esperados negativos de los activos.\n",
        "\n",
        "**Nota**: Los tests fueron realizados en google colaboratory con GPU como entorno de ejecución,  en una computadora con las siguientes características: \n",
        "\n",
        " - MacBook Pro (13-inch, 2019, Four Thunderbolt 3 ports)\n",
        " - Procesador: 2.4 GHz Intel Core i5 de cuatro núcleos\n",
        " - Memoria: 8 GB 2133 MHz LPDDR3"
      ]
    },
    {
      "cell_type": "markdown",
      "metadata": {
        "id": "2fI1oHLd43YA",
        "colab_type": "text"
      },
      "source": [
        "\n",
        "## Retorno diario\n",
        "\n",
        "La función revisada devuelve el valor del retorno esperado del portafolio por día, para un mejor análisis podríamos multiplicar ese valor X 264 y así obtendriamos el valor esperado anual.\n",
        "\n",
        "El valor 264 proviene del número de días en que la bolsa cotiza.\n"
      ]
    },
    {
      "cell_type": "code",
      "metadata": {
        "id": "68Mg1f9q4vq0",
        "colab_type": "code",
        "colab": {
          "base_uri": "https://localhost:8080/",
          "height": 34
        },
        "outputId": "fa8d5d3b-9e7d-4e16-f49d-2635157f8381"
      },
      "source": [
        "m = np.random.randint(-10**17, 10**18,10**8)\n",
        "W = np.random.rand(10**8)\n",
        "w = W/W.sum()\n",
        "r = calcular_retorno_esperado(m,w)\n",
        "r = r*264\n",
        "print(\"El retorno esperado anual del portafolio es {}\".format(r))"
      ],
      "execution_count": 4,
      "outputs": [
        {
          "output_type": "stream",
          "text": [
            "El retorno esperado anual del portafolio es 1.1879633072257578e+20\n"
          ],
          "name": "stdout"
        }
      ]
    }
  ]
}