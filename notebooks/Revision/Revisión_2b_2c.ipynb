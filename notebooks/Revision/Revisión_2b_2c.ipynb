{
  "nbformat": 4,
  "nbformat_minor": 0,
  "metadata": {
    "colab": {
      "name": "Revisión_2b_2c.ipynb",
      "provenance": []
    },
    "kernelspec": {
      "name": "python3",
      "display_name": "Python 3"
    },
    "accelerator": "GPU"
  },
  "cells": [
    {
      "cell_type": "markdown",
      "metadata": {
        "id": "PqNGysGZZOWh",
        "colab_type": "text"
      },
      "source": [
        "# Revisión de código (Sección 2b y 2c) \n",
        "Función a revisar: **calcular_varianza** y **calcular_rendimiento**\n",
        "\n"
      ]
    },
    {
      "cell_type": "code",
      "metadata": {
        "id": "U6flkTdUiS2q",
        "colab_type": "code",
        "colab": {
          "base_uri": "https://localhost:8080/",
          "height": 237
        },
        "outputId": "cfc6ac3c-097d-4d44-9d8a-49a32864b9eb"
      },
      "source": [
        "!curl https://colab.chainer.org/install | sh -"
      ],
      "execution_count": 1,
      "outputs": [
        {
          "output_type": "stream",
          "text": [
            "  % Total    % Received % Xferd  Average Speed   Time    Time     Time  Current\n",
            "                                 Dload  Upload   Total   Spent    Left  Speed\n",
            "100  1580  100  1580    0     0   7745      0 --:--:-- --:--:-- --:--:--  7745\n",
            "+ apt -y -q install cuda-libraries-dev-10-0\n",
            "Reading package lists...\n",
            "Building dependency tree...\n",
            "Reading state information...\n",
            "cuda-libraries-dev-10-0 is already the newest version (10.0.130-1).\n",
            "0 upgraded, 0 newly installed, 0 to remove and 29 not upgraded.\n",
            "+ pip install -q cupy-cuda100  chainer \n",
            "+ set +ex\n",
            "Installation succeeded!\n"
          ],
          "name": "stdout"
        }
      ]
    },
    {
      "cell_type": "code",
      "metadata": {
        "id": "FxkOOvrYjGxV",
        "colab_type": "code",
        "colab": {
          "base_uri": "https://localhost:8080/",
          "height": 74
        },
        "outputId": "3ba2d301-188a-478c-adce-54d0a5677f70"
      },
      "source": [
        "import cupy as cp\n",
        "import numpy as np\n",
        "import pandas as pd\n",
        "import fix_yahoo_finance as yf\n",
        "import datetime\n",
        "import matplotlib.pyplot as plt\n",
        "import seaborn as sns\n",
        "import time"
      ],
      "execution_count": 2,
      "outputs": [
        {
          "output_type": "stream",
          "text": [
            "/usr/local/lib/python3.6/dist-packages/statsmodels/tools/_testing.py:19: FutureWarning: pandas.util.testing is deprecated. Use the functions in the public API at pandas.testing instead.\n",
            "  import pandas.util.testing as tm\n"
          ],
          "name": "stderr"
        }
      ]
    },
    {
      "cell_type": "markdown",
      "metadata": {
        "id": "O7uMf5eXBwis",
        "colab_type": "text"
      },
      "source": [
        "# Código revisado\n",
        "\n",
        "# 2b. Matriz de varianzas y covarianzas\n"
      ]
    },
    {
      "cell_type": "code",
      "metadata": {
        "id": "gTU5wn__CNeb",
        "colab_type": "code",
        "colab": {}
      },
      "source": [
        "def calcular_varianza(X):\n",
        "\n",
        "  \"\"\"\n",
        "  Función para calcular el la matriz de varianzas y covarianzas para un conjunto de acciones\n",
        "\n",
        "  params:\n",
        "      X      matriz mxn de precios, donde:\n",
        "             m es el número de observaciones y\n",
        "               n el número de acciones\n",
        "  \n",
        "  return:\n",
        "      S  matriz de varianzas y covarianzas\n",
        "  \"\"\"\n",
        "  m,n=X.shape\n",
        "  X = cp.asarray(X)\n",
        "\n",
        "  X_m = cp.zeros((m-1,n))\n",
        "\n",
        "  for i in range(n):\n",
        "    X_m[:,i] = calcular_rendimiento_vector(X[:,i]) - calcular_rendimiento_vector(X[:,i]).mean()\n",
        "\n",
        "  S = (cp.transpose(X_m)@X_m)/(m-2)\n",
        "\n",
        "  return S\n"
      ],
      "execution_count": 0,
      "outputs": []
    },
    {
      "cell_type": "code",
      "metadata": {
        "id": "fCk8zzzkHzZF",
        "colab_type": "code",
        "colab": {}
      },
      "source": [
        "def calcular_rendimiento_vector(x):\n",
        "  \"\"\"\n",
        "  Función para calcular el rendimiento esperado\n",
        "\n",
        "  params:\n",
        "      x     vector de precios\n",
        "  \n",
        "  return:\n",
        "      r_est rendimiento esperado diario\n",
        "  \"\"\"\n",
        "\n",
        "  # Definimos precios iniciales y finales como arreglo alojado en la gpu\n",
        "  x_o = cp.asarray(x)\n",
        "  x_f = x_o[1:]\n",
        "\n",
        "  # Calculamos los rendimientos diarios\n",
        "  r = cp.log(x_f/x_o[:-1])\n",
        "\n",
        "  return r"
      ],
      "execution_count": 0,
      "outputs": []
    },
    {
      "cell_type": "code",
      "metadata": {
        "id": "AQias2PKHp1y",
        "colab_type": "code",
        "colab": {}
      },
      "source": [
        "def calcular_rendimiento(X):\n",
        "  \"\"\"\n",
        "  Función para calcular el rendimiento esperado para un conjunto de acciones\n",
        "\n",
        "  params:\n",
        "      X      matriz mxn de precios, donde:\n",
        "             m es el número de observaciones y\n",
        "             n el número de acciones\n",
        "  \n",
        "  return:\n",
        "      r_est rvector de rendimientos esperados\n",
        "  \"\"\"\n",
        "  m,n = X.shape\n",
        "  r_est = cp.zeros(n)\n",
        "  X = cp.asarray(X)\n",
        "\n",
        "  for i in range(n):\n",
        "    r_est[i] = calcular_rendimiento_vector(X[:,i]).mean()\n",
        "\n",
        "  return 264*r_est"
      ],
      "execution_count": 0,
      "outputs": []
    },
    {
      "cell_type": "markdown",
      "metadata": {
        "id": "U6mlmaajEpYs",
        "colab_type": "text"
      },
      "source": [
        "**1. Documentacion 2b**\n",
        "\n",
        "La Documentación expresa de manera clara, consica y breve lo que hace el código. De igual forma se explica de manera clara y concisa los argumentos de entrada y salida. La documentación es completa.\n",
        "\n",
        "\n",
        "**2. Cumplimiento de objetivos del código 2b**\n",
        "\n",
        "La función cumple con sus objetivos.\n",
        "\n",
        "**3. Test 2b**\n",
        "\n",
        "Revisaremos la función con distintos tamaños de matrices.\n"
      ]
    },
    {
      "cell_type": "code",
      "metadata": {
        "id": "8wV5QTonEtED",
        "colab_type": "code",
        "colab": {}
      },
      "source": [
        "np.random.seed(1234)"
      ],
      "execution_count": 0,
      "outputs": []
    },
    {
      "cell_type": "markdown",
      "metadata": {
        "id": "8dKXN_Cwaf2W",
        "colab_type": "text"
      },
      "source": [
        "Matriz de $10 \\times 10$\n"
      ]
    },
    {
      "cell_type": "code",
      "metadata": {
        "id": "0Yii0ylgFUez",
        "colab_type": "code",
        "colab": {
          "base_uri": "https://localhost:8080/",
          "height": 384
        },
        "outputId": "bdddad31-4539-4044-9da8-cab655073d66"
      },
      "source": [
        "X1 = np.random.uniform(1,1000,10**2).reshape(10,10)\n",
        "calcular_varianza(X1)\n",
        "#np.shape(X1)"
      ],
      "execution_count": 10,
      "outputs": [
        {
          "output_type": "execute_result",
          "data": {
            "text/plain": [
              "array([[ 1.46686905,  0.32660669,  1.41717963, -0.83306188, -0.16774303,\n",
              "         0.16491629,  0.6695301 , -0.17399062, -0.36762837,  0.0910157 ],\n",
              "       [ 0.32660669,  0.29593255,  0.50620271, -0.7812062 ,  0.09053954,\n",
              "         0.03904355,  0.60888277,  0.34826037,  0.21496537,  0.08293203],\n",
              "       [ 1.41717963,  0.50620271,  3.15870697, -1.966857  , -0.17401216,\n",
              "         0.10591102,  1.45355125, -0.87745901,  1.35280437,  0.64724087],\n",
              "       [-0.83306188, -0.7812062 , -1.966857  ,  4.71328479, -0.01489054,\n",
              "        -2.05924445, -1.94686907, -0.57410833, -0.3589756 , -1.11079972],\n",
              "       [-0.16774303,  0.09053954, -0.17401216, -0.01489054,  0.42285194,\n",
              "        -0.3588606 ,  0.12582499,  0.93943973,  0.94457383,  0.03144309],\n",
              "       [ 0.16491629,  0.03904355,  0.10591102, -2.05924445, -0.3588606 ,\n",
              "         2.65690429,  0.27565966, -0.53696766, -1.56913399,  1.0138904 ],\n",
              "       [ 0.6695301 ,  0.60888277,  1.45355125, -1.94686907,  0.12582499,\n",
              "         0.27565966,  1.54412462, -0.08367778,  1.04837406,  0.39519595],\n",
              "       [-0.17399062,  0.34826037, -0.87745901, -0.57410833,  0.93943973,\n",
              "        -0.53696766, -0.08367778,  4.11921068,  0.23382733, -0.19140217],\n",
              "       [-0.36762837,  0.21496537,  1.35280437, -0.3589756 ,  0.94457383,\n",
              "        -1.56913399,  1.04837406,  0.23382733,  4.91949788,  0.37683359],\n",
              "       [ 0.0910157 ,  0.08293203,  0.64724087, -1.11079972,  0.03144309,\n",
              "         1.0138904 ,  0.39519595, -0.19140217,  0.37683359,  0.70985044]])"
            ]
          },
          "metadata": {
            "tags": []
          },
          "execution_count": 10
        }
      ]
    },
    {
      "cell_type": "code",
      "metadata": {
        "id": "-8kFAV_7Imtc",
        "colab_type": "code",
        "colab": {
          "base_uri": "https://localhost:8080/",
          "height": 35
        },
        "outputId": "895b5fcb-d714-479c-d476-15b09051aaee"
      },
      "source": [
        "np.shape(X1)"
      ],
      "execution_count": 11,
      "outputs": [
        {
          "output_type": "execute_result",
          "data": {
            "text/plain": [
              "(10, 10)"
            ]
          },
          "metadata": {
            "tags": []
          },
          "execution_count": 11
        }
      ]
    },
    {
      "cell_type": "markdown",
      "metadata": {
        "id": "KNsxaZDharjb",
        "colab_type": "text"
      },
      "source": [
        "Matriz de $10^3 \\times 10$\n"
      ]
    },
    {
      "cell_type": "code",
      "metadata": {
        "id": "YUdwQVp8FU41",
        "colab_type": "code",
        "colab": {
          "base_uri": "https://localhost:8080/",
          "height": 384
        },
        "outputId": "b9b0ff96-7302-4ab5-db73-917370d64d2c"
      },
      "source": [
        "X2 = np.random.uniform(1,1000,10**4).reshape(10**3,10**1)\n",
        "calcular_varianza(X2)"
      ],
      "execution_count": 12,
      "outputs": [
        {
          "output_type": "execute_result",
          "data": {
            "text/plain": [
              "array([[ 2.2220343 ,  0.01430896,  0.01414881, -0.01596572, -0.01060321,\n",
              "         0.01307148, -0.06304303, -0.00858486, -0.11306426, -0.06876012],\n",
              "       [ 0.01430896,  1.82276294,  0.01366593,  0.00967094,  0.05086246,\n",
              "         0.12828126, -0.04608573,  0.09117425,  0.01282499,  0.07321494],\n",
              "       [ 0.01414881,  0.01366593,  2.00522958,  0.07933775, -0.02135849,\n",
              "         0.05610349,  0.05754015, -0.06438416,  0.00281881,  0.01330553],\n",
              "       [-0.01596572,  0.00967094,  0.07933775,  1.89751426, -0.00484842,\n",
              "         0.05820801, -0.03193703,  0.01016307,  0.17865124,  0.08838178],\n",
              "       [-0.01060321,  0.05086246, -0.02135849, -0.00484842,  2.0359547 ,\n",
              "         0.08282926, -0.03087633, -0.10618265,  0.10671397,  0.07563415],\n",
              "       [ 0.01307148,  0.12828126,  0.05610349,  0.05820801,  0.08282926,\n",
              "         1.87854141, -0.0069636 ,  0.00470695,  0.08336298, -0.11552537],\n",
              "       [-0.06304303, -0.04608573,  0.05754015, -0.03193703, -0.03087633,\n",
              "        -0.0069636 ,  1.86862565,  0.0317846 , -0.05607645,  0.1915115 ],\n",
              "       [-0.00858486,  0.09117425, -0.06438416,  0.01016307, -0.10618265,\n",
              "         0.00470695,  0.0317846 ,  1.79243099,  0.08184522, -0.0439619 ],\n",
              "       [-0.11306426,  0.01282499,  0.00281881,  0.17865124,  0.10671397,\n",
              "         0.08336298, -0.05607645,  0.08184522,  1.7960642 ,  0.0225465 ],\n",
              "       [-0.06876012,  0.07321494,  0.01330553,  0.08838178,  0.07563415,\n",
              "        -0.11552537,  0.1915115 , -0.0439619 ,  0.0225465 ,  1.86923789]])"
            ]
          },
          "metadata": {
            "tags": []
          },
          "execution_count": 12
        }
      ]
    },
    {
      "cell_type": "code",
      "metadata": {
        "id": "l2U7CTRrIx1q",
        "colab_type": "code",
        "colab": {
          "base_uri": "https://localhost:8080/",
          "height": 35
        },
        "outputId": "cf6773bf-5a88-46be-b7d4-e500e408fd80"
      },
      "source": [
        "np.shape(X2)"
      ],
      "execution_count": 13,
      "outputs": [
        {
          "output_type": "execute_result",
          "data": {
            "text/plain": [
              "(1000, 10)"
            ]
          },
          "metadata": {
            "tags": []
          },
          "execution_count": 13
        }
      ]
    },
    {
      "cell_type": "markdown",
      "metadata": {
        "id": "9_ZjbyOxavXP",
        "colab_type": "text"
      },
      "source": [
        "Matriz de $10^5 \\times 10^2$\n"
      ]
    },
    {
      "cell_type": "code",
      "metadata": {
        "id": "dQSgY8xbIC1D",
        "colab_type": "code",
        "colab": {
          "base_uri": "https://localhost:8080/",
          "height": 256
        },
        "outputId": "c2fdaa04-1954-4fd3-d043-71101eb0b2d1"
      },
      "source": [
        "X3 = np.random.uniform(1,1000,10**7).reshape(10**5,10**2)\n",
        "calcular_varianza(X3)"
      ],
      "execution_count": 14,
      "outputs": [
        {
          "output_type": "execute_result",
          "data": {
            "text/plain": [
              "array([[ 1.90773425e+00, -4.74094740e-03, -6.52402508e-04, ...,\n",
              "         4.62774843e-03,  2.24041285e-03, -5.52823819e-03],\n",
              "       [-4.74094740e-03,  1.90521430e+00,  5.63837585e-03, ...,\n",
              "        -3.07097586e-03, -2.07468383e-03,  6.74957800e-04],\n",
              "       [-6.52402508e-04,  5.63837585e-03,  1.88388822e+00, ...,\n",
              "        -7.69746875e-03, -7.71617273e-03,  1.23158279e-02],\n",
              "       ...,\n",
              "       [ 4.62774843e-03, -3.07097586e-03, -7.69746875e-03, ...,\n",
              "         1.89130400e+00,  2.57514930e-04,  4.44636776e-04],\n",
              "       [ 2.24041285e-03, -2.07468383e-03, -7.71617273e-03, ...,\n",
              "         2.57514930e-04,  1.90559587e+00,  3.62411502e-03],\n",
              "       [-5.52823819e-03,  6.74957800e-04,  1.23158279e-02, ...,\n",
              "         4.44636776e-04,  3.62411502e-03,  1.89037822e+00]])"
            ]
          },
          "metadata": {
            "tags": []
          },
          "execution_count": 14
        }
      ]
    },
    {
      "cell_type": "code",
      "metadata": {
        "id": "E_zql_e3I1fQ",
        "colab_type": "code",
        "colab": {
          "base_uri": "https://localhost:8080/",
          "height": 35
        },
        "outputId": "66a63a7e-4d03-4c5d-8e18-59b0032ad758"
      },
      "source": [
        "np.shape(X3)"
      ],
      "execution_count": 15,
      "outputs": [
        {
          "output_type": "execute_result",
          "data": {
            "text/plain": [
              "(100000, 100)"
            ]
          },
          "metadata": {
            "tags": []
          },
          "execution_count": 15
        }
      ]
    },
    {
      "cell_type": "markdown",
      "metadata": {
        "id": "5BBa7hZUa0u2",
        "colab_type": "text"
      },
      "source": [
        "Matriz de $10^6 \\times 10^2$"
      ]
    },
    {
      "cell_type": "code",
      "metadata": {
        "id": "It0dv__NFU8v",
        "colab_type": "code",
        "colab": {
          "base_uri": "https://localhost:8080/",
          "height": 256
        },
        "outputId": "e659d3b5-78bc-45f9-cfff-6c59cbb62b40"
      },
      "source": [
        "X4 = np.random.uniform(1,1000,10**8).reshape(10**6,10**2)\n",
        "calcular_varianza(X4)"
      ],
      "execution_count": 16,
      "outputs": [
        {
          "output_type": "execute_result",
          "data": {
            "text/plain": [
              "array([[ 1.90844005e+00,  4.38419757e-04, -5.84674553e-03, ...,\n",
              "         1.78756058e-03,  4.19257513e-04,  2.67240522e-03],\n",
              "       [ 4.38419757e-04,  1.90074785e+00,  3.40623892e-03, ...,\n",
              "         3.13311333e-03,  4.21853388e-04, -2.77607499e-03],\n",
              "       [-5.84674553e-03,  3.40623892e-03,  1.89996730e+00, ...,\n",
              "        -3.43282584e-03,  4.32868359e-03, -1.26973465e-03],\n",
              "       ...,\n",
              "       [ 1.78756058e-03,  3.13311333e-03, -3.43282584e-03, ...,\n",
              "         1.90014121e+00,  1.76250355e-03, -3.17588156e-05],\n",
              "       [ 4.19257513e-04,  4.21853388e-04,  4.32868359e-03, ...,\n",
              "         1.76250355e-03,  1.90808714e+00, -2.36167338e-04],\n",
              "       [ 2.67240522e-03, -2.77607499e-03, -1.26973465e-03, ...,\n",
              "        -3.17588156e-05, -2.36167338e-04,  1.91068095e+00]])"
            ]
          },
          "metadata": {
            "tags": []
          },
          "execution_count": 16
        }
      ]
    },
    {
      "cell_type": "code",
      "metadata": {
        "id": "npfZDTjuJDur",
        "colab_type": "code",
        "colab": {
          "base_uri": "https://localhost:8080/",
          "height": 35
        },
        "outputId": "5bbf7c45-072b-4309-f291-bf111f3e1df8"
      },
      "source": [
        "np.shape(X4)"
      ],
      "execution_count": 17,
      "outputs": [
        {
          "output_type": "execute_result",
          "data": {
            "text/plain": [
              "(1000000, 100)"
            ]
          },
          "metadata": {
            "tags": []
          },
          "execution_count": 17
        }
      ]
    },
    {
      "cell_type": "markdown",
      "metadata": {
        "id": "iO8LwSAcOJzo",
        "colab_type": "text"
      },
      "source": [
        "Principales hallazos del test 1:\n",
        "\n",
        "* La función trabaja de manera distintos tamaños de matriz.\n",
        "\n",
        "# 2c. Valor medio esperado de activos\n",
        "\n",
        "**Test 2**\n",
        "\n",
        "**Objetivo del test:** Verificar que la función del valor medio esperado funcione correctamente para distintos tamaños de acciones.\n",
        "\n",
        "**Implementación del test:**"
      ]
    },
    {
      "cell_type": "markdown",
      "metadata": {
        "id": "zQ17Vv3EWL3n",
        "colab_type": "text"
      },
      "source": [
        "**1. Documentacion 2c**\n",
        "\n",
        "La Documentación expresa de manera clara, consica y breve lo que hace el código. De igual forma se explica de manera clara y concisa los argumentos de entrada y salida. La documentación es completa.\n",
        "\n",
        "\n",
        "**2. Cumplimiento de objetivos del código 2c**\n",
        "\n",
        "La función cumple con sus objetivos.\n",
        "\n",
        "**3. Test 2c**\n",
        "\n",
        "Revisaremos la función con distintos tamaños de matrices utilizados en el test anterior."
      ]
    },
    {
      "cell_type": "code",
      "metadata": {
        "id": "h73pmkwYFVAL",
        "colab_type": "code",
        "colab": {
          "base_uri": "https://localhost:8080/",
          "height": 72
        },
        "outputId": "d826119b-5fd6-41fb-ebe0-4650d66d085b"
      },
      "source": [
        "calcular_rendimiento(X1)"
      ],
      "execution_count": 51,
      "outputs": [
        {
          "output_type": "execute_result",
          "data": {
            "text/plain": [
              "array([ -6.62995855,  -2.6435459 ,   5.50096451,   5.62033096,\n",
              "       -14.19526978,  17.89509847,  19.4168558 ,   0.62641881,\n",
              "       -82.23850534,  -7.87667006])"
            ]
          },
          "metadata": {
            "tags": []
          },
          "execution_count": 51
        }
      ]
    },
    {
      "cell_type": "code",
      "metadata": {
        "id": "nVRle7dpX9MF",
        "colab_type": "code",
        "colab": {
          "base_uri": "https://localhost:8080/",
          "height": 54
        },
        "outputId": "015a8535-e973-48a1-ffc7-2851146f60a5"
      },
      "source": [
        "calcular_rendimiento(X2)"
      ],
      "execution_count": 52,
      "outputs": [
        {
          "output_type": "execute_result",
          "data": {
            "text/plain": [
              "array([-0.12666371, -0.49415459, -0.55033777,  0.06097676, -0.22545761,\n",
              "        0.38782181,  0.16931582, -0.14137867,  0.36653942, -1.4634766 ])"
            ]
          },
          "metadata": {
            "tags": []
          },
          "execution_count": 52
        }
      ]
    },
    {
      "cell_type": "code",
      "metadata": {
        "id": "aLuz8kr8X_EE",
        "colab_type": "code",
        "colab": {
          "base_uri": "https://localhost:8080/",
          "height": 384
        },
        "outputId": "3eabaccc-ca2b-4ab6-8264-8723af427ada"
      },
      "source": [
        "calcular_rendimiento(X3)"
      ],
      "execution_count": 54,
      "outputs": [
        {
          "output_type": "execute_result",
          "data": {
            "text/plain": [
              "array([ 0.00437884, -0.00342554, -0.00398738,  0.00172272, -0.00367318,\n",
              "       -0.001502  , -0.00036215, -0.00424283,  0.00010382,  0.00283781,\n",
              "        0.00379868,  0.00064378, -0.0019029 ,  0.00113643, -0.00492621,\n",
              "        0.00024626,  0.00487415, -0.00066194, -0.00336709,  0.00124379,\n",
              "        0.01070217, -0.00099479,  0.00407496,  0.00185662, -0.00412237,\n",
              "        0.0017609 , -0.00262141, -0.00227729,  0.00793163, -0.00319564,\n",
              "       -0.00010678, -0.00293843, -0.01194529, -0.00144341, -0.00478833,\n",
              "        0.00044674, -0.0041599 , -0.00075774,  0.00463505,  0.00336376,\n",
              "       -0.00046149, -0.00025119,  0.00018817,  0.00055234, -0.00425386,\n",
              "        0.0079367 , -0.0004536 , -0.00189483,  0.00387737,  0.0007939 ,\n",
              "       -0.0012152 ,  0.00267712,  0.00391974, -0.00202013,  0.00108686,\n",
              "        0.00104914, -0.00080633,  0.00122853,  0.00384108, -0.00166969,\n",
              "       -0.0013335 ,  0.00392317,  0.00016839, -0.00542378, -0.00102632,\n",
              "       -0.00412347,  0.00248822,  0.00319685, -0.00043782,  0.00226978,\n",
              "        0.00584592, -0.0003995 , -0.00171993,  0.00197313, -0.0008134 ,\n",
              "       -0.00269315,  0.01657716, -0.00420271,  0.00311634, -0.00267359,\n",
              "       -0.00173315,  0.00097616,  0.00606138,  0.00837541, -0.0016116 ,\n",
              "       -0.00135073,  0.00299796,  0.00539419, -0.00118766, -0.00400846,\n",
              "        0.00121241,  0.00477006,  0.0064956 , -0.00010266,  0.00382739,\n",
              "        0.00051156,  0.00285739, -0.00675595,  0.00299962,  0.00582578])"
            ]
          },
          "metadata": {
            "tags": []
          },
          "execution_count": 54
        }
      ]
    },
    {
      "cell_type": "markdown",
      "metadata": {
        "id": "4yd-K5avYG0C",
        "colab_type": "text"
      },
      "source": [
        "Principales hallazos del test 2:\n",
        "\n",
        "* El código funciona de manera correcta para distintos tamaños de matrices de acciones.\n",
        "\n",
        "Las funciones trabajan de manera correcta, no se encontraron errores en la implementación."
      ]
    }
  ]
}