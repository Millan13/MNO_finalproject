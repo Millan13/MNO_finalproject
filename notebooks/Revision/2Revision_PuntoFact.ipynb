{
  "nbformat": 4,
  "nbformat_minor": 0,
  "metadata": {
    "colab": {
      "name": "2Revision_PuntoFact.ipynb",
      "provenance": []
    },
    "kernelspec": {
      "name": "python3",
      "display_name": "Python 3"
    },
    "accelerator": "GPU"
  },
  "cells": [
    {
      "cell_type": "markdown",
      "metadata": {
        "id": "s3kaMZ9GTuLO",
        "colab_type": "text"
      },
      "source": [
        "Librerías necesarias."
      ]
    },
    {
      "cell_type": "code",
      "metadata": {
        "id": "WJ9O2Rm90kuG",
        "colab_type": "code",
        "outputId": "ec149f8a-27a5-4ff2-cf97-21cc4b7e01b0",
        "colab": {
          "base_uri": "https://localhost:8080/",
          "height": 237
        }
      },
      "source": [
        "!curl https://colab.chainer.org/install | sh -"
      ],
      "execution_count": 1,
      "outputs": [
        {
          "output_type": "stream",
          "text": [
            "  % Total    % Received % Xferd  Average Speed   Time    Time     Time  Current\n",
            "                                 Dload  Upload   Total   Spent    Left  Speed\n",
            "\r  0     0    0     0    0     0      0      0 --:--:-- --:--:-- --:--:--     0\r100  1580  100  1580    0     0  15959      0 --:--:-- --:--:-- --:--:-- 15959\n",
            "+ apt -y -q install cuda-libraries-dev-10-0\n",
            "Reading package lists...\n",
            "Building dependency tree...\n",
            "Reading state information...\n",
            "cuda-libraries-dev-10-0 is already the newest version (10.0.130-1).\n",
            "0 upgraded, 0 newly installed, 0 to remove and 31 not upgraded.\n",
            "+ pip install -q cupy-cuda100  chainer \n",
            "+ set +ex\n",
            "Installation succeeded!\n"
          ],
          "name": "stdout"
        }
      ]
    },
    {
      "cell_type": "markdown",
      "metadata": {
        "id": "F92LVoZ78yy8",
        "colab_type": "text"
      },
      "source": [
        "# Revisión Punto Factible\n",
        "\n",
        "\n",
        "\n",
        "\n",
        "\n",
        "**Código revisado**\n"
      ]
    },
    {
      "cell_type": "code",
      "metadata": {
        "id": "KMtrHQkgDydI",
        "colab_type": "code",
        "colab": {}
      },
      "source": [
        "import cupy as cp"
      ],
      "execution_count": 0,
      "outputs": []
    },
    {
      "cell_type": "code",
      "metadata": {
        "id": "CAM5ng4t8sKW",
        "colab_type": "code",
        "colab": {}
      },
      "source": [
        "def feasible_markowitz(r,mu):\n",
        "  '''\n",
        "  Funcion que devuelve un punto factible del problema de Markowitz, resolviendo\n",
        "  las ecuaciones normales asociadas\n",
        "  Args:\n",
        "     r (float): real positivo, que modela rendimiento esperado por inversionista\n",
        "     mu (aray): array de cupy que contiene los valores medios de los rendimientos\n",
        "          de los activos en el portafolio\n",
        "  Return:\n",
        "     w_star (float): punto feasible del problema de Markowitz\n",
        "  '''\n",
        "  # matriz del sistema para ecuaciones normales\n",
        "  M = cp.ones((2,mu.shape[0]))\n",
        "\n",
        "  for i in range(mu.shape[0]):\n",
        "    M[0,i]=mu[i,0]\n",
        "\n",
        "  # lado derecho de sistema\n",
        "  b= cp.array([r,1])\n",
        "\n",
        "  # Resuelve ecuaciones normales\n",
        "  w_star = cp.linalg.solve(M.transpose()@M,M.transpose()@b)\n",
        "  \n",
        "  return w_star"
      ],
      "execution_count": 0,
      "outputs": []
    },
    {
      "cell_type": "markdown",
      "metadata": {
        "id": "QmhLuyZzEv8f",
        "colab_type": "text"
      },
      "source": [
        "## Revisión"
      ]
    },
    {
      "cell_type": "markdown",
      "metadata": {
        "id": "YnZWGjWTEsUR",
        "colab_type": "text"
      },
      "source": [
        "\n",
        "\n",
        "**1. Documentación**\n",
        "\n",
        "La Documentación expresa de manera clara, consica y breve lo que hace el código. De igual forma se explica de manera clara y concisa los argumentos de entrada y salida. La documentación es completa.\n",
        "\n",
        "**2. Cumplimiento de objetivos del código**\n",
        "\n",
        "La función cumple con el objetivo devolviendo un vector de pesos w.\n",
        "\n",
        "**3. Test**\n",
        "\n",
        "Objetivo: verificar el desempeño del código con diferentes números de activos y rendimientos esperados, y verificar que los pesos sumen 1.\n",
        "\n",
        "Empezamos con $n=10$ y $r=2$"
      ]
    },
    {
      "cell_type": "code",
      "metadata": {
        "id": "q7-PTR_3F9ma",
        "colab_type": "code",
        "colab": {}
      },
      "source": [
        "mu_1 = cp.random.rand(10, 1)\n",
        "r_1 = 2\n"
      ],
      "execution_count": 0,
      "outputs": []
    },
    {
      "cell_type": "code",
      "metadata": {
        "id": "Tz6P9mHtT4PY",
        "colab_type": "code",
        "colab": {}
      },
      "source": [
        "w_01 = feasible_markowitz(r_1, mu_1)"
      ],
      "execution_count": 0,
      "outputs": []
    },
    {
      "cell_type": "code",
      "metadata": {
        "id": "sZp-UMxXT4uB",
        "colab_type": "code",
        "outputId": "0587bc2c-0f6f-4651-a302-78f7fbe5ebd8",
        "colab": {
          "base_uri": "https://localhost:8080/",
          "height": 35
        }
      },
      "source": [
        "mu_1.transpose()@w_01"
      ],
      "execution_count": 6,
      "outputs": [
        {
          "output_type": "execute_result",
          "data": {
            "text/plain": [
              "array([2.])"
            ]
          },
          "metadata": {
            "tags": []
          },
          "execution_count": 6
        }
      ]
    },
    {
      "cell_type": "code",
      "metadata": {
        "id": "MuYCLfnqQ3Yl",
        "colab_type": "code",
        "colab": {
          "base_uri": "https://localhost:8080/",
          "height": 35
        },
        "outputId": "baaf1771-8d9b-4f1b-f5ab-0f765bb14267"
      },
      "source": [
        "abs((mu_1.transpose()@w_01-r_1)/mu_1.transpose()@w_01)"
      ],
      "execution_count": 7,
      "outputs": [
        {
          "output_type": "execute_result",
          "data": {
            "text/plain": [
              "array([6.41501056e-15])"
            ]
          },
          "metadata": {
            "tags": []
          },
          "execution_count": 7
        }
      ]
    },
    {
      "cell_type": "code",
      "metadata": {
        "id": "iXu0RcyXT-NX",
        "colab_type": "code",
        "colab": {
          "base_uri": "https://localhost:8080/",
          "height": 35
        },
        "outputId": "650071f1-9c30-4d81-ac3f-f47cc1ef10b3"
      },
      "source": [
        "sum(w_01)"
      ],
      "execution_count": 10,
      "outputs": [
        {
          "output_type": "execute_result",
          "data": {
            "text/plain": [
              "array(1.)"
            ]
          },
          "metadata": {
            "tags": []
          },
          "execution_count": 10
        }
      ]
    },
    {
      "cell_type": "code",
      "metadata": {
        "id": "DsRVdExmT4y_",
        "colab_type": "code",
        "outputId": "982657c0-4262-4e3c-fb7a-81bdb3c0ae14",
        "colab": {
          "base_uri": "https://localhost:8080/",
          "height": 35
        }
      },
      "source": [
        "abs((sum(w_01)-1)/sum(w_01))"
      ],
      "execution_count": 8,
      "outputs": [
        {
          "output_type": "execute_result",
          "data": {
            "text/plain": [
              "array(6.66133815e-16)"
            ]
          },
          "metadata": {
            "tags": []
          },
          "execution_count": 8
        }
      ]
    },
    {
      "cell_type": "markdown",
      "metadata": {
        "id": "_8XMwcaBOdE9",
        "colab_type": "text"
      },
      "source": [
        "$n=10^3$ y $r=2$"
      ]
    },
    {
      "cell_type": "code",
      "metadata": {
        "id": "cEYZ_k9WT47J",
        "colab_type": "code",
        "colab": {}
      },
      "source": [
        "mu_2 = cp.random.rand(10**3,1)\n",
        "r_2 = 2"
      ],
      "execution_count": 0,
      "outputs": []
    },
    {
      "cell_type": "code",
      "metadata": {
        "id": "Vw_HqHEa64h6",
        "colab_type": "code",
        "colab": {}
      },
      "source": [
        "w_02 = feasible_markowitz(r_2, mu_2)"
      ],
      "execution_count": 0,
      "outputs": []
    },
    {
      "cell_type": "code",
      "metadata": {
        "id": "Ifvfeouo69kt",
        "colab_type": "code",
        "outputId": "9ba496a8-1343-4506-eaca-a5681a1bf3c1",
        "colab": {
          "base_uri": "https://localhost:8080/",
          "height": 35
        }
      },
      "source": [
        "mu_2.transpose()@w_02"
      ],
      "execution_count": 13,
      "outputs": [
        {
          "output_type": "execute_result",
          "data": {
            "text/plain": [
              "array([2.])"
            ]
          },
          "metadata": {
            "tags": []
          },
          "execution_count": 13
        }
      ]
    },
    {
      "cell_type": "code",
      "metadata": {
        "id": "cEvAmf0UQ886",
        "colab_type": "code",
        "colab": {
          "base_uri": "https://localhost:8080/",
          "height": 35
        },
        "outputId": "74c3a492-3368-4cc8-f428-ea4fc08b282d"
      },
      "source": [
        "abs((mu_2.transpose()@w_02-r_2)/mu_2.transpose()@w_02)"
      ],
      "execution_count": 14,
      "outputs": [
        {
          "output_type": "execute_result",
          "data": {
            "text/plain": [
              "array([9.40082058e-11])"
            ]
          },
          "metadata": {
            "tags": []
          },
          "execution_count": 14
        }
      ]
    },
    {
      "cell_type": "code",
      "metadata": {
        "id": "mDPnDiPt7A5U",
        "colab_type": "code",
        "outputId": "f588bdcf-6d2c-4130-de99-f11ccc22f72f",
        "colab": {
          "base_uri": "https://localhost:8080/",
          "height": 35
        }
      },
      "source": [
        "sum(w_02)"
      ],
      "execution_count": 15,
      "outputs": [
        {
          "output_type": "execute_result",
          "data": {
            "text/plain": [
              "array(1.)"
            ]
          },
          "metadata": {
            "tags": []
          },
          "execution_count": 15
        }
      ]
    },
    {
      "cell_type": "code",
      "metadata": {
        "id": "s6cQ2ofCOCDF",
        "colab_type": "code",
        "colab": {
          "base_uri": "https://localhost:8080/",
          "height": 35
        },
        "outputId": "c95d1bd6-2bbc-43f6-dd09-3c9fe7ac4874"
      },
      "source": [
        "abs((sum(w_02)-1)/sum(w_02))"
      ],
      "execution_count": 16,
      "outputs": [
        {
          "output_type": "execute_result",
          "data": {
            "text/plain": [
              "array(7.54951657e-15)"
            ]
          },
          "metadata": {
            "tags": []
          },
          "execution_count": 16
        }
      ]
    },
    {
      "cell_type": "markdown",
      "metadata": {
        "id": "-eCUozLaOojy",
        "colab_type": "text"
      },
      "source": [
        "$n = 10^4$ y $r=2$"
      ]
    },
    {
      "cell_type": "code",
      "metadata": {
        "id": "sTn_oduR7C0z",
        "colab_type": "code",
        "colab": {}
      },
      "source": [
        "mu_3 = cp.random.rand(10**4,1)\n",
        "r_3 = 2"
      ],
      "execution_count": 0,
      "outputs": []
    },
    {
      "cell_type": "code",
      "metadata": {
        "id": "3c8SaEYJ7DBh",
        "colab_type": "code",
        "colab": {}
      },
      "source": [
        "w_03 = feasible_markowitz(r_3, mu_3)"
      ],
      "execution_count": 0,
      "outputs": []
    },
    {
      "cell_type": "code",
      "metadata": {
        "id": "laY_8b247DGc",
        "colab_type": "code",
        "outputId": "1a42928b-9efa-49fa-d4e1-c4c17fa9341b",
        "colab": {
          "base_uri": "https://localhost:8080/",
          "height": 35
        }
      },
      "source": [
        "mu_3.transpose()@w_03"
      ],
      "execution_count": 19,
      "outputs": [
        {
          "output_type": "execute_result",
          "data": {
            "text/plain": [
              "array([2.])"
            ]
          },
          "metadata": {
            "tags": []
          },
          "execution_count": 19
        }
      ]
    },
    {
      "cell_type": "code",
      "metadata": {
        "id": "PgE_jl37RDJG",
        "colab_type": "code",
        "colab": {
          "base_uri": "https://localhost:8080/",
          "height": 35
        },
        "outputId": "b656d437-27e5-4ffb-cad2-5cb6029fab17"
      },
      "source": [
        "abs((mu_3.transpose()@w_03-r_3)/mu_3.transpose()@w_03)"
      ],
      "execution_count": 20,
      "outputs": [
        {
          "output_type": "execute_result",
          "data": {
            "text/plain": [
              "array([4.14303928e-09])"
            ]
          },
          "metadata": {
            "tags": []
          },
          "execution_count": 20
        }
      ]
    },
    {
      "cell_type": "code",
      "metadata": {
        "id": "8eY12BGn7J8u",
        "colab_type": "code",
        "outputId": "4974fe24-da7c-49de-acb8-94e5e6007f3f",
        "colab": {
          "base_uri": "https://localhost:8080/",
          "height": 35
        }
      },
      "source": [
        "sum(w_03)"
      ],
      "execution_count": 21,
      "outputs": [
        {
          "output_type": "execute_result",
          "data": {
            "text/plain": [
              "array(1.)"
            ]
          },
          "metadata": {
            "tags": []
          },
          "execution_count": 21
        }
      ]
    },
    {
      "cell_type": "code",
      "metadata": {
        "id": "b2AldnFcPCXk",
        "colab_type": "code",
        "colab": {
          "base_uri": "https://localhost:8080/",
          "height": 35
        },
        "outputId": "d3d196da-45d1-4bfe-81a8-6dced94afe69"
      },
      "source": [
        "abs((sum(w_03)-1)/sum(w_03))"
      ],
      "execution_count": 22,
      "outputs": [
        {
          "output_type": "execute_result",
          "data": {
            "text/plain": [
              "array(2.78244094e-12)"
            ]
          },
          "metadata": {
            "tags": []
          },
          "execution_count": 22
        }
      ]
    },
    {
      "cell_type": "markdown",
      "metadata": {
        "id": "0gs5NifgPHF7",
        "colab_type": "text"
      },
      "source": [
        "$n = 10 ^5$ y $r=2$"
      ]
    },
    {
      "cell_type": "code",
      "metadata": {
        "id": "BaYUUBTsPHQY",
        "colab_type": "code",
        "colab": {}
      },
      "source": [
        "mu_4 = cp.random.rand(10**5,1)\n",
        "r_4 = 2"
      ],
      "execution_count": 0,
      "outputs": []
    },
    {
      "cell_type": "code",
      "metadata": {
        "id": "pIzutzq2POy8",
        "colab_type": "code",
        "colab": {
          "base_uri": "https://localhost:8080/",
          "height": 744
        },
        "outputId": "0bf25cab-8ac2-489b-fb50-62b2114aae2d"
      },
      "source": [
        "w_04 = feasible_markowitz(r_4, mu_4)"
      ],
      "execution_count": 24,
      "outputs": [
        {
          "output_type": "error",
          "ename": "OutOfMemoryError",
          "evalue": "ignored",
          "traceback": [
            "\u001b[0;31m---------------------------------------------------------------------------\u001b[0m",
            "\u001b[0;31mOutOfMemoryError\u001b[0m                          Traceback (most recent call last)",
            "\u001b[0;32m<ipython-input-24-8e9c79ca2237>\u001b[0m in \u001b[0;36m<module>\u001b[0;34m()\u001b[0m\n\u001b[0;32m----> 1\u001b[0;31m \u001b[0mw_04\u001b[0m \u001b[0;34m=\u001b[0m \u001b[0mfeasible_markowitz\u001b[0m\u001b[0;34m(\u001b[0m\u001b[0mr_4\u001b[0m\u001b[0;34m,\u001b[0m \u001b[0mmu_4\u001b[0m\u001b[0;34m)\u001b[0m\u001b[0;34m\u001b[0m\u001b[0;34m\u001b[0m\u001b[0m\n\u001b[0m",
            "\u001b[0;32m<ipython-input-3-f25282940f0b>\u001b[0m in \u001b[0;36mfeasible_markowitz\u001b[0;34m(r, mu)\u001b[0m\n\u001b[1;32m     20\u001b[0m \u001b[0;34m\u001b[0m\u001b[0m\n\u001b[1;32m     21\u001b[0m   \u001b[0;31m# Resuelve ecuaciones normales\u001b[0m\u001b[0;34m\u001b[0m\u001b[0;34m\u001b[0m\u001b[0;34m\u001b[0m\u001b[0m\n\u001b[0;32m---> 22\u001b[0;31m   \u001b[0mw_star\u001b[0m \u001b[0;34m=\u001b[0m \u001b[0mcp\u001b[0m\u001b[0;34m.\u001b[0m\u001b[0mlinalg\u001b[0m\u001b[0;34m.\u001b[0m\u001b[0msolve\u001b[0m\u001b[0;34m(\u001b[0m\u001b[0mM\u001b[0m\u001b[0;34m.\u001b[0m\u001b[0mtranspose\u001b[0m\u001b[0;34m(\u001b[0m\u001b[0;34m)\u001b[0m\u001b[0;34m@\u001b[0m\u001b[0mM\u001b[0m\u001b[0;34m,\u001b[0m\u001b[0mM\u001b[0m\u001b[0;34m.\u001b[0m\u001b[0mtranspose\u001b[0m\u001b[0;34m(\u001b[0m\u001b[0;34m)\u001b[0m\u001b[0;34m@\u001b[0m\u001b[0mb\u001b[0m\u001b[0;34m)\u001b[0m\u001b[0;34m\u001b[0m\u001b[0;34m\u001b[0m\u001b[0m\n\u001b[0m\u001b[1;32m     23\u001b[0m \u001b[0;34m\u001b[0m\u001b[0m\n\u001b[1;32m     24\u001b[0m   \u001b[0;32mreturn\u001b[0m \u001b[0mw_star\u001b[0m\u001b[0;34m\u001b[0m\u001b[0;34m\u001b[0m\u001b[0m\n",
            "\u001b[0;32mcupy/core/core.pyx\u001b[0m in \u001b[0;36mcupy.core.core.ndarray.__matmul__\u001b[0;34m()\u001b[0m\n",
            "\u001b[0;32mcupy/core/core.pyx\u001b[0m in \u001b[0;36mcupy.core.core.matmul\u001b[0;34m()\u001b[0m\n",
            "\u001b[0;32mcupy/core/core.pyx\u001b[0m in \u001b[0;36mcupy.core.core.dot\u001b[0;34m()\u001b[0m\n",
            "\u001b[0;32mcupy/core/core.pyx\u001b[0m in \u001b[0;36mcupy.core.core.tensordot_core\u001b[0;34m()\u001b[0m\n",
            "\u001b[0;32mcupy/core/core.pyx\u001b[0m in \u001b[0;36mcupy.core.core._ndarray_init\u001b[0;34m()\u001b[0m\n",
            "\u001b[0;32mcupy/core/core.pyx\u001b[0m in \u001b[0;36mcupy.core.core.ndarray._init_fast\u001b[0;34m()\u001b[0m\n",
            "\u001b[0;32mcupy/cuda/memory.pyx\u001b[0m in \u001b[0;36mcupy.cuda.memory.alloc\u001b[0;34m()\u001b[0m\n",
            "\u001b[0;32mcupy/cuda/memory.pyx\u001b[0m in \u001b[0;36mcupy.cuda.memory.MemoryPool.malloc\u001b[0;34m()\u001b[0m\n",
            "\u001b[0;32mcupy/cuda/memory.pyx\u001b[0m in \u001b[0;36mcupy.cuda.memory.MemoryPool.malloc\u001b[0;34m()\u001b[0m\n",
            "\u001b[0;32mcupy/cuda/memory.pyx\u001b[0m in \u001b[0;36mcupy.cuda.memory.SingleDeviceMemoryPool.malloc\u001b[0;34m()\u001b[0m\n",
            "\u001b[0;32mcupy/cuda/memory.pyx\u001b[0m in \u001b[0;36mcupy.cuda.memory.SingleDeviceMemoryPool._malloc\u001b[0;34m()\u001b[0m\n",
            "\u001b[0;32mcupy/cuda/memory.pyx\u001b[0m in \u001b[0;36mcupy.cuda.memory._try_malloc\u001b[0;34m()\u001b[0m\n",
            "\u001b[0;31mOutOfMemoryError\u001b[0m: Out of memory allocating 80,000,000,000 bytes (allocated so far: 2,447,452,160 bytes)."
          ]
        }
      ]
    },
    {
      "cell_type": "markdown",
      "metadata": {
        "id": "sbl8KZk5TE96",
        "colab_type": "text"
      },
      "source": [
        "Debido a la capacidad computación de ejecución la prueba falló.\n",
        "\n",
        "Realizamos la prueba con distinta r."
      ]
    },
    {
      "cell_type": "markdown",
      "metadata": {
        "id": "hTW_H0R8QOD_",
        "colab_type": "text"
      },
      "source": [
        "$n=10$, $r=3$"
      ]
    },
    {
      "cell_type": "code",
      "metadata": {
        "id": "Z1WcNGpgQLW1",
        "colab_type": "code",
        "colab": {}
      },
      "source": [
        "mu_5 = cp.random.rand(10, 1)\n",
        "r_5 = 3\n"
      ],
      "execution_count": 0,
      "outputs": []
    },
    {
      "cell_type": "code",
      "metadata": {
        "id": "ykQFP5GFQPxV",
        "colab_type": "code",
        "colab": {}
      },
      "source": [
        "w_05 = feasible_markowitz(r_5, mu_5)"
      ],
      "execution_count": 0,
      "outputs": []
    },
    {
      "cell_type": "code",
      "metadata": {
        "id": "Ikur6lCQQeXn",
        "colab_type": "code",
        "colab": {
          "base_uri": "https://localhost:8080/",
          "height": 35
        },
        "outputId": "58302513-7b03-4c17-bf19-defd77cc1842"
      },
      "source": [
        "mu_5.transpose()@w_05"
      ],
      "execution_count": 27,
      "outputs": [
        {
          "output_type": "execute_result",
          "data": {
            "text/plain": [
              "array([3.])"
            ]
          },
          "metadata": {
            "tags": []
          },
          "execution_count": 27
        }
      ]
    },
    {
      "cell_type": "code",
      "metadata": {
        "id": "xgQodLK_Qsi6",
        "colab_type": "code",
        "colab": {
          "base_uri": "https://localhost:8080/",
          "height": 35
        },
        "outputId": "14afac34-4e14-4bbe-e992-4897a16a0204"
      },
      "source": [
        "abs((mu_5.transpose()@w_05-r_5)/mu_5.transpose()@w_05)"
      ],
      "execution_count": 28,
      "outputs": [
        {
          "output_type": "execute_result",
          "data": {
            "text/plain": [
              "array([6.81051807e-12])"
            ]
          },
          "metadata": {
            "tags": []
          },
          "execution_count": 28
        }
      ]
    },
    {
      "cell_type": "code",
      "metadata": {
        "id": "G83dM3-sQsr1",
        "colab_type": "code",
        "colab": {
          "base_uri": "https://localhost:8080/",
          "height": 35
        },
        "outputId": "5332ea83-cefa-4563-f9e5-ec822c378d51"
      },
      "source": [
        "sum(w_05)"
      ],
      "execution_count": 29,
      "outputs": [
        {
          "output_type": "execute_result",
          "data": {
            "text/plain": [
              "array(1.)"
            ]
          },
          "metadata": {
            "tags": []
          },
          "execution_count": 29
        }
      ]
    },
    {
      "cell_type": "code",
      "metadata": {
        "id": "M9SCMJC2Qo5L",
        "colab_type": "code",
        "colab": {
          "base_uri": "https://localhost:8080/",
          "height": 35
        },
        "outputId": "46f31e94-8bd2-4398-9f91-73b9ab3d9a1a"
      },
      "source": [
        "abs((sum(w_05)-1)/sum(w_05))"
      ],
      "execution_count": 30,
      "outputs": [
        {
          "output_type": "execute_result",
          "data": {
            "text/plain": [
              "array(7.10542736e-15)"
            ]
          },
          "metadata": {
            "tags": []
          },
          "execution_count": 30
        }
      ]
    },
    {
      "cell_type": "markdown",
      "metadata": {
        "id": "U2GirskxRf75",
        "colab_type": "text"
      },
      "source": [
        "$n=10^3$ y $r=3$"
      ]
    },
    {
      "cell_type": "code",
      "metadata": {
        "id": "bEqctpqwQrFe",
        "colab_type": "code",
        "colab": {}
      },
      "source": [
        "mu_6 = cp.random.rand(10**3,1)\n",
        "r_6 = 3"
      ],
      "execution_count": 0,
      "outputs": []
    },
    {
      "cell_type": "code",
      "metadata": {
        "id": "3IwEjxAsRs7y",
        "colab_type": "code",
        "colab": {}
      },
      "source": [
        "w_06 = feasible_markowitz(r_6, mu_6)"
      ],
      "execution_count": 0,
      "outputs": []
    },
    {
      "cell_type": "code",
      "metadata": {
        "id": "BLorhwSLRx5g",
        "colab_type": "code",
        "colab": {
          "base_uri": "https://localhost:8080/",
          "height": 35
        },
        "outputId": "5ab159fb-7d1f-4e7b-9049-69ab030c7cb2"
      },
      "source": [
        "mu_6.transpose()@w_06"
      ],
      "execution_count": 33,
      "outputs": [
        {
          "output_type": "execute_result",
          "data": {
            "text/plain": [
              "array([3.])"
            ]
          },
          "metadata": {
            "tags": []
          },
          "execution_count": 33
        }
      ]
    },
    {
      "cell_type": "code",
      "metadata": {
        "id": "utrJ7ZpdR2Vq",
        "colab_type": "code",
        "colab": {
          "base_uri": "https://localhost:8080/",
          "height": 35
        },
        "outputId": "d3cc598f-ccae-4c1d-ebaf-1df90c6a6a95"
      },
      "source": [
        "abs((mu_6.transpose()@w_06-r_6)/mu_6.transpose()@w_06)"
      ],
      "execution_count": 34,
      "outputs": [
        {
          "output_type": "execute_result",
          "data": {
            "text/plain": [
              "array([1.93182445e-10])"
            ]
          },
          "metadata": {
            "tags": []
          },
          "execution_count": 34
        }
      ]
    },
    {
      "cell_type": "code",
      "metadata": {
        "id": "Z4qg1e9PR5fJ",
        "colab_type": "code",
        "colab": {
          "base_uri": "https://localhost:8080/",
          "height": 35
        },
        "outputId": "8a34dc6c-430f-4e02-d4e7-3518161958ed"
      },
      "source": [
        "sum(w_06)"
      ],
      "execution_count": 35,
      "outputs": [
        {
          "output_type": "execute_result",
          "data": {
            "text/plain": [
              "array(1.)"
            ]
          },
          "metadata": {
            "tags": []
          },
          "execution_count": 35
        }
      ]
    },
    {
      "cell_type": "code",
      "metadata": {
        "id": "u1aP3r9wR9ix",
        "colab_type": "code",
        "colab": {
          "base_uri": "https://localhost:8080/",
          "height": 35
        },
        "outputId": "61ed45be-d037-4132-82f8-fa3b4f1e4150"
      },
      "source": [
        "abs((sum(w_06)-1)/sum(w_06))"
      ],
      "execution_count": 36,
      "outputs": [
        {
          "output_type": "execute_result",
          "data": {
            "text/plain": [
              "array(5.46229728e-14)"
            ]
          },
          "metadata": {
            "tags": []
          },
          "execution_count": 36
        }
      ]
    },
    {
      "cell_type": "markdown",
      "metadata": {
        "id": "I4o673HkSHRB",
        "colab_type": "text"
      },
      "source": [
        "$n=10^4$ y $r=3$"
      ]
    },
    {
      "cell_type": "code",
      "metadata": {
        "id": "pFk-Qb6MSALA",
        "colab_type": "code",
        "colab": {}
      },
      "source": [
        "mu_7 = cp.random.rand(10**4,1)\n",
        "r_7 = 3"
      ],
      "execution_count": 0,
      "outputs": []
    },
    {
      "cell_type": "code",
      "metadata": {
        "id": "ALwyjBaJSNWA",
        "colab_type": "code",
        "colab": {}
      },
      "source": [
        "w_07 = feasible_markowitz(r_7, mu_7)"
      ],
      "execution_count": 0,
      "outputs": []
    },
    {
      "cell_type": "code",
      "metadata": {
        "id": "olkaO6SFSRGF",
        "colab_type": "code",
        "colab": {
          "base_uri": "https://localhost:8080/",
          "height": 35
        },
        "outputId": "d4468a6d-48e2-429f-c02a-5c3f60c8641d"
      },
      "source": [
        "mu_7.transpose()@w_07"
      ],
      "execution_count": 39,
      "outputs": [
        {
          "output_type": "execute_result",
          "data": {
            "text/plain": [
              "array([3.])"
            ]
          },
          "metadata": {
            "tags": []
          },
          "execution_count": 39
        }
      ]
    },
    {
      "cell_type": "code",
      "metadata": {
        "id": "LsN0DkcISUKE",
        "colab_type": "code",
        "colab": {
          "base_uri": "https://localhost:8080/",
          "height": 35
        },
        "outputId": "cb77545f-7745-4dc9-b7bc-e37fb2cee30a"
      },
      "source": [
        "abs((mu_7.transpose()@w_07-r_7)/mu_7.transpose()@w_07)"
      ],
      "execution_count": 40,
      "outputs": [
        {
          "output_type": "execute_result",
          "data": {
            "text/plain": [
              "array([2.7648041e-06])"
            ]
          },
          "metadata": {
            "tags": []
          },
          "execution_count": 40
        }
      ]
    },
    {
      "cell_type": "code",
      "metadata": {
        "id": "KVn5pzG6SaA6",
        "colab_type": "code",
        "colab": {
          "base_uri": "https://localhost:8080/",
          "height": 35
        },
        "outputId": "f1e3695a-7504-4116-9fa0-d1a78486b547"
      },
      "source": [
        "sum(w_07)"
      ],
      "execution_count": 41,
      "outputs": [
        {
          "output_type": "execute_result",
          "data": {
            "text/plain": [
              "array(1.)"
            ]
          },
          "metadata": {
            "tags": []
          },
          "execution_count": 41
        }
      ]
    },
    {
      "cell_type": "code",
      "metadata": {
        "id": "DQiQN9jQScly",
        "colab_type": "code",
        "colab": {
          "base_uri": "https://localhost:8080/",
          "height": 35
        },
        "outputId": "9cff2fec-303c-4f1e-da7d-56cdc31547f3"
      },
      "source": [
        "abs((sum(w_07)-1)/sum(w_07))"
      ],
      "execution_count": 42,
      "outputs": [
        {
          "output_type": "execute_result",
          "data": {
            "text/plain": [
              "array(1.79412041e-13)"
            ]
          },
          "metadata": {
            "tags": []
          },
          "execution_count": 42
        }
      ]
    },
    {
      "cell_type": "markdown",
      "metadata": {
        "id": "_9ayX1JtHdli",
        "colab_type": "text"
      },
      "source": [
        "# Hallazgos\n",
        "\n",
        "El código funciona de manera correcta para distintos tamaños de arreglos de rendimientos de acciones.\n",
        "\n",
        "Las funciones generan unos valores con una exactitud de hasta 16 dígitos correctos. \n",
        "\n",
        "Debido a la capacidad computación de ejecución la prueba falló para arreglos con dimensión mayor a $10^5$\n",
        "\n",
        "**Nota**: Los tests fueron realizados en google colaboratory con GPU como entorno de ejecución."
      ]
    }
  ]
}